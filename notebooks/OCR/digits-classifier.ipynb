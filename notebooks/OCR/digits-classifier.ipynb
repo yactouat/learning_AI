{
 "cells": [
  {
   "cell_type": "markdown",
   "metadata": {},
   "source": [
    "# Digits classifier\n",
    "\n",
    "Let's build a model that is able to recognize the digits 3 and 7."
   ]
  },
  {
   "cell_type": "code",
   "execution_count": 1,
   "metadata": {},
   "outputs": [],
   "source": [
    "# loading and setting up dependencies\n",
    "import fastbook\n",
    "\n",
    "fastbook.setup_book()\n",
    "\n",
    "from fastai.vision.all import *\n",
    "from fastbook import *\n",
    "from matplotlib import pyplot as plt\n",
    "from torch.nn import functional as F"
   ]
  },
  {
   "cell_type": "markdown",
   "metadata": {},
   "source": [
    "## Importing the dataset"
   ]
  },
  {
   "cell_type": "code",
   "execution_count": 6,
   "metadata": {},
   "outputs": [
    {
     "data": {
      "text/plain": [
       "(#3) [Path('train'),Path('labels.csv'),Path('valid')]"
      ]
     },
     "execution_count": 6,
     "metadata": {},
     "output_type": "execute_result"
    }
   ],
   "source": [
    "# import MNIST sample that only contains 3s and 7s\n",
    "path_to_mnist_sample = untar_data(URLs.MNIST_SAMPLE)\n",
    "Path.BASE_PATH = path_to_mnist_sample\n",
    "\n",
    "path_to_mnist_sample.ls()"
   ]
  },
  {
   "cell_type": "markdown",
   "metadata": {},
   "source": [
    "As you can see from the previous output, this dataset is organized into separate folders for training and validation sets."
   ]
  },
  {
   "cell_type": "markdown",
   "metadata": {},
   "source": [
    "There is also a `labels.csv` file that provides the actual label for each of the training images. We can load this into a dataframe using Pandas. This an alternative way of processing training and validation data instead of relying only on the folder."
   ]
  },
  {
   "cell_type": "code",
   "execution_count": 7,
   "metadata": {},
   "outputs": [
    {
     "data": {
      "text/html": [
       "<div>\n",
       "<style scoped>\n",
       "    .dataframe tbody tr th:only-of-type {\n",
       "        vertical-align: middle;\n",
       "    }\n",
       "\n",
       "    .dataframe tbody tr th {\n",
       "        vertical-align: top;\n",
       "    }\n",
       "\n",
       "    .dataframe thead th {\n",
       "        text-align: right;\n",
       "    }\n",
       "</style>\n",
       "<table border=\"1\" class=\"dataframe\">\n",
       "  <thead>\n",
       "    <tr style=\"text-align: right;\">\n",
       "      <th></th>\n",
       "      <th>name</th>\n",
       "      <th>label</th>\n",
       "    </tr>\n",
       "  </thead>\n",
       "  <tbody>\n",
       "    <tr>\n",
       "      <th>0</th>\n",
       "      <td>train/3/7463.png</td>\n",
       "      <td>0</td>\n",
       "    </tr>\n",
       "    <tr>\n",
       "      <th>1</th>\n",
       "      <td>train/3/21102.png</td>\n",
       "      <td>0</td>\n",
       "    </tr>\n",
       "    <tr>\n",
       "      <th>2</th>\n",
       "      <td>train/3/31559.png</td>\n",
       "      <td>0</td>\n",
       "    </tr>\n",
       "    <tr>\n",
       "      <th>3</th>\n",
       "      <td>train/3/46882.png</td>\n",
       "      <td>0</td>\n",
       "    </tr>\n",
       "    <tr>\n",
       "      <th>4</th>\n",
       "      <td>train/3/26209.png</td>\n",
       "      <td>0</td>\n",
       "    </tr>\n",
       "  </tbody>\n",
       "</table>\n",
       "</div>"
      ],
      "text/plain": [
       "                name  label\n",
       "0   train/3/7463.png      0\n",
       "1  train/3/21102.png      0\n",
       "2  train/3/31559.png      0\n",
       "3  train/3/46882.png      0\n",
       "4  train/3/26209.png      0"
      ]
     },
     "execution_count": 7,
     "metadata": {},
     "output_type": "execute_result"
    }
   ],
   "source": [
    "mnist_sample_labels_df = pd.read_csv(path_to_mnist_sample / \"labels.csv\")\n",
    "mnist_sample_labels_df.head()"
   ]
  },
  {
   "cell_type": "code",
   "execution_count": 8,
   "metadata": {},
   "outputs": [
    {
     "data": {
      "text/plain": [
       "(#2) [Path('train/3'),Path('train/7')]"
      ]
     },
     "execution_count": 8,
     "metadata": {},
     "output_type": "execute_result"
    }
   ],
   "source": [
    "# let's see what's inside the training set\n",
    "(path_to_mnist_sample/'train').ls()"
   ]
  },
  {
   "cell_type": "markdown",
   "metadata": {},
   "source": [
    "We are confirming here that the training sample contains 7's and 3's only. These are our _labels_. Let's zoom in a little more into the folder structure."
   ]
  },
  {
   "cell_type": "code",
   "execution_count": 9,
   "metadata": {},
   "outputs": [
    {
     "data": {
      "text/plain": [
       "(#6131) [Path('train/3/10.png'),Path('train/3/10000.png'),Path('train/3/10011.png'),Path('train/3/10031.png'),Path('train/3/10034.png'),Path('train/3/10042.png'),Path('train/3/10052.png'),Path('train/3/1007.png'),Path('train/3/10074.png'),Path('train/3/10091.png')...]"
      ]
     },
     "execution_count": 9,
     "metadata": {},
     "output_type": "execute_result"
    }
   ],
   "source": [
    "mnist_threes = (path_to_mnist_sample/'train'/'3').ls().sorted()\n",
    "mnist_sevens = (path_to_mnist_sample/'train'/'7').ls().sorted()\n",
    "mnist_threes"
   ]
  },
  {
   "cell_type": "markdown",
   "metadata": {},
   "source": [
    "## Images as array of numbers, e.g. tensors"
   ]
  },
  {
   "cell_type": "code",
   "execution_count": 18,
   "metadata": {},
   "outputs": [
    {
     "data": {
      "image/jpeg": "[encoded data removed]",
      "image/png": "[encoded data removed]",
      "text/plain": [
       "<PIL.PngImagePlugin.PngImageFile image mode=L size=28x28>"
      ]
     },
     "execution_count": 18,
     "metadata": {},
     "output_type": "execute_result"
    }
   ],
   "source": [
    "# let's look at one image\n",
    "mnist_3_example = mnist_threes[1]\n",
    "ex3_numpy_array = Image.open(mnist_3_example)\n",
    "ex3_numpy_array"
   ]
  },
  {
   "cell_type": "code",
   "execution_count": 19,
   "metadata": {},
   "outputs": [
    {
     "data": {
      "text/plain": [
       "array([[  0,   0,   0,   0,   0,   0,   0,   0,   0,   0,   0,   0,   0,   0,   0,   0,   0,   0,   0,   0,   0,   0,   0,   0,   0,   0,   0,   0],\n",
       "       [  0,   0,   0,   0,   0,   0,   0,   0,   0,   0,   0,   0,   0,   0,   0,   0,   0,   0,   0,   0,   0,   0,   0,   0,   0,   0,   0,   0],\n",
       "       [  0,   0,   0,   0,   0,   0,   0,   0,   0,   0,   0,   0,   0,   0,   0,   0,   0,   0,   0,   0,   0,   0,   0,   0,   0,   0,   0,   0],\n",
       "       [  0,   0,   0,   0,   0,   0,   0,   0,   0,   0,   0,   0,   0,   0,   0,   0,   0,   0,   0,   0,   0,   0,   0,   0,   0,   0,   0,   0],\n",
       "       [  0,   0,   0,   0,   0,   0,   0,   0,   0,   0,   0,   0,   0,   0,   0,   0,   0,   0,   0,   0,   0,   0,   0,   0,   0,   0,   0,   0],\n",
       "       [  0,   0,   0,   0,   0,   0,   0,   0,   0,  29, 150, 195, 254, 255, 254, 176, 193, 150,  96,   0,   0,   0,   0,   0,   0,   0,   0,   0],\n",
       "       [  0,   0,   0,   0,   0,   0,   0,  48, 166, 224, 253, 253, 234, 196, 253, 253, 253, 253, 233,   0,   0,   0,   0,   0,   0,   0,   0,   0],\n",
       "       [  0,   0,   0,   0,   0,  93, 244, 249, 253, 187,  46,  10,   8,   4,  10, 194, 253, 253, 233,   0,   0,   0,   0,   0,   0,   0,   0,   0],\n",
       "       [  0,   0,   0,   0,   0, 107, 253, 253, 230,  48,   0,   0,   0,   0,   0, 192, 253, 253, 156,   0,   0,   0,   0,   0,   0,   0,   0,   0],\n",
       "       [  0,   0,   0,   0,   0,   3,  20,  20,  15,   0,   0,   0,   0,   0,  43, 224, 253, 245,  74,   0,   0,   0,   0,   0,   0,   0,   0,   0],\n",
       "       [  0,   0,   0,   0,   0,   0,   0,   0,   0,   0,   0,   0,   0,   0, 249, 253, 245, 126,   0,   0,   0,   0,   0,   0,   0,   0,   0,   0],\n",
       "       [  0,   0,   0,   0,   0,   0,   0,   0,   0,   0,   0,  14, 101, 223, 253, 248, 124,   0,   0,   0,   0,   0,   0,   0,   0,   0,   0,   0],\n",
       "       [  0,   0,   0,   0,   0,   0,   0,   0,   0,  11, 166, 239, 253, 253, 253, 187,  30,   0,   0,   0,   0,   0,   0,   0,   0,   0,   0,   0],\n",
       "       [  0,   0,   0,   0,   0,   0,   0,   0,   0,  16, 248, 250, 253, 253, 253, 253, 232, 213, 111,   2,   0,   0,   0,   0,   0,   0,   0,   0],\n",
       "       [  0,   0,   0,   0,   0,   0,   0,   0,   0,   0,   0,  43,  98,  98, 208, 253, 253, 253, 253, 187,  22,   0,   0,   0,   0,   0,   0,   0],\n",
       "       [  0,   0,   0,   0,   0,   0,   0,   0,   0,   0,   0,   0,   0,   0,   9,  51, 119, 253, 253, 253,  76,   0,   0,   0,   0,   0,   0,   0],\n",
       "       [  0,   0,   0,   0,   0,   0,   0,   0,   0,   0,   0,   0,   0,   0,   0,   0,   1, 183, 253, 253, 139,   0,   0,   0,   0,   0,   0,   0],\n",
       "       [  0,   0,   0,   0,   0,   0,   0,   0,   0,   0,   0,   0,   0,   0,   0,   0,   0, 182, 253, 253, 104,   0,   0,   0,   0,   0,   0,   0],\n",
       "       [  0,   0,   0,   0,   0,   0,   0,   0,   0,   0,   0,   0,   0,   0,   0,   0,  85, 249, 253, 253,  36,   0,   0,   0,   0,   0,   0,   0],\n",
       "       [  0,   0,   0,   0,   0,   0,   0,   0,   0,   0,   0,   0,   0,   0,   0,  60, 214, 253, 253, 173,  11,   0,   0,   0,   0,   0,   0,   0],\n",
       "       [  0,   0,   0,   0,   0,   0,   0,   0,   0,   0,   0,   0,   0,   0,  98, 247, 253, 253, 226,   9,   0,   0,   0,   0,   0,   0,   0,   0],\n",
       "       [  0,   0,   0,   0,   0,   0,   0,   0,   0,   0,   0,   0,  42, 150, 252, 253, 253, 233,  53,   0,   0,   0,   0,   0,   0,   0,   0,   0],\n",
       "       [  0,   0,   0,   0,   0,   0,  42, 115,  42,  60, 115, 159, 240, 253, 253, 250, 175,  25,   0,   0,   0,   0,   0,   0,   0,   0,   0,   0],\n",
       "       [  0,   0,   0,   0,   0,   0, 187, 253, 253, 253, 253, 253, 253, 253, 197,  86,   0,   0,   0,   0,   0,   0,   0,   0,   0,   0,   0,   0],\n",
       "       [  0,   0,   0,   0,   0,   0, 103, 253, 253, 253, 253, 253, 232,  67,   1,   0,   0,   0,   0,   0,   0,   0,   0,   0,   0,   0,   0,   0],\n",
       "       [  0,   0,   0,   0,   0,   0,   0,   0,   0,   0,   0,   0,   0,   0,   0,   0,   0,   0,   0,   0,   0,   0,   0,   0,   0,   0,   0,   0],\n",
       "       [  0,   0,   0,   0,   0,   0,   0,   0,   0,   0,   0,   0,   0,   0,   0,   0,   0,   0,   0,   0,   0,   0,   0,   0,   0,   0,   0,   0],\n",
       "       [  0,   0,   0,   0,   0,   0,   0,   0,   0,   0,   0,   0,   0,   0,   0,   0,   0,   0,   0,   0,   0,   0,   0,   0,   0,   0,   0,   0]], dtype=uint8)"
      ]
     },
     "execution_count": 19,
     "metadata": {},
     "output_type": "execute_result"
    }
   ],
   "source": [
    "# viewing the numbers that make up that image as a `NumPy` array\n",
    "array(ex3_numpy_array)"
   ]
  },
  {
   "cell_type": "code",
   "execution_count": 20,
   "metadata": {},
   "outputs": [
    {
     "data": {
      "text/plain": [
       "array([[  0,   0,   0,   0,   0,   0],\n",
       "       [  0,   0,   0,   0,   0,  29],\n",
       "       [  0,   0,   0,  48, 166, 224],\n",
       "       [  0,  93, 244, 249, 253, 187],\n",
       "       [  0, 107, 253, 253, 230,  48],\n",
       "       [  0,   3,  20,  20,  15,   0]], dtype=uint8)"
      ]
     },
     "execution_count": 20,
     "metadata": {},
     "output_type": "execute_result"
    }
   ],
   "source": [
    "# selecting a subarray from rows 4 to 10 (not included) and columns 4 to 10 (not included)\n",
    "# `numpy` indexes from top to bottom and left to right\n",
    "array(ex3_numpy_array)[4:10,4:10] "
   ]
  },
  {
   "cell_type": "code",
   "execution_count": 21,
   "metadata": {},
   "outputs": [],
   "source": [
    "# now let's do the same thing with a `pytorch` tensor\n",
    "ex3_pytorch_tensor = tensor(ex3_numpy_array)"
   ]
  },
  {
   "cell_type": "code",
   "execution_count": 23,
   "metadata": {},
   "outputs": [
    {
     "data": {
      "text/plain": [
       "tensor([[  0,   0,   0,   0,   0,   0],\n",
       "        [  0,   0,   0,   0,   0,  29],\n",
       "        [  0,   0,   0,  48, 166, 224],\n",
       "        [  0,  93, 244, 249, 253, 187],\n",
       "        [  0, 107, 253, 253, 230,  48],\n",
       "        [  0,   3,  20,  20,  15,   0]], dtype=torch.uint8)"
      ]
     },
     "execution_count": 23,
     "metadata": {},
     "output_type": "execute_result"
    }
   ],
   "source": [
    "ex3_pytorch_tensor[4:10,4:10]"
   ]
  },
  {
   "cell_type": "code",
   "execution_count": 24,
   "metadata": {},
   "outputs": [
    {
     "data": {
      "text/html": [
       "<div>\n",
       "<style scoped>\n",
       "    .dataframe tbody tr th:only-of-type {\n",
       "        vertical-align: middle;\n",
       "    }\n",
       "\n",
       "    .dataframe tbody tr th {\n",
       "        vertical-align: top;\n",
       "    }\n",
       "\n",
       "    .dataframe thead th {\n",
       "        text-align: right;\n",
       "    }\n",
       "</style>\n",
       "<table border=\"1\" class=\"dataframe\">\n",
       "  <thead>\n",
       "    <tr style=\"text-align: right;\">\n",
       "      <th></th>\n",
       "      <th>0</th>\n",
       "      <th>1</th>\n",
       "      <th>2</th>\n",
       "      <th>3</th>\n",
       "      <th>4</th>\n",
       "      <th>5</th>\n",
       "      <th>6</th>\n",
       "      <th>7</th>\n",
       "      <th>8</th>\n",
       "      <th>9</th>\n",
       "      <th>10</th>\n",
       "      <th>11</th>\n",
       "      <th>12</th>\n",
       "      <th>13</th>\n",
       "      <th>14</th>\n",
       "      <th>15</th>\n",
       "      <th>16</th>\n",
       "      <th>17</th>\n",
       "    </tr>\n",
       "  </thead>\n",
       "  <tbody>\n",
       "    <tr>\n",
       "      <th>0</th>\n",
       "      <td>0</td>\n",
       "      <td>0</td>\n",
       "      <td>0</td>\n",
       "      <td>0</td>\n",
       "      <td>0</td>\n",
       "      <td>0</td>\n",
       "      <td>0</td>\n",
       "      <td>0</td>\n",
       "      <td>0</td>\n",
       "      <td>0</td>\n",
       "      <td>0</td>\n",
       "      <td>0</td>\n",
       "      <td>0</td>\n",
       "      <td>0</td>\n",
       "      <td>0</td>\n",
       "      <td>0</td>\n",
       "      <td>0</td>\n",
       "      <td>0</td>\n",
       "    </tr>\n",
       "    <tr>\n",
       "      <th>1</th>\n",
       "      <td>0</td>\n",
       "      <td>0</td>\n",
       "      <td>0</td>\n",
       "      <td>0</td>\n",
       "      <td>0</td>\n",
       "      <td>29</td>\n",
       "      <td>150</td>\n",
       "      <td>195</td>\n",
       "      <td>254</td>\n",
       "      <td>255</td>\n",
       "      <td>254</td>\n",
       "      <td>176</td>\n",
       "      <td>193</td>\n",
       "      <td>150</td>\n",
       "      <td>96</td>\n",
       "      <td>0</td>\n",
       "      <td>0</td>\n",
       "      <td>0</td>\n",
       "    </tr>\n",
       "    <tr>\n",
       "      <th>2</th>\n",
       "      <td>0</td>\n",
       "      <td>0</td>\n",
       "      <td>0</td>\n",
       "      <td>48</td>\n",
       "      <td>166</td>\n",
       "      <td>224</td>\n",
       "      <td>253</td>\n",
       "      <td>253</td>\n",
       "      <td>234</td>\n",
       "      <td>196</td>\n",
       "      <td>253</td>\n",
       "      <td>253</td>\n",
       "      <td>253</td>\n",
       "      <td>253</td>\n",
       "      <td>233</td>\n",
       "      <td>0</td>\n",
       "      <td>0</td>\n",
       "      <td>0</td>\n",
       "    </tr>\n",
       "    <tr>\n",
       "      <th>3</th>\n",
       "      <td>0</td>\n",
       "      <td>93</td>\n",
       "      <td>244</td>\n",
       "      <td>249</td>\n",
       "      <td>253</td>\n",
       "      <td>187</td>\n",
       "      <td>46</td>\n",
       "      <td>10</td>\n",
       "      <td>8</td>\n",
       "      <td>4</td>\n",
       "      <td>10</td>\n",
       "      <td>194</td>\n",
       "      <td>253</td>\n",
       "      <td>253</td>\n",
       "      <td>233</td>\n",
       "      <td>0</td>\n",
       "      <td>0</td>\n",
       "      <td>0</td>\n",
       "    </tr>\n",
       "    <tr>\n",
       "      <th>4</th>\n",
       "      <td>0</td>\n",
       "      <td>107</td>\n",
       "      <td>253</td>\n",
       "      <td>253</td>\n",
       "      <td>230</td>\n",
       "      <td>48</td>\n",
       "      <td>0</td>\n",
       "      <td>0</td>\n",
       "      <td>0</td>\n",
       "      <td>0</td>\n",
       "      <td>0</td>\n",
       "      <td>192</td>\n",
       "      <td>253</td>\n",
       "      <td>253</td>\n",
       "      <td>156</td>\n",
       "      <td>0</td>\n",
       "      <td>0</td>\n",
       "      <td>0</td>\n",
       "    </tr>\n",
       "    <tr>\n",
       "      <th>5</th>\n",
       "      <td>0</td>\n",
       "      <td>3</td>\n",
       "      <td>20</td>\n",
       "      <td>20</td>\n",
       "      <td>15</td>\n",
       "      <td>0</td>\n",
       "      <td>0</td>\n",
       "      <td>0</td>\n",
       "      <td>0</td>\n",
       "      <td>0</td>\n",
       "      <td>43</td>\n",
       "      <td>224</td>\n",
       "      <td>253</td>\n",
       "      <td>245</td>\n",
       "      <td>74</td>\n",
       "      <td>0</td>\n",
       "      <td>0</td>\n",
       "      <td>0</td>\n",
       "    </tr>\n",
       "    <tr>\n",
       "      <th>6</th>\n",
       "      <td>0</td>\n",
       "      <td>0</td>\n",
       "      <td>0</td>\n",
       "      <td>0</td>\n",
       "      <td>0</td>\n",
       "      <td>0</td>\n",
       "      <td>0</td>\n",
       "      <td>0</td>\n",
       "      <td>0</td>\n",
       "      <td>0</td>\n",
       "      <td>249</td>\n",
       "      <td>253</td>\n",
       "      <td>245</td>\n",
       "      <td>126</td>\n",
       "      <td>0</td>\n",
       "      <td>0</td>\n",
       "      <td>0</td>\n",
       "      <td>0</td>\n",
       "    </tr>\n",
       "    <tr>\n",
       "      <th>7</th>\n",
       "      <td>0</td>\n",
       "      <td>0</td>\n",
       "      <td>0</td>\n",
       "      <td>0</td>\n",
       "      <td>0</td>\n",
       "      <td>0</td>\n",
       "      <td>0</td>\n",
       "      <td>14</td>\n",
       "      <td>101</td>\n",
       "      <td>223</td>\n",
       "      <td>253</td>\n",
       "      <td>248</td>\n",
       "      <td>124</td>\n",
       "      <td>0</td>\n",
       "      <td>0</td>\n",
       "      <td>0</td>\n",
       "      <td>0</td>\n",
       "      <td>0</td>\n",
       "    </tr>\n",
       "    <tr>\n",
       "      <th>8</th>\n",
       "      <td>0</td>\n",
       "      <td>0</td>\n",
       "      <td>0</td>\n",
       "      <td>0</td>\n",
       "      <td>0</td>\n",
       "      <td>11</td>\n",
       "      <td>166</td>\n",
       "      <td>239</td>\n",
       "      <td>253</td>\n",
       "      <td>253</td>\n",
       "      <td>253</td>\n",
       "      <td>187</td>\n",
       "      <td>30</td>\n",
       "      <td>0</td>\n",
       "      <td>0</td>\n",
       "      <td>0</td>\n",
       "      <td>0</td>\n",
       "      <td>0</td>\n",
       "    </tr>\n",
       "    <tr>\n",
       "      <th>9</th>\n",
       "      <td>0</td>\n",
       "      <td>0</td>\n",
       "      <td>0</td>\n",
       "      <td>0</td>\n",
       "      <td>0</td>\n",
       "      <td>16</td>\n",
       "      <td>248</td>\n",
       "      <td>250</td>\n",
       "      <td>253</td>\n",
       "      <td>253</td>\n",
       "      <td>253</td>\n",
       "      <td>253</td>\n",
       "      <td>232</td>\n",
       "      <td>213</td>\n",
       "      <td>111</td>\n",
       "      <td>2</td>\n",
       "      <td>0</td>\n",
       "      <td>0</td>\n",
       "    </tr>\n",
       "    <tr>\n",
       "      <th>10</th>\n",
       "      <td>0</td>\n",
       "      <td>0</td>\n",
       "      <td>0</td>\n",
       "      <td>0</td>\n",
       "      <td>0</td>\n",
       "      <td>0</td>\n",
       "      <td>0</td>\n",
       "      <td>43</td>\n",
       "      <td>98</td>\n",
       "      <td>98</td>\n",
       "      <td>208</td>\n",
       "      <td>253</td>\n",
       "      <td>253</td>\n",
       "      <td>253</td>\n",
       "      <td>253</td>\n",
       "      <td>187</td>\n",
       "      <td>22</td>\n",
       "      <td>0</td>\n",
       "    </tr>\n",
       "  </tbody>\n",
       "</table>\n",
       "</div>"
      ],
      "text/plain": [
       "    0    1    2    3    4    5    6    7    8    9    10   11   12   13   14  \\\n",
       "0    0    0    0    0    0    0    0    0    0    0    0    0    0    0    0   \n",
       "1    0    0    0    0    0   29  150  195  254  255  254  176  193  150   96   \n",
       "2    0    0    0   48  166  224  253  253  234  196  253  253  253  253  233   \n",
       "3    0   93  244  249  253  187   46   10    8    4   10  194  253  253  233   \n",
       "4    0  107  253  253  230   48    0    0    0    0    0  192  253  253  156   \n",
       "5    0    3   20   20   15    0    0    0    0    0   43  224  253  245   74   \n",
       "6    0    0    0    0    0    0    0    0    0    0  249  253  245  126    0   \n",
       "7    0    0    0    0    0    0    0   14  101  223  253  248  124    0    0   \n",
       "8    0    0    0    0    0   11  166  239  253  253  253  187   30    0    0   \n",
       "9    0    0    0    0    0   16  248  250  253  253  253  253  232  213  111   \n",
       "10   0    0    0    0    0    0    0   43   98   98  208  253  253  253  253   \n",
       "\n",
       "     15  16  17  \n",
       "0     0   0   0  \n",
       "1     0   0   0  \n",
       "2     0   0   0  \n",
       "3     0   0   0  \n",
       "4     0   0   0  \n",
       "5     0   0   0  \n",
       "6     0   0   0  \n",
       "7     0   0   0  \n",
       "8     0   0   0  \n",
       "9     2   0   0  \n",
       "10  187  22   0  "
      ]
     },
     "execution_count": 24,
     "metadata": {},
     "output_type": "execute_result"
    }
   ],
   "source": [
    "# let's make a data frame out of the three image specimen tensor,\n",
    "# we'll only select the top part of the image\n",
    "df = pd.DataFrame(ex3_pytorch_tensor[4:15,4:22])\n",
    "df"
   ]
  },
  {
   "cell_type": "code",
   "execution_count": 26,
   "metadata": {},
   "outputs": [
    {
     "data": {
      "text/html": [
       "<style type=\"text/css\">\n",
       "#T_33fa1_row0_col0, #T_33fa1_row0_col1, #T_33fa1_row0_col2, #T_33fa1_row0_col3, #T_33fa1_row0_col4, #T_33fa1_row0_col5, #T_33fa1_row0_col6, #T_33fa1_row0_col7, #T_33fa1_row0_col8, #T_33fa1_row0_col9, #T_33fa1_row0_col10, #T_33fa1_row0_col11, #T_33fa1_row0_col12, #T_33fa1_row0_col13, #T_33fa1_row0_col14, #T_33fa1_row0_col15, #T_33fa1_row0_col16, #T_33fa1_row0_col17, #T_33fa1_row1_col0, #T_33fa1_row1_col1, #T_33fa1_row1_col2, #T_33fa1_row1_col3, #T_33fa1_row1_col4, #T_33fa1_row1_col15, #T_33fa1_row1_col16, #T_33fa1_row1_col17, #T_33fa1_row2_col0, #T_33fa1_row2_col1, #T_33fa1_row2_col2, #T_33fa1_row2_col15, #T_33fa1_row2_col16, #T_33fa1_row2_col17, #T_33fa1_row3_col0, #T_33fa1_row3_col15, #T_33fa1_row3_col16, #T_33fa1_row3_col17, #T_33fa1_row4_col0, #T_33fa1_row4_col6, #T_33fa1_row4_col7, #T_33fa1_row4_col8, #T_33fa1_row4_col9, #T_33fa1_row4_col10, #T_33fa1_row4_col15, #T_33fa1_row4_col16, #T_33fa1_row4_col17, #T_33fa1_row5_col0, #T_33fa1_row5_col5, #T_33fa1_row5_col6, #T_33fa1_row5_col7, #T_33fa1_row5_col8, #T_33fa1_row5_col9, #T_33fa1_row5_col15, #T_33fa1_row5_col16, #T_33fa1_row5_col17, #T_33fa1_row6_col0, #T_33fa1_row6_col1, #T_33fa1_row6_col2, #T_33fa1_row6_col3, #T_33fa1_row6_col4, #T_33fa1_row6_col5, #T_33fa1_row6_col6, #T_33fa1_row6_col7, #T_33fa1_row6_col8, #T_33fa1_row6_col9, #T_33fa1_row6_col14, #T_33fa1_row6_col15, #T_33fa1_row6_col16, #T_33fa1_row6_col17, #T_33fa1_row7_col0, #T_33fa1_row7_col1, #T_33fa1_row7_col2, #T_33fa1_row7_col3, #T_33fa1_row7_col4, #T_33fa1_row7_col5, #T_33fa1_row7_col6, #T_33fa1_row7_col13, #T_33fa1_row7_col14, #T_33fa1_row7_col15, #T_33fa1_row7_col16, #T_33fa1_row7_col17, #T_33fa1_row8_col0, #T_33fa1_row8_col1, #T_33fa1_row8_col2, #T_33fa1_row8_col3, #T_33fa1_row8_col4, #T_33fa1_row8_col13, #T_33fa1_row8_col14, #T_33fa1_row8_col15, #T_33fa1_row8_col16, #T_33fa1_row8_col17, #T_33fa1_row9_col0, #T_33fa1_row9_col1, #T_33fa1_row9_col2, #T_33fa1_row9_col3, #T_33fa1_row9_col4, #T_33fa1_row9_col16, #T_33fa1_row9_col17, #T_33fa1_row10_col0, #T_33fa1_row10_col1, #T_33fa1_row10_col2, #T_33fa1_row10_col3, #T_33fa1_row10_col4, #T_33fa1_row10_col5, #T_33fa1_row10_col6, #T_33fa1_row10_col17 {\n",
       "  font-size: 6pt;\n",
       "  background-color: #ffffff;\n",
       "  color: #000000;\n",
       "}\n",
       "#T_33fa1_row1_col5 {\n",
       "  font-size: 6pt;\n",
       "  background-color: #efefef;\n",
       "  color: #000000;\n",
       "}\n",
       "#T_33fa1_row1_col6, #T_33fa1_row1_col13 {\n",
       "  font-size: 6pt;\n",
       "  background-color: #7c7c7c;\n",
       "  color: #f1f1f1;\n",
       "}\n",
       "#T_33fa1_row1_col7 {\n",
       "  font-size: 6pt;\n",
       "  background-color: #4a4a4a;\n",
       "  color: #f1f1f1;\n",
       "}\n",
       "#T_33fa1_row1_col8, #T_33fa1_row1_col9, #T_33fa1_row1_col10, #T_33fa1_row2_col5, #T_33fa1_row2_col6, #T_33fa1_row2_col7, #T_33fa1_row2_col11, #T_33fa1_row2_col12, #T_33fa1_row2_col13, #T_33fa1_row3_col4, #T_33fa1_row3_col12, #T_33fa1_row3_col13, #T_33fa1_row4_col1, #T_33fa1_row4_col2, #T_33fa1_row4_col3, #T_33fa1_row4_col12, #T_33fa1_row4_col13, #T_33fa1_row5_col12, #T_33fa1_row6_col11, #T_33fa1_row9_col11, #T_33fa1_row10_col11, #T_33fa1_row10_col12, #T_33fa1_row10_col13, #T_33fa1_row10_col14, #T_33fa1_row10_col15, #T_33fa1_row10_col16 {\n",
       "  font-size: 6pt;\n",
       "  background-color: #000000;\n",
       "  color: #f1f1f1;\n",
       "}\n",
       "#T_33fa1_row1_col11 {\n",
       "  font-size: 6pt;\n",
       "  background-color: #606060;\n",
       "  color: #f1f1f1;\n",
       "}\n",
       "#T_33fa1_row1_col12 {\n",
       "  font-size: 6pt;\n",
       "  background-color: #4d4d4d;\n",
       "  color: #f1f1f1;\n",
       "}\n",
       "#T_33fa1_row1_col14 {\n",
       "  font-size: 6pt;\n",
       "  background-color: #bbbbbb;\n",
       "  color: #000000;\n",
       "}\n",
       "#T_33fa1_row2_col3 {\n",
       "  font-size: 6pt;\n",
       "  background-color: #e4e4e4;\n",
       "  color: #000000;\n",
       "}\n",
       "#T_33fa1_row2_col4, #T_33fa1_row8_col6 {\n",
       "  font-size: 6pt;\n",
       "  background-color: #6b6b6b;\n",
       "  color: #f1f1f1;\n",
       "}\n",
       "#T_33fa1_row2_col8, #T_33fa1_row2_col14, #T_33fa1_row3_col14 {\n",
       "  font-size: 6pt;\n",
       "  background-color: #171717;\n",
       "  color: #f1f1f1;\n",
       "}\n",
       "#T_33fa1_row2_col9, #T_33fa1_row3_col11 {\n",
       "  font-size: 6pt;\n",
       "  background-color: #4b4b4b;\n",
       "  color: #f1f1f1;\n",
       "}\n",
       "#T_33fa1_row2_col10, #T_33fa1_row7_col10, #T_33fa1_row8_col8, #T_33fa1_row8_col10, #T_33fa1_row9_col8, #T_33fa1_row9_col10 {\n",
       "  font-size: 6pt;\n",
       "  background-color: #010101;\n",
       "  color: #f1f1f1;\n",
       "}\n",
       "#T_33fa1_row3_col1 {\n",
       "  font-size: 6pt;\n",
       "  background-color: #272727;\n",
       "  color: #f1f1f1;\n",
       "}\n",
       "#T_33fa1_row3_col2 {\n",
       "  font-size: 6pt;\n",
       "  background-color: #0a0a0a;\n",
       "  color: #f1f1f1;\n",
       "}\n",
       "#T_33fa1_row3_col3 {\n",
       "  font-size: 6pt;\n",
       "  background-color: #050505;\n",
       "  color: #f1f1f1;\n",
       "}\n",
       "#T_33fa1_row3_col5 {\n",
       "  font-size: 6pt;\n",
       "  background-color: #333333;\n",
       "  color: #f1f1f1;\n",
       "}\n",
       "#T_33fa1_row3_col6 {\n",
       "  font-size: 6pt;\n",
       "  background-color: #e6e6e6;\n",
       "  color: #000000;\n",
       "}\n",
       "#T_33fa1_row3_col7, #T_33fa1_row3_col10 {\n",
       "  font-size: 6pt;\n",
       "  background-color: #fafafa;\n",
       "  color: #000000;\n",
       "}\n",
       "#T_33fa1_row3_col8 {\n",
       "  font-size: 6pt;\n",
       "  background-color: #fbfbfb;\n",
       "  color: #000000;\n",
       "}\n",
       "#T_33fa1_row3_col9 {\n",
       "  font-size: 6pt;\n",
       "  background-color: #fdfdfd;\n",
       "  color: #000000;\n",
       "}\n",
       "#T_33fa1_row4_col4 {\n",
       "  font-size: 6pt;\n",
       "  background-color: #1b1b1b;\n",
       "  color: #f1f1f1;\n",
       "}\n",
       "#T_33fa1_row4_col5 {\n",
       "  font-size: 6pt;\n",
       "  background-color: #e0e0e0;\n",
       "  color: #000000;\n",
       "}\n",
       "#T_33fa1_row4_col11 {\n",
       "  font-size: 6pt;\n",
       "  background-color: #4e4e4e;\n",
       "  color: #f1f1f1;\n",
       "}\n",
       "#T_33fa1_row4_col14 {\n",
       "  font-size: 6pt;\n",
       "  background-color: #767676;\n",
       "  color: #f1f1f1;\n",
       "}\n",
       "#T_33fa1_row5_col1 {\n",
       "  font-size: 6pt;\n",
       "  background-color: #fcfcfc;\n",
       "  color: #000000;\n",
       "}\n",
       "#T_33fa1_row5_col2, #T_33fa1_row5_col3 {\n",
       "  font-size: 6pt;\n",
       "  background-color: #f6f6f6;\n",
       "  color: #000000;\n",
       "}\n",
       "#T_33fa1_row5_col4, #T_33fa1_row7_col7 {\n",
       "  font-size: 6pt;\n",
       "  background-color: #f8f8f8;\n",
       "  color: #000000;\n",
       "}\n",
       "#T_33fa1_row5_col10, #T_33fa1_row10_col7 {\n",
       "  font-size: 6pt;\n",
       "  background-color: #e8e8e8;\n",
       "  color: #000000;\n",
       "}\n",
       "#T_33fa1_row5_col11 {\n",
       "  font-size: 6pt;\n",
       "  background-color: #222222;\n",
       "  color: #f1f1f1;\n",
       "}\n",
       "#T_33fa1_row5_col13, #T_33fa1_row6_col12 {\n",
       "  font-size: 6pt;\n",
       "  background-color: #090909;\n",
       "  color: #f1f1f1;\n",
       "}\n",
       "#T_33fa1_row5_col14 {\n",
       "  font-size: 6pt;\n",
       "  background-color: #d0d0d0;\n",
       "  color: #000000;\n",
       "}\n",
       "#T_33fa1_row6_col10, #T_33fa1_row7_col11, #T_33fa1_row9_col6 {\n",
       "  font-size: 6pt;\n",
       "  background-color: #060606;\n",
       "  color: #f1f1f1;\n",
       "}\n",
       "#T_33fa1_row6_col13 {\n",
       "  font-size: 6pt;\n",
       "  background-color: #979797;\n",
       "  color: #f1f1f1;\n",
       "}\n",
       "#T_33fa1_row7_col8 {\n",
       "  font-size: 6pt;\n",
       "  background-color: #b6b6b6;\n",
       "  color: #000000;\n",
       "}\n",
       "#T_33fa1_row7_col9 {\n",
       "  font-size: 6pt;\n",
       "  background-color: #252525;\n",
       "  color: #f1f1f1;\n",
       "}\n",
       "#T_33fa1_row7_col12 {\n",
       "  font-size: 6pt;\n",
       "  background-color: #999999;\n",
       "  color: #f1f1f1;\n",
       "}\n",
       "#T_33fa1_row8_col5 {\n",
       "  font-size: 6pt;\n",
       "  background-color: #f9f9f9;\n",
       "  color: #000000;\n",
       "}\n",
       "#T_33fa1_row8_col7 {\n",
       "  font-size: 6pt;\n",
       "  background-color: #101010;\n",
       "  color: #f1f1f1;\n",
       "}\n",
       "#T_33fa1_row8_col9, #T_33fa1_row9_col9 {\n",
       "  font-size: 6pt;\n",
       "  background-color: #020202;\n",
       "  color: #f1f1f1;\n",
       "}\n",
       "#T_33fa1_row8_col11 {\n",
       "  font-size: 6pt;\n",
       "  background-color: #545454;\n",
       "  color: #f1f1f1;\n",
       "}\n",
       "#T_33fa1_row8_col12 {\n",
       "  font-size: 6pt;\n",
       "  background-color: #f1f1f1;\n",
       "  color: #000000;\n",
       "}\n",
       "#T_33fa1_row9_col5 {\n",
       "  font-size: 6pt;\n",
       "  background-color: #f7f7f7;\n",
       "  color: #000000;\n",
       "}\n",
       "#T_33fa1_row9_col7 {\n",
       "  font-size: 6pt;\n",
       "  background-color: #030303;\n",
       "  color: #f1f1f1;\n",
       "}\n",
       "#T_33fa1_row9_col12 {\n",
       "  font-size: 6pt;\n",
       "  background-color: #181818;\n",
       "  color: #f1f1f1;\n",
       "}\n",
       "#T_33fa1_row9_col13 {\n",
       "  font-size: 6pt;\n",
       "  background-color: #303030;\n",
       "  color: #f1f1f1;\n",
       "}\n",
       "#T_33fa1_row9_col14 {\n",
       "  font-size: 6pt;\n",
       "  background-color: #a9a9a9;\n",
       "  color: #f1f1f1;\n",
       "}\n",
       "#T_33fa1_row9_col15 {\n",
       "  font-size: 6pt;\n",
       "  background-color: #fefefe;\n",
       "  color: #000000;\n",
       "}\n",
       "#T_33fa1_row10_col8, #T_33fa1_row10_col9 {\n",
       "  font-size: 6pt;\n",
       "  background-color: #bababa;\n",
       "  color: #000000;\n",
       "}\n",
       "#T_33fa1_row10_col10 {\n",
       "  font-size: 6pt;\n",
       "  background-color: #393939;\n",
       "  color: #f1f1f1;\n",
       "}\n",
       "</style>\n",
       "<table id=\"T_33fa1\">\n",
       "  <thead>\n",
       "    <tr>\n",
       "      <th class=\"blank level0\" >&nbsp;</th>\n",
       "      <th id=\"T_33fa1_level0_col0\" class=\"col_heading level0 col0\" >0</th>\n",
       "      <th id=\"T_33fa1_level0_col1\" class=\"col_heading level0 col1\" >1</th>\n",
       "      <th id=\"T_33fa1_level0_col2\" class=\"col_heading level0 col2\" >2</th>\n",
       "      <th id=\"T_33fa1_level0_col3\" class=\"col_heading level0 col3\" >3</th>\n",
       "      <th id=\"T_33fa1_level0_col4\" class=\"col_heading level0 col4\" >4</th>\n",
       "      <th id=\"T_33fa1_level0_col5\" class=\"col_heading level0 col5\" >5</th>\n",
       "      <th id=\"T_33fa1_level0_col6\" class=\"col_heading level0 col6\" >6</th>\n",
       "      <th id=\"T_33fa1_level0_col7\" class=\"col_heading level0 col7\" >7</th>\n",
       "      <th id=\"T_33fa1_level0_col8\" class=\"col_heading level0 col8\" >8</th>\n",
       "      <th id=\"T_33fa1_level0_col9\" class=\"col_heading level0 col9\" >9</th>\n",
       "      <th id=\"T_33fa1_level0_col10\" class=\"col_heading level0 col10\" >10</th>\n",
       "      <th id=\"T_33fa1_level0_col11\" class=\"col_heading level0 col11\" >11</th>\n",
       "      <th id=\"T_33fa1_level0_col12\" class=\"col_heading level0 col12\" >12</th>\n",
       "      <th id=\"T_33fa1_level0_col13\" class=\"col_heading level0 col13\" >13</th>\n",
       "      <th id=\"T_33fa1_level0_col14\" class=\"col_heading level0 col14\" >14</th>\n",
       "      <th id=\"T_33fa1_level0_col15\" class=\"col_heading level0 col15\" >15</th>\n",
       "      <th id=\"T_33fa1_level0_col16\" class=\"col_heading level0 col16\" >16</th>\n",
       "      <th id=\"T_33fa1_level0_col17\" class=\"col_heading level0 col17\" >17</th>\n",
       "    </tr>\n",
       "  </thead>\n",
       "  <tbody>\n",
       "    <tr>\n",
       "      <th id=\"T_33fa1_level0_row0\" class=\"row_heading level0 row0\" >0</th>\n",
       "      <td id=\"T_33fa1_row0_col0\" class=\"data row0 col0\" >0</td>\n",
       "      <td id=\"T_33fa1_row0_col1\" class=\"data row0 col1\" >0</td>\n",
       "      <td id=\"T_33fa1_row0_col2\" class=\"data row0 col2\" >0</td>\n",
       "      <td id=\"T_33fa1_row0_col3\" class=\"data row0 col3\" >0</td>\n",
       "      <td id=\"T_33fa1_row0_col4\" class=\"data row0 col4\" >0</td>\n",
       "      <td id=\"T_33fa1_row0_col5\" class=\"data row0 col5\" >0</td>\n",
       "      <td id=\"T_33fa1_row0_col6\" class=\"data row0 col6\" >0</td>\n",
       "      <td id=\"T_33fa1_row0_col7\" class=\"data row0 col7\" >0</td>\n",
       "      <td id=\"T_33fa1_row0_col8\" class=\"data row0 col8\" >0</td>\n",
       "      <td id=\"T_33fa1_row0_col9\" class=\"data row0 col9\" >0</td>\n",
       "      <td id=\"T_33fa1_row0_col10\" class=\"data row0 col10\" >0</td>\n",
       "      <td id=\"T_33fa1_row0_col11\" class=\"data row0 col11\" >0</td>\n",
       "      <td id=\"T_33fa1_row0_col12\" class=\"data row0 col12\" >0</td>\n",
       "      <td id=\"T_33fa1_row0_col13\" class=\"data row0 col13\" >0</td>\n",
       "      <td id=\"T_33fa1_row0_col14\" class=\"data row0 col14\" >0</td>\n",
       "      <td id=\"T_33fa1_row0_col15\" class=\"data row0 col15\" >0</td>\n",
       "      <td id=\"T_33fa1_row0_col16\" class=\"data row0 col16\" >0</td>\n",
       "      <td id=\"T_33fa1_row0_col17\" class=\"data row0 col17\" >0</td>\n",
       "    </tr>\n",
       "    <tr>\n",
       "      <th id=\"T_33fa1_level0_row1\" class=\"row_heading level0 row1\" >1</th>\n",
       "      <td id=\"T_33fa1_row1_col0\" class=\"data row1 col0\" >0</td>\n",
       "      <td id=\"T_33fa1_row1_col1\" class=\"data row1 col1\" >0</td>\n",
       "      <td id=\"T_33fa1_row1_col2\" class=\"data row1 col2\" >0</td>\n",
       "      <td id=\"T_33fa1_row1_col3\" class=\"data row1 col3\" >0</td>\n",
       "      <td id=\"T_33fa1_row1_col4\" class=\"data row1 col4\" >0</td>\n",
       "      <td id=\"T_33fa1_row1_col5\" class=\"data row1 col5\" >29</td>\n",
       "      <td id=\"T_33fa1_row1_col6\" class=\"data row1 col6\" >150</td>\n",
       "      <td id=\"T_33fa1_row1_col7\" class=\"data row1 col7\" >195</td>\n",
       "      <td id=\"T_33fa1_row1_col8\" class=\"data row1 col8\" >254</td>\n",
       "      <td id=\"T_33fa1_row1_col9\" class=\"data row1 col9\" >255</td>\n",
       "      <td id=\"T_33fa1_row1_col10\" class=\"data row1 col10\" >254</td>\n",
       "      <td id=\"T_33fa1_row1_col11\" class=\"data row1 col11\" >176</td>\n",
       "      <td id=\"T_33fa1_row1_col12\" class=\"data row1 col12\" >193</td>\n",
       "      <td id=\"T_33fa1_row1_col13\" class=\"data row1 col13\" >150</td>\n",
       "      <td id=\"T_33fa1_row1_col14\" class=\"data row1 col14\" >96</td>\n",
       "      <td id=\"T_33fa1_row1_col15\" class=\"data row1 col15\" >0</td>\n",
       "      <td id=\"T_33fa1_row1_col16\" class=\"data row1 col16\" >0</td>\n",
       "      <td id=\"T_33fa1_row1_col17\" class=\"data row1 col17\" >0</td>\n",
       "    </tr>\n",
       "    <tr>\n",
       "      <th id=\"T_33fa1_level0_row2\" class=\"row_heading level0 row2\" >2</th>\n",
       "      <td id=\"T_33fa1_row2_col0\" class=\"data row2 col0\" >0</td>\n",
       "      <td id=\"T_33fa1_row2_col1\" class=\"data row2 col1\" >0</td>\n",
       "      <td id=\"T_33fa1_row2_col2\" class=\"data row2 col2\" >0</td>\n",
       "      <td id=\"T_33fa1_row2_col3\" class=\"data row2 col3\" >48</td>\n",
       "      <td id=\"T_33fa1_row2_col4\" class=\"data row2 col4\" >166</td>\n",
       "      <td id=\"T_33fa1_row2_col5\" class=\"data row2 col5\" >224</td>\n",
       "      <td id=\"T_33fa1_row2_col6\" class=\"data row2 col6\" >253</td>\n",
       "      <td id=\"T_33fa1_row2_col7\" class=\"data row2 col7\" >253</td>\n",
       "      <td id=\"T_33fa1_row2_col8\" class=\"data row2 col8\" >234</td>\n",
       "      <td id=\"T_33fa1_row2_col9\" class=\"data row2 col9\" >196</td>\n",
       "      <td id=\"T_33fa1_row2_col10\" class=\"data row2 col10\" >253</td>\n",
       "      <td id=\"T_33fa1_row2_col11\" class=\"data row2 col11\" >253</td>\n",
       "      <td id=\"T_33fa1_row2_col12\" class=\"data row2 col12\" >253</td>\n",
       "      <td id=\"T_33fa1_row2_col13\" class=\"data row2 col13\" >253</td>\n",
       "      <td id=\"T_33fa1_row2_col14\" class=\"data row2 col14\" >233</td>\n",
       "      <td id=\"T_33fa1_row2_col15\" class=\"data row2 col15\" >0</td>\n",
       "      <td id=\"T_33fa1_row2_col16\" class=\"data row2 col16\" >0</td>\n",
       "      <td id=\"T_33fa1_row2_col17\" class=\"data row2 col17\" >0</td>\n",
       "    </tr>\n",
       "    <tr>\n",
       "      <th id=\"T_33fa1_level0_row3\" class=\"row_heading level0 row3\" >3</th>\n",
       "      <td id=\"T_33fa1_row3_col0\" class=\"data row3 col0\" >0</td>\n",
       "      <td id=\"T_33fa1_row3_col1\" class=\"data row3 col1\" >93</td>\n",
       "      <td id=\"T_33fa1_row3_col2\" class=\"data row3 col2\" >244</td>\n",
       "      <td id=\"T_33fa1_row3_col3\" class=\"data row3 col3\" >249</td>\n",
       "      <td id=\"T_33fa1_row3_col4\" class=\"data row3 col4\" >253</td>\n",
       "      <td id=\"T_33fa1_row3_col5\" class=\"data row3 col5\" >187</td>\n",
       "      <td id=\"T_33fa1_row3_col6\" class=\"data row3 col6\" >46</td>\n",
       "      <td id=\"T_33fa1_row3_col7\" class=\"data row3 col7\" >10</td>\n",
       "      <td id=\"T_33fa1_row3_col8\" class=\"data row3 col8\" >8</td>\n",
       "      <td id=\"T_33fa1_row3_col9\" class=\"data row3 col9\" >4</td>\n",
       "      <td id=\"T_33fa1_row3_col10\" class=\"data row3 col10\" >10</td>\n",
       "      <td id=\"T_33fa1_row3_col11\" class=\"data row3 col11\" >194</td>\n",
       "      <td id=\"T_33fa1_row3_col12\" class=\"data row3 col12\" >253</td>\n",
       "      <td id=\"T_33fa1_row3_col13\" class=\"data row3 col13\" >253</td>\n",
       "      <td id=\"T_33fa1_row3_col14\" class=\"data row3 col14\" >233</td>\n",
       "      <td id=\"T_33fa1_row3_col15\" class=\"data row3 col15\" >0</td>\n",
       "      <td id=\"T_33fa1_row3_col16\" class=\"data row3 col16\" >0</td>\n",
       "      <td id=\"T_33fa1_row3_col17\" class=\"data row3 col17\" >0</td>\n",
       "    </tr>\n",
       "    <tr>\n",
       "      <th id=\"T_33fa1_level0_row4\" class=\"row_heading level0 row4\" >4</th>\n",
       "      <td id=\"T_33fa1_row4_col0\" class=\"data row4 col0\" >0</td>\n",
       "      <td id=\"T_33fa1_row4_col1\" class=\"data row4 col1\" >107</td>\n",
       "      <td id=\"T_33fa1_row4_col2\" class=\"data row4 col2\" >253</td>\n",
       "      <td id=\"T_33fa1_row4_col3\" class=\"data row4 col3\" >253</td>\n",
       "      <td id=\"T_33fa1_row4_col4\" class=\"data row4 col4\" >230</td>\n",
       "      <td id=\"T_33fa1_row4_col5\" class=\"data row4 col5\" >48</td>\n",
       "      <td id=\"T_33fa1_row4_col6\" class=\"data row4 col6\" >0</td>\n",
       "      <td id=\"T_33fa1_row4_col7\" class=\"data row4 col7\" >0</td>\n",
       "      <td id=\"T_33fa1_row4_col8\" class=\"data row4 col8\" >0</td>\n",
       "      <td id=\"T_33fa1_row4_col9\" class=\"data row4 col9\" >0</td>\n",
       "      <td id=\"T_33fa1_row4_col10\" class=\"data row4 col10\" >0</td>\n",
       "      <td id=\"T_33fa1_row4_col11\" class=\"data row4 col11\" >192</td>\n",
       "      <td id=\"T_33fa1_row4_col12\" class=\"data row4 col12\" >253</td>\n",
       "      <td id=\"T_33fa1_row4_col13\" class=\"data row4 col13\" >253</td>\n",
       "      <td id=\"T_33fa1_row4_col14\" class=\"data row4 col14\" >156</td>\n",
       "      <td id=\"T_33fa1_row4_col15\" class=\"data row4 col15\" >0</td>\n",
       "      <td id=\"T_33fa1_row4_col16\" class=\"data row4 col16\" >0</td>\n",
       "      <td id=\"T_33fa1_row4_col17\" class=\"data row4 col17\" >0</td>\n",
       "    </tr>\n",
       "    <tr>\n",
       "      <th id=\"T_33fa1_level0_row5\" class=\"row_heading level0 row5\" >5</th>\n",
       "      <td id=\"T_33fa1_row5_col0\" class=\"data row5 col0\" >0</td>\n",
       "      <td id=\"T_33fa1_row5_col1\" class=\"data row5 col1\" >3</td>\n",
       "      <td id=\"T_33fa1_row5_col2\" class=\"data row5 col2\" >20</td>\n",
       "      <td id=\"T_33fa1_row5_col3\" class=\"data row5 col3\" >20</td>\n",
       "      <td id=\"T_33fa1_row5_col4\" class=\"data row5 col4\" >15</td>\n",
       "      <td id=\"T_33fa1_row5_col5\" class=\"data row5 col5\" >0</td>\n",
       "      <td id=\"T_33fa1_row5_col6\" class=\"data row5 col6\" >0</td>\n",
       "      <td id=\"T_33fa1_row5_col7\" class=\"data row5 col7\" >0</td>\n",
       "      <td id=\"T_33fa1_row5_col8\" class=\"data row5 col8\" >0</td>\n",
       "      <td id=\"T_33fa1_row5_col9\" class=\"data row5 col9\" >0</td>\n",
       "      <td id=\"T_33fa1_row5_col10\" class=\"data row5 col10\" >43</td>\n",
       "      <td id=\"T_33fa1_row5_col11\" class=\"data row5 col11\" >224</td>\n",
       "      <td id=\"T_33fa1_row5_col12\" class=\"data row5 col12\" >253</td>\n",
       "      <td id=\"T_33fa1_row5_col13\" class=\"data row5 col13\" >245</td>\n",
       "      <td id=\"T_33fa1_row5_col14\" class=\"data row5 col14\" >74</td>\n",
       "      <td id=\"T_33fa1_row5_col15\" class=\"data row5 col15\" >0</td>\n",
       "      <td id=\"T_33fa1_row5_col16\" class=\"data row5 col16\" >0</td>\n",
       "      <td id=\"T_33fa1_row5_col17\" class=\"data row5 col17\" >0</td>\n",
       "    </tr>\n",
       "    <tr>\n",
       "      <th id=\"T_33fa1_level0_row6\" class=\"row_heading level0 row6\" >6</th>\n",
       "      <td id=\"T_33fa1_row6_col0\" class=\"data row6 col0\" >0</td>\n",
       "      <td id=\"T_33fa1_row6_col1\" class=\"data row6 col1\" >0</td>\n",
       "      <td id=\"T_33fa1_row6_col2\" class=\"data row6 col2\" >0</td>\n",
       "      <td id=\"T_33fa1_row6_col3\" class=\"data row6 col3\" >0</td>\n",
       "      <td id=\"T_33fa1_row6_col4\" class=\"data row6 col4\" >0</td>\n",
       "      <td id=\"T_33fa1_row6_col5\" class=\"data row6 col5\" >0</td>\n",
       "      <td id=\"T_33fa1_row6_col6\" class=\"data row6 col6\" >0</td>\n",
       "      <td id=\"T_33fa1_row6_col7\" class=\"data row6 col7\" >0</td>\n",
       "      <td id=\"T_33fa1_row6_col8\" class=\"data row6 col8\" >0</td>\n",
       "      <td id=\"T_33fa1_row6_col9\" class=\"data row6 col9\" >0</td>\n",
       "      <td id=\"T_33fa1_row6_col10\" class=\"data row6 col10\" >249</td>\n",
       "      <td id=\"T_33fa1_row6_col11\" class=\"data row6 col11\" >253</td>\n",
       "      <td id=\"T_33fa1_row6_col12\" class=\"data row6 col12\" >245</td>\n",
       "      <td id=\"T_33fa1_row6_col13\" class=\"data row6 col13\" >126</td>\n",
       "      <td id=\"T_33fa1_row6_col14\" class=\"data row6 col14\" >0</td>\n",
       "      <td id=\"T_33fa1_row6_col15\" class=\"data row6 col15\" >0</td>\n",
       "      <td id=\"T_33fa1_row6_col16\" class=\"data row6 col16\" >0</td>\n",
       "      <td id=\"T_33fa1_row6_col17\" class=\"data row6 col17\" >0</td>\n",
       "    </tr>\n",
       "    <tr>\n",
       "      <th id=\"T_33fa1_level0_row7\" class=\"row_heading level0 row7\" >7</th>\n",
       "      <td id=\"T_33fa1_row7_col0\" class=\"data row7 col0\" >0</td>\n",
       "      <td id=\"T_33fa1_row7_col1\" class=\"data row7 col1\" >0</td>\n",
       "      <td id=\"T_33fa1_row7_col2\" class=\"data row7 col2\" >0</td>\n",
       "      <td id=\"T_33fa1_row7_col3\" class=\"data row7 col3\" >0</td>\n",
       "      <td id=\"T_33fa1_row7_col4\" class=\"data row7 col4\" >0</td>\n",
       "      <td id=\"T_33fa1_row7_col5\" class=\"data row7 col5\" >0</td>\n",
       "      <td id=\"T_33fa1_row7_col6\" class=\"data row7 col6\" >0</td>\n",
       "      <td id=\"T_33fa1_row7_col7\" class=\"data row7 col7\" >14</td>\n",
       "      <td id=\"T_33fa1_row7_col8\" class=\"data row7 col8\" >101</td>\n",
       "      <td id=\"T_33fa1_row7_col9\" class=\"data row7 col9\" >223</td>\n",
       "      <td id=\"T_33fa1_row7_col10\" class=\"data row7 col10\" >253</td>\n",
       "      <td id=\"T_33fa1_row7_col11\" class=\"data row7 col11\" >248</td>\n",
       "      <td id=\"T_33fa1_row7_col12\" class=\"data row7 col12\" >124</td>\n",
       "      <td id=\"T_33fa1_row7_col13\" class=\"data row7 col13\" >0</td>\n",
       "      <td id=\"T_33fa1_row7_col14\" class=\"data row7 col14\" >0</td>\n",
       "      <td id=\"T_33fa1_row7_col15\" class=\"data row7 col15\" >0</td>\n",
       "      <td id=\"T_33fa1_row7_col16\" class=\"data row7 col16\" >0</td>\n",
       "      <td id=\"T_33fa1_row7_col17\" class=\"data row7 col17\" >0</td>\n",
       "    </tr>\n",
       "    <tr>\n",
       "      <th id=\"T_33fa1_level0_row8\" class=\"row_heading level0 row8\" >8</th>\n",
       "      <td id=\"T_33fa1_row8_col0\" class=\"data row8 col0\" >0</td>\n",
       "      <td id=\"T_33fa1_row8_col1\" class=\"data row8 col1\" >0</td>\n",
       "      <td id=\"T_33fa1_row8_col2\" class=\"data row8 col2\" >0</td>\n",
       "      <td id=\"T_33fa1_row8_col3\" class=\"data row8 col3\" >0</td>\n",
       "      <td id=\"T_33fa1_row8_col4\" class=\"data row8 col4\" >0</td>\n",
       "      <td id=\"T_33fa1_row8_col5\" class=\"data row8 col5\" >11</td>\n",
       "      <td id=\"T_33fa1_row8_col6\" class=\"data row8 col6\" >166</td>\n",
       "      <td id=\"T_33fa1_row8_col7\" class=\"data row8 col7\" >239</td>\n",
       "      <td id=\"T_33fa1_row8_col8\" class=\"data row8 col8\" >253</td>\n",
       "      <td id=\"T_33fa1_row8_col9\" class=\"data row8 col9\" >253</td>\n",
       "      <td id=\"T_33fa1_row8_col10\" class=\"data row8 col10\" >253</td>\n",
       "      <td id=\"T_33fa1_row8_col11\" class=\"data row8 col11\" >187</td>\n",
       "      <td id=\"T_33fa1_row8_col12\" class=\"data row8 col12\" >30</td>\n",
       "      <td id=\"T_33fa1_row8_col13\" class=\"data row8 col13\" >0</td>\n",
       "      <td id=\"T_33fa1_row8_col14\" class=\"data row8 col14\" >0</td>\n",
       "      <td id=\"T_33fa1_row8_col15\" class=\"data row8 col15\" >0</td>\n",
       "      <td id=\"T_33fa1_row8_col16\" class=\"data row8 col16\" >0</td>\n",
       "      <td id=\"T_33fa1_row8_col17\" class=\"data row8 col17\" >0</td>\n",
       "    </tr>\n",
       "    <tr>\n",
       "      <th id=\"T_33fa1_level0_row9\" class=\"row_heading level0 row9\" >9</th>\n",
       "      <td id=\"T_33fa1_row9_col0\" class=\"data row9 col0\" >0</td>\n",
       "      <td id=\"T_33fa1_row9_col1\" class=\"data row9 col1\" >0</td>\n",
       "      <td id=\"T_33fa1_row9_col2\" class=\"data row9 col2\" >0</td>\n",
       "      <td id=\"T_33fa1_row9_col3\" class=\"data row9 col3\" >0</td>\n",
       "      <td id=\"T_33fa1_row9_col4\" class=\"data row9 col4\" >0</td>\n",
       "      <td id=\"T_33fa1_row9_col5\" class=\"data row9 col5\" >16</td>\n",
       "      <td id=\"T_33fa1_row9_col6\" class=\"data row9 col6\" >248</td>\n",
       "      <td id=\"T_33fa1_row9_col7\" class=\"data row9 col7\" >250</td>\n",
       "      <td id=\"T_33fa1_row9_col8\" class=\"data row9 col8\" >253</td>\n",
       "      <td id=\"T_33fa1_row9_col9\" class=\"data row9 col9\" >253</td>\n",
       "      <td id=\"T_33fa1_row9_col10\" class=\"data row9 col10\" >253</td>\n",
       "      <td id=\"T_33fa1_row9_col11\" class=\"data row9 col11\" >253</td>\n",
       "      <td id=\"T_33fa1_row9_col12\" class=\"data row9 col12\" >232</td>\n",
       "      <td id=\"T_33fa1_row9_col13\" class=\"data row9 col13\" >213</td>\n",
       "      <td id=\"T_33fa1_row9_col14\" class=\"data row9 col14\" >111</td>\n",
       "      <td id=\"T_33fa1_row9_col15\" class=\"data row9 col15\" >2</td>\n",
       "      <td id=\"T_33fa1_row9_col16\" class=\"data row9 col16\" >0</td>\n",
       "      <td id=\"T_33fa1_row9_col17\" class=\"data row9 col17\" >0</td>\n",
       "    </tr>\n",
       "    <tr>\n",
       "      <th id=\"T_33fa1_level0_row10\" class=\"row_heading level0 row10\" >10</th>\n",
       "      <td id=\"T_33fa1_row10_col0\" class=\"data row10 col0\" >0</td>\n",
       "      <td id=\"T_33fa1_row10_col1\" class=\"data row10 col1\" >0</td>\n",
       "      <td id=\"T_33fa1_row10_col2\" class=\"data row10 col2\" >0</td>\n",
       "      <td id=\"T_33fa1_row10_col3\" class=\"data row10 col3\" >0</td>\n",
       "      <td id=\"T_33fa1_row10_col4\" class=\"data row10 col4\" >0</td>\n",
       "      <td id=\"T_33fa1_row10_col5\" class=\"data row10 col5\" >0</td>\n",
       "      <td id=\"T_33fa1_row10_col6\" class=\"data row10 col6\" >0</td>\n",
       "      <td id=\"T_33fa1_row10_col7\" class=\"data row10 col7\" >43</td>\n",
       "      <td id=\"T_33fa1_row10_col8\" class=\"data row10 col8\" >98</td>\n",
       "      <td id=\"T_33fa1_row10_col9\" class=\"data row10 col9\" >98</td>\n",
       "      <td id=\"T_33fa1_row10_col10\" class=\"data row10 col10\" >208</td>\n",
       "      <td id=\"T_33fa1_row10_col11\" class=\"data row10 col11\" >253</td>\n",
       "      <td id=\"T_33fa1_row10_col12\" class=\"data row10 col12\" >253</td>\n",
       "      <td id=\"T_33fa1_row10_col13\" class=\"data row10 col13\" >253</td>\n",
       "      <td id=\"T_33fa1_row10_col14\" class=\"data row10 col14\" >253</td>\n",
       "      <td id=\"T_33fa1_row10_col15\" class=\"data row10 col15\" >187</td>\n",
       "      <td id=\"T_33fa1_row10_col16\" class=\"data row10 col16\" >22</td>\n",
       "      <td id=\"T_33fa1_row10_col17\" class=\"data row10 col17\" >0</td>\n",
       "    </tr>\n",
       "  </tbody>\n",
       "</table>\n"
      ],
      "text/plain": [
       "<pandas.io.formats.style.Styler at 0x7f6507753940>"
      ]
     },
     "execution_count": 26,
     "metadata": {},
     "output_type": "execute_result"
    }
   ],
   "source": [
    "# now let's color code the values\n",
    "df.style.set_properties(**{'font-size':'6pt'}).background_gradient('Greys')"
   ]
  },
  {
   "cell_type": "markdown",
   "metadata": {},
   "source": [
    "## getting on with our baseline model\n",
    "\n",
    "The _baseline_ of our classifier will be very simple, as it should be:\n",
    "\n",
    "- find the average pixel value for every pixel of the 3s\n",
    "- find the average pixel value for every pixel of the 7s\n",
    "\n",
    "This gives us group averages that we may call \"ideal\" 3s and 7s. We would first classify a digit as a 3 if the average pixel value of the digit is closer to the ideal 3 than to the ideal 7, and vice versa."
   ]
  },
  {
   "cell_type": "code",
   "execution_count": 31,
   "metadata": {},
   "outputs": [
    {
     "data": {
      "text/plain": [
       "(6131, 6265)"
      ]
     },
     "execution_count": 31,
     "metadata": {},
     "output_type": "execute_result"
    }
   ],
   "source": [
    "# create lists of tensors containing all 3s and 7s stacked together\n",
    "mnist_seven_tensors = [tensor(Image.open(digit)) for digit in mnist_sevens]\n",
    "mnist_three_tensors = [tensor(Image.open(digit)) for digit in mnist_threes]\n",
    "len(mnist_three_tensors),len(mnist_seven_tensors)"
   ]
  },
  {
   "cell_type": "code",
   "execution_count": 32,
   "metadata": {},
   "outputs": [
    {
     "data": {
      "text/plain": [
       "<Axes: >"
      ]
     },
     "execution_count": 32,
     "metadata": {},
     "output_type": "execute_result"
    },
    {
     "data": {
      "image/png": "[encoded data removed]",
      "text/plain": [
       "<Figure size 100x100 with 1 Axes>"
      ]
     },
     "metadata": {},
     "output_type": "display_data"
    }
   ],
   "source": [
    "# Jupyter ships with a function called `show_image` that knows how to render a tensor as an image\n",
    "show_image(mnist_three_tensors[1])"
   ]
  },
  {
   "cell_type": "markdown",
   "metadata": {},
   "source": [
    "## rank-3 tensors\n",
    "\n",
    "For every pixel position, we want to compute the average over all the images of the intensity of that pixel. \n",
    "\n",
    "To do this we first combine all the images in this list into a single three-dimensional tensor. \n",
    "\n",
    "The most common way to describe such a tensor is to call it a _rank-3 tensor_.\n",
    "\n",
    "See an example of what that might look like below:\n",
    "\n",
    "![rank-3 tensor.png](./rank-3-tensor.png)\n",
    "\n",
    "### how did we conclude that we needed a rank-3 tensor?\n",
    "\n",
    "- Each image is a 2d matrix of pixels (rows and columns, e.g. a _rank-2 tensor_)\n",
    "- Each element in an image matrix corresponds to a pixel intensity (a scalar value, e.g. a _rank-1 tensor_)\n",
    "- To ease computing of the average of each pixel intensity over all images, you would stack each of these matrices on top of each other: there you have it, a _rank-3 tensor_"
   ]
  },
  {
   "cell_type": "code",
   "execution_count": 34,
   "metadata": {},
   "outputs": [
    {
     "data": {
      "text/plain": [
       "torch.Size([6131, 28, 28])"
      ]
     },
     "execution_count": 34,
     "metadata": {},
     "output_type": "execute_result"
    }
   ],
   "source": [
    "# let's stack our images and cast our stacked tensors as float tensors for further computation,\n",
    "# we also normalise our pixel values to be between 0 and 1 by dividing by 255\n",
    "stacked_mnist_sevens = torch.stack(mnist_seven_tensors).float()/255\n",
    "stacked_mnist_threes = torch.stack(mnist_three_tensors).float()/255\n",
    "\n",
    "# a _shape_ tells us the length of each axis of a tensor\n",
    "stacked_mnist_threes.shape"
   ]
  },
  {
   "cell_type": "markdown",
   "metadata": {},
   "source": [
    "The previous output says to us: \"we have 6131 images, each of size 28x28 pixels\". \n",
    "\n",
    "We can define the _shape_ as **the size of each axis in a tensor**.\n",
    "\n",
    "As you may have noticed, we have also normalized the values of the pixels. We want all pixels to be between 0 and 1. By ensuring that all values are of similar scale, we improve the accuracy of our model."
   ]
  },
  {
   "cell_type": "code",
   "execution_count": 1026,
   "metadata": {},
   "outputs": [
    {
     "data": {
      "text/plain": [
       "3"
      ]
     },
     "execution_count": 1026,
     "metadata": {},
     "output_type": "execute_result"
    }
   ],
   "source": [
    "# the _length_ of a tensor's shape is its _rank_\n",
    "len(stacked_mnist_threes.shape)"
   ]
  },
  {
   "cell_type": "code",
   "execution_count": 1027,
   "metadata": {},
   "outputs": [
    {
     "data": {
      "text/plain": [
       "3"
      ]
     },
     "execution_count": 1027,
     "metadata": {},
     "output_type": "execute_result"
    }
   ],
   "source": [
    "# you could also get the rank of a tensor like so\n",
    "stacked_mnist_threes.ndim"
   ]
  },
  {
   "cell_type": "markdown",
   "metadata": {},
   "source": [
    "The _dimension_ 0 of our rank-3 tensor is the number of images.\n",
    "\n",
    "Here is how you would compute the average pixel intensity for each pixel position:"
   ]
  },
  {
   "cell_type": "code",
   "execution_count": 35,
   "metadata": {},
   "outputs": [
    {
     "data": {
      "text/plain": [
       "<Axes: >"
      ]
     },
     "execution_count": 35,
     "metadata": {},
     "output_type": "execute_result"
    },
    {
     "data": {
      "image/png": "[encoded data removed]",
      "text/plain": [
       "<Figure size 100x100 with 1 Axes>"
      ]
     },
     "metadata": {},
     "output_type": "display_data"
    }
   ],
   "source": [
    "baseline_3 = stacked_mnist_threes.mean(0)\n",
    "show_image(baseline_3)"
   ]
  },
  {
   "cell_type": "code",
   "execution_count": 36,
   "metadata": {},
   "outputs": [
    {
     "data": {
      "text/plain": [
       "<Axes: >"
      ]
     },
     "execution_count": 36,
     "metadata": {},
     "output_type": "execute_result"
    },
    {
     "data": {
      "image/png": "[encoded data removed]",
      "text/plain": [
       "<Figure size 100x100 with 1 Axes>"
      ]
     },
     "metadata": {},
     "output_type": "display_data"
    }
   ],
   "source": [
    "# let's do the same thing for the 7s\n",
    "baseline_7 = stacked_mnist_sevens.mean(0)\n",
    "show_image(baseline_7)"
   ]
  },
  {
   "cell_type": "markdown",
   "metadata": {},
   "source": [
    "## Test the baseline model\n",
    "\n",
    "Now that we have an idea of what our ideal 3 and 7 look like, we can try to classify our images. To test our baseline, we would pick an arbitrary number from the dataset and measure its distance from its _ideal_ representation."
   ]
  },
  {
   "cell_type": "code",
   "execution_count": 38,
   "metadata": {},
   "outputs": [
    {
     "data": {
      "text/plain": [
       "<Axes: >"
      ]
     },
     "execution_count": 38,
     "metadata": {},
     "output_type": "execute_result"
    },
    {
     "data": {
      "image/png": "[encoded data removed]",
      "text/plain": [
       "<Figure size 100x100 with 1 Axes>"
      ]
     },
     "metadata": {},
     "output_type": "display_data"
    }
   ],
   "source": [
    "# here is our sample number for our test\n",
    "ex3_2 = stacked_mnist_threes[1]\n",
    "show_image(ex3_2)"
   ]
  },
  {
   "cell_type": "markdown",
   "metadata": {},
   "source": [
    "To calculate the distance from the baseline `3`, we can't just add up the differences in intensity between each of the pixels of both images. It is so because some differences would cancel out (light vs dark pixels), and that would be misleading as very different pixels could have a value of zero, which would mean \"no difference from the ideal digit representation\".\n",
    "\n",
    "There are two main ways data scientists measure distance in this context:\n",
    "\n",
    "- take the mean absolute value of differences: this is called _mean absolute difference_ or _L1 norm_\n",
    "- take the mean of the square of differences (which makes everything positive) and then take the square root (which undoes the squaring): this is called _root mean squared error_ or _L2 norm_"
   ]
  },
  {
   "cell_type": "code",
   "execution_count": 39,
   "metadata": {},
   "outputs": [
    {
     "data": {
      "text/plain": [
       "tensor(0.1114)"
      ]
     },
     "execution_count": 39,
     "metadata": {},
     "output_type": "execute_result"
    }
   ],
   "source": [
    "# let's try the `L1` norm\n",
    "ex3_2_dist_l1 = (ex3_2 - baseline_3).abs().mean()\n",
    "\n",
    "ex3_2_dist_l1"
   ]
  },
  {
   "cell_type": "code",
   "execution_count": 40,
   "metadata": {},
   "outputs": [
    {
     "data": {
      "text/plain": [
       "tensor(0.2021)"
      ]
     },
     "execution_count": 40,
     "metadata": {},
     "output_type": "execute_result"
    }
   ],
   "source": [
    "# let's try the `L2` norm now\n",
    "ex3_2_dist_l2 = ((ex3_2 - baseline_3)**2).mean().sqrt()\n",
    "\n",
    "ex3_2_dist_l2"
   ]
  },
  {
   "cell_type": "code",
   "execution_count": 44,
   "metadata": {},
   "outputs": [
    {
     "data": {
      "text/plain": [
       "(tensor(0.1586), tensor(0.1114))"
      ]
     },
     "execution_count": 44,
     "metadata": {},
     "output_type": "execute_result"
    }
   ],
   "source": [
    "# let's check if our arbitrary number is a 3 or a 7 using both methods,\n",
    "# the closer we are to 0, the more likely it is that our number is a 3\n",
    "\n",
    "# `L1` norm\n",
    "dist7_l1 = (ex3_2 - baseline_7).abs().mean()\n",
    "dist3_l1 = (ex3_2 - baseline_3).abs().mean()\n",
    "dist7_l1, dist3_l1"
   ]
  },
  {
   "cell_type": "code",
   "execution_count": 45,
   "metadata": {},
   "outputs": [
    {
     "data": {
      "text/plain": [
       "(tensor(0.3021), tensor(0.2021))"
      ]
     },
     "execution_count": 45,
     "metadata": {},
     "output_type": "execute_result"
    }
   ],
   "source": [
    "# we'll use the `L2` norm\n",
    "dist7_l2 = ((ex3_2 - baseline_7)**2).mean().sqrt()\n",
    "dist3_l2 = ((ex3_2 - baseline_3)**2).mean().sqrt()\n",
    "dist7_l2, dist3_l2"
   ]
  },
  {
   "cell_type": "markdown",
   "metadata": {},
   "source": [
    "From the little experiment we've just run, we can see that our baseline model predicts right in this particular case, as both results are greater for a 7 than they would have been for a 3.\n",
    "\n",
    "We could have done the same thing with `PyTorch`, which provides loss functions (among many other things), as shown below:"
   ]
  },
  {
   "cell_type": "code",
   "execution_count": 46,
   "metadata": {},
   "outputs": [
    {
     "data": {
      "text/plain": [
       "tensor(0.1586)"
      ]
     },
     "execution_count": 46,
     "metadata": {},
     "output_type": "execute_result"
    }
   ],
   "source": [
    "dist7_l1_torch = F.l1_loss(ex3_2.float(), baseline_7)\n",
    "dist7_l1_torch"
   ]
  },
  {
   "cell_type": "code",
   "execution_count": 47,
   "metadata": {},
   "outputs": [
    {
     "data": {
      "text/plain": [
       "tensor(0.3021)"
      ]
     },
     "execution_count": 47,
     "metadata": {},
     "output_type": "execute_result"
    }
   ],
   "source": [
    "dist7_l2_torch = F.mse_loss(ex3_2, baseline_7).sqrt()\n",
    "dist7_l2_torch"
   ]
  },
  {
   "cell_type": "markdown",
   "metadata": {},
   "source": [
    "## Defining a metric for our baseline model\n",
    "\n",
    "A metric is a number that is calculated based on the predictions of our model, and the correct labels in our dataset, in order to tell us how good our model is.\n",
    "\n",
    "In practice, _accuracy_ is a common metric for classification models.\n",
    "\n",
    "- The _error rate_ in deep learning refers to the difference between the predicted output and the actual output of a neural network. It is a measure of how well the network is performing on a given task. In this context, _accuracy_ can be defined as `1.0 - error rate`.\n",
    "\n",
    "A metric is always calculated over a _validation_ set.\n",
    "\n",
    "To get a validation set, we need to set aside some of the data of the training set entirely, so it's not seen by the model at all during training."
   ]
  },
  {
   "cell_type": "code",
   "execution_count": 48,
   "metadata": {},
   "outputs": [
    {
     "data": {
      "text/plain": [
       "(torch.Size([1010, 28, 28]), torch.Size([1028, 28, 28]))"
      ]
     },
     "execution_count": 48,
     "metadata": {},
     "output_type": "execute_result"
    }
   ],
   "source": [
    "# let's create tensors for 3s and 7s using the MNIST validation set\n",
    "mnist_validation_threes = torch.stack([tensor(Image.open(o)) for o in (path_to_mnist_sample/'valid'/'3').ls()])\n",
    "mnist_validation_threes = mnist_validation_threes.float()/255\n",
    "mnist_validation_sevens = torch.stack([tensor(Image.open(o)) for o in (path_to_mnist_sample/'valid'/'7').ls()])\n",
    "mnist_validation_sevens = mnist_validation_sevens.float()/255\n",
    "\n",
    "# here we divided both tensors by 255 to normalize the pixel values between 0 and 1\n",
    "# x images of size 28x28 pixels\n",
    "mnist_validation_threes.shape,mnist_validation_sevens.shape"
   ]
  },
  {
   "cell_type": "markdown",
   "metadata": {},
   "source": [
    "In our case we have more sevens in our validation set than threes."
   ]
  },
  {
   "cell_type": "code",
   "execution_count": 49,
   "metadata": {},
   "outputs": [
    {
     "data": {
      "text/plain": [
       "tensor(0.1114)"
      ]
     },
     "execution_count": 49,
     "metadata": {},
     "output_type": "execute_result"
    }
   ],
   "source": [
    "# now let's write the function that will give use the Mean Absolute Difference loss for a given image\n",
    "def mnist_mad_distance(a,b): return (a-b).abs().mean((-1,-2))\n",
    "mnist_mad_distance(ex3_2, baseline_3)\n"
   ]
  },
  {
   "cell_type": "markdown",
   "metadata": {},
   "source": [
    "### why `mean((-1,-2))`\n",
    "\n",
    "The `mean` function in `PyTorch` can take a tuple of axes to take the mean of. \n",
    "In this case, we want to take the mean over the last two dimensions (in this case, the horizontal and vertical dimensions of an image).\n",
    "\n",
    "The tuple `(-1,-2)` represents a range of axes.\n",
    "\n",
    "This effectively allows us to make batch calculations on rank-3 tensors, as you will see in the example below."
   ]
  },
  {
   "cell_type": "code",
   "execution_count": 51,
   "metadata": {},
   "outputs": [
    {
     "data": {
      "text/plain": [
       "(tensor([0.1463, 0.1526, 0.1214,  ..., 0.1360, 0.1326, 0.1422]),\n",
       " torch.Size([1010, 28, 28]),\n",
       " torch.Size([28, 28]),\n",
       " torch.Size([1010]))"
      ]
     },
     "execution_count": 51,
     "metadata": {},
     "output_type": "execute_result"
    }
   ],
   "source": [
    "# applying the same calculation for every image in our validation set\n",
    "valid_3_dist = mnist_mad_distance(mnist_validation_threes, baseline_3)\n",
    "valid_3_dist, mnist_validation_threes.shape, baseline_3.shape, valid_3_dist.shape\n",
    "\n",
    "# for every image, we averaged the intensity of all pixels in that image;\n",
    "# we are left with a rank-1 tensor of a thousand numbers"
   ]
  },
  {
   "cell_type": "markdown",
   "metadata": {},
   "source": [
    "`PyTorch` is so versatile it didn't even complain about shapes not matching and calculated the distance for each image instead !\n",
    "\n",
    "This is made possible because `PyTorch` uses _broadcasting_ under the hood: e.g. the ability expand a lower rank tensor to have the same size as a higher rank input tensor during a calculation. This is why this type of operation is possible:\n",
    "\n",
    "```python\n",
    "tensor([1,2,3]) + tensor(1) # tensor([2,3,4])\n",
    "```\n",
    "\n",
    "Now let's continue with the function that determines if the number is a `3` or a `7`:"
   ]
  },
  {
   "cell_type": "code",
   "execution_count": 1040,
   "metadata": {},
   "outputs": [
    {
     "data": {
      "text/plain": [
       "(tensor(True), tensor(1.))"
      ]
     },
     "execution_count": 1040,
     "metadata": {},
     "output_type": "execute_result"
    }
   ],
   "source": [
    "def is_3(x): return mnist_mad_distance(x,baseline_3) < mnist_mad_distance(x,baseline_7)\n",
    "\n",
    "# let's test the function\n",
    "is_3(ex3_2), is_3(ex3_2).float()"
   ]
  },
  {
   "cell_type": "code",
   "execution_count": 1041,
   "metadata": {},
   "outputs": [
    {
     "data": {
      "text/plain": [
       "tensor([True, True, True,  ..., True, True, True])"
      ]
     },
     "execution_count": 1041,
     "metadata": {},
     "output_type": "execute_result"
    }
   ],
   "source": [
    "# let's do the same thing at scale\n",
    "is_3(mnist_validation_threes)"
   ]
  },
  {
   "cell_type": "code",
   "execution_count": 1042,
   "metadata": {},
   "outputs": [
    {
     "data": {
      "text/plain": [
       "tensor([1., 1., 1.,  ..., 1., 1., 1.])"
      ]
     },
     "execution_count": 1042,
     "metadata": {},
     "output_type": "execute_result"
    }
   ],
   "source": [
    "# again but as floats\n",
    "is_3(mnist_validation_threes).float()"
   ]
  },
  {
   "cell_type": "code",
   "execution_count": 1043,
   "metadata": {},
   "outputs": [
    {
     "data": {
      "text/plain": [
       "tensor(0.9168)"
      ]
     },
     "execution_count": 1043,
     "metadata": {},
     "output_type": "execute_result"
    }
   ],
   "source": [
    "# get the mean of correct predictions\n",
    "accuracy_3s = is_3(mnist_validation_threes).float().mean()\n",
    "accuracy_3s"
   ]
  },
  {
   "cell_type": "code",
   "execution_count": 1044,
   "metadata": {},
   "outputs": [
    {
     "data": {
      "text/plain": [
       "tensor(0.9854)"
      ]
     },
     "execution_count": 1044,
     "metadata": {},
     "output_type": "execute_result"
    }
   ],
   "source": [
    "# let's do the above steps for 7s\n",
    "accuracy_7s = (1 - is_3(mnist_validation_sevens).float()).mean()\n",
    "accuracy_7s\n",
    "\n",
    "# we use the inverse here with `1 - is_3` because we want to know how many 7s we correctly identified (OR logic)"
   ]
  },
  {
   "cell_type": "markdown",
   "metadata": {},
   "source": [
    "We can conclude from the above that we have a pretty good baseline for 2 numbers !"
   ]
  },
  {
   "cell_type": "markdown",
   "metadata": {},
   "source": [
    "## Using another approach to classify digits: a linear model with SGD\n",
    "\n",
    "In our pixels similarity approach, we don't have any kind of weight assignment, or any way of improving our classifier based on testing the effectiveness of a weight assignment.\n",
    "\n",
    "_Stochastic gradient descent_ is a technique used to update the weights of a neural network in order to make it improve at any given task. Its power resides in the fact that it provides a way of finding weight values automatically.\n",
    "\n",
    "Now, back to our problem.\n",
    "\n",
    "Instead of trying to find the similarity between an image and an \"ideal image,\" we could instead look at each individual pixel and come up with a set of weights for each one.\n",
    "\n",
    "For instance, pixels toward the bottom right are not very likely to activate neurons for a 7, so they should have a low weight for a 7, but they are likely to be activated for an 8, so they should have a high weight for an 8. \n",
    "\n",
    "This can be represented as a function with a set of weight values for each possible category, for instance the probability of being the number 8 =>\n",
    "\n",
    "```python\n",
    "def pr_eight(image_vector, weights_vector): return (image_vector * weights_vector).sum()\n",
    "```\n",
    "\n",
    "Here, the image represented as a vector is basically \"all the rows stacked up end to end on a single long line\". With this kind of function, we just need some way to update the weights to make them better and better at distinguishing between digits: we want to find the specific values for the weights that cause the result of our function to be high for images that are actually 8s, and low for images that are not. Searching for the best weights is a way of searching for the best function that recognizes 8s.\n",
    "\n",
    "These are the steps that will turn our function into a machine learning classifier:\n",
    "\n",
    "1. _Initialize_ the weights with random values\n",
    "2. For each image, use these weights to predict whether it appears to be a 3 or a 7\n",
    "3. Based on these predictions, calculate how good the model is (its _loss_)\n",
    "4. Calculate the _gradient_, which measures for each weight, how changing that weight would change the loss; the gradients will tell us how much we have to change each weight to make our model better\n",
    "5. _Step_ (that is, _change_) all the weights based on the previous calculation\n",
    "6. Go back to step 2 and repeat the process\n",
    "7. Iterate until you decide to stop the training process (for instance, because the model is good enough or you don't want to wait any longer). Generally, you would want to stop the training process when the model stops improving or gets worse\n",
    "\n",
    "These relatively simple steps are the basis for nearly all deep learning models.\n",
    "\n",
    "When we know how a function changes, we know what we need to make its value smaller. This is what weights assignment is all about.\n",
    "\n",
    "One important thing to be aware of is that our function has lots of weights that we need to adjust, so when we calculate the derivative of these weights we won't get back one number, but rather lots of them: a _gradient_ for every weight. But there is nothing mathematically tricky here; you can calculate the derivative with respect to one weight, and treat all the other ones as constant, then repeat that for each other weight. This is how all of the gradients are calculated, for every weight.\n",
    "\n",
    "Thankfully, `PyTorch` can automatically compute the derivative of nearly any function!\n",
    "Adjusting the weights of our model can be then expressed as simply as:\n",
    "\n",
    "```python\t\n",
    "weights -= gradient * lr\n",
    "```\n",
    "\n",
    "This is what _stepping the weights_ actually means.\n",
    "\n",
    "We use a substraction here to allow for:\n",
    "\n",
    "- in case the slope is positive, the weight to be decreased\n",
    "- in case the slope is negative, the weight to be increased\n",
    "\n",
    "Remember: our ultimate goal is to minimize the loss.\n",
    "\n",
    "Let's summarize a few points here:\n",
    "\n",
    "- The weights of a model can be random (training a model from scratch) or they can come from a pre trained model (transfer learning).\n",
    "- If you train a model from scratch, the first outputs you'll get will probably be pretty bad, because your weights are random.\n",
    "- Also, in case of a pretrained model, the first outputs won't probably be what you want, because the model was trained for a different task. So, the model will need to _learn_ better weights.\n",
    "- To measure the performance of a model, you compare the outputs the model gives you with the targets (the true labels), using a loss function.\n",
    "- We want the output of the loss function to be as low as possible by improving the weights of the model.\n",
    "- For improving the model, you'd want to set aside a few data items that you don't train the model on, called the _validation set_. This is the set that will be used to measure performance.\n",
    "- Figuring out how to change the loss to make it better heavily relies on Calculus and gradients. This is made easy with tools like `PyTorch` 😎.\n",
    "- At each pass of the iterative process that makes the weights better, we use the magnitude of each gradient to tell us how big a step is to take into a better direction. We multiply the gradients by a number called the _learning rate_ to decide each step size.\n",
    "- When the loss does not get any better, we say that the model has _converged_ and we stop the training.\n",
    "\n",
    "Alright, we are ready to apply this to the MNIST dataset now !\n",
    "\n"
   ]
  },
  {
   "cell_type": "markdown",
   "metadata": {},
   "source": [
    "## Defining training and validation sets + parameters\n",
    "\n",
    "For our digits classifier issue to solve, we already have independent variables (x-axis): these are the images themselves. This means we can put together our training dataset.\n",
    "\n",
    "Let's concatenate all of them into a single tensor.\n",
    "\n",
    "To do this, we'll need to go from a rank-3 tensor of images stacked together to a list of vectors (rank-2 tensor). This can be done using the `view` method of `PyTorch` tensors, as it changes the shape of a tensor without changing its contents."
   ]
  },
  {
   "cell_type": "code",
   "execution_count": 55,
   "metadata": {},
   "outputs": [],
   "source": [
    "# `torch.cat` concatenates tensors along the first dimension;\n",
    "# then `view` reshapes the concatenated tensor into a rank-2 tensor,\n",
    "# this new tensor has 28*28 columns and a number of rows equal to the number of images in the 2 original tensors;\n",
    "# a 28*28 image is flattened into a 784 pixels vector\n",
    "train_x = torch.cat([stacked_mnist_threes, stacked_mnist_sevens]).view(-1, 28*28)"
   ]
  },
  {
   "cell_type": "code",
   "execution_count": 53,
   "metadata": {},
   "outputs": [],
   "source": [
    "# let's label each image\n",
    "train_y = tensor([1]*len(mnist_threes) + [0]*len(mnist_sevens)).unsqueeze(1)"
   ]
  },
  {
   "cell_type": "markdown",
   "metadata": {},
   "source": [
    "The line of code above:\n",
    "\n",
    "- concatenates 2 tensors of length `len(threes)` and `len(sevens)` respectively\n",
    "- the first elements of this new tensor (`len(threes)`) are set to 0\n",
    "- the last elements of this new tensor (`len(sevens)`) are set to 1\n",
    "- calling `unsqueeze` on a tensor adds an extra dimension to it\n",
    "- we add one extra dimension to match the shape of the images tensor that will be fed to the model\n",
    "- the resulting tensor has a shape of `(n, 1)`, where `n` is the number of images in the dataset"
   ]
  },
  {
   "cell_type": "code",
   "execution_count": 56,
   "metadata": {},
   "outputs": [
    {
     "data": {
      "text/plain": [
       "(torch.Size([12396, 784]), torch.Size([12396, 1]))"
      ]
     },
     "execution_count": 56,
     "metadata": {},
     "output_type": "execute_result"
    }
   ],
   "source": [
    "train_x.shape,train_y.shape"
   ]
  },
  {
   "cell_type": "markdown",
   "metadata": {},
   "source": [
    "A `Dataset` in `PyTorch` is an abstract class that represents a collection of data samples.\n",
    "\n",
    "When indexed, a `Dataset` is required to return a tuple of `(x,y)`, where `x` is the input data and `y` is the label.\n",
    "\n",
    "Let's create our `Dataset` of images and labels using the `zip` function:"
   ]
  },
  {
   "cell_type": "code",
   "execution_count": 57,
   "metadata": {},
   "outputs": [
    {
     "data": {
      "text/plain": [
       "(torch.Size([784]), tensor([1]))"
      ]
     },
     "execution_count": 57,
     "metadata": {},
     "output_type": "execute_result"
    }
   ],
   "source": [
    "training_set = list(zip(train_x,train_y))\n",
    "\n",
    "# taking a look at the first element of the dataset,\n",
    "# here, `y` represents the label of the image\n",
    "x,y = training_set[0] \n",
    "x.shape,y"
   ]
  },
  {
   "cell_type": "code",
   "execution_count": 58,
   "metadata": {},
   "outputs": [],
   "source": [
    "# now, let's put together our validation set\n",
    "valid_x = torch.cat([mnist_validation_threes, mnist_validation_sevens]).view(-1, 28*28)\n",
    "valid_y = tensor([1]*len(mnist_validation_threes) + [0]*len(mnist_validation_sevens)).unsqueeze(1)\n",
    "validation_set = list(zip(valid_x,valid_y))"
   ]
  },
  {
   "cell_type": "code",
   "execution_count": 59,
   "metadata": {},
   "outputs": [
    {
     "data": {
      "text/plain": [
       "tensor([[ 1.9269],\n",
       "        [ 1.4873],\n",
       "        [ 0.9007],\n",
       "        [-2.1055],\n",
       "        [ 0.6784]], grad_fn=<SliceBackward0>)"
      ]
     },
     "execution_count": 59,
     "metadata": {},
     "output_type": "execute_result"
    }
   ],
   "source": [
    "# let's initialize our weights for every pixel with random values\n",
    "\n",
    "# this function returns a tensor of size `size` filled with random values from a normal distribution with a standard deviation of `std`\n",
    "def init_params(size, std=1.0): return (torch.randn(size)*std).requires_grad_()\n",
    "\n",
    "weights = init_params((28*28,1))\n",
    "# print a sample of our weights\n",
    "weights[:5]"
   ]
  },
  {
   "cell_type": "markdown",
   "metadata": {},
   "source": [
    "If the goal is to multiply each pixel of the images by a weight value, we should take into account the fact that some pixels will have a value of `0`.\n",
    "\n",
    "This means that the function `weights * pixels` won't be flexible enough for our purpose since it can sometimes result in a value of `0` even if the weight is not `0`. That's not we want.\n",
    "\n",
    "Now, since the equation of a straight line is `y = wx + b`, we can add a constant `b` to our function to make it more flexible. This is called a _bias_.\n",
    "\n",
    "Together, the _weights_ and the _bias_ are called the _parameters_ of the model."
   ]
  },
  {
   "cell_type": "code",
   "execution_count": 60,
   "metadata": {},
   "outputs": [
    {
     "data": {
      "text/plain": [
       "tensor([0.3472], requires_grad=True)"
      ]
     },
     "execution_count": 60,
     "metadata": {},
     "output_type": "execute_result"
    }
   ],
   "source": [
    "bias = init_params(1)\n",
    "bias"
   ]
  },
  {
   "cell_type": "code",
   "execution_count": 1051,
   "metadata": {},
   "outputs": [
    {
     "data": {
      "text/plain": [
       "tensor([8.3031], grad_fn=<AddBackward0>)"
      ]
     },
     "execution_count": 1051,
     "metadata": {},
     "output_type": "execute_result"
    }
   ],
   "source": [
    "# we are now able to calculate a prediction for an image,\n",
    "# this is a simple implementation of a linear regression model;\n",
    "# `weights.T` means \"taking the transpose of the weights tensor\",\n",
    "# this is done because we want to multiply the weights by the pixels of the image,\n",
    "# so we turn the `weights` matrix rows into columns and vice versa\n",
    "(train_x[0]*weights.T).sum() + bias"
   ]
  },
  {
   "cell_type": "markdown",
   "metadata": {},
   "source": [
    "While we could use a Python for loop to calculate the prediction for each image, that would be very slow. Because Python loops don't run on the GPU, and because Python is a slow language for loops in general, we need to represent as much of the computation in a model as possible using higher-level functions.\n",
    "\n",
    "In this case, there's an extremely convenient mathematical operation that calculates `w*x` for every row of a matrix: matrix multiplication.\n",
    "\n",
    "In Python, matrix multiplication is represented with the `@` operator. Let's try it:"
   ]
  },
  {
   "cell_type": "code",
   "execution_count": 1052,
   "metadata": {},
   "outputs": [
    {
     "data": {
      "text/plain": [
       "torch.Size([784, 1])"
      ]
     },
     "execution_count": 1052,
     "metadata": {},
     "output_type": "execute_result"
    }
   ],
   "source": [
    "weights.shape"
   ]
  },
  {
   "cell_type": "code",
   "execution_count": 1053,
   "metadata": {},
   "outputs": [
    {
     "data": {
      "text/plain": [
       "torch.Size([12396, 784])"
      ]
     },
     "execution_count": 1053,
     "metadata": {},
     "output_type": "execute_result"
    }
   ],
   "source": [
    "train_x.shape"
   ]
  },
  {
   "cell_type": "code",
   "execution_count": 64,
   "metadata": {},
   "outputs": [
    {
     "data": {
      "text/plain": [
       "tensor([[ -6.2330],\n",
       "        [-10.6388],\n",
       "        [-20.8865],\n",
       "        ...,\n",
       "        [-15.9176],\n",
       "        [ -1.6866],\n",
       "        [-11.3568]], grad_fn=<AddBackward0>)"
      ]
     },
     "execution_count": 64,
     "metadata": {},
     "output_type": "execute_result"
    }
   ],
   "source": [
    "def multiply_data_by_params_model(independent_variables): return independent_variables@weights + bias\n",
    "preds = multiply_data_by_params_model(train_x)\n",
    "preds"
   ]
  },
  {
   "cell_type": "markdown",
   "metadata": {},
   "source": [
    "The equation `batch @ weights + bias` is a fundamental equation of any neural network."
   ]
  },
  {
   "cell_type": "markdown",
   "metadata": {},
   "source": [
    "## checking our model's accuracy\n",
    "\n",
    "Let's check our accuracy. To decide if an output represents a 3 or a 7, we can just check whether it's greater than 0.0, since a 3 is a one and a 7 is a 0, so our accuracy for each item can be calculated (using broadcasting and no loops!) with:"
   ]
  },
  {
   "cell_type": "code",
   "execution_count": 65,
   "metadata": {},
   "outputs": [
    {
     "data": {
      "text/plain": [
       "tensor([[False],\n",
       "        [False],\n",
       "        [False],\n",
       "        ...,\n",
       "        [ True],\n",
       "        [ True],\n",
       "        [ True]])"
      ]
     },
     "execution_count": 65,
     "metadata": {},
     "output_type": "execute_result"
    }
   ],
   "source": [
    "\n",
    "corrects = (preds > 0.0).float() == train_y\n",
    "corrects"
   ]
  },
  {
   "cell_type": "code",
   "execution_count": 66,
   "metadata": {},
   "outputs": [
    {
     "data": {
      "text/plain": [
       "0.5379961133003235"
      ]
     },
     "execution_count": 66,
     "metadata": {},
     "output_type": "execute_result"
    }
   ],
   "source": [
    "# our accuracy would be ...\n",
    "corrects.float().mean().item()"
   ]
  },
  {
   "cell_type": "markdown",
   "metadata": {},
   "source": [
    "## Choosing a loss function\n",
    "\n",
    "As we've seen, we need gradients in order to improve our model using SGD, and in order to calculate gradients we need some loss function that represents how good our model is. That is because the gradients are a measure of how the loss function changes with small tweaks to the weights. So, we need to choose a loss function.\n",
    "\n",
    "A very small change of a weight won't influence the overall accuracy of the model, so we can exclude accuracy as our loss function.\n",
    "\n",
    "Instead, we need a loss function which, when our weights result in slightly better predictions, gives us a slightly better loss. So what does a \"slightly better prediction\" look like, exactly? Well, in this case, it means that if the correct answer is a 3 the score is a little higher, or if the correct answer is a 7 the score is a little lower.\n",
    "\n",
    "The loss function receives not the images themselves, but the predictions from the model. Let's make one argument, `predictions`, of values between 0 and 1, where each value is the prediction that an image is a 3. It is a vector (i.e., a rank-1 tensor), indexed over the images.\n",
    "\n",
    "The purpose of the loss function is to measure the difference between predicted values and the true values — that is, the targets (aka labels). Let's make another parameter, `targets`, with values of 0 or 1 which tells whether an image actually is a 3 or not. It is also a vector (i.e., another rank-1 tensor), indexed over the images.\n",
    "\n",
    "Let's try this:"
   ]
  },
  {
   "cell_type": "code",
   "execution_count": 67,
   "metadata": {},
   "outputs": [],
   "source": [
    "# measure how distant each prediction is from 1 if it should be 1, \n",
    "# and how distant it is from 0 if it should be 0, \n",
    "# and then take the mean of all those distances\n",
    "\n",
    "def mnist_loss(predictions, targets):\n",
    "    # The 'torch.where' function takes three arguments: condition, x, and y.\n",
    "    # It returns a new tensor where each element comes from either 'x' or 'y', depending on the corresponding element in 'condition'.\n",
    "    return torch.where(\n",
    "        targets == 1,  # Condition: Check where the targets are 1\n",
    "        1 - predictions,  # x: If target is 1, loss is (1 - prediction)\n",
    "        predictions  # y: If target is 0, loss is (prediction)\n",
    "    ).mean()  # Calculate the mean of the resulting tensor\n"
   ]
  },
  {
   "cell_type": "markdown",
   "metadata": {},
   "source": [
    "`torch.where(condition, x, y)` is a PyTorch function that takes a condition and two tensors x and y. For each element in the condition tensor, it will choose the corresponding element from x if the condition is True, and from y if the condition is False.\n",
    "\n",
    "The function above will return a lower number when:\n",
    "\n",
    "- predictions are more accurate\n",
    "- accurate predictions are more confident\n",
    "- inaccurate predictions are less confident\n",
    "\n",
    "One problem with `mnist_loss` as currently defined is that it assumes that predictions are always between 0 and 1. We need to ensure, then, that this is actually the case! As it happens, there is a function that does exactly that: the _sigmoid_ function."
   ]
  },
  {
   "cell_type": "code",
   "execution_count": 69,
   "metadata": {},
   "outputs": [],
   "source": [
    "# let's update the `mnist_loss` function to use the sigmoid function\n",
    "def mnist_loss(predictions, targets):\n",
    "    predictions = predictions.sigmoid()\n",
    "    return torch.where(targets==1, 1-predictions, predictions).mean()"
   ]
  },
  {
   "cell_type": "markdown",
   "metadata": {},
   "source": [
    "## Putting our linear modal together"
   ]
  },
  {
   "cell_type": "code",
   "execution_count": 71,
   "metadata": {},
   "outputs": [
    {
     "data": {
      "text/plain": [
       "(torch.Size([256, 784]), torch.Size([256, 1]))"
      ]
     },
     "execution_count": 71,
     "metadata": {},
     "output_type": "execute_result"
    }
   ],
   "source": [
    "# initialize our parameters\n",
    "weights = init_params((28*28,1))\n",
    "bias = init_params(1)\n",
    "\n",
    "# creating a data loader that will return batches of a given size shuffled for every epoch\n",
    "training_data_loader = DataLoader(training_set, batch_size=256)\n",
    "x,y = first(training_data_loader)\n",
    "x.shape,y.shape"
   ]
  },
  {
   "cell_type": "code",
   "execution_count": 77,
   "metadata": {},
   "outputs": [],
   "source": [
    "# creating a data loader for the validation set\n",
    "validation_data_loader = DataLoader(validation_set, batch_size=256)"
   ]
  },
  {
   "cell_type": "code",
   "execution_count": 76,
   "metadata": {},
   "outputs": [],
   "source": [
    "# let's define a few functions that will help us calculate the gradients and update the weights and biases\n",
    "\n",
    "# let's also write a function that calculates accuracy for each batch\n",
    "def batch_accuracy(independent_variables, dependent_variables):\n",
    "    preds = independent_variables.sigmoid()\n",
    "    correct = (preds > 0.5) == dependent_variables\n",
    "    return correct.float().mean()\n",
    "\n",
    "# let's put this logic into a function for:\n",
    "#  - making predictions\n",
    "#  - calculating the loss\n",
    "#  - calculating the gradients\n",
    "def calc_grad(independent_variables, dependent_variables, model):\n",
    "    preds = model(independent_variables)\n",
    "    loss = mnist_loss(preds, dependent_variables)\n",
    "    # The `backward` function actually adds the gradients of `loss` to any gradients that are currently stored.\n",
    "    loss.backward()\n",
    "\n",
    "# we need to update the weights and biases based on the gradient and learning rate\n",
    "def train_epoch(model, lr, params):\n",
    "    for x, y in training_data_loader:\n",
    "        calc_grad(x, y, model)\n",
    "        for p in params:\n",
    "            p.data -= p.grad*lr\n",
    "            # we have to tell `PyTorch` to not store the gradients for this step,\n",
    "            # otherwise they would accumulate and things could get very confusing\n",
    "            p.grad.zero_()\n",
    "\n",
    "# let's write a validation function,\n",
    "# this function `validate_epoch` takes a PyTorch model as input and evaluates its accuracy on a validation dataset.\n",
    "# It does so by iterating over batches of data in the validation dataloader, \n",
    "# passing each batch through the model to get the predicted outputs, \n",
    "# and comparing those predictions to the true labels (`dependent_variables`) to calculate the accuracy of each batch. \n",
    "# The function then returns the average accuracy across all batches, rounded to 4 decimal places.\n",
    "def validate_epoch(model):\n",
    "    accs = [batch_accuracy(model(independent_variables), dependent_variables) for independent_variables, dependent_variables in validation_data_loader]\n",
    "    return round(torch.stack(accs).mean().item(), 4)"
   ]
  },
  {
   "cell_type": "code",
   "execution_count": 78,
   "metadata": {},
   "outputs": [
    {
     "data": {
      "text/plain": [
       "0.6546"
      ]
     },
     "execution_count": 78,
     "metadata": {},
     "output_type": "execute_result"
    }
   ],
   "source": [
    "# let's run a first iteration of our model\n",
    "lr = 1.\n",
    "params = weights, bias\n",
    "train_epoch(multiply_data_by_params_model, lr, params)\n",
    "validate_epoch(multiply_data_by_params_model)"
   ]
  },
  {
   "cell_type": "code",
   "execution_count": 79,
   "metadata": {},
   "outputs": [
    {
     "name": "stdout",
     "output_type": "stream",
     "text": [
      "0.8158 0.8915 0.9291 0.9413 0.9486 0.953 0.956 0.9574 0.9589 0.9599 "
     ]
    }
   ],
   "source": [
    "# then let's do a few more rounds\n",
    "for i in range(10):\n",
    "    train_epoch(multiply_data_by_params_model, lr, params)\n",
    "    print(validate_epoch(multiply_data_by_params_model), end=' ')"
   ]
  },
  {
   "cell_type": "markdown",
   "metadata": {},
   "source": [
    "... this is pretty promising !\n",
    "\n",
    "Now let's create an object that will handle the SGD steps for us. In `PyTorch`, it's called an _optimizer_.\n",
    "\n",
    "There is a module in `PyTorch` called `nn.Linear`: it does the same things as `init_params` and `multiply_data_by_params_model` together.\n",
    "\n",
    "It will contain both the weights and the biases of our model in a single class."
   ]
  },
  {
   "cell_type": "code",
   "execution_count": 80,
   "metadata": {},
   "outputs": [
    {
     "data": {
      "text/plain": [
       "(torch.Size([1, 784]), torch.Size([1]))"
      ]
     },
     "execution_count": 80,
     "metadata": {},
     "output_type": "execute_result"
    }
   ],
   "source": [
    "linear_model = nn.Linear(28*28,1)\n",
    "\n",
    "weights, biases = linear_model.parameters()\n",
    "weights.shape, biases.shape"
   ]
  },
  {
   "cell_type": "code",
   "execution_count": 81,
   "metadata": {},
   "outputs": [],
   "source": [
    "# let's use that to create our basic optimizer\n",
    "class BasicOptim:\n",
    "    def __init__(self,params,lr): self.params,self.lr = list(params),lr\n",
    "\n",
    "    def step(self, *args, **kwargs):\n",
    "        for p in self.params: p.data -= p.grad.data * self.lr\n",
    "\n",
    "    def zero_grad(self, *args, **kwargs):\n",
    "        for p in self.params: p.grad = None\n",
    "\n",
    "# let's make an instance of it using our model's parameters\n",
    "opt = BasicOptim(linear_model.parameters(), lr)   \n",
    "\n",
    "# this simplifies our training loop to:\n",
    "def train_epoch(model):\n",
    "    for x, y in training_data_loader:\n",
    "        calc_grad(x, y, model)\n",
    "        opt.step()\n",
    "        opt.zero_grad()\n",
    "\n",
    "# we can now write a function that trains our model:\n",
    "def train_model(model, epochs):\n",
    "    for i in range(epochs):\n",
    "        train_epoch(model)\n",
    "        print(validate_epoch(model), end=' ')"
   ]
  },
  {
   "cell_type": "code",
   "execution_count": 82,
   "metadata": {},
   "outputs": [
    {
     "name": "stdout",
     "output_type": "stream",
     "text": [
      "0.4932 0.8262 0.8408 0.9126 0.9341 0.9468 0.9555 0.9629 0.9653 0.9668 0.9692 0.9717 0.9731 0.9751 0.9761 0.9765 0.9775 0.9785 0.9785 0.9785 "
     ]
    }
   ],
   "source": [
    "# let's try it out\n",
    "train_model(linear_model, 20)"
   ]
  },
  {
   "cell_type": "markdown",
   "metadata": {},
   "source": [
    "What we have just did with `BasicOptim` is implemented in `fastai` with the `SGD` class."
   ]
  },
  {
   "cell_type": "code",
   "execution_count": 83,
   "metadata": {},
   "outputs": [
    {
     "name": "stdout",
     "output_type": "stream",
     "text": [
      "0.4932 0.749 0.8579 0.917 0.9365 0.9521 0.957 0.9629 0.9658 0.9687 0.9707 0.9721 0.9731 0.9746 0.9761 0.9765 0.9775 0.978 0.978 0.978 "
     ]
    }
   ],
   "source": [
    "linear_model = nn.Linear(28*28,1)\n",
    "opt = SGD(linear_model.parameters(), lr)\n",
    "train_model(linear_model, 20)"
   ]
  },
  {
   "cell_type": "markdown",
   "metadata": {},
   "source": [
    "Also, the implementation of our `train_model` function in `fastai` is called `Learner.fit`"
   ]
  },
  {
   "cell_type": "code",
   "execution_count": 84,
   "metadata": {},
   "outputs": [],
   "source": [
    "dls = DataLoaders(training_data_loader, validation_data_loader)"
   ]
  },
  {
   "cell_type": "markdown",
   "metadata": {},
   "source": [
    "We are about to create a `Learner` without using an application such as `vision_learner`. For this, we can pass in all the elements that we've created: \n",
    "\n",
    "- any metrics we want to use (accuracy in this case)\n",
    "- the data loaders\n",
    "- the loss function\n",
    "- the model\n",
    "- the optimization function, which will be passed the parameters"
   ]
  },
  {
   "cell_type": "code",
   "execution_count": 86,
   "metadata": {},
   "outputs": [
    {
     "data": {
      "text/html": [
       "\n",
       "<style>\n",
       "    /* Turns off some styling */\n",
       "    progress {\n",
       "        /* gets rid of default border in Firefox and Opera. */\n",
       "        border: none;\n",
       "        /* Needs to be in here for Safari polyfill so background images work as expected. */\n",
       "        background-size: auto;\n",
       "    }\n",
       "    progress:not([value]), progress:not([value])::-webkit-progress-bar {\n",
       "        background: repeating-linear-gradient(45deg, #7e7e7e, #7e7e7e 10px, #5c5c5c 10px, #5c5c5c 20px);\n",
       "    }\n",
       "    .progress-bar-interrupted, .progress-bar-interrupted::-webkit-progress-bar {\n",
       "        background: #F44336;\n",
       "    }\n",
       "</style>\n"
      ],
      "text/plain": [
       "<IPython.core.display.HTML object>"
      ]
     },
     "metadata": {},
     "output_type": "display_data"
    },
    {
     "data": {
      "text/html": [
       "<table border=\"1\" class=\"dataframe\">\n",
       "  <thead>\n",
       "    <tr style=\"text-align: left;\">\n",
       "      <th>epoch</th>\n",
       "      <th>train_loss</th>\n",
       "      <th>valid_loss</th>\n",
       "      <th>batch_accuracy</th>\n",
       "      <th>time</th>\n",
       "    </tr>\n",
       "  </thead>\n",
       "  <tbody>\n",
       "    <tr>\n",
       "      <td>0</td>\n",
       "      <td>0.636516</td>\n",
       "      <td>0.503599</td>\n",
       "      <td>0.495584</td>\n",
       "      <td>00:00</td>\n",
       "    </tr>\n",
       "    <tr>\n",
       "      <td>1</td>\n",
       "      <td>0.567307</td>\n",
       "      <td>0.194196</td>\n",
       "      <td>0.835623</td>\n",
       "      <td>00:00</td>\n",
       "    </tr>\n",
       "    <tr>\n",
       "      <td>2</td>\n",
       "      <td>0.207229</td>\n",
       "      <td>0.181414</td>\n",
       "      <td>0.835132</td>\n",
       "      <td>00:00</td>\n",
       "    </tr>\n",
       "    <tr>\n",
       "      <td>3</td>\n",
       "      <td>0.089765</td>\n",
       "      <td>0.106924</td>\n",
       "      <td>0.910206</td>\n",
       "      <td>00:00</td>\n",
       "    </tr>\n",
       "    <tr>\n",
       "      <td>4</td>\n",
       "      <td>0.046562</td>\n",
       "      <td>0.078032</td>\n",
       "      <td>0.932777</td>\n",
       "      <td>00:00</td>\n",
       "    </tr>\n",
       "    <tr>\n",
       "      <td>5</td>\n",
       "      <td>0.029760</td>\n",
       "      <td>0.062546</td>\n",
       "      <td>0.947007</td>\n",
       "      <td>00:00</td>\n",
       "    </tr>\n",
       "    <tr>\n",
       "      <td>6</td>\n",
       "      <td>0.022909</td>\n",
       "      <td>0.052922</td>\n",
       "      <td>0.955839</td>\n",
       "      <td>00:00</td>\n",
       "    </tr>\n",
       "    <tr>\n",
       "      <td>7</td>\n",
       "      <td>0.019906</td>\n",
       "      <td>0.046520</td>\n",
       "      <td>0.961236</td>\n",
       "      <td>00:00</td>\n",
       "    </tr>\n",
       "    <tr>\n",
       "      <td>8</td>\n",
       "      <td>0.018408</td>\n",
       "      <td>0.042010</td>\n",
       "      <td>0.965162</td>\n",
       "      <td>00:00</td>\n",
       "    </tr>\n",
       "    <tr>\n",
       "      <td>9</td>\n",
       "      <td>0.017523</td>\n",
       "      <td>0.038679</td>\n",
       "      <td>0.967125</td>\n",
       "      <td>00:00</td>\n",
       "    </tr>\n",
       "  </tbody>\n",
       "</table>"
      ],
      "text/plain": [
       "<IPython.core.display.HTML object>"
      ]
     },
     "metadata": {},
     "output_type": "display_data"
    }
   ],
   "source": [
    "learner = Learner(dls, nn.Linear(28*28,1), opt_func=SGD, loss_func=mnist_loss, metrics=batch_accuracy)\n",
    "\n",
    "# now we can call `fit` to train our model across multiple epochs\n",
    "learner.fit(10, lr=lr)"
   ]
  },
  {
   "cell_type": "markdown",
   "metadata": {},
   "source": [
    "## Writing our own neural network\n",
    "\n",
    "Let's try to write a very basic neural network:"
   ]
  },
  {
   "cell_type": "code",
   "execution_count": 87,
   "metadata": {},
   "outputs": [],
   "source": [
    "# an illustration of the universal approximation theorem\n",
    "def simple_net(independent_variables): \n",
    "    res = independent_variables@w1 + b1\n",
    "    # here we have our relu activation function\n",
    "    res = res.max(tensor(0.0))\n",
    "    res = res@w2 + b2\n",
    "    return res\n",
    "\n",
    "# let's use this\n",
    "# here `w1` is the weights matrix connecting the input layer to a layer of 30 neurons (the hidden layer)\n",
    "w1 = init_params((28*28,30))\n",
    "b1 = init_params(30)\n",
    "# here `w2` is the weights matrix connecting the hidden layer to the output layer, which has a single neuron (since we're just trying to predict one number, 3 or 7)\n",
    "w2 = init_params((30,1))\n",
    "b2 = init_params(1)"
   ]
  },
  {
   "cell_type": "markdown",
   "metadata": {},
   "source": [
    "In the above example, the first hidden layer can construct 30 different features, each representing some different mix of pixels. Changing the value `30` will result in a more or less complex model."
   ]
  },
  {
   "cell_type": "code",
   "execution_count": 88,
   "metadata": {},
   "outputs": [
    {
     "data": {
      "text/html": [
       "\n",
       "<style>\n",
       "    /* Turns off some styling */\n",
       "    progress {\n",
       "        /* gets rid of default border in Firefox and Opera. */\n",
       "        border: none;\n",
       "        /* Needs to be in here for Safari polyfill so background images work as expected. */\n",
       "        background-size: auto;\n",
       "    }\n",
       "    progress:not([value]), progress:not([value])::-webkit-progress-bar {\n",
       "        background: repeating-linear-gradient(45deg, #7e7e7e, #7e7e7e 10px, #5c5c5c 10px, #5c5c5c 20px);\n",
       "    }\n",
       "    .progress-bar-interrupted, .progress-bar-interrupted::-webkit-progress-bar {\n",
       "        background: #F44336;\n",
       "    }\n",
       "</style>\n"
      ],
      "text/plain": [
       "<IPython.core.display.HTML object>"
      ]
     },
     "metadata": {},
     "output_type": "display_data"
    },
    {
     "data": {
      "text/html": [
       "<table border=\"1\" class=\"dataframe\">\n",
       "  <thead>\n",
       "    <tr style=\"text-align: left;\">\n",
       "      <th>epoch</th>\n",
       "      <th>train_loss</th>\n",
       "      <th>valid_loss</th>\n",
       "      <th>batch_accuracy</th>\n",
       "      <th>time</th>\n",
       "    </tr>\n",
       "  </thead>\n",
       "  <tbody>\n",
       "    <tr>\n",
       "      <td>0</td>\n",
       "      <td>0.334446</td>\n",
       "      <td>0.408529</td>\n",
       "      <td>0.505397</td>\n",
       "      <td>00:00</td>\n",
       "    </tr>\n",
       "    <tr>\n",
       "      <td>1</td>\n",
       "      <td>0.154280</td>\n",
       "      <td>0.237300</td>\n",
       "      <td>0.792444</td>\n",
       "      <td>00:00</td>\n",
       "    </tr>\n",
       "    <tr>\n",
       "      <td>2</td>\n",
       "      <td>0.084378</td>\n",
       "      <td>0.118382</td>\n",
       "      <td>0.910697</td>\n",
       "      <td>00:00</td>\n",
       "    </tr>\n",
       "    <tr>\n",
       "      <td>3</td>\n",
       "      <td>0.054719</td>\n",
       "      <td>0.079430</td>\n",
       "      <td>0.939647</td>\n",
       "      <td>00:00</td>\n",
       "    </tr>\n",
       "    <tr>\n",
       "      <td>4</td>\n",
       "      <td>0.041056</td>\n",
       "      <td>0.061905</td>\n",
       "      <td>0.956330</td>\n",
       "      <td>00:00</td>\n",
       "    </tr>\n",
       "    <tr>\n",
       "      <td>5</td>\n",
       "      <td>0.034140</td>\n",
       "      <td>0.052130</td>\n",
       "      <td>0.963199</td>\n",
       "      <td>00:00</td>\n",
       "    </tr>\n",
       "    <tr>\n",
       "      <td>6</td>\n",
       "      <td>0.030212</td>\n",
       "      <td>0.045985</td>\n",
       "      <td>0.964181</td>\n",
       "      <td>00:00</td>\n",
       "    </tr>\n",
       "    <tr>\n",
       "      <td>7</td>\n",
       "      <td>0.027690</td>\n",
       "      <td>0.041786</td>\n",
       "      <td>0.966143</td>\n",
       "      <td>00:00</td>\n",
       "    </tr>\n",
       "    <tr>\n",
       "      <td>8</td>\n",
       "      <td>0.025886</td>\n",
       "      <td>0.038731</td>\n",
       "      <td>0.968106</td>\n",
       "      <td>00:00</td>\n",
       "    </tr>\n",
       "    <tr>\n",
       "      <td>9</td>\n",
       "      <td>0.024494</td>\n",
       "      <td>0.036397</td>\n",
       "      <td>0.969087</td>\n",
       "      <td>00:00</td>\n",
       "    </tr>\n",
       "    <tr>\n",
       "      <td>10</td>\n",
       "      <td>0.023369</td>\n",
       "      <td>0.034541</td>\n",
       "      <td>0.972522</td>\n",
       "      <td>00:00</td>\n",
       "    </tr>\n",
       "    <tr>\n",
       "      <td>11</td>\n",
       "      <td>0.022430</td>\n",
       "      <td>0.033021</td>\n",
       "      <td>0.972522</td>\n",
       "      <td>00:00</td>\n",
       "    </tr>\n",
       "    <tr>\n",
       "      <td>12</td>\n",
       "      <td>0.021631</td>\n",
       "      <td>0.031744</td>\n",
       "      <td>0.973013</td>\n",
       "      <td>00:00</td>\n",
       "    </tr>\n",
       "    <tr>\n",
       "      <td>13</td>\n",
       "      <td>0.020940</td>\n",
       "      <td>0.030651</td>\n",
       "      <td>0.973994</td>\n",
       "      <td>00:00</td>\n",
       "    </tr>\n",
       "    <tr>\n",
       "      <td>14</td>\n",
       "      <td>0.020336</td>\n",
       "      <td>0.029700</td>\n",
       "      <td>0.974975</td>\n",
       "      <td>00:00</td>\n",
       "    </tr>\n",
       "    <tr>\n",
       "      <td>15</td>\n",
       "      <td>0.019802</td>\n",
       "      <td>0.028860</td>\n",
       "      <td>0.976448</td>\n",
       "      <td>00:00</td>\n",
       "    </tr>\n",
       "    <tr>\n",
       "      <td>16</td>\n",
       "      <td>0.019324</td>\n",
       "      <td>0.028115</td>\n",
       "      <td>0.976938</td>\n",
       "      <td>00:00</td>\n",
       "    </tr>\n",
       "    <tr>\n",
       "      <td>17</td>\n",
       "      <td>0.018894</td>\n",
       "      <td>0.027446</td>\n",
       "      <td>0.977920</td>\n",
       "      <td>00:00</td>\n",
       "    </tr>\n",
       "    <tr>\n",
       "      <td>18</td>\n",
       "      <td>0.018504</td>\n",
       "      <td>0.026845</td>\n",
       "      <td>0.978410</td>\n",
       "      <td>00:00</td>\n",
       "    </tr>\n",
       "    <tr>\n",
       "      <td>19</td>\n",
       "      <td>0.018149</td>\n",
       "      <td>0.026299</td>\n",
       "      <td>0.978901</td>\n",
       "      <td>00:00</td>\n",
       "    </tr>\n",
       "    <tr>\n",
       "      <td>20</td>\n",
       "      <td>0.017822</td>\n",
       "      <td>0.025802</td>\n",
       "      <td>0.978901</td>\n",
       "      <td>00:00</td>\n",
       "    </tr>\n",
       "    <tr>\n",
       "      <td>21</td>\n",
       "      <td>0.017520</td>\n",
       "      <td>0.025347</td>\n",
       "      <td>0.978901</td>\n",
       "      <td>00:00</td>\n",
       "    </tr>\n",
       "    <tr>\n",
       "      <td>22</td>\n",
       "      <td>0.017240</td>\n",
       "      <td>0.024929</td>\n",
       "      <td>0.979882</td>\n",
       "      <td>00:00</td>\n",
       "    </tr>\n",
       "    <tr>\n",
       "      <td>23</td>\n",
       "      <td>0.016979</td>\n",
       "      <td>0.024544</td>\n",
       "      <td>0.979882</td>\n",
       "      <td>00:00</td>\n",
       "    </tr>\n",
       "    <tr>\n",
       "      <td>24</td>\n",
       "      <td>0.016734</td>\n",
       "      <td>0.024187</td>\n",
       "      <td>0.980373</td>\n",
       "      <td>00:00</td>\n",
       "    </tr>\n",
       "    <tr>\n",
       "      <td>25</td>\n",
       "      <td>0.016504</td>\n",
       "      <td>0.023857</td>\n",
       "      <td>0.979882</td>\n",
       "      <td>00:00</td>\n",
       "    </tr>\n",
       "    <tr>\n",
       "      <td>26</td>\n",
       "      <td>0.016288</td>\n",
       "      <td>0.023551</td>\n",
       "      <td>0.980373</td>\n",
       "      <td>00:00</td>\n",
       "    </tr>\n",
       "    <tr>\n",
       "      <td>27</td>\n",
       "      <td>0.016083</td>\n",
       "      <td>0.023266</td>\n",
       "      <td>0.980373</td>\n",
       "      <td>00:00</td>\n",
       "    </tr>\n",
       "    <tr>\n",
       "      <td>28</td>\n",
       "      <td>0.015890</td>\n",
       "      <td>0.022999</td>\n",
       "      <td>0.980864</td>\n",
       "      <td>00:00</td>\n",
       "    </tr>\n",
       "    <tr>\n",
       "      <td>29</td>\n",
       "      <td>0.015706</td>\n",
       "      <td>0.022751</td>\n",
       "      <td>0.981845</td>\n",
       "      <td>00:00</td>\n",
       "    </tr>\n",
       "    <tr>\n",
       "      <td>30</td>\n",
       "      <td>0.015531</td>\n",
       "      <td>0.022518</td>\n",
       "      <td>0.981845</td>\n",
       "      <td>00:00</td>\n",
       "    </tr>\n",
       "    <tr>\n",
       "      <td>31</td>\n",
       "      <td>0.015365</td>\n",
       "      <td>0.022300</td>\n",
       "      <td>0.981845</td>\n",
       "      <td>00:00</td>\n",
       "    </tr>\n",
       "    <tr>\n",
       "      <td>32</td>\n",
       "      <td>0.015206</td>\n",
       "      <td>0.022095</td>\n",
       "      <td>0.982336</td>\n",
       "      <td>00:00</td>\n",
       "    </tr>\n",
       "    <tr>\n",
       "      <td>33</td>\n",
       "      <td>0.015054</td>\n",
       "      <td>0.021903</td>\n",
       "      <td>0.982336</td>\n",
       "      <td>00:00</td>\n",
       "    </tr>\n",
       "    <tr>\n",
       "      <td>34</td>\n",
       "      <td>0.014908</td>\n",
       "      <td>0.021721</td>\n",
       "      <td>0.982336</td>\n",
       "      <td>00:00</td>\n",
       "    </tr>\n",
       "    <tr>\n",
       "      <td>35</td>\n",
       "      <td>0.014769</td>\n",
       "      <td>0.021549</td>\n",
       "      <td>0.982336</td>\n",
       "      <td>00:00</td>\n",
       "    </tr>\n",
       "    <tr>\n",
       "      <td>36</td>\n",
       "      <td>0.014634</td>\n",
       "      <td>0.021387</td>\n",
       "      <td>0.982336</td>\n",
       "      <td>00:00</td>\n",
       "    </tr>\n",
       "    <tr>\n",
       "      <td>37</td>\n",
       "      <td>0.014505</td>\n",
       "      <td>0.021233</td>\n",
       "      <td>0.982826</td>\n",
       "      <td>00:00</td>\n",
       "    </tr>\n",
       "    <tr>\n",
       "      <td>38</td>\n",
       "      <td>0.014381</td>\n",
       "      <td>0.021087</td>\n",
       "      <td>0.982336</td>\n",
       "      <td>00:00</td>\n",
       "    </tr>\n",
       "    <tr>\n",
       "      <td>39</td>\n",
       "      <td>0.014261</td>\n",
       "      <td>0.020948</td>\n",
       "      <td>0.982336</td>\n",
       "      <td>00:00</td>\n",
       "    </tr>\n",
       "  </tbody>\n",
       "</table>"
      ],
      "text/plain": [
       "<IPython.core.display.HTML object>"
      ]
     },
     "metadata": {},
     "output_type": "display_data"
    }
   ],
   "source": [
    "# `PyTorch` version of our simple neural network\n",
    "simple_net = nn.Sequential(\n",
    "    nn.Linear(28*28,30),\n",
    "    nn.ReLU(),\n",
    "    nn.Linear(30,1)\n",
    ")\n",
    "\n",
    "learn = Learner(dls, simple_net, opt_func=SGD,\n",
    "    loss_func=mnist_loss, metrics=batch_accuracy)\n",
    "\n",
    "learn.fit(40, 0.1)"
   ]
  },
  {
   "cell_type": "code",
   "execution_count": 89,
   "metadata": {},
   "outputs": [
    {
     "data": {
      "text/plain": [
       "[<matplotlib.lines.Line2D at 0x7f6541587bb0>]"
      ]
     },
     "execution_count": 89,
     "metadata": {},
     "output_type": "execute_result"
    },
    {
     "data": {
      "image/png": "[encoded data removed]",
      "text/plain": [
       "<Figure size 640x480 with 1 Axes>"
      ]
     },
     "metadata": {},
     "output_type": "display_data"
    }
   ],
   "source": [
    "# plotting the accuracy training, the x-axis is the epoch number and the y-axis is the accuracy\n",
    "plt.plot(L(learn.recorder.values).itemgot(2))"
   ]
  },
  {
   "cell_type": "code",
   "execution_count": 90,
   "metadata": {},
   "outputs": [
    {
     "data": {
      "text/html": [
       "\n",
       "<style>\n",
       "    /* Turns off some styling */\n",
       "    progress {\n",
       "        /* gets rid of default border in Firefox and Opera. */\n",
       "        border: none;\n",
       "        /* Needs to be in here for Safari polyfill so background images work as expected. */\n",
       "        background-size: auto;\n",
       "    }\n",
       "    progress:not([value]), progress:not([value])::-webkit-progress-bar {\n",
       "        background: repeating-linear-gradient(45deg, #7e7e7e, #7e7e7e 10px, #5c5c5c 10px, #5c5c5c 20px);\n",
       "    }\n",
       "    .progress-bar-interrupted, .progress-bar-interrupted::-webkit-progress-bar {\n",
       "        background: #F44336;\n",
       "    }\n",
       "</style>\n"
      ],
      "text/plain": [
       "<IPython.core.display.HTML object>"
      ]
     },
     "metadata": {},
     "output_type": "display_data"
    },
    {
     "data": {
      "text/html": [
       "<table border=\"1\" class=\"dataframe\">\n",
       "  <thead>\n",
       "    <tr style=\"text-align: left;\">\n",
       "      <th>epoch</th>\n",
       "      <th>train_loss</th>\n",
       "      <th>valid_loss</th>\n",
       "      <th>accuracy</th>\n",
       "      <th>time</th>\n",
       "    </tr>\n",
       "  </thead>\n",
       "  <tbody>\n",
       "    <tr>\n",
       "      <td>0</td>\n",
       "      <td>0.065239</td>\n",
       "      <td>0.017955</td>\n",
       "      <td>0.995584</td>\n",
       "      <td>00:10</td>\n",
       "    </tr>\n",
       "  </tbody>\n",
       "</table>"
      ],
      "text/plain": [
       "<IPython.core.display.HTML object>"
      ]
     },
     "metadata": {},
     "output_type": "display_data"
    }
   ],
   "source": [
    "# let's try more layers with a pre trained model\n",
    "dls = ImageDataLoaders.from_folder(path_to_mnist_sample)\n",
    "learn = vision_learner(dls, resnet18, pretrained=False,\n",
    "    loss_func=F.cross_entropy, metrics=accuracy)\n",
    "learn.fit_one_cycle(1, 0.1)"
   ]
  },
  {
   "cell_type": "markdown",
   "metadata": {},
   "source": [
    "See what we can do with fewer epochs and more layers ? That's impressive !"
   ]
  }
 ],
 "metadata": {
  "kernelspec": {
   "display_name": "Python 3",
   "language": "python",
   "name": "python3"
  },
  "language_info": {
   "codemirror_mode": {
    "name": "ipython",
    "version": 3
   },
   "file_extension": ".py",
   "mimetype": "text/x-python",
   "name": "python",
   "nbconvert_exporter": "python",
   "pygments_lexer": "ipython3",
   "version": "3.10.12"
  },
  "orig_nbformat": 4
 },
 "nbformat": 4,
 "nbformat_minor": 2
}
