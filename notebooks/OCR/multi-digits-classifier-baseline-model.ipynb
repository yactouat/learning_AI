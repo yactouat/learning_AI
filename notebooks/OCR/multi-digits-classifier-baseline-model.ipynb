{
 "cells": [
  {
   "cell_type": "markdown",
   "metadata": {},
   "source": [
    "# Digits classifier\n",
    "\n",
    "Let's build a model that is able to recognize a single digit from 0 to 9 from an image."
   ]
  },
  {
   "cell_type": "code",
   "execution_count": 1,
   "metadata": {},
   "outputs": [],
   "source": [
    "# loading and setting up dependencies\n",
    "import fastbook\n",
    "\n",
    "fastbook.setup_book()\n",
    "\n",
    "from fastai.vision.all import *\n",
    "from fastbook import *\n",
    "from matplotlib import pyplot as plt\n",
    "from torch.nn import functional as F"
   ]
  },
  {
   "cell_type": "markdown",
   "metadata": {},
   "source": [
    "## Importing the dataset"
   ]
  },
  {
   "cell_type": "code",
   "execution_count": 9,
   "metadata": {},
   "outputs": [
    {
     "data": {
      "text/plain": [
       "(#2) [Path('testing'),Path('training')]"
      ]
     },
     "execution_count": 9,
     "metadata": {},
     "output_type": "execute_result"
    }
   ],
   "source": [
    "# import MNIST dataset\n",
    "path_to_mnist = untar_data(URLs.MNIST)\n",
    "Path.BASE_PATH = path_to_mnist\n",
    "\n",
    "path_to_mnist.ls()"
   ]
  },
  {
   "cell_type": "markdown",
   "metadata": {},
   "source": [
    "As you can see from the previous output, this dataset is organized into separate folders for testing and training sets."
   ]
  },
  {
   "cell_type": "code",
   "execution_count": 10,
   "metadata": {},
   "outputs": [
    {
     "data": {
      "text/plain": [
       "((#10) [Path('training/9'),Path('training/1'),Path('training/2'),Path('training/6'),Path('training/3'),Path('training/5'),Path('training/8'),Path('training/4'),Path('training/7'),Path('training/0')],\n",
       " (#6742) [Path('training/1/24904.png'),Path('training/1/32446.png'),Path('training/1/15068.png'),Path('training/1/36030.png'),Path('training/1/9628.png'),Path('training/1/1242.png'),Path('training/1/50292.png'),Path('training/1/35908.png'),Path('training/1/18393.png'),Path('training/1/57761.png')...])"
      ]
     },
     "execution_count": 10,
     "metadata": {},
     "output_type": "execute_result"
    }
   ],
   "source": [
    "# let's see what's in the training set\n",
    "(path_to_mnist / 'training').ls(), (path_to_mnist / 'training/1').ls()"
   ]
  },
  {
   "cell_type": "code",
   "execution_count": 11,
   "metadata": {},
   "outputs": [
    {
     "data": {
      "text/plain": [
       "((#10) [Path('testing/9'),Path('testing/1'),Path('testing/2'),Path('testing/6'),Path('testing/3'),Path('testing/5'),Path('testing/8'),Path('testing/4'),Path('testing/7'),Path('testing/0')],\n",
       " (#1135) [Path('testing/1/6527.png'),Path('testing/1/6239.png'),Path('testing/1/1548.png'),Path('testing/1/2529.png'),Path('testing/1/6917.png'),Path('testing/1/9760.png'),Path('testing/1/8586.png'),Path('testing/1/4273.png'),Path('testing/1/2982.png'),Path('testing/1/2674.png')...])"
      ]
     },
     "execution_count": 11,
     "metadata": {},
     "output_type": "execute_result"
    }
   ],
   "source": [
    "# now let's see what's in the testing set\n",
    "(path_to_mnist / 'testing').ls(), (path_to_mnist / 'testing/1').ls()"
   ]
  },
  {
   "cell_type": "markdown",
   "metadata": {},
   "source": [
    "Let's save the paths to all training digits in a list, and all testing digits in another list."
   ]
  },
  {
   "cell_type": "code",
   "execution_count": 87,
   "metadata": {},
   "outputs": [],
   "source": [
    "mnist_training_0s = (path_to_mnist / 'training' / '0').ls().sorted()\n",
    "mnist_training_1s = (path_to_mnist / 'training' / '1').ls().sorted()\n",
    "mnist_training_2s = (path_to_mnist / 'training' / '2').ls().sorted()\n",
    "mnist_training_3s = (path_to_mnist / 'training' / '3').ls().sorted()\n",
    "mnist_training_4s = (path_to_mnist / 'training' / '4').ls().sorted()\n",
    "mnist_training_5s = (path_to_mnist / 'training' / '5').ls().sorted()\n",
    "mnist_training_6s = (path_to_mnist / 'training' / '6').ls().sorted()\n",
    "mnist_training_7s = (path_to_mnist / 'training' / '7').ls().sorted()\n",
    "mnist_training_8s = (path_to_mnist / 'training' / '8').ls().sorted()\n",
    "mnist_training_9s = (path_to_mnist / 'training' / '9').ls().sorted()"
   ]
  },
  {
   "cell_type": "markdown",
   "metadata": {},
   "source": [
    "## defining our baseline model\n",
    "\n",
    "The _baseline_ of our classifier will be very simple, as it should be: it will work by finding the average pixel value for every pixel of each nuber.\n",
    "\n",
    "This gives us group averages that we may call \"ideal digits\". We classify a digit as x by finding the ideal digit whose average is closest to the image we are trying to classify."
   ]
  },
  {
   "cell_type": "markdown",
   "metadata": {},
   "source": [
    "## creating \"ideal digits\" with rank-3 tensors\n",
    "\n",
    "For every pixel position, we want to compute the average over all the images of the intensity of that pixel. \n",
    "\n",
    "To do this we first combine all the images in this list into a single three-dimensional tensor. \n",
    "\n",
    "The most common way to describe such a tensor is to call it a _rank-3 tensor_.\n",
    "\n",
    "See an example of what that might look like below:\n",
    "\n",
    "![rank-3 tensor.png](./rank-3-tensor.png)\n",
    "\n",
    "### how did we conclude that we needed a rank-3 tensor?\n",
    "\n",
    "- Each image is a 2d matrix of pixels (rows and columns, e.g. a _rank-2 tensor_)\n",
    "- Each element in an image matrix corresponds to a pixel intensity (a scalar value, e.g. a _rank-1 tensor_)\n",
    "- To ease computing of the average of each pixel intensity over all images, you would stack each of these matrices on top of each other: there you have it, a _rank-3 tensor_"
   ]
  },
  {
   "cell_type": "code",
   "execution_count": 105,
   "metadata": {},
   "outputs": [],
   "source": [
    "# create lists of tensors containing all digits stacked together\n",
    "list_0s = [tensor(Image.open(digit)) for digit in mnist_training_0s]\n",
    "list_1s = [tensor(Image.open(digit)) for digit in mnist_training_1s]\n",
    "list_2s = [tensor(Image.open(digit)) for digit in mnist_training_2s]\n",
    "list_3s = [tensor(Image.open(digit)) for digit in mnist_training_3s]\n",
    "list_4s = [tensor(Image.open(digit)) for digit in mnist_training_4s]\n",
    "list_5s = [tensor(Image.open(digit)) for digit in mnist_training_5s]\n",
    "list_6s = [tensor(Image.open(digit)) for digit in mnist_training_6s]\n",
    "list_7s = [tensor(Image.open(digit)) for digit in mnist_training_7s]\n",
    "list_8s = [tensor(Image.open(digit)) for digit in mnist_training_8s]\n",
    "list_9s = [tensor(Image.open(digit)) for digit in mnist_training_9s]"
   ]
  },
  {
   "cell_type": "code",
   "execution_count": 106,
   "metadata": {},
   "outputs": [
    {
     "data": {
      "text/plain": [
       "(6131, 5949)"
      ]
     },
     "execution_count": 106,
     "metadata": {},
     "output_type": "execute_result"
    }
   ],
   "source": [
    "# each rank-3 tensors has more or less 6000 images of 28x28 pixels in it\n",
    "len(list_3s),len(list_9s)"
   ]
  },
  {
   "cell_type": "code",
   "execution_count": 107,
   "metadata": {},
   "outputs": [
    {
     "data": {
      "text/plain": [
       "<Axes: >"
      ]
     },
     "execution_count": 107,
     "metadata": {},
     "output_type": "execute_result"
    },
    {
     "data": {
      "image/png": "[encoded data removed]",
      "text/plain": [
       "<Figure size 100x100 with 1 Axes>"
      ]
     },
     "metadata": {},
     "output_type": "display_data"
    }
   ],
   "source": [
    "# Jupyter ships with a function called `show_image` that knows how to render a tensor as an image\n",
    "show_image(list_3s[1])"
   ]
  },
  {
   "cell_type": "code",
   "execution_count": 108,
   "metadata": {},
   "outputs": [
    {
     "data": {
      "text/plain": [
       "torch.Size([6131, 28, 28])"
      ]
     },
     "execution_count": 108,
     "metadata": {},
     "output_type": "execute_result"
    }
   ],
   "source": [
    "# let's stack our images and cast our stacked tensors as float tensors for further computation,\n",
    "# we also normalise our pixel values to be between 0 and 1 by dividing by 255, this will improve our model's accuracy\n",
    "stacked_0s = torch.stack(list_0s).float()/255\n",
    "stacked_1s = torch.stack(list_1s).float()/255\n",
    "stacked_2s = torch.stack(list_2s).float()/255\n",
    "stacked_3s = torch.stack(list_3s).float()/255\n",
    "stacked_4s = torch.stack(list_4s).float()/255\n",
    "stacked_5s = torch.stack(list_5s).float()/255\n",
    "stacked_6s = torch.stack(list_6s).float()/255\n",
    "stacked_7s = torch.stack(list_7s).float()/255\n",
    "stacked_8s = torch.stack(list_8s).float()/255\n",
    "stacked_9s = torch.stack(list_9s).float()/255\n",
    "\n",
    "# a _shape_ tells us the length of each axis of a tensor\n",
    "stacked_3s.shape # the output says \"we have 6131 images, each of size 28x28 pixels\"."
   ]
  },
  {
   "cell_type": "code",
   "execution_count": 109,
   "metadata": {},
   "outputs": [
    {
     "data": {
      "text/plain": [
       "(3, 3)"
      ]
     },
     "execution_count": 109,
     "metadata": {},
     "output_type": "execute_result"
    }
   ],
   "source": [
    "# the _length_ of a tensor's shape is its _rank_ (2 notations for the same thing)\n",
    "len(stacked_3s.shape), stacked_3s.ndim"
   ]
  },
  {
   "cell_type": "markdown",
   "metadata": {},
   "source": [
    "The _dimension_ 0 of our rank-3 tensor is the number of images.\n",
    "\n",
    "Here is how you would compute the average pixel intensity for each pixel position:"
   ]
  },
  {
   "cell_type": "code",
   "execution_count": 110,
   "metadata": {},
   "outputs": [
    {
     "data": {
      "text/plain": [
       "(<Axes: >,\n",
       " <Axes: >,\n",
       " <Axes: >,\n",
       " <Axes: >,\n",
       " <Axes: >,\n",
       " <Axes: >,\n",
       " <Axes: >,\n",
       " <Axes: >,\n",
       " <Axes: >,\n",
       " <Axes: >)"
      ]
     },
     "execution_count": 110,
     "metadata": {},
     "output_type": "execute_result"
    },
    {
     "data": {
      "image/png": "[encoded data removed]",
      "text/plain": [
       "<Figure size 100x100 with 1 Axes>"
      ]
     },
     "metadata": {},
     "output_type": "display_data"
    },
    {
     "data": {
      "image/png": "[encoded data removed]",
      "text/plain": [
       "<Figure size 100x100 with 1 Axes>"
      ]
     },
     "metadata": {},
     "output_type": "display_data"
    },
    {
     "data": {
      "image/png": "[encoded data removed]",
      "text/plain": [
       "<Figure size 100x100 with 1 Axes>"
      ]
     },
     "metadata": {},
     "output_type": "display_data"
    },
    {
     "data": {
      "image/png": "[encoded data removed]",
      "text/plain": [
       "<Figure size 100x100 with 1 Axes>"
      ]
     },
     "metadata": {},
     "output_type": "display_data"
    },
    {
     "data": {
      "image/png": "[encoded data removed]",
      "text/plain": [
       "<Figure size 100x100 with 1 Axes>"
      ]
     },
     "metadata": {},
     "output_type": "display_data"
    },
    {
     "data": {
      "image/png": "[encoded data removed]",
      "text/plain": [
       "<Figure size 100x100 with 1 Axes>"
      ]
     },
     "metadata": {},
     "output_type": "display_data"
    },
    {
     "data": {
      "image/png": "[encoded data removed]",
      "text/plain": [
       "<Figure size 100x100 with 1 Axes>"
      ]
     },
     "metadata": {},
     "output_type": "display_data"
    },
    {
     "data": {
      "image/png": "[encoded data removed]",
      "text/plain": [
       "<Figure size 100x100 with 1 Axes>"
      ]
     },
     "metadata": {},
     "output_type": "display_data"
    },
    {
     "data": {
      "image/png": "[encoded data removed]",
      "text/plain": [
       "<Figure size 100x100 with 1 Axes>"
      ]
     },
     "metadata": {},
     "output_type": "display_data"
    },
    {
     "data": {
      "image/png": "[encoded data removed]",
      "text/plain": [
       "<Figure size 100x100 with 1 Axes>"
      ]
     },
     "metadata": {},
     "output_type": "display_data"
    }
   ],
   "source": [
    "ideal_0 = stacked_0s.mean(0)\n",
    "ideal_1 = stacked_1s.mean(0)\n",
    "ideal_2 = stacked_2s.mean(0)\n",
    "ideal_3 = stacked_3s.mean(0)\n",
    "ideal_4 = stacked_4s.mean(0)\n",
    "ideal_5 = stacked_5s.mean(0)\n",
    "ideal_6 = stacked_6s.mean(0)\n",
    "ideal_7 = stacked_7s.mean(0)\n",
    "ideal_8 = stacked_8s.mean(0)\n",
    "ideal_9 = stacked_9s.mean(0)\n",
    "show_image(ideal_0), show_image(ideal_1), show_image(ideal_2), show_image(ideal_3), show_image(ideal_4), show_image(ideal_5), show_image(ideal_6), show_image(ideal_7), show_image(ideal_8), show_image(ideal_9)"
   ]
  },
  {
   "cell_type": "markdown",
   "metadata": {},
   "source": [
    "## Test the baseline model\n",
    "\n",
    "Now that we have an idea of what our ideal digits look like, we can try to classify our images. To test our baseline, we would pick an arbitrary number from the dataset and measure its distance from its _ideal_ representation."
   ]
  },
  {
   "cell_type": "code",
   "execution_count": 111,
   "metadata": {},
   "outputs": [
    {
     "data": {
      "text/plain": [
       "<Axes: >"
      ]
     },
     "execution_count": 111,
     "metadata": {},
     "output_type": "execute_result"
    },
    {
     "data": {
      "image/png": "[encoded data removed]",
      "text/plain": [
       "<Figure size 100x100 with 1 Axes>"
      ]
     },
     "metadata": {},
     "output_type": "display_data"
    }
   ],
   "source": [
    "# here is our sample number for our test\n",
    "ex3_2 = stacked_3s[1]\n",
    "show_image(ex3_2)"
   ]
  },
  {
   "cell_type": "markdown",
   "metadata": {},
   "source": [
    "To calculate the distance from the baseline `3`, we can't just add up the differences in intensity between each of the pixels of both images. It is so because some differences would cancel out (light vs dark pixels), and that would be misleading as very different pixels could add up to zero, which would mean \"no difference from the ideal digit representation\".\n",
    "\n",
    "There are two main ways data scientists measure distance in this context:\n",
    "\n",
    "- take the mean absolute value of differences: this is called _mean absolute difference_ or _L1 norm_\n",
    "- take the mean of the square of differences (which makes everything positive) and then take the square root (which undoes the squaring): this is called _root mean squared error_ or _L2 norm_"
   ]
  },
  {
   "cell_type": "code",
   "execution_count": 112,
   "metadata": {},
   "outputs": [
    {
     "data": {
      "text/plain": [
       "tensor(0.1114)"
      ]
     },
     "execution_count": 112,
     "metadata": {},
     "output_type": "execute_result"
    }
   ],
   "source": [
    "# let's try the `L1` norm\n",
    "ex3_2_dist_l1 = (ex3_2 - ideal_3).abs().mean()\n",
    "\n",
    "ex3_2_dist_l1"
   ]
  },
  {
   "cell_type": "code",
   "execution_count": 113,
   "metadata": {},
   "outputs": [
    {
     "data": {
      "text/plain": [
       "tensor(0.2021)"
      ]
     },
     "execution_count": 113,
     "metadata": {},
     "output_type": "execute_result"
    }
   ],
   "source": [
    "# let's try the `L2` norm now\n",
    "ex3_2_dist_l2 = ((ex3_2 - ideal_3)**2).mean().sqrt()\n",
    "\n",
    "ex3_2_dist_l2"
   ]
  },
  {
   "cell_type": "code",
   "execution_count": 114,
   "metadata": {},
   "outputs": [
    {
     "data": {
      "text/plain": [
       "(tensor(0.1586), tensor(0.1114))"
      ]
     },
     "execution_count": 114,
     "metadata": {},
     "output_type": "execute_result"
    }
   ],
   "source": [
    "# let's predict what an example number is using the examples of 3 and 7 we have,\n",
    "# the closer we are to 0 for a given ideal digit, the more likely it is that our example is that digit\n",
    "\n",
    "# `L1` norm\n",
    "dist7_l1 = (ex3_2 - ideal_7).abs().mean()\n",
    "dist3_l1 = (ex3_2 - ideal_3).abs().mean()\n",
    "dist7_l1, dist3_l1"
   ]
  },
  {
   "cell_type": "code",
   "execution_count": 115,
   "metadata": {},
   "outputs": [
    {
     "data": {
      "text/plain": [
       "(tensor(0.3021), tensor(0.2021))"
      ]
     },
     "execution_count": 115,
     "metadata": {},
     "output_type": "execute_result"
    }
   ],
   "source": [
    "# we'll use the `L2` norm\n",
    "dist7_l2 = ((ex3_2 - ideal_7)**2).mean().sqrt()\n",
    "dist3_l2 = ((ex3_2 - ideal_3)**2).mean().sqrt()\n",
    "dist7_l2, dist3_l2"
   ]
  },
  {
   "cell_type": "markdown",
   "metadata": {},
   "source": [
    "From the little experiment we've just run, we can see that our baseline model predicts right in this particular case, as both results are greater for a 7 than they would have been for a 3.\n",
    "\n",
    "We could have done the same thing with `PyTorch`, which provides loss functions (among many other things), as shown below:"
   ]
  },
  {
   "cell_type": "code",
   "execution_count": 116,
   "metadata": {},
   "outputs": [
    {
     "data": {
      "text/plain": [
       "tensor(0.1586)"
      ]
     },
     "execution_count": 116,
     "metadata": {},
     "output_type": "execute_result"
    }
   ],
   "source": [
    "dist7_l1_torch = F.l1_loss(ex3_2.float(), ideal_7)\n",
    "dist7_l1_torch"
   ]
  },
  {
   "cell_type": "code",
   "execution_count": 117,
   "metadata": {},
   "outputs": [
    {
     "data": {
      "text/plain": [
       "tensor(0.3021)"
      ]
     },
     "execution_count": 117,
     "metadata": {},
     "output_type": "execute_result"
    }
   ],
   "source": [
    "dist7_l2_torch = F.mse_loss(ex3_2, ideal_7).sqrt()\n",
    "dist7_l2_torch"
   ]
  },
  {
   "cell_type": "markdown",
   "metadata": {},
   "source": [
    "We could use PyTorch tensors and MSE loss to train our model, since MSE will penalise more the bigger the difference between the prediction and the target is; this is what we want since we have a wide range of values to predict (0 to 9). Something to be aware of...\n",
    "\n",
    "But let's first try mean absolute error (MAE) loss for now."
   ]
  },
  {
   "cell_type": "markdown",
   "metadata": {},
   "source": [
    "## Defining a metric for our baseline model\n",
    "\n",
    "A metric is a number that is calculated based on the predictions of our model, and the correct labels in our dataset, in order to tell us how good our model is.\n",
    "\n",
    "In practice, _accuracy_ is a common metric for classification models.\n",
    "\n",
    "- The _error rate_ in deep learning refers to the difference between the predicted output and the actual output of a neural network. It is a measure of how well the network is performing on a given task. In this context, _accuracy_ can be defined as `1.0 - error rate`.\n",
    "\n",
    "A metric is always calculated over a _validation_ set.\n",
    "\n",
    "To get a validation set, we need to set aside some of the data of the training set entirely, so it's not seen by the model at all during training."
   ]
  },
  {
   "cell_type": "code",
   "execution_count": 135,
   "metadata": {},
   "outputs": [],
   "source": [
    "# let's create validation tensors for our digits\n",
    "\n",
    "# let's do that by picking the last 1000 images of each digit,\n",
    "# we also want to divide tensors by 255 to normalize the pixel values between 0 and 1\n",
    "mnist_validation_0s = torch.stack(list_0s[-1000:]).float()/255\n",
    "mnist_validation_1s = torch.stack(list_1s[-1000:]).float()/255\n",
    "mnist_validation_2s = torch.stack(list_2s[-1000:]).float()/255\n",
    "mnist_validation_3s = torch.stack(list_3s[-1000:]).float()/255\n",
    "mnist_validation_4s = torch.stack(list_4s[-1000:]).float()/255\n",
    "mnist_validation_5s = torch.stack(list_5s[-1000:]).float()/255\n",
    "mnist_validation_6s = torch.stack(list_6s[-1000:]).float()/255\n",
    "mnist_validation_7s = torch.stack(list_7s[-1000:]).float()/255\n",
    "mnist_validation_8s = torch.stack(list_8s[-1000:]).float()/255\n",
    "mnist_validation_9s = torch.stack(list_9s[-1000:]).float()/255\n"
   ]
  },
  {
   "cell_type": "code",
   "execution_count": 136,
   "metadata": {},
   "outputs": [
    {
     "data": {
      "text/plain": [
       "tensor(0.1114)"
      ]
     },
     "execution_count": 136,
     "metadata": {},
     "output_type": "execute_result"
    }
   ],
   "source": [
    "# now let's write the function that will give use the mean absolute difference losses for a given image\n",
    "def mnist_mad_distance(a,b): return (a-b).abs().mean((-1,-2))\n",
    "mnist_mad_distance(ex3_2, ideal_3)\n"
   ]
  },
  {
   "cell_type": "markdown",
   "metadata": {},
   "source": [
    "### why `mean((-1,-2))`\n",
    "\n",
    "The `mean` function in `PyTorch` can take a tuple of axes to take the mean of. \n",
    "In this case, we want to take the mean over the last two dimensions (in this case, the horizontal and vertical dimensions of an image).\n",
    "\n",
    "The tuple `(-1,-2)` represents a range of axes.\n",
    "\n",
    "This effectively allows us to make batch calculations on rank-3 tensors, as you will see in the example below."
   ]
  },
  {
   "cell_type": "code",
   "execution_count": 142,
   "metadata": {},
   "outputs": [
    {
     "data": {
      "text/plain": [
       "(tensor([0.1463, 0.1251, 0.1306, 0.1207, 0.1151, 0.1080, 0.1358, 0.1287, 0.1194, 0.1228, 0.1533, 0.1287, 0.1191, 0.1395, 0.1177, 0.1245, 0.1469, 0.1037, 0.1333, 0.1597, 0.1069, 0.1258, 0.1211, 0.1553,\n",
       "         0.1144, 0.1547, 0.1246, 0.1089, 0.1313, 0.1374, 0.1180, 0.1371, 0.1395, 0.1502, 0.1055, 0.1601, 0.1352, 0.1329, 0.1365, 0.1308, 0.1198, 0.1425, 0.1428, 0.1397, 0.1316, 0.1231, 0.0992, 0.1460,\n",
       "         0.1322, 0.1677, 0.1744, 0.1022, 0.1240, 0.1409, 0.1503, 0.1250, 0.1490, 0.1099, 0.1246, 0.1249, 0.1280, 0.1337, 0.1116, 0.1597, 0.1363, 0.1191, 0.1048, 0.1385, 0.1115, 0.1628, 0.1366, 0.1410,\n",
       "         0.1207, 0.1254, 0.1304, 0.1296, 0.1304, 0.1711, 0.1227, 0.1379, 0.1094, 0.1221, 0.1582, 0.1197, 0.1240, 0.1105, 0.1144, 0.1183, 0.1031, 0.1339, 0.1516, 0.1454, 0.1372, 0.1205, 0.1485, 0.1704,\n",
       "         0.1207, 0.1114, 0.1212, 0.1307, 0.1287, 0.1308, 0.1501, 0.1314, 0.1447, 0.1264, 0.1633, 0.1626, 0.1490, 0.1632, 0.1228, 0.1479, 0.1249, 0.1106, 0.1285, 0.1169, 0.1102, 0.1123, 0.1216, 0.1704,\n",
       "         0.1276, 0.1431, 0.1244, 0.1562, 0.1113, 0.1264, 0.1526, 0.1178, 0.1169, 0.1177, 0.1129, 0.1064, 0.1679, 0.1774, 0.1436, 0.1290, 0.1507, 0.1350, 0.1483, 0.1333, 0.1295, 0.1139, 0.1144, 0.1180,\n",
       "         0.1366, 0.1284, 0.1119, 0.1277, 0.1393, 0.1524, 0.1075, 0.1480, 0.1200, 0.1312, 0.1119, 0.1521, 0.1614, 0.1140, 0.1140, 0.1332, 0.1291, 0.1053, 0.1544, 0.1334, 0.1640, 0.1337, 0.1600, 0.1524,\n",
       "         0.1529, 0.1051, 0.1530, 0.1441, 0.1418, 0.1543, 0.1547, 0.1331, 0.1099, 0.1119, 0.1041, 0.1246, 0.1089, 0.1043, 0.1182, 0.1214, 0.1167, 0.1228, 0.1327, 0.1228, 0.1463, 0.1385, 0.1256, 0.1255,\n",
       "         0.1229, 0.1267, 0.1167, 0.1049, 0.0984, 0.0974, 0.1475, 0.1495, 0.1282, 0.1596, 0.1270, 0.1171, 0.1368, 0.1278, 0.1408, 0.1388, 0.1360, 0.1152, 0.1342, 0.1380, 0.1716, 0.1255, 0.1595, 0.1208,\n",
       "         0.1536, 0.1192, 0.1386, 0.1507, 0.1446, 0.1246, 0.1313, 0.1258, 0.1378, 0.1266, 0.1232, 0.1201, 0.1214, 0.1471, 0.1275, 0.1250, 0.1061, 0.1663, 0.1395, 0.1269, 0.1330, 0.1617, 0.1493, 0.1784,\n",
       "         0.1393, 0.1145, 0.1275, 0.1302, 0.1728, 0.1458, 0.1316, 0.1410, 0.1203, 0.1204, 0.1119, 0.1283, 0.1258, 0.1180, 0.1458, 0.1241, 0.1289, 0.1340, 0.1265, 0.1206, 0.1297, 0.1240, 0.1264, 0.1261,\n",
       "         0.1133, 0.1159, 0.1271, 0.1024, 0.1119, 0.1103, 0.1292, 0.1248, 0.1277, 0.1224, 0.1313, 0.1031, 0.1243, 0.1306, 0.1375, 0.1311, 0.1151, 0.1226, 0.1333, 0.1071, 0.1431, 0.1485, 0.1147, 0.1065,\n",
       "         0.1475, 0.1488, 0.1248, 0.1117, 0.1228, 0.1358, 0.1268, 0.1010, 0.1473, 0.1188, 0.1146, 0.1123, 0.1184, 0.1094, 0.1353, 0.1253, 0.1499, 0.1235, 0.1275, 0.1126, 0.1014, 0.1311, 0.1303, 0.1372,\n",
       "         0.1216, 0.1015, 0.1077, 0.1483, 0.1223, 0.1338, 0.1203, 0.1092, 0.1420, 0.1314, 0.1246, 0.1099, 0.1297, 0.1460, 0.1349, 0.1287, 0.1126, 0.1378, 0.1442, 0.1556, 0.1580, 0.1565, 0.1541, 0.1351,\n",
       "         0.1524, 0.1092, 0.1316, 0.1204, 0.1172, 0.1421, 0.1139, 0.1321, 0.1159, 0.1478, 0.1235, 0.1276, 0.1125, 0.1169, 0.1383, 0.1069, 0.1069, 0.1078, 0.1061, 0.1008, 0.1040, 0.1034, 0.1076, 0.1018,\n",
       "         0.1047, 0.1090, 0.1094, 0.1139, 0.1448, 0.1522, 0.1310, 0.1332, 0.1309, 0.1144, 0.1359, 0.1437, 0.1429, 0.1348, 0.1155, 0.1057, 0.1188, 0.1712, 0.1080, 0.1174, 0.1044, 0.1114, 0.1279, 0.1130,\n",
       "         0.1093, 0.1482, 0.1106, 0.1130, 0.1221, 0.1084, 0.1129, 0.1180, 0.1405, 0.1146, 0.1125, 0.1100, 0.1207, 0.1317, 0.1377, 0.1258, 0.1288, 0.1300, 0.1192, 0.1395, 0.1370, 0.1627, 0.1353, 0.1625,\n",
       "         0.1322, 0.1447, 0.1458, 0.1284, 0.1418, 0.1385, 0.1331, 0.1341, 0.1222, 0.1070, 0.1144, 0.1155, 0.1234, 0.1330, 0.1460, 0.1359, 0.1213, 0.1151, 0.1144, 0.1134, 0.1203, 0.1202, 0.1303, 0.1208,\n",
       "         0.1151, 0.1060, 0.1436, 0.1044, 0.1114, 0.1115, 0.1374, 0.1374, 0.1299, 0.1109, 0.1408, 0.1379, 0.1532, 0.1156, 0.1439, 0.1477, 0.1430, 0.1313, 0.1206, 0.1079, 0.1267, 0.1249, 0.1506, 0.1617,\n",
       "         0.1447, 0.1309, 0.1105, 0.1329, 0.1229, 0.1121, 0.1154, 0.1242, 0.1186, 0.1132, 0.1198, 0.1698, 0.1512, 0.1610, 0.1769, 0.1520, 0.1310, 0.1330, 0.1346, 0.1563, 0.1217, 0.1501, 0.1876, 0.1365,\n",
       "         0.1660, 0.1389, 0.1171, 0.1288, 0.1215, 0.1226, 0.1153, 0.1131, 0.1347, 0.1241, 0.1192, 0.1456, 0.1404, 0.1340, 0.1181, 0.1143, 0.1210, 0.1419, 0.1454, 0.1254, 0.1760, 0.1338, 0.1196, 0.1070,\n",
       "         0.1229, 0.1178, 0.1128, 0.1516, 0.1306, 0.1212, 0.1166, 0.1227, 0.1410, 0.1480, 0.1124, 0.1171, 0.1472, 0.1121, 0.1162, 0.1205, 0.1049, 0.1058, 0.1493, 0.1205, 0.1432, 0.1078, 0.1109, 0.1246,\n",
       "         0.0988, 0.1523, 0.1229, 0.1364, 0.1609, 0.1180, 0.1366, 0.1178, 0.1564, 0.1182, 0.1466, 0.1304, 0.1117, 0.1477, 0.1210, 0.1083, 0.1556, 0.1462, 0.1623, 0.1416, 0.1488, 0.1707, 0.1135, 0.1460,\n",
       "         0.1206, 0.1434, 0.1257, 0.1021, 0.1313, 0.1642, 0.1615, 0.1630, 0.1362, 0.1290, 0.1237, 0.1257, 0.1400, 0.1547, 0.1109, 0.1000, 0.1456, 0.1502, 0.1296, 0.1271, 0.1469, 0.1274, 0.1339, 0.1271,\n",
       "         0.1111, 0.1245, 0.1438, 0.1254, 0.1538, 0.1181, 0.1328, 0.1095, 0.1318, 0.1340, 0.1485, 0.1179, 0.1761, 0.1332, 0.1490, 0.1149, 0.1406, 0.1348, 0.1452, 0.1523, 0.1203, 0.1160, 0.1209, 0.1038,\n",
       "         0.1388, 0.1067, 0.1101, 0.1046, 0.1259, 0.1190, 0.1473, 0.1278, 0.1129, 0.1600, 0.1092, 0.1202, 0.1182, 0.1503, 0.1157, 0.1075, 0.1092, 0.1326, 0.1086, 0.1079, 0.1131, 0.1989, 0.1579, 0.1692,\n",
       "         0.1132, 0.1202, 0.1320, 0.1127, 0.1223, 0.1086, 0.1159, 0.1391, 0.1495, 0.1186, 0.1173, 0.1493, 0.1168, 0.1311, 0.1157, 0.1124, 0.1233, 0.1438, 0.1147, 0.1616, 0.1735, 0.1197, 0.1574, 0.1122,\n",
       "         0.1524, 0.1186, 0.1370, 0.1262, 0.1435, 0.1189, 0.1261, 0.1278, 0.1383, 0.1124, 0.1632, 0.1345, 0.1305, 0.1086, 0.1309, 0.1472, 0.1354, 0.1290, 0.1215, 0.1179, 0.1354, 0.1283, 0.1215, 0.1062,\n",
       "         0.1272, 0.1183, 0.1595, 0.1261, 0.1167, 0.1213, 0.1416, 0.1307, 0.1156, 0.1627, 0.1324, 0.1317, 0.1232, 0.1287, 0.1341, 0.1115, 0.1039, 0.1209, 0.1339, 0.1334, 0.1377, 0.1236, 0.1052, 0.1088,\n",
       "         0.1409, 0.1202, 0.1140, 0.1174, 0.1131, 0.1160, 0.1147, 0.1194, 0.1091, 0.1083, 0.1137, 0.1132, 0.1141, 0.1094, 0.1229, 0.1156, 0.1117, 0.1381, 0.1265, 0.1053, 0.1097, 0.1100, 0.1406, 0.1200,\n",
       "         0.1424, 0.1586, 0.1113, 0.1413, 0.1198, 0.1134, 0.1491, 0.1143, 0.1287, 0.1141, 0.1279, 0.1499, 0.1470, 0.1293, 0.1390, 0.1044, 0.1709, 0.1413, 0.1306, 0.1324, 0.1225, 0.1411, 0.1536, 0.1254,\n",
       "         0.1385, 0.1338, 0.1176, 0.1305, 0.1597, 0.1258, 0.1787, 0.1222, 0.1208, 0.1281, 0.1255, 0.1331, 0.1337, 0.1323, 0.1687, 0.1137, 0.1377, 0.1090, 0.1288, 0.1346, 0.1126, 0.1435, 0.1460, 0.1188,\n",
       "         0.1450, 0.1513, 0.1277, 0.1114, 0.1402, 0.1318, 0.1275, 0.1454, 0.1627, 0.1332, 0.1259, 0.1251, 0.1269, 0.1519, 0.1272, 0.1076, 0.1412, 0.1757, 0.1172, 0.1580, 0.1083, 0.1122, 0.1571, 0.1099,\n",
       "         0.1303, 0.1577, 0.1140, 0.1415, 0.1300, 0.1656, 0.1381, 0.1384, 0.1417, 0.1262, 0.1120, 0.1463, 0.1070, 0.1586, 0.1602, 0.1481, 0.1962, 0.1220, 0.1662, 0.1690, 0.1116, 0.1485, 0.1515, 0.1077,\n",
       "         0.1271, 0.1294, 0.1303, 0.1086, 0.1705, 0.1507, 0.1302, 0.1059, 0.1075, 0.1493, 0.1300, 0.1587, 0.1153, 0.1463, 0.1310, 0.1714, 0.1225, 0.1664, 0.1365, 0.1141, 0.1290, 0.1652, 0.1503, 0.1192,\n",
       "         0.1643, 0.1082, 0.1569, 0.2144, 0.1255, 0.1670, 0.1550, 0.1256, 0.1509, 0.1719, 0.1491, 0.1187, 0.1225, 0.1230, 0.1231, 0.1333, 0.1082, 0.1156, 0.1274, 0.1223, 0.1721, 0.1169, 0.1863, 0.1712,\n",
       "         0.1478, 0.1237, 0.1376, 0.1391, 0.1247, 0.1319, 0.1172, 0.1101, 0.1243, 0.1048, 0.1160, 0.1626, 0.1359, 0.1504, 0.1035, 0.1806, 0.1153, 0.1056, 0.1314, 0.1072, 0.1587, 0.1223, 0.0974, 0.1188,\n",
       "         0.1394, 0.1357, 0.1168, 0.1146, 0.1422, 0.1214, 0.1199, 0.1373, 0.1201, 0.1199, 0.1572, 0.1371, 0.1243, 0.1343, 0.1264, 0.1448, 0.1338, 0.1173, 0.1097, 0.1260, 0.1187, 0.1292, 0.1452, 0.1347,\n",
       "         0.1345, 0.1253, 0.1395, 0.1271, 0.1602, 0.1639, 0.1185, 0.1184, 0.1250, 0.1450, 0.1364, 0.1611, 0.1562, 0.1231, 0.1421, 0.1568, 0.1452, 0.1089, 0.1225, 0.1122, 0.1226, 0.1163, 0.1355, 0.1400,\n",
       "         0.1441, 0.1023, 0.1568, 0.1340, 0.1259, 0.1327, 0.1202, 0.1315, 0.1186, 0.1105, 0.1593, 0.1366, 0.1157, 0.1557, 0.1223, 0.1468, 0.1214, 0.1196, 0.1345, 0.1090, 0.1253, 0.1192, 0.1274, 0.1119,\n",
       "         0.1553, 0.1255, 0.1586, 0.1199, 0.1261, 0.1197, 0.1264, 0.1146, 0.1140, 0.1224, 0.1290, 0.1250, 0.1398, 0.1238, 0.1649, 0.1214, 0.1052, 0.1168, 0.1032, 0.1209, 0.1099, 0.1305, 0.1297, 0.1396,\n",
       "         0.1412, 0.1230, 0.1108, 0.1233, 0.1367, 0.1209, 0.1179, 0.1237, 0.1279, 0.1275, 0.1188, 0.1319, 0.1210, 0.1316, 0.1220, 0.1267]),\n",
       " torch.Size([1000]))"
      ]
     },
     "execution_count": 142,
     "metadata": {},
     "output_type": "execute_result"
    }
   ],
   "source": [
    "# applying the same calculation for every image in our validation set\n",
    "# for every image, we averaged the intensity of all pixels in that image;\n",
    "# we are left with a rank-1 tensor of a thousand numbers\n",
    "valid_3_l1_distances = mnist_mad_distance(mnist_validation_3s, ideal_3)\n",
    "valid_3_l1_distances, valid_3_l1_distances.shape"
   ]
  },
  {
   "cell_type": "markdown",
   "metadata": {},
   "source": [
    "`PyTorch` is so versatile it didn't even complain about shapes not matching and calculated the distance for each image instead !\n",
    "\n",
    "This is made possible because `PyTorch` uses _broadcasting_ under the hood: e.g. the ability expand a lower rank tensor to have the same size as a higher rank input tensor during a calculation. This is why this type of operation is possible:\n",
    "\n",
    "```python\n",
    "tensor([1,2,3]) + tensor(1) # tensor([2,3,4])\n",
    "```\n",
    "\n",
    "Now let's continue with the function that determines which number is predicted by our baseline model:"
   ]
  },
  {
   "cell_type": "code",
   "execution_count": 137,
   "metadata": {},
   "outputs": [
    {
     "data": {
      "text/plain": [
       "tensor(3.)"
      ]
     },
     "execution_count": 137,
     "metadata": {},
     "output_type": "execute_result"
    }
   ],
   "source": [
    "def is_y(x): \n",
    "    mads = tensor([mnist_mad_distance(x,ideal_0), mnist_mad_distance(x,ideal_1), mnist_mad_distance(x,ideal_2), mnist_mad_distance(x,ideal_3), \n",
    "        mnist_mad_distance(x,ideal_4), mnist_mad_distance(x,ideal_5), mnist_mad_distance(x,ideal_6), mnist_mad_distance(x,ideal_7), \n",
    "        mnist_mad_distance(x,ideal_8), mnist_mad_distance(x,ideal_9)])\n",
    "    # get the index of the minimum value\n",
    "    return mads.argmin().float()\n",
    "\n",
    "# let's test the function\n",
    "is_y(ex3_2)"
   ]
  },
  {
   "cell_type": "code",
   "execution_count": 138,
   "metadata": {},
   "outputs": [
    {
     "data": {
      "text/plain": [
       "torch.Size([1000, 28, 28])"
      ]
     },
     "execution_count": 138,
     "metadata": {},
     "output_type": "execute_result"
    }
   ],
   "source": [
    "# let's do the same thing at scale\n",
    "mnist_validation_3s.shape"
   ]
  },
  {
   "cell_type": "code",
   "execution_count": 146,
   "metadata": {},
   "outputs": [],
   "source": [
    "# since we have a rank-3 tensors of 1000 images, we'll need to call our function without its first axis\n",
    "def is_y_batch(x_batch):\n",
    "    # create an empty tensor\n",
    "    results = tensor([])\n",
    "    for i in range(x_batch.shape[0]):\n",
    "        x = x_batch[i]\n",
    "        y = is_y(x).item()\n",
    "        # push the float value into the tensor\n",
    "        results = torch.cat((results, tensor([y])))\n",
    "    return results"
   ]
  },
  {
   "cell_type": "code",
   "execution_count": 147,
   "metadata": {},
   "outputs": [
    {
     "name": "stdout",
     "output_type": "stream",
     "text": [
      "accuracy for 0s: 81.9000015258789\n",
      "accuracy for 1s: 99.80000305175781\n",
      "accuracy for 2s: 47.099998474121094\n",
      "accuracy for 3s: 60.60000228881836\n",
      "accuracy for 4s: 69.70000457763672\n",
      "accuracy for 5s: 29.69999885559082\n",
      "accuracy for 6s: 78.30000305175781\n",
      "accuracy for 7s: 78.30000305175781\n",
      "accuracy for 8s: 41.80000305175781\n",
      "accuracy for 9s: 75.0\n"
     ]
    }
   ],
   "source": [
    "# let's check our accuracy for all digits\n",
    "for i in range(0, 10):\n",
    "    predicted_y = is_y_batch(globals()[f'mnist_validation_{i}s'])\n",
    "    number_of_y =  predicted_y.lt(i+1) & predicted_y.ge(i)\n",
    "    print(f'accuracy for {i}s: {(number_of_y.sum() / 1000) * 100}')\n"
   ]
  },
  {
   "cell_type": "markdown",
   "metadata": {},
   "source": [
    "We can conclude from the above that we have a pretty good baseline for most numbers!\n",
    "\n",
    "However, we are underperforming for 8s, 5s, and 2s. Can we get a better result with the L2 norm?"
   ]
  },
  {
   "cell_type": "code",
   "execution_count": 148,
   "metadata": {},
   "outputs": [
    {
     "data": {
      "text/plain": [
       "tensor(0.2021)"
      ]
     },
     "execution_count": 148,
     "metadata": {},
     "output_type": "execute_result"
    }
   ],
   "source": [
    "def mnist_mse_distance(a,b): return F.mse_loss(a, b).sqrt()\n",
    "mnist_mse_distance(ex3_2, ideal_3)"
   ]
  },
  {
   "cell_type": "code",
   "execution_count": 149,
   "metadata": {},
   "outputs": [
    {
     "name": "stdout",
     "output_type": "stream",
     "text": [
      "accuracy for 0s: 86.5\n",
      "accuracy for 1s: 96.5\n",
      "accuracy for 2s: 78.30000305175781\n",
      "accuracy for 3s: 78.5\n",
      "accuracy for 4s: 84.30000305175781\n",
      "accuracy for 5s: 68.80000305175781\n",
      "accuracy for 6s: 89.70000457763672\n",
      "accuracy for 7s: 86.29999542236328\n",
      "accuracy for 8s: 74.29999542236328\n",
      "accuracy for 9s: 80.5\n"
     ]
    }
   ],
   "source": [
    "def is_y_mse(x): \n",
    "    mads = tensor([mnist_mse_distance(x,ideal_0), mnist_mse_distance(x,ideal_1), mnist_mse_distance(x,ideal_2), mnist_mse_distance(x,ideal_3), \n",
    "        mnist_mse_distance(x,ideal_4), mnist_mse_distance(x,ideal_5), mnist_mse_distance(x,ideal_6), mnist_mse_distance(x,ideal_7), \n",
    "        mnist_mse_distance(x,ideal_8), mnist_mse_distance(x,ideal_9)])\n",
    "    # get the index of the minimum value\n",
    "    return mads.argmin().float()\n",
    "\n",
    "def is_y_mse_batch(x_batch):\n",
    "    # create an empty tensor\n",
    "    results = tensor([])\n",
    "    for i in range(x_batch.shape[0]):\n",
    "        x = x_batch[i]\n",
    "        y = is_y_mse(x).item()\n",
    "        # push the float value into the tensor\n",
    "        results = torch.cat((results, tensor([y])))\n",
    "    return results\n",
    "\n",
    "# let's check our accuracy for all digits using MSE\n",
    "for i in range(0, 10):\n",
    "    predicted_y = is_y_mse_batch(globals()[f'mnist_validation_{i}s'])\n",
    "    number_of_y =  predicted_y.lt(i+1) & predicted_y.ge(i)\n",
    "    print(f'accuracy for {i}s: {(number_of_y.sum() / 1000) * 100}')"
   ]
  },
  {
   "cell_type": "markdown",
   "metadata": {},
   "source": [
    "As we can see, this is way better with MSE! Now we have a very decent baseline model. No accuracy for any digit is under 50%."
   ]
  },
  {
   "cell_type": "markdown",
   "metadata": {},
   "source": [
    "## Using another approach to classify digits: a linear model with SGD\n",
    "\n",
    "In our pixels similarity approach, we don't have any kind of weight assignment, or any way of improving our classifier based on testing the effectiveness of a weight assignment.\n",
    "\n",
    "_Stochastic gradient descent_ is a technique used to update the weights of a neural network in order to make it improve at any given task. Its power resides in the fact that it provides a way of finding weight values automatically.\n",
    "\n",
    "Now, back to our problem.\n",
    "\n",
    "Instead of trying to find the similarity between an image and an \"ideal image,\" we could instead look at each individual pixel and come up with a set of weights for each one.\n",
    "\n",
    "For instance, pixels toward the bottom right are not very likely to activate neurons for a 7, so they should have a low weight for a 7, but they are likely to be activated for an 8, so they should have a high weight for an 8. \n",
    "\n",
    "This can be represented as a function with a set of weight values for each possible category, for instance the probability of being the number 8 =>\n",
    "\n",
    "```python\n",
    "def pr_eight(image_vector, weights_vector): return (image_vector * weights_vector).sum()\n",
    "```\n",
    "\n",
    "Here, the image represented as a vector is basically \"all the rows stacked up end to end on a single long line\". With this kind of function, we just need some way to update the weights to make them better and better at distinguishing between digits: we want to find the specific values for the weights that cause the result of our function to be high for images that are actually 8s, and low for images that are not. Searching for the best weights is a way of searching for the best function that recognizes 8s.\n",
    "\n",
    "These are the steps that will turn our function into a machine learning classifier:\n",
    "\n",
    "1. _Initialize_ the weights with random values\n",
    "2. For each image, use these weights to predict whether it appears to be a 3 or a 7\n",
    "3. Based on these predictions, calculate how good the model is (its _loss_)\n",
    "4. Calculate the _gradient_, which measures for each weight, how changing that weight would change the loss; the gradients will tell us how much we have to change each weight to make our model better\n",
    "5. _Step_ (that is, _change_) all the weights based on the previous calculation\n",
    "6. Go back to step 2 and repeat the process\n",
    "7. Iterate until you decide to stop the training process (for instance, because the model is good enough or you don't want to wait any longer). Generally, you would want to stop the training process when the model stops improving or gets worse\n",
    "\n",
    "These relatively simple steps are the basis for nearly all deep learning models.\n",
    "\n",
    "When we know how a function changes, we know what we need to make its value smaller. This is what weights assignment is all about.\n",
    "\n",
    "One important thing to be aware of is that our function has lots of weights that we need to adjust, so when we calculate the derivative of these weights we won't get back one number, but rather lots of them: a _gradient_ for every weight. But there is nothing mathematically tricky here; you can calculate the derivative with respect to one weight, and treat all the other ones as constant, then repeat that for each other weight. This is how all of the gradients are calculated, for every weight.\n",
    "\n",
    "Thankfully, `PyTorch` can automatically compute the derivative of nearly any function!\n",
    "Adjusting the weights of our model can be then expressed as simply as:\n",
    "\n",
    "```python\t\n",
    "weights -= gradient * lr\n",
    "```\n",
    "\n",
    "This is what _stepping the weights_ actually means.\n",
    "\n",
    "We use a substraction here to allow for:\n",
    "\n",
    "- in case the slope is positive, the weight to be decreased\n",
    "- in case the slope is negative, the weight to be increased\n",
    "\n",
    "Remember: our ultimate goal is to minimize the loss.\n",
    "\n",
    "Let's summarize a few points here:\n",
    "\n",
    "- The weights of a model can be random (training a model from scratch) or they can come from a pre trained model (transfer learning).\n",
    "- If you train a model from scratch, the first outputs you'll get will probably be pretty bad, because your weights are random.\n",
    "- Also, in case of a pretrained model, the first outputs won't probably be what you want, because the model was trained for a different task. So, the model will need to _learn_ better weights.\n",
    "- To measure the performance of a model, you compare the outputs the model gives you with the targets (the true labels), using a loss function.\n",
    "- We want the output of the loss function to be as low as possible by improving the weights of the model.\n",
    "- For improving the model, you'd want to set aside a few data items that you don't train the model on, called the _validation set_. This is the set that will be used to measure performance.\n",
    "- Figuring out how to change the loss to make it better heavily relies on Calculus and gradients. This is made easy with tools like `PyTorch` 😎.\n",
    "- At each pass of the iterative process that makes the weights better, we use the magnitude of each gradient to tell us how big a step is to take into a better direction. We multiply the gradients by a number called the _learning rate_ to decide each step size.\n",
    "- When the loss does not get any better, we say that the model has _converged_ and we stop the training.\n",
    "\n",
    "Alright, we are ready to apply this to the MNIST dataset now !\n",
    "\n"
   ]
  },
  {
   "cell_type": "markdown",
   "metadata": {},
   "source": [
    "## Defining training and validation sets + parameters\n",
    "\n",
    "For our digits classifier issue to solve, we already have independent variables (x-axis): these are the images themselves. This means we can put together our training dataset.\n",
    "\n",
    "Let's concatenate all of them into a single tensor.\n",
    "\n",
    "To do this, we'll need to go from a rank-3 tensor of images stacked together to a list of vectors (rank-2 tensor). This can be done using the `view` method of `PyTorch` tensors, as it changes the shape of a tensor without changing its contents."
   ]
  },
  {
   "cell_type": "code",
   "execution_count": 55,
   "metadata": {},
   "outputs": [],
   "source": [
    "# `torch.cat` concatenates tensors along the first dimension;\n",
    "# then `view` reshapes the concatenated tensor into a rank-2 tensor,\n",
    "# this new tensor has 28*28 columns and a number of rows equal to the number of images in the 2 original tensors;\n",
    "# a 28*28 image is flattened into a 784 pixels vector\n",
    "train_x = torch.cat([stacked_3s, stacked_7s]).view(-1, 28*28)"
   ]
  },
  {
   "cell_type": "code",
   "execution_count": 53,
   "metadata": {},
   "outputs": [],
   "source": [
    "# let's label each image\n",
    "train_y = tensor([1]*len(mnist_threes) + [0]*len(mnist_sevens)).unsqueeze(1)"
   ]
  },
  {
   "cell_type": "markdown",
   "metadata": {},
   "source": [
    "The line of code above:\n",
    "\n",
    "- concatenates 2 tensors of length `len(threes)` and `len(sevens)` respectively\n",
    "- the first elements of this new tensor (`len(threes)`) are set to 0\n",
    "- the last elements of this new tensor (`len(sevens)`) are set to 1\n",
    "- calling `unsqueeze` on a tensor adds an extra dimension to it\n",
    "- we add one extra dimension to match the shape of the images tensor that will be fed to the model\n",
    "- the resulting tensor has a shape of `(n, 1)`, where `n` is the number of images in the dataset"
   ]
  },
  {
   "cell_type": "code",
   "execution_count": 56,
   "metadata": {},
   "outputs": [
    {
     "data": {
      "text/plain": [
       "(torch.Size([12396, 784]), torch.Size([12396, 1]))"
      ]
     },
     "execution_count": 56,
     "metadata": {},
     "output_type": "execute_result"
    }
   ],
   "source": [
    "train_x.shape,train_y.shape"
   ]
  },
  {
   "cell_type": "markdown",
   "metadata": {},
   "source": [
    "A `Dataset` in `PyTorch` is an abstract class that represents a collection of data samples.\n",
    "\n",
    "When indexed, a `Dataset` is required to return a tuple of `(x,y)`, where `x` is the input data and `y` is the label.\n",
    "\n",
    "Let's create our `Dataset` of images and labels using the `zip` function:"
   ]
  },
  {
   "cell_type": "code",
   "execution_count": 57,
   "metadata": {},
   "outputs": [
    {
     "data": {
      "text/plain": [
       "(torch.Size([784]), tensor([1]))"
      ]
     },
     "execution_count": 57,
     "metadata": {},
     "output_type": "execute_result"
    }
   ],
   "source": [
    "training_set = list(zip(train_x,train_y))\n",
    "\n",
    "# taking a look at the first element of the dataset,\n",
    "# here, `y` represents the label of the image\n",
    "x,y = training_set[0] \n",
    "x.shape,y"
   ]
  },
  {
   "cell_type": "code",
   "execution_count": 58,
   "metadata": {},
   "outputs": [],
   "source": [
    "# now, let's put together our validation set\n",
    "valid_x = torch.cat([mnist_validation_threes, mnist_validation_sevens]).view(-1, 28*28)\n",
    "valid_y = tensor([1]*len(mnist_validation_threes) + [0]*len(mnist_validation_sevens)).unsqueeze(1)\n",
    "validation_set = list(zip(valid_x,valid_y))"
   ]
  },
  {
   "cell_type": "code",
   "execution_count": 59,
   "metadata": {},
   "outputs": [
    {
     "data": {
      "text/plain": [
       "tensor([[ 1.9269],\n",
       "        [ 1.4873],\n",
       "        [ 0.9007],\n",
       "        [-2.1055],\n",
       "        [ 0.6784]], grad_fn=<SliceBackward0>)"
      ]
     },
     "execution_count": 59,
     "metadata": {},
     "output_type": "execute_result"
    }
   ],
   "source": [
    "# let's initialize our weights for every pixel with random values\n",
    "\n",
    "# this function returns a tensor of size `size` filled with random values from a normal distribution with a standard deviation of `std`\n",
    "def init_params(size, std=1.0): return (torch.randn(size)*std).requires_grad_()\n",
    "\n",
    "weights = init_params((28*28,1))\n",
    "# print a sample of our weights\n",
    "weights[:5]"
   ]
  },
  {
   "cell_type": "markdown",
   "metadata": {},
   "source": [
    "If the goal is to multiply each pixel of the images by a weight value, we should take into account the fact that some pixels will have a value of `0`.\n",
    "\n",
    "This means that the function `weights * pixels` won't be flexible enough for our purpose since it can sometimes result in a value of `0` even if the weight is not `0`. That's not we want.\n",
    "\n",
    "Now, since the equation of a straight line is `y = wx + b`, we can add a constant `b` to our function to make it more flexible. This is called a _bias_.\n",
    "\n",
    "Together, the _weights_ and the _bias_ are called the _parameters_ of the model."
   ]
  },
  {
   "cell_type": "code",
   "execution_count": 60,
   "metadata": {},
   "outputs": [
    {
     "data": {
      "text/plain": [
       "tensor([0.3472], requires_grad=True)"
      ]
     },
     "execution_count": 60,
     "metadata": {},
     "output_type": "execute_result"
    }
   ],
   "source": [
    "bias = init_params(1)\n",
    "bias"
   ]
  },
  {
   "cell_type": "code",
   "execution_count": 1051,
   "metadata": {},
   "outputs": [
    {
     "data": {
      "text/plain": [
       "tensor([8.3031], grad_fn=<AddBackward0>)"
      ]
     },
     "execution_count": 1051,
     "metadata": {},
     "output_type": "execute_result"
    }
   ],
   "source": [
    "# we are now able to calculate a prediction for an image,\n",
    "# this is a simple implementation of a linear regression model;\n",
    "# `weights.T` means \"taking the transpose of the weights tensor\",\n",
    "# this is done because we want to multiply the weights by the pixels of the image,\n",
    "# so we turn the `weights` matrix rows into columns and vice versa\n",
    "(train_x[0]*weights.T).sum() + bias"
   ]
  },
  {
   "cell_type": "markdown",
   "metadata": {},
   "source": [
    "While we could use a Python for loop to calculate the prediction for each image, that would be very slow. Because Python loops don't run on the GPU, and because Python is a slow language for loops in general, we need to represent as much of the computation in a model as possible using higher-level functions.\n",
    "\n",
    "In this case, there's an extremely convenient mathematical operation that calculates `w*x` for every row of a matrix: matrix multiplication.\n",
    "\n",
    "In Python, matrix multiplication is represented with the `@` operator. Let's try it:"
   ]
  },
  {
   "cell_type": "code",
   "execution_count": 1052,
   "metadata": {},
   "outputs": [
    {
     "data": {
      "text/plain": [
       "torch.Size([784, 1])"
      ]
     },
     "execution_count": 1052,
     "metadata": {},
     "output_type": "execute_result"
    }
   ],
   "source": [
    "weights.shape"
   ]
  },
  {
   "cell_type": "code",
   "execution_count": 1053,
   "metadata": {},
   "outputs": [
    {
     "data": {
      "text/plain": [
       "torch.Size([12396, 784])"
      ]
     },
     "execution_count": 1053,
     "metadata": {},
     "output_type": "execute_result"
    }
   ],
   "source": [
    "train_x.shape"
   ]
  },
  {
   "cell_type": "code",
   "execution_count": 64,
   "metadata": {},
   "outputs": [
    {
     "data": {
      "text/plain": [
       "tensor([[ -6.2330],\n",
       "        [-10.6388],\n",
       "        [-20.8865],\n",
       "        ...,\n",
       "        [-15.9176],\n",
       "        [ -1.6866],\n",
       "        [-11.3568]], grad_fn=<AddBackward0>)"
      ]
     },
     "execution_count": 64,
     "metadata": {},
     "output_type": "execute_result"
    }
   ],
   "source": [
    "def multiply_data_by_params_model(independent_variables): return independent_variables@weights + bias\n",
    "preds = multiply_data_by_params_model(train_x)\n",
    "preds"
   ]
  },
  {
   "cell_type": "markdown",
   "metadata": {},
   "source": [
    "The equation `batch @ weights + bias` is a fundamental equation of any neural network."
   ]
  },
  {
   "cell_type": "markdown",
   "metadata": {},
   "source": [
    "## checking our model's accuracy\n",
    "\n",
    "Let's check our accuracy. To decide if an output represents a 3 or a 7, we can just check whether it's greater than 0.0, since a 3 is a one and a 7 is a 0, so our accuracy for each item can be calculated (using broadcasting and no loops!) with:"
   ]
  },
  {
   "cell_type": "code",
   "execution_count": 65,
   "metadata": {},
   "outputs": [
    {
     "data": {
      "text/plain": [
       "tensor([[False],\n",
       "        [False],\n",
       "        [False],\n",
       "        ...,\n",
       "        [ True],\n",
       "        [ True],\n",
       "        [ True]])"
      ]
     },
     "execution_count": 65,
     "metadata": {},
     "output_type": "execute_result"
    }
   ],
   "source": [
    "\n",
    "corrects = (preds > 0.0).float() == train_y\n",
    "corrects"
   ]
  },
  {
   "cell_type": "code",
   "execution_count": 66,
   "metadata": {},
   "outputs": [
    {
     "data": {
      "text/plain": [
       "0.5379961133003235"
      ]
     },
     "execution_count": 66,
     "metadata": {},
     "output_type": "execute_result"
    }
   ],
   "source": [
    "# our accuracy would be ...\n",
    "corrects.float().mean().item()"
   ]
  },
  {
   "cell_type": "markdown",
   "metadata": {},
   "source": [
    "## Choosing a loss function\n",
    "\n",
    "As we've seen, we need gradients in order to improve our model using SGD, and in order to calculate gradients we need some loss function that represents how good our model is. That is because the gradients are a measure of how the loss function changes with small tweaks to the weights. So, we need to choose a loss function.\n",
    "\n",
    "A very small change of a weight won't influence the overall accuracy of the model, so we can exclude accuracy as our loss function.\n",
    "\n",
    "Instead, we need a loss function which, when our weights result in slightly better predictions, gives us a slightly better loss. So what does a \"slightly better prediction\" look like, exactly? Well, in this case, it means that if the correct answer is a 3 the score is a little higher, or if the correct answer is a 7 the score is a little lower.\n",
    "\n",
    "The loss function receives not the images themselves, but the predictions from the model. Let's make one argument, `predictions`, of values between 0 and 1, where each value is the prediction that an image is a 3. It is a vector (i.e., a rank-1 tensor), indexed over the images.\n",
    "\n",
    "The purpose of the loss function is to measure the difference between predicted values and the true values — that is, the targets (aka labels). Let's make another parameter, `targets`, with values of 0 or 1 which tells whether an image actually is a 3 or not. It is also a vector (i.e., another rank-1 tensor), indexed over the images.\n",
    "\n",
    "Let's try this:"
   ]
  },
  {
   "cell_type": "code",
   "execution_count": 67,
   "metadata": {},
   "outputs": [],
   "source": [
    "# measure how distant each prediction is from 1 if it should be 1, \n",
    "# and how distant it is from 0 if it should be 0, \n",
    "# and then take the mean of all those distances\n",
    "\n",
    "def mnist_loss(predictions, targets):\n",
    "    # The 'torch.where' function takes three arguments: condition, x, and y.\n",
    "    # It returns a new tensor where each element comes from either 'x' or 'y', depending on the corresponding element in 'condition'.\n",
    "    return torch.where(\n",
    "        targets == 1,  # Condition: Check where the targets are 1\n",
    "        1 - predictions,  # x: If target is 1, loss is (1 - prediction)\n",
    "        predictions  # y: If target is 0, loss is (prediction)\n",
    "    ).mean()  # Calculate the mean of the resulting tensor\n"
   ]
  },
  {
   "cell_type": "markdown",
   "metadata": {},
   "source": [
    "`torch.where(condition, x, y)` is a PyTorch function that takes a condition and two tensors x and y. For each element in the condition tensor, it will choose the corresponding element from x if the condition is True, and from y if the condition is False.\n",
    "\n",
    "The function above will return a lower number when:\n",
    "\n",
    "- predictions are more accurate\n",
    "- accurate predictions are more confident\n",
    "- inaccurate predictions are less confident\n",
    "\n",
    "One problem with `mnist_loss` as currently defined is that it assumes that predictions are always between 0 and 1. We need to ensure, then, that this is actually the case! As it happens, there is a function that does exactly that: the _sigmoid_ function."
   ]
  },
  {
   "cell_type": "code",
   "execution_count": 69,
   "metadata": {},
   "outputs": [],
   "source": [
    "# let's update the `mnist_loss` function to use the sigmoid function\n",
    "def mnist_loss(predictions, targets):\n",
    "    predictions = predictions.sigmoid()\n",
    "    return torch.where(targets==1, 1-predictions, predictions).mean()"
   ]
  },
  {
   "cell_type": "markdown",
   "metadata": {},
   "source": [
    "## Putting our linear modal together"
   ]
  },
  {
   "cell_type": "code",
   "execution_count": 71,
   "metadata": {},
   "outputs": [
    {
     "data": {
      "text/plain": [
       "(torch.Size([256, 784]), torch.Size([256, 1]))"
      ]
     },
     "execution_count": 71,
     "metadata": {},
     "output_type": "execute_result"
    }
   ],
   "source": [
    "# initialize our parameters\n",
    "weights = init_params((28*28,1))\n",
    "bias = init_params(1)\n",
    "\n",
    "# creating a data loader that will return batches of a given size shuffled for every epoch\n",
    "training_data_loader = DataLoader(training_set, batch_size=256)\n",
    "x,y = first(training_data_loader)\n",
    "x.shape,y.shape"
   ]
  },
  {
   "cell_type": "code",
   "execution_count": 77,
   "metadata": {},
   "outputs": [],
   "source": [
    "# creating a data loader for the validation set\n",
    "validation_data_loader = DataLoader(validation_set, batch_size=256)"
   ]
  },
  {
   "cell_type": "code",
   "execution_count": 76,
   "metadata": {},
   "outputs": [],
   "source": [
    "# let's define a few functions that will help us calculate the gradients and update the weights and biases\n",
    "\n",
    "# let's also write a function that calculates accuracy for each batch\n",
    "def batch_accuracy(independent_variables, dependent_variables):\n",
    "    preds = independent_variables.sigmoid()\n",
    "    correct = (preds > 0.5) == dependent_variables\n",
    "    return correct.float().mean()\n",
    "\n",
    "# let's put this logic into a function for:\n",
    "#  - making predictions\n",
    "#  - calculating the loss\n",
    "#  - calculating the gradients\n",
    "def calc_grad(independent_variables, dependent_variables, model):\n",
    "    preds = model(independent_variables)\n",
    "    loss = mnist_loss(preds, dependent_variables)\n",
    "    # The `backward` function actually adds the gradients of `loss` to any gradients that are currently stored.\n",
    "    loss.backward()\n",
    "\n",
    "# we need to update the weights and biases based on the gradient and learning rate\n",
    "def train_epoch(model, lr, params):\n",
    "    for x, y in training_data_loader:\n",
    "        calc_grad(x, y, model)\n",
    "        for p in params:\n",
    "            p.data -= p.grad*lr\n",
    "            # we have to tell `PyTorch` to not store the gradients for this step,\n",
    "            # otherwise they would accumulate and things could get very confusing\n",
    "            p.grad.zero_()\n",
    "\n",
    "# let's write a validation function,\n",
    "# this function `validate_epoch` takes a PyTorch model as input and evaluates its accuracy on a validation dataset.\n",
    "# It does so by iterating over batches of data in the validation dataloader, \n",
    "# passing each batch through the model to get the predicted outputs, \n",
    "# and comparing those predictions to the true labels (`dependent_variables`) to calculate the accuracy of each batch. \n",
    "# The function then returns the average accuracy across all batches, rounded to 4 decimal places.\n",
    "def validate_epoch(model):\n",
    "    accs = [batch_accuracy(model(independent_variables), dependent_variables) for independent_variables, dependent_variables in validation_data_loader]\n",
    "    return round(torch.stack(accs).mean().item(), 4)"
   ]
  },
  {
   "cell_type": "code",
   "execution_count": 78,
   "metadata": {},
   "outputs": [
    {
     "data": {
      "text/plain": [
       "0.6546"
      ]
     },
     "execution_count": 78,
     "metadata": {},
     "output_type": "execute_result"
    }
   ],
   "source": [
    "# let's run a first iteration of our model\n",
    "lr = 1.\n",
    "params = weights, bias\n",
    "train_epoch(multiply_data_by_params_model, lr, params)\n",
    "validate_epoch(multiply_data_by_params_model)"
   ]
  },
  {
   "cell_type": "code",
   "execution_count": 79,
   "metadata": {},
   "outputs": [
    {
     "name": "stdout",
     "output_type": "stream",
     "text": [
      "0.8158 0.8915 0.9291 0.9413 0.9486 0.953 0.956 0.9574 0.9589 0.9599 "
     ]
    }
   ],
   "source": [
    "# then let's do a few more rounds\n",
    "for i in range(10):\n",
    "    train_epoch(multiply_data_by_params_model, lr, params)\n",
    "    print(validate_epoch(multiply_data_by_params_model), end=' ')"
   ]
  },
  {
   "cell_type": "markdown",
   "metadata": {},
   "source": [
    "... this is pretty promising !\n",
    "\n",
    "Now let's create an object that will handle the SGD steps for us. In `PyTorch`, it's called an _optimizer_.\n",
    "\n",
    "There is a module in `PyTorch` called `nn.Linear`: it does the same things as `init_params` and `multiply_data_by_params_model` together.\n",
    "\n",
    "It will contain both the weights and the biases of our model in a single class."
   ]
  },
  {
   "cell_type": "code",
   "execution_count": 80,
   "metadata": {},
   "outputs": [
    {
     "data": {
      "text/plain": [
       "(torch.Size([1, 784]), torch.Size([1]))"
      ]
     },
     "execution_count": 80,
     "metadata": {},
     "output_type": "execute_result"
    }
   ],
   "source": [
    "linear_model = nn.Linear(28*28,1)\n",
    "\n",
    "weights, biases = linear_model.parameters()\n",
    "weights.shape, biases.shape"
   ]
  },
  {
   "cell_type": "code",
   "execution_count": 81,
   "metadata": {},
   "outputs": [],
   "source": [
    "# let's use that to create our basic optimizer\n",
    "class BasicOptim:\n",
    "    def __init__(self,params,lr): self.params,self.lr = list(params),lr\n",
    "\n",
    "    def step(self, *args, **kwargs):\n",
    "        for p in self.params: p.data -= p.grad.data * self.lr\n",
    "\n",
    "    def zero_grad(self, *args, **kwargs):\n",
    "        for p in self.params: p.grad = None\n",
    "\n",
    "# let's make an instance of it using our model's parameters\n",
    "opt = BasicOptim(linear_model.parameters(), lr)   \n",
    "\n",
    "# this simplifies our training loop to:\n",
    "def train_epoch(model):\n",
    "    for x, y in training_data_loader:\n",
    "        calc_grad(x, y, model)\n",
    "        opt.step()\n",
    "        opt.zero_grad()\n",
    "\n",
    "# we can now write a function that trains our model:\n",
    "def train_model(model, epochs):\n",
    "    for i in range(epochs):\n",
    "        train_epoch(model)\n",
    "        print(validate_epoch(model), end=' ')"
   ]
  },
  {
   "cell_type": "code",
   "execution_count": 82,
   "metadata": {},
   "outputs": [
    {
     "name": "stdout",
     "output_type": "stream",
     "text": [
      "0.4932 0.8262 0.8408 0.9126 0.9341 0.9468 0.9555 0.9629 0.9653 0.9668 0.9692 0.9717 0.9731 0.9751 0.9761 0.9765 0.9775 0.9785 0.9785 0.9785 "
     ]
    }
   ],
   "source": [
    "# let's try it out\n",
    "train_model(linear_model, 20)"
   ]
  },
  {
   "cell_type": "markdown",
   "metadata": {},
   "source": [
    "What we have just did with `BasicOptim` is implemented in `fastai` with the `SGD` class."
   ]
  },
  {
   "cell_type": "code",
   "execution_count": 83,
   "metadata": {},
   "outputs": [
    {
     "name": "stdout",
     "output_type": "stream",
     "text": [
      "0.4932 0.749 0.8579 0.917 0.9365 0.9521 0.957 0.9629 0.9658 0.9687 0.9707 0.9721 0.9731 0.9746 0.9761 0.9765 0.9775 0.978 0.978 0.978 "
     ]
    }
   ],
   "source": [
    "linear_model = nn.Linear(28*28,1)\n",
    "opt = SGD(linear_model.parameters(), lr)\n",
    "train_model(linear_model, 20)"
   ]
  },
  {
   "cell_type": "markdown",
   "metadata": {},
   "source": [
    "Also, the implementation of our `train_model` function in `fastai` is called `Learner.fit`"
   ]
  },
  {
   "cell_type": "code",
   "execution_count": 84,
   "metadata": {},
   "outputs": [],
   "source": [
    "dls = DataLoaders(training_data_loader, validation_data_loader)"
   ]
  },
  {
   "cell_type": "markdown",
   "metadata": {},
   "source": [
    "We are about to create a `Learner` without using an application such as `vision_learner`. For this, we can pass in all the elements that we've created: \n",
    "\n",
    "- any metrics we want to use (accuracy in this case)\n",
    "- the data loaders\n",
    "- the loss function\n",
    "- the model\n",
    "- the optimization function, which will be passed the parameters"
   ]
  },
  {
   "cell_type": "code",
   "execution_count": 86,
   "metadata": {},
   "outputs": [
    {
     "data": {
      "text/html": [
       "\n",
       "<style>\n",
       "    /* Turns off some styling */\n",
       "    progress {\n",
       "        /* gets rid of default border in Firefox and Opera. */\n",
       "        border: none;\n",
       "        /* Needs to be in here for Safari polyfill so background images work as expected. */\n",
       "        background-size: auto;\n",
       "    }\n",
       "    progress:not([value]), progress:not([value])::-webkit-progress-bar {\n",
       "        background: repeating-linear-gradient(45deg, #7e7e7e, #7e7e7e 10px, #5c5c5c 10px, #5c5c5c 20px);\n",
       "    }\n",
       "    .progress-bar-interrupted, .progress-bar-interrupted::-webkit-progress-bar {\n",
       "        background: #F44336;\n",
       "    }\n",
       "</style>\n"
      ],
      "text/plain": [
       "<IPython.core.display.HTML object>"
      ]
     },
     "metadata": {},
     "output_type": "display_data"
    },
    {
     "data": {
      "text/html": [
       "<table border=\"1\" class=\"dataframe\">\n",
       "  <thead>\n",
       "    <tr style=\"text-align: left;\">\n",
       "      <th>epoch</th>\n",
       "      <th>train_loss</th>\n",
       "      <th>valid_loss</th>\n",
       "      <th>batch_accuracy</th>\n",
       "      <th>time</th>\n",
       "    </tr>\n",
       "  </thead>\n",
       "  <tbody>\n",
       "    <tr>\n",
       "      <td>0</td>\n",
       "      <td>0.636516</td>\n",
       "      <td>0.503599</td>\n",
       "      <td>0.495584</td>\n",
       "      <td>00:00</td>\n",
       "    </tr>\n",
       "    <tr>\n",
       "      <td>1</td>\n",
       "      <td>0.567307</td>\n",
       "      <td>0.194196</td>\n",
       "      <td>0.835623</td>\n",
       "      <td>00:00</td>\n",
       "    </tr>\n",
       "    <tr>\n",
       "      <td>2</td>\n",
       "      <td>0.207229</td>\n",
       "      <td>0.181414</td>\n",
       "      <td>0.835132</td>\n",
       "      <td>00:00</td>\n",
       "    </tr>\n",
       "    <tr>\n",
       "      <td>3</td>\n",
       "      <td>0.089765</td>\n",
       "      <td>0.106924</td>\n",
       "      <td>0.910206</td>\n",
       "      <td>00:00</td>\n",
       "    </tr>\n",
       "    <tr>\n",
       "      <td>4</td>\n",
       "      <td>0.046562</td>\n",
       "      <td>0.078032</td>\n",
       "      <td>0.932777</td>\n",
       "      <td>00:00</td>\n",
       "    </tr>\n",
       "    <tr>\n",
       "      <td>5</td>\n",
       "      <td>0.029760</td>\n",
       "      <td>0.062546</td>\n",
       "      <td>0.947007</td>\n",
       "      <td>00:00</td>\n",
       "    </tr>\n",
       "    <tr>\n",
       "      <td>6</td>\n",
       "      <td>0.022909</td>\n",
       "      <td>0.052922</td>\n",
       "      <td>0.955839</td>\n",
       "      <td>00:00</td>\n",
       "    </tr>\n",
       "    <tr>\n",
       "      <td>7</td>\n",
       "      <td>0.019906</td>\n",
       "      <td>0.046520</td>\n",
       "      <td>0.961236</td>\n",
       "      <td>00:00</td>\n",
       "    </tr>\n",
       "    <tr>\n",
       "      <td>8</td>\n",
       "      <td>0.018408</td>\n",
       "      <td>0.042010</td>\n",
       "      <td>0.965162</td>\n",
       "      <td>00:00</td>\n",
       "    </tr>\n",
       "    <tr>\n",
       "      <td>9</td>\n",
       "      <td>0.017523</td>\n",
       "      <td>0.038679</td>\n",
       "      <td>0.967125</td>\n",
       "      <td>00:00</td>\n",
       "    </tr>\n",
       "  </tbody>\n",
       "</table>"
      ],
      "text/plain": [
       "<IPython.core.display.HTML object>"
      ]
     },
     "metadata": {},
     "output_type": "display_data"
    }
   ],
   "source": [
    "learner = Learner(dls, nn.Linear(28*28,1), opt_func=SGD, loss_func=mnist_loss, metrics=batch_accuracy)\n",
    "\n",
    "# now we can call `fit` to train our model across multiple epochs\n",
    "learner.fit(10, lr=lr)"
   ]
  },
  {
   "cell_type": "markdown",
   "metadata": {},
   "source": [
    "## Writing our own neural network\n",
    "\n",
    "Let's try to write a very basic neural network:"
   ]
  },
  {
   "cell_type": "code",
   "execution_count": 87,
   "metadata": {},
   "outputs": [],
   "source": [
    "# an illustration of the universal approximation theorem\n",
    "def simple_net(independent_variables): \n",
    "    res = independent_variables@w1 + b1\n",
    "    # here we have our relu activation function\n",
    "    res = res.max(tensor(0.0))\n",
    "    res = res@w2 + b2\n",
    "    return res\n",
    "\n",
    "# let's use this\n",
    "# here `w1` is the weights matrix connecting the input layer to a layer of 30 neurons (the hidden layer)\n",
    "w1 = init_params((28*28,30))\n",
    "b1 = init_params(30)\n",
    "# here `w2` is the weights matrix connecting the hidden layer to the output layer, which has a single neuron (since we're just trying to predict one number, 3 or 7)\n",
    "w2 = init_params((30,1))\n",
    "b2 = init_params(1)"
   ]
  },
  {
   "cell_type": "markdown",
   "metadata": {},
   "source": [
    "In the above example, the first hidden layer can construct 30 different features, each representing some different mix of pixels. Changing the value `30` will result in a more or less complex model."
   ]
  },
  {
   "cell_type": "code",
   "execution_count": 88,
   "metadata": {},
   "outputs": [
    {
     "data": {
      "text/html": [
       "\n",
       "<style>\n",
       "    /* Turns off some styling */\n",
       "    progress {\n",
       "        /* gets rid of default border in Firefox and Opera. */\n",
       "        border: none;\n",
       "        /* Needs to be in here for Safari polyfill so background images work as expected. */\n",
       "        background-size: auto;\n",
       "    }\n",
       "    progress:not([value]), progress:not([value])::-webkit-progress-bar {\n",
       "        background: repeating-linear-gradient(45deg, #7e7e7e, #7e7e7e 10px, #5c5c5c 10px, #5c5c5c 20px);\n",
       "    }\n",
       "    .progress-bar-interrupted, .progress-bar-interrupted::-webkit-progress-bar {\n",
       "        background: #F44336;\n",
       "    }\n",
       "</style>\n"
      ],
      "text/plain": [
       "<IPython.core.display.HTML object>"
      ]
     },
     "metadata": {},
     "output_type": "display_data"
    },
    {
     "data": {
      "text/html": [
       "<table border=\"1\" class=\"dataframe\">\n",
       "  <thead>\n",
       "    <tr style=\"text-align: left;\">\n",
       "      <th>epoch</th>\n",
       "      <th>train_loss</th>\n",
       "      <th>valid_loss</th>\n",
       "      <th>batch_accuracy</th>\n",
       "      <th>time</th>\n",
       "    </tr>\n",
       "  </thead>\n",
       "  <tbody>\n",
       "    <tr>\n",
       "      <td>0</td>\n",
       "      <td>0.334446</td>\n",
       "      <td>0.408529</td>\n",
       "      <td>0.505397</td>\n",
       "      <td>00:00</td>\n",
       "    </tr>\n",
       "    <tr>\n",
       "      <td>1</td>\n",
       "      <td>0.154280</td>\n",
       "      <td>0.237300</td>\n",
       "      <td>0.792444</td>\n",
       "      <td>00:00</td>\n",
       "    </tr>\n",
       "    <tr>\n",
       "      <td>2</td>\n",
       "      <td>0.084378</td>\n",
       "      <td>0.118382</td>\n",
       "      <td>0.910697</td>\n",
       "      <td>00:00</td>\n",
       "    </tr>\n",
       "    <tr>\n",
       "      <td>3</td>\n",
       "      <td>0.054719</td>\n",
       "      <td>0.079430</td>\n",
       "      <td>0.939647</td>\n",
       "      <td>00:00</td>\n",
       "    </tr>\n",
       "    <tr>\n",
       "      <td>4</td>\n",
       "      <td>0.041056</td>\n",
       "      <td>0.061905</td>\n",
       "      <td>0.956330</td>\n",
       "      <td>00:00</td>\n",
       "    </tr>\n",
       "    <tr>\n",
       "      <td>5</td>\n",
       "      <td>0.034140</td>\n",
       "      <td>0.052130</td>\n",
       "      <td>0.963199</td>\n",
       "      <td>00:00</td>\n",
       "    </tr>\n",
       "    <tr>\n",
       "      <td>6</td>\n",
       "      <td>0.030212</td>\n",
       "      <td>0.045985</td>\n",
       "      <td>0.964181</td>\n",
       "      <td>00:00</td>\n",
       "    </tr>\n",
       "    <tr>\n",
       "      <td>7</td>\n",
       "      <td>0.027690</td>\n",
       "      <td>0.041786</td>\n",
       "      <td>0.966143</td>\n",
       "      <td>00:00</td>\n",
       "    </tr>\n",
       "    <tr>\n",
       "      <td>8</td>\n",
       "      <td>0.025886</td>\n",
       "      <td>0.038731</td>\n",
       "      <td>0.968106</td>\n",
       "      <td>00:00</td>\n",
       "    </tr>\n",
       "    <tr>\n",
       "      <td>9</td>\n",
       "      <td>0.024494</td>\n",
       "      <td>0.036397</td>\n",
       "      <td>0.969087</td>\n",
       "      <td>00:00</td>\n",
       "    </tr>\n",
       "    <tr>\n",
       "      <td>10</td>\n",
       "      <td>0.023369</td>\n",
       "      <td>0.034541</td>\n",
       "      <td>0.972522</td>\n",
       "      <td>00:00</td>\n",
       "    </tr>\n",
       "    <tr>\n",
       "      <td>11</td>\n",
       "      <td>0.022430</td>\n",
       "      <td>0.033021</td>\n",
       "      <td>0.972522</td>\n",
       "      <td>00:00</td>\n",
       "    </tr>\n",
       "    <tr>\n",
       "      <td>12</td>\n",
       "      <td>0.021631</td>\n",
       "      <td>0.031744</td>\n",
       "      <td>0.973013</td>\n",
       "      <td>00:00</td>\n",
       "    </tr>\n",
       "    <tr>\n",
       "      <td>13</td>\n",
       "      <td>0.020940</td>\n",
       "      <td>0.030651</td>\n",
       "      <td>0.973994</td>\n",
       "      <td>00:00</td>\n",
       "    </tr>\n",
       "    <tr>\n",
       "      <td>14</td>\n",
       "      <td>0.020336</td>\n",
       "      <td>0.029700</td>\n",
       "      <td>0.974975</td>\n",
       "      <td>00:00</td>\n",
       "    </tr>\n",
       "    <tr>\n",
       "      <td>15</td>\n",
       "      <td>0.019802</td>\n",
       "      <td>0.028860</td>\n",
       "      <td>0.976448</td>\n",
       "      <td>00:00</td>\n",
       "    </tr>\n",
       "    <tr>\n",
       "      <td>16</td>\n",
       "      <td>0.019324</td>\n",
       "      <td>0.028115</td>\n",
       "      <td>0.976938</td>\n",
       "      <td>00:00</td>\n",
       "    </tr>\n",
       "    <tr>\n",
       "      <td>17</td>\n",
       "      <td>0.018894</td>\n",
       "      <td>0.027446</td>\n",
       "      <td>0.977920</td>\n",
       "      <td>00:00</td>\n",
       "    </tr>\n",
       "    <tr>\n",
       "      <td>18</td>\n",
       "      <td>0.018504</td>\n",
       "      <td>0.026845</td>\n",
       "      <td>0.978410</td>\n",
       "      <td>00:00</td>\n",
       "    </tr>\n",
       "    <tr>\n",
       "      <td>19</td>\n",
       "      <td>0.018149</td>\n",
       "      <td>0.026299</td>\n",
       "      <td>0.978901</td>\n",
       "      <td>00:00</td>\n",
       "    </tr>\n",
       "    <tr>\n",
       "      <td>20</td>\n",
       "      <td>0.017822</td>\n",
       "      <td>0.025802</td>\n",
       "      <td>0.978901</td>\n",
       "      <td>00:00</td>\n",
       "    </tr>\n",
       "    <tr>\n",
       "      <td>21</td>\n",
       "      <td>0.017520</td>\n",
       "      <td>0.025347</td>\n",
       "      <td>0.978901</td>\n",
       "      <td>00:00</td>\n",
       "    </tr>\n",
       "    <tr>\n",
       "      <td>22</td>\n",
       "      <td>0.017240</td>\n",
       "      <td>0.024929</td>\n",
       "      <td>0.979882</td>\n",
       "      <td>00:00</td>\n",
       "    </tr>\n",
       "    <tr>\n",
       "      <td>23</td>\n",
       "      <td>0.016979</td>\n",
       "      <td>0.024544</td>\n",
       "      <td>0.979882</td>\n",
       "      <td>00:00</td>\n",
       "    </tr>\n",
       "    <tr>\n",
       "      <td>24</td>\n",
       "      <td>0.016734</td>\n",
       "      <td>0.024187</td>\n",
       "      <td>0.980373</td>\n",
       "      <td>00:00</td>\n",
       "    </tr>\n",
       "    <tr>\n",
       "      <td>25</td>\n",
       "      <td>0.016504</td>\n",
       "      <td>0.023857</td>\n",
       "      <td>0.979882</td>\n",
       "      <td>00:00</td>\n",
       "    </tr>\n",
       "    <tr>\n",
       "      <td>26</td>\n",
       "      <td>0.016288</td>\n",
       "      <td>0.023551</td>\n",
       "      <td>0.980373</td>\n",
       "      <td>00:00</td>\n",
       "    </tr>\n",
       "    <tr>\n",
       "      <td>27</td>\n",
       "      <td>0.016083</td>\n",
       "      <td>0.023266</td>\n",
       "      <td>0.980373</td>\n",
       "      <td>00:00</td>\n",
       "    </tr>\n",
       "    <tr>\n",
       "      <td>28</td>\n",
       "      <td>0.015890</td>\n",
       "      <td>0.022999</td>\n",
       "      <td>0.980864</td>\n",
       "      <td>00:00</td>\n",
       "    </tr>\n",
       "    <tr>\n",
       "      <td>29</td>\n",
       "      <td>0.015706</td>\n",
       "      <td>0.022751</td>\n",
       "      <td>0.981845</td>\n",
       "      <td>00:00</td>\n",
       "    </tr>\n",
       "    <tr>\n",
       "      <td>30</td>\n",
       "      <td>0.015531</td>\n",
       "      <td>0.022518</td>\n",
       "      <td>0.981845</td>\n",
       "      <td>00:00</td>\n",
       "    </tr>\n",
       "    <tr>\n",
       "      <td>31</td>\n",
       "      <td>0.015365</td>\n",
       "      <td>0.022300</td>\n",
       "      <td>0.981845</td>\n",
       "      <td>00:00</td>\n",
       "    </tr>\n",
       "    <tr>\n",
       "      <td>32</td>\n",
       "      <td>0.015206</td>\n",
       "      <td>0.022095</td>\n",
       "      <td>0.982336</td>\n",
       "      <td>00:00</td>\n",
       "    </tr>\n",
       "    <tr>\n",
       "      <td>33</td>\n",
       "      <td>0.015054</td>\n",
       "      <td>0.021903</td>\n",
       "      <td>0.982336</td>\n",
       "      <td>00:00</td>\n",
       "    </tr>\n",
       "    <tr>\n",
       "      <td>34</td>\n",
       "      <td>0.014908</td>\n",
       "      <td>0.021721</td>\n",
       "      <td>0.982336</td>\n",
       "      <td>00:00</td>\n",
       "    </tr>\n",
       "    <tr>\n",
       "      <td>35</td>\n",
       "      <td>0.014769</td>\n",
       "      <td>0.021549</td>\n",
       "      <td>0.982336</td>\n",
       "      <td>00:00</td>\n",
       "    </tr>\n",
       "    <tr>\n",
       "      <td>36</td>\n",
       "      <td>0.014634</td>\n",
       "      <td>0.021387</td>\n",
       "      <td>0.982336</td>\n",
       "      <td>00:00</td>\n",
       "    </tr>\n",
       "    <tr>\n",
       "      <td>37</td>\n",
       "      <td>0.014505</td>\n",
       "      <td>0.021233</td>\n",
       "      <td>0.982826</td>\n",
       "      <td>00:00</td>\n",
       "    </tr>\n",
       "    <tr>\n",
       "      <td>38</td>\n",
       "      <td>0.014381</td>\n",
       "      <td>0.021087</td>\n",
       "      <td>0.982336</td>\n",
       "      <td>00:00</td>\n",
       "    </tr>\n",
       "    <tr>\n",
       "      <td>39</td>\n",
       "      <td>0.014261</td>\n",
       "      <td>0.020948</td>\n",
       "      <td>0.982336</td>\n",
       "      <td>00:00</td>\n",
       "    </tr>\n",
       "  </tbody>\n",
       "</table>"
      ],
      "text/plain": [
       "<IPython.core.display.HTML object>"
      ]
     },
     "metadata": {},
     "output_type": "display_data"
    }
   ],
   "source": [
    "# `PyTorch` version of our simple neural network\n",
    "simple_net = nn.Sequential(\n",
    "    nn.Linear(28*28,30),\n",
    "    nn.ReLU(),\n",
    "    nn.Linear(30,1)\n",
    ")\n",
    "\n",
    "learn = Learner(dls, simple_net, opt_func=SGD,\n",
    "    loss_func=mnist_loss, metrics=batch_accuracy)\n",
    "\n",
    "learn.fit(40, 0.1)"
   ]
  },
  {
   "cell_type": "code",
   "execution_count": 89,
   "metadata": {},
   "outputs": [
    {
     "data": {
      "text/plain": [
       "[<matplotlib.lines.Line2D at 0x7f6541587bb0>]"
      ]
     },
     "execution_count": 89,
     "metadata": {},
     "output_type": "execute_result"
    },
    {
     "data": {
      "image/png": "[encoded data removed]",
      "text/plain": [
       "<Figure size 640x480 with 1 Axes>"
      ]
     },
     "metadata": {},
     "output_type": "display_data"
    }
   ],
   "source": [
    "# plotting the accuracy training, the x-axis is the epoch number and the y-axis is the accuracy\n",
    "plt.plot(L(learn.recorder.values).itemgot(2))"
   ]
  },
  {
   "cell_type": "code",
   "execution_count": 90,
   "metadata": {},
   "outputs": [
    {
     "data": {
      "text/html": [
       "\n",
       "<style>\n",
       "    /* Turns off some styling */\n",
       "    progress {\n",
       "        /* gets rid of default border in Firefox and Opera. */\n",
       "        border: none;\n",
       "        /* Needs to be in here for Safari polyfill so background images work as expected. */\n",
       "        background-size: auto;\n",
       "    }\n",
       "    progress:not([value]), progress:not([value])::-webkit-progress-bar {\n",
       "        background: repeating-linear-gradient(45deg, #7e7e7e, #7e7e7e 10px, #5c5c5c 10px, #5c5c5c 20px);\n",
       "    }\n",
       "    .progress-bar-interrupted, .progress-bar-interrupted::-webkit-progress-bar {\n",
       "        background: #F44336;\n",
       "    }\n",
       "</style>\n"
      ],
      "text/plain": [
       "<IPython.core.display.HTML object>"
      ]
     },
     "metadata": {},
     "output_type": "display_data"
    },
    {
     "data": {
      "text/html": [
       "<table border=\"1\" class=\"dataframe\">\n",
       "  <thead>\n",
       "    <tr style=\"text-align: left;\">\n",
       "      <th>epoch</th>\n",
       "      <th>train_loss</th>\n",
       "      <th>valid_loss</th>\n",
       "      <th>accuracy</th>\n",
       "      <th>time</th>\n",
       "    </tr>\n",
       "  </thead>\n",
       "  <tbody>\n",
       "    <tr>\n",
       "      <td>0</td>\n",
       "      <td>0.065239</td>\n",
       "      <td>0.017955</td>\n",
       "      <td>0.995584</td>\n",
       "      <td>00:10</td>\n",
       "    </tr>\n",
       "  </tbody>\n",
       "</table>"
      ],
      "text/plain": [
       "<IPython.core.display.HTML object>"
      ]
     },
     "metadata": {},
     "output_type": "display_data"
    }
   ],
   "source": [
    "# let's try more layers with a pre trained model\n",
    "dls = ImageDataLoaders.from_folder(path_to_mnist)\n",
    "learn = vision_learner(dls, resnet18, pretrained=False,\n",
    "    loss_func=F.cross_entropy, metrics=accuracy)\n",
    "learn.fit_one_cycle(1, 0.1)"
   ]
  },
  {
   "cell_type": "markdown",
   "metadata": {},
   "source": [
    "See what we can do with fewer epochs and more layers ? That's impressive !"
   ]
  }
 ],
 "metadata": {
  "kernelspec": {
   "display_name": "Python 3",
   "language": "python",
   "name": "python3"
  },
  "language_info": {
   "codemirror_mode": {
    "name": "ipython",
    "version": 3
   },
   "file_extension": ".py",
   "mimetype": "text/x-python",
   "name": "python",
   "nbconvert_exporter": "python",
   "pygments_lexer": "ipython3",
   "version": "3.10.12"
  },
  "orig_nbformat": 4
 },
 "nbformat": 4,
 "nbformat_minor": 2
}
