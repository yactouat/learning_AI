{
 "cells": [
  {
   "cell_type": "code",
   "execution_count": 48,
   "metadata": {},
   "outputs": [],
   "source": [
    "import pandas as pd\n",
    "import plotly.express as px"
   ]
  },
  {
   "cell_type": "code",
   "execution_count": null,
   "metadata": {},
   "outputs": [],
   "source": [
    "\n",
    "#! git clone git@github.com:huggingface/pytorch-image-models.git\n",
    "#! copy the `results` folder so it's accessible here"
   ]
  },
  {
   "cell_type": "code",
   "execution_count": 49,
   "metadata": {},
   "outputs": [
    {
     "data": {
      "text/html": [
       "<div>\n",
       "<style scoped>\n",
       "    .dataframe tbody tr th:only-of-type {\n",
       "        vertical-align: middle;\n",
       "    }\n",
       "\n",
       "    .dataframe tbody tr th {\n",
       "        vertical-align: top;\n",
       "    }\n",
       "\n",
       "    .dataframe thead th {\n",
       "        text-align: right;\n",
       "    }\n",
       "</style>\n",
       "<table border=\"1\" class=\"dataframe\">\n",
       "  <thead>\n",
       "    <tr style=\"text-align: right;\">\n",
       "      <th></th>\n",
       "      <th>model</th>\n",
       "      <th>top1</th>\n",
       "      <th>top1_err</th>\n",
       "      <th>top5</th>\n",
       "      <th>top5_err</th>\n",
       "      <th>param_count</th>\n",
       "      <th>img_size</th>\n",
       "      <th>crop_pct</th>\n",
       "      <th>interpolation</th>\n",
       "      <th>model_fqn</th>\n",
       "    </tr>\n",
       "  </thead>\n",
       "  <tbody>\n",
       "    <tr>\n",
       "      <th>762</th>\n",
       "      <td>xcit_tiny_24_p16_224</td>\n",
       "      <td>79.448</td>\n",
       "      <td>20.552</td>\n",
       "      <td>94.878</td>\n",
       "      <td>5.122</td>\n",
       "      <td>12.12</td>\n",
       "      <td>224</td>\n",
       "      <td>1.0</td>\n",
       "      <td>bicubic</td>\n",
       "      <td>xcit_tiny_24_p16_224.fb_in1k</td>\n",
       "    </tr>\n",
       "    <tr>\n",
       "      <th>459</th>\n",
       "      <td>xcit_tiny_24_p16_384</td>\n",
       "      <td>82.570</td>\n",
       "      <td>17.430</td>\n",
       "      <td>96.276</td>\n",
       "      <td>3.724</td>\n",
       "      <td>12.12</td>\n",
       "      <td>384</td>\n",
       "      <td>1.0</td>\n",
       "      <td>bicubic</td>\n",
       "      <td>xcit_tiny_24_p16_384.fb_dist_in1k</td>\n",
       "    </tr>\n",
       "    <tr>\n",
       "      <th>460</th>\n",
       "      <td>xcit_tiny_24_p8_224</td>\n",
       "      <td>82.566</td>\n",
       "      <td>17.434</td>\n",
       "      <td>96.172</td>\n",
       "      <td>3.828</td>\n",
       "      <td>12.11</td>\n",
       "      <td>224</td>\n",
       "      <td>1.0</td>\n",
       "      <td>bicubic</td>\n",
       "      <td>xcit_tiny_24_p8_224.fb_dist_in1k</td>\n",
       "    </tr>\n",
       "    <tr>\n",
       "      <th>538</th>\n",
       "      <td>xcit_tiny_24_p8_224</td>\n",
       "      <td>81.892</td>\n",
       "      <td>18.108</td>\n",
       "      <td>95.970</td>\n",
       "      <td>4.030</td>\n",
       "      <td>12.11</td>\n",
       "      <td>224</td>\n",
       "      <td>1.0</td>\n",
       "      <td>bicubic</td>\n",
       "      <td>xcit_tiny_24_p8_224.fb_in1k</td>\n",
       "    </tr>\n",
       "    <tr>\n",
       "      <th>327</th>\n",
       "      <td>xcit_tiny_24_p8_384</td>\n",
       "      <td>83.746</td>\n",
       "      <td>16.254</td>\n",
       "      <td>96.710</td>\n",
       "      <td>3.290</td>\n",
       "      <td>12.11</td>\n",
       "      <td>384</td>\n",
       "      <td>1.0</td>\n",
       "      <td>bicubic</td>\n",
       "      <td>xcit_tiny_24_p8_384.fb_dist_in1k</td>\n",
       "    </tr>\n",
       "  </tbody>\n",
       "</table>\n",
       "</div>"
      ],
      "text/plain": [
       "                    model    top1  top1_err    top5  top5_err param_count  \\\n",
       "762  xcit_tiny_24_p16_224  79.448    20.552  94.878     5.122       12.12   \n",
       "459  xcit_tiny_24_p16_384  82.570    17.430  96.276     3.724       12.12   \n",
       "460   xcit_tiny_24_p8_224  82.566    17.434  96.172     3.828       12.11   \n",
       "538   xcit_tiny_24_p8_224  81.892    18.108  95.970     4.030       12.11   \n",
       "327   xcit_tiny_24_p8_384  83.746    16.254  96.710     3.290       12.11   \n",
       "\n",
       "     img_size  crop_pct interpolation                          model_fqn  \n",
       "762       224       1.0       bicubic       xcit_tiny_24_p16_224.fb_in1k  \n",
       "459       384       1.0       bicubic  xcit_tiny_24_p16_384.fb_dist_in1k  \n",
       "460       224       1.0       bicubic   xcit_tiny_24_p8_224.fb_dist_in1k  \n",
       "538       224       1.0       bicubic        xcit_tiny_24_p8_224.fb_in1k  \n",
       "327       384       1.0       bicubic   xcit_tiny_24_p8_384.fb_dist_in1k  "
      ]
     },
     "execution_count": 49,
     "metadata": {},
     "output_type": "execute_result"
    }
   ],
   "source": [
    "df_results = pd.read_csv('./results/results-imagenet.csv').sort_values(by='model')\n",
    "df_results['model_fqn'] = df_results['model']\n",
    "df_results['model'] = df_results['model'].str.split('.').str[0]\n",
    "df_results.tail()"
   ]
  },
  {
   "cell_type": "code",
   "execution_count": 50,
   "metadata": {},
   "outputs": [
    {
     "data": {
      "text/html": [
       "<div>\n",
       "<style scoped>\n",
       "    .dataframe tbody tr th:only-of-type {\n",
       "        vertical-align: middle;\n",
       "    }\n",
       "\n",
       "    .dataframe tbody tr th {\n",
       "        vertical-align: top;\n",
       "    }\n",
       "\n",
       "    .dataframe thead th {\n",
       "        text-align: right;\n",
       "    }\n",
       "</style>\n",
       "<table border=\"1\" class=\"dataframe\">\n",
       "  <thead>\n",
       "    <tr style=\"text-align: right;\">\n",
       "      <th></th>\n",
       "      <th>model</th>\n",
       "      <th>infer_samples_per_sec</th>\n",
       "      <th>infer_step_time</th>\n",
       "      <th>infer_batch_size</th>\n",
       "      <th>infer_img_size</th>\n",
       "      <th>param_count_x</th>\n",
       "      <th>top1</th>\n",
       "      <th>top1_err</th>\n",
       "      <th>top5</th>\n",
       "      <th>top5_err</th>\n",
       "      <th>param_count_y</th>\n",
       "      <th>img_size</th>\n",
       "      <th>crop_pct</th>\n",
       "      <th>interpolation</th>\n",
       "      <th>model_fqn</th>\n",
       "    </tr>\n",
       "  </thead>\n",
       "  <tbody>\n",
       "    <tr>\n",
       "      <th>403</th>\n",
       "      <td>xcit_tiny_12_p8_224</td>\n",
       "      <td>1260.86</td>\n",
       "      <td>812.129</td>\n",
       "      <td>1024</td>\n",
       "      <td>224</td>\n",
       "      <td>6.71</td>\n",
       "      <td>79.688</td>\n",
       "      <td>20.312</td>\n",
       "      <td>95.054</td>\n",
       "      <td>4.946</td>\n",
       "      <td>6.71</td>\n",
       "      <td>224</td>\n",
       "      <td>1.0</td>\n",
       "      <td>bicubic</td>\n",
       "      <td>xcit_tiny_12_p8_224.fb_in1k</td>\n",
       "    </tr>\n",
       "    <tr>\n",
       "      <th>253</th>\n",
       "      <td>xcit_tiny_24_p16_224</td>\n",
       "      <td>2556.28</td>\n",
       "      <td>400.571</td>\n",
       "      <td>1024</td>\n",
       "      <td>224</td>\n",
       "      <td>12.12</td>\n",
       "      <td>79.448</td>\n",
       "      <td>20.552</td>\n",
       "      <td>94.878</td>\n",
       "      <td>5.122</td>\n",
       "      <td>12.12</td>\n",
       "      <td>224</td>\n",
       "      <td>1.0</td>\n",
       "      <td>bicubic</td>\n",
       "      <td>xcit_tiny_24_p16_224.fb_in1k</td>\n",
       "    </tr>\n",
       "    <tr>\n",
       "      <th>252</th>\n",
       "      <td>xcit_tiny_24_p16_224</td>\n",
       "      <td>2556.28</td>\n",
       "      <td>400.571</td>\n",
       "      <td>1024</td>\n",
       "      <td>224</td>\n",
       "      <td>12.12</td>\n",
       "      <td>80.454</td>\n",
       "      <td>19.546</td>\n",
       "      <td>95.218</td>\n",
       "      <td>4.782</td>\n",
       "      <td>12.12</td>\n",
       "      <td>224</td>\n",
       "      <td>1.0</td>\n",
       "      <td>bicubic</td>\n",
       "      <td>xcit_tiny_24_p16_224.fb_dist_in1k</td>\n",
       "    </tr>\n",
       "    <tr>\n",
       "      <th>521</th>\n",
       "      <td>xcit_tiny_24_p8_224</td>\n",
       "      <td>665.57</td>\n",
       "      <td>1538.510</td>\n",
       "      <td>1024</td>\n",
       "      <td>224</td>\n",
       "      <td>12.11</td>\n",
       "      <td>81.892</td>\n",
       "      <td>18.108</td>\n",
       "      <td>95.970</td>\n",
       "      <td>4.030</td>\n",
       "      <td>12.11</td>\n",
       "      <td>224</td>\n",
       "      <td>1.0</td>\n",
       "      <td>bicubic</td>\n",
       "      <td>xcit_tiny_24_p8_224.fb_in1k</td>\n",
       "    </tr>\n",
       "    <tr>\n",
       "      <th>520</th>\n",
       "      <td>xcit_tiny_24_p8_224</td>\n",
       "      <td>665.57</td>\n",
       "      <td>1538.510</td>\n",
       "      <td>1024</td>\n",
       "      <td>224</td>\n",
       "      <td>12.11</td>\n",
       "      <td>82.566</td>\n",
       "      <td>17.434</td>\n",
       "      <td>96.172</td>\n",
       "      <td>3.828</td>\n",
       "      <td>12.11</td>\n",
       "      <td>224</td>\n",
       "      <td>1.0</td>\n",
       "      <td>bicubic</td>\n",
       "      <td>xcit_tiny_24_p8_224.fb_dist_in1k</td>\n",
       "    </tr>\n",
       "  </tbody>\n",
       "</table>\n",
       "</div>"
      ],
      "text/plain": [
       "                    model  infer_samples_per_sec  infer_step_time  \\\n",
       "403   xcit_tiny_12_p8_224                1260.86          812.129   \n",
       "253  xcit_tiny_24_p16_224                2556.28          400.571   \n",
       "252  xcit_tiny_24_p16_224                2556.28          400.571   \n",
       "521   xcit_tiny_24_p8_224                 665.57         1538.510   \n",
       "520   xcit_tiny_24_p8_224                 665.57         1538.510   \n",
       "\n",
       "     infer_batch_size  infer_img_size  param_count_x    top1  top1_err  \\\n",
       "403              1024             224           6.71  79.688    20.312   \n",
       "253              1024             224          12.12  79.448    20.552   \n",
       "252              1024             224          12.12  80.454    19.546   \n",
       "521              1024             224          12.11  81.892    18.108   \n",
       "520              1024             224          12.11  82.566    17.434   \n",
       "\n",
       "       top5  top5_err param_count_y  img_size  crop_pct interpolation  \\\n",
       "403  95.054     4.946          6.71       224       1.0       bicubic   \n",
       "253  94.878     5.122         12.12       224       1.0       bicubic   \n",
       "252  95.218     4.782         12.12       224       1.0       bicubic   \n",
       "521  95.970     4.030         12.11       224       1.0       bicubic   \n",
       "520  96.172     3.828         12.11       224       1.0       bicubic   \n",
       "\n",
       "                             model_fqn  \n",
       "403        xcit_tiny_12_p8_224.fb_in1k  \n",
       "253       xcit_tiny_24_p16_224.fb_in1k  \n",
       "252  xcit_tiny_24_p16_224.fb_dist_in1k  \n",
       "521        xcit_tiny_24_p8_224.fb_in1k  \n",
       "520   xcit_tiny_24_p8_224.fb_dist_in1k  "
      ]
     },
     "execution_count": 50,
     "metadata": {},
     "output_type": "execute_result"
    }
   ],
   "source": [
    "# merging results and benchmark data example\n",
    "df_benchmark = pd.read_csv(f'./results/benchmark-infer-amp-nhwc-pt111-cu113-rtx3090.csv').merge(df_results, on='model').sort_values(by='model')\n",
    "# getting the count of models\n",
    "df_benchmark.tail()"
   ]
  },
  {
   "cell_type": "code",
   "execution_count": 51,
   "metadata": {},
   "outputs": [],
   "source": [
    "def merge_models_results_and_benchmark_data(part, col):\n",
    "    df = pd.read_csv(f'./results/benchmark-{part}-amp-nhwc-pt111-cu113-rtx3090.csv').merge(df_results, on='model')\n",
    "    # calculate and add a new column 'secs' as the reciprocal of the values in column `col`\n",
    "    df['secs'] = 1. / df[col]\n",
    "    df['family'] = df.model.str.extract('^([a-z]+?(?:v2)?)(?:\\d|_|$)')\n",
    "    df.sort_values(by='model', inplace=True)\n",
    "    return df"
   ]
  },
  {
   "cell_type": "code",
   "execution_count": 55,
   "metadata": {},
   "outputs": [
    {
     "data": {
      "text/html": [
       "<div>\n",
       "<style scoped>\n",
       "    .dataframe tbody tr th:only-of-type {\n",
       "        vertical-align: middle;\n",
       "    }\n",
       "\n",
       "    .dataframe tbody tr th {\n",
       "        vertical-align: top;\n",
       "    }\n",
       "\n",
       "    .dataframe thead th {\n",
       "        text-align: right;\n",
       "    }\n",
       "</style>\n",
       "<table border=\"1\" class=\"dataframe\">\n",
       "  <thead>\n",
       "    <tr style=\"text-align: right;\">\n",
       "      <th></th>\n",
       "      <th>model</th>\n",
       "      <th>infer_samples_per_sec</th>\n",
       "      <th>infer_step_time</th>\n",
       "      <th>infer_batch_size</th>\n",
       "      <th>infer_img_size</th>\n",
       "      <th>param_count_x</th>\n",
       "      <th>top1</th>\n",
       "      <th>top1_err</th>\n",
       "      <th>top5</th>\n",
       "      <th>top5_err</th>\n",
       "      <th>param_count_y</th>\n",
       "      <th>img_size</th>\n",
       "      <th>crop_pct</th>\n",
       "      <th>interpolation</th>\n",
       "      <th>model_fqn</th>\n",
       "      <th>secs</th>\n",
       "      <th>family</th>\n",
       "    </tr>\n",
       "  </thead>\n",
       "  <tbody>\n",
       "    <tr>\n",
       "      <th>403</th>\n",
       "      <td>xcit_tiny_12_p8_224</td>\n",
       "      <td>1260.86</td>\n",
       "      <td>812.129</td>\n",
       "      <td>1024</td>\n",
       "      <td>224</td>\n",
       "      <td>6.71</td>\n",
       "      <td>79.688</td>\n",
       "      <td>20.312</td>\n",
       "      <td>95.054</td>\n",
       "      <td>4.946</td>\n",
       "      <td>6.71</td>\n",
       "      <td>224</td>\n",
       "      <td>1.0</td>\n",
       "      <td>bicubic</td>\n",
       "      <td>xcit_tiny_12_p8_224.fb_in1k</td>\n",
       "      <td>0.000793</td>\n",
       "      <td>xcit</td>\n",
       "    </tr>\n",
       "    <tr>\n",
       "      <th>253</th>\n",
       "      <td>xcit_tiny_24_p16_224</td>\n",
       "      <td>2556.28</td>\n",
       "      <td>400.571</td>\n",
       "      <td>1024</td>\n",
       "      <td>224</td>\n",
       "      <td>12.12</td>\n",
       "      <td>79.448</td>\n",
       "      <td>20.552</td>\n",
       "      <td>94.878</td>\n",
       "      <td>5.122</td>\n",
       "      <td>12.12</td>\n",
       "      <td>224</td>\n",
       "      <td>1.0</td>\n",
       "      <td>bicubic</td>\n",
       "      <td>xcit_tiny_24_p16_224.fb_in1k</td>\n",
       "      <td>0.000391</td>\n",
       "      <td>xcit</td>\n",
       "    </tr>\n",
       "    <tr>\n",
       "      <th>252</th>\n",
       "      <td>xcit_tiny_24_p16_224</td>\n",
       "      <td>2556.28</td>\n",
       "      <td>400.571</td>\n",
       "      <td>1024</td>\n",
       "      <td>224</td>\n",
       "      <td>12.12</td>\n",
       "      <td>80.454</td>\n",
       "      <td>19.546</td>\n",
       "      <td>95.218</td>\n",
       "      <td>4.782</td>\n",
       "      <td>12.12</td>\n",
       "      <td>224</td>\n",
       "      <td>1.0</td>\n",
       "      <td>bicubic</td>\n",
       "      <td>xcit_tiny_24_p16_224.fb_dist_in1k</td>\n",
       "      <td>0.000391</td>\n",
       "      <td>xcit</td>\n",
       "    </tr>\n",
       "    <tr>\n",
       "      <th>521</th>\n",
       "      <td>xcit_tiny_24_p8_224</td>\n",
       "      <td>665.57</td>\n",
       "      <td>1538.510</td>\n",
       "      <td>1024</td>\n",
       "      <td>224</td>\n",
       "      <td>12.11</td>\n",
       "      <td>81.892</td>\n",
       "      <td>18.108</td>\n",
       "      <td>95.970</td>\n",
       "      <td>4.030</td>\n",
       "      <td>12.11</td>\n",
       "      <td>224</td>\n",
       "      <td>1.0</td>\n",
       "      <td>bicubic</td>\n",
       "      <td>xcit_tiny_24_p8_224.fb_in1k</td>\n",
       "      <td>0.001502</td>\n",
       "      <td>xcit</td>\n",
       "    </tr>\n",
       "    <tr>\n",
       "      <th>520</th>\n",
       "      <td>xcit_tiny_24_p8_224</td>\n",
       "      <td>665.57</td>\n",
       "      <td>1538.510</td>\n",
       "      <td>1024</td>\n",
       "      <td>224</td>\n",
       "      <td>12.11</td>\n",
       "      <td>82.566</td>\n",
       "      <td>17.434</td>\n",
       "      <td>96.172</td>\n",
       "      <td>3.828</td>\n",
       "      <td>12.11</td>\n",
       "      <td>224</td>\n",
       "      <td>1.0</td>\n",
       "      <td>bicubic</td>\n",
       "      <td>xcit_tiny_24_p8_224.fb_dist_in1k</td>\n",
       "      <td>0.001502</td>\n",
       "      <td>xcit</td>\n",
       "    </tr>\n",
       "  </tbody>\n",
       "</table>\n",
       "</div>"
      ],
      "text/plain": [
       "                    model  infer_samples_per_sec  infer_step_time  \\\n",
       "403   xcit_tiny_12_p8_224                1260.86          812.129   \n",
       "253  xcit_tiny_24_p16_224                2556.28          400.571   \n",
       "252  xcit_tiny_24_p16_224                2556.28          400.571   \n",
       "521   xcit_tiny_24_p8_224                 665.57         1538.510   \n",
       "520   xcit_tiny_24_p8_224                 665.57         1538.510   \n",
       "\n",
       "     infer_batch_size  infer_img_size  param_count_x    top1  top1_err  \\\n",
       "403              1024             224           6.71  79.688    20.312   \n",
       "253              1024             224          12.12  79.448    20.552   \n",
       "252              1024             224          12.12  80.454    19.546   \n",
       "521              1024             224          12.11  81.892    18.108   \n",
       "520              1024             224          12.11  82.566    17.434   \n",
       "\n",
       "       top5  top5_err param_count_y  img_size  crop_pct interpolation  \\\n",
       "403  95.054     4.946          6.71       224       1.0       bicubic   \n",
       "253  94.878     5.122         12.12       224       1.0       bicubic   \n",
       "252  95.218     4.782         12.12       224       1.0       bicubic   \n",
       "521  95.970     4.030         12.11       224       1.0       bicubic   \n",
       "520  96.172     3.828         12.11       224       1.0       bicubic   \n",
       "\n",
       "                             model_fqn      secs family  \n",
       "403        xcit_tiny_12_p8_224.fb_in1k  0.000793   xcit  \n",
       "253       xcit_tiny_24_p16_224.fb_in1k  0.000391   xcit  \n",
       "252  xcit_tiny_24_p16_224.fb_dist_in1k  0.000391   xcit  \n",
       "521        xcit_tiny_24_p8_224.fb_in1k  0.001502   xcit  \n",
       "520   xcit_tiny_24_p8_224.fb_dist_in1k  0.001502   xcit  "
      ]
     },
     "execution_count": 55,
     "metadata": {},
     "output_type": "execute_result"
    }
   ],
   "source": [
    "# getting the inference results\n",
    "df_inference_res = merge_models_results_and_benchmark_data('infer', 'infer_samples_per_sec')\n",
    "df_inference_res.tail()"
   ]
  },
  {
   "cell_type": "code",
   "execution_count": 58,
   "metadata": {},
   "outputs": [],
   "source": [
    "# plotting\n",
    "w,h = 1000,800\n",
    "\n",
    "def show_all(df, title, size):\n",
    "    return px.scatter(df, width=w, height=h, size=df[size]**2, title=title,\n",
    "        trendline=\"ols\", trendline_options={'log_x':True},\n",
    "        x='secs',  y='top1', log_x=True, color='family', hover_name='model_fqn', hover_data=[size])"
   ]
  },
  {
   "cell_type": "code",
   "execution_count": 63,
   "metadata": {},
   "outputs": [
    {
     "data": {
      "application/vnd.plotly.v1+json": {
       "config": {
        "plotlyServerURL": "https://plot.ly"
       },
       "data": [
        {
         "customdata": [
          [
           256
          ]
         ],
         "hovertemplate": "<b>%{hovertext}</b><br><br>family=bat<br>secs=%{x}<br>top1=%{y}<br>size=%{marker.size}<br>infer_img_size=%{customdata[0]}<extra></extra>",
         "hovertext": [
          "bat_resnext26ts.ch_in1k"
         ],
         "legendgroup": "bat",
         "marker": {
          "color": "#636efa",
          "size": [
           65536
          ],
          "sizemode": "area",
          "sizeref": 1128.96,
          "symbol": "circle"
         },
         "mode": "markers",
         "name": "bat",
         "orientation": "v",
         "showlegend": true,
         "type": "scatter",
         "x": [
          0.0003116808637300096
         ],
         "xaxis": "x",
         "y": [
          78.252
         ],
         "yaxis": "y"
        },
        {
         "hovertemplate": "family=bat<extra></extra>",
         "legendgroup": "bat",
         "marker": {
          "color": "#636efa",
          "symbol": "circle"
         },
         "mode": "lines",
         "name": "bat",
         "showlegend": false,
         "type": "scatter",
         "xaxis": "x",
         "yaxis": "y"
        },
        {
         "customdata": [
          [
           224
          ],
          [
           384
          ],
          [
           224
          ],
          [
           384
          ],
          [
           512
          ]
         ],
         "hovertemplate": "<b>%{hovertext}</b><br><br>family=beit<br>secs=%{x}<br>top1=%{y}<br>size=%{marker.size}<br>infer_img_size=%{customdata[0]}<extra></extra>",
         "hovertext": [
          "beit_base_patch16_224.in22k_ft_in22k_in1k",
          "beit_base_patch16_384.in22k_ft_in22k_in1k",
          "beit_large_patch16_224.in22k_ft_in22k_in1k",
          "beit_large_patch16_384.in22k_ft_in22k_in1k",
          "beit_large_patch16_512.in22k_ft_in22k_in1k"
         ],
         "legendgroup": "beit",
         "marker": {
          "color": "#EF553B",
          "size": [
           50176,
           147456,
           50176,
           147456,
           262144
          ],
          "sizemode": "area",
          "sizeref": 1128.96,
          "symbol": "circle"
         },
         "mode": "markers",
         "name": "beit",
         "orientation": "v",
         "showlegend": true,
         "type": "scatter",
         "x": [
          0.0010062791820962809,
          0.00418007774944614,
          0.0030446034404018876,
          0.0121580547112462,
          0.030184123151222455
         ],
         "xaxis": "x",
         "y": [
          85.212,
          86.8,
          87.478,
          88.402,
          88.596
         ],
         "yaxis": "y"
        },
        {
         "hovertemplate": "<b>OLS trendline</b><br>top1 = 2.24263 * log10(secs) + 92.3785<br>R<sup>2</sup>=0.860671<br><br>family=beit<br>secs=%{x}<br>top1=%{y} <b>(trend)</b><extra></extra>",
         "legendgroup": "beit",
         "marker": {
          "color": "#EF553B",
          "symbol": "circle"
         },
         "mode": "lines",
         "name": "beit",
         "showlegend": false,
         "type": "scatter",
         "x": [
          0.0010062791820962809,
          0.0030446034404018876,
          0.00418007774944614,
          0.0121580547112462,
          0.030184123151222455
         ],
         "xaxis": "x",
         "y": [
          85.65667590377421,
          86.73495920794268,
          87.04366516942372,
          88.08352661170264,
          88.9691731071566
         ],
         "yaxis": "y"
        },
        {
         "customdata": [
          [
           256
          ]
         ],
         "hovertemplate": "<b>%{hovertext}</b><br><br>family=botnet<br>secs=%{x}<br>top1=%{y}<br>size=%{marker.size}<br>infer_img_size=%{customdata[0]}<extra></extra>",
         "hovertext": [
          "botnet26t_256.c1_in1k"
         ],
         "legendgroup": "botnet",
         "marker": {
          "color": "#00cc96",
          "size": [
           65536
          ],
          "sizemode": "area",
          "sizeref": 1128.96,
          "symbol": "circle"
         },
         "mode": "markers",
         "name": "botnet",
         "orientation": "v",
         "showlegend": true,
         "type": "scatter",
         "x": [
          0.0002900787273666073
         ],
         "xaxis": "x",
         "y": [
          79.258
         ],
         "yaxis": "y"
        },
        {
         "hovertemplate": "family=botnet<extra></extra>",
         "legendgroup": "botnet",
         "marker": {
          "color": "#00cc96",
          "symbol": "circle"
         },
         "mode": "lines",
         "name": "botnet",
         "showlegend": false,
         "type": "scatter",
         "xaxis": "x",
         "yaxis": "y"
        },
        {
         "customdata": [
          [
           384
          ],
          [
           448
          ],
          [
           224
          ],
          [
           384
          ],
          [
           384
          ],
          [
           384
          ],
          [
           224
          ],
          [
           384
          ],
          [
           224
          ],
          [
           384
          ]
         ],
         "hovertemplate": "<b>%{hovertext}</b><br><br>family=cait<br>secs=%{x}<br>top1=%{y}<br>size=%{marker.size}<br>infer_img_size=%{customdata[0]}<extra></extra>",
         "hovertext": [
          "cait_m36_384.fb_dist_in1k",
          "cait_m48_448.fb_dist_in1k",
          "cait_s24_224.fb_dist_in1k",
          "cait_s24_384.fb_dist_in1k",
          "cait_s36_384.fb_dist_in1k",
          "cait_xs24_384.fb_dist_in1k",
          "cait_xxs24_224.fb_dist_in1k",
          "cait_xxs24_384.fb_dist_in1k",
          "cait_xxs36_224.fb_dist_in1k",
          "cait_xxs36_384.fb_dist_in1k"
         ],
         "legendgroup": "cait",
         "marker": {
          "color": "#ab63fa",
          "size": [
           147456,
           200704,
           50176,
           147456,
           147456,
           147456,
           50176,
           147456,
           50176,
           147456
          ],
          "sizemode": "area",
          "sizeref": 1128.96,
          "symbol": "circle"
         },
         "mode": "markers",
         "name": "cait",
         "orientation": "v",
         "showlegend": true,
         "type": "scatter",
         "x": [
          0.031446540880503145,
          0.07401924500370097,
          0.0011470389190305229,
          0.006868131868131868,
          0.010270103728047653,
          0.005304476978569912,
          0.0006131583788092464,
          0.0037217611373702034,
          0.0009131252625235129,
          0.005556790397866192
         ],
         "xaxis": "x",
         "y": [
          86.058,
          86.492,
          83.442,
          85.048,
          85.454,
          84.062,
          78.384,
          80.972,
          79.746,
          82.204
         ],
         "yaxis": "y"
        },
        {
         "hovertemplate": "<b>OLS trendline</b><br>top1 = 3.60083 * log10(secs) + 91.4453<br>R<sup>2</sup>=0.734013<br><br>family=cait<br>secs=%{x}<br>top1=%{y} <b>(trend)</b><extra></extra>",
         "legendgroup": "cait",
         "marker": {
          "color": "#ab63fa",
          "symbol": "circle"
         },
         "mode": "lines",
         "name": "cait",
         "showlegend": false,
         "type": "scatter",
         "x": [
          0.0006131583788092464,
          0.0009131252625235129,
          0.0011470389190305229,
          0.0037217611373702034,
          0.005304476978569912,
          0.005556790397866192,
          0.006868131868131868,
          0.010270103728047653,
          0.031446540880503145,
          0.07401924500370097
         ],
         "xaxis": "x",
         "y": [
          79.8779395683159,
          80.50073037030063,
          80.85738439223931,
          82.69802059764838,
          83.2521665982907,
          83.3248365052876,
          83.65616523758403,
          84.28536016199273,
          86.03535528405419,
          87.37404128428624
         ],
         "yaxis": "y"
        },
        {
         "customdata": [
          [
           224
          ],
          [
           224
          ],
          [
           224
          ],
          [
           224
          ],
          [
           224
          ]
         ],
         "hovertemplate": "<b>%{hovertext}</b><br><br>family=coat<br>secs=%{x}<br>top1=%{y}<br>size=%{marker.size}<br>infer_img_size=%{customdata[0]}<extra></extra>",
         "hovertext": [
          "coat_lite_mini.in1k",
          "coat_lite_small.in1k",
          "coat_lite_tiny.in1k",
          "coat_mini.in1k",
          "coat_tiny.in1k"
         ],
         "legendgroup": "coat",
         "marker": {
          "color": "#FFA15A",
          "size": [
           50176,
           50176,
           50176,
           50176,
           50176
          ],
          "sizemode": "area",
          "sizeref": 1128.96,
          "symbol": "circle"
         },
         "mode": "markers",
         "name": "coat",
         "orientation": "v",
         "showlegend": true,
         "type": "scatter",
         "x": [
          0.00037544584193730055,
          0.0006598264656395368,
          0.0003530699431557391,
          0.0012718277436504,
          0.001022641277892541
         ],
         "xaxis": "x",
         "y": [
          79.102,
          82.312,
          77.52,
          81.27,
          78.426
         ],
         "yaxis": "y"
        },
        {
         "hovertemplate": "<b>OLS trendline</b><br>top1 = 3.76591 * log10(secs) + 91.7347<br>R<sup>2</sup>=0.222079<br><br>family=coat<br>secs=%{x}<br>top1=%{y} <b>(trend)</b><extra></extra>",
         "legendgroup": "coat",
         "marker": {
          "color": "#FFA15A",
          "symbol": "circle"
         },
         "mode": "lines",
         "name": "coat",
         "showlegend": false,
         "type": "scatter",
         "x": [
          0.0003530699431557391,
          0.00037544584193730055,
          0.0006598264656395368,
          0.001022641277892541,
          0.0012718277436504
         ],
         "xaxis": "x",
         "y": [
          78.73429555693775,
          78.83479475876734,
          79.75700043336548,
          80.47362932597284,
          80.83027992495713
         ],
         "yaxis": "y"
        },
        {
         "customdata": [
          [
           224
          ],
          [
           224
          ],
          [
           224
          ]
         ],
         "hovertemplate": "<b>%{hovertext}</b><br><br>family=convit<br>secs=%{x}<br>top1=%{y}<br>size=%{marker.size}<br>infer_img_size=%{customdata[0]}<extra></extra>",
         "hovertext": [
          "convit_base.fb_in1k",
          "convit_small.fb_in1k",
          "convit_tiny.fb_in1k"
         ],
         "legendgroup": "convit",
         "marker": {
          "color": "#19d3f3",
          "size": [
           50176,
           50176,
           50176
          ],
          "sizemode": "area",
          "sizeref": 1128.96,
          "symbol": "circle"
         },
         "mode": "markers",
         "name": "convit",
         "orientation": "v",
         "showlegend": true,
         "type": "scatter",
         "x": [
          0.0014544608313698112,
          0.0007307163943530237,
          0.0003142578800163414
         ],
         "xaxis": "x",
         "y": [
          82.29,
          81.42,
          73.112
         ],
         "yaxis": "y"
        },
        {
         "hovertemplate": "<b>OLS trendline</b><br>top1 = 14.1224 * log10(secs) + 123.55<br>R<sup>2</sup>=0.863019<br><br>family=convit<br>secs=%{x}<br>top1=%{y} <b>(trend)</b><extra></extra>",
         "legendgroup": "convit",
         "marker": {
          "color": "#19d3f3",
          "symbol": "circle"
         },
         "mode": "lines",
         "name": "convit",
         "showlegend": false,
         "type": "scatter",
         "x": [
          0.0003142578800163414,
          0.0007307163943530237,
          0.0014544608313698112
         ],
         "xaxis": "x",
         "y": [
          74.08311806983093,
          79.25846633808248,
          83.48041559208701
         ],
         "yaxis": "y"
        },
        {
         "customdata": [
          [
           224
          ],
          [
           224
          ],
          [
           224
          ]
         ],
         "hovertemplate": "<b>%{hovertext}</b><br><br>family=convmixer<br>secs=%{x}<br>top1=%{y}<br>size=%{marker.size}<br>infer_img_size=%{customdata[0]}<extra></extra>",
         "hovertext": [
          "convmixer_1024_20_ks9_p14.in1k",
          "convmixer_1536_20.in1k",
          "convmixer_768_32.in1k"
         ],
         "legendgroup": "convmixer",
         "marker": {
          "color": "#FF6692",
          "size": [
           50176,
           50176,
           50176
          ],
          "sizemode": "area",
          "sizeref": 1128.96,
          "symbol": "circle"
         },
         "mode": "markers",
         "name": "convmixer",
         "orientation": "v",
         "showlegend": true,
         "type": "scatter",
         "x": [
          0.012112403100775193,
          0.07401924500370097,
          0.0017400685587012127
         ],
         "xaxis": "x",
         "y": [
          76.936,
          81.362,
          80.168
         ],
         "yaxis": "y"
        },
        {
         "hovertemplate": "<b>OLS trendline</b><br>top1 = 0.67838 * log10(secs) + 80.8018<br>R<sup>2</sup>=0.058232<br><br>family=convmixer<br>secs=%{x}<br>top1=%{y} <b>(trend)</b><extra></extra>",
         "legendgroup": "convmixer",
         "marker": {
          "color": "#FF6692",
          "symbol": "circle"
         },
         "mode": "lines",
         "name": "convmixer",
         "showlegend": false,
         "type": "scatter",
         "x": [
          0.0017400685587012127,
          0.012112403100775193,
          0.07401924500370097
         ],
         "xaxis": "x",
         "y": [
          78.92980803444192,
          79.50145403553105,
          80.03473793002703
         ],
         "yaxis": "y"
        },
        {
         "customdata": [
          [
           224
          ],
          [
           224
          ],
          [
           224
          ],
          [
           224
          ],
          [
           224
          ],
          [
           224
          ],
          [
           224
          ],
          [
           224
          ],
          [
           224
          ],
          [
           224
          ],
          [
           224
          ],
          [
           224
          ],
          [
           224
          ],
          [
           224
          ],
          [
           224
          ],
          [
           224
          ],
          [
           224
          ],
          [
           224
          ],
          [
           224
          ],
          [
           224
          ],
          [
           224
          ]
         ],
         "hovertemplate": "<b>%{hovertext}</b><br><br>family=convnext<br>secs=%{x}<br>top1=%{y}<br>size=%{marker.size}<br>infer_img_size=%{customdata[0]}<extra></extra>",
         "hovertext": [
          "convnext_base.fb_in22k_ft_in1k_384",
          "convnext_base.fb_in1k",
          "convnext_base.fb_in22k_ft_in1k",
          "convnext_base.clip_laion2b_augreg_ft_in12k_in1k_384",
          "convnext_base.clip_laion2b_augreg_ft_in1k",
          "convnext_base.clip_laion2b_augreg_ft_in12k_in1k",
          "convnext_base.clip_laiona_augreg_ft_in1k_384",
          "convnext_large.fb_in22k_ft_in1k_384",
          "convnext_large.fb_in1k",
          "convnext_large.fb_in22k_ft_in1k",
          "convnext_small.in12k_ft_in1k_384",
          "convnext_small.in12k_ft_in1k",
          "convnext_small.fb_in22k_ft_in1k_384",
          "convnext_small.fb_in22k_ft_in1k",
          "convnext_small.fb_in1k",
          "convnext_tiny.in12k_ft_in1k",
          "convnext_tiny.in12k_ft_in1k_384",
          "convnext_tiny.fb_in1k",
          "convnext_tiny.fb_in22k_ft_in1k",
          "convnext_tiny.fb_in22k_ft_in1k_384",
          "convnext_tiny_hnf.a2h_in1k"
         ],
         "legendgroup": "convnext",
         "marker": {
          "color": "#B6E880",
          "size": [
           50176,
           50176,
           50176,
           50176,
           50176,
           50176,
           50176,
           50176,
           50176,
           50176,
           50176,
           50176,
           50176,
           50176,
           50176,
           50176,
           50176,
           50176,
           50176,
           50176,
           50176
          ],
          "sizemode": "area",
          "sizeref": 1128.96,
          "symbol": "circle"
         },
         "mode": "markers",
         "name": "convnext",
         "orientation": "v",
         "showlegend": true,
         "type": "scatter",
         "x": [
          0.001017356094980365,
          0.001017356094980365,
          0.001017356094980365,
          0.001017356094980365,
          0.001017356094980365,
          0.001017356094980365,
          0.001017356094980365,
          0.001837424665588711,
          0.001837424665588711,
          0.001837424665588711,
          0.0007089131652263915,
          0.0007089131652263915,
          0.0007089131652263915,
          0.0007089131652263915,
          0.0007089131652263915,
          0.00043947351073414054,
          0.00043947351073414054,
          0.00043947351073414054,
          0.00043947351073414054,
          0.00043947351073414054,
          0.00048231356169272765
         ],
         "xaxis": "x",
         "y": [
          86.796,
          84.428,
          86.274,
          87.134,
          86.158,
          86.37,
          86.502,
          87.472,
          84.846,
          87.026,
          86.182,
          85.33,
          85.778,
          85.262,
          83.7,
          84.45,
          85.122,
          82.698,
          78.898,
          84.088,
          82.584
         ],
         "yaxis": "y"
        },
        {
         "hovertemplate": "<b>OLS trendline</b><br>top1 = 6.3023 * log10(secs) + 104.608<br>R<sup>2</sup>=0.438464<br><br>family=convnext<br>secs=%{x}<br>top1=%{y} <b>(trend)</b><extra></extra>",
         "legendgroup": "convnext",
         "marker": {
          "color": "#B6E880",
          "symbol": "circle"
         },
         "mode": "lines",
         "name": "convnext",
         "showlegend": false,
         "type": "scatter",
         "x": [
          0.00043947351073414054,
          0.00043947351073414054,
          0.00043947351073414054,
          0.00043947351073414054,
          0.00043947351073414054,
          0.00048231356169272765,
          0.0007089131652263915,
          0.0007089131652263915,
          0.0007089131652263915,
          0.0007089131652263915,
          0.0007089131652263915,
          0.001017356094980365,
          0.001017356094980365,
          0.001017356094980365,
          0.001017356094980365,
          0.001017356094980365,
          0.001017356094980365,
          0.001017356094980365,
          0.001837424665588711,
          0.001837424665588711,
          0.001837424665588711
         ],
         "xaxis": "x",
         "y": [
          83.45100915074977,
          83.45100915074977,
          83.45100915074977,
          83.45100915074977,
          83.45100915074977,
          83.70560180292455,
          84.7597473424686,
          84.7597473424686,
          84.7597473424686,
          84.7597473424686,
          84.7597473424686,
          85.74845218086062,
          85.74845218086062,
          85.74845218086062,
          85.74845218086062,
          85.74845218086062,
          85.74845218086062,
          85.74845218086062,
          87.36648348832063,
          87.36648348832063,
          87.36648348832063
         ],
         "yaxis": "y"
        },
        {
         "customdata": [
          [
           240
          ],
          [
           240
          ],
          [
           408
          ],
          [
           240
          ],
          [
           240
          ],
          [
           408
          ],
          [
           240
          ],
          [
           240
          ],
          [
           240
          ],
          [
           240
          ],
          [
           240
          ]
         ],
         "hovertemplate": "<b>%{hovertext}</b><br><br>family=crossvit<br>secs=%{x}<br>top1=%{y}<br>size=%{marker.size}<br>infer_img_size=%{customdata[0]}<extra></extra>",
         "hovertext": [
          "crossvit_15_240.in1k",
          "crossvit_15_dagger_240.in1k",
          "crossvit_15_dagger_408.in1k",
          "crossvit_18_240.in1k",
          "crossvit_18_dagger_240.in1k",
          "crossvit_18_dagger_408.in1k",
          "crossvit_9_240.in1k",
          "crossvit_9_dagger_240.in1k",
          "crossvit_base_240.in1k",
          "crossvit_small_240.in1k",
          "crossvit_tiny_240.in1k"
         ],
         "legendgroup": "crossvit",
         "marker": {
          "color": "#FF97FF",
          "size": [
           57600,
           57600,
           166464,
           57600,
           57600,
           166464,
           57600,
           57600,
           57600,
           57600,
           57600
          ],
          "sizemode": "area",
          "sizeref": 1128.96,
          "symbol": "circle"
         },
         "mode": "markers",
         "name": "crossvit",
         "orientation": "v",
         "showlegend": true,
         "type": "scatter",
         "x": [
          0.0005881107530170082,
          0.0006054331571522846,
          0.002823662289990117,
          0.0008294969101240098,
          0.0008531185749507324,
          0.0038593647485623862,
          0.0002746551018558445,
          0.0002807190900209978,
          0.0013383297644539614,
          0.0005422640609070993,
          0.00025943432938820195
         ],
         "xaxis": "x",
         "y": [
          81.536,
          82.33,
          83.84,
          82.4,
          82.518,
          84.202,
          73.96,
          76.978,
          82.214,
          81.018,
          73.34
         ],
         "yaxis": "y"
        },
        {
         "hovertemplate": "<b>OLS trendline</b><br>top1 = 8.1578 * log10(secs) + 105.905<br>R<sup>2</sup>=0.695334<br><br>family=crossvit<br>secs=%{x}<br>top1=%{y} <b>(trend)</b><extra></extra>",
         "legendgroup": "crossvit",
         "marker": {
          "color": "#FF97FF",
          "symbol": "circle"
         },
         "mode": "lines",
         "name": "crossvit",
         "showlegend": false,
         "type": "scatter",
         "x": [
          0.00025943432938820195,
          0.0002746551018558445,
          0.0002807190900209978,
          0.0005422640609070993,
          0.0005881107530170082,
          0.0006054331571522846,
          0.0008294969101240098,
          0.0008531185749507324,
          0.0013383297644539614,
          0.002823662289990117,
          0.0038593647485623862
         ],
         "xaxis": "x",
         "y": [
          76.65180086510937,
          76.8537898321744,
          76.93116065833163,
          79.26379261246902,
          79.55134115373015,
          79.65418719633462,
          80.7697545923953,
          80.8692358985294,
          82.46452405384932,
          85.10968735583822,
          86.216725781239
         ],
         "yaxis": "y"
        },
        {
         "customdata": [
          [
           256
          ]
         ],
         "hovertemplate": "<b>%{hovertext}</b><br><br>family=cspdarknet<br>secs=%{x}<br>top1=%{y}<br>size=%{marker.size}<br>infer_img_size=%{customdata[0]}<extra></extra>",
         "hovertext": [
          "cspdarknet53.ra_in1k"
         ],
         "legendgroup": "cspdarknet",
         "marker": {
          "color": "#FECB52",
          "size": [
           65536
          ],
          "sizemode": "area",
          "sizeref": 1128.96,
          "symbol": "circle"
         },
         "mode": "markers",
         "name": "cspdarknet",
         "orientation": "v",
         "showlegend": true,
         "type": "scatter",
         "x": [
          0.0005610255547140172
         ],
         "xaxis": "x",
         "y": [
          80.068
         ],
         "yaxis": "y"
        },
        {
         "hovertemplate": "family=cspdarknet<extra></extra>",
         "legendgroup": "cspdarknet",
         "marker": {
          "color": "#FECB52",
          "symbol": "circle"
         },
         "mode": "lines",
         "name": "cspdarknet",
         "showlegend": false,
         "type": "scatter",
         "xaxis": "x",
         "yaxis": "y"
        },
        {
         "customdata": [
          [
           256
          ]
         ],
         "hovertemplate": "<b>%{hovertext}</b><br><br>family=cspresnet<br>secs=%{x}<br>top1=%{y}<br>size=%{marker.size}<br>infer_img_size=%{customdata[0]}<extra></extra>",
         "hovertext": [
          "cspresnet50.ra_in1k"
         ],
         "legendgroup": "cspresnet",
         "marker": {
          "color": "#636efa",
          "size": [
           65536
          ],
          "sizemode": "area",
          "sizeref": 1128.96,
          "symbol": "circle"
         },
         "mode": "markers",
         "name": "cspresnet",
         "orientation": "v",
         "showlegend": true,
         "type": "scatter",
         "x": [
          0.00036310820624546115
         ],
         "xaxis": "x",
         "y": [
          79.582
         ],
         "yaxis": "y"
        },
        {
         "hovertemplate": "family=cspresnet<extra></extra>",
         "legendgroup": "cspresnet",
         "marker": {
          "color": "#636efa",
          "symbol": "circle"
         },
         "mode": "lines",
         "name": "cspresnet",
         "showlegend": false,
         "type": "scatter",
         "xaxis": "x",
         "yaxis": "y"
        },
        {
         "customdata": [
          [
           224
          ]
         ],
         "hovertemplate": "<b>%{hovertext}</b><br><br>family=cspresnext<br>secs=%{x}<br>top1=%{y}<br>size=%{marker.size}<br>infer_img_size=%{customdata[0]}<extra></extra>",
         "hovertext": [
          "cspresnext50.ra_in1k"
         ],
         "legendgroup": "cspresnext",
         "marker": {
          "color": "#EF553B",
          "size": [
           50176
          ],
          "sizemode": "area",
          "sizeref": 1128.96,
          "symbol": "circle"
         },
         "mode": "markers",
         "name": "cspresnext",
         "orientation": "v",
         "showlegend": true,
         "type": "scatter",
         "x": [
          0.00033536452446987253
         ],
         "xaxis": "x",
         "y": [
          80.554
         ],
         "yaxis": "y"
        },
        {
         "hovertemplate": "family=cspresnext<extra></extra>",
         "legendgroup": "cspresnext",
         "marker": {
          "color": "#EF553B",
          "symbol": "circle"
         },
         "mode": "lines",
         "name": "cspresnext",
         "showlegend": false,
         "type": "scatter",
         "xaxis": "x",
         "yaxis": "y"
        },
        {
         "customdata": [
          [
           256
          ]
         ],
         "hovertemplate": "<b>%{hovertext}</b><br><br>family=darknet<br>secs=%{x}<br>top1=%{y}<br>size=%{marker.size}<br>infer_img_size=%{customdata[0]}<extra></extra>",
         "hovertext": [
          "darknet53.c2ns_in1k"
         ],
         "legendgroup": "darknet",
         "marker": {
          "color": "#00cc96",
          "size": [
           65536
          ],
          "sizemode": "area",
          "sizeref": 1128.96,
          "symbol": "circle"
         },
         "mode": "markers",
         "name": "darknet",
         "orientation": "v",
         "showlegend": true,
         "type": "scatter",
         "x": [
          0.0004446954503208478
         ],
         "xaxis": "x",
         "y": [
          80.532
         ],
         "yaxis": "y"
        },
        {
         "hovertemplate": "family=darknet<extra></extra>",
         "legendgroup": "darknet",
         "marker": {
          "color": "#00cc96",
          "symbol": "circle"
         },
         "mode": "lines",
         "name": "darknet",
         "showlegend": false,
         "type": "scatter",
         "xaxis": "x",
         "yaxis": "y"
        },
        {
         "customdata": [
          [
           224
          ],
          [
           384
          ],
          [
           224
          ],
          [
           384
          ],
          [
           224
          ],
          [
           224
          ],
          [
           224
          ],
          [
           224
          ]
         ],
         "hovertemplate": "<b>%{hovertext}</b><br><br>family=deit<br>secs=%{x}<br>top1=%{y}<br>size=%{marker.size}<br>infer_img_size=%{customdata[0]}<extra></extra>",
         "hovertext": [
          "deit_base_distilled_patch16_224.fb_in1k",
          "deit_base_distilled_patch16_384.fb_in1k",
          "deit_base_patch16_224.fb_in1k",
          "deit_base_patch16_384.fb_in1k",
          "deit_small_distilled_patch16_224.fb_in1k",
          "deit_small_patch16_224.fb_in1k",
          "deit_tiny_distilled_patch16_224.fb_in1k",
          "deit_tiny_patch16_224.fb_in1k"
         ],
         "legendgroup": "deit",
         "marker": {
          "color": "#ab63fa",
          "size": [
           50176,
           147456,
           50176,
           147456,
           50176,
           50176,
           50176,
           50176
          ],
          "sizemode": "area",
          "sizeref": 1128.96,
          "symbol": "circle"
         },
         "mode": "markers",
         "name": "deit",
         "orientation": "v",
         "showlegend": true,
         "type": "scatter",
         "x": [
          0.0009452778644282486,
          0.0036608581051398447,
          0.0009330447115025752,
          0.0036064627813040973,
          0.00035822007608594415,
          0.00035213003457916937,
          0.00016345478023504798,
          0.0001608104848436118
         ],
         "xaxis": "x",
         "y": [
          83.39,
          85.424,
          81.992,
          83.104,
          81.216,
          79.848,
          74.504,
          72.17
         ],
         "yaxis": "y"
        },
        {
         "hovertemplate": "<b>OLS trendline</b><br>top1 = 7.37868 * log10(secs) + 103.646<br>R<sup>2</sup>=0.751888<br><br>family=deit<br>secs=%{x}<br>top1=%{y} <b>(trend)</b><extra></extra>",
         "legendgroup": "deit",
         "marker": {
          "color": "#ab63fa",
          "symbol": "circle"
         },
         "mode": "lines",
         "name": "deit",
         "showlegend": false,
         "type": "scatter",
         "x": [
          0.0001608104848436118,
          0.00016345478023504798,
          0.00035213003457916937,
          0.00035822007608594415,
          0.0009330447115025752,
          0.0009452778644282486,
          0.0036064627813040973,
          0.0036608581051398447
         ],
         "xaxis": "x",
         "y": [
          75.6531905179106,
          75.70545567576832,
          78.16481055335298,
          78.2197585094006,
          81.28746425038405,
          81.32920569432267,
          85.62007136537254,
          85.66804343348814
         ],
         "yaxis": "y"
        },
        {
         "customdata": [
          [
           224
          ],
          [
           224
          ],
          [
           224
          ],
          [
           224
          ],
          [
           224
          ]
         ],
         "hovertemplate": "<b>%{hovertext}</b><br><br>family=densenet<br>secs=%{x}<br>top1=%{y}<br>size=%{marker.size}<br>infer_img_size=%{customdata[0]}<extra></extra>",
         "hovertext": [
          "densenet121.tv_in1k",
          "densenet121.ra_in1k",
          "densenet161.tv_in1k",
          "densenet169.tv_in1k",
          "densenet201.tv_in1k"
         ],
         "legendgroup": "densenet",
         "marker": {
          "color": "#FFA15A",
          "size": [
           50176,
           50176,
           50176,
           50176,
           50176
          ],
          "sizemode": "area",
          "sizeref": 1128.96,
          "symbol": "circle"
         },
         "mode": "markers",
         "name": "densenet",
         "orientation": "v",
         "showlegend": true,
         "type": "scatter",
         "x": [
          0.00034972371826257255,
          0.00034972371826257255,
          0.0007831466833737959,
          0.00042332880371513356,
          0.000549831201821041
         ],
         "xaxis": "x",
         "y": [
          74.764,
          76.5,
          77.358,
          75.9,
          77.286
         ],
         "yaxis": "y"
        },
        {
         "hovertemplate": "<b>OLS trendline</b><br>top1 = 5.54267 * log10(secs) + 94.8207<br>R<sup>2</sup>=0.589001<br><br>family=densenet<br>secs=%{x}<br>top1=%{y} <b>(trend)</b><extra></extra>",
         "legendgroup": "densenet",
         "marker": {
          "color": "#FFA15A",
          "symbol": "circle"
         },
         "mode": "lines",
         "name": "densenet",
         "showlegend": false,
         "type": "scatter",
         "x": [
          0.00034972371826257255,
          0.00034972371826257255,
          0.00042332880371513356,
          0.000549831201821041,
          0.0007831466833737959
         ],
         "xaxis": "x",
         "y": [
          75.6636951867335,
          75.6636951867335,
          76.12347445228234,
          76.75285280469043,
          77.60428236956005
         ],
         "yaxis": "y"
        },
        {
         "customdata": [
          [
           224
          ]
         ],
         "hovertemplate": "<b>%{hovertext}</b><br><br>family=densenetblur<br>secs=%{x}<br>top1=%{y}<br>size=%{marker.size}<br>infer_img_size=%{customdata[0]}<extra></extra>",
         "hovertext": [
          "densenetblur121d.ra_in1k"
         ],
         "legendgroup": "densenetblur",
         "marker": {
          "color": "#19d3f3",
          "size": [
           50176
          ],
          "sizemode": "area",
          "sizeref": 1128.96,
          "symbol": "circle"
         },
         "mode": "markers",
         "name": "densenetblur",
         "orientation": "v",
         "showlegend": true,
         "type": "scatter",
         "x": [
          0.00040891098825607643
         ],
         "xaxis": "x",
         "y": [
          77.322
         ],
         "yaxis": "y"
        },
        {
         "hovertemplate": "family=densenetblur<extra></extra>",
         "legendgroup": "densenetblur",
         "marker": {
          "color": "#19d3f3",
          "symbol": "circle"
         },
         "mode": "lines",
         "name": "densenetblur",
         "showlegend": false,
         "type": "scatter",
         "xaxis": "x",
         "yaxis": "y"
        },
        {
         "customdata": [
          [
           224
          ],
          [
           224
          ],
          [
           224
          ],
          [
           224
          ],
          [
           224
          ],
          [
           224
          ],
          [
           224
          ],
          [
           224
          ],
          [
           224
          ],
          [
           224
          ],
          [
           224
          ],
          [
           224
          ]
         ],
         "hovertemplate": "<b>%{hovertext}</b><br><br>family=dla<br>secs=%{x}<br>top1=%{y}<br>size=%{marker.size}<br>infer_img_size=%{customdata[0]}<extra></extra>",
         "hovertext": [
          "dla102.in1k",
          "dla102x.in1k",
          "dla102x2.in1k",
          "dla169.in1k",
          "dla34.in1k",
          "dla46_c.in1k",
          "dla46x_c.in1k",
          "dla60.in1k",
          "dla60_res2net.in1k",
          "dla60_res2next.in1k",
          "dla60x.in1k",
          "dla60x_c.in1k"
         ],
         "legendgroup": "dla",
         "marker": {
          "color": "#FF6692",
          "size": [
           50176,
           50176,
           50176,
           50176,
           50176,
           50176,
           50176,
           50176,
           50176,
           50176,
           50176,
           50176
          ],
          "sizemode": "area",
          "sizeref": 1128.96,
          "symbol": "circle"
         },
         "mode": "markers",
         "name": "dla",
         "orientation": "v",
         "showlegend": true,
         "type": "scatter",
         "x": [
          0.0006442966857378486,
          0.0007057511662538022,
          0.0009576526019421194,
          0.000884486113568017,
          0.0003583792656092089,
          0.00028617789390240764,
          0.0003606124642092129,
          0.0004791130658924199,
          0.0005813649285793186,
          0.0006443714156840003,
          0.0005272120499586138,
          0.00036870845116640917
         ],
         "xaxis": "x",
         "y": [
          78.024,
          78.512,
          79.446,
          78.708,
          74.64,
          64.872,
          65.992,
          77.046,
          78.464,
          78.44,
          78.236,
          67.912
         ],
         "yaxis": "y"
        },
        {
         "hovertemplate": "<b>OLS trendline</b><br>top1 = 27.7617 * log10(secs) + 165.952<br>R<sup>2</sup>=0.711013<br><br>family=dla<br>secs=%{x}<br>top1=%{y} <b>(trend)</b><extra></extra>",
         "legendgroup": "dla",
         "marker": {
          "color": "#FF6692",
          "symbol": "circle"
         },
         "mode": "lines",
         "name": "dla",
         "showlegend": false,
         "type": "scatter",
         "x": [
          0.00028617789390240764,
          0.0003583792656092089,
          0.0003606124642092129,
          0.00036870845116640917,
          0.0004791130658924199,
          0.0005272120499586138,
          0.0005813649285793186,
          0.0006442966857378486,
          0.0006443714156840003,
          0.0007057511662538022,
          0.000884486113568017,
          0.0009576526019421194
         ],
         "xaxis": "x",
         "y": [
          67.58255558511804,
          70.29505808377208,
          70.36995510547558,
          70.63764296242627,
          73.79566816465508,
          74.94909044765912,
          76.12794762183923,
          77.36714662772238,
          77.36854496936444,
          78.4655562402373,
          81.18729288852997,
          82.14554130320231
         ],
         "yaxis": "y"
        },
        {
         "customdata": [
          [
           256
          ],
          [
           320
          ],
          [
           352
          ],
          [
           416
          ],
          [
           512
          ],
          [
           544
          ],
          [
           576
          ]
         ],
         "hovertemplate": "<b>%{hovertext}</b><br><br>family=dm<br>secs=%{x}<br>top1=%{y}<br>size=%{marker.size}<br>infer_img_size=%{customdata[0]}<extra></extra>",
         "hovertext": [
          "dm_nfnet_f0.dm_in1k",
          "dm_nfnet_f1.dm_in1k",
          "dm_nfnet_f2.dm_in1k",
          "dm_nfnet_f3.dm_in1k",
          "dm_nfnet_f4.dm_in1k",
          "dm_nfnet_f5.dm_in1k",
          "dm_nfnet_f6.dm_in1k"
         ],
         "legendgroup": "dm",
         "marker": {
          "color": "#B6E880",
          "size": [
           65536,
           102400,
           123904,
           173056,
           262144,
           295936,
           331776
          ],
          "sizemode": "area",
          "sizeref": 1128.96,
          "symbol": "circle"
         },
         "mode": "markers",
         "name": "dm",
         "orientation": "v",
         "showlegend": true,
         "type": "scatter",
         "x": [
          0.0013132148813510354,
          0.003819563805813376,
          0.006774149844194553,
          0.013000520020800831,
          0.02424830261881668,
          0.031746031746031744,
          0.042716787697565144
         ],
         "xaxis": "x",
         "y": [
          83.486,
          84.702,
          85.192,
          85.686,
          85.836,
          86.1,
          86.362
         ],
         "yaxis": "y"
        },
        {
         "hovertemplate": "<b>OLS trendline</b><br>top1 = 1.7808 * log10(secs) + 88.8581<br>R<sup>2</sup>=0.968170<br><br>family=dm<br>secs=%{x}<br>top1=%{y} <b>(trend)</b><extra></extra>",
         "legendgroup": "dm",
         "marker": {
          "color": "#B6E880",
          "symbol": "circle"
         },
         "mode": "lines",
         "name": "dm",
         "showlegend": false,
         "type": "scatter",
         "x": [
          0.0013132148813510354,
          0.003819563805813376,
          0.006774149844194553,
          0.013000520020800831,
          0.02424830261881668,
          0.031746031746031744,
          0.042716787697565144
         ],
         "xaxis": "x",
         "y": [
          83.72639736417774,
          84.55211627779083,
          84.9952530155937,
          85.49940876675366,
          85.98150873269027,
          86.18987705942683,
          86.41943878356754
         ],
         "yaxis": "y"
        },
        {
         "customdata": [
          [
           224
          ],
          [
           224
          ],
          [
           224
          ],
          [
           224
          ],
          [
           224
          ],
          [
           224
          ],
          [
           224
          ]
         ],
         "hovertemplate": "<b>%{hovertext}</b><br><br>family=dpn<br>secs=%{x}<br>top1=%{y}<br>size=%{marker.size}<br>infer_img_size=%{customdata[0]}<extra></extra>",
         "hovertext": [
          "dpn107.mx_in1k",
          "dpn131.mx_in1k",
          "dpn68.mx_in1k",
          "dpn68b.mx_in1k",
          "dpn68b.ra_in1k",
          "dpn92.mx_in1k",
          "dpn98.mx_in1k"
         ],
         "legendgroup": "dpn",
         "marker": {
          "color": "#FF97FF",
          "size": [
           50176,
           50176,
           50176,
           50176,
           50176,
           50176,
           50176
          ],
          "sizemode": "area",
          "sizeref": 1128.96,
          "symbol": "circle"
         },
         "mode": "markers",
         "name": "dpn",
         "orientation": "v",
         "showlegend": true,
         "type": "scatter",
         "x": [
          0.0014261469787076255,
          0.0012368583797155227,
          0.0002920705759339687,
          0.00029302913002581584,
          0.00029302913002581584,
          0.0007673949244499697,
          0.0009112613679855655
         ],
         "xaxis": "x",
         "y": [
          80.17,
          79.814,
          76.346,
          77.518,
          79.36,
          80.038,
          79.67
         ],
         "yaxis": "y"
        },
        {
         "hovertemplate": "<b>OLS trendline</b><br>top1 = 3.66131 * log10(secs) + 90.7615<br>R<sup>2</sup>=0.596999<br><br>family=dpn<br>secs=%{x}<br>top1=%{y} <b>(trend)</b><extra></extra>",
         "legendgroup": "dpn",
         "marker": {
          "color": "#FF97FF",
          "symbol": "circle"
         },
         "mode": "lines",
         "name": "dpn",
         "showlegend": false,
         "type": "scatter",
         "x": [
          0.0002920705759339687,
          0.00029302913002581584,
          0.00029302913002581584,
          0.0007673949244499697,
          0.0009112613679855655,
          0.0012368583797155227,
          0.0014261469787076255
         ],
         "xaxis": "x",
         "y": [
          77.8205431704657,
          77.82575317575547,
          77.82575317575547,
          79.35657742157657,
          79.62979929278983,
          80.11557122796272,
          80.34200253569384
         ],
         "yaxis": "y"
        },
        {
         "customdata": [
          [
           256
          ],
          [
           256
          ],
          [
           288
          ],
          [
           320
          ],
          [
           384
          ],
          [
           256
          ],
          [
           256
          ]
         ],
         "hovertemplate": "<b>%{hovertext}</b><br><br>family=eca<br>secs=%{x}<br>top1=%{y}<br>size=%{marker.size}<br>infer_img_size=%{customdata[0]}<extra></extra>",
         "hovertext": [
          "eca_botnext26ts_256.c1_in1k",
          "eca_halonext26ts.c1_in1k",
          "eca_nfnet_l0.ra2_in1k",
          "eca_nfnet_l1.ra2_in1k",
          "eca_nfnet_l2.ra3_in1k",
          "eca_resnet33ts.ra2_in1k",
          "eca_resnext26ts.ch_in1k"
         ],
         "legendgroup": "eca",
         "marker": {
          "color": "#FECB52",
          "size": [
           65536,
           65536,
           82944,
           102400,
           147456,
           65536,
           65536
          ],
          "sizemode": "area",
          "sizeref": 1128.96,
          "symbol": "circle"
         },
         "mode": "markers",
         "name": "eca",
         "orientation": "v",
         "showlegend": true,
         "type": "scatter",
         "x": [
          0.00027129753471930203,
          0.00027986275530479855,
          0.0009084714967067908,
          0.002054062936488374,
          0.004294979169351029,
          0.00030629559975741387,
          0.0002529378733995356
         ],
         "xaxis": "x",
         "y": [
          79.268,
          79.486,
          82.578,
          84.012,
          84.7,
          80.672,
          78
         ],
         "yaxis": "y"
        },
        {
         "hovertemplate": "<b>OLS trendline</b><br>top1 = 4.89374 * log10(secs) + 96.8538<br>R<sup>2</sup>=0.913239<br><br>family=eca<br>secs=%{x}<br>top1=%{y} <b>(trend)</b><extra></extra>",
         "legendgroup": "eca",
         "marker": {
          "color": "#FECB52",
          "symbol": "circle"
         },
         "mode": "lines",
         "name": "eca",
         "showlegend": false,
         "type": "scatter",
         "x": [
          0.0002529378733995356,
          0.00027129753471930203,
          0.00027986275530479855,
          0.00030629559975741387,
          0.0009084714967067908,
          0.002054062936488374,
          0.004294979169351029
         ],
         "xaxis": "x",
         "y": [
          79.25105755313038,
          79.39998391125508,
          79.46604583240511,
          79.6578593418509,
          81.96854138698971,
          83.70240702270755,
          85.27010495166164
         ],
         "yaxis": "y"
        },
        {
         "customdata": [
          [
           224
          ],
          [
           224
          ],
          [
           352
          ],
          [
           320
          ],
          [
           224
          ],
          [
           224
          ],
          [
           320
          ],
          [
           320
          ],
          [
           320
          ],
          [
           320
          ]
         ],
         "hovertemplate": "<b>%{hovertext}</b><br><br>family=ecaresnet<br>secs=%{x}<br>top1=%{y}<br>size=%{marker.size}<br>infer_img_size=%{customdata[0]}<extra></extra>",
         "hovertext": [
          "ecaresnet101d.miil_in1k",
          "ecaresnet101d_pruned.miil_in1k",
          "ecaresnet269d.ra2_in1k",
          "ecaresnet26t.ra2_in1k",
          "ecaresnet50d.miil_in1k",
          "ecaresnet50d_pruned.miil_in1k",
          "ecaresnet50t.ra2_in1k",
          "ecaresnet50t.a2_in1k",
          "ecaresnet50t.a3_in1k",
          "ecaresnet50t.a1_in1k"
         ],
         "legendgroup": "ecaresnet",
         "marker": {
          "color": "#636efa",
          "size": [
           50176,
           50176,
           123904,
           102400,
           50176,
           50176,
           102400,
           102400,
           102400,
           102400
          ],
          "sizemode": "area",
          "sizeref": 1128.96,
          "symbol": "circle"
         },
         "mode": "markers",
         "name": "ecaresnet",
         "orientation": "v",
         "showlegend": true,
         "type": "scatter",
         "x": [
          0.0005623664379709819,
          0.00035292415307026367,
          0.0034072711165627446,
          0.0004661678670489243,
          0.00035512876969189027,
          0.0002692311834325899,
          0.0007233325376675419,
          0.0007233325376675419,
          0.0007233325376675419,
          0.0007233325376675419
         ],
         "xaxis": "x",
         "y": [
          82.984,
          81.998,
          84.968,
          79.85,
          81.65,
          80.79,
          82.352,
          81.658,
          79.552,
          82.128
         ],
         "yaxis": "y"
        },
        {
         "hovertemplate": "<b>OLS trendline</b><br>top1 = 3.34985 * log10(secs) + 92.5405<br>R<sup>2</sup>=0.428305<br><br>family=ecaresnet<br>secs=%{x}<br>top1=%{y} <b>(trend)</b><extra></extra>",
         "legendgroup": "ecaresnet",
         "marker": {
          "color": "#636efa",
          "symbol": "circle"
         },
         "mode": "lines",
         "name": "ecaresnet",
         "showlegend": false,
         "type": "scatter",
         "x": [
          0.0002692311834325899,
          0.00035292415307026367,
          0.00035512876969189027,
          0.0004661678670489243,
          0.0005623664379709819,
          0.0007233325376675419,
          0.0007233325376675419,
          0.0007233325376675419,
          0.0007233325376675419,
          0.0034072711165627446
         ],
         "xaxis": "x",
         "y": [
          80.5819406112577,
          80.97573620464264,
          80.98479580504232,
          81.38060284049953,
          81.65353915491092,
          82.01974060907386,
          82.01974060907386,
          82.01974060907386,
          82.01974060907386,
          84.2744229473508
         ],
         "yaxis": "y"
        },
        {
         "customdata": [
          [
           224
          ]
         ],
         "hovertemplate": "<b>%{hovertext}</b><br><br>family=ecaresnetlight<br>secs=%{x}<br>top1=%{y}<br>size=%{marker.size}<br>infer_img_size=%{customdata[0]}<extra></extra>",
         "hovertext": [
          "ecaresnetlight.miil_in1k"
         ],
         "legendgroup": "ecaresnetlight",
         "marker": {
          "color": "#EF553B",
          "size": [
           50176
          ],
          "sizemode": "area",
          "sizeref": 1128.96,
          "symbol": "circle"
         },
         "mode": "markers",
         "name": "ecaresnetlight",
         "orientation": "v",
         "showlegend": true,
         "type": "scatter",
         "x": [
          0.00027866796711717987
         ],
         "xaxis": "x",
         "y": [
          81.408
         ],
         "yaxis": "y"
        },
        {
         "hovertemplate": "family=ecaresnetlight<extra></extra>",
         "legendgroup": "ecaresnetlight",
         "marker": {
          "color": "#EF553B",
          "symbol": "circle"
         },
         "mode": "lines",
         "name": "ecaresnetlight",
         "showlegend": false,
         "type": "scatter",
         "xaxis": "x",
         "yaxis": "y"
        },
        {
         "customdata": [
          [
           224
          ],
          [
           256
          ],
          [
           240
          ],
          [
           288
          ],
          [
           260
          ],
          [
           320
          ],
          [
           300
          ],
          [
           384
          ],
          [
           456
          ],
          [
           300
          ],
          [
           300
          ],
          [
           240
          ],
          [
           224
          ],
          [
           224
          ],
          [
           224
          ]
         ],
         "hovertemplate": "<b>%{hovertext}</b><br><br>family=efficientnet<br>secs=%{x}<br>top1=%{y}<br>size=%{marker.size}<br>infer_img_size=%{customdata[0]}<extra></extra>",
         "hovertext": [
          "efficientnet_b0.ra_in1k",
          "efficientnet_b1.ft_in1k",
          "efficientnet_b1_pruned.in1k",
          "efficientnet_b2.ra_in1k",
          "efficientnet_b2_pruned.in1k",
          "efficientnet_b3.ra2_in1k",
          "efficientnet_b3_pruned.in1k",
          "efficientnet_b4.ra2_in1k",
          "efficientnet_b5.sw_in12k_ft_in1k",
          "efficientnet_el.ra_in1k",
          "efficientnet_el_pruned.in1k",
          "efficientnet_em.ra2_in1k",
          "efficientnet_es.ra_in1k",
          "efficientnet_es_pruned.in1k",
          "efficientnet_lite0.ra_in1k"
         ],
         "legendgroup": "efficientnet",
         "marker": {
          "color": "#00cc96",
          "size": [
           50176,
           65536,
           57600,
           82944,
           67600,
           102400,
           90000,
           147456,
           207936,
           90000,
           90000,
           57600,
           50176,
           50176,
           50176
          ],
          "sizemode": "area",
          "sizeref": 1128.96,
          "symbol": "circle"
         },
         "mode": "markers",
         "name": "efficientnet",
         "orientation": "v",
         "showlegend": true,
         "type": "scatter",
         "x": [
          0.0001301779923689661,
          0.00024378530315921374,
          0.00016600486062231902,
          0.00032120258246876303,
          0.0002616848842960284,
          0.000539647933688062,
          0.00032275451614256713,
          0.0010264938051098862,
          0.0021380313007782433,
          0.0006642355645005945,
          0.0006644474123095528,
          0.0002911538719097656,
          0.00017507769072525934,
          0.00017510804166170527,
          0.00011112172940969915
         ],
         "xaxis": "x",
         "y": [
          77.694,
          78.8,
          78.24,
          80.61,
          79.92,
          82.246,
          80.852,
          83.414,
          85.896,
          81.312,
          80.298,
          79.244,
          78.058,
          75.006,
          75.482
         ],
         "yaxis": "y"
        },
        {
         "hovertemplate": "<b>OLS trendline</b><br>top1 = 7.34882 * log10(secs) + 105.344<br>R<sup>2</sup>=0.852321<br><br>family=efficientnet<br>secs=%{x}<br>top1=%{y} <b>(trend)</b><extra></extra>",
         "legendgroup": "efficientnet",
         "marker": {
          "color": "#00cc96",
          "symbol": "circle"
         },
         "mode": "lines",
         "name": "efficientnet",
         "showlegend": false,
         "type": "scatter",
         "x": [
          0.00011112172940969915,
          0.0001301779923689661,
          0.00016600486062231902,
          0.00017507769072525934,
          0.00017510804166170527,
          0.00024378530315921374,
          0.0002616848842960284,
          0.0002911538719097656,
          0.00032120258246876303,
          0.00032275451614256713,
          0.000539647933688062,
          0.0006642355645005945,
          0.0006644474123095528,
          0.0010264938051098862,
          0.0021380313007782433
         ],
         "xaxis": "x",
         "y": [
          76.28577779362944,
          76.79092508827578,
          77.56683706169777,
          77.73666828358473,
          77.73722151323182,
          78.79325715720097,
          79.01938849476738,
          79.3599616202562,
          79.67343616810601,
          79.68881944506603,
          81.32935627107818,
          81.99230494486294,
          81.99332267915071,
          83.381482927777,
          85.72324055131416
         ],
         "yaxis": "y"
        },
        {
         "customdata": [
          [
           416
          ],
          [
           384
          ],
          [
           288
          ]
         ],
         "hovertemplate": "<b>%{hovertext}</b><br><br>family=efficientnetv2<br>secs=%{x}<br>top1=%{y}<br>size=%{marker.size}<br>infer_img_size=%{customdata[0]}<extra></extra>",
         "hovertext": [
          "efficientnetv2_rw_m.agc_in1k",
          "efficientnetv2_rw_s.ra2_in1k",
          "efficientnetv2_rw_t.ra2_in1k"
         ],
         "legendgroup": "efficientnetv2",
         "marker": {
          "color": "#ab63fa",
          "size": [
           173056,
           147456,
           82944
          ],
          "sizemode": "area",
          "sizeref": 1128.96,
          "symbol": "circle"
         },
         "mode": "markers",
         "name": "efficientnetv2",
         "orientation": "v",
         "showlegend": true,
         "type": "scatter",
         "x": [
          0.0025433643623785545,
          0.0009177342975661686,
          0.00039287790926091805
         ],
         "xaxis": "x",
         "y": [
          84.81,
          83.806,
          82.35
         ],
         "yaxis": "y"
        },
        {
         "hovertemplate": "<b>OLS trendline</b><br>top1 = 3.00733 * log10(secs) + 92.715<br>R<sup>2</sup>=0.975096<br><br>family=efficientnetv2<br>secs=%{x}<br>top1=%{y} <b>(trend)</b><extra></extra>",
         "legendgroup": "efficientnetv2",
         "marker": {
          "color": "#ab63fa",
          "symbol": "circle"
         },
         "mode": "lines",
         "name": "efficientnetv2",
         "showlegend": false,
         "type": "scatter",
         "x": [
          0.00039287790926091805,
          0.0009177342975661686,
          0.0025433643623785545
         ],
         "xaxis": "x",
         "y": [
          82.4728392890557,
          83.5809195955925,
          84.91224111535149
         ],
         "yaxis": "y"
        },
        {
         "customdata": [
          [
           224
          ],
          [
           224
          ]
         ],
         "hovertemplate": "<b>%{hovertext}</b><br><br>family=ese<br>secs=%{x}<br>top1=%{y}<br>size=%{marker.size}<br>infer_img_size=%{customdata[0]}<extra></extra>",
         "hovertext": [
          "ese_vovnet19b_dw.ra_in1k",
          "ese_vovnet39b.ra_in1k"
         ],
         "legendgroup": "ese",
         "marker": {
          "color": "#FFA15A",
          "size": [
           50176,
           50176
          ],
          "sizemode": "area",
          "sizeref": 1128.96,
          "symbol": "circle"
         },
         "mode": "markers",
         "name": "ese",
         "orientation": "v",
         "showlegend": true,
         "type": "scatter",
         "x": [
          0.00016185944126120876,
          0.0003343318711886167
         ],
         "xaxis": "x",
         "y": [
          77.744,
          80.35
         ],
         "yaxis": "y"
        },
        {
         "hovertemplate": "<b>OLS trendline</b><br>top1 = 8.27197 * log10(secs) + 109.102<br>R<sup>2</sup>=1.000000<br><br>family=ese<br>secs=%{x}<br>top1=%{y} <b>(trend)</b><extra></extra>",
         "legendgroup": "ese",
         "marker": {
          "color": "#FFA15A",
          "symbol": "circle"
         },
         "mode": "lines",
         "name": "ese",
         "showlegend": false,
         "type": "scatter",
         "x": [
          0.00016185944126120876,
          0.0003343318711886167
         ],
         "xaxis": "x",
         "y": [
          77.74399999999983,
          80.34999999999985
         ],
         "yaxis": "y"
        },
        {
         "customdata": [
          [
           224
          ]
         ],
         "hovertemplate": "<b>%{hovertext}</b><br><br>family=fbnetc<br>secs=%{x}<br>top1=%{y}<br>size=%{marker.size}<br>infer_img_size=%{customdata[0]}<extra></extra>",
         "hovertext": [
          "fbnetc_100.rmsp_in1k"
         ],
         "legendgroup": "fbnetc",
         "marker": {
          "color": "#19d3f3",
          "size": [
           50176
          ],
          "sizemode": "area",
          "sizeref": 1128.96,
          "symbol": "circle"
         },
         "mode": "markers",
         "name": "fbnetc",
         "orientation": "v",
         "showlegend": true,
         "type": "scatter",
         "x": [
          0.00011070555974391591
         ],
         "xaxis": "x",
         "y": [
          75.13
         ],
         "yaxis": "y"
        },
        {
         "hovertemplate": "family=fbnetc<extra></extra>",
         "legendgroup": "fbnetc",
         "marker": {
          "color": "#19d3f3",
          "symbol": "circle"
         },
         "mode": "lines",
         "name": "fbnetc",
         "showlegend": false,
         "type": "scatter",
         "xaxis": "x",
         "yaxis": "y"
        },
        {
         "customdata": [
          [
           256
          ],
          [
           256
          ],
          [
           288
          ]
         ],
         "hovertemplate": "<b>%{hovertext}</b><br><br>family=fbnetv<br>secs=%{x}<br>top1=%{y}<br>size=%{marker.size}<br>infer_img_size=%{customdata[0]}<extra></extra>",
         "hovertext": [
          "fbnetv3_b.ra2_in1k",
          "fbnetv3_d.ra2_in1k",
          "fbnetv3_g.ra2_in1k"
         ],
         "legendgroup": "fbnetv",
         "marker": {
          "color": "#FF6692",
          "size": [
           65536,
           65536,
           82944
          ],
          "sizemode": "area",
          "sizeref": 1128.96,
          "symbol": "circle"
         },
         "mode": "markers",
         "name": "fbnetv",
         "orientation": "v",
         "showlegend": true,
         "type": "scatter",
         "x": [
          0.0001694039521942047,
          0.0002077991164381569,
          0.00039520068290678
         ],
         "xaxis": "x",
         "y": [
          79.146,
          79.682,
          82.04
         ],
         "yaxis": "y"
        },
        {
         "hovertemplate": "<b>OLS trendline</b><br>top1 = 8.00582 * log10(secs) + 109.261<br>R<sup>2</sup>=0.996616<br><br>family=fbnetv<br>secs=%{x}<br>top1=%{y} <b>(trend)</b><extra></extra>",
         "legendgroup": "fbnetv",
         "marker": {
          "color": "#FF6692",
          "symbol": "circle"
         },
         "mode": "lines",
         "name": "fbnetv",
         "showlegend": false,
         "type": "scatter",
         "x": [
          0.0001694039521942047,
          0.0002077991164381569,
          0.00039520068290678
         ],
         "xaxis": "x",
         "y": [
          79.07080872167012,
          79.78108670687375,
          82.01610457145634
         ],
         "yaxis": "y"
        },
        {
         "customdata": [
          [
           288
          ]
         ],
         "hovertemplate": "<b>%{hovertext}</b><br><br>family=gc<br>secs=%{x}<br>top1=%{y}<br>size=%{marker.size}<br>infer_img_size=%{customdata[0]}<extra></extra>",
         "hovertext": [
          "gc_efficientnetv2_rw_t.agc_in1k"
         ],
         "legendgroup": "gc",
         "marker": {
          "color": "#B6E880",
          "size": [
           82944
          ],
          "sizemode": "area",
          "sizeref": 1128.96,
          "symbol": "circle"
         },
         "mode": "markers",
         "name": "gc",
         "orientation": "v",
         "showlegend": true,
         "type": "scatter",
         "x": [
          0.0004326925157175556
         ],
         "xaxis": "x",
         "y": [
          82.456
         ],
         "yaxis": "y"
        },
        {
         "hovertemplate": "family=gc<extra></extra>",
         "legendgroup": "gc",
         "marker": {
          "color": "#B6E880",
          "symbol": "circle"
         },
         "mode": "lines",
         "name": "gc",
         "showlegend": false,
         "type": "scatter",
         "xaxis": "x",
         "yaxis": "y"
        },
        {
         "customdata": [
          [
           256
          ],
          [
           256
          ]
         ],
         "hovertemplate": "<b>%{hovertext}</b><br><br>family=gcresnet<br>secs=%{x}<br>top1=%{y}<br>size=%{marker.size}<br>infer_img_size=%{customdata[0]}<extra></extra>",
         "hovertext": [
          "gcresnet33ts.ra2_in1k",
          "gcresnet50t.ra2_in1k"
         ],
         "legendgroup": "gcresnet",
         "marker": {
          "color": "#FF97FF",
          "size": [
           65536,
           65536
          ],
          "sizemode": "area",
          "sizeref": 1128.96,
          "symbol": "circle"
         },
         "mode": "markers",
         "name": "gcresnet",
         "orientation": "v",
         "showlegend": true,
         "type": "scatter",
         "x": [
          0.0003210025551803393,
          0.0003977329223426469
         ],
         "xaxis": "x",
         "y": [
          80.6,
          81.456
         ],
         "yaxis": "y"
        },
        {
         "hovertemplate": "<b>OLS trendline</b><br>top1 = 9.19609 * log10(secs) + 112.726<br>R<sup>2</sup>=1.000000<br><br>family=gcresnet<br>secs=%{x}<br>top1=%{y} <b>(trend)</b><extra></extra>",
         "legendgroup": "gcresnet",
         "marker": {
          "color": "#FF97FF",
          "symbol": "circle"
         },
         "mode": "lines",
         "name": "gcresnet",
         "showlegend": false,
         "type": "scatter",
         "x": [
          0.0003210025551803393,
          0.0003977329223426469
         ],
         "xaxis": "x",
         "y": [
          80.60000000000062,
          81.45600000000061
         ],
         "yaxis": "y"
        },
        {
         "customdata": [
          [
           256
          ],
          [
           256
          ]
         ],
         "hovertemplate": "<b>%{hovertext}</b><br><br>family=gcresnext<br>secs=%{x}<br>top1=%{y}<br>size=%{marker.size}<br>infer_img_size=%{customdata[0]}<extra></extra>",
         "hovertext": [
          "gcresnext26ts.ch_in1k",
          "gcresnext50ts.ch_in1k"
         ],
         "legendgroup": "gcresnext",
         "marker": {
          "color": "#FECB52",
          "size": [
           65536,
           65536
          ],
          "sizemode": "area",
          "sizeref": 1128.96,
          "symbol": "circle"
         },
         "mode": "markers",
         "name": "gcresnext",
         "orientation": "v",
         "showlegend": true,
         "type": "scatter",
         "x": [
          0.00026570375625400213,
          0.00044175269800460307
         ],
         "xaxis": "x",
         "y": [
          78.414,
          81.23
         ],
         "yaxis": "y"
        },
        {
         "hovertemplate": "<b>OLS trendline</b><br>top1 = 12.7547 * log10(secs) + 124.02<br>R<sup>2</sup>=1.000000<br><br>family=gcresnext<br>secs=%{x}<br>top1=%{y} <b>(trend)</b><extra></extra>",
         "legendgroup": "gcresnext",
         "marker": {
          "color": "#FECB52",
          "symbol": "circle"
         },
         "mode": "lines",
         "name": "gcresnext",
         "showlegend": false,
         "type": "scatter",
         "x": [
          0.00026570375625400213,
          0.00044175269800460307
         ],
         "xaxis": "x",
         "y": [
          78.41400000000014,
          81.23000000000013
         ],
         "yaxis": "y"
        },
        {
         "customdata": [
          [
           256
          ],
          [
           224
          ],
          [
           224
          ]
         ],
         "hovertemplate": "<b>%{hovertext}</b><br><br>family=gernet<br>secs=%{x}<br>top1=%{y}<br>size=%{marker.size}<br>infer_img_size=%{customdata[0]}<extra></extra>",
         "hovertext": [
          "gernet_l.idstcv_in1k",
          "gernet_m.idstcv_in1k",
          "gernet_s.idstcv_in1k"
         ],
         "legendgroup": "gernet",
         "marker": {
          "color": "#636efa",
          "size": [
           65536,
           50176,
           50176
          ],
          "sizemode": "area",
          "sizeref": 1128.96,
          "symbol": "circle"
         },
         "mode": "markers",
         "name": "gernet",
         "orientation": "v",
         "showlegend": true,
         "type": "scatter",
         "x": [
          0.00023942461476579482,
          0.00015499070055796651,
          0.00007116632352637673
         ],
         "xaxis": "x",
         "y": [
          81.354,
          80.736,
          76.91
         ],
         "yaxis": "y"
        },
        {
         "hovertemplate": "<b>OLS trendline</b><br>top1 = 8.77447 * log10(secs) + 113.531<br>R<sup>2</sup>=0.946748<br><br>family=gernet<br>secs=%{x}<br>top1=%{y} <b>(trend)</b><extra></extra>",
         "legendgroup": "gernet",
         "marker": {
          "color": "#636efa",
          "symbol": "circle"
         },
         "mode": "lines",
         "name": "gernet",
         "showlegend": false,
         "type": "scatter",
         "x": [
          0.00007116632352637673,
          0.00015499070055796651,
          0.00023942461476579482
         ],
         "xaxis": "x",
         "y": [
          77.13691184227437,
          80.10295673602127,
          81.76013142170422
         ],
         "yaxis": "y"
        },
        {
         "customdata": [
          [
           224
          ]
         ],
         "hovertemplate": "<b>%{hovertext}</b><br><br>family=ghostnet<br>secs=%{x}<br>top1=%{y}<br>size=%{marker.size}<br>infer_img_size=%{customdata[0]}<extra></extra>",
         "hovertext": [
          "ghostnet_100.in1k"
         ],
         "legendgroup": "ghostnet",
         "marker": {
          "color": "#EF553B",
          "size": [
           50176
          ],
          "sizemode": "area",
          "sizeref": 1128.96,
          "symbol": "circle"
         },
         "mode": "markers",
         "name": "ghostnet",
         "orientation": "v",
         "showlegend": true,
         "type": "scatter",
         "x": [
          0.00009583344913208436
         ],
         "xaxis": "x",
         "y": [
          73.958
         ],
         "yaxis": "y"
        },
        {
         "hovertemplate": "family=ghostnet<extra></extra>",
         "legendgroup": "ghostnet",
         "marker": {
          "color": "#EF553B",
          "symbol": "circle"
         },
         "mode": "lines",
         "name": "ghostnet",
         "showlegend": false,
         "type": "scatter",
         "xaxis": "x",
         "yaxis": "y"
        },
        {
         "customdata": [
          [
           224
          ]
         ],
         "hovertemplate": "<b>%{hovertext}</b><br><br>family=gmixer<br>secs=%{x}<br>top1=%{y}<br>size=%{marker.size}<br>infer_img_size=%{customdata[0]}<extra></extra>",
         "hovertext": [
          "gmixer_24_224.ra3_in1k"
         ],
         "legendgroup": "gmixer",
         "marker": {
          "color": "#00cc96",
          "size": [
           50176
          ],
          "sizemode": "area",
          "sizeref": 1128.96,
          "symbol": "circle"
         },
         "mode": "markers",
         "name": "gmixer",
         "orientation": "v",
         "showlegend": true,
         "type": "scatter",
         "x": [
          0.00047372485113196555
         ],
         "xaxis": "x",
         "y": [
          78.026
         ],
         "yaxis": "y"
        },
        {
         "hovertemplate": "family=gmixer<extra></extra>",
         "legendgroup": "gmixer",
         "marker": {
          "color": "#00cc96",
          "symbol": "circle"
         },
         "mode": "lines",
         "name": "gmixer",
         "showlegend": false,
         "type": "scatter",
         "xaxis": "x",
         "yaxis": "y"
        },
        {
         "customdata": [
          [
           224
          ]
         ],
         "hovertemplate": "<b>%{hovertext}</b><br><br>family=gmlp<br>secs=%{x}<br>top1=%{y}<br>size=%{marker.size}<br>infer_img_size=%{customdata[0]}<extra></extra>",
         "hovertext": [
          "gmlp_s16_224.ra3_in1k"
         ],
         "legendgroup": "gmlp",
         "marker": {
          "color": "#ab63fa",
          "size": [
           50176
          ],
          "sizemode": "area",
          "sizeref": 1128.96,
          "symbol": "circle"
         },
         "mode": "markers",
         "name": "gmlp",
         "orientation": "v",
         "showlegend": true,
         "type": "scatter",
         "x": [
          0.0005522482024321011
         ],
         "xaxis": "x",
         "y": [
          79.644
         ],
         "yaxis": "y"
        },
        {
         "hovertemplate": "family=gmlp<extra></extra>",
         "legendgroup": "gmlp",
         "marker": {
          "color": "#ab63fa",
          "symbol": "circle"
         },
         "mode": "lines",
         "name": "gmlp",
         "showlegend": false,
         "type": "scatter",
         "xaxis": "x",
         "yaxis": "y"
        },
        {
         "customdata": [
          [
           256
          ]
         ],
         "hovertemplate": "<b>%{hovertext}</b><br><br>family=halo<br>secs=%{x}<br>top1=%{y}<br>size=%{marker.size}<br>infer_img_size=%{customdata[0]}<extra></extra>",
         "hovertext": [
          "halo2botnet50ts_256.a1h_in1k"
         ],
         "legendgroup": "halo",
         "marker": {
          "color": "#FFA15A",
          "size": [
           65536
          ],
          "sizemode": "area",
          "sizeref": 1128.96,
          "symbol": "circle"
         },
         "mode": "markers",
         "name": "halo",
         "orientation": "v",
         "showlegend": true,
         "type": "scatter",
         "x": [
          0.0006541334693930949
         ],
         "xaxis": "x",
         "y": [
          82.06
         ],
         "yaxis": "y"
        },
        {
         "hovertemplate": "family=halo<extra></extra>",
         "legendgroup": "halo",
         "marker": {
          "color": "#FFA15A",
          "symbol": "circle"
         },
         "mode": "lines",
         "name": "halo",
         "showlegend": false,
         "type": "scatter",
         "xaxis": "x",
         "yaxis": "y"
        },
        {
         "customdata": [
          [
           256
          ],
          [
           256
          ]
         ],
         "hovertemplate": "<b>%{hovertext}</b><br><br>family=halonet<br>secs=%{x}<br>top1=%{y}<br>size=%{marker.size}<br>infer_img_size=%{customdata[0]}<extra></extra>",
         "hovertext": [
          "halonet26t.a1h_in1k",
          "halonet50ts.a1h_in1k"
         ],
         "legendgroup": "halonet",
         "marker": {
          "color": "#19d3f3",
          "size": [
           65536,
           65536
          ],
          "sizemode": "area",
          "sizeref": 1128.96,
          "symbol": "circle"
         },
         "mode": "markers",
         "name": "halonet",
         "orientation": "v",
         "showlegend": true,
         "type": "scatter",
         "x": [
          0.00029592890603961306,
          0.0005474622387920794
         ],
         "xaxis": "x",
         "y": [
          79.106,
          81.662
         ],
         "yaxis": "y"
        },
        {
         "hovertemplate": "<b>OLS trendline</b><br>top1 = 9.56706 * log10(secs) + 112.866<br>R<sup>2</sup>=1.000000<br><br>family=halonet<br>secs=%{x}<br>top1=%{y} <b>(trend)</b><extra></extra>",
         "legendgroup": "halonet",
         "marker": {
          "color": "#19d3f3",
          "symbol": "circle"
         },
         "mode": "lines",
         "name": "halonet",
         "showlegend": false,
         "type": "scatter",
         "x": [
          0.00029592890603961306,
          0.0005474622387920794
         ],
         "xaxis": "x",
         "y": [
          79.10599999999987,
          81.66199999999992
         ],
         "yaxis": "y"
        },
        {
         "customdata": [
          [
           224
          ]
         ],
         "hovertemplate": "<b>%{hovertext}</b><br><br>family=haloregnetz<br>secs=%{x}<br>top1=%{y}<br>size=%{marker.size}<br>infer_img_size=%{customdata[0]}<extra></extra>",
         "hovertext": [
          "haloregnetz_b.ra3_in1k"
         ],
         "legendgroup": "haloregnetz",
         "marker": {
          "color": "#FF6692",
          "size": [
           50176
          ],
          "sizemode": "area",
          "sizeref": 1128.96,
          "symbol": "circle"
         },
         "mode": "markers",
         "name": "haloregnetz",
         "orientation": "v",
         "showlegend": true,
         "type": "scatter",
         "x": [
          0.000327780727804328
         ],
         "xaxis": "x",
         "y": [
          81.046
         ],
         "yaxis": "y"
        },
        {
         "hovertemplate": "family=haloregnetz<extra></extra>",
         "legendgroup": "haloregnetz",
         "marker": {
          "color": "#FF6692",
          "symbol": "circle"
         },
         "mode": "lines",
         "name": "haloregnetz",
         "showlegend": false,
         "type": "scatter",
         "xaxis": "x",
         "yaxis": "y"
        },
        {
         "customdata": [
          [
           224
          ],
          [
           224
          ],
          [
           224
          ],
          [
           224
          ],
          [
           224
          ],
          [
           224
          ]
         ],
         "hovertemplate": "<b>%{hovertext}</b><br><br>family=hardcorenas<br>secs=%{x}<br>top1=%{y}<br>size=%{marker.size}<br>infer_img_size=%{customdata[0]}<extra></extra>",
         "hovertext": [
          "hardcorenas_a.miil_green_in1k",
          "hardcorenas_b.miil_green_in1k",
          "hardcorenas_c.miil_green_in1k",
          "hardcorenas_d.miil_green_in1k",
          "hardcorenas_e.miil_green_in1k",
          "hardcorenas_f.miil_green_in1k"
         ],
         "legendgroup": "hardcorenas",
         "marker": {
          "color": "#B6E880",
          "size": [
           50176,
           50176,
           50176,
           50176,
           50176,
           50176
          ],
          "sizemode": "area",
          "sizeref": 1128.96,
          "symbol": "circle"
         },
         "mode": "markers",
         "name": "hardcorenas",
         "orientation": "v",
         "showlegend": true,
         "type": "scatter",
         "x": [
          0.00008037473918397136,
          0.00008843382806164546,
          0.00008852965522125775,
          0.00009477379390869872,
          0.0001080435156063456,
          0.00010648538594563283
         ],
         "xaxis": "x",
         "y": [
          75.938,
          76.548,
          77.066,
          77.434,
          77.79,
          78.096
         ],
         "yaxis": "y"
        },
        {
         "hovertemplate": "<b>OLS trendline</b><br>top1 = 15.1897 * log10(secs) + 138.318<br>R<sup>2</sup>=0.902450<br><br>family=hardcorenas<br>secs=%{x}<br>top1=%{y} <b>(trend)</b><extra></extra>",
         "legendgroup": "hardcorenas",
         "marker": {
          "color": "#B6E880",
          "symbol": "circle"
         },
         "mode": "lines",
         "name": "hardcorenas",
         "showlegend": false,
         "type": "scatter",
         "x": [
          0.00008037473918397136,
          0.00008843382806164546,
          0.00008852965522125775,
          0.00009477379390869872,
          0.00010648538594563283,
          0.0001080435156063456
         ],
         "xaxis": "x",
         "y": [
          76.11828915653754,
          76.74864542965261,
          76.75578988856196,
          77.205398183147,
          77.97402496436351,
          78.06985237774053
         ],
         "yaxis": "y"
        },
        {
         "customdata": [
          [
           224
          ],
          [
           224
          ],
          [
           224
          ],
          [
           224
          ],
          [
           224
          ],
          [
           224
          ],
          [
           224
          ],
          [
           224
          ],
          [
           224
          ],
          [
           224
          ],
          [
           224
          ],
          [
           224
          ]
         ],
         "hovertemplate": "<b>%{hovertext}</b><br><br>family=hrnet<br>secs=%{x}<br>top1=%{y}<br>size=%{marker.size}<br>infer_img_size=%{customdata[0]}<extra></extra>",
         "hovertext": [
          "hrnet_w18.ms_in1k",
          "hrnet_w18.ms_aug_in1k",
          "hrnet_w18_small.gluon_in1k",
          "hrnet_w18_small.ms_in1k",
          "hrnet_w18_small_v2.gluon_in1k",
          "hrnet_w18_small_v2.ms_in1k",
          "hrnet_w30.ms_in1k",
          "hrnet_w32.ms_in1k",
          "hrnet_w40.ms_in1k",
          "hrnet_w44.ms_in1k",
          "hrnet_w48.ms_in1k",
          "hrnet_w64.ms_in1k"
         ],
         "legendgroup": "hrnet",
         "marker": {
          "color": "#FF97FF",
          "size": [
           50176,
           50176,
           50176,
           50176,
           50176,
           50176,
           50176,
           50176,
           50176,
           50176,
           50176,
           50176
          ],
          "sizemode": "area",
          "sizeref": 1128.96,
          "symbol": "circle"
         },
         "mode": "markers",
         "name": "hrnet",
         "orientation": "v",
         "showlegend": true,
         "type": "scatter",
         "x": [
          0.0006980559142787337,
          0.0006980559142787337,
          0.00015091628824407392,
          0.00015091628824407392,
          0.0003654650176885069,
          0.0003654650176885069,
          0.0008187862312907347,
          0.0006477984569440756,
          0.0010197942055293241,
          0.001263360032342017,
          0.0011377729232799718,
          0.0013829345871940258
         ],
         "xaxis": "x",
         "y": [
          76.752,
          78.122,
          73.92,
          72.336,
          78.19,
          75.11,
          78.196,
          78.442,
          78.932,
          78.894,
          79.306,
          79.476
         ],
         "yaxis": "y"
        },
        {
         "hovertemplate": "<b>OLS trendline</b><br>top1 = 6.39231 * log10(secs) + 97.9735<br>R<sup>2</sup>=0.838225<br><br>family=hrnet<br>secs=%{x}<br>top1=%{y} <b>(trend)</b><extra></extra>",
         "legendgroup": "hrnet",
         "marker": {
          "color": "#FF97FF",
          "symbol": "circle"
         },
         "mode": "lines",
         "name": "hrnet",
         "showlegend": false,
         "type": "scatter",
         "x": [
          0.00015091628824407392,
          0.00015091628824407392,
          0.0003654650176885069,
          0.0003654650176885069,
          0.0006477984569440756,
          0.0006980559142787337,
          0.0006980559142787337,
          0.0008187862312907347,
          0.0010197942055293241,
          0.0011377729232799718,
          0.001263360032342017,
          0.0013829345871940258
         ],
         "xaxis": "x",
         "y": [
          73.5467927004177,
          73.5467927004177,
          76.00214117418487,
          76.00214117418487,
          77.59123184236348,
          77.79866424929027,
          77.79866424929027,
          78.24152556998148,
          78.85098130087539,
          79.15489126843977,
          79.44555946869211,
          79.69661430186233
         ],
         "yaxis": "y"
        },
        {
         "customdata": [
          [
           299
          ],
          [
           299
          ],
          [
           299
          ],
          [
           299
          ],
          [
           299
          ],
          [
           299
          ],
          [
           299
          ]
         ],
         "hovertemplate": "<b>%{hovertext}</b><br><br>family=inception<br>secs=%{x}<br>top1=%{y}<br>size=%{marker.size}<br>infer_img_size=%{customdata[0]}<extra></extra>",
         "hovertext": [
          "inception_resnet_v2.tf_in1k",
          "inception_resnet_v2.tf_ens_adv_in1k",
          "inception_v3.tv_in1k",
          "inception_v3.gluon_in1k",
          "inception_v3.tf_adv_in1k",
          "inception_v3.tf_in1k",
          "inception_v4.tf_in1k"
         ],
         "legendgroup": "inception",
         "marker": {
          "color": "#FECB52",
          "size": [
           89401,
           89401,
           89401,
           89401,
           89401,
           89401,
           89401
          ],
          "sizemode": "area",
          "sizeref": 1128.96,
          "symbol": "circle"
         },
         "mode": "markers",
         "name": "inception",
         "orientation": "v",
         "showlegend": true,
         "type": "scatter",
         "x": [
          0.0009418146885418825,
          0.0009418146885418825,
          0.00041716726738753174,
          0.00041716726738753174,
          0.00041716726738753174,
          0.00041716726738753174,
          0.0007798547910379088
         ],
         "xaxis": "x",
         "y": [
          80.458,
          79.978,
          77.434,
          78.802,
          77.592,
          77.856,
          80.156
         ],
         "yaxis": "y"
        },
        {
         "hovertemplate": "<b>OLS trendline</b><br>top1 = 6.82652 * log10(secs) + 101.013<br>R<sup>2</sup>=0.860760<br><br>family=inception<br>secs=%{x}<br>top1=%{y} <b>(trend)</b><extra></extra>",
         "legendgroup": "inception",
         "marker": {
          "color": "#FECB52",
          "symbol": "circle"
         },
         "mode": "lines",
         "name": "inception",
         "showlegend": false,
         "type": "scatter",
         "x": [
          0.00041716726738753174,
          0.00041716726738753174,
          0.00041716726738753174,
          0.00041716726738753174,
          0.0007798547910379088,
          0.0009418146885418825,
          0.0009418146885418825
         ],
         "xaxis": "x",
         "y": [
          77.94182016931937,
          77.94182016931937,
          77.94182016931937,
          77.94182016931937,
          79.79660974760151,
          80.35605478756045,
          80.35605478756045
         ],
         "yaxis": "y"
        },
        {
         "customdata": [
          [
           256
          ]
         ],
         "hovertemplate": "<b>%{hovertext}</b><br><br>family=lambda<br>secs=%{x}<br>top1=%{y}<br>size=%{marker.size}<br>infer_img_size=%{customdata[0]}<extra></extra>",
         "hovertext": [
          "lambda_resnet26rpt_256.c1_in1k"
         ],
         "legendgroup": "lambda",
         "marker": {
          "color": "#636efa",
          "size": [
           65536
          ],
          "sizemode": "area",
          "sizeref": 1128.96,
          "symbol": "circle"
         },
         "mode": "markers",
         "name": "lambda",
         "orientation": "v",
         "showlegend": true,
         "type": "scatter",
         "x": [
          0.0003885622807051628
         ],
         "xaxis": "x",
         "y": [
          78.964
         ],
         "yaxis": "y"
        },
        {
         "hovertemplate": "family=lambda<extra></extra>",
         "legendgroup": "lambda",
         "marker": {
          "color": "#636efa",
          "symbol": "circle"
         },
         "mode": "lines",
         "name": "lambda",
         "showlegend": false,
         "type": "scatter",
         "xaxis": "x",
         "yaxis": "y"
        },
        {
         "customdata": [
          [
           224
          ],
          [
           224
          ],
          [
           224
          ]
         ],
         "hovertemplate": "<b>%{hovertext}</b><br><br>family=lcnet<br>secs=%{x}<br>top1=%{y}<br>size=%{marker.size}<br>infer_img_size=%{customdata[0]}<extra></extra>",
         "hovertext": [
          "lcnet_050.ra2_in1k",
          "lcnet_075.ra2_in1k",
          "lcnet_100.ra2_in1k"
         ],
         "legendgroup": "lcnet",
         "marker": {
          "color": "#EF553B",
          "size": [
           50176,
           50176,
           50176
          ],
          "sizemode": "area",
          "sizeref": 1128.96,
          "symbol": "circle"
         },
         "mode": "markers",
         "name": "lcnet",
         "orientation": "v",
         "showlegend": true,
         "type": "scatter",
         "x": [
          0.00002407212200329162,
          0.00003703786010059483,
          0.00004390823705354653
         ],
         "xaxis": "x",
         "y": [
          63.138,
          68.782,
          72.102
         ],
         "yaxis": "y"
        },
        {
         "hovertemplate": "<b>OLS trendline</b><br>top1 = 33.5252 * log10(secs) + 217.835<br>R<sup>2</sup>=0.990656<br><br>family=lcnet<br>secs=%{x}<br>top1=%{y} <b>(trend)</b><extra></extra>",
         "legendgroup": "lcnet",
         "marker": {
          "color": "#EF553B",
          "symbol": "circle"
         },
         "mode": "lines",
         "name": "lcnet",
         "showlegend": false,
         "type": "scatter",
         "x": [
          0.00002407212200329162,
          0.00003703786010059483,
          0.00004390823705354653
         ],
         "xaxis": "x",
         "y": [
          62.999078309840826,
          69.27270228487305,
          71.75021940528558
         ],
         "yaxis": "y"
        },
        {
         "customdata": [
          [
           224
          ],
          [
           224
          ],
          [
           224
          ],
          [
           224
          ],
          [
           224
          ],
          [
           224
          ],
          [
           224
          ],
          [
           224
          ],
          [
           224
          ]
         ],
         "hovertemplate": "<b>%{hovertext}</b><br><br>family=legacy<br>secs=%{x}<br>top1=%{y}<br>size=%{marker.size}<br>infer_img_size=%{customdata[0]}<extra></extra>",
         "hovertext": [
          "legacy_senet154.in1k",
          "legacy_seresnet101.in1k",
          "legacy_seresnet152.in1k",
          "legacy_seresnet18.in1k",
          "legacy_seresnet34.in1k",
          "legacy_seresnet50.in1k",
          "legacy_seresnext101_32x4d.in1k",
          "legacy_seresnext26_32x4d.in1k",
          "legacy_seresnext50_32x4d.in1k"
         ],
         "legendgroup": "legacy",
         "marker": {
          "color": "#00cc96",
          "size": [
           50176,
           50176,
           50176,
           50176,
           50176,
           50176,
           50176,
           50176,
           50176
          ],
          "sizemode": "area",
          "sizeref": 1128.96,
          "symbol": "circle"
         },
         "mode": "markers",
         "name": "legacy",
         "orientation": "v",
         "showlegend": true,
         "type": "scatter",
         "x": [
          0.0014461315979754157,
          0.0005174563913626179,
          0.0007485085966212322,
          0.00010157182397602904,
          0.0001763553348370565,
          0.00031168280664133725,
          0.0006263858787567493,
          0.00023749471574257473,
          0.0003888463318181288
         ],
         "xaxis": "x",
         "y": [
          81.312,
          78.386,
          78.66,
          71.76,
          74.802,
          77.644,
          80.232,
          77.108,
          79.076
         ],
         "yaxis": "y"
        },
        {
         "hovertemplate": "<b>OLS trendline</b><br>top1 = 7.70739 * log10(secs) + 103.992<br>R<sup>2</sup>=0.869397<br><br>family=legacy<br>secs=%{x}<br>top1=%{y} <b>(trend)</b><extra></extra>",
         "legendgroup": "legacy",
         "marker": {
          "color": "#00cc96",
          "symbol": "circle"
         },
         "mode": "lines",
         "name": "legacy",
         "showlegend": false,
         "type": "scatter",
         "x": [
          0.00010157182397602904,
          0.0001763553348370565,
          0.00023749471574257473,
          0.00031168280664133725,
          0.0003888463318181288,
          0.0005174563913626179,
          0.0006263858787567493,
          0.0007485085966212322,
          0.0014461315979754157
         ],
         "xaxis": "x",
         "y": [
          73.21430955667323,
          75.06111900503758,
          76.05741773033742,
          76.9673439191589,
          77.70775577349703,
          78.66421036422494,
          79.30367883222661,
          79.89988286638963,
          82.10428195245503
         ],
         "yaxis": "y"
        },
        {
         "customdata": [
          [
           224
          ],
          [
           224
          ],
          [
           224
          ],
          [
           224
          ],
          [
           224
          ]
         ],
         "hovertemplate": "<b>%{hovertext}</b><br><br>family=levit<br>secs=%{x}<br>top1=%{y}<br>size=%{marker.size}<br>infer_img_size=%{customdata[0]}<extra></extra>",
         "hovertext": [
          "levit_128.fb_dist_in1k",
          "levit_128s.fb_dist_in1k",
          "levit_192.fb_dist_in1k",
          "levit_256.fb_dist_in1k",
          "levit_384.fb_dist_in1k"
         ],
         "legendgroup": "levit",
         "marker": {
          "color": "#ab63fa",
          "size": [
           50176,
           50176,
           50176,
           50176,
           50176
          ],
          "sizemode": "area",
          "sizeref": 1128.96,
          "symbol": "circle"
         },
         "mode": "markers",
         "name": "levit",
         "orientation": "v",
         "showlegend": true,
         "type": "scatter",
         "x": [
          0.00006822292249261998,
          0.00004654236751715086,
          0.00007756230968148262,
          0.00010599687945186893,
          0.00017720128293728847
         ],
         "xaxis": "x",
         "y": [
          78.49,
          76.526,
          79.838,
          81.524,
          82.596
         ],
         "yaxis": "y"
        },
        {
         "hovertemplate": "<b>OLS trendline</b><br>top1 = 10.7211 * log10(secs) + 123.397<br>R<sup>2</sup>=0.940450<br><br>family=levit<br>secs=%{x}<br>top1=%{y} <b>(trend)</b><extra></extra>",
         "legendgroup": "levit",
         "marker": {
          "color": "#ab63fa",
          "symbol": "circle"
         },
         "mode": "lines",
         "name": "levit",
         "showlegend": false,
         "type": "scatter",
         "x": [
          0.00004654236751715086,
          0.00006822292249261998,
          0.00007756230968148262,
          0.00010599687945186893,
          0.00017720128293728847
         ],
         "xaxis": "x",
         "y": [
          76.95168062867079,
          78.73225889138432,
          79.32964240073439,
          80.78387605941847,
          83.17654201979212
         ],
         "yaxis": "y"
        },
        {
         "customdata": [
          [
           224
          ],
          [
           224
          ],
          [
           224
          ]
         ],
         "hovertemplate": "<b>%{hovertext}</b><br><br>family=mixer<br>secs=%{x}<br>top1=%{y}<br>size=%{marker.size}<br>infer_img_size=%{customdata[0]}<extra></extra>",
         "hovertext": [
          "mixer_b16_224.goog_in21k_ft_in1k",
          "mixer_b16_224.miil_in21k_ft_in1k",
          "mixer_l16_224.goog_in21k_ft_in1k"
         ],
         "legendgroup": "mixer",
         "marker": {
          "color": "#FFA15A",
          "size": [
           50176,
           50176,
           50176
          ],
          "sizemode": "area",
          "sizeref": 1128.96,
          "symbol": "circle"
         },
         "mode": "markers",
         "name": "mixer",
         "orientation": "v",
         "showlegend": true,
         "type": "scatter",
         "x": [
          0.000659935326338019,
          0.000659935326338019,
          0.0020588416956620207
         ],
         "xaxis": "x",
         "y": [
          76.602,
          82.306,
          72.054
         ],
         "yaxis": "y"
        },
        {
         "hovertemplate": "<b>OLS trendline</b><br>top1 = -14.9761 * log10(secs) + 31.8226<br>R<sup>2</sup>=0.691749<br><br>family=mixer<br>secs=%{x}<br>top1=%{y} <b>(trend)</b><extra></extra>",
         "legendgroup": "mixer",
         "marker": {
          "color": "#FFA15A",
          "symbol": "circle"
         },
         "mode": "lines",
         "name": "mixer",
         "showlegend": false,
         "type": "scatter",
         "x": [
          0.000659935326338019,
          0.000659935326338019,
          0.0020588416956620207
         ],
         "xaxis": "x",
         "y": [
          79.45399999999994,
          79.45399999999994,
          72.05399999999996
         ],
         "yaxis": "y"
        },
        {
         "customdata": [
          [
           224
          ],
          [
           224
          ],
          [
           224
          ],
          [
           224
          ]
         ],
         "hovertemplate": "<b>%{hovertext}</b><br><br>family=mixnet<br>secs=%{x}<br>top1=%{y}<br>size=%{marker.size}<br>infer_img_size=%{customdata[0]}<extra></extra>",
         "hovertext": [
          "mixnet_l.ft_in1k",
          "mixnet_m.ft_in1k",
          "mixnet_s.ft_in1k",
          "mixnet_xl.ra_in1k"
         ],
         "legendgroup": "mixnet",
         "marker": {
          "color": "#19d3f3",
          "size": [
           50176,
           50176,
           50176,
           50176
          ],
          "sizemode": "area",
          "sizeref": 1128.96,
          "symbol": "circle"
         },
         "mode": "markers",
         "name": "mixnet",
         "orientation": "v",
         "showlegend": true,
         "type": "scatter",
         "x": [
          0.000894774516821761,
          0.0006983874234392787,
          0.0003509301403369631,
          0.0013361481521071057
         ],
         "xaxis": "x",
         "y": [
          78.966,
          77.26,
          75.994,
          80.482
         ],
         "yaxis": "y"
        },
        {
         "hovertemplate": "<b>OLS trendline</b><br>top1 = 7.78097 * log10(secs) + 102.555<br>R<sup>2</sup>=0.935007<br><br>family=mixnet<br>secs=%{x}<br>top1=%{y} <b>(trend)</b><extra></extra>",
         "legendgroup": "mixnet",
         "marker": {
          "color": "#19d3f3",
          "symbol": "circle"
         },
         "mode": "lines",
         "name": "mixnet",
         "showlegend": false,
         "type": "scatter",
         "x": [
          0.0003509301403369631,
          0.0006983874234392787,
          0.000894774516821761,
          0.0013361481521071057
         ],
         "xaxis": "x",
         "y": [
          75.67391415566853,
          77.99945628873333,
          78.83682209733989,
          80.19180745825798
         ],
         "yaxis": "y"
        },
        {
         "customdata": [
          [
           224
          ],
          [
           224
          ]
         ],
         "hovertemplate": "<b>%{hovertext}</b><br><br>family=mnasnet<br>secs=%{x}<br>top1=%{y}<br>size=%{marker.size}<br>infer_img_size=%{customdata[0]}<extra></extra>",
         "hovertext": [
          "mnasnet_100.rmsp_in1k",
          "mnasnet_small.lamb_in1k"
         ],
         "legendgroup": "mnasnet",
         "marker": {
          "color": "#FF6692",
          "size": [
           50176,
           50176
          ],
          "sizemode": "area",
          "sizeref": 1128.96,
          "symbol": "circle"
         },
         "mode": "markers",
         "name": "mnasnet",
         "orientation": "v",
         "showlegend": true,
         "type": "scatter",
         "x": [
          0.00009171552046723554,
          0.00004305011808647391
         ],
         "xaxis": "x",
         "y": [
          74.652,
          66.196
         ],
         "yaxis": "y"
        },
        {
         "hovertemplate": "<b>OLS trendline</b><br>top1 = 25.7437 * log10(secs) + 178.594<br>R<sup>2</sup>=1.000000<br><br>family=mnasnet<br>secs=%{x}<br>top1=%{y} <b>(trend)</b><extra></extra>",
         "legendgroup": "mnasnet",
         "marker": {
          "color": "#FF6692",
          "symbol": "circle"
         },
         "mode": "lines",
         "name": "mnasnet",
         "showlegend": false,
         "type": "scatter",
         "x": [
          0.00004305011808647391,
          0.00009171552046723554
         ],
         "xaxis": "x",
         "y": [
          66.19599999999996,
          74.65199999999994
         ],
         "yaxis": "y"
        },
        {
         "customdata": [
          [
           224
          ],
          [
           224
          ],
          [
           224
          ],
          [
           224
          ],
          [
           224
          ]
         ],
         "hovertemplate": "<b>%{hovertext}</b><br><br>family=mobilenetv2<br>secs=%{x}<br>top1=%{y}<br>size=%{marker.size}<br>infer_img_size=%{customdata[0]}<extra></extra>",
         "hovertext": [
          "mobilenetv2_050.lamb_in1k",
          "mobilenetv2_100.ra_in1k",
          "mobilenetv2_110d.ra_in1k",
          "mobilenetv2_120d.ra_in1k",
          "mobilenetv2_140.ra_in1k"
         ],
         "legendgroup": "mobilenetv2",
         "marker": {
          "color": "#B6E880",
          "size": [
           50176,
           50176,
           50176,
           50176,
           50176
          ],
          "sizemode": "area",
          "sizeref": 1128.96,
          "symbol": "circle"
         },
         "mode": "markers",
         "name": "mobilenetv2",
         "orientation": "v",
         "showlegend": true,
         "type": "scatter",
         "x": [
          0.00006091937077600313,
          0.00010798296460750353,
          0.00014230054444188303,
          0.00019376240079365078,
          0.0001606939407135775
         ],
         "xaxis": "x",
         "y": [
          65.948,
          72.968,
          75.054,
          77.308,
          76.516
         ],
         "yaxis": "y"
        },
        {
         "hovertemplate": "<b>OLS trendline</b><br>top1 = 23.1409 * log10(secs) + 163.972<br>R<sup>2</sup>=0.981562<br><br>family=mobilenetv2<br>secs=%{x}<br>top1=%{y} <b>(trend)</b><extra></extra>",
         "legendgroup": "mobilenetv2",
         "marker": {
          "color": "#B6E880",
          "symbol": "circle"
         },
         "mode": "lines",
         "name": "mobilenetv2",
         "showlegend": false,
         "type": "scatter",
         "x": [
          0.00006091937077600313,
          0.00010798296460750353,
          0.00014230054444188303,
          0.0001606939407135775,
          0.00019376240079365078
         ],
         "xaxis": "x",
         "y": [
          66.42766324158237,
          72.18048280794596,
          74.95394797636854,
          76.17562317054522,
          78.05628280355782
         ],
         "yaxis": "y"
        },
        {
         "customdata": [
          [
           224
          ],
          [
           224
          ],
          [
           224
          ],
          [
           224
          ],
          [
           224
          ],
          [
           224
          ]
         ],
         "hovertemplate": "<b>%{hovertext}</b><br><br>family=mobilenetv<br>secs=%{x}<br>top1=%{y}<br>size=%{marker.size}<br>infer_img_size=%{customdata[0]}<extra></extra>",
         "hovertext": [
          "mobilenetv3_large_100.ra_in1k",
          "mobilenetv3_large_100.miil_in21k_ft_in1k",
          "mobilenetv3_rw.rmsp_in1k",
          "mobilenetv3_small_050.lamb_in1k",
          "mobilenetv3_small_075.lamb_in1k",
          "mobilenetv3_small_100.lamb_in1k"
         ],
         "legendgroup": "mobilenetv",
         "marker": {
          "color": "#FF97FF",
          "size": [
           50176,
           50176,
           50176,
           50176,
           50176,
           50176
          ],
          "sizemode": "area",
          "sizeref": 1128.96,
          "symbol": "circle"
         },
         "mode": "markers",
         "name": "mobilenetv",
         "orientation": "v",
         "showlegend": true,
         "type": "scatter",
         "x": [
          0.00008160713833960485,
          0.00008160713833960485,
          0.00008037293039704228,
          0.000020503012712688002,
          0.000026452766073163588,
          0.000028703209104887556
         ],
         "xaxis": "x",
         "y": [
          75.766,
          77.92,
          75.62,
          57.916,
          65.236,
          67.658
         ],
         "yaxis": "y"
        },
        {
         "hovertemplate": "<b>OLS trendline</b><br>top1 = 26.2584 * log10(secs) + 184.152<br>R<sup>2</sup>=0.925495<br><br>family=mobilenetv<br>secs=%{x}<br>top1=%{y} <b>(trend)</b><extra></extra>",
         "legendgroup": "mobilenetv",
         "marker": {
          "color": "#FF97FF",
          "symbol": "circle"
         },
         "mode": "lines",
         "name": "mobilenetv",
         "showlegend": false,
         "type": "scatter",
         "x": [
          0.000020503012712688002,
          0.000026452766073163588,
          0.000028703209104887556,
          0.00008037293039704228,
          0.00008160713833960485,
          0.00008160713833960485
         ],
         "xaxis": "x",
         "y": [
          61.048239044987255,
          63.95382145498445,
          64.88492789253255,
          76.62714571512399,
          76.80093294618621,
          76.80093294618621
         ],
         "yaxis": "y"
        },
        {
         "customdata": [
          [
           256
          ],
          [
           256
          ],
          [
           256
          ]
         ],
         "hovertemplate": "<b>%{hovertext}</b><br><br>family=mobilevit<br>secs=%{x}<br>top1=%{y}<br>size=%{marker.size}<br>infer_img_size=%{customdata[0]}<extra></extra>",
         "hovertext": [
          "mobilevit_s.cvnets_in1k",
          "mobilevit_xs.cvnets_in1k",
          "mobilevit_xxs.cvnets_in1k"
         ],
         "legendgroup": "mobilevit",
         "marker": {
          "color": "#FECB52",
          "size": [
           65536,
           65536,
           65536
          ],
          "sizemode": "area",
          "sizeref": 1128.96,
          "symbol": "circle"
         },
         "mode": "markers",
         "name": "mobilevit",
         "orientation": "v",
         "showlegend": true,
         "type": "scatter",
         "x": [
          0.0004140683875348853,
          0.00032276493352656195,
          0.00019510063290645313
         ],
         "xaxis": "x",
         "y": [
          78.312,
          74.634,
          68.918
         ],
         "yaxis": "y"
        },
        {
         "hovertemplate": "<b>OLS trendline</b><br>top1 = 28.3668 * log10(secs) + 174.031<br>R<sup>2</sup>=0.995372<br><br>family=mobilevit<br>secs=%{x}<br>top1=%{y} <b>(trend)</b><extra></extra>",
         "legendgroup": "mobilevit",
         "marker": {
          "color": "#FECB52",
          "symbol": "circle"
         },
         "mode": "lines",
         "name": "mobilevit",
         "showlegend": false,
         "type": "scatter",
         "x": [
          0.00019510063290645313,
          0.00032276493352656195,
          0.0004140683875348853
         ],
         "xaxis": "x",
         "y": [
          68.79718545877218,
          74.99896320365941,
          78.06785133756858
         ],
         "yaxis": "y"
        },
        {
         "customdata": [
          [
           331
          ]
         ],
         "hovertemplate": "<b>%{hovertext}</b><br><br>family=nasnetalarge<br>secs=%{x}<br>top1=%{y}<br>size=%{marker.size}<br>infer_img_size=%{customdata[0]}<extra></extra>",
         "hovertext": [
          "nasnetalarge.tf_in1k"
         ],
         "legendgroup": "nasnetalarge",
         "marker": {
          "color": "#636efa",
          "size": [
           109561
          ],
          "sizemode": "area",
          "sizeref": 1128.96,
          "symbol": "circle"
         },
         "mode": "markers",
         "name": "nasnetalarge",
         "orientation": "v",
         "showlegend": true,
         "type": "scatter",
         "x": [
          0.003427004797806717
         ],
         "xaxis": "x",
         "y": [
          82.626
         ],
         "yaxis": "y"
        },
        {
         "hovertemplate": "family=nasnetalarge<extra></extra>",
         "legendgroup": "nasnetalarge",
         "marker": {
          "color": "#636efa",
          "symbol": "circle"
         },
         "mode": "lines",
         "name": "nasnetalarge",
         "showlegend": false,
         "type": "scatter",
         "xaxis": "x",
         "yaxis": "y"
        },
        {
         "customdata": [
          [
           288
          ],
          [
           288
          ]
         ],
         "hovertemplate": "<b>%{hovertext}</b><br><br>family=nf<br>secs=%{x}<br>top1=%{y}<br>size=%{marker.size}<br>infer_img_size=%{customdata[0]}<extra></extra>",
         "hovertext": [
          "nf_regnet_b1.ra2_in1k",
          "nf_resnet50.ra2_in1k"
         ],
         "legendgroup": "nf",
         "marker": {
          "color": "#EF553B",
          "size": [
           82944,
           82944
          ],
          "sizemode": "area",
          "sizeref": 1128.96,
          "symbol": "circle"
         },
         "mode": "markers",
         "name": "nf",
         "orientation": "v",
         "showlegend": true,
         "type": "scatter",
         "x": [
          0.00029780340210606564,
          0.0005816422086117946
         ],
         "xaxis": "x",
         "y": [
          79.308,
          80.64
         ],
         "yaxis": "y"
        },
        {
         "hovertemplate": "<b>OLS trendline</b><br>top1 = 4.58163 * log10(secs) + 95.4631<br>R<sup>2</sup>=1.000000<br><br>family=nf<br>secs=%{x}<br>top1=%{y} <b>(trend)</b><extra></extra>",
         "legendgroup": "nf",
         "marker": {
          "color": "#EF553B",
          "symbol": "circle"
         },
         "mode": "lines",
         "name": "nf",
         "showlegend": false,
         "type": "scatter",
         "x": [
          0.00029780340210606564,
          0.0005816422086117946
         ],
         "xaxis": "x",
         "y": [
          79.30800000000012,
          80.64000000000011
         ],
         "yaxis": "y"
        },
        {
         "customdata": [
          [
           288
          ]
         ],
         "hovertemplate": "<b>%{hovertext}</b><br><br>family=nfnet<br>secs=%{x}<br>top1=%{y}<br>size=%{marker.size}<br>infer_img_size=%{customdata[0]}<extra></extra>",
         "hovertext": [
          "nfnet_l0.ra2_in1k"
         ],
         "legendgroup": "nfnet",
         "marker": {
          "color": "#00cc96",
          "size": [
           82944
          ],
          "sizemode": "area",
          "sizeref": 1128.96,
          "symbol": "circle"
         },
         "mode": "markers",
         "name": "nfnet",
         "orientation": "v",
         "showlegend": true,
         "type": "scatter",
         "x": [
          0.000907786996859057
         ],
         "xaxis": "x",
         "y": [
          82.75
         ],
         "yaxis": "y"
        },
        {
         "hovertemplate": "family=nfnet<extra></extra>",
         "legendgroup": "nfnet",
         "marker": {
          "color": "#00cc96",
          "symbol": "circle"
         },
         "mode": "lines",
         "name": "nfnet",
         "showlegend": false,
         "type": "scatter",
         "xaxis": "x",
         "yaxis": "y"
        },
        {
         "customdata": [
          [
           224
          ],
          [
           224
          ],
          [
           224
          ],
          [
           224
          ],
          [
           224
          ],
          [
           224
          ],
          [
           224
          ],
          [
           224
          ]
         ],
         "hovertemplate": "<b>%{hovertext}</b><br><br>family=pit<br>secs=%{x}<br>top1=%{y}<br>size=%{marker.size}<br>infer_img_size=%{customdata[0]}<extra></extra>",
         "hovertext": [
          "pit_b_224.in1k",
          "pit_b_distilled_224.in1k",
          "pit_s_224.in1k",
          "pit_s_distilled_224.in1k",
          "pit_ti_224.in1k",
          "pit_ti_distilled_224.in1k",
          "pit_xs_224.in1k",
          "pit_xs_distilled_224.in1k"
         ],
         "legendgroup": "pit",
         "marker": {
          "color": "#ab63fa",
          "size": [
           50176,
           50176,
           50176,
           50176,
           50176,
           50176,
           50176,
           50176
          ],
          "sizemode": "area",
          "sizeref": 1128.96,
          "symbol": "circle"
         },
         "mode": "markers",
         "name": "pit",
         "orientation": "v",
         "showlegend": true,
         "type": "scatter",
         "x": [
          0.0010567473317129874,
          0.0010613908465653393,
          0.00035447542953560173,
          0.0003568560977785708,
          0.0001722018067413563,
          0.00017129946057799865,
          0.00021821054262415637,
          0.0002202735356766032
         ],
         "xaxis": "x",
         "y": [
          82.438,
          83.766,
          81.086,
          81.814,
          72.91,
          74.256,
          78.176,
          79.18
         ],
         "yaxis": "y"
        },
        {
         "hovertemplate": "<b>OLS trendline</b><br>top1 = 10.153 * log10(secs) + 114.353<br>R<sup>2</sup>=0.710493<br><br>family=pit<br>secs=%{x}<br>top1=%{y} <b>(trend)</b><extra></extra>",
         "legendgroup": "pit",
         "marker": {
          "color": "#ab63fa",
          "symbol": "circle"
         },
         "mode": "lines",
         "name": "pit",
         "showlegend": false,
         "type": "scatter",
         "x": [
          0.00017129946057799865,
          0.0001722018067413563,
          0.00021821054262415637,
          0.0002202735356766032,
          0.00035447542953560173,
          0.0003568560977785708,
          0.0010567473317129874,
          0.0010613908465653393
         ],
         "xaxis": "x",
         "y": [
          76.1148332973842,
          76.13799939935853,
          77.18211011982484,
          77.22360115532773,
          79.32144520540888,
          79.35095971522799,
          84.13785902862914,
          84.1571920788385
         ],
         "yaxis": "y"
        },
        {
         "customdata": [
          [
           331
          ]
         ],
         "hovertemplate": "<b>%{hovertext}</b><br><br>family=pnasnet<br>secs=%{x}<br>top1=%{y}<br>size=%{marker.size}<br>infer_img_size=%{customdata[0]}<extra></extra>",
         "hovertext": [
          "pnasnet5large.tf_in1k"
         ],
         "legendgroup": "pnasnet",
         "marker": {
          "color": "#FFA15A",
          "size": [
           109561
          ],
          "sizemode": "area",
          "sizeref": 1128.96,
          "symbol": "circle"
         },
         "mode": "markers",
         "name": "pnasnet",
         "orientation": "v",
         "showlegend": true,
         "type": "scatter",
         "x": [
          0.003340571237681643
         ],
         "xaxis": "x",
         "y": [
          82.782
         ],
         "yaxis": "y"
        },
        {
         "hovertemplate": "family=pnasnet<extra></extra>",
         "legendgroup": "pnasnet",
         "marker": {
          "color": "#FFA15A",
          "symbol": "circle"
         },
         "mode": "lines",
         "name": "pnasnet",
         "showlegend": false,
         "type": "scatter",
         "xaxis": "x",
         "yaxis": "y"
        },
        {
         "customdata": [
          [
           224
          ],
          [
           224
          ],
          [
           224
          ],
          [
           224
          ],
          [
           224
          ]
         ],
         "hovertemplate": "<b>%{hovertext}</b><br><br>family=poolformer<br>secs=%{x}<br>top1=%{y}<br>size=%{marker.size}<br>infer_img_size=%{customdata[0]}<extra></extra>",
         "hovertext": [
          "poolformer_m36.sail_in1k",
          "poolformer_m48.sail_in1k",
          "poolformer_s12.sail_in1k",
          "poolformer_s24.sail_in1k",
          "poolformer_s36.sail_in1k"
         ],
         "legendgroup": "poolformer",
         "marker": {
          "color": "#19d3f3",
          "size": [
           50176,
           50176,
           50176,
           50176,
           50176
          ],
          "sizemode": "area",
          "sizeref": 1128.96,
          "symbol": "circle"
         },
         "mode": "markers",
         "name": "poolformer",
         "orientation": "v",
         "showlegend": true,
         "type": "scatter",
         "x": [
          0.0011622095928779798,
          0.0015420200462606013,
          0.0002812868309944333,
          0.0005424346637447519,
          0.0008031999485952034
         ],
         "xaxis": "x",
         "y": [
          82.102,
          82.482,
          77.24,
          80.294,
          81.43
         ],
         "yaxis": "y"
        },
        {
         "hovertemplate": "<b>OLS trendline</b><br>top1 = 7.07473 * log10(secs) + 102.865<br>R<sup>2</sup>=0.944361<br><br>family=poolformer<br>secs=%{x}<br>top1=%{y} <b>(trend)</b><extra></extra>",
         "legendgroup": "poolformer",
         "marker": {
          "color": "#19d3f3",
          "symbol": "circle"
         },
         "mode": "lines",
         "name": "poolformer",
         "showlegend": false,
         "type": "scatter",
         "x": [
          0.0002812868309944333,
          0.0005424346637447519,
          0.0008031999485952034,
          0.0011622095928779798,
          0.0015420200462606013
         ],
         "xaxis": "x",
         "y": [
          77.74394507778308,
          79.76164533272724,
          80.96771937711395,
          82.10293675252277,
          82.9717534598532
         ],
         "yaxis": "y"
        },
        {
         "customdata": [
          [
           288
          ],
          [
           288
          ]
         ],
         "hovertemplate": "<b>%{hovertext}</b><br><br>family=regnetv<br>secs=%{x}<br>top1=%{y}<br>size=%{marker.size}<br>infer_img_size=%{customdata[0]}<extra></extra>",
         "hovertext": [
          "regnetv_040.ra3_in1k",
          "regnetv_064.ra3_in1k"
         ],
         "legendgroup": "regnetv",
         "marker": {
          "color": "#FF6692",
          "size": [
           82944,
           82944
          ],
          "sizemode": "area",
          "sizeref": 1128.96,
          "symbol": "circle"
         },
         "mode": "markers",
         "name": "regnetv",
         "orientation": "v",
         "showlegend": true,
         "type": "scatter",
         "x": [
          0.0011776343680813981,
          0.0021355201059217975
         ],
         "xaxis": "x",
         "y": [
          83.19,
          83.716
         ],
         "yaxis": "y"
        },
        {
         "hovertemplate": "<b>OLS trendline</b><br>top1 = 2.03487 * log10(secs) + 89.1501<br>R<sup>2</sup>=1.000000<br><br>family=regnetv<br>secs=%{x}<br>top1=%{y} <b>(trend)</b><extra></extra>",
         "legendgroup": "regnetv",
         "marker": {
          "color": "#FF6692",
          "symbol": "circle"
         },
         "mode": "lines",
         "name": "regnetv",
         "showlegend": false,
         "type": "scatter",
         "x": [
          0.0011776343680813981,
          0.0021355201059217975
         ],
         "xaxis": "x",
         "y": [
          83.18999999999996,
          83.71599999999995
         ],
         "yaxis": "y"
        },
        {
         "customdata": [
          [
           224
          ],
          [
           224
          ],
          [
           224
          ],
          [
           224
          ],
          [
           224
          ],
          [
           224
          ],
          [
           224
          ],
          [
           224
          ],
          [
           224
          ],
          [
           224
          ],
          [
           224
          ],
          [
           224
          ],
          [
           224
          ],
          [
           224
          ],
          [
           224
          ],
          [
           224
          ],
          [
           224
          ],
          [
           224
          ]
         ],
         "hovertemplate": "<b>%{hovertext}</b><br><br>family=regnetx<br>secs=%{x}<br>top1=%{y}<br>size=%{marker.size}<br>infer_img_size=%{customdata[0]}<extra></extra>",
         "hovertext": [
          "regnetx_002.pycls_in1k",
          "regnetx_004.pycls_in1k",
          "regnetx_006.pycls_in1k",
          "regnetx_008.tv2_in1k",
          "regnetx_008.pycls_in1k",
          "regnetx_016.tv2_in1k",
          "regnetx_016.pycls_in1k",
          "regnetx_032.tv2_in1k",
          "regnetx_032.pycls_in1k",
          "regnetx_040.pycls_in1k",
          "regnetx_064.pycls_in1k",
          "regnetx_080.pycls_in1k",
          "regnetx_080.tv2_in1k",
          "regnetx_120.pycls_in1k",
          "regnetx_160.tv2_in1k",
          "regnetx_160.pycls_in1k",
          "regnetx_320.pycls_in1k",
          "regnetx_320.tv2_in1k"
         ],
         "legendgroup": "regnetx",
         "marker": {
          "color": "#B6E880",
          "size": [
           50176,
           50176,
           50176,
           50176,
           50176,
           50176,
           50176,
           50176,
           50176,
           50176,
           50176,
           50176,
           50176,
           50176,
           50176,
           50176,
           50176,
           50176
          ],
          "sizemode": "area",
          "sizeref": 1128.96,
          "symbol": "circle"
         },
         "mode": "markers",
         "name": "regnetx",
         "orientation": "v",
         "showlegend": true,
         "type": "scatter",
         "x": [
          0.00005611048828469115,
          0.00006925193368711838,
          0.0001259786970023369,
          0.00011822399190402103,
          0.00011822399190402103,
          0.00026479614668647344,
          0.00026479614668647344,
          0.0006228278877415016,
          0.0006228278877415016,
          0.0006304057291272663,
          0.0008572212316554657,
          0.0007938902208602596,
          0.0007938902208602596,
          0.0012854296548621376,
          0.001604157977477622,
          0.001604157977477622,
          0.0038134462113411888,
          0.0038134462113411888
         ],
         "xaxis": "x",
         "y": [
          68.752,
          72.402,
          73.868,
          77.306,
          75.028,
          79.436,
          76.924,
          80.926,
          78.168,
          78.492,
          79.066,
          79.198,
          81.54,
          79.588,
          82.566,
          79.866,
          80.246,
          82.81
         ],
         "yaxis": "y"
        },
        {
         "hovertemplate": "<b>OLS trendline</b><br>top1 = 5.6134 * log10(secs) + 96.6816<br>R<sup>2</sup>=0.746680<br><br>family=regnetx<br>secs=%{x}<br>top1=%{y} <b>(trend)</b><extra></extra>",
         "legendgroup": "regnetx",
         "marker": {
          "color": "#B6E880",
          "symbol": "circle"
         },
         "mode": "lines",
         "name": "regnetx",
         "showlegend": false,
         "type": "scatter",
         "x": [
          0.00005611048828469115,
          0.00006925193368711838,
          0.00011822399190402103,
          0.00011822399190402103,
          0.0001259786970023369,
          0.00026479614668647344,
          0.00026479614668647344,
          0.0006228278877415016,
          0.0006228278877415016,
          0.0006304057291272663,
          0.0007938902208602596,
          0.0007938902208602596,
          0.0008572212316554657,
          0.0012854296548621376,
          0.001604157977477622,
          0.001604157977477622,
          0.0038134462113411888,
          0.0038134462113411888
         ],
         "xaxis": "x",
         "y": [
          72.81925169231478,
          73.33224839493762,
          74.63609394413582,
          74.63609394413582,
          74.79097606197256,
          76.60194095584734,
          76.60194095584734,
          78.6870746955967,
          78.6870746955967,
          78.71655684599878,
          79.27868453111466,
          79.27868453111466,
          79.46579303991231,
          80.45350126867802,
          80.99350384267572,
          80.99350384267572,
          83.10453837872276,
          83.10453837872276
         ],
         "yaxis": "y"
        },
        {
         "customdata": [
          [
           224
          ],
          [
           224
          ],
          [
           224
          ],
          [
           224
          ],
          [
           224
          ],
          [
           224
          ],
          [
           224
          ],
          [
           288
          ],
          [
           288
          ],
          [
           288
          ],
          [
           288
          ],
          [
           288
          ],
          [
           288
          ],
          [
           288
          ],
          [
           288
          ],
          [
           288
          ],
          [
           224
          ],
          [
           224
          ],
          [
           288
          ],
          [
           288
          ],
          [
           288
          ],
          [
           288
          ],
          [
           288
          ],
          [
           288
          ],
          [
           288
          ],
          [
           224
          ],
          [
           224
          ],
          [
           224
          ],
          [
           224
          ],
          [
           224
          ]
         ],
         "hovertemplate": "<b>%{hovertext}</b><br><br>family=regnety<br>secs=%{x}<br>top1=%{y}<br>size=%{marker.size}<br>infer_img_size=%{customdata[0]}<extra></extra>",
         "hovertext": [
          "regnety_002.pycls_in1k",
          "regnety_004.pycls_in1k",
          "regnety_004.tv2_in1k",
          "regnety_006.pycls_in1k",
          "regnety_008.pycls_in1k",
          "regnety_016.tv2_in1k",
          "regnety_016.pycls_in1k",
          "regnety_032.ra_in1k",
          "regnety_032.pycls_in1k",
          "regnety_032.tv2_in1k",
          "regnety_040.ra3_in1k",
          "regnety_040.pycls_in1k",
          "regnety_064.pycls_in1k",
          "regnety_064.ra3_in1k",
          "regnety_080.pycls_in1k",
          "regnety_080.ra3_in1k",
          "regnety_120.sw_in12k_ft_in1k",
          "regnety_120.pycls_in1k",
          "regnety_160.deit_in1k",
          "regnety_160.lion_in12k_ft_in1k",
          "regnety_160.sw_in12k_ft_in1k",
          "regnety_160.pycls_in1k",
          "regnety_160.swag_ft_in1k",
          "regnety_160.swag_lc_in1k",
          "regnety_160.tv2_in1k",
          "regnety_320.swag_lc_in1k",
          "regnety_320.tv2_in1k",
          "regnety_320.seer_ft_in1k",
          "regnety_320.swag_ft_in1k",
          "regnety_320.pycls_in1k"
         ],
         "legendgroup": "regnety",
         "marker": {
          "color": "#FF97FF",
          "size": [
           50176,
           50176,
           50176,
           50176,
           50176,
           50176,
           50176,
           82944,
           82944,
           82944,
           82944,
           82944,
           82944,
           82944,
           82944,
           82944,
           50176,
           50176,
           82944,
           82944,
           82944,
           82944,
           82944,
           82944,
           82944,
           50176,
           50176,
           50176,
           50176,
           50176
          ],
          "sizemode": "area",
          "sizeref": 1128.96,
          "symbol": "circle"
         },
         "mode": "markers",
         "name": "regnety",
         "orientation": "v",
         "showlegend": true,
         "type": "scatter",
         "x": [
          0.000059976920880845045,
          0.00010468376082691796,
          0.00010468376082691796,
          0.00010017450398594352,
          0.00012704688411164372,
          0.00029335406368716726,
          0.00029335406368716726,
          0.0007311277645768598,
          0.0007311277645768598,
          0.0007311277645768598,
          0.0011773986554107355,
          0.0011773986554107355,
          0.0021192726656211586,
          0.0021192726656211586,
          0.0018643499011894553,
          0.0018643499011894553,
          0.0013256445946841651,
          0.0013256445946841651,
          0.0024128362890577875,
          0.0024128362890577875,
          0.0024128362890577875,
          0.0024128362890577875,
          0.0024128362890577875,
          0.0024128362890577875,
          0.0024128362890577875,
          0.002407666008571291,
          0.002407666008571291,
          0.002407666008571291,
          0.002407666008571291,
          0.002407666008571291
         ],
         "xaxis": "x",
         "y": [
          70.28,
          74.026,
          75.594,
          75.268,
          76.302,
          80.666,
          77.868,
          82.726,
          78.876,
          81.756,
          83.044,
          79.22,
          79.716,
          83.72,
          79.868,
          83.926,
          85.4,
          80.38,
          83.69,
          85.988,
          85.986,
          80.298,
          86.02,
          83.782,
          82.646,
          84.548,
          83.162,
          83.328,
          86.834,
          80.81
         ],
         "yaxis": "y"
        },
        {
         "hovertemplate": "<b>OLS trendline</b><br>top1 = 6.49785 * log10(secs) + 100.768<br>R<sup>2</sup>=0.732244<br><br>family=regnety<br>secs=%{x}<br>top1=%{y} <b>(trend)</b><extra></extra>",
         "legendgroup": "regnety",
         "marker": {
          "color": "#FF97FF",
          "symbol": "circle"
         },
         "mode": "lines",
         "name": "regnety",
         "showlegend": false,
         "type": "scatter",
         "x": [
          0.000059976920880845045,
          0.00010017450398594352,
          0.00010468376082691796,
          0.00010468376082691796,
          0.00012704688411164372,
          0.00029335406368716726,
          0.00029335406368716726,
          0.0007311277645768598,
          0.0007311277645768598,
          0.0007311277645768598,
          0.0011773986554107355,
          0.0011773986554107355,
          0.0013256445946841651,
          0.0013256445946841651,
          0.0018643499011894553,
          0.0018643499011894553,
          0.0021192726656211586,
          0.0021192726656211586,
          0.002407666008571291,
          0.002407666008571291,
          0.002407666008571291,
          0.002407666008571291,
          0.002407666008571291,
          0.0024128362890577875,
          0.0024128362890577875,
          0.0024128362890577875,
          0.0024128362890577875,
          0.0024128362890577875,
          0.0024128362890577875,
          0.0024128362890577875
         ],
         "xaxis": "x",
         "y": [
          73.33384274013036,
          74.78138789607083,
          74.90564048431541,
          74.90564048431541,
          75.45201003388688,
          77.81351026020515,
          77.81351026020515,
          80.3905640774421,
          80.3905640774421,
          80.3905640774421,
          81.73516529632687,
          81.73516529632687,
          82.06982762697214,
          82.06982762697214,
          83.03216087917208,
          83.03216087917208,
          83.3938272414037,
          83.3938272414037,
          83.75386909127799,
          83.75386909127799,
          83.75386909127799,
          83.75386909127799,
          83.75386909127799,
          83.75992258062914,
          83.75992258062914,
          83.75992258062914,
          83.75992258062914,
          83.75992258062914,
          83.75992258062914,
          83.75992258062914
         ],
         "yaxis": "y"
        },
        {
         "customdata": [
          [
           320
          ],
          [
           288
          ],
          [
           320
          ],
          [
           320
          ],
          [
           320
          ],
          [
           320
          ],
          [
           320
          ],
          [
           320
          ]
         ],
         "hovertemplate": "<b>%{hovertext}</b><br><br>family=regnetz<br>secs=%{x}<br>top1=%{y}<br>size=%{marker.size}<br>infer_img_size=%{customdata[0]}<extra></extra>",
         "hovertext": [
          "regnetz_040.ra3_in1k",
          "regnetz_b16.ra3_in1k",
          "regnetz_c16.ra3_in1k",
          "regnetz_c16_evos.ch_in1k",
          "regnetz_d32.ra3_in1k",
          "regnetz_d8.ra3_in1k",
          "regnetz_d8_evos.ch_in1k",
          "regnetz_e8.ra3_in1k"
         ],
         "legendgroup": "regnetz",
         "marker": {
          "color": "#FECB52",
          "size": [
           102400,
           82944,
           102400,
           102400,
           102400,
           102400,
           102400,
           102400
          ],
          "sizemode": "area",
          "sizeref": 1128.96,
          "symbol": "circle"
         },
         "mode": "markers",
         "name": "regnetz",
         "orientation": "v",
         "showlegend": true,
         "type": "scatter",
         "x": [
          0.000961917679085024,
          0.00036824952587873543,
          0.0005641494319015222,
          0.00167117884956048,
          0.0009901872444079175,
          0.0008748829844008363,
          0.002579646588417387,
          0.0016463344363774057
         ],
         "xaxis": "x",
         "y": [
          84.24,
          80.728,
          82.632,
          82.636,
          84.022,
          84.052,
          84.126,
          85.034
         ],
         "yaxis": "y"
        },
        {
         "hovertemplate": "<b>OLS trendline</b><br>top1 = 3.42136 * log10(secs) + 93.6596<br>R<sup>2</sup>=0.466399<br><br>family=regnetz<br>secs=%{x}<br>top1=%{y} <b>(trend)</b><extra></extra>",
         "legendgroup": "regnetz",
         "marker": {
          "color": "#FECB52",
          "symbol": "circle"
         },
         "mode": "lines",
         "name": "regnetz",
         "showlegend": false,
         "type": "scatter",
         "x": [
          0.00036824952587873543,
          0.0005641494319015222,
          0.0008748829844008363,
          0.000961917679085024,
          0.0009901872444079175,
          0.0016463344363774057,
          0.00167117884956048,
          0.002579646588417387
         ],
         "xaxis": "x",
         "y": [
          81.91111553154533,
          82.54492865211654,
          83.19688815884966,
          83.33780680204697,
          83.38084549361544,
          84.13628367507798,
          84.1585391524961,
          84.8035925342513
         ],
         "yaxis": "y"
        },
        {
         "customdata": [
          [
           224
          ],
          [
           224
          ],
          [
           224
          ],
          [
           224
          ],
          [
           224
          ],
          [
           224
          ],
          [
           224
          ],
          [
           224
          ]
         ],
         "hovertemplate": "<b>%{hovertext}</b><br><br>family=repvgg<br>secs=%{x}<br>top1=%{y}<br>size=%{marker.size}<br>infer_img_size=%{customdata[0]}<extra></extra>",
         "hovertext": [
          "repvgg_a2.rvgg_in1k",
          "repvgg_b0.rvgg_in1k",
          "repvgg_b1.rvgg_in1k",
          "repvgg_b1g4.rvgg_in1k",
          "repvgg_b2.rvgg_in1k",
          "repvgg_b2g4.rvgg_in1k",
          "repvgg_b3.rvgg_in1k",
          "repvgg_b3g4.rvgg_in1k"
         ],
         "legendgroup": "repvgg",
         "marker": {
          "color": "#636efa",
          "size": [
           50176,
           50176,
           50176,
           50176,
           50176,
           50176,
           50176,
           50176
          ],
          "sizemode": "area",
          "sizeref": 1128.96,
          "symbol": "circle"
         },
         "mode": "markers",
         "name": "repvgg",
         "orientation": "v",
         "showlegend": true,
         "type": "scatter",
         "x": [
          0.00025848743492578826,
          0.00019805588344807372,
          0.0005164995790528431,
          0.0006192755714365336,
          0.0008039813154742284,
          0.0012302090125112257,
          0.0009981932701809725,
          0.0015526503741887404
         ],
         "xaxis": "x",
         "y": [
          76.458,
          75.144,
          78.368,
          77.588,
          78.792,
          79.382,
          80.506,
          80.216
         ],
         "yaxis": "y"
        },
        {
         "hovertemplate": "<b>OLS trendline</b><br>top1 = 5.51801 * log10(secs) + 95.9646<br>R<sup>2</sup>=0.893501<br><br>family=repvgg<br>secs=%{x}<br>top1=%{y} <b>(trend)</b><extra></extra>",
         "legendgroup": "repvgg",
         "marker": {
          "color": "#636efa",
          "symbol": "circle"
         },
         "mode": "lines",
         "name": "repvgg",
         "showlegend": false,
         "type": "scatter",
         "x": [
          0.00019805588344807372,
          0.00025848743492578826,
          0.0005164995790528431,
          0.0006192755714365336,
          0.0008039813154742284,
          0.0009981932701809725,
          0.0012302090125112257,
          0.0015526503741887404
         ],
         "xaxis": "x",
         "y": [
          75.53022951551159,
          76.16839694828805,
          77.82727991601274,
          78.26217640372235,
          78.88770934501969,
          79.40622967930271,
          79.90706801326404,
          80.46491017887806
         ],
         "yaxis": "y"
        },
        {
         "customdata": [
          [
           224
          ],
          [
           224
          ],
          [
           224
          ],
          [
           224
          ],
          [
           224
          ],
          [
           224
          ],
          [
           224
          ]
         ],
         "hovertemplate": "<b>%{hovertext}</b><br><br>family=res<br>secs=%{x}<br>top1=%{y}<br>size=%{marker.size}<br>infer_img_size=%{customdata[0]}<extra></extra>",
         "hovertext": [
          "res2net101_26w_4s.in1k",
          "res2net50_14w_8s.in1k",
          "res2net50_26w_4s.in1k",
          "res2net50_26w_6s.in1k",
          "res2net50_26w_8s.in1k",
          "res2net50_48w_2s.in1k",
          "res2next50.in1k"
         ],
         "legendgroup": "res",
         "marker": {
          "color": "#EF553B",
          "size": [
           50176,
           50176,
           50176,
           50176,
           50176,
           50176,
           50176
          ],
          "sizemode": "area",
          "sizeref": 1128.96,
          "symbol": "circle"
         },
         "mode": "markers",
         "name": "res",
         "orientation": "v",
         "showlegend": true,
         "type": "scatter",
         "x": [
          0.0006283854264851889,
          0.0004438762828024573,
          0.00039912671075686404,
          0.0005677140991796531,
          0.0006724497343823549,
          0.0003376929493089114,
          0.0004636756496095851
         ],
         "xaxis": "x",
         "y": [
          79.2,
          78.158,
          77.95,
          78.568,
          78.942,
          77.514,
          78.242
         ],
         "yaxis": "y"
        },
        {
         "hovertemplate": "<b>OLS trendline</b><br>top1 = 5.18592 * log10(secs) + 95.5382<br>R<sup>2</sup>=0.944438<br><br>family=res<br>secs=%{x}<br>top1=%{y} <b>(trend)</b><extra></extra>",
         "legendgroup": "res",
         "marker": {
          "color": "#EF553B",
          "symbol": "circle"
         },
         "mode": "lines",
         "name": "res",
         "showlegend": false,
         "type": "scatter",
         "x": [
          0.0003376929493089114,
          0.00039912671075686404,
          0.0004438762828024573,
          0.0004636756496095851,
          0.0005677140991796531,
          0.0006283854264851889,
          0.0006724497343823549
         ],
         "xaxis": "x",
         "y": [
          77.53539538971738,
          77.9118353078773,
          78.15117159878093,
          78.24945701725503,
          78.7053794544209,
          78.93406010973534,
          79.08670112221189
         ],
         "yaxis": "y"
        },
        {
         "customdata": [
          [
           224
          ],
          [
           224
          ],
          [
           224
          ],
          [
           224
          ],
          [
           224
          ],
          [
           224
          ],
          [
           224
          ],
          [
           224
          ],
          [
           224
          ]
         ],
         "hovertemplate": "<b>%{hovertext}</b><br><br>family=resmlp<br>secs=%{x}<br>top1=%{y}<br>size=%{marker.size}<br>infer_img_size=%{customdata[0]}<extra></extra>",
         "hovertext": [
          "resmlp_12_224.fb_distilled_in1k",
          "resmlp_12_224.fb_in1k",
          "resmlp_24_224.fb_in1k",
          "resmlp_24_224.fb_distilled_in1k",
          "resmlp_36_224.fb_in1k",
          "resmlp_36_224.fb_distilled_in1k",
          "resmlp_big_24_224.fb_distilled_in1k",
          "resmlp_big_24_224.fb_in1k",
          "resmlp_big_24_224.fb_in22k_ft_in1k"
         ],
         "legendgroup": "resmlp",
         "marker": {
          "color": "#00cc96",
          "size": [
           50176,
           50176,
           50176,
           50176,
           50176,
           50176,
           50176,
           50176,
           50176
          ],
          "sizemode": "area",
          "sizeref": 1128.96,
          "symbol": "circle"
         },
         "mode": "markers",
         "name": "resmlp",
         "orientation": "v",
         "showlegend": true,
         "type": "scatter",
         "x": [
          0.0002212893646118474,
          0.0002212893646118474,
          0.0004325091151296013,
          0.0004325091151296013,
          0.0006443631115005927,
          0.0006443631115005927,
          0.004803304673615448,
          0.004803304673615448,
          0.004803304673615448
         ],
         "xaxis": "x",
         "y": [
          77.954,
          76.648,
          79.374,
          80.756,
          79.772,
          81.148,
          83.592,
          81.036,
          84.398
         ],
         "yaxis": "y"
        },
        {
         "hovertemplate": "<b>OLS trendline</b><br>top1 = 3.75295 * log10(secs) + 91.9351<br>R<sup>2</sup>=0.745282<br><br>family=resmlp<br>secs=%{x}<br>top1=%{y} <b>(trend)</b><extra></extra>",
         "legendgroup": "resmlp",
         "marker": {
          "color": "#00cc96",
          "symbol": "circle"
         },
         "mode": "lines",
         "name": "resmlp",
         "showlegend": false,
         "type": "scatter",
         "x": [
          0.0002212893646118474,
          0.0002212893646118474,
          0.0004325091151296013,
          0.0004325091151296013,
          0.0006443631115005927,
          0.0006443631115005927,
          0.004803304673615448,
          0.004803304673615448,
          0.004803304673615448
         ],
         "xaxis": "x",
         "y": [
          78.21790454474977,
          78.21790454474977,
          79.31014424924462,
          79.31014424924462,
          79.95991332863721,
          79.95991332863721,
          83.23402525157896,
          83.23402525157896,
          83.23402525157896
         ],
         "yaxis": "y"
        },
        {
         "customdata": [
          [
           256
          ],
          [
           224
          ],
          [
           320
          ],
          [
           416
          ],
          [
           224
          ],
          [
           224
          ],
          [
           224
          ],
          [
           224
          ]
         ],
         "hovertemplate": "<b>%{hovertext}</b><br><br>family=resnest<br>secs=%{x}<br>top1=%{y}<br>size=%{marker.size}<br>infer_img_size=%{customdata[0]}<extra></extra>",
         "hovertext": [
          "resnest101e.in1k",
          "resnest14d.gluon_in1k",
          "resnest200e.in1k",
          "resnest269e.in1k",
          "resnest26d.gluon_in1k",
          "resnest50d.in1k",
          "resnest50d_1s4x24d.in1k",
          "resnest50d_4s2x40d.in1k"
         ],
         "legendgroup": "resnest",
         "marker": {
          "color": "#ab63fa",
          "size": [
           65536,
           50176,
           102400,
           173056,
           50176,
           50176,
           50176,
           50176
          ],
          "sizemode": "area",
          "sizeref": 1128.96,
          "symbol": "circle"
         },
         "mode": "markers",
         "name": "resnest",
         "orientation": "v",
         "showlegend": true,
         "type": "scatter",
         "x": [
          0.0017098401299478498,
          0.0004150497022018387,
          0.004952456418383519,
          0.010546298249314492,
          0.0005677914615520012,
          0.0008339866228545695,
          0.0006457362038460049,
          0.0009918568552186547
         ],
         "xaxis": "x",
         "y": [
          82.884,
          75.508,
          83.844,
          84.508,
          78.482,
          80.96,
          80.988,
          81.12
         ],
         "yaxis": "y"
        },
        {
         "hovertemplate": "<b>OLS trendline</b><br>top1 = 5.12695 * log10(secs) + 95.7442<br>R<sup>2</sup>=0.736729<br><br>family=resnest<br>secs=%{x}<br>top1=%{y} <b>(trend)</b><extra></extra>",
         "legendgroup": "resnest",
         "marker": {
          "color": "#ab63fa",
          "symbol": "circle"
         },
         "mode": "lines",
         "name": "resnest",
         "showlegend": false,
         "type": "scatter",
         "x": [
          0.0004150497022018387,
          0.0005677914615520012,
          0.0006457362038460049,
          0.0008339866228545695,
          0.0009918568552186547,
          0.0017098401299478498,
          0.004952456418383519,
          0.010546298249314492
         ],
         "xaxis": "x",
         "y": [
          78.40532386855,
          79.10304445737393,
          79.38946822728846,
          79.95909291603559,
          80.34510074788601,
          81.55765842120381,
          83.92561923612587,
          85.60869212553611
         ],
         "yaxis": "y"
        },
        {
         "customdata": [
          [
           224
          ],
          [
           224
          ],
          [
           224
          ],
          [
           224
          ],
          [
           224
          ],
          [
           224
          ],
          [
           224
          ],
          [
           320
          ],
          [
           320
          ],
          [
           224
          ],
          [
           224
          ],
          [
           224
          ],
          [
           224
          ],
          [
           224
          ],
          [
           224
          ],
          [
           224
          ],
          [
           320
          ],
          [
           320
          ],
          [
           224
          ],
          [
           224
          ],
          [
           224
          ],
          [
           224
          ],
          [
           224
          ],
          [
           224
          ],
          [
           224
          ],
          [
           224
          ],
          [
           320
          ],
          [
           224
          ],
          [
           224
          ],
          [
           256
          ],
          [
           256
          ],
          [
           256
          ],
          [
           224
          ],
          [
           224
          ],
          [
           224
          ],
          [
           224
          ],
          [
           224
          ],
          [
           224
          ],
          [
           224
          ],
          [
           224
          ],
          [
           224
          ],
          [
           224
          ],
          [
           224
          ],
          [
           224
          ],
          [
           224
          ],
          [
           224
          ],
          [
           224
          ],
          [
           224
          ],
          [
           224
          ],
          [
           224
          ],
          [
           224
          ],
          [
           224
          ],
          [
           224
          ],
          [
           224
          ],
          [
           224
          ],
          [
           224
          ],
          [
           224
          ],
          [
           224
          ],
          [
           224
          ],
          [
           224
          ],
          [
           224
          ],
          [
           224
          ],
          [
           224
          ],
          [
           288
          ],
          [
           288
          ]
         ],
         "hovertemplate": "<b>%{hovertext}</b><br><br>family=resnet<br>secs=%{x}<br>top1=%{y}<br>size=%{marker.size}<br>infer_img_size=%{customdata[0]}<extra></extra>",
         "hovertext": [
          "resnet101.gluon_in1k",
          "resnet101.a3_in1k",
          "resnet101.a2_in1k",
          "resnet101.a1h_in1k",
          "resnet101.a1_in1k",
          "resnet101.tv2_in1k",
          "resnet101.tv_in1k",
          "resnet101d.gluon_in1k",
          "resnet101d.ra2_in1k",
          "resnet152.tv2_in1k",
          "resnet152.a3_in1k",
          "resnet152.a2_in1k",
          "resnet152.a1h_in1k",
          "resnet152.a1_in1k",
          "resnet152.tv_in1k",
          "resnet152.gluon_in1k",
          "resnet152d.ra2_in1k",
          "resnet152d.gluon_in1k",
          "resnet18.a1_in1k",
          "resnet18.a2_in1k",
          "resnet18.fb_swsl_ig1b_ft_in1k",
          "resnet18.tv_in1k",
          "resnet18.gluon_in1k",
          "resnet18.fb_ssl_yfcc100m_ft_in1k",
          "resnet18.a3_in1k",
          "resnet18d.ra2_in1k",
          "resnet200d.ra2_in1k",
          "resnet26.bt_in1k",
          "resnet26d.bt_in1k",
          "resnet26t.ra2_in1k",
          "resnet32ts.ra2_in1k",
          "resnet33ts.ra2_in1k",
          "resnet34.a2_in1k",
          "resnet34.tv_in1k",
          "resnet34.a1_in1k",
          "resnet34.gluon_in1k",
          "resnet34.a3_in1k",
          "resnet34.bt_in1k",
          "resnet34d.ra2_in1k",
          "resnet50.b2k_in1k",
          "resnet50.d_in1k",
          "resnet50.fb_ssl_yfcc100m_ft_in1k",
          "resnet50.bt_in1k",
          "resnet50.c1_in1k",
          "resnet50.c2_in1k",
          "resnet50.fb_swsl_ig1b_ft_in1k",
          "resnet50.am_in1k",
          "resnet50.a2_in1k",
          "resnet50.ra_in1k",
          "resnet50.ram_in1k",
          "resnet50.b1k_in1k",
          "resnet50.gluon_in1k",
          "resnet50.tv2_in1k",
          "resnet50.a3_in1k",
          "resnet50.tv_in1k",
          "resnet50.a1h_in1k",
          "resnet50.a1_in1k",
          "resnet50_gn.a1h_in1k",
          "resnet50d.gluon_in1k",
          "resnet50d.ra2_in1k",
          "resnet50d.a2_in1k",
          "resnet50d.a3_in1k",
          "resnet50d.a1_in1k",
          "resnet51q.ra2_in1k",
          "resnet61q.ra2_in1k"
         ],
         "legendgroup": "resnet",
         "marker": {
          "color": "#FFA15A",
          "size": [
           50176,
           50176,
           50176,
           50176,
           50176,
           50176,
           50176,
           102400,
           102400,
           50176,
           50176,
           50176,
           50176,
           50176,
           50176,
           50176,
           102400,
           102400,
           50176,
           50176,
           50176,
           50176,
           50176,
           50176,
           50176,
           50176,
           102400,
           50176,
           50176,
           65536,
           65536,
           65536,
           50176,
           50176,
           50176,
           50176,
           50176,
           50176,
           50176,
           50176,
           50176,
           50176,
           50176,
           50176,
           50176,
           50176,
           50176,
           50176,
           50176,
           50176,
           50176,
           50176,
           50176,
           50176,
           50176,
           50176,
           50176,
           50176,
           50176,
           50176,
           50176,
           50176,
           50176,
           82944,
           82944
          ],
          "sizemode": "area",
          "sizeref": 1128.96,
          "symbol": "circle"
         },
         "mode": "markers",
         "name": "resnet",
         "orientation": "v",
         "showlegend": true,
         "type": "scatter",
         "x": [
          0.00046063207933926936,
          0.00046063207933926936,
          0.00046063207933926936,
          0.00046063207933926936,
          0.00046063207933926936,
          0.00046063207933926936,
          0.00046063207933926936,
          0.0010008807750820723,
          0.0010008807750820723,
          0.0006634335339114052,
          0.0006634335339114052,
          0.0006634335339114052,
          0.0006634335339114052,
          0.0006634335339114052,
          0.0006634335339114052,
          0.0006634335339114052,
          0.0014054023666975855,
          0.0014054023666975855,
          0.00009236979323021786,
          0.00009236979323021786,
          0.00009236979323021786,
          0.00009236979323021786,
          0.00009236979323021786,
          0.00009236979323021786,
          0.00009236979323021786,
          0.00011218547400045547,
          0.0019066503965832825,
          0.00017561482751111642,
          0.0002044542400742578,
          0.0002638710409448694,
          0.00029286350217890445,
          0.00029674294938752255,
          0.00015969338869370808,
          0.00015969338869370808,
          0.00015969338869370808,
          0.00015969338869370808,
          0.00015969338869370808,
          0.00015969338869370808,
          0.00017947263760167124,
          0.00028338807446305045,
          0.00028338807446305045,
          0.00028338807446305045,
          0.00028338807446305045,
          0.00028338807446305045,
          0.00028338807446305045,
          0.00028338807446305045,
          0.00028338807446305045,
          0.00028338807446305045,
          0.00028338807446305045,
          0.00028338807446305045,
          0.00028338807446305045,
          0.00028338807446305045,
          0.00028338807446305045,
          0.00028338807446305045,
          0.00028338807446305045,
          0.00028338807446305045,
          0.00028338807446305045,
          0.0008827683615819209,
          0.00031235065734195835,
          0.00031235065734195835,
          0.00031235065734195835,
          0.00031235065734195835,
          0.00031235065734195835,
          0.000534896657965681,
          0.0005959830740806961
         ],
         "xaxis": "x",
         "y": [
          79.31,
          79.814,
          82.236,
          82.778,
          82.322,
          81.888,
          77.38,
          80.426,
          83.02,
          82.286,
          80.546,
          82.608,
          83.45,
          82.732,
          78.322,
          79.696,
          83.684,
          80.476,
          73.158,
          72.372,
          73.288,
          69.76,
          70.834,
          72.598,
          68.252,
          73.794,
          83.964,
          76.366,
          77.408,
          78.328,
          79.388,
          79.726,
          77.158,
          73.306,
          77.918,
          74.58,
          72.97,
          76.48,
          78.436,
          80.454,
          80.972,
          79.23,
          79.64,
          80.912,
          80.87,
          81.172,
          79.002,
          80.772,
          79.836,
          79.976,
          80.706,
          77.582,
          80.848,
          78.048,
          76.128,
          80.678,
          81.214,
          81.216,
          79.078,
          81.356,
          81.164,
          78.72,
          81.45,
          82.36,
          82.524
         ],
         "yaxis": "y"
        },
        {
         "hovertemplate": "<b>OLS trendline</b><br>top1 = 9.46463 * log10(secs) + 112.072<br>R<sup>2</sup>=0.665647<br><br>family=resnet<br>secs=%{x}<br>top1=%{y} <b>(trend)</b><extra></extra>",
         "legendgroup": "resnet",
         "marker": {
          "color": "#FFA15A",
          "symbol": "circle"
         },
         "mode": "lines",
         "name": "resnet",
         "showlegend": false,
         "type": "scatter",
         "x": [
          0.00009236979323021786,
          0.00009236979323021786,
          0.00009236979323021786,
          0.00009236979323021786,
          0.00009236979323021786,
          0.00009236979323021786,
          0.00009236979323021786,
          0.00011218547400045547,
          0.00015969338869370808,
          0.00015969338869370808,
          0.00015969338869370808,
          0.00015969338869370808,
          0.00015969338869370808,
          0.00015969338869370808,
          0.00017561482751111642,
          0.00017947263760167124,
          0.0002044542400742578,
          0.0002638710409448694,
          0.00028338807446305045,
          0.00028338807446305045,
          0.00028338807446305045,
          0.00028338807446305045,
          0.00028338807446305045,
          0.00028338807446305045,
          0.00028338807446305045,
          0.00028338807446305045,
          0.00028338807446305045,
          0.00028338807446305045,
          0.00028338807446305045,
          0.00028338807446305045,
          0.00028338807446305045,
          0.00028338807446305045,
          0.00028338807446305045,
          0.00028338807446305045,
          0.00028338807446305045,
          0.00028338807446305045,
          0.00029286350217890445,
          0.00029674294938752255,
          0.00031235065734195835,
          0.00031235065734195835,
          0.00031235065734195835,
          0.00031235065734195835,
          0.00031235065734195835,
          0.00046063207933926936,
          0.00046063207933926936,
          0.00046063207933926936,
          0.00046063207933926936,
          0.00046063207933926936,
          0.00046063207933926936,
          0.00046063207933926936,
          0.000534896657965681,
          0.0005959830740806961,
          0.0006634335339114052,
          0.0006634335339114052,
          0.0006634335339114052,
          0.0006634335339114052,
          0.0006634335339114052,
          0.0006634335339114052,
          0.0006634335339114052,
          0.0008827683615819209,
          0.0010008807750820723,
          0.0010008807750820723,
          0.0014054023666975855,
          0.0014054023666975855,
          0.0019066503965832825
         ],
         "xaxis": "x",
         "y": [
          73.88703696269553,
          73.88703696269553,
          73.88703696269553,
          73.88703696269553,
          73.88703696269553,
          73.88703696269553,
          73.88703696269553,
          74.6859145728693,
          76.13731822833438,
          76.13731822833438,
          76.13731822833438,
          76.13731822833438,
          76.13731822833438,
          76.13731822833438,
          76.5279636069593,
          76.61728190809187,
          77.15295976001642,
          78.20159899689023,
          78.49490630880331,
          78.49490630880331,
          78.49490630880331,
          78.49490630880331,
          78.49490630880331,
          78.49490630880331,
          78.49490630880331,
          78.49490630880331,
          78.49490630880331,
          78.49490630880331,
          78.49490630880331,
          78.49490630880331,
          78.49490630880331,
          78.49490630880331,
          78.49490630880331,
          78.49490630880331,
          78.49490630880331,
          78.49490630880331,
          78.63009604015075,
          78.6841878794985,
          78.89488957653253,
          78.89488957653253,
          78.89488957653253,
          78.89488957653253,
          78.89488957653253,
          80.4916836069984,
          80.4916836069984,
          80.4916836069984,
          80.4916836069984,
          80.4916836069984,
          80.4916836069984,
          80.4916836069984,
          81.10608661208576,
          81.55058380136998,
          81.99128995386322,
          81.99128995386322,
          81.99128995386322,
          81.99128995386322,
          81.99128995386322,
          81.99128995386322,
          81.99128995386322,
          83.16537082951191,
          83.68152988833253,
          83.68152988833253,
          85.07678959370622,
          85.07678959370622,
          86.33057255244609
         ],
         "yaxis": "y"
        },
        {
         "customdata": [
          [
           224
          ],
          [
           224
          ]
         ],
         "hovertemplate": "<b>%{hovertext}</b><br><br>family=resnetaa<br>secs=%{x}<br>top1=%{y}<br>size=%{marker.size}<br>infer_img_size=%{customdata[0]}<extra></extra>",
         "hovertext": [
          "resnetaa101d.sw_in12k_ft_in1k",
          "resnetaa50d.sw_in12k_ft_in1k"
         ],
         "legendgroup": "resnetaa",
         "marker": {
          "color": "#19d3f3",
          "size": [
           50176,
           50176
          ],
          "sizemode": "area",
          "sizeref": 1128.96,
          "symbol": "circle"
         },
         "mode": "markers",
         "name": "resnetaa",
         "orientation": "v",
         "showlegend": true,
         "type": "scatter",
         "x": [
          0.0005280918457338101,
          0.00034852799202567954
         ],
         "xaxis": "x",
         "y": [
          84.124,
          82.6
         ],
         "yaxis": "y"
        },
        {
         "hovertemplate": "<b>OLS trendline</b><br>top1 = 8.44453 * log10(secs) + 111.799<br>R<sup>2</sup>=1.000000<br><br>family=resnetaa<br>secs=%{x}<br>top1=%{y} <b>(trend)</b><extra></extra>",
         "legendgroup": "resnetaa",
         "marker": {
          "color": "#19d3f3",
          "symbol": "circle"
         },
         "mode": "lines",
         "name": "resnetaa",
         "showlegend": false,
         "type": "scatter",
         "x": [
          0.00034852799202567954,
          0.0005280918457338101
         ],
         "xaxis": "x",
         "y": [
          82.60000000000007,
          84.12400000000008
         ],
         "yaxis": "y"
        },
        {
         "customdata": [
          [
           224
          ]
         ],
         "hovertemplate": "<b>%{hovertext}</b><br><br>family=resnetblur<br>secs=%{x}<br>top1=%{y}<br>size=%{marker.size}<br>infer_img_size=%{customdata[0]}<extra></extra>",
         "hovertext": [
          "resnetblur50.bt_in1k"
         ],
         "legendgroup": "resnetblur",
         "marker": {
          "color": "#FF6692",
          "size": [
           50176
          ],
          "sizemode": "area",
          "sizeref": 1128.96,
          "symbol": "circle"
         },
         "mode": "markers",
         "name": "resnetblur",
         "orientation": "v",
         "showlegend": true,
         "type": "scatter",
         "x": [
          0.00038181346121538863
         ],
         "xaxis": "x",
         "y": [
          80.234
         ],
         "yaxis": "y"
        },
        {
         "hovertemplate": "family=resnetblur<extra></extra>",
         "legendgroup": "resnetblur",
         "marker": {
          "color": "#FF6692",
          "symbol": "circle"
         },
         "mode": "lines",
         "name": "resnetblur",
         "showlegend": false,
         "type": "scatter",
         "xaxis": "x",
         "yaxis": "y"
        },
        {
         "customdata": [
          [
           288
          ],
          [
           320
          ],
          [
           320
          ],
          [
           352
          ],
          [
           384
          ],
          [
           416
          ],
          [
           224
          ]
         ],
         "hovertemplate": "<b>%{hovertext}</b><br><br>family=resnetrs<br>secs=%{x}<br>top1=%{y}<br>size=%{marker.size}<br>infer_img_size=%{customdata[0]}<extra></extra>",
         "hovertext": [
          "resnetrs101.tf_in1k",
          "resnetrs152.tf_in1k",
          "resnetrs200.tf_in1k",
          "resnetrs270.tf_in1k",
          "resnetrs350.tf_in1k",
          "resnetrs420.tf_in1k",
          "resnetrs50.tf_in1k"
         ],
         "legendgroup": "resnetrs",
         "marker": {
          "color": "#B6E880",
          "size": [
           82944,
           102400,
           102400,
           123904,
           147456,
           173056,
           50176
          ],
          "sizemode": "area",
          "sizeref": 1128.96,
          "symbol": "circle"
         },
         "mode": "markers",
         "name": "resnetrs",
         "orientation": "v",
         "showlegend": true,
         "type": "scatter",
         "x": [
          0.0009125586318920991,
          0.0015921792156925183,
          0.0021917327839389824,
          0.0034781398907864076,
          0.005297171310520182,
          0.007450454477723141,
          0.000351576645466595
         ],
         "xaxis": "x",
         "y": [
          82.284,
          83.702,
          84.444,
          84.428,
          84.714,
          85.004,
          79.894
         ],
         "yaxis": "y"
        },
        {
         "hovertemplate": "<b>OLS trendline</b><br>top1 = 3.77145 * log10(secs) + 93.632<br>R<sup>2</sup>=0.895312<br><br>family=resnetrs<br>secs=%{x}<br>top1=%{y} <b>(trend)</b><extra></extra>",
         "legendgroup": "resnetrs",
         "marker": {
          "color": "#B6E880",
          "symbol": "circle"
         },
         "mode": "lines",
         "name": "resnetrs",
         "showlegend": false,
         "type": "scatter",
         "x": [
          0.000351576645466595,
          0.0009125586318920991,
          0.0015921792156925183,
          0.0021917327839389824,
          0.0034781398907864076,
          0.005297171310520182,
          0.007450454477723141
         ],
         "xaxis": "x",
         "y": [
          80.6054366721543,
          82.16772669850779,
          83.07940473091448,
          83.60286617276952,
          84.35926690836592,
          85.04830016290877,
          85.60699865437886
         ],
         "yaxis": "y"
        },
        {
         "customdata": [
          [
           224
          ],
          [
           224
          ],
          [
           288
          ],
          [
           288
          ]
         ],
         "hovertemplate": "<b>%{hovertext}</b><br><br>family=resnetv2<br>secs=%{x}<br>top1=%{y}<br>size=%{marker.size}<br>infer_img_size=%{customdata[0]}<extra></extra>",
         "hovertext": [
          "resnetv2_101.a1h_in1k",
          "resnetv2_50.a1h_in1k",
          "resnetv2_50d_evos.ah_in1k",
          "resnetv2_50d_gn.ah_in1k"
         ],
         "legendgroup": "resnetv2",
         "marker": {
          "color": "#FF97FF",
          "size": [
           50176,
           50176,
           82944,
           82944
          ],
          "sizemode": "area",
          "sizeref": 1128.96,
          "symbol": "circle"
         },
         "mode": "markers",
         "name": "resnetv2",
         "orientation": "v",
         "showlegend": true,
         "type": "scatter",
         "x": [
          0.0004473172150030194,
          0.00027003891260730673,
          0.0011976191331632715,
          0.001347309423082105
         ],
         "xaxis": "x",
         "y": [
          83,
          81.398,
          82.002,
          81.958
         ],
         "yaxis": "y"
        },
        {
         "hovertemplate": "<b>OLS trendline</b><br>top1 = 0.149571 * log10(secs) + 82.5648<br>R<sup>2</sup>=0.005746<br><br>family=resnetv2<br>secs=%{x}<br>top1=%{y} <b>(trend)</b><extra></extra>",
         "legendgroup": "resnetv2",
         "marker": {
          "color": "#FF97FF",
          "symbol": "circle"
         },
         "mode": "lines",
         "name": "resnetv2",
         "showlegend": false,
         "type": "scatter",
         "x": [
          0.00027003891260730673,
          0.0004473172150030194,
          0.0011976191331632715,
          0.001347309423082105
         ],
         "xaxis": "x",
         "y": [
          82.03101328781213,
          82.06379756954017,
          82.12776940487716,
          82.13541973777056
         ],
         "yaxis": "y"
        },
        {
         "customdata": [
          [
           224
          ],
          [
           224
          ],
          [
           224
          ],
          [
           224
          ],
          [
           224
          ],
          [
           224
          ],
          [
           224
          ],
          [
           224
          ],
          [
           288
          ],
          [
           288
          ],
          [
           288
          ],
          [
           256
          ],
          [
           224
          ],
          [
           224
          ],
          [
           224
          ],
          [
           224
          ],
          [
           224
          ],
          [
           224
          ],
          [
           224
          ],
          [
           224
          ],
          [
           224
          ],
          [
           224
          ],
          [
           224
          ]
         ],
         "hovertemplate": "<b>%{hovertext}</b><br><br>family=resnext<br>secs=%{x}<br>top1=%{y}<br>size=%{marker.size}<br>infer_img_size=%{customdata[0]}<extra></extra>",
         "hovertext": [
          "resnext101_32x4d.fb_ssl_yfcc100m_ft_in1k",
          "resnext101_32x4d.fb_swsl_ig1b_ft_in1k",
          "resnext101_32x4d.gluon_in1k",
          "resnext101_32x8d.tv2_in1k",
          "resnext101_32x8d.fb_swsl_ig1b_ft_in1k",
          "resnext101_32x8d.fb_wsl_ig1b_ft_in1k",
          "resnext101_32x8d.tv_in1k",
          "resnext101_32x8d.fb_ssl_yfcc100m_ft_in1k",
          "resnext101_64x4d.gluon_in1k",
          "resnext101_64x4d.c1_in1k",
          "resnext101_64x4d.tv_in1k",
          "resnext26ts.ra2_in1k",
          "resnext50_32x4d.gluon_in1k",
          "resnext50_32x4d.ra_in1k",
          "resnext50_32x4d.tv2_in1k",
          "resnext50_32x4d.tv_in1k",
          "resnext50_32x4d.fb_ssl_yfcc100m_ft_in1k",
          "resnext50_32x4d.a1h_in1k",
          "resnext50_32x4d.a1_in1k",
          "resnext50_32x4d.a2_in1k",
          "resnext50_32x4d.a3_in1k",
          "resnext50_32x4d.fb_swsl_ig1b_ft_in1k",
          "resnext50d_32x4d.bt_in1k"
         ],
         "legendgroup": "resnext",
         "marker": {
          "color": "#FECB52",
          "size": [
           50176,
           50176,
           50176,
           50176,
           50176,
           50176,
           50176,
           50176,
           82944,
           82944,
           82944,
           65536,
           50176,
           50176,
           50176,
           50176,
           50176,
           50176,
           50176,
           50176,
           50176,
           50176,
           50176
          ],
          "sizemode": "area",
          "sizeref": 1128.96,
          "symbol": "circle"
         },
         "mode": "markers",
         "name": "resnext",
         "orientation": "v",
         "showlegend": true,
         "type": "scatter",
         "x": [
          0.0005571651437486071,
          0.0005571651437486071,
          0.0005571651437486071,
          0.0009672957313239377,
          0.0009672957313239377,
          0.0009672957313239377,
          0.0009672957313239377,
          0.0009672957313239377,
          0.00149812734082397,
          0.00149812734082397,
          0.00149812734082397,
          0.0002444163094114944,
          0.0003472354846886513,
          0.0003472354846886513,
          0.0003472354846886513,
          0.0003472354846886513,
          0.0003472354846886513,
          0.0003472354846886513,
          0.0003472354846886513,
          0.0003472354846886513,
          0.0003472354846886513,
          0.0003472354846886513,
          0.0003756263569502145
         ],
         "xaxis": "x",
         "y": [
          80.924,
          83.226,
          80.34,
          82.832,
          84.302,
          82.698,
          79.31,
          81.606,
          80.6,
          83.156,
          82.992,
          77.178,
          79.36,
          80.698,
          81.182,
          77.622,
          80.334,
          82.014,
          81.466,
          81.304,
          79.268,
          82.172,
          80.664
         ],
         "yaxis": "y"
        },
        {
         "hovertemplate": "<b>OLS trendline</b><br>top1 = 3.77821 * log10(secs) + 93.4079<br>R<sup>2</sup>=0.291848<br><br>family=resnext<br>secs=%{x}<br>top1=%{y} <b>(trend)</b><extra></extra>",
         "legendgroup": "resnext",
         "marker": {
          "color": "#FECB52",
          "symbol": "circle"
         },
         "mode": "lines",
         "name": "resnext",
         "showlegend": false,
         "type": "scatter",
         "x": [
          0.0002444163094114944,
          0.0003472354846886513,
          0.0003472354846886513,
          0.0003472354846886513,
          0.0003472354846886513,
          0.0003472354846886513,
          0.0003472354846886513,
          0.0003472354846886513,
          0.0003472354846886513,
          0.0003472354846886513,
          0.0003472354846886513,
          0.0003756263569502145,
          0.0005571651437486071,
          0.0005571651437486071,
          0.0005571651437486071,
          0.0009672957313239377,
          0.0009672957313239377,
          0.0009672957313239377,
          0.0009672957313239377,
          0.0009672957313239377,
          0.00149812734082397,
          0.00149812734082397,
          0.00149812734082397
         ],
         "xaxis": "x",
         "y": [
          79.76147871365181,
          80.33763344881842,
          80.33763344881842,
          80.33763344881842,
          80.33763344881842,
          80.33763344881842,
          80.33763344881842,
          80.33763344881842,
          80.33763344881842,
          80.33763344881842,
          80.33763344881842,
          80.46659130824467,
          81.1135269738243,
          81.1135269738243,
          81.1135269738243,
          82.01869397181304,
          82.01869397181304,
          82.01869397181304,
          82.01869397181304,
          82.01869397181304,
          82.73651490312695,
          82.73651490312695,
          82.73651490312695
         ],
         "yaxis": "y"
        },
        {
         "customdata": [
          [
           224
          ],
          [
           224
          ],
          [
           224
          ],
          [
           224
          ]
         ],
         "hovertemplate": "<b>%{hovertext}</b><br><br>family=rexnet<br>secs=%{x}<br>top1=%{y}<br>size=%{marker.size}<br>infer_img_size=%{customdata[0]}<extra></extra>",
         "hovertext": [
          "rexnet_100.nav_in1k",
          "rexnet_130.nav_in1k",
          "rexnet_150.nav_in1k",
          "rexnet_200.nav_in1k"
         ],
         "legendgroup": "rexnet",
         "marker": {
          "color": "#636efa",
          "size": [
           50176,
           50176,
           50176,
           50176
          ],
          "sizemode": "area",
          "sizeref": 1128.96,
          "symbol": "circle"
         },
         "mode": "markers",
         "name": "rexnet",
         "orientation": "v",
         "showlegend": true,
         "type": "scatter",
         "x": [
          0.0001703104589355937,
          0.0002491386032791623,
          0.00026494347430975604,
          0.00035552521740367046
         ],
         "xaxis": "x",
         "y": [
          77.856,
          79.506,
          80.324,
          81.636
         ],
         "yaxis": "y"
        },
        {
         "hovertemplate": "<b>OLS trendline</b><br>top1 = 11.9366 * log10(secs) + 122.797<br>R<sup>2</sup>=0.982925<br><br>family=rexnet<br>secs=%{x}<br>top1=%{y} <b>(trend)</b><extra></extra>",
         "legendgroup": "rexnet",
         "marker": {
          "color": "#636efa",
          "symbol": "circle"
         },
         "mode": "lines",
         "name": "rexnet",
         "showlegend": false,
         "type": "scatter",
         "x": [
          0.0001703104589355937,
          0.0002491386032791623,
          0.00026494347430975604,
          0.00035552521740367046
         ],
         "xaxis": "x",
         "y": [
          77.81099642265782,
          79.78292685244267,
          80.10178095114885,
          81.62629577375067
         ],
         "yaxis": "y"
        },
        {
         "customdata": [
          [
           224
          ]
         ],
         "hovertemplate": "<b>%{hovertext}</b><br><br>family=rexnetr<br>secs=%{x}<br>top1=%{y}<br>size=%{marker.size}<br>infer_img_size=%{customdata[0]}<extra></extra>",
         "hovertext": [
          "rexnetr_200.sw_in12k_ft_in1k"
         ],
         "legendgroup": "rexnetr",
         "marker": {
          "color": "#EF553B",
          "size": [
           50176
          ],
          "sizemode": "area",
          "sizeref": 1128.96,
          "symbol": "circle"
         },
         "mode": "markers",
         "name": "rexnetr",
         "orientation": "v",
         "showlegend": true,
         "type": "scatter",
         "x": [
          0.000283931197792151
         ],
         "xaxis": "x",
         "y": [
          83.138
         ],
         "yaxis": "y"
        },
        {
         "hovertemplate": "family=rexnetr<extra></extra>",
         "legendgroup": "rexnetr",
         "marker": {
          "color": "#EF553B",
          "symbol": "circle"
         },
         "mode": "lines",
         "name": "rexnetr",
         "showlegend": false,
         "type": "scatter",
         "xaxis": "x",
         "yaxis": "y"
        },
        {
         "customdata": [
          [
           256
          ]
         ],
         "hovertemplate": "<b>%{hovertext}</b><br><br>family=sebotnet<br>secs=%{x}<br>top1=%{y}<br>size=%{marker.size}<br>infer_img_size=%{customdata[0]}<extra></extra>",
         "hovertext": [
          "sebotnet33ts_256.a1h_in1k"
         ],
         "legendgroup": "sebotnet",
         "marker": {
          "color": "#00cc96",
          "size": [
           65536
          ],
          "sizemode": "area",
          "sizeref": 1128.96,
          "symbol": "circle"
         },
         "mode": "markers",
         "name": "sebotnet",
         "orientation": "v",
         "showlegend": true,
         "type": "scatter",
         "x": [
          0.0005000575066132605
         ],
         "xaxis": "x",
         "y": [
          81.168
         ],
         "yaxis": "y"
        },
        {
         "hovertemplate": "family=sebotnet<extra></extra>",
         "legendgroup": "sebotnet",
         "marker": {
          "color": "#00cc96",
          "symbol": "circle"
         },
         "mode": "lines",
         "name": "sebotnet",
         "showlegend": false,
         "type": "scatter",
         "xaxis": "x",
         "yaxis": "y"
        },
        {
         "customdata": [
          [
           256
          ]
         ],
         "hovertemplate": "<b>%{hovertext}</b><br><br>family=sehalonet<br>secs=%{x}<br>top1=%{y}<br>size=%{marker.size}<br>infer_img_size=%{customdata[0]}<extra></extra>",
         "hovertext": [
          "sehalonet33ts.ra2_in1k"
         ],
         "legendgroup": "sehalonet",
         "marker": {
          "color": "#ab63fa",
          "size": [
           65536
          ],
          "sizemode": "area",
          "sizeref": 1128.96,
          "symbol": "circle"
         },
         "mode": "markers",
         "name": "sehalonet",
         "orientation": "v",
         "showlegend": true,
         "type": "scatter",
         "x": [
          0.0004277836954522315
         ],
         "xaxis": "x",
         "y": [
          80.958
         ],
         "yaxis": "y"
        },
        {
         "hovertemplate": "family=sehalonet<extra></extra>",
         "legendgroup": "sehalonet",
         "marker": {
          "color": "#ab63fa",
          "symbol": "circle"
         },
         "mode": "lines",
         "name": "sehalonet",
         "showlegend": false,
         "type": "scatter",
         "xaxis": "x",
         "yaxis": "y"
        },
        {
         "customdata": [
          [
           224
          ],
          [
           224
          ],
          [
           224
          ]
         ],
         "hovertemplate": "<b>%{hovertext}</b><br><br>family=selecsls<br>secs=%{x}<br>top1=%{y}<br>size=%{marker.size}<br>infer_img_size=%{customdata[0]}<extra></extra>",
         "hovertext": [
          "selecsls42b.in1k",
          "selecsls60.in1k",
          "selecsls60b.in1k"
         ],
         "legendgroup": "selecsls",
         "marker": {
          "color": "#FFA15A",
          "size": [
           50176,
           50176,
           50176
          ],
          "sizemode": "area",
          "sizeref": 1128.96,
          "symbol": "circle"
         },
         "mode": "markers",
         "name": "selecsls",
         "orientation": "v",
         "showlegend": true,
         "type": "scatter",
         "x": [
          0.00016992093578857757,
          0.00018998187572905544,
          0.00019041090673673787
         ],
         "xaxis": "x",
         "y": [
          77.17,
          77.988,
          78.412
         ],
         "yaxis": "y"
        },
        {
         "hovertemplate": "<b>OLS trendline</b><br>top1 = 21.1633 * log10(secs) + 156.946<br>R<sup>2</sup>=0.897966<br><br>family=selecsls<br>secs=%{x}<br>top1=%{y} <b>(trend)</b><extra></extra>",
         "legendgroup": "selecsls",
         "marker": {
          "color": "#FFA15A",
          "symbol": "circle"
         },
         "mode": "lines",
         "name": "selecsls",
         "showlegend": false,
         "type": "scatter",
         "x": [
          0.00016992093578857757,
          0.00018998187572905544,
          0.00019041090673673787
         ],
         "xaxis": "x",
         "y": [
          77.16596507011269,
          78.19165114422879,
          78.21238378565893
         ],
         "yaxis": "y"
        },
        {
         "customdata": [
          [
           224
          ],
          [
           224
          ]
         ],
         "hovertemplate": "<b>%{hovertext}</b><br><br>family=semnasnet<br>secs=%{x}<br>top1=%{y}<br>size=%{marker.size}<br>infer_img_size=%{customdata[0]}<extra></extra>",
         "hovertext": [
          "semnasnet_075.rmsp_in1k",
          "semnasnet_100.rmsp_in1k"
         ],
         "legendgroup": "semnasnet",
         "marker": {
          "color": "#19d3f3",
          "size": [
           50176,
           50176
          ],
          "sizemode": "area",
          "sizeref": 1128.96,
          "symbol": "circle"
         },
         "mode": "markers",
         "name": "semnasnet",
         "orientation": "v",
         "showlegend": true,
         "type": "scatter",
         "x": [
          0.00009505893178475996,
          0.0001071310727248574
         ],
         "xaxis": "x",
         "y": [
          73.004,
          75.45
         ],
         "yaxis": "y"
        },
        {
         "hovertemplate": "<b>OLS trendline</b><br>top1 = 47.1086 * log10(secs) + 262.475<br>R<sup>2</sup>=1.000000<br><br>family=semnasnet<br>secs=%{x}<br>top1=%{y} <b>(trend)</b><extra></extra>",
         "legendgroup": "semnasnet",
         "marker": {
          "color": "#19d3f3",
          "symbol": "circle"
         },
         "mode": "lines",
         "name": "semnasnet",
         "showlegend": false,
         "type": "scatter",
         "x": [
          0.00009505893178475996,
          0.0001071310727248574
         ],
         "xaxis": "x",
         "y": [
          73.00400000000039,
          75.45000000000039
         ],
         "yaxis": "y"
        },
        {
         "customdata": [
          [
           224
          ]
         ],
         "hovertemplate": "<b>%{hovertext}</b><br><br>family=senet<br>secs=%{x}<br>top1=%{y}<br>size=%{marker.size}<br>infer_img_size=%{customdata[0]}<extra></extra>",
         "hovertext": [
          "senet154.gluon_in1k"
         ],
         "legendgroup": "senet",
         "marker": {
          "color": "#FF6692",
          "size": [
           50176
          ],
          "sizemode": "area",
          "sizeref": 1128.96,
          "symbol": "circle"
         },
         "mode": "markers",
         "name": "senet",
         "orientation": "v",
         "showlegend": true,
         "type": "scatter",
         "x": [
          0.0014449405406967502
         ],
         "xaxis": "x",
         "y": [
          81.226
         ],
         "yaxis": "y"
        },
        {
         "hovertemplate": "family=senet<extra></extra>",
         "legendgroup": "senet",
         "marker": {
          "color": "#FF6692",
          "symbol": "circle"
         },
         "mode": "lines",
         "name": "senet",
         "showlegend": false,
         "type": "scatter",
         "xaxis": "x",
         "yaxis": "y"
        },
        {
         "customdata": [
          [
           320
          ],
          [
           256
          ],
          [
           224
          ],
          [
           224
          ],
          [
           224
          ],
          [
           224
          ]
         ],
         "hovertemplate": "<b>%{hovertext}</b><br><br>family=seresnet<br>secs=%{x}<br>top1=%{y}<br>size=%{marker.size}<br>infer_img_size=%{customdata[0]}<extra></extra>",
         "hovertext": [
          "seresnet152d.ra2_in1k",
          "seresnet33ts.ra2_in1k",
          "seresnet50.a2_in1k",
          "seresnet50.a1_in1k",
          "seresnet50.a3_in1k",
          "seresnet50.ra2_in1k"
         ],
         "legendgroup": "seresnet",
         "marker": {
          "color": "#B6E880",
          "size": [
           102400,
           65536,
           50176,
           50176,
           50176,
           50176
          ],
          "sizemode": "area",
          "sizeref": 1128.96,
          "symbol": "circle"
         },
         "mode": "markers",
         "name": "seresnet",
         "orientation": "v",
         "showlegend": true,
         "type": "scatter",
         "x": [
          0.0015970103965376816,
          0.0003043769404029951,
          0.0003241501593198033,
          0.0003241501593198033,
          0.0003241501593198033,
          0.0003241501593198033
         ],
         "xaxis": "x",
         "y": [
          84.36,
          80.784,
          81.106,
          81.102,
          77.026,
          81.284
         ],
         "yaxis": "y"
        },
        {
         "hovertemplate": "<b>OLS trendline</b><br>top1 = 5.82928 * log10(secs) + 100.637<br>R<sup>2</sup>=0.507774<br><br>family=seresnet<br>secs=%{x}<br>top1=%{y} <b>(trend)</b><extra></extra>",
         "legendgroup": "seresnet",
         "marker": {
          "color": "#B6E880",
          "symbol": "circle"
         },
         "mode": "lines",
         "name": "seresnet",
         "showlegend": false,
         "type": "scatter",
         "x": [
          0.0003043769404029951,
          0.0003241501593198033,
          0.0003241501593198033,
          0.0003241501593198033,
          0.0003241501593198033,
          0.0015970103965376816
         ],
         "xaxis": "x",
         "y": [
          80.13802674914712,
          80.29736724148513,
          80.29736724148513,
          80.29736724148513,
          80.29736724148513,
          84.33450428491263
         ],
         "yaxis": "y"
        },
        {
         "customdata": [
          [
           224
          ],
          [
           288
          ],
          [
           224
          ],
          [
           224
          ],
          [
           256
          ],
          [
           224
          ],
          [
           224
          ]
         ],
         "hovertemplate": "<b>%{hovertext}</b><br><br>family=seresnext<br>secs=%{x}<br>top1=%{y}<br>size=%{marker.size}<br>infer_img_size=%{customdata[0]}<extra></extra>",
         "hovertext": [
          "seresnext101_32x4d.gluon_in1k",
          "seresnext101_32x8d.ah_in1k",
          "seresnext26d_32x4d.bt_in1k",
          "seresnext26t_32x4d.bt_in1k",
          "seresnext26ts.ch_in1k",
          "seresnext50_32x4d.racm_in1k",
          "seresnext50_32x4d.gluon_in1k"
         ],
         "legendgroup": "seresnext",
         "marker": {
          "color": "#FF97FF",
          "size": [
           50176,
           82944,
           50176,
           50176,
           65536,
           50176,
           50176
          ],
          "sizemode": "area",
          "sizeref": 1128.96,
          "symbol": "circle"
         },
         "mode": "markers",
         "name": "seresnext",
         "orientation": "v",
         "showlegend": true,
         "type": "scatter",
         "x": [
          0.0006248164601648265,
          0.0017418568193694477,
          0.00026589097406499437,
          0.0002652723949587634,
          0.0002520879181823453,
          0.0003884189020174478,
          0.0003884189020174478
         ],
         "xaxis": "x",
         "y": [
          80.892,
          84.186,
          78.814,
          78.744,
          78.27,
          82.196,
          79.924
         ],
         "yaxis": "y"
        },
        {
         "hovertemplate": "<b>OLS trendline</b><br>top1 = 6.46185 * log10(secs) + 102.158<br>R<sup>2</sup>=0.811507<br><br>family=seresnext<br>secs=%{x}<br>top1=%{y} <b>(trend)</b><extra></extra>",
         "legendgroup": "seresnext",
         "marker": {
          "color": "#FF97FF",
          "symbol": "circle"
         },
         "mode": "lines",
         "name": "seresnext",
         "showlegend": false,
         "type": "scatter",
         "x": [
          0.0002520879181823453,
          0.0002652723949587634,
          0.00026589097406499437,
          0.0003884189020174478,
          0.0003884189020174478,
          0.0006248164601648265,
          0.0017418568193694477
         ],
         "xaxis": "x",
         "y": [
          78.90502763045906,
          79.04809322467077,
          79.05462962582183,
          80.11822967803899,
          80.11822967803899,
          81.45229280831458,
          84.32949735465611
         ],
         "yaxis": "y"
        },
        {
         "customdata": [
          [
           224
          ],
          [
           224
          ]
         ],
         "hovertemplate": "<b>%{hovertext}</b><br><br>family=skresnet<br>secs=%{x}<br>top1=%{y}<br>size=%{marker.size}<br>infer_img_size=%{customdata[0]}<extra></extra>",
         "hovertext": [
          "skresnet18.ra_in1k",
          "skresnet34.ra_in1k"
         ],
         "legendgroup": "skresnet",
         "marker": {
          "color": "#FECB52",
          "size": [
           50176,
           50176
          ],
          "sizemode": "area",
          "sizeref": 1128.96,
          "symbol": "circle"
         },
         "mode": "markers",
         "name": "skresnet",
         "orientation": "v",
         "showlegend": true,
         "type": "scatter",
         "x": [
          0.0001868970234780041,
          0.00033152541473829383
         ],
         "xaxis": "x",
         "y": [
          73.034,
          76.91
         ],
         "yaxis": "y"
        },
        {
         "hovertemplate": "<b>OLS trendline</b><br>top1 = 15.5716 * log10(secs) + 131.091<br>R<sup>2</sup>=1.000000<br><br>family=skresnet<br>secs=%{x}<br>top1=%{y} <b>(trend)</b><extra></extra>",
         "legendgroup": "skresnet",
         "marker": {
          "color": "#FECB52",
          "symbol": "circle"
         },
         "mode": "lines",
         "name": "skresnet",
         "showlegend": false,
         "type": "scatter",
         "x": [
          0.0001868970234780041,
          0.00033152541473829383
         ],
         "xaxis": "x",
         "y": [
          73.03399999999993,
          76.90999999999994
         ],
         "yaxis": "y"
        },
        {
         "customdata": [
          [
           224
          ]
         ],
         "hovertemplate": "<b>%{hovertext}</b><br><br>family=skresnext<br>secs=%{x}<br>top1=%{y}<br>size=%{marker.size}<br>infer_img_size=%{customdata[0]}<extra></extra>",
         "hovertext": [
          "skresnext50_32x4d.ra_in1k"
         ],
         "legendgroup": "skresnext",
         "marker": {
          "color": "#636efa",
          "size": [
           50176
          ],
          "sizemode": "area",
          "sizeref": 1128.96,
          "symbol": "circle"
         },
         "mode": "markers",
         "name": "skresnext",
         "orientation": "v",
         "showlegend": true,
         "type": "scatter",
         "x": [
          0.0007966603996048564
         ],
         "xaxis": "x",
         "y": [
          80.164
         ],
         "yaxis": "y"
        },
        {
         "hovertemplate": "family=skresnext<extra></extra>",
         "legendgroup": "skresnext",
         "marker": {
          "color": "#636efa",
          "symbol": "circle"
         },
         "mode": "lines",
         "name": "skresnext",
         "showlegend": false,
         "type": "scatter",
         "xaxis": "x",
         "yaxis": "y"
        },
        {
         "customdata": [
          [
           224
          ]
         ],
         "hovertemplate": "<b>%{hovertext}</b><br><br>family=spnasnet<br>secs=%{x}<br>top1=%{y}<br>size=%{marker.size}<br>infer_img_size=%{customdata[0]}<extra></extra>",
         "hovertext": [
          "spnasnet_100.rmsp_in1k"
         ],
         "legendgroup": "spnasnet",
         "marker": {
          "color": "#EF553B",
          "size": [
           50176
          ],
          "sizemode": "area",
          "sizeref": 1128.96,
          "symbol": "circle"
         },
         "mode": "markers",
         "name": "spnasnet",
         "orientation": "v",
         "showlegend": true,
         "type": "scatter",
         "x": [
          0.00010125628674970357
         ],
         "xaxis": "x",
         "y": [
          74.094
         ],
         "yaxis": "y"
        },
        {
         "hovertemplate": "family=spnasnet<extra></extra>",
         "legendgroup": "spnasnet",
         "marker": {
          "color": "#EF553B",
          "symbol": "circle"
         },
         "mode": "lines",
         "name": "spnasnet",
         "showlegend": false,
         "type": "scatter",
         "xaxis": "x",
         "yaxis": "y"
        },
        {
         "customdata": [
          [
           384
          ],
          [
           384
          ],
          [
           224
          ],
          [
           224
          ],
          [
           384
          ],
          [
           224
          ],
          [
           224
          ],
          [
           224
          ],
          [
           224
          ],
          [
           224
          ],
          [
           224
          ],
          [
           224
          ],
          [
           224
          ]
         ],
         "hovertemplate": "<b>%{hovertext}</b><br><br>family=swin<br>secs=%{x}<br>top1=%{y}<br>size=%{marker.size}<br>infer_img_size=%{customdata[0]}<extra></extra>",
         "hovertext": [
          "swin_base_patch4_window12_384.ms_in1k",
          "swin_base_patch4_window12_384.ms_in22k_ft_in1k",
          "swin_base_patch4_window7_224.ms_in22k_ft_in1k",
          "swin_base_patch4_window7_224.ms_in1k",
          "swin_large_patch4_window12_384.ms_in22k_ft_in1k",
          "swin_large_patch4_window7_224.ms_in22k_ft_in1k",
          "swin_s3_base_224.ms_in1k",
          "swin_s3_small_224.ms_in1k",
          "swin_s3_tiny_224.ms_in1k",
          "swin_small_patch4_window7_224.ms_in1k",
          "swin_small_patch4_window7_224.ms_in22k_ft_in1k",
          "swin_tiny_patch4_window7_224.ms_in22k_ft_in1k",
          "swin_tiny_patch4_window7_224.ms_in1k"
         ],
         "legendgroup": "swin",
         "marker": {
          "color": "#00cc96",
          "size": [
           147456,
           147456,
           50176,
           50176,
           147456,
           50176,
           50176,
           50176,
           50176,
           50176,
           50176,
           50176,
           50176
          ],
          "sizemode": "area",
          "sizeref": 1128.96,
          "symbol": "circle"
         },
         "mode": "markers",
         "name": "swin",
         "orientation": "v",
         "showlegend": true,
         "type": "scatter",
         "x": [
          0.004700352526439483,
          0.004700352526439483,
          0.001254390366281987,
          0.001254390366281987,
          0.007950389569088886,
          0.002185123678000175,
          0.001502765087761481,
          0.0012179822905374956,
          0.000599319173418996,
          0.0008899409969119047,
          0.0008899409969119047,
          0.0005460184335823177,
          0.0005460184335823177
         ],
         "xaxis": "x",
         "y": [
          84.476,
          86.438,
          85.272,
          83.606,
          87.132,
          86.312,
          83.92,
          83.756,
          82.144,
          83.208,
          83.298,
          80.968,
          81.376
         ],
         "yaxis": "y"
        },
        {
         "hovertemplate": "<b>OLS trendline</b><br>top1 = 4.44822 * log10(secs) + 96.5866<br>R<sup>2</sup>=0.772263<br><br>family=swin<br>secs=%{x}<br>top1=%{y} <b>(trend)</b><extra></extra>",
         "legendgroup": "swin",
         "marker": {
          "color": "#00cc96",
          "symbol": "circle"
         },
         "mode": "lines",
         "name": "swin",
         "showlegend": false,
         "type": "scatter",
         "x": [
          0.0005460184335823177,
          0.0005460184335823177,
          0.000599319173418996,
          0.0008899409969119047,
          0.0008899409969119047,
          0.0012179822905374956,
          0.001254390366281987,
          0.001254390366281987,
          0.001502765087761481,
          0.002185123678000175,
          0.004700352526439483,
          0.004700352526439483,
          0.007950389569088886
         ],
         "xaxis": "x",
         "y": [
          82.07297953517892,
          82.07297953517892,
          82.25291375045572,
          83.01668605778374,
          83.01668605778374,
          83.62288793625558,
          83.6797883488043,
          83.6797883488043,
          84.02878824172076,
          84.75200119523171,
          86.23172002783448,
          86.23172002783448,
          87.24706093713317
         ],
         "yaxis": "y"
        },
        {
         "customdata": [
          [
           224
          ],
          [
           224
          ],
          [
           224
          ],
          [
           224
          ],
          [
           240
          ],
          [
           240
          ],
          [
           240
          ],
          [
           240
          ],
          [
           260
          ],
          [
           260
          ],
          [
           260
          ],
          [
           260
          ],
          [
           300
          ],
          [
           300
          ],
          [
           300
          ],
          [
           300
          ],
          [
           380
          ],
          [
           380
          ],
          [
           380
          ],
          [
           380
          ],
          [
           456
          ],
          [
           456
          ],
          [
           456
          ],
          [
           456
          ],
          [
           456
          ],
          [
           528
          ],
          [
           528
          ],
          [
           528
          ],
          [
           600
          ],
          [
           600
          ],
          [
           600
          ],
          [
           600
          ],
          [
           672
          ],
          [
           672
          ],
          [
           224
          ],
          [
           224
          ],
          [
           240
          ],
          [
           300
          ],
          [
           240
          ],
          [
           224
          ],
          [
           224
          ],
          [
           240
          ],
          [
           260
          ],
          [
           300
          ],
          [
           380
          ],
          [
           224
          ],
          [
           240
          ],
          [
           260
          ],
          [
           300
          ],
          [
           300
          ],
          [
           480
          ],
          [
           480
          ],
          [
           480
          ],
          [
           480
          ],
          [
           384
          ],
          [
           384
          ],
          [
           224
          ],
          [
           224
          ],
          [
           224
          ],
          [
           224
          ],
          [
           224
          ],
          [
           224
          ],
          [
           224
          ],
          [
           224
          ],
          [
           224
          ]
         ],
         "hovertemplate": "<b>%{hovertext}</b><br><br>family=tf<br>secs=%{x}<br>top1=%{y}<br>size=%{marker.size}<br>infer_img_size=%{customdata[0]}<extra></extra>",
         "hovertext": [
          "tf_efficientnet_b0.aa_in1k",
          "tf_efficientnet_b0.ap_in1k",
          "tf_efficientnet_b0.in1k",
          "tf_efficientnet_b0.ns_jft_in1k",
          "tf_efficientnet_b1.ns_jft_in1k",
          "tf_efficientnet_b1.in1k",
          "tf_efficientnet_b1.ap_in1k",
          "tf_efficientnet_b1.aa_in1k",
          "tf_efficientnet_b2.ns_jft_in1k",
          "tf_efficientnet_b2.in1k",
          "tf_efficientnet_b2.ap_in1k",
          "tf_efficientnet_b2.aa_in1k",
          "tf_efficientnet_b3.ns_jft_in1k",
          "tf_efficientnet_b3.in1k",
          "tf_efficientnet_b3.ap_in1k",
          "tf_efficientnet_b3.aa_in1k",
          "tf_efficientnet_b4.ap_in1k",
          "tf_efficientnet_b4.in1k",
          "tf_efficientnet_b4.ns_jft_in1k",
          "tf_efficientnet_b4.aa_in1k",
          "tf_efficientnet_b5.aa_in1k",
          "tf_efficientnet_b5.ap_in1k",
          "tf_efficientnet_b5.in1k",
          "tf_efficientnet_b5.ns_jft_in1k",
          "tf_efficientnet_b5.ra_in1k",
          "tf_efficientnet_b6.ap_in1k",
          "tf_efficientnet_b6.ns_jft_in1k",
          "tf_efficientnet_b6.aa_in1k",
          "tf_efficientnet_b7.ra_in1k",
          "tf_efficientnet_b7.ns_jft_in1k",
          "tf_efficientnet_b7.ap_in1k",
          "tf_efficientnet_b7.aa_in1k",
          "tf_efficientnet_b8.ra_in1k",
          "tf_efficientnet_b8.ap_in1k",
          "tf_efficientnet_cc_b0_4e.in1k",
          "tf_efficientnet_cc_b0_8e.in1k",
          "tf_efficientnet_cc_b1_8e.in1k",
          "tf_efficientnet_el.in1k",
          "tf_efficientnet_em.in1k",
          "tf_efficientnet_es.in1k",
          "tf_efficientnet_lite0.in1k",
          "tf_efficientnet_lite1.in1k",
          "tf_efficientnet_lite2.in1k",
          "tf_efficientnet_lite3.in1k",
          "tf_efficientnet_lite4.in1k",
          "tf_efficientnetv2_b0.in1k",
          "tf_efficientnetv2_b1.in1k",
          "tf_efficientnetv2_b2.in1k",
          "tf_efficientnetv2_b3.in1k",
          "tf_efficientnetv2_b3.in21k_ft_in1k",
          "tf_efficientnetv2_l.in1k",
          "tf_efficientnetv2_l.in21k_ft_in1k",
          "tf_efficientnetv2_m.in1k",
          "tf_efficientnetv2_m.in21k_ft_in1k",
          "tf_efficientnetv2_s.in1k",
          "tf_efficientnetv2_s.in21k_ft_in1k",
          "tf_mixnet_l.in1k",
          "tf_mixnet_m.in1k",
          "tf_mixnet_s.in1k",
          "tf_mobilenetv3_large_075.in1k",
          "tf_mobilenetv3_large_100.in1k",
          "tf_mobilenetv3_large_minimal_100.in1k",
          "tf_mobilenetv3_small_075.in1k",
          "tf_mobilenetv3_small_100.in1k",
          "tf_mobilenetv3_small_minimal_100.in1k"
         ],
         "legendgroup": "tf",
         "marker": {
          "color": "#ab63fa",
          "size": [
           50176,
           50176,
           50176,
           50176,
           57600,
           57600,
           57600,
           57600,
           67600,
           67600,
           67600,
           67600,
           90000,
           90000,
           90000,
           90000,
           144400,
           144400,
           144400,
           144400,
           207936,
           207936,
           207936,
           207936,
           207936,
           278784,
           278784,
           278784,
           360000,
           360000,
           360000,
           360000,
           451584,
           451584,
           50176,
           50176,
           57600,
           90000,
           57600,
           50176,
           50176,
           57600,
           67600,
           90000,
           144400,
           50176,
           57600,
           67600,
           90000,
           90000,
           230400,
           230400,
           230400,
           230400,
           147456,
           147456,
           50176,
           50176,
           50176,
           50176,
           50176,
           50176,
           50176,
           50176,
           50176
          ],
          "sizemode": "area",
          "sizeref": 1128.96,
          "symbol": "circle"
         },
         "mode": "markers",
         "name": "tf",
         "orientation": "v",
         "showlegend": true,
         "type": "scatter",
         "x": [
          0.00014673385120600552,
          0.00014673385120600552,
          0.00014673385120600552,
          0.00014673385120600552,
          0.0002344050331448717,
          0.0002344050331448717,
          0.0002344050331448717,
          0.0002344050331448717,
          0.00030183394303789825,
          0.00030183394303789825,
          0.00030183394303789825,
          0.00030183394303789825,
          0.0005283960010990636,
          0.0005283960010990636,
          0.0005283960010990636,
          0.0005283960010990636,
          0.0010800652359402507,
          0.0010800652359402507,
          0.0010800652359402507,
          0.0010800652359402507,
          0.0022360859551441158,
          0.0022360859551441158,
          0.0022360859551441158,
          0.0022360859551441158,
          0.0022360859551441158,
          0.0038898397386027696,
          0.0038898397386027696,
          0.0038898397386027696,
          0.006411900487304436,
          0.006411900487304436,
          0.006411900487304436,
          0.006411900487304436,
          0.010393929944912172,
          0.010393929944912172,
          0.009498480243161094,
          0.009521995810321844,
          0.013651877133105802,
          0.0006827383268814562,
          0.0003017802014081064,
          0.00018434640902412541,
          0.00012797673894792883,
          0.0001865553304454568,
          0.00024070227295156348,
          0.00040939479167946026,
          0.0008456945689494782,
          0.00010809981071723145,
          0.00016888867871631092,
          0.0002271137476493727,
          0.0004005046358411599,
          0.0004005046358411599,
          0.005383580080753701,
          0.005383580080753701,
          0.0027831120759232975,
          0.0027831120759232975,
          0.000889948916932168,
          0.000889948916932168,
          0.0009084797499863728,
          0.0007075938977102261,
          0.000366477564243517,
          0.00008505455399092978,
          0.00009399750718610942,
          0.0000886532682027323,
          0.000032788390286767265,
          0.00003512928278651092,
          0.00003215692579789372
         ],
         "xaxis": "x",
         "y": [
          76.844,
          77.09,
          76.53,
          78.668,
          81.388,
          78.562,
          79.276,
          78.828,
          82.378,
          79.608,
          80.31,
          80.084,
          84.052,
          80.874,
          81.82,
          81.64,
          83.25,
          82.608,
          85.16,
          83.018,
          83.688,
          84.258,
          83.176,
          86.088,
          83.814,
          84.788,
          86.458,
          84.112,
          84.932,
          86.84,
          85.124,
          84.416,
          85.368,
          85.364,
          77.302,
          77.904,
          79.302,
          80.248,
          78.126,
          76.598,
          74.832,
          76.644,
          77.462,
          79.806,
          81.53,
          78.358,
          79.46,
          80.196,
          81.972,
          82.67,
          85.664,
          86.802,
          85.204,
          85.992,
          83.898,
          84.286,
          78.776,
          76.954,
          75.652,
          73.43,
          75.516,
          72.264,
          65.726,
          67.922,
          62.894
         ],
         "yaxis": "y"
        },
        {
         "hovertemplate": "<b>OLS trendline</b><br>top1 = 5.37781 * log10(secs) + 97.3515<br>R<sup>2</sup>=0.574218<br><br>family=tf<br>secs=%{x}<br>top1=%{y} <b>(trend)</b><extra></extra>",
         "legendgroup": "tf",
         "marker": {
          "color": "#ab63fa",
          "symbol": "circle"
         },
         "mode": "lines",
         "name": "tf",
         "showlegend": false,
         "type": "scatter",
         "x": [
          0.00003215692579789372,
          0.000032788390286767265,
          0.00003512928278651092,
          0.00008505455399092978,
          0.0000886532682027323,
          0.00009399750718610942,
          0.00010809981071723145,
          0.00012797673894792883,
          0.00014673385120600552,
          0.00014673385120600552,
          0.00014673385120600552,
          0.00014673385120600552,
          0.00016888867871631092,
          0.00018434640902412541,
          0.0001865553304454568,
          0.0002271137476493727,
          0.0002344050331448717,
          0.0002344050331448717,
          0.0002344050331448717,
          0.0002344050331448717,
          0.00024070227295156348,
          0.0003017802014081064,
          0.00030183394303789825,
          0.00030183394303789825,
          0.00030183394303789825,
          0.00030183394303789825,
          0.000366477564243517,
          0.0004005046358411599,
          0.0004005046358411599,
          0.00040939479167946026,
          0.0005283960010990636,
          0.0005283960010990636,
          0.0005283960010990636,
          0.0005283960010990636,
          0.0006827383268814562,
          0.0007075938977102261,
          0.0008456945689494782,
          0.000889948916932168,
          0.000889948916932168,
          0.0009084797499863728,
          0.0010800652359402507,
          0.0010800652359402507,
          0.0010800652359402507,
          0.0010800652359402507,
          0.0022360859551441158,
          0.0022360859551441158,
          0.0022360859551441158,
          0.0022360859551441158,
          0.0022360859551441158,
          0.0027831120759232975,
          0.0027831120759232975,
          0.0038898397386027696,
          0.0038898397386027696,
          0.0038898397386027696,
          0.005383580080753701,
          0.005383580080753701,
          0.006411900487304436,
          0.006411900487304436,
          0.006411900487304436,
          0.006411900487304436,
          0.009498480243161094,
          0.009521995810321844,
          0.010393929944912172,
          0.010393929944912172,
          0.013651877133105802
         ],
         "xaxis": "x",
         "y": [
          73.19050203002897,
          73.23592074572515,
          73.39698189705386,
          75.46221451369448,
          75.55899999033512,
          75.69571254425848,
          76.02219207432576,
          76.41641866017252,
          76.73585690882099,
          76.73585690882099,
          76.73585690882099,
          76.73585690882099,
          77.0642811883101,
          77.26882173228296,
          77.29664105784904,
          77.75609867003693,
          77.82990114507837,
          77.82990114507837,
          77.82990114507837,
          77.82990114507837,
          77.89181730633405,
          78.41997536885458,
          78.42039125216439,
          78.42039125216439,
          78.42039125216439,
          78.42039125216439,
          78.87362971312098,
          79.08099904624034,
          79.08099904624034,
          79.13227524135061,
          79.72822955333103,
          79.72822955333103,
          79.72822955333103,
          79.72822955333103,
          80.32675205298939,
          80.4102684003562,
          80.8266696306948,
          80.94579647294239,
          80.94579647294239,
          80.99392883368006,
          81.39798945319538,
          81.39798945319538,
          81.39798945319538,
          81.39798945319538,
          83.09758568270779,
          83.09758568270779,
          83.09758568270779,
          83.09758568270779,
          83.09758568270779,
          83.60870494465692,
          83.60870494465692,
          84.39064451441197,
          84.39064451441197,
          84.39064451441197,
          85.14966629293012,
          85.14966629293012,
          85.55792622983861,
          85.55792622983861,
          85.55792622983861,
          85.55792622983861,
          86.47574345569934,
          86.48151848726229,
          86.68615397744173,
          86.68615397744173,
          87.32295481067577
         ],
         "yaxis": "y"
        },
        {
         "customdata": [
          [
           192
          ],
          [
           188
          ],
          [
           184
          ],
          [
           152
          ],
          [
           106
          ]
         ],
         "hovertemplate": "<b>%{hovertext}</b><br><br>family=tinynet<br>secs=%{x}<br>top1=%{y}<br>size=%{marker.size}<br>infer_img_size=%{customdata[0]}<extra></extra>",
         "hovertext": [
          "tinynet_a.in1k",
          "tinynet_b.in1k",
          "tinynet_c.in1k",
          "tinynet_d.in1k",
          "tinynet_e.in1k"
         ],
         "legendgroup": "tinynet",
         "marker": {
          "color": "#FFA15A",
          "size": [
           36864,
           35344,
           33856,
           23104,
           11236
          ],
          "sizemode": "area",
          "sizeref": 1128.96,
          "symbol": "circle"
         },
         "mode": "markers",
         "name": "tinynet",
         "orientation": "v",
         "showlegend": true,
         "type": "scatter",
         "x": [
          0.00010624305436032121,
          0.00008536181458730977,
          0.00005686060111890291,
          0.000028888759210458656,
          0.00001464156068494978
         ],
         "xaxis": "x",
         "y": [
          77.648,
          74.978,
          71.242,
          66.972,
          59.866
         ],
         "yaxis": "y"
        },
        {
         "hovertemplate": "<b>OLS trendline</b><br>top1 = 19.732 * log10(secs) + 155.625<br>R<sup>2</sup>=0.991495<br><br>family=tinynet<br>secs=%{x}<br>top1=%{y} <b>(trend)</b><extra></extra>",
         "legendgroup": "tinynet",
         "marker": {
          "color": "#FFA15A",
          "symbol": "circle"
         },
         "mode": "lines",
         "name": "tinynet",
         "showlegend": false,
         "type": "scatter",
         "x": [
          0.00001464156068494978,
          0.000028888759210458656,
          0.00005686060111890291,
          0.00008536181458730977,
          0.00010624305436032121
         ],
         "xaxis": "x",
         "y": [
          60.23276831703984,
          66.05649368973452,
          71.85932369757418,
          75.34107413703849,
          77.21634015861329
         ],
         "yaxis": "y"
        },
        {
         "customdata": [
          [
           224
          ]
         ],
         "hovertemplate": "<b>%{hovertext}</b><br><br>family=tnt<br>secs=%{x}<br>top1=%{y}<br>size=%{marker.size}<br>infer_img_size=%{customdata[0]}<extra></extra>",
         "hovertext": [
          "tnt_s_patch16_224"
         ],
         "legendgroup": "tnt",
         "marker": {
          "color": "#19d3f3",
          "size": [
           50176
          ],
          "sizemode": "area",
          "sizeref": 1128.96,
          "symbol": "circle"
         },
         "mode": "markers",
         "name": "tnt",
         "orientation": "v",
         "showlegend": true,
         "type": "scatter",
         "x": [
          0.0009490097083693166
         ],
         "xaxis": "x",
         "y": [
          81.536
         ],
         "yaxis": "y"
        },
        {
         "hovertemplate": "family=tnt<extra></extra>",
         "legendgroup": "tnt",
         "marker": {
          "color": "#19d3f3",
          "symbol": "circle"
         },
         "mode": "lines",
         "name": "tnt",
         "showlegend": false,
         "type": "scatter",
         "xaxis": "x",
         "yaxis": "y"
        },
        {
         "customdata": [
          [
           224
          ],
          [
           224
          ],
          [
           224
          ],
          [
           224
          ],
          [
           224
          ],
          [
           224
          ],
          [
           224
          ]
         ],
         "hovertemplate": "<b>%{hovertext}</b><br><br>family=tresnet<br>secs=%{x}<br>top1=%{y}<br>size=%{marker.size}<br>infer_img_size=%{customdata[0]}<extra></extra>",
         "hovertext": [
          "tresnet_l.miil_in1k_448",
          "tresnet_l.miil_in1k",
          "tresnet_m.miil_in1k",
          "tresnet_m.miil_in1k_448",
          "tresnet_m.miil_in21k_ft_in1k",
          "tresnet_xl.miil_in1k_448",
          "tresnet_xl.miil_in1k"
         ],
         "legendgroup": "tresnet",
         "marker": {
          "color": "#FF6692",
          "size": [
           50176,
           50176,
           50176,
           50176,
           50176,
           50176,
           50176
          ],
          "sizemode": "area",
          "sizeref": 1128.96,
          "symbol": "circle"
         },
         "mode": "markers",
         "name": "tresnet",
         "orientation": "v",
         "showlegend": true,
         "type": "scatter",
         "x": [
          0.0015653371736271992,
          0.0015653371736271992,
          0.0007792592361700967,
          0.0007792592361700967,
          0.0007792592361700967,
          0.002119137934688169,
          0.002119137934688169
         ],
         "xaxis": "x",
         "y": [
          82.276,
          81.48,
          80.798,
          81.71,
          83.07,
          83.058,
          82.074
         ],
         "yaxis": "y"
        },
        {
         "hovertemplate": "<b>OLS trendline</b><br>top1 = 1.27716 * log10(secs) + 85.7673<br>R<sup>2</sup>=0.099255<br><br>family=tresnet<br>secs=%{x}<br>top1=%{y} <b>(trend)</b><extra></extra>",
         "legendgroup": "tresnet",
         "marker": {
          "color": "#FF6692",
          "symbol": "circle"
         },
         "mode": "lines",
         "name": "tresnet",
         "showlegend": false,
         "type": "scatter",
         "x": [
          0.0007792592361700967,
          0.0007792592361700967,
          0.0007792592361700967,
          0.0015653371736271992,
          0.0015653371736271992,
          0.002119137934688169,
          0.002119137934688169
         ],
         "xaxis": "x",
         "y": [
          81.79749015368093,
          81.79749015368093,
          81.79749015368093,
          82.18437610819907,
          82.18437610819907,
          82.35238866127918,
          82.35238866127918
         ],
         "yaxis": "y"
        },
        {
         "customdata": [
          [
           224
          ],
          [
           224
          ],
          [
           224
          ],
          [
           224
          ],
          [
           224
          ],
          [
           224
          ]
         ],
         "hovertemplate": "<b>%{hovertext}</b><br><br>family=twins<br>secs=%{x}<br>top1=%{y}<br>size=%{marker.size}<br>infer_img_size=%{customdata[0]}<extra></extra>",
         "hovertext": [
          "twins_pcpvt_base.in1k",
          "twins_pcpvt_large.in1k",
          "twins_pcpvt_small.in1k",
          "twins_svt_base.in1k",
          "twins_svt_large.in1k",
          "twins_svt_small.in1k"
         ],
         "legendgroup": "twins",
         "marker": {
          "color": "#B6E880",
          "size": [
           50176,
           50176,
           50176,
           50176,
           50176,
           50176
          ],
          "sizemode": "area",
          "sizeref": 1128.96,
          "symbol": "circle"
         },
         "mode": "markers",
         "name": "twins",
         "orientation": "v",
         "showlegend": true,
         "type": "scatter",
         "x": [
          0.0007115817038112316,
          0.0010004401936852215,
          0.0004881358579719907,
          0.0008002560819462229,
          0.0011304672221028951,
          0.0004018759569671225
         ],
         "xaxis": "x",
         "y": [
          82.714,
          83.13,
          81.092,
          83.12,
          83.678,
          81.676
         ],
         "yaxis": "y"
        },
        {
         "hovertemplate": "<b>OLS trendline</b><br>top1 = 5.20326 * log10(secs) + 98.9573<br>R<sup>2</sup>=0.855792<br><br>family=twins<br>secs=%{x}<br>top1=%{y} <b>(trend)</b><extra></extra>",
         "legendgroup": "twins",
         "marker": {
          "color": "#B6E880",
          "symbol": "circle"
         },
         "mode": "lines",
         "name": "twins",
         "showlegend": false,
         "type": "scatter",
         "x": [
          0.0004018759569671225,
          0.0004881358579719907,
          0.0007115817038112316,
          0.0008002560819462229,
          0.0010004401936852215,
          0.0011304672221028951
         ],
         "xaxis": "x",
         "y": [
          81.28747779732784,
          81.72688651947828,
          82.57857772478238,
          82.84396604152688,
          83.34848559078867,
          83.62460632609628
         ],
         "yaxis": "y"
        },
        {
         "customdata": [
          [
           224
          ],
          [
           224
          ],
          [
           224
          ],
          [
           224
          ],
          [
           224
          ],
          [
           224
          ],
          [
           224
          ]
         ],
         "hovertemplate": "<b>%{hovertext}</b><br><br>family=vgg<br>secs=%{x}<br>top1=%{y}<br>size=%{marker.size}<br>infer_img_size=%{customdata[0]}<extra></extra>",
         "hovertext": [
          "vgg11_bn.tv_in1k",
          "vgg13.tv_in1k",
          "vgg13_bn.tv_in1k",
          "vgg16.tv_in1k",
          "vgg16_bn.tv_in1k",
          "vgg19.tv_in1k",
          "vgg19_bn.tv_in1k"
         ],
         "legendgroup": "vgg",
         "marker": {
          "color": "#FF97FF",
          "size": [
           50176,
           50176,
           50176,
           50176,
           50176,
           50176,
           50176
          ],
          "sizemode": "area",
          "sizeref": 1128.96,
          "symbol": "circle"
         },
         "mode": "markers",
         "name": "vgg",
         "orientation": "v",
         "showlegend": true,
         "type": "scatter",
         "x": [
          0.0003856239395341663,
          0.000495051955702751,
          0.000609002271578473,
          0.00061273383454961,
          0.0007335465508641178,
          0.0007314379338341244,
          0.0008591212907438273
         ],
         "xaxis": "x",
         "y": [
          70.382,
          69.932,
          71.588,
          71.592,
          73.37,
          72.378,
          74.216
         ],
         "yaxis": "y"
        },
        {
         "hovertemplate": "<b>OLS trendline</b><br>top1 = 11.8636 * log10(secs) + 110.028<br>R<sup>2</sup>=0.823327<br><br>family=vgg<br>secs=%{x}<br>top1=%{y} <b>(trend)</b><extra></extra>",
         "legendgroup": "vgg",
         "marker": {
          "color": "#FF97FF",
          "symbol": "circle"
         },
         "mode": "lines",
         "name": "vgg",
         "showlegend": false,
         "type": "scatter",
         "x": [
          0.0003856239395341663,
          0.000495051955702751,
          0.000609002271578473,
          0.00061273383454961,
          0.0007314379338341244,
          0.0007335465508641178,
          0.0008591212907438273
         ],
         "xaxis": "x",
         "y": [
          69.52744196709094,
          70.81449063233089,
          71.88184049620666,
          71.9133141467918,
          72.82569499432967,
          72.8405269147614,
          73.65469084848863
         ],
         "yaxis": "y"
        },
        {
         "customdata": [
          [
           224
          ],
          [
           224
          ]
         ],
         "hovertemplate": "<b>%{hovertext}</b><br><br>family=visformer<br>secs=%{x}<br>top1=%{y}<br>size=%{marker.size}<br>infer_img_size=%{customdata[0]}<extra></extra>",
         "hovertext": [
          "visformer_small.in1k",
          "visformer_tiny.in1k"
         ],
         "legendgroup": "visformer",
         "marker": {
          "color": "#FECB52",
          "size": [
           50176,
           50176
          ],
          "sizemode": "area",
          "sizeref": 1128.96,
          "symbol": "circle"
         },
         "mode": "markers",
         "name": "visformer",
         "orientation": "v",
         "showlegend": true,
         "type": "scatter",
         "x": [
          0.0006422030132165379,
          0.0002121237190378917
         ],
         "xaxis": "x",
         "y": [
          82.106,
          78.16
         ],
         "yaxis": "y"
        },
        {
         "hovertemplate": "<b>OLS trendline</b><br>top1 = 8.20233 * log10(secs) + 108.291<br>R<sup>2</sup>=1.000000<br><br>family=visformer<br>secs=%{x}<br>top1=%{y} <b>(trend)</b><extra></extra>",
         "legendgroup": "visformer",
         "marker": {
          "color": "#FECB52",
          "symbol": "circle"
         },
         "mode": "lines",
         "name": "visformer",
         "showlegend": false,
         "type": "scatter",
         "x": [
          0.0002121237190378917,
          0.0006422030132165379
         ],
         "xaxis": "x",
         "y": [
          78.16000000000007,
          82.10600000000008
         ],
         "yaxis": "y"
        },
        {
         "customdata": [
          [
           224
          ],
          [
           224
          ],
          [
           224
          ],
          [
           224
          ],
          [
           224
          ],
          [
           224
          ],
          [
           384
          ],
          [
           384
          ],
          [
           384
          ],
          [
           224
          ],
          [
           224
          ],
          [
           224
          ],
          [
           384
          ],
          [
           384
          ],
          [
           224
          ],
          [
           224
          ],
          [
           384
          ],
          [
           224
          ],
          [
           384
          ],
          [
           384
          ],
          [
           224
          ],
          [
           384
          ],
          [
           224
          ],
          [
           224
          ],
          [
           384
          ],
          [
           384
          ],
          [
           224
          ],
          [
           384
          ],
          [
           224
          ],
          [
           384
          ],
          [
           224
          ],
          [
           384
          ],
          [
           224
          ],
          [
           384
          ]
         ],
         "hovertemplate": "<b>%{hovertext}</b><br><br>family=vit<br>secs=%{x}<br>top1=%{y}<br>size=%{marker.size}<br>infer_img_size=%{customdata[0]}<extra></extra>",
         "hovertext": [
          "vit_base_patch16_224.sam_in1k",
          "vit_base_patch16_224.orig_in21k_ft_in1k",
          "vit_base_patch16_224.augreg_in1k",
          "vit_base_patch16_224.augreg2_in21k_ft_in1k",
          "vit_base_patch16_224.augreg_in21k_ft_in1k",
          "vit_base_patch16_224_miil.in21k_ft_in1k",
          "vit_base_patch16_384.orig_in21k_ft_in1k",
          "vit_base_patch16_384.augreg_in21k_ft_in1k",
          "vit_base_patch16_384.augreg_in1k",
          "vit_base_patch32_224.sam_in1k",
          "vit_base_patch32_224.augreg_in21k_ft_in1k",
          "vit_base_patch32_224.augreg_in1k",
          "vit_base_patch32_384.augreg_in21k_ft_in1k",
          "vit_base_patch32_384.augreg_in1k",
          "vit_base_patch8_224.augreg_in21k_ft_in1k",
          "vit_base_patch8_224.augreg2_in21k_ft_in1k",
          "vit_base_r50_s16_384.orig_in21k_ft_in1k",
          "vit_large_patch16_224.augreg_in21k_ft_in1k",
          "vit_large_patch16_384.augreg_in21k_ft_in1k",
          "vit_large_patch32_384.orig_in21k_ft_in1k",
          "vit_large_r50_s32_224.augreg_in21k_ft_in1k",
          "vit_large_r50_s32_384.augreg_in21k_ft_in1k",
          "vit_small_patch16_224.augreg_in1k",
          "vit_small_patch16_224.augreg_in21k_ft_in1k",
          "vit_small_patch16_384.augreg_in1k",
          "vit_small_patch16_384.augreg_in21k_ft_in1k",
          "vit_small_patch32_224.augreg_in21k_ft_in1k",
          "vit_small_patch32_384.augreg_in21k_ft_in1k",
          "vit_small_r26_s32_224.augreg_in21k_ft_in1k",
          "vit_small_r26_s32_384.augreg_in21k_ft_in1k",
          "vit_tiny_patch16_224.augreg_in21k_ft_in1k",
          "vit_tiny_patch16_384.augreg_in21k_ft_in1k",
          "vit_tiny_r_s16_p8_224.augreg_in21k_ft_in1k",
          "vit_tiny_r_s16_p8_384.augreg_in21k_ft_in1k"
         ],
         "legendgroup": "vit",
         "marker": {
          "color": "#636efa",
          "size": [
           50176,
           50176,
           50176,
           50176,
           50176,
           50176,
           147456,
           147456,
           147456,
           50176,
           50176,
           50176,
           147456,
           147456,
           50176,
           50176,
           147456,
           50176,
           147456,
           147456,
           50176,
           147456,
           50176,
           50176,
           147456,
           147456,
           50176,
           147456,
           50176,
           147456,
           50176,
           147456,
           50176,
           147456
          ],
          "sizemode": "area",
          "sizeref": 1128.96,
          "symbol": "circle"
         },
         "mode": "markers",
         "name": "vit",
         "orientation": "v",
         "showlegend": true,
         "type": "scatter",
         "x": [
          0.0009315670821455853,
          0.0009315670821455853,
          0.0009315670821455853,
          0.0009315670821455853,
          0.0009315670821455853,
          0.0009018027036045053,
          0.0036026948157221604,
          0.0036026948157221604,
          0.0036026948157221604,
          0.00023169601482854495,
          0.00023169601482854495,
          0.00023169601482854495,
          0.0007257578726585237,
          0.0007257578726585237,
          0.005465078150617554,
          0.005465078150617554,
          0.005822416302765648,
          0.0028202380280895707,
          0.010594342621040365,
          0.002085723224528105,
          0.0013855980934170233,
          0.004231729507849859,
          0.0003523347461956656,
          0.0003523347461956656,
          0.0014628865677755345,
          0.0014628865677755345,
          0.0000826542597112556,
          0.0002629917946560067,
          0.0005623284898106078,
          0.0017152952880838436,
          0.0001606500543800434,
          0.0006846126461648,
          0.00010105327831992861,
          0.0003702675182819587
         ],
         "xaxis": "x",
         "y": [
          80.238,
          81.79,
          79.154,
          85.094,
          84.532,
          84.266,
          84.2,
          85.994,
          81.102,
          73.694,
          80.716,
          74.894,
          83.352,
          78.756,
          85.798,
          86.218,
          84.976,
          85.836,
          87.084,
          81.51,
          84.418,
          86.182,
          78.848,
          81.386,
          81.116,
          83.804,
          75.994,
          80.486,
          81.864,
          84.048,
          75.462,
          78.424,
          71.798,
          75.96
         ],
         "yaxis": "y"
        },
        {
         "hovertemplate": "<b>OLS trendline</b><br>top1 = 6.24606 * log10(secs) + 100.28<br>R<sup>2</sup>=0.695873<br><br>family=vit<br>secs=%{x}<br>top1=%{y} <b>(trend)</b><extra></extra>",
         "legendgroup": "vit",
         "marker": {
          "color": "#636efa",
          "symbol": "circle"
         },
         "mode": "lines",
         "name": "vit",
         "showlegend": false,
         "type": "scatter",
         "x": [
          0.0000826542597112556,
          0.00010105327831992861,
          0.0001606500543800434,
          0.00023169601482854495,
          0.00023169601482854495,
          0.00023169601482854495,
          0.0002629917946560067,
          0.0003523347461956656,
          0.0003523347461956656,
          0.0003702675182819587,
          0.0005623284898106078,
          0.0006846126461648,
          0.0007257578726585237,
          0.0007257578726585237,
          0.0009018027036045053,
          0.0009315670821455853,
          0.0009315670821455853,
          0.0009315670821455853,
          0.0009315670821455853,
          0.0009315670821455853,
          0.0013855980934170233,
          0.0014628865677755345,
          0.0014628865677755345,
          0.0017152952880838436,
          0.002085723224528105,
          0.0028202380280895707,
          0.0036026948157221604,
          0.0036026948157221604,
          0.0036026948157221604,
          0.004231729507849859,
          0.005465078150617554,
          0.005465078150617554,
          0.005822416302765648,
          0.010594342621040365
         ],
         "xaxis": "x",
         "y": [
          74.77908307230479,
          75.32427108404057,
          76.58179240808397,
          77.57515065729277,
          77.57515065729277,
          77.57515065729277,
          77.91883134363717,
          78.71216333420347,
          78.71216333420347,
          78.84682917619351,
          79.98032883280412,
          80.51408445933582,
          80.6724022232033,
          80.6724022232033,
          81.26152880511523,
          81.34961443570934,
          81.34961443570934,
          81.34961443570934,
          81.34961443570934,
          81.34961443570934,
          82.42657898897804,
          82.57381960280489,
          82.57381960280489,
          83.00559845390575,
          83.53599965138085,
          84.35441462659453,
          85.01863087034897,
          85.01863087034897,
          85.01863087034897,
          85.45517035792577,
          86.1489727099665,
          86.1489727099665,
          86.3207821986549,
          87.94457403921696
         ],
         "yaxis": "y"
        },
        {
         "customdata": [
          [
           224
          ],
          [
           384
          ],
          [
           224
          ],
          [
           384
          ],
          [
           224
          ],
          [
           448
          ],
          [
           224
          ],
          [
           448
          ],
          [
           224
          ],
          [
           448
          ],
          [
           512
          ]
         ],
         "hovertemplate": "<b>%{hovertext}</b><br><br>family=volo<br>secs=%{x}<br>top1=%{y}<br>size=%{marker.size}<br>infer_img_size=%{customdata[0]}<extra></extra>",
         "hovertext": [
          "volo_d1_224.sail_in1k",
          "volo_d1_384.sail_in1k",
          "volo_d2_224.sail_in1k",
          "volo_d2_384.sail_in1k",
          "volo_d3_224.sail_in1k",
          "volo_d3_448.sail_in1k",
          "volo_d4_224.sail_in1k",
          "volo_d4_448.sail_in1k",
          "volo_d5_224.sail_in1k",
          "volo_d5_448.sail_in1k",
          "volo_d5_512.sail_in1k"
         ],
         "legendgroup": "volo",
         "marker": {
          "color": "#EF553B",
          "size": [
           50176,
           147456,
           50176,
           147456,
           50176,
           200704,
           50176,
           200704,
           50176,
           200704,
           262144
          ],
          "sizemode": "area",
          "sizeref": 1128.96,
          "symbol": "circle"
         },
         "mode": "markers",
         "name": "volo",
         "orientation": "v",
         "showlegend": true,
         "type": "scatter",
         "x": [
          0.000811312947743333,
          0.003225182222795588,
          0.0014757969303423849,
          0.005752085130859937,
          0.002112557039040054,
          0.013189132155104196,
          0.0033000033000033,
          0.01792114695340502,
          0.005011275369581558,
          0.025980774227071967,
          0.03717472118959108
         ],
         "xaxis": "x",
         "y": [
          84.162,
          85.244,
          85.202,
          86.042,
          85.414,
          86.502,
          85.872,
          86.792,
          86.07,
          86.952,
          87.058
         ],
         "yaxis": "y"
        },
        {
         "hovertemplate": "<b>OLS trendline</b><br>top1 = 1.60021 * log10(secs) + 89.538<br>R<sup>2</sup>=0.932164<br><br>family=volo<br>secs=%{x}<br>top1=%{y} <b>(trend)</b><extra></extra>",
         "legendgroup": "volo",
         "marker": {
          "color": "#EF553B",
          "symbol": "circle"
         },
         "mode": "lines",
         "name": "volo",
         "showlegend": false,
         "type": "scatter",
         "x": [
          0.000811312947743333,
          0.0014757969303423849,
          0.002112557039040054,
          0.003225182222795588,
          0.0033000033000033,
          0.005011275369581558,
          0.005752085130859937,
          0.013189132155104196,
          0.01792114695340502,
          0.025980774227071967,
          0.03717472118959108
         ],
         "xaxis": "x",
         "y": [
          84.59203409094015,
          85.00783097991089,
          85.25711536508048,
          85.55114810890917,
          85.56708643389831,
          85.85741960967697,
          85.95323572199456,
          86.5299385458993,
          86.74300645708051,
          87.00109913867468,
          87.25008554793479
         ],
         "yaxis": "y"
        },
        {
         "customdata": [
          [
           224
          ],
          [
           224
          ],
          [
           224
          ],
          [
           224
          ],
          [
           224
          ]
         ],
         "hovertemplate": "<b>%{hovertext}</b><br><br>family=wide<br>secs=%{x}<br>top1=%{y}<br>size=%{marker.size}<br>infer_img_size=%{customdata[0]}<extra></extra>",
         "hovertext": [
          "wide_resnet101_2.tv_in1k",
          "wide_resnet101_2.tv2_in1k",
          "wide_resnet50_2.tv2_in1k",
          "wide_resnet50_2.tv_in1k",
          "wide_resnet50_2.racm_in1k"
         ],
         "legendgroup": "wide",
         "marker": {
          "color": "#00cc96",
          "size": [
           50176,
           50176,
           50176,
           50176,
           50176
          ],
          "sizemode": "area",
          "sizeref": 1128.96,
          "symbol": "circle"
         },
         "mode": "markers",
         "name": "wide",
         "orientation": "v",
         "showlegend": true,
         "type": "scatter",
         "x": [
          0.000888320363856021,
          0.000888320363856021,
          0.0004997326430359757,
          0.0004997326430359757,
          0.0004997326430359757
         ],
         "xaxis": "x",
         "y": [
          78.842,
          82.502,
          81.606,
          78.476,
          82.28
         ],
         "yaxis": "y"
        },
        {
         "hovertemplate": "<b>OLS trendline</b><br>top1 = -0.461644 * log10(secs) + 79.2633<br>R<sup>2</sup>=0.001067<br><br>family=wide<br>secs=%{x}<br>top1=%{y} <b>(trend)</b><extra></extra>",
         "legendgroup": "wide",
         "marker": {
          "color": "#00cc96",
          "symbol": "circle"
         },
         "mode": "lines",
         "name": "wide",
         "showlegend": false,
         "type": "scatter",
         "x": [
          0.0004997326430359757,
          0.0004997326430359757,
          0.0004997326430359757,
          0.000888320363856021,
          0.000888320363856021
         ],
         "xaxis": "x",
         "y": [
          80.78733333333331,
          80.78733333333331,
          80.78733333333331,
          80.67199999999998,
          80.67199999999998
         ],
         "yaxis": "y"
        },
        {
         "customdata": [
          [
           299
          ],
          [
           299
          ],
          [
           299
          ],
          [
           299
          ],
          [
           299
          ],
          [
           299
          ]
         ],
         "hovertemplate": "<b>%{hovertext}</b><br><br>family=xception<br>secs=%{x}<br>top1=%{y}<br>size=%{marker.size}<br>infer_img_size=%{customdata[0]}<extra></extra>",
         "hovertext": [
          "xception41.tf_in1k",
          "xception41p.ra3_in1k",
          "xception65.ra3_in1k",
          "xception65.tf_in1k",
          "xception65p.ra3_in1k",
          "xception71.tf_in1k"
         ],
         "legendgroup": "xception",
         "marker": {
          "color": "#ab63fa",
          "size": [
           89401,
           89401,
           89401,
           89401,
           89401,
           89401
          ],
          "sizemode": "area",
          "sizeref": 1128.96,
          "symbol": "circle"
         },
         "mode": "markers",
         "name": "xception",
         "orientation": "v",
         "showlegend": true,
         "type": "scatter",
         "x": [
          0.0007475741219741937,
          0.0006430744101399973,
          0.001035432500155315,
          0.001035432500155315,
          0.000896499170738267,
          0.0013491817212860399
         ],
         "xaxis": "x",
         "y": [
          78.504,
          81.972,
          83.18,
          79.556,
          83.126,
          79.874
         ],
         "yaxis": "y"
        },
        {
         "hovertemplate": "<b>OLS trendline</b><br>top1 = -1.53009 * log10(secs) + 76.3927<br>R<sup>2</sup>=0.007728<br><br>family=xception<br>secs=%{x}<br>top1=%{y} <b>(trend)</b><extra></extra>",
         "legendgroup": "xception",
         "marker": {
          "color": "#ab63fa",
          "symbol": "circle"
         },
         "mode": "lines",
         "name": "xception",
         "showlegend": false,
         "type": "scatter",
         "x": [
          0.0006430744101399973,
          0.0007475741219741937,
          0.000896499170738267,
          0.001035432500155315,
          0.001035432500155315,
          0.0013491817212860399
         ],
         "xaxis": "x",
         "y": [
          81.27637727853954,
          81.17631976643781,
          81.05560199940065,
          80.95986108418394,
          80.95986108418394,
          80.78397878725379
         ],
         "yaxis": "y"
        },
        {
         "customdata": [
          [
           224
          ],
          [
           224
          ],
          [
           224
          ],
          [
           224
          ],
          [
           224
          ],
          [
           224
          ],
          [
           224
          ],
          [
           224
          ],
          [
           224
          ],
          [
           224
          ],
          [
           224
          ],
          [
           224
          ],
          [
           224
          ],
          [
           224
          ],
          [
           224
          ],
          [
           224
          ],
          [
           224
          ],
          [
           224
          ],
          [
           224
          ],
          [
           224
          ],
          [
           224
          ],
          [
           224
          ],
          [
           224
          ],
          [
           224
          ],
          [
           224
          ],
          [
           224
          ],
          [
           224
          ],
          [
           224
          ]
         ],
         "hovertemplate": "<b>%{hovertext}</b><br><br>family=xcit<br>secs=%{x}<br>top1=%{y}<br>size=%{marker.size}<br>infer_img_size=%{customdata[0]}<extra></extra>",
         "hovertext": [
          "xcit_large_24_p16_224.fb_in1k",
          "xcit_large_24_p16_224.fb_dist_in1k",
          "xcit_large_24_p8_224.fb_dist_in1k",
          "xcit_large_24_p8_224.fb_in1k",
          "xcit_medium_24_p16_224.fb_in1k",
          "xcit_medium_24_p16_224.fb_dist_in1k",
          "xcit_medium_24_p8_224.fb_dist_in1k",
          "xcit_medium_24_p8_224.fb_in1k",
          "xcit_nano_12_p16_224.fb_in1k",
          "xcit_nano_12_p16_224.fb_dist_in1k",
          "xcit_nano_12_p8_224.fb_dist_in1k",
          "xcit_nano_12_p8_224.fb_in1k",
          "xcit_small_12_p16_224.fb_in1k",
          "xcit_small_12_p16_224.fb_dist_in1k",
          "xcit_small_12_p8_224.fb_dist_in1k",
          "xcit_small_12_p8_224.fb_in1k",
          "xcit_small_24_p16_224.fb_dist_in1k",
          "xcit_small_24_p16_224.fb_in1k",
          "xcit_small_24_p8_224.fb_in1k",
          "xcit_small_24_p8_224.fb_dist_in1k",
          "xcit_tiny_12_p16_224.fb_dist_in1k",
          "xcit_tiny_12_p16_224.fb_in1k",
          "xcit_tiny_12_p8_224.fb_dist_in1k",
          "xcit_tiny_12_p8_224.fb_in1k",
          "xcit_tiny_24_p16_224.fb_in1k",
          "xcit_tiny_24_p16_224.fb_dist_in1k",
          "xcit_tiny_24_p8_224.fb_in1k",
          "xcit_tiny_24_p8_224.fb_dist_in1k"
         ],
         "legendgroup": "xcit",
         "marker": {
          "color": "#FFA15A",
          "size": [
           50176,
           50176,
           50176,
           50176,
           50176,
           50176,
           50176,
           50176,
           50176,
           50176,
           50176,
           50176,
           50176,
           50176,
           50176,
           50176,
           50176,
           50176,
           50176,
           50176,
           50176,
           50176,
           50176,
           50176,
           50176,
           50176,
           50176,
           50176
          ],
          "sizemode": "area",
          "sizeref": 1128.96,
          "symbol": "circle"
         },
         "mode": "markers",
         "name": "xcit",
         "orientation": "v",
         "showlegend": true,
         "type": "scatter",
         "x": [
          0.0021555440593205724,
          0.0021555440593205724,
          0.008433125316242199,
          0.008433125316242199,
          0.0012336236460980484,
          0.0012336236460980484,
          0.0048074611797509735,
          0.0048074611797509735,
          0.00013530536391054152,
          0.00013530536391054152,
          0.0005055432820880959,
          0.0005055432820880959,
          0.00045205708576879084,
          0.00045205708576879084,
          0.0017587983889406757,
          0.0017587983889406757,
          0.0008460809530255855,
          0.0008460809530255855,
          0.0033608926530886603,
          0.0033608926530886603,
          0.00020945478918375467,
          0.00020945478918375467,
          0.000793109464968355,
          0.000793109464968355,
          0.00039119345298637076,
          0.00039119345298637076,
          0.0015024715657256185,
          0.0015024715657256185
         ],
         "xaxis": "x",
         "y": [
          82.902,
          84.916,
          85.402,
          84.394,
          82.64,
          84.286,
          85.074,
          83.746,
          69.962,
          72.31,
          76.332,
          73.91,
          81.97,
          83.328,
          84.236,
          83.334,
          83.874,
          82.576,
          83.834,
          84.868,
          78.574,
          77.14,
          81.212,
          79.688,
          79.448,
          80.454,
          81.892,
          82.566
         ],
         "yaxis": "y"
        },
        {
         "hovertemplate": "<b>OLS trendline</b><br>top1 = 6.43167 * log10(secs) + 100.443<br>R<sup>2</sup>=0.641791<br><br>family=xcit<br>secs=%{x}<br>top1=%{y} <b>(trend)</b><extra></extra>",
         "legendgroup": "xcit",
         "marker": {
          "color": "#FFA15A",
          "symbol": "circle"
         },
         "mode": "lines",
         "name": "xcit",
         "showlegend": false,
         "type": "scatter",
         "x": [
          0.00013530536391054152,
          0.00013530536391054152,
          0.00020945478918375467,
          0.00020945478918375467,
          0.00039119345298637076,
          0.00039119345298637076,
          0.00045205708576879084,
          0.00045205708576879084,
          0.0005055432820880959,
          0.0005055432820880959,
          0.000793109464968355,
          0.000793109464968355,
          0.0008460809530255855,
          0.0008460809530255855,
          0.0012336236460980484,
          0.0012336236460980484,
          0.0015024715657256185,
          0.0015024715657256185,
          0.0017587983889406757,
          0.0017587983889406757,
          0.0021555440593205724,
          0.0021555440593205724,
          0.0033608926530886603,
          0.0033608926530886603,
          0.0048074611797509735,
          0.0048074611797509735,
          0.008433125316242199,
          0.008433125316242199
         ],
         "xaxis": "x",
         "y": [
          75.5609714305983,
          75.5609714305983,
          76.78154392487757,
          76.78154392487757,
          78.52646497730208,
          78.52646497730208,
          78.93038497653234,
          78.93038497653234,
          79.2427395638384,
          79.2427395638384,
          80.5006125944434,
          80.5006125944434,
          80.6812061526612,
          80.6812061526612,
          81.73452612270486,
          81.73452612270486,
          82.2852289407664,
          82.2852289407664,
          82.72521836662067,
          82.72521836662067,
          83.29339776783206,
          83.29339776783206,
          84.53405287572537,
          84.53405287572537,
          85.53392807462532,
          85.53392807462532,
          87.1037242314726,
          87.1037242314726
         ],
         "yaxis": "y"
        }
       ],
       "layout": {
        "height": 800,
        "legend": {
         "itemsizing": "constant",
         "title": {
          "text": "family"
         },
         "tracegroupgap": 0
        },
        "template": {
         "data": {
          "bar": [
           {
            "error_x": {
             "color": "#2a3f5f"
            },
            "error_y": {
             "color": "#2a3f5f"
            },
            "marker": {
             "line": {
              "color": "#E5ECF6",
              "width": 0.5
             },
             "pattern": {
              "fillmode": "overlay",
              "size": 10,
              "solidity": 0.2
             }
            },
            "type": "bar"
           }
          ],
          "barpolar": [
           {
            "marker": {
             "line": {
              "color": "#E5ECF6",
              "width": 0.5
             },
             "pattern": {
              "fillmode": "overlay",
              "size": 10,
              "solidity": 0.2
             }
            },
            "type": "barpolar"
           }
          ],
          "carpet": [
           {
            "aaxis": {
             "endlinecolor": "#2a3f5f",
             "gridcolor": "white",
             "linecolor": "white",
             "minorgridcolor": "white",
             "startlinecolor": "#2a3f5f"
            },
            "baxis": {
             "endlinecolor": "#2a3f5f",
             "gridcolor": "white",
             "linecolor": "white",
             "minorgridcolor": "white",
             "startlinecolor": "#2a3f5f"
            },
            "type": "carpet"
           }
          ],
          "choropleth": [
           {
            "colorbar": {
             "outlinewidth": 0,
             "ticks": ""
            },
            "type": "choropleth"
           }
          ],
          "contour": [
           {
            "colorbar": {
             "outlinewidth": 0,
             "ticks": ""
            },
            "colorscale": [
             [
              0,
              "#0d0887"
             ],
             [
              0.1111111111111111,
              "#46039f"
             ],
             [
              0.2222222222222222,
              "#7201a8"
             ],
             [
              0.3333333333333333,
              "#9c179e"
             ],
             [
              0.4444444444444444,
              "#bd3786"
             ],
             [
              0.5555555555555556,
              "#d8576b"
             ],
             [
              0.6666666666666666,
              "#ed7953"
             ],
             [
              0.7777777777777778,
              "#fb9f3a"
             ],
             [
              0.8888888888888888,
              "#fdca26"
             ],
             [
              1,
              "#f0f921"
             ]
            ],
            "type": "contour"
           }
          ],
          "contourcarpet": [
           {
            "colorbar": {
             "outlinewidth": 0,
             "ticks": ""
            },
            "type": "contourcarpet"
           }
          ],
          "heatmap": [
           {
            "colorbar": {
             "outlinewidth": 0,
             "ticks": ""
            },
            "colorscale": [
             [
              0,
              "#0d0887"
             ],
             [
              0.1111111111111111,
              "#46039f"
             ],
             [
              0.2222222222222222,
              "#7201a8"
             ],
             [
              0.3333333333333333,
              "#9c179e"
             ],
             [
              0.4444444444444444,
              "#bd3786"
             ],
             [
              0.5555555555555556,
              "#d8576b"
             ],
             [
              0.6666666666666666,
              "#ed7953"
             ],
             [
              0.7777777777777778,
              "#fb9f3a"
             ],
             [
              0.8888888888888888,
              "#fdca26"
             ],
             [
              1,
              "#f0f921"
             ]
            ],
            "type": "heatmap"
           }
          ],
          "heatmapgl": [
           {
            "colorbar": {
             "outlinewidth": 0,
             "ticks": ""
            },
            "colorscale": [
             [
              0,
              "#0d0887"
             ],
             [
              0.1111111111111111,
              "#46039f"
             ],
             [
              0.2222222222222222,
              "#7201a8"
             ],
             [
              0.3333333333333333,
              "#9c179e"
             ],
             [
              0.4444444444444444,
              "#bd3786"
             ],
             [
              0.5555555555555556,
              "#d8576b"
             ],
             [
              0.6666666666666666,
              "#ed7953"
             ],
             [
              0.7777777777777778,
              "#fb9f3a"
             ],
             [
              0.8888888888888888,
              "#fdca26"
             ],
             [
              1,
              "#f0f921"
             ]
            ],
            "type": "heatmapgl"
           }
          ],
          "histogram": [
           {
            "marker": {
             "pattern": {
              "fillmode": "overlay",
              "size": 10,
              "solidity": 0.2
             }
            },
            "type": "histogram"
           }
          ],
          "histogram2d": [
           {
            "colorbar": {
             "outlinewidth": 0,
             "ticks": ""
            },
            "colorscale": [
             [
              0,
              "#0d0887"
             ],
             [
              0.1111111111111111,
              "#46039f"
             ],
             [
              0.2222222222222222,
              "#7201a8"
             ],
             [
              0.3333333333333333,
              "#9c179e"
             ],
             [
              0.4444444444444444,
              "#bd3786"
             ],
             [
              0.5555555555555556,
              "#d8576b"
             ],
             [
              0.6666666666666666,
              "#ed7953"
             ],
             [
              0.7777777777777778,
              "#fb9f3a"
             ],
             [
              0.8888888888888888,
              "#fdca26"
             ],
             [
              1,
              "#f0f921"
             ]
            ],
            "type": "histogram2d"
           }
          ],
          "histogram2dcontour": [
           {
            "colorbar": {
             "outlinewidth": 0,
             "ticks": ""
            },
            "colorscale": [
             [
              0,
              "#0d0887"
             ],
             [
              0.1111111111111111,
              "#46039f"
             ],
             [
              0.2222222222222222,
              "#7201a8"
             ],
             [
              0.3333333333333333,
              "#9c179e"
             ],
             [
              0.4444444444444444,
              "#bd3786"
             ],
             [
              0.5555555555555556,
              "#d8576b"
             ],
             [
              0.6666666666666666,
              "#ed7953"
             ],
             [
              0.7777777777777778,
              "#fb9f3a"
             ],
             [
              0.8888888888888888,
              "#fdca26"
             ],
             [
              1,
              "#f0f921"
             ]
            ],
            "type": "histogram2dcontour"
           }
          ],
          "mesh3d": [
           {
            "colorbar": {
             "outlinewidth": 0,
             "ticks": ""
            },
            "type": "mesh3d"
           }
          ],
          "parcoords": [
           {
            "line": {
             "colorbar": {
              "outlinewidth": 0,
              "ticks": ""
             }
            },
            "type": "parcoords"
           }
          ],
          "pie": [
           {
            "automargin": true,
            "type": "pie"
           }
          ],
          "scatter": [
           {
            "fillpattern": {
             "fillmode": "overlay",
             "size": 10,
             "solidity": 0.2
            },
            "type": "scatter"
           }
          ],
          "scatter3d": [
           {
            "line": {
             "colorbar": {
              "outlinewidth": 0,
              "ticks": ""
             }
            },
            "marker": {
             "colorbar": {
              "outlinewidth": 0,
              "ticks": ""
             }
            },
            "type": "scatter3d"
           }
          ],
          "scattercarpet": [
           {
            "marker": {
             "colorbar": {
              "outlinewidth": 0,
              "ticks": ""
             }
            },
            "type": "scattercarpet"
           }
          ],
          "scattergeo": [
           {
            "marker": {
             "colorbar": {
              "outlinewidth": 0,
              "ticks": ""
             }
            },
            "type": "scattergeo"
           }
          ],
          "scattergl": [
           {
            "marker": {
             "colorbar": {
              "outlinewidth": 0,
              "ticks": ""
             }
            },
            "type": "scattergl"
           }
          ],
          "scattermapbox": [
           {
            "marker": {
             "colorbar": {
              "outlinewidth": 0,
              "ticks": ""
             }
            },
            "type": "scattermapbox"
           }
          ],
          "scatterpolar": [
           {
            "marker": {
             "colorbar": {
              "outlinewidth": 0,
              "ticks": ""
             }
            },
            "type": "scatterpolar"
           }
          ],
          "scatterpolargl": [
           {
            "marker": {
             "colorbar": {
              "outlinewidth": 0,
              "ticks": ""
             }
            },
            "type": "scatterpolargl"
           }
          ],
          "scatterternary": [
           {
            "marker": {
             "colorbar": {
              "outlinewidth": 0,
              "ticks": ""
             }
            },
            "type": "scatterternary"
           }
          ],
          "surface": [
           {
            "colorbar": {
             "outlinewidth": 0,
             "ticks": ""
            },
            "colorscale": [
             [
              0,
              "#0d0887"
             ],
             [
              0.1111111111111111,
              "#46039f"
             ],
             [
              0.2222222222222222,
              "#7201a8"
             ],
             [
              0.3333333333333333,
              "#9c179e"
             ],
             [
              0.4444444444444444,
              "#bd3786"
             ],
             [
              0.5555555555555556,
              "#d8576b"
             ],
             [
              0.6666666666666666,
              "#ed7953"
             ],
             [
              0.7777777777777778,
              "#fb9f3a"
             ],
             [
              0.8888888888888888,
              "#fdca26"
             ],
             [
              1,
              "#f0f921"
             ]
            ],
            "type": "surface"
           }
          ],
          "table": [
           {
            "cells": {
             "fill": {
              "color": "#EBF0F8"
             },
             "line": {
              "color": "white"
             }
            },
            "header": {
             "fill": {
              "color": "#C8D4E3"
             },
             "line": {
              "color": "white"
             }
            },
            "type": "table"
           }
          ]
         },
         "layout": {
          "annotationdefaults": {
           "arrowcolor": "#2a3f5f",
           "arrowhead": 0,
           "arrowwidth": 1
          },
          "autotypenumbers": "strict",
          "coloraxis": {
           "colorbar": {
            "outlinewidth": 0,
            "ticks": ""
           }
          },
          "colorscale": {
           "diverging": [
            [
             0,
             "#8e0152"
            ],
            [
             0.1,
             "#c51b7d"
            ],
            [
             0.2,
             "#de77ae"
            ],
            [
             0.3,
             "#f1b6da"
            ],
            [
             0.4,
             "#fde0ef"
            ],
            [
             0.5,
             "#f7f7f7"
            ],
            [
             0.6,
             "#e6f5d0"
            ],
            [
             0.7,
             "#b8e186"
            ],
            [
             0.8,
             "#7fbc41"
            ],
            [
             0.9,
             "#4d9221"
            ],
            [
             1,
             "#276419"
            ]
           ],
           "sequential": [
            [
             0,
             "#0d0887"
            ],
            [
             0.1111111111111111,
             "#46039f"
            ],
            [
             0.2222222222222222,
             "#7201a8"
            ],
            [
             0.3333333333333333,
             "#9c179e"
            ],
            [
             0.4444444444444444,
             "#bd3786"
            ],
            [
             0.5555555555555556,
             "#d8576b"
            ],
            [
             0.6666666666666666,
             "#ed7953"
            ],
            [
             0.7777777777777778,
             "#fb9f3a"
            ],
            [
             0.8888888888888888,
             "#fdca26"
            ],
            [
             1,
             "#f0f921"
            ]
           ],
           "sequentialminus": [
            [
             0,
             "#0d0887"
            ],
            [
             0.1111111111111111,
             "#46039f"
            ],
            [
             0.2222222222222222,
             "#7201a8"
            ],
            [
             0.3333333333333333,
             "#9c179e"
            ],
            [
             0.4444444444444444,
             "#bd3786"
            ],
            [
             0.5555555555555556,
             "#d8576b"
            ],
            [
             0.6666666666666666,
             "#ed7953"
            ],
            [
             0.7777777777777778,
             "#fb9f3a"
            ],
            [
             0.8888888888888888,
             "#fdca26"
            ],
            [
             1,
             "#f0f921"
            ]
           ]
          },
          "colorway": [
           "#636efa",
           "#EF553B",
           "#00cc96",
           "#ab63fa",
           "#FFA15A",
           "#19d3f3",
           "#FF6692",
           "#B6E880",
           "#FF97FF",
           "#FECB52"
          ],
          "font": {
           "color": "#2a3f5f"
          },
          "geo": {
           "bgcolor": "white",
           "lakecolor": "white",
           "landcolor": "#E5ECF6",
           "showlakes": true,
           "showland": true,
           "subunitcolor": "white"
          },
          "hoverlabel": {
           "align": "left"
          },
          "hovermode": "closest",
          "mapbox": {
           "style": "light"
          },
          "paper_bgcolor": "white",
          "plot_bgcolor": "#E5ECF6",
          "polar": {
           "angularaxis": {
            "gridcolor": "white",
            "linecolor": "white",
            "ticks": ""
           },
           "bgcolor": "#E5ECF6",
           "radialaxis": {
            "gridcolor": "white",
            "linecolor": "white",
            "ticks": ""
           }
          },
          "scene": {
           "xaxis": {
            "backgroundcolor": "#E5ECF6",
            "gridcolor": "white",
            "gridwidth": 2,
            "linecolor": "white",
            "showbackground": true,
            "ticks": "",
            "zerolinecolor": "white"
           },
           "yaxis": {
            "backgroundcolor": "#E5ECF6",
            "gridcolor": "white",
            "gridwidth": 2,
            "linecolor": "white",
            "showbackground": true,
            "ticks": "",
            "zerolinecolor": "white"
           },
           "zaxis": {
            "backgroundcolor": "#E5ECF6",
            "gridcolor": "white",
            "gridwidth": 2,
            "linecolor": "white",
            "showbackground": true,
            "ticks": "",
            "zerolinecolor": "white"
           }
          },
          "shapedefaults": {
           "line": {
            "color": "#2a3f5f"
           }
          },
          "ternary": {
           "aaxis": {
            "gridcolor": "white",
            "linecolor": "white",
            "ticks": ""
           },
           "baxis": {
            "gridcolor": "white",
            "linecolor": "white",
            "ticks": ""
           },
           "bgcolor": "#E5ECF6",
           "caxis": {
            "gridcolor": "white",
            "linecolor": "white",
            "ticks": ""
           }
          },
          "title": {
           "x": 0.05
          },
          "xaxis": {
           "automargin": true,
           "gridcolor": "white",
           "linecolor": "white",
           "ticks": "",
           "title": {
            "standoff": 15
           },
           "zerolinecolor": "white",
           "zerolinewidth": 2
          },
          "yaxis": {
           "automargin": true,
           "gridcolor": "white",
           "linecolor": "white",
           "ticks": "",
           "title": {
            "standoff": 15
           },
           "zerolinecolor": "white",
           "zerolinewidth": 2
          }
         }
        },
        "title": {
         "text": "Inference"
        },
        "width": 1000,
        "xaxis": {
         "anchor": "y",
         "domain": [
          0,
          1
         ],
         "title": {
          "text": "secs"
         },
         "type": "log"
        },
        "yaxis": {
         "anchor": "x",
         "domain": [
          0,
          1
         ],
         "title": {
          "text": "top1"
         }
        }
       }
      }
     },
     "metadata": {},
     "output_type": "display_data"
    }
   ],
   "source": [
    "show_all(df_inference_res, 'Inference', 'infer_img_size')"
   ]
  },
  {
   "cell_type": "markdown",
   "metadata": {},
   "source": [
    "As we can see, the `levit` family models are extremely fast and precise for image recognition."
   ]
  }
 ],
 "metadata": {
  "kernelspec": {
   "display_name": "Python 3",
   "language": "python",
   "name": "python3"
  },
  "language_info": {
   "codemirror_mode": {
    "name": "ipython",
    "version": 3
   },
   "file_extension": ".py",
   "mimetype": "text/x-python",
   "name": "python",
   "nbconvert_exporter": "python",
   "pygments_lexer": "ipython3",
   "version": "3.10.12"
  }
 },
 "nbformat": 4,
 "nbformat_minor": 2
}
