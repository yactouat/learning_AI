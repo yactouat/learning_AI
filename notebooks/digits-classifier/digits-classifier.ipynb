{
 "cells": [
  {
   "cell_type": "markdown",
   "metadata": {},
   "source": [
    "# Digits classifier\n",
    "\n",
    "Let's build a model that is able to recognize digits 3 and 7."
   ]
  },
  {
   "cell_type": "code",
   "execution_count": 270,
   "metadata": {},
   "outputs": [],
   "source": [
    "# just uncomment below line if you're not sure you have this dependency in your environment\n",
    "# %pip install fastbook"
   ]
  },
  {
   "cell_type": "code",
   "execution_count": 271,
   "metadata": {},
   "outputs": [],
   "source": [
    "# loading and setting up dependencies\n",
    "import fastbook\n",
    "\n",
    "fastbook.setup_book()\n",
    "\n",
    "from fastai.vision.all import *\n",
    "from fastbook import *\n",
    "from matplotlib import pyplot as plt\n",
    "from torch.nn import functional as F"
   ]
  },
  {
   "cell_type": "code",
   "execution_count": 272,
   "metadata": {},
   "outputs": [
    {
     "data": {
      "text/plain": [
       "(#3) [Path('valid'),Path('train'),Path('labels.csv')]"
      ]
     },
     "execution_count": 272,
     "metadata": {},
     "output_type": "execute_result"
    }
   ],
   "source": [
    "# import MNIST sample that only contains 3s and 7s\n",
    "path = untar_data(URLs.MNIST_SAMPLE)\n",
    "Path.BASE_PATH = path\n",
    "\n",
    "path.ls()"
   ]
  },
  {
   "cell_type": "markdown",
   "metadata": {},
   "source": [
    "As you can see from the previous output, this dataset is organized into separate folders for training and validation sets."
   ]
  },
  {
   "cell_type": "code",
   "execution_count": 273,
   "metadata": {},
   "outputs": [
    {
     "data": {
      "text/plain": [
       "(#2) [Path('train/7'),Path('train/3')]"
      ]
     },
     "execution_count": 273,
     "metadata": {},
     "output_type": "execute_result"
    }
   ],
   "source": [
    "# let's see what's inside the training set\n",
    "(path/'train').ls()"
   ]
  },
  {
   "cell_type": "markdown",
   "metadata": {},
   "source": [
    "We are confirming here that the training sample contains 7's and 3's only. These are our _labels_. Let's zoom in a little more."
   ]
  },
  {
   "cell_type": "code",
   "execution_count": 274,
   "metadata": {},
   "outputs": [
    {
     "data": {
      "text/plain": [
       "(#6131) [Path('train/3/10.png'),Path('train/3/10000.png'),Path('train/3/10011.png'),Path('train/3/10031.png'),Path('train/3/10034.png'),Path('train/3/10042.png'),Path('train/3/10052.png'),Path('train/3/1007.png'),Path('train/3/10074.png'),Path('train/3/10091.png')...]"
      ]
     },
     "execution_count": 274,
     "metadata": {},
     "output_type": "execute_result"
    }
   ],
   "source": [
    "threes = (path/'train'/'3').ls().sorted()\n",
    "sevens = (path/'train'/'7').ls().sorted()\n",
    "threes"
   ]
  },
  {
   "cell_type": "code",
   "execution_count": 275,
   "metadata": {},
   "outputs": [
    {
     "data": {
      "image/png": "[encoded data removed]",
      "text/plain": [
       "<PIL.PngImagePlugin.PngImageFile image mode=L size=28x28>"
      ]
     },
     "execution_count": 275,
     "metadata": {},
     "output_type": "execute_result"
    }
   ],
   "source": [
    "# let's look at one image\n",
    "im3_path = threes[1]\n",
    "im3 = Image.open(im3_path)\n",
    "im3"
   ]
  },
  {
   "cell_type": "code",
   "execution_count": 276,
   "metadata": {},
   "outputs": [
    {
     "data": {
      "text/plain": [
       "array([[  0,   0,   0,   0,   0,   0],\n",
       "       [  0,   0,   0,   0,   0,  29],\n",
       "       [  0,   0,   0,  48, 166, 224],\n",
       "       [  0,  93, 244, 249, 253, 187],\n",
       "       [  0, 107, 253, 253, 230,  48],\n",
       "       [  0,   3,  20,  20,  15,   0]], dtype=uint8)"
      ]
     },
     "execution_count": 276,
     "metadata": {},
     "output_type": "execute_result"
    }
   ],
   "source": [
    "# viewing the numbers that make up that image as a `NumPy` array\n",
    "\n",
    "# selecting a subarray from rows 4 to 10 (not included) and columns 4 to 10 (not included)\n",
    "# `numpy` indexes from top to bottom and left to right\n",
    "array(im3)[4:10,4:10] "
   ]
  },
  {
   "cell_type": "code",
   "execution_count": 277,
   "metadata": {},
   "outputs": [
    {
     "data": {
      "text/plain": [
       "tensor([[  0,   0,   0,   0,   0,   0],\n",
       "        [  0,   0,   0,   0,   0,  29],\n",
       "        [  0,   0,   0,  48, 166, 224],\n",
       "        [  0,  93, 244, 249, 253, 187],\n",
       "        [  0, 107, 253, 253, 230,  48],\n",
       "        [  0,   3,  20,  20,  15,   0]], dtype=torch.uint8)"
      ]
     },
     "execution_count": 277,
     "metadata": {},
     "output_type": "execute_result"
    }
   ],
   "source": [
    "# now let's do the same thing with a `pytorch` tensor\n",
    "tensor(im3)[4:10,4:10]"
   ]
  },
  {
   "cell_type": "markdown",
   "metadata": {},
   "source": [
    "## `NumPy` arrays vs `PyTorch` tensors\n",
    "\n",
    "`NumPy` arrays are multidimensional tables of data, with all items of the same type. `PyTorch` tensors are different in that they have to use a single basic numeric type for all components of the array and it cannot be _jagged_, e.g. containing arrays of different sizes in it.\n",
    "\n",
    "One of the main features of `PyTorch` tensors, compared to `NumPy` arrays, is that they can be used on a GPU to accelerate computing. It is also able to compute gradients by keeping track of successive operations using the calculus chain rule."
   ]
  },
  {
   "cell_type": "code",
   "execution_count": 278,
   "metadata": {},
   "outputs": [
    {
     "data": {
      "text/plain": [
       "tensor([[1, 2, 3],\n",
       "        [4, 5, 6]])"
      ]
     },
     "execution_count": 278,
     "metadata": {},
     "output_type": "execute_result"
    }
   ],
   "source": [
    "# To create an array or tensor, pass a list (or list of lists, or list of lists of lists, etc.) to `array()` or `tensor()`:\n",
    "data = [[1,2,3],[4,5,6]]\n",
    "arr = array (data) # `NumPy`\n",
    "tns = tensor(data) # `PyTorch`\n",
    "\n",
    "tns"
   ]
  },
  {
   "cell_type": "code",
   "execution_count": 279,
   "metadata": {},
   "outputs": [
    {
     "data": {
      "text/plain": [
       "tensor([1, 2, 3])"
      ]
     },
     "execution_count": 279,
     "metadata": {},
     "output_type": "execute_result"
    }
   ],
   "source": [
    "# to select a row of a tensor\n",
    "tns[0]"
   ]
  },
  {
   "cell_type": "code",
   "execution_count": 280,
   "metadata": {},
   "outputs": [
    {
     "data": {
      "text/plain": [
       "tensor([2, 5])"
      ]
     },
     "execution_count": 280,
     "metadata": {},
     "output_type": "execute_result"
    }
   ],
   "source": [
    "# to select a column of a tensor\n",
    "tns[:, 1] # `:` here says \"take all the values of the first axis\""
   ]
  },
  {
   "cell_type": "code",
   "execution_count": 281,
   "metadata": {},
   "outputs": [
    {
     "data": {
      "text/plain": [
       "tensor([5, 6])"
      ]
     },
     "execution_count": 281,
     "metadata": {},
     "output_type": "execute_result"
    }
   ],
   "source": [
    "# combination of the above using `slice` syntax\n",
    "tns[1,1:3]\n",
    "\n",
    "# this says \"take the second row, then take columns 1 to 3 (not including 3)\"\n"
   ]
  },
  {
   "cell_type": "code",
   "execution_count": 282,
   "metadata": {},
   "outputs": [
    {
     "data": {
      "text/plain": [
       "tensor([[2, 3, 4],\n",
       "        [5, 6, 7]])"
      ]
     },
     "execution_count": 282,
     "metadata": {},
     "output_type": "execute_result"
    }
   ],
   "source": [
    "# `PyTorch` makes it very easy to perform arithmetic operations at scale\n",
    "tns+1"
   ]
  },
  {
   "cell_type": "code",
   "execution_count": 283,
   "metadata": {},
   "outputs": [
    {
     "data": {
      "text/plain": [
       "'torch.LongTensor'"
      ]
     },
     "execution_count": 283,
     "metadata": {},
     "output_type": "execute_result"
    }
   ],
   "source": [
    "# all `PyTorch` tensors have a type\n",
    "tns.type()"
   ]
  },
  {
   "cell_type": "code",
   "execution_count": 284,
   "metadata": {},
   "outputs": [
    {
     "data": {
      "text/plain": [
       "tensor([[1.5000, 3.0000, 4.5000],\n",
       "        [6.0000, 7.5000, 9.0000]])"
      ]
     },
     "execution_count": 284,
     "metadata": {},
     "output_type": "execute_result"
    }
   ],
   "source": [
    "# this type can change automatically based on the operations you perform\n",
    "tns*1.5"
   ]
  },
  {
   "cell_type": "markdown",
   "metadata": {},
   "source": [
    "See the example below for a practical usage of a `PyTorch` tensor:"
   ]
  },
  {
   "cell_type": "code",
   "execution_count": 285,
   "metadata": {},
   "outputs": [
    {
     "data": {
      "text/html": [
       "<div>\n",
       "<style scoped>\n",
       "    .dataframe tbody tr th:only-of-type {\n",
       "        vertical-align: middle;\n",
       "    }\n",
       "\n",
       "    .dataframe tbody tr th {\n",
       "        vertical-align: top;\n",
       "    }\n",
       "\n",
       "    .dataframe thead th {\n",
       "        text-align: right;\n",
       "    }\n",
       "</style>\n",
       "<table border=\"1\" class=\"dataframe\">\n",
       "  <thead>\n",
       "    <tr style=\"text-align: right;\">\n",
       "      <th></th>\n",
       "      <th>0</th>\n",
       "      <th>1</th>\n",
       "      <th>2</th>\n",
       "      <th>3</th>\n",
       "      <th>4</th>\n",
       "      <th>5</th>\n",
       "      <th>6</th>\n",
       "      <th>7</th>\n",
       "      <th>8</th>\n",
       "      <th>9</th>\n",
       "      <th>10</th>\n",
       "      <th>11</th>\n",
       "      <th>12</th>\n",
       "      <th>13</th>\n",
       "      <th>14</th>\n",
       "      <th>15</th>\n",
       "      <th>16</th>\n",
       "      <th>17</th>\n",
       "    </tr>\n",
       "  </thead>\n",
       "  <tbody>\n",
       "    <tr>\n",
       "      <th>0</th>\n",
       "      <td>0</td>\n",
       "      <td>0</td>\n",
       "      <td>0</td>\n",
       "      <td>0</td>\n",
       "      <td>0</td>\n",
       "      <td>0</td>\n",
       "      <td>0</td>\n",
       "      <td>0</td>\n",
       "      <td>0</td>\n",
       "      <td>0</td>\n",
       "      <td>0</td>\n",
       "      <td>0</td>\n",
       "      <td>0</td>\n",
       "      <td>0</td>\n",
       "      <td>0</td>\n",
       "      <td>0</td>\n",
       "      <td>0</td>\n",
       "      <td>0</td>\n",
       "    </tr>\n",
       "    <tr>\n",
       "      <th>1</th>\n",
       "      <td>0</td>\n",
       "      <td>0</td>\n",
       "      <td>0</td>\n",
       "      <td>0</td>\n",
       "      <td>0</td>\n",
       "      <td>29</td>\n",
       "      <td>150</td>\n",
       "      <td>195</td>\n",
       "      <td>254</td>\n",
       "      <td>255</td>\n",
       "      <td>254</td>\n",
       "      <td>176</td>\n",
       "      <td>193</td>\n",
       "      <td>150</td>\n",
       "      <td>96</td>\n",
       "      <td>0</td>\n",
       "      <td>0</td>\n",
       "      <td>0</td>\n",
       "    </tr>\n",
       "    <tr>\n",
       "      <th>2</th>\n",
       "      <td>0</td>\n",
       "      <td>0</td>\n",
       "      <td>0</td>\n",
       "      <td>48</td>\n",
       "      <td>166</td>\n",
       "      <td>224</td>\n",
       "      <td>253</td>\n",
       "      <td>253</td>\n",
       "      <td>234</td>\n",
       "      <td>196</td>\n",
       "      <td>253</td>\n",
       "      <td>253</td>\n",
       "      <td>253</td>\n",
       "      <td>253</td>\n",
       "      <td>233</td>\n",
       "      <td>0</td>\n",
       "      <td>0</td>\n",
       "      <td>0</td>\n",
       "    </tr>\n",
       "    <tr>\n",
       "      <th>3</th>\n",
       "      <td>0</td>\n",
       "      <td>93</td>\n",
       "      <td>244</td>\n",
       "      <td>249</td>\n",
       "      <td>253</td>\n",
       "      <td>187</td>\n",
       "      <td>46</td>\n",
       "      <td>10</td>\n",
       "      <td>8</td>\n",
       "      <td>4</td>\n",
       "      <td>10</td>\n",
       "      <td>194</td>\n",
       "      <td>253</td>\n",
       "      <td>253</td>\n",
       "      <td>233</td>\n",
       "      <td>0</td>\n",
       "      <td>0</td>\n",
       "      <td>0</td>\n",
       "    </tr>\n",
       "    <tr>\n",
       "      <th>4</th>\n",
       "      <td>0</td>\n",
       "      <td>107</td>\n",
       "      <td>253</td>\n",
       "      <td>253</td>\n",
       "      <td>230</td>\n",
       "      <td>48</td>\n",
       "      <td>0</td>\n",
       "      <td>0</td>\n",
       "      <td>0</td>\n",
       "      <td>0</td>\n",
       "      <td>0</td>\n",
       "      <td>192</td>\n",
       "      <td>253</td>\n",
       "      <td>253</td>\n",
       "      <td>156</td>\n",
       "      <td>0</td>\n",
       "      <td>0</td>\n",
       "      <td>0</td>\n",
       "    </tr>\n",
       "    <tr>\n",
       "      <th>5</th>\n",
       "      <td>0</td>\n",
       "      <td>3</td>\n",
       "      <td>20</td>\n",
       "      <td>20</td>\n",
       "      <td>15</td>\n",
       "      <td>0</td>\n",
       "      <td>0</td>\n",
       "      <td>0</td>\n",
       "      <td>0</td>\n",
       "      <td>0</td>\n",
       "      <td>43</td>\n",
       "      <td>224</td>\n",
       "      <td>253</td>\n",
       "      <td>245</td>\n",
       "      <td>74</td>\n",
       "      <td>0</td>\n",
       "      <td>0</td>\n",
       "      <td>0</td>\n",
       "    </tr>\n",
       "    <tr>\n",
       "      <th>6</th>\n",
       "      <td>0</td>\n",
       "      <td>0</td>\n",
       "      <td>0</td>\n",
       "      <td>0</td>\n",
       "      <td>0</td>\n",
       "      <td>0</td>\n",
       "      <td>0</td>\n",
       "      <td>0</td>\n",
       "      <td>0</td>\n",
       "      <td>0</td>\n",
       "      <td>249</td>\n",
       "      <td>253</td>\n",
       "      <td>245</td>\n",
       "      <td>126</td>\n",
       "      <td>0</td>\n",
       "      <td>0</td>\n",
       "      <td>0</td>\n",
       "      <td>0</td>\n",
       "    </tr>\n",
       "    <tr>\n",
       "      <th>7</th>\n",
       "      <td>0</td>\n",
       "      <td>0</td>\n",
       "      <td>0</td>\n",
       "      <td>0</td>\n",
       "      <td>0</td>\n",
       "      <td>0</td>\n",
       "      <td>0</td>\n",
       "      <td>14</td>\n",
       "      <td>101</td>\n",
       "      <td>223</td>\n",
       "      <td>253</td>\n",
       "      <td>248</td>\n",
       "      <td>124</td>\n",
       "      <td>0</td>\n",
       "      <td>0</td>\n",
       "      <td>0</td>\n",
       "      <td>0</td>\n",
       "      <td>0</td>\n",
       "    </tr>\n",
       "    <tr>\n",
       "      <th>8</th>\n",
       "      <td>0</td>\n",
       "      <td>0</td>\n",
       "      <td>0</td>\n",
       "      <td>0</td>\n",
       "      <td>0</td>\n",
       "      <td>11</td>\n",
       "      <td>166</td>\n",
       "      <td>239</td>\n",
       "      <td>253</td>\n",
       "      <td>253</td>\n",
       "      <td>253</td>\n",
       "      <td>187</td>\n",
       "      <td>30</td>\n",
       "      <td>0</td>\n",
       "      <td>0</td>\n",
       "      <td>0</td>\n",
       "      <td>0</td>\n",
       "      <td>0</td>\n",
       "    </tr>\n",
       "    <tr>\n",
       "      <th>9</th>\n",
       "      <td>0</td>\n",
       "      <td>0</td>\n",
       "      <td>0</td>\n",
       "      <td>0</td>\n",
       "      <td>0</td>\n",
       "      <td>16</td>\n",
       "      <td>248</td>\n",
       "      <td>250</td>\n",
       "      <td>253</td>\n",
       "      <td>253</td>\n",
       "      <td>253</td>\n",
       "      <td>253</td>\n",
       "      <td>232</td>\n",
       "      <td>213</td>\n",
       "      <td>111</td>\n",
       "      <td>2</td>\n",
       "      <td>0</td>\n",
       "      <td>0</td>\n",
       "    </tr>\n",
       "    <tr>\n",
       "      <th>10</th>\n",
       "      <td>0</td>\n",
       "      <td>0</td>\n",
       "      <td>0</td>\n",
       "      <td>0</td>\n",
       "      <td>0</td>\n",
       "      <td>0</td>\n",
       "      <td>0</td>\n",
       "      <td>43</td>\n",
       "      <td>98</td>\n",
       "      <td>98</td>\n",
       "      <td>208</td>\n",
       "      <td>253</td>\n",
       "      <td>253</td>\n",
       "      <td>253</td>\n",
       "      <td>253</td>\n",
       "      <td>187</td>\n",
       "      <td>22</td>\n",
       "      <td>0</td>\n",
       "    </tr>\n",
       "  </tbody>\n",
       "</table>\n",
       "</div>"
      ],
      "text/plain": [
       "    0    1    2    3    4    5    6    7    8    9    10   11   12   13   14   \n",
       "0    0    0    0    0    0    0    0    0    0    0    0    0    0    0    0  \\\n",
       "1    0    0    0    0    0   29  150  195  254  255  254  176  193  150   96   \n",
       "2    0    0    0   48  166  224  253  253  234  196  253  253  253  253  233   \n",
       "3    0   93  244  249  253  187   46   10    8    4   10  194  253  253  233   \n",
       "4    0  107  253  253  230   48    0    0    0    0    0  192  253  253  156   \n",
       "5    0    3   20   20   15    0    0    0    0    0   43  224  253  245   74   \n",
       "6    0    0    0    0    0    0    0    0    0    0  249  253  245  126    0   \n",
       "7    0    0    0    0    0    0    0   14  101  223  253  248  124    0    0   \n",
       "8    0    0    0    0    0   11  166  239  253  253  253  187   30    0    0   \n",
       "9    0    0    0    0    0   16  248  250  253  253  253  253  232  213  111   \n",
       "10   0    0    0    0    0    0    0   43   98   98  208  253  253  253  253   \n",
       "\n",
       "     15  16  17  \n",
       "0     0   0   0  \n",
       "1     0   0   0  \n",
       "2     0   0   0  \n",
       "3     0   0   0  \n",
       "4     0   0   0  \n",
       "5     0   0   0  \n",
       "6     0   0   0  \n",
       "7     0   0   0  \n",
       "8     0   0   0  \n",
       "9     2   0   0  \n",
       "10  187  22   0  "
      ]
     },
     "execution_count": 285,
     "metadata": {},
     "output_type": "execute_result"
    }
   ],
   "source": [
    "# let's slice the array and pick just the part with the top of the digit in it\n",
    "im3_t = tensor(im3)\n",
    "\n",
    "# let's make a data frame out of it\n",
    "df = pd.DataFrame(im3_t[4:15,4:22])\n",
    "df"
   ]
  },
  {
   "cell_type": "code",
   "execution_count": 286,
   "metadata": {},
   "outputs": [
    {
     "data": {
      "text/html": [
       "<style type=\"text/css\">\n",
       "#T_0bf00_row0_col0, #T_0bf00_row0_col1, #T_0bf00_row0_col2, #T_0bf00_row0_col3, #T_0bf00_row0_col4, #T_0bf00_row0_col5, #T_0bf00_row0_col6, #T_0bf00_row0_col7, #T_0bf00_row0_col8, #T_0bf00_row0_col9, #T_0bf00_row0_col10, #T_0bf00_row0_col11, #T_0bf00_row0_col12, #T_0bf00_row0_col13, #T_0bf00_row0_col14, #T_0bf00_row0_col15, #T_0bf00_row0_col16, #T_0bf00_row0_col17, #T_0bf00_row1_col0, #T_0bf00_row1_col1, #T_0bf00_row1_col2, #T_0bf00_row1_col3, #T_0bf00_row1_col4, #T_0bf00_row1_col15, #T_0bf00_row1_col16, #T_0bf00_row1_col17, #T_0bf00_row2_col0, #T_0bf00_row2_col1, #T_0bf00_row2_col2, #T_0bf00_row2_col15, #T_0bf00_row2_col16, #T_0bf00_row2_col17, #T_0bf00_row3_col0, #T_0bf00_row3_col15, #T_0bf00_row3_col16, #T_0bf00_row3_col17, #T_0bf00_row4_col0, #T_0bf00_row4_col6, #T_0bf00_row4_col7, #T_0bf00_row4_col8, #T_0bf00_row4_col9, #T_0bf00_row4_col10, #T_0bf00_row4_col15, #T_0bf00_row4_col16, #T_0bf00_row4_col17, #T_0bf00_row5_col0, #T_0bf00_row5_col5, #T_0bf00_row5_col6, #T_0bf00_row5_col7, #T_0bf00_row5_col8, #T_0bf00_row5_col9, #T_0bf00_row5_col15, #T_0bf00_row5_col16, #T_0bf00_row5_col17, #T_0bf00_row6_col0, #T_0bf00_row6_col1, #T_0bf00_row6_col2, #T_0bf00_row6_col3, #T_0bf00_row6_col4, #T_0bf00_row6_col5, #T_0bf00_row6_col6, #T_0bf00_row6_col7, #T_0bf00_row6_col8, #T_0bf00_row6_col9, #T_0bf00_row6_col14, #T_0bf00_row6_col15, #T_0bf00_row6_col16, #T_0bf00_row6_col17, #T_0bf00_row7_col0, #T_0bf00_row7_col1, #T_0bf00_row7_col2, #T_0bf00_row7_col3, #T_0bf00_row7_col4, #T_0bf00_row7_col5, #T_0bf00_row7_col6, #T_0bf00_row7_col13, #T_0bf00_row7_col14, #T_0bf00_row7_col15, #T_0bf00_row7_col16, #T_0bf00_row7_col17, #T_0bf00_row8_col0, #T_0bf00_row8_col1, #T_0bf00_row8_col2, #T_0bf00_row8_col3, #T_0bf00_row8_col4, #T_0bf00_row8_col13, #T_0bf00_row8_col14, #T_0bf00_row8_col15, #T_0bf00_row8_col16, #T_0bf00_row8_col17, #T_0bf00_row9_col0, #T_0bf00_row9_col1, #T_0bf00_row9_col2, #T_0bf00_row9_col3, #T_0bf00_row9_col4, #T_0bf00_row9_col16, #T_0bf00_row9_col17, #T_0bf00_row10_col0, #T_0bf00_row10_col1, #T_0bf00_row10_col2, #T_0bf00_row10_col3, #T_0bf00_row10_col4, #T_0bf00_row10_col5, #T_0bf00_row10_col6, #T_0bf00_row10_col17 {\n",
       "  font-size: 6pt;\n",
       "  background-color: #ffffff;\n",
       "  color: #000000;\n",
       "}\n",
       "#T_0bf00_row1_col5 {\n",
       "  font-size: 6pt;\n",
       "  background-color: #efefef;\n",
       "  color: #000000;\n",
       "}\n",
       "#T_0bf00_row1_col6, #T_0bf00_row1_col13 {\n",
       "  font-size: 6pt;\n",
       "  background-color: #7c7c7c;\n",
       "  color: #f1f1f1;\n",
       "}\n",
       "#T_0bf00_row1_col7 {\n",
       "  font-size: 6pt;\n",
       "  background-color: #4a4a4a;\n",
       "  color: #f1f1f1;\n",
       "}\n",
       "#T_0bf00_row1_col8, #T_0bf00_row1_col9, #T_0bf00_row1_col10, #T_0bf00_row2_col5, #T_0bf00_row2_col6, #T_0bf00_row2_col7, #T_0bf00_row2_col11, #T_0bf00_row2_col12, #T_0bf00_row2_col13, #T_0bf00_row3_col4, #T_0bf00_row3_col12, #T_0bf00_row3_col13, #T_0bf00_row4_col1, #T_0bf00_row4_col2, #T_0bf00_row4_col3, #T_0bf00_row4_col12, #T_0bf00_row4_col13, #T_0bf00_row5_col12, #T_0bf00_row6_col11, #T_0bf00_row9_col11, #T_0bf00_row10_col11, #T_0bf00_row10_col12, #T_0bf00_row10_col13, #T_0bf00_row10_col14, #T_0bf00_row10_col15, #T_0bf00_row10_col16 {\n",
       "  font-size: 6pt;\n",
       "  background-color: #000000;\n",
       "  color: #f1f1f1;\n",
       "}\n",
       "#T_0bf00_row1_col11 {\n",
       "  font-size: 6pt;\n",
       "  background-color: #606060;\n",
       "  color: #f1f1f1;\n",
       "}\n",
       "#T_0bf00_row1_col12 {\n",
       "  font-size: 6pt;\n",
       "  background-color: #4d4d4d;\n",
       "  color: #f1f1f1;\n",
       "}\n",
       "#T_0bf00_row1_col14 {\n",
       "  font-size: 6pt;\n",
       "  background-color: #bbbbbb;\n",
       "  color: #000000;\n",
       "}\n",
       "#T_0bf00_row2_col3 {\n",
       "  font-size: 6pt;\n",
       "  background-color: #e4e4e4;\n",
       "  color: #000000;\n",
       "}\n",
       "#T_0bf00_row2_col4, #T_0bf00_row8_col6 {\n",
       "  font-size: 6pt;\n",
       "  background-color: #6b6b6b;\n",
       "  color: #f1f1f1;\n",
       "}\n",
       "#T_0bf00_row2_col8, #T_0bf00_row2_col14, #T_0bf00_row3_col14 {\n",
       "  font-size: 6pt;\n",
       "  background-color: #171717;\n",
       "  color: #f1f1f1;\n",
       "}\n",
       "#T_0bf00_row2_col9, #T_0bf00_row3_col11 {\n",
       "  font-size: 6pt;\n",
       "  background-color: #4b4b4b;\n",
       "  color: #f1f1f1;\n",
       "}\n",
       "#T_0bf00_row2_col10, #T_0bf00_row7_col10, #T_0bf00_row8_col8, #T_0bf00_row8_col10, #T_0bf00_row9_col8, #T_0bf00_row9_col10 {\n",
       "  font-size: 6pt;\n",
       "  background-color: #010101;\n",
       "  color: #f1f1f1;\n",
       "}\n",
       "#T_0bf00_row3_col1 {\n",
       "  font-size: 6pt;\n",
       "  background-color: #272727;\n",
       "  color: #f1f1f1;\n",
       "}\n",
       "#T_0bf00_row3_col2 {\n",
       "  font-size: 6pt;\n",
       "  background-color: #0a0a0a;\n",
       "  color: #f1f1f1;\n",
       "}\n",
       "#T_0bf00_row3_col3 {\n",
       "  font-size: 6pt;\n",
       "  background-color: #050505;\n",
       "  color: #f1f1f1;\n",
       "}\n",
       "#T_0bf00_row3_col5 {\n",
       "  font-size: 6pt;\n",
       "  background-color: #333333;\n",
       "  color: #f1f1f1;\n",
       "}\n",
       "#T_0bf00_row3_col6 {\n",
       "  font-size: 6pt;\n",
       "  background-color: #e6e6e6;\n",
       "  color: #000000;\n",
       "}\n",
       "#T_0bf00_row3_col7, #T_0bf00_row3_col10 {\n",
       "  font-size: 6pt;\n",
       "  background-color: #fafafa;\n",
       "  color: #000000;\n",
       "}\n",
       "#T_0bf00_row3_col8 {\n",
       "  font-size: 6pt;\n",
       "  background-color: #fbfbfb;\n",
       "  color: #000000;\n",
       "}\n",
       "#T_0bf00_row3_col9 {\n",
       "  font-size: 6pt;\n",
       "  background-color: #fdfdfd;\n",
       "  color: #000000;\n",
       "}\n",
       "#T_0bf00_row4_col4 {\n",
       "  font-size: 6pt;\n",
       "  background-color: #1b1b1b;\n",
       "  color: #f1f1f1;\n",
       "}\n",
       "#T_0bf00_row4_col5 {\n",
       "  font-size: 6pt;\n",
       "  background-color: #e0e0e0;\n",
       "  color: #000000;\n",
       "}\n",
       "#T_0bf00_row4_col11 {\n",
       "  font-size: 6pt;\n",
       "  background-color: #4e4e4e;\n",
       "  color: #f1f1f1;\n",
       "}\n",
       "#T_0bf00_row4_col14 {\n",
       "  font-size: 6pt;\n",
       "  background-color: #767676;\n",
       "  color: #f1f1f1;\n",
       "}\n",
       "#T_0bf00_row5_col1 {\n",
       "  font-size: 6pt;\n",
       "  background-color: #fcfcfc;\n",
       "  color: #000000;\n",
       "}\n",
       "#T_0bf00_row5_col2, #T_0bf00_row5_col3 {\n",
       "  font-size: 6pt;\n",
       "  background-color: #f6f6f6;\n",
       "  color: #000000;\n",
       "}\n",
       "#T_0bf00_row5_col4, #T_0bf00_row7_col7 {\n",
       "  font-size: 6pt;\n",
       "  background-color: #f8f8f8;\n",
       "  color: #000000;\n",
       "}\n",
       "#T_0bf00_row5_col10, #T_0bf00_row10_col7 {\n",
       "  font-size: 6pt;\n",
       "  background-color: #e8e8e8;\n",
       "  color: #000000;\n",
       "}\n",
       "#T_0bf00_row5_col11 {\n",
       "  font-size: 6pt;\n",
       "  background-color: #222222;\n",
       "  color: #f1f1f1;\n",
       "}\n",
       "#T_0bf00_row5_col13, #T_0bf00_row6_col12 {\n",
       "  font-size: 6pt;\n",
       "  background-color: #090909;\n",
       "  color: #f1f1f1;\n",
       "}\n",
       "#T_0bf00_row5_col14 {\n",
       "  font-size: 6pt;\n",
       "  background-color: #d0d0d0;\n",
       "  color: #000000;\n",
       "}\n",
       "#T_0bf00_row6_col10, #T_0bf00_row7_col11, #T_0bf00_row9_col6 {\n",
       "  font-size: 6pt;\n",
       "  background-color: #060606;\n",
       "  color: #f1f1f1;\n",
       "}\n",
       "#T_0bf00_row6_col13 {\n",
       "  font-size: 6pt;\n",
       "  background-color: #979797;\n",
       "  color: #f1f1f1;\n",
       "}\n",
       "#T_0bf00_row7_col8 {\n",
       "  font-size: 6pt;\n",
       "  background-color: #b6b6b6;\n",
       "  color: #000000;\n",
       "}\n",
       "#T_0bf00_row7_col9 {\n",
       "  font-size: 6pt;\n",
       "  background-color: #252525;\n",
       "  color: #f1f1f1;\n",
       "}\n",
       "#T_0bf00_row7_col12 {\n",
       "  font-size: 6pt;\n",
       "  background-color: #999999;\n",
       "  color: #f1f1f1;\n",
       "}\n",
       "#T_0bf00_row8_col5 {\n",
       "  font-size: 6pt;\n",
       "  background-color: #f9f9f9;\n",
       "  color: #000000;\n",
       "}\n",
       "#T_0bf00_row8_col7 {\n",
       "  font-size: 6pt;\n",
       "  background-color: #101010;\n",
       "  color: #f1f1f1;\n",
       "}\n",
       "#T_0bf00_row8_col9, #T_0bf00_row9_col9 {\n",
       "  font-size: 6pt;\n",
       "  background-color: #020202;\n",
       "  color: #f1f1f1;\n",
       "}\n",
       "#T_0bf00_row8_col11 {\n",
       "  font-size: 6pt;\n",
       "  background-color: #545454;\n",
       "  color: #f1f1f1;\n",
       "}\n",
       "#T_0bf00_row8_col12 {\n",
       "  font-size: 6pt;\n",
       "  background-color: #f1f1f1;\n",
       "  color: #000000;\n",
       "}\n",
       "#T_0bf00_row9_col5 {\n",
       "  font-size: 6pt;\n",
       "  background-color: #f7f7f7;\n",
       "  color: #000000;\n",
       "}\n",
       "#T_0bf00_row9_col7 {\n",
       "  font-size: 6pt;\n",
       "  background-color: #030303;\n",
       "  color: #f1f1f1;\n",
       "}\n",
       "#T_0bf00_row9_col12 {\n",
       "  font-size: 6pt;\n",
       "  background-color: #181818;\n",
       "  color: #f1f1f1;\n",
       "}\n",
       "#T_0bf00_row9_col13 {\n",
       "  font-size: 6pt;\n",
       "  background-color: #303030;\n",
       "  color: #f1f1f1;\n",
       "}\n",
       "#T_0bf00_row9_col14 {\n",
       "  font-size: 6pt;\n",
       "  background-color: #a9a9a9;\n",
       "  color: #f1f1f1;\n",
       "}\n",
       "#T_0bf00_row9_col15 {\n",
       "  font-size: 6pt;\n",
       "  background-color: #fefefe;\n",
       "  color: #000000;\n",
       "}\n",
       "#T_0bf00_row10_col8, #T_0bf00_row10_col9 {\n",
       "  font-size: 6pt;\n",
       "  background-color: #bababa;\n",
       "  color: #000000;\n",
       "}\n",
       "#T_0bf00_row10_col10 {\n",
       "  font-size: 6pt;\n",
       "  background-color: #393939;\n",
       "  color: #f1f1f1;\n",
       "}\n",
       "</style>\n",
       "<table id=\"T_0bf00\">\n",
       "  <thead>\n",
       "    <tr>\n",
       "      <th class=\"blank level0\" >&nbsp;</th>\n",
       "      <th id=\"T_0bf00_level0_col0\" class=\"col_heading level0 col0\" >0</th>\n",
       "      <th id=\"T_0bf00_level0_col1\" class=\"col_heading level0 col1\" >1</th>\n",
       "      <th id=\"T_0bf00_level0_col2\" class=\"col_heading level0 col2\" >2</th>\n",
       "      <th id=\"T_0bf00_level0_col3\" class=\"col_heading level0 col3\" >3</th>\n",
       "      <th id=\"T_0bf00_level0_col4\" class=\"col_heading level0 col4\" >4</th>\n",
       "      <th id=\"T_0bf00_level0_col5\" class=\"col_heading level0 col5\" >5</th>\n",
       "      <th id=\"T_0bf00_level0_col6\" class=\"col_heading level0 col6\" >6</th>\n",
       "      <th id=\"T_0bf00_level0_col7\" class=\"col_heading level0 col7\" >7</th>\n",
       "      <th id=\"T_0bf00_level0_col8\" class=\"col_heading level0 col8\" >8</th>\n",
       "      <th id=\"T_0bf00_level0_col9\" class=\"col_heading level0 col9\" >9</th>\n",
       "      <th id=\"T_0bf00_level0_col10\" class=\"col_heading level0 col10\" >10</th>\n",
       "      <th id=\"T_0bf00_level0_col11\" class=\"col_heading level0 col11\" >11</th>\n",
       "      <th id=\"T_0bf00_level0_col12\" class=\"col_heading level0 col12\" >12</th>\n",
       "      <th id=\"T_0bf00_level0_col13\" class=\"col_heading level0 col13\" >13</th>\n",
       "      <th id=\"T_0bf00_level0_col14\" class=\"col_heading level0 col14\" >14</th>\n",
       "      <th id=\"T_0bf00_level0_col15\" class=\"col_heading level0 col15\" >15</th>\n",
       "      <th id=\"T_0bf00_level0_col16\" class=\"col_heading level0 col16\" >16</th>\n",
       "      <th id=\"T_0bf00_level0_col17\" class=\"col_heading level0 col17\" >17</th>\n",
       "    </tr>\n",
       "  </thead>\n",
       "  <tbody>\n",
       "    <tr>\n",
       "      <th id=\"T_0bf00_level0_row0\" class=\"row_heading level0 row0\" >0</th>\n",
       "      <td id=\"T_0bf00_row0_col0\" class=\"data row0 col0\" >0</td>\n",
       "      <td id=\"T_0bf00_row0_col1\" class=\"data row0 col1\" >0</td>\n",
       "      <td id=\"T_0bf00_row0_col2\" class=\"data row0 col2\" >0</td>\n",
       "      <td id=\"T_0bf00_row0_col3\" class=\"data row0 col3\" >0</td>\n",
       "      <td id=\"T_0bf00_row0_col4\" class=\"data row0 col4\" >0</td>\n",
       "      <td id=\"T_0bf00_row0_col5\" class=\"data row0 col5\" >0</td>\n",
       "      <td id=\"T_0bf00_row0_col6\" class=\"data row0 col6\" >0</td>\n",
       "      <td id=\"T_0bf00_row0_col7\" class=\"data row0 col7\" >0</td>\n",
       "      <td id=\"T_0bf00_row0_col8\" class=\"data row0 col8\" >0</td>\n",
       "      <td id=\"T_0bf00_row0_col9\" class=\"data row0 col9\" >0</td>\n",
       "      <td id=\"T_0bf00_row0_col10\" class=\"data row0 col10\" >0</td>\n",
       "      <td id=\"T_0bf00_row0_col11\" class=\"data row0 col11\" >0</td>\n",
       "      <td id=\"T_0bf00_row0_col12\" class=\"data row0 col12\" >0</td>\n",
       "      <td id=\"T_0bf00_row0_col13\" class=\"data row0 col13\" >0</td>\n",
       "      <td id=\"T_0bf00_row0_col14\" class=\"data row0 col14\" >0</td>\n",
       "      <td id=\"T_0bf00_row0_col15\" class=\"data row0 col15\" >0</td>\n",
       "      <td id=\"T_0bf00_row0_col16\" class=\"data row0 col16\" >0</td>\n",
       "      <td id=\"T_0bf00_row0_col17\" class=\"data row0 col17\" >0</td>\n",
       "    </tr>\n",
       "    <tr>\n",
       "      <th id=\"T_0bf00_level0_row1\" class=\"row_heading level0 row1\" >1</th>\n",
       "      <td id=\"T_0bf00_row1_col0\" class=\"data row1 col0\" >0</td>\n",
       "      <td id=\"T_0bf00_row1_col1\" class=\"data row1 col1\" >0</td>\n",
       "      <td id=\"T_0bf00_row1_col2\" class=\"data row1 col2\" >0</td>\n",
       "      <td id=\"T_0bf00_row1_col3\" class=\"data row1 col3\" >0</td>\n",
       "      <td id=\"T_0bf00_row1_col4\" class=\"data row1 col4\" >0</td>\n",
       "      <td id=\"T_0bf00_row1_col5\" class=\"data row1 col5\" >29</td>\n",
       "      <td id=\"T_0bf00_row1_col6\" class=\"data row1 col6\" >150</td>\n",
       "      <td id=\"T_0bf00_row1_col7\" class=\"data row1 col7\" >195</td>\n",
       "      <td id=\"T_0bf00_row1_col8\" class=\"data row1 col8\" >254</td>\n",
       "      <td id=\"T_0bf00_row1_col9\" class=\"data row1 col9\" >255</td>\n",
       "      <td id=\"T_0bf00_row1_col10\" class=\"data row1 col10\" >254</td>\n",
       "      <td id=\"T_0bf00_row1_col11\" class=\"data row1 col11\" >176</td>\n",
       "      <td id=\"T_0bf00_row1_col12\" class=\"data row1 col12\" >193</td>\n",
       "      <td id=\"T_0bf00_row1_col13\" class=\"data row1 col13\" >150</td>\n",
       "      <td id=\"T_0bf00_row1_col14\" class=\"data row1 col14\" >96</td>\n",
       "      <td id=\"T_0bf00_row1_col15\" class=\"data row1 col15\" >0</td>\n",
       "      <td id=\"T_0bf00_row1_col16\" class=\"data row1 col16\" >0</td>\n",
       "      <td id=\"T_0bf00_row1_col17\" class=\"data row1 col17\" >0</td>\n",
       "    </tr>\n",
       "    <tr>\n",
       "      <th id=\"T_0bf00_level0_row2\" class=\"row_heading level0 row2\" >2</th>\n",
       "      <td id=\"T_0bf00_row2_col0\" class=\"data row2 col0\" >0</td>\n",
       "      <td id=\"T_0bf00_row2_col1\" class=\"data row2 col1\" >0</td>\n",
       "      <td id=\"T_0bf00_row2_col2\" class=\"data row2 col2\" >0</td>\n",
       "      <td id=\"T_0bf00_row2_col3\" class=\"data row2 col3\" >48</td>\n",
       "      <td id=\"T_0bf00_row2_col4\" class=\"data row2 col4\" >166</td>\n",
       "      <td id=\"T_0bf00_row2_col5\" class=\"data row2 col5\" >224</td>\n",
       "      <td id=\"T_0bf00_row2_col6\" class=\"data row2 col6\" >253</td>\n",
       "      <td id=\"T_0bf00_row2_col7\" class=\"data row2 col7\" >253</td>\n",
       "      <td id=\"T_0bf00_row2_col8\" class=\"data row2 col8\" >234</td>\n",
       "      <td id=\"T_0bf00_row2_col9\" class=\"data row2 col9\" >196</td>\n",
       "      <td id=\"T_0bf00_row2_col10\" class=\"data row2 col10\" >253</td>\n",
       "      <td id=\"T_0bf00_row2_col11\" class=\"data row2 col11\" >253</td>\n",
       "      <td id=\"T_0bf00_row2_col12\" class=\"data row2 col12\" >253</td>\n",
       "      <td id=\"T_0bf00_row2_col13\" class=\"data row2 col13\" >253</td>\n",
       "      <td id=\"T_0bf00_row2_col14\" class=\"data row2 col14\" >233</td>\n",
       "      <td id=\"T_0bf00_row2_col15\" class=\"data row2 col15\" >0</td>\n",
       "      <td id=\"T_0bf00_row2_col16\" class=\"data row2 col16\" >0</td>\n",
       "      <td id=\"T_0bf00_row2_col17\" class=\"data row2 col17\" >0</td>\n",
       "    </tr>\n",
       "    <tr>\n",
       "      <th id=\"T_0bf00_level0_row3\" class=\"row_heading level0 row3\" >3</th>\n",
       "      <td id=\"T_0bf00_row3_col0\" class=\"data row3 col0\" >0</td>\n",
       "      <td id=\"T_0bf00_row3_col1\" class=\"data row3 col1\" >93</td>\n",
       "      <td id=\"T_0bf00_row3_col2\" class=\"data row3 col2\" >244</td>\n",
       "      <td id=\"T_0bf00_row3_col3\" class=\"data row3 col3\" >249</td>\n",
       "      <td id=\"T_0bf00_row3_col4\" class=\"data row3 col4\" >253</td>\n",
       "      <td id=\"T_0bf00_row3_col5\" class=\"data row3 col5\" >187</td>\n",
       "      <td id=\"T_0bf00_row3_col6\" class=\"data row3 col6\" >46</td>\n",
       "      <td id=\"T_0bf00_row3_col7\" class=\"data row3 col7\" >10</td>\n",
       "      <td id=\"T_0bf00_row3_col8\" class=\"data row3 col8\" >8</td>\n",
       "      <td id=\"T_0bf00_row3_col9\" class=\"data row3 col9\" >4</td>\n",
       "      <td id=\"T_0bf00_row3_col10\" class=\"data row3 col10\" >10</td>\n",
       "      <td id=\"T_0bf00_row3_col11\" class=\"data row3 col11\" >194</td>\n",
       "      <td id=\"T_0bf00_row3_col12\" class=\"data row3 col12\" >253</td>\n",
       "      <td id=\"T_0bf00_row3_col13\" class=\"data row3 col13\" >253</td>\n",
       "      <td id=\"T_0bf00_row3_col14\" class=\"data row3 col14\" >233</td>\n",
       "      <td id=\"T_0bf00_row3_col15\" class=\"data row3 col15\" >0</td>\n",
       "      <td id=\"T_0bf00_row3_col16\" class=\"data row3 col16\" >0</td>\n",
       "      <td id=\"T_0bf00_row3_col17\" class=\"data row3 col17\" >0</td>\n",
       "    </tr>\n",
       "    <tr>\n",
       "      <th id=\"T_0bf00_level0_row4\" class=\"row_heading level0 row4\" >4</th>\n",
       "      <td id=\"T_0bf00_row4_col0\" class=\"data row4 col0\" >0</td>\n",
       "      <td id=\"T_0bf00_row4_col1\" class=\"data row4 col1\" >107</td>\n",
       "      <td id=\"T_0bf00_row4_col2\" class=\"data row4 col2\" >253</td>\n",
       "      <td id=\"T_0bf00_row4_col3\" class=\"data row4 col3\" >253</td>\n",
       "      <td id=\"T_0bf00_row4_col4\" class=\"data row4 col4\" >230</td>\n",
       "      <td id=\"T_0bf00_row4_col5\" class=\"data row4 col5\" >48</td>\n",
       "      <td id=\"T_0bf00_row4_col6\" class=\"data row4 col6\" >0</td>\n",
       "      <td id=\"T_0bf00_row4_col7\" class=\"data row4 col7\" >0</td>\n",
       "      <td id=\"T_0bf00_row4_col8\" class=\"data row4 col8\" >0</td>\n",
       "      <td id=\"T_0bf00_row4_col9\" class=\"data row4 col9\" >0</td>\n",
       "      <td id=\"T_0bf00_row4_col10\" class=\"data row4 col10\" >0</td>\n",
       "      <td id=\"T_0bf00_row4_col11\" class=\"data row4 col11\" >192</td>\n",
       "      <td id=\"T_0bf00_row4_col12\" class=\"data row4 col12\" >253</td>\n",
       "      <td id=\"T_0bf00_row4_col13\" class=\"data row4 col13\" >253</td>\n",
       "      <td id=\"T_0bf00_row4_col14\" class=\"data row4 col14\" >156</td>\n",
       "      <td id=\"T_0bf00_row4_col15\" class=\"data row4 col15\" >0</td>\n",
       "      <td id=\"T_0bf00_row4_col16\" class=\"data row4 col16\" >0</td>\n",
       "      <td id=\"T_0bf00_row4_col17\" class=\"data row4 col17\" >0</td>\n",
       "    </tr>\n",
       "    <tr>\n",
       "      <th id=\"T_0bf00_level0_row5\" class=\"row_heading level0 row5\" >5</th>\n",
       "      <td id=\"T_0bf00_row5_col0\" class=\"data row5 col0\" >0</td>\n",
       "      <td id=\"T_0bf00_row5_col1\" class=\"data row5 col1\" >3</td>\n",
       "      <td id=\"T_0bf00_row5_col2\" class=\"data row5 col2\" >20</td>\n",
       "      <td id=\"T_0bf00_row5_col3\" class=\"data row5 col3\" >20</td>\n",
       "      <td id=\"T_0bf00_row5_col4\" class=\"data row5 col4\" >15</td>\n",
       "      <td id=\"T_0bf00_row5_col5\" class=\"data row5 col5\" >0</td>\n",
       "      <td id=\"T_0bf00_row5_col6\" class=\"data row5 col6\" >0</td>\n",
       "      <td id=\"T_0bf00_row5_col7\" class=\"data row5 col7\" >0</td>\n",
       "      <td id=\"T_0bf00_row5_col8\" class=\"data row5 col8\" >0</td>\n",
       "      <td id=\"T_0bf00_row5_col9\" class=\"data row5 col9\" >0</td>\n",
       "      <td id=\"T_0bf00_row5_col10\" class=\"data row5 col10\" >43</td>\n",
       "      <td id=\"T_0bf00_row5_col11\" class=\"data row5 col11\" >224</td>\n",
       "      <td id=\"T_0bf00_row5_col12\" class=\"data row5 col12\" >253</td>\n",
       "      <td id=\"T_0bf00_row5_col13\" class=\"data row5 col13\" >245</td>\n",
       "      <td id=\"T_0bf00_row5_col14\" class=\"data row5 col14\" >74</td>\n",
       "      <td id=\"T_0bf00_row5_col15\" class=\"data row5 col15\" >0</td>\n",
       "      <td id=\"T_0bf00_row5_col16\" class=\"data row5 col16\" >0</td>\n",
       "      <td id=\"T_0bf00_row5_col17\" class=\"data row5 col17\" >0</td>\n",
       "    </tr>\n",
       "    <tr>\n",
       "      <th id=\"T_0bf00_level0_row6\" class=\"row_heading level0 row6\" >6</th>\n",
       "      <td id=\"T_0bf00_row6_col0\" class=\"data row6 col0\" >0</td>\n",
       "      <td id=\"T_0bf00_row6_col1\" class=\"data row6 col1\" >0</td>\n",
       "      <td id=\"T_0bf00_row6_col2\" class=\"data row6 col2\" >0</td>\n",
       "      <td id=\"T_0bf00_row6_col3\" class=\"data row6 col3\" >0</td>\n",
       "      <td id=\"T_0bf00_row6_col4\" class=\"data row6 col4\" >0</td>\n",
       "      <td id=\"T_0bf00_row6_col5\" class=\"data row6 col5\" >0</td>\n",
       "      <td id=\"T_0bf00_row6_col6\" class=\"data row6 col6\" >0</td>\n",
       "      <td id=\"T_0bf00_row6_col7\" class=\"data row6 col7\" >0</td>\n",
       "      <td id=\"T_0bf00_row6_col8\" class=\"data row6 col8\" >0</td>\n",
       "      <td id=\"T_0bf00_row6_col9\" class=\"data row6 col9\" >0</td>\n",
       "      <td id=\"T_0bf00_row6_col10\" class=\"data row6 col10\" >249</td>\n",
       "      <td id=\"T_0bf00_row6_col11\" class=\"data row6 col11\" >253</td>\n",
       "      <td id=\"T_0bf00_row6_col12\" class=\"data row6 col12\" >245</td>\n",
       "      <td id=\"T_0bf00_row6_col13\" class=\"data row6 col13\" >126</td>\n",
       "      <td id=\"T_0bf00_row6_col14\" class=\"data row6 col14\" >0</td>\n",
       "      <td id=\"T_0bf00_row6_col15\" class=\"data row6 col15\" >0</td>\n",
       "      <td id=\"T_0bf00_row6_col16\" class=\"data row6 col16\" >0</td>\n",
       "      <td id=\"T_0bf00_row6_col17\" class=\"data row6 col17\" >0</td>\n",
       "    </tr>\n",
       "    <tr>\n",
       "      <th id=\"T_0bf00_level0_row7\" class=\"row_heading level0 row7\" >7</th>\n",
       "      <td id=\"T_0bf00_row7_col0\" class=\"data row7 col0\" >0</td>\n",
       "      <td id=\"T_0bf00_row7_col1\" class=\"data row7 col1\" >0</td>\n",
       "      <td id=\"T_0bf00_row7_col2\" class=\"data row7 col2\" >0</td>\n",
       "      <td id=\"T_0bf00_row7_col3\" class=\"data row7 col3\" >0</td>\n",
       "      <td id=\"T_0bf00_row7_col4\" class=\"data row7 col4\" >0</td>\n",
       "      <td id=\"T_0bf00_row7_col5\" class=\"data row7 col5\" >0</td>\n",
       "      <td id=\"T_0bf00_row7_col6\" class=\"data row7 col6\" >0</td>\n",
       "      <td id=\"T_0bf00_row7_col7\" class=\"data row7 col7\" >14</td>\n",
       "      <td id=\"T_0bf00_row7_col8\" class=\"data row7 col8\" >101</td>\n",
       "      <td id=\"T_0bf00_row7_col9\" class=\"data row7 col9\" >223</td>\n",
       "      <td id=\"T_0bf00_row7_col10\" class=\"data row7 col10\" >253</td>\n",
       "      <td id=\"T_0bf00_row7_col11\" class=\"data row7 col11\" >248</td>\n",
       "      <td id=\"T_0bf00_row7_col12\" class=\"data row7 col12\" >124</td>\n",
       "      <td id=\"T_0bf00_row7_col13\" class=\"data row7 col13\" >0</td>\n",
       "      <td id=\"T_0bf00_row7_col14\" class=\"data row7 col14\" >0</td>\n",
       "      <td id=\"T_0bf00_row7_col15\" class=\"data row7 col15\" >0</td>\n",
       "      <td id=\"T_0bf00_row7_col16\" class=\"data row7 col16\" >0</td>\n",
       "      <td id=\"T_0bf00_row7_col17\" class=\"data row7 col17\" >0</td>\n",
       "    </tr>\n",
       "    <tr>\n",
       "      <th id=\"T_0bf00_level0_row8\" class=\"row_heading level0 row8\" >8</th>\n",
       "      <td id=\"T_0bf00_row8_col0\" class=\"data row8 col0\" >0</td>\n",
       "      <td id=\"T_0bf00_row8_col1\" class=\"data row8 col1\" >0</td>\n",
       "      <td id=\"T_0bf00_row8_col2\" class=\"data row8 col2\" >0</td>\n",
       "      <td id=\"T_0bf00_row8_col3\" class=\"data row8 col3\" >0</td>\n",
       "      <td id=\"T_0bf00_row8_col4\" class=\"data row8 col4\" >0</td>\n",
       "      <td id=\"T_0bf00_row8_col5\" class=\"data row8 col5\" >11</td>\n",
       "      <td id=\"T_0bf00_row8_col6\" class=\"data row8 col6\" >166</td>\n",
       "      <td id=\"T_0bf00_row8_col7\" class=\"data row8 col7\" >239</td>\n",
       "      <td id=\"T_0bf00_row8_col8\" class=\"data row8 col8\" >253</td>\n",
       "      <td id=\"T_0bf00_row8_col9\" class=\"data row8 col9\" >253</td>\n",
       "      <td id=\"T_0bf00_row8_col10\" class=\"data row8 col10\" >253</td>\n",
       "      <td id=\"T_0bf00_row8_col11\" class=\"data row8 col11\" >187</td>\n",
       "      <td id=\"T_0bf00_row8_col12\" class=\"data row8 col12\" >30</td>\n",
       "      <td id=\"T_0bf00_row8_col13\" class=\"data row8 col13\" >0</td>\n",
       "      <td id=\"T_0bf00_row8_col14\" class=\"data row8 col14\" >0</td>\n",
       "      <td id=\"T_0bf00_row8_col15\" class=\"data row8 col15\" >0</td>\n",
       "      <td id=\"T_0bf00_row8_col16\" class=\"data row8 col16\" >0</td>\n",
       "      <td id=\"T_0bf00_row8_col17\" class=\"data row8 col17\" >0</td>\n",
       "    </tr>\n",
       "    <tr>\n",
       "      <th id=\"T_0bf00_level0_row9\" class=\"row_heading level0 row9\" >9</th>\n",
       "      <td id=\"T_0bf00_row9_col0\" class=\"data row9 col0\" >0</td>\n",
       "      <td id=\"T_0bf00_row9_col1\" class=\"data row9 col1\" >0</td>\n",
       "      <td id=\"T_0bf00_row9_col2\" class=\"data row9 col2\" >0</td>\n",
       "      <td id=\"T_0bf00_row9_col3\" class=\"data row9 col3\" >0</td>\n",
       "      <td id=\"T_0bf00_row9_col4\" class=\"data row9 col4\" >0</td>\n",
       "      <td id=\"T_0bf00_row9_col5\" class=\"data row9 col5\" >16</td>\n",
       "      <td id=\"T_0bf00_row9_col6\" class=\"data row9 col6\" >248</td>\n",
       "      <td id=\"T_0bf00_row9_col7\" class=\"data row9 col7\" >250</td>\n",
       "      <td id=\"T_0bf00_row9_col8\" class=\"data row9 col8\" >253</td>\n",
       "      <td id=\"T_0bf00_row9_col9\" class=\"data row9 col9\" >253</td>\n",
       "      <td id=\"T_0bf00_row9_col10\" class=\"data row9 col10\" >253</td>\n",
       "      <td id=\"T_0bf00_row9_col11\" class=\"data row9 col11\" >253</td>\n",
       "      <td id=\"T_0bf00_row9_col12\" class=\"data row9 col12\" >232</td>\n",
       "      <td id=\"T_0bf00_row9_col13\" class=\"data row9 col13\" >213</td>\n",
       "      <td id=\"T_0bf00_row9_col14\" class=\"data row9 col14\" >111</td>\n",
       "      <td id=\"T_0bf00_row9_col15\" class=\"data row9 col15\" >2</td>\n",
       "      <td id=\"T_0bf00_row9_col16\" class=\"data row9 col16\" >0</td>\n",
       "      <td id=\"T_0bf00_row9_col17\" class=\"data row9 col17\" >0</td>\n",
       "    </tr>\n",
       "    <tr>\n",
       "      <th id=\"T_0bf00_level0_row10\" class=\"row_heading level0 row10\" >10</th>\n",
       "      <td id=\"T_0bf00_row10_col0\" class=\"data row10 col0\" >0</td>\n",
       "      <td id=\"T_0bf00_row10_col1\" class=\"data row10 col1\" >0</td>\n",
       "      <td id=\"T_0bf00_row10_col2\" class=\"data row10 col2\" >0</td>\n",
       "      <td id=\"T_0bf00_row10_col3\" class=\"data row10 col3\" >0</td>\n",
       "      <td id=\"T_0bf00_row10_col4\" class=\"data row10 col4\" >0</td>\n",
       "      <td id=\"T_0bf00_row10_col5\" class=\"data row10 col5\" >0</td>\n",
       "      <td id=\"T_0bf00_row10_col6\" class=\"data row10 col6\" >0</td>\n",
       "      <td id=\"T_0bf00_row10_col7\" class=\"data row10 col7\" >43</td>\n",
       "      <td id=\"T_0bf00_row10_col8\" class=\"data row10 col8\" >98</td>\n",
       "      <td id=\"T_0bf00_row10_col9\" class=\"data row10 col9\" >98</td>\n",
       "      <td id=\"T_0bf00_row10_col10\" class=\"data row10 col10\" >208</td>\n",
       "      <td id=\"T_0bf00_row10_col11\" class=\"data row10 col11\" >253</td>\n",
       "      <td id=\"T_0bf00_row10_col12\" class=\"data row10 col12\" >253</td>\n",
       "      <td id=\"T_0bf00_row10_col13\" class=\"data row10 col13\" >253</td>\n",
       "      <td id=\"T_0bf00_row10_col14\" class=\"data row10 col14\" >253</td>\n",
       "      <td id=\"T_0bf00_row10_col15\" class=\"data row10 col15\" >187</td>\n",
       "      <td id=\"T_0bf00_row10_col16\" class=\"data row10 col16\" >22</td>\n",
       "      <td id=\"T_0bf00_row10_col17\" class=\"data row10 col17\" >0</td>\n",
       "    </tr>\n",
       "  </tbody>\n",
       "</table>\n"
      ],
      "text/plain": [
       "<pandas.io.formats.style.Styler at 0x7f0657c07e20>"
      ]
     },
     "execution_count": 286,
     "metadata": {},
     "output_type": "execute_result"
    }
   ],
   "source": [
    "# now let's color code the values\n",
    "df.style.set_properties(**{'font-size':'6pt'}).background_gradient('Greys')"
   ]
  },
  {
   "cell_type": "markdown",
   "metadata": {},
   "source": [
    "## getting on with our baseline model\n",
    "\n",
    "The _baseline_ of our classifier will be very simple, as it should be:\n",
    "\n",
    "- find the average pixel value for every pixel of the 3s\n",
    "- find the average pixel value for every pixel of the 7s\n",
    "\n",
    "This gives us group averages that we may call \"ideal\" 3s and 7s. We would first classify a digit as a 3 if the average pixel value of the digit is closer to the ideal 3 than to the ideal 7, and vice versa."
   ]
  },
  {
   "cell_type": "code",
   "execution_count": 287,
   "metadata": {},
   "outputs": [
    {
     "data": {
      "text/plain": [
       "(6131, 6265)"
      ]
     },
     "execution_count": 287,
     "metadata": {},
     "output_type": "execute_result"
    }
   ],
   "source": [
    "# create tensors containing all 3s and 7s stacked together\n",
    "seven_tensors = [tensor(Image.open(o)) for o in sevens]\n",
    "three_tensors = [tensor(Image.open(o)) for o in threes]\n",
    "len(three_tensors),len(seven_tensors)"
   ]
  },
  {
   "cell_type": "code",
   "execution_count": 288,
   "metadata": {},
   "outputs": [
    {
     "data": {
      "text/plain": [
       "<Axes: >"
      ]
     },
     "execution_count": 288,
     "metadata": {},
     "output_type": "execute_result"
    },
    {
     "data": {
      "image/png": "[encoded data removed]",
      "text/plain": [
       "<Figure size 100x100 with 1 Axes>"
      ]
     },
     "metadata": {},
     "output_type": "display_data"
    }
   ],
   "source": [
    "# Jupyter ships with a function called `show_image` that knows how to render a tensor as an image\n",
    "show_image(three_tensors[1])"
   ]
  },
  {
   "cell_type": "markdown",
   "metadata": {},
   "source": [
    "## rank-3 tensors\n",
    "\n",
    "For every pixel position, we want to compute the average over all the images of the intensity of that pixel. \n",
    "\n",
    "To do this we first combine all the images in this list into a single three-dimensional tensor. \n",
    "\n",
    "The most common way to describe such a tensor is to call it a _rank-3 tensor_.\n",
    "\n",
    "See an example of what that might look like below:\n",
    "\n",
    "![rank-3 tensor.png](./rank-3-tensor.png)\n",
    "\n",
    "A rank-3 tensor is essentially a cube of numbers.\n",
    "\n",
    "To index a number of that tensor, you would need:\n",
    "\n",
    "- the layer\n",
    "- the row\n",
    "- the column\n",
    "\n",
    "### how did we conclude that we needed a rank-3 tensor?\n",
    "\n",
    "- Each image is a 2d matrix of pixels (rows and columns, e.g. a _rank-2 tensor_)\n",
    "- Each element in the matrix corresponds to a pixel intensity (a scalar value, e.g. a _rank-1 tensor_)\n",
    "- To ease computing of the average of each pixel intensity over all images, you would stack each of these matrices on top of each other: there you have it, a _rank-3 tensor_"
   ]
  },
  {
   "cell_type": "code",
   "execution_count": 289,
   "metadata": {},
   "outputs": [
    {
     "data": {
      "text/plain": [
       "torch.Size([6131, 28, 28])"
      ]
     },
     "execution_count": 289,
     "metadata": {},
     "output_type": "execute_result"
    }
   ],
   "source": [
    "# let's our images and cast our stacked tensors as float tensors for further computation\n",
    "# we also normaliste our pixel values to be between 0 and 1 by dividing by 255\n",
    "stacked_sevens = torch.stack(seven_tensors).float()/255\n",
    "stacked_threes = torch.stack(three_tensors).float()/255\n",
    "\n",
    "# a _shape_ tells us the length of each axis of a tensor\n",
    "stacked_threes.shape"
   ]
  },
  {
   "cell_type": "markdown",
   "metadata": {},
   "source": [
    "The previous output says to us: \"we have 6131 images, each of size 28x28 pixels\". \n",
    "\n",
    "We can define the _shape_ as **the size of each axis in a tensor**."
   ]
  },
  {
   "cell_type": "code",
   "execution_count": 290,
   "metadata": {},
   "outputs": [
    {
     "data": {
      "text/plain": [
       "3"
      ]
     },
     "execution_count": 290,
     "metadata": {},
     "output_type": "execute_result"
    }
   ],
   "source": [
    "# the _length_ of a tensor's shape is its _rank_\n",
    "len(stacked_threes.shape)"
   ]
  },
  {
   "cell_type": "code",
   "execution_count": 291,
   "metadata": {},
   "outputs": [
    {
     "data": {
      "text/plain": [
       "3"
      ]
     },
     "execution_count": 291,
     "metadata": {},
     "output_type": "execute_result"
    }
   ],
   "source": [
    "# you could also get the rank of a tensor like so\n",
    "stacked_threes.ndim"
   ]
  },
  {
   "cell_type": "markdown",
   "metadata": {},
   "source": [
    "The _dimension_ 0 of our rank-3 tensor is the number of images.\n",
    "\n",
    "Here is how you would compute the average pixel intensity for each pixel position:"
   ]
  },
  {
   "cell_type": "code",
   "execution_count": 292,
   "metadata": {},
   "outputs": [
    {
     "data": {
      "text/plain": [
       "<Axes: >"
      ]
     },
     "execution_count": 292,
     "metadata": {},
     "output_type": "execute_result"
    },
    {
     "data": {
      "image/png": "[encoded data removed]",
      "text/plain": [
       "<Figure size 100x100 with 1 Axes>"
      ]
     },
     "metadata": {},
     "output_type": "display_data"
    }
   ],
   "source": [
    "ideal3 = stacked_threes.mean(0)\n",
    "show_image(ideal3)"
   ]
  },
  {
   "cell_type": "code",
   "execution_count": 293,
   "metadata": {},
   "outputs": [
    {
     "data": {
      "text/plain": [
       "<Axes: >"
      ]
     },
     "execution_count": 293,
     "metadata": {},
     "output_type": "execute_result"
    },
    {
     "data": {
      "image/png": "[encoded data removed]",
      "text/plain": [
       "<Figure size 100x100 with 1 Axes>"
      ]
     },
     "metadata": {},
     "output_type": "display_data"
    }
   ],
   "source": [
    "# let's do the same thing for the 7s\n",
    "ideal7 = stacked_sevens.mean(0)\n",
    "show_image(ideal7)"
   ]
  },
  {
   "cell_type": "markdown",
   "metadata": {},
   "source": [
    "## Test the baseline model\n",
    "\n",
    "Now that we have an idea of what our ideal 3 and 7 look like, we can try to classify our images. To test our baseline, we would pick an arbitrary number from the dataset and measure its distance from its _ideal_ representation."
   ]
  },
  {
   "cell_type": "code",
   "execution_count": 294,
   "metadata": {},
   "outputs": [
    {
     "data": {
      "text/plain": [
       "<Axes: >"
      ]
     },
     "execution_count": 294,
     "metadata": {},
     "output_type": "execute_result"
    },
    {
     "data": {
      "image/png": "[encoded data removed]",
      "text/plain": [
       "<Figure size 100x100 with 1 Axes>"
      ]
     },
     "metadata": {},
     "output_type": "display_data"
    }
   ],
   "source": [
    "# here is our sample number for our test\n",
    "a_3 = stacked_threes[1]\n",
    "show_image(a_3)"
   ]
  },
  {
   "cell_type": "markdown",
   "metadata": {},
   "source": [
    "To calculate the distance from the baseline `3`, we can't just add up the differences in intensity between each of the pixels of both images. It is so because some differences would cancel out (light vs dark pixels), and that would be misleading as very different pixels could have a value of zero, which would mean \"no difference from the ideal digit representation\".\n",
    "\n",
    "There are two main ways data scientists measure distance in this context:\n",
    "\n",
    "- take the mean absolute value of differences: this is called _mean absolute difference_ or _L1 norm_\n",
    "- take the mean of the square of differences (which makes everything positive) and then take the square root (which undoes the squaring): this is called _root mean squared error_ or _L2 norm_"
   ]
  },
  {
   "cell_type": "code",
   "execution_count": 295,
   "metadata": {},
   "outputs": [
    {
     "data": {
      "text/plain": [
       "tensor(0.1114)"
      ]
     },
     "execution_count": 295,
     "metadata": {},
     "output_type": "execute_result"
    }
   ],
   "source": [
    "# let's try the `L1` norm\n",
    "dist3_l1 = (a_3 - ideal3).abs().mean()\n",
    "\n",
    "dist3_l1"
   ]
  },
  {
   "cell_type": "code",
   "execution_count": 296,
   "metadata": {},
   "outputs": [
    {
     "data": {
      "text/plain": [
       "tensor(0.2021)"
      ]
     },
     "execution_count": 296,
     "metadata": {},
     "output_type": "execute_result"
    }
   ],
   "source": [
    "# let's try the `L2` norm now\n",
    "dist3_l2 = ((a_3 - ideal3)**2).mean().sqrt()\n",
    "\n",
    "dist3_l2"
   ]
  },
  {
   "cell_type": "code",
   "execution_count": 297,
   "metadata": {},
   "outputs": [
    {
     "data": {
      "text/plain": [
       "tensor(0.1586)"
      ]
     },
     "execution_count": 297,
     "metadata": {},
     "output_type": "execute_result"
    }
   ],
   "source": [
    "# let's check if our arbitraty number is a 3 or a 7 using both methods\n",
    "\n",
    "# `L1` norm\n",
    "dist7_l1 = (a_3 - ideal7).abs().mean()\n",
    "dist7_l1"
   ]
  },
  {
   "cell_type": "code",
   "execution_count": 298,
   "metadata": {},
   "outputs": [
    {
     "data": {
      "text/plain": [
       "tensor(0.3021)"
      ]
     },
     "execution_count": 298,
     "metadata": {},
     "output_type": "execute_result"
    }
   ],
   "source": [
    "# we'll use the `L2` norm\n",
    "dist7_l2 = ((a_3 - ideal7)**2).mean().sqrt()\n",
    "dist7_l2"
   ]
  },
  {
   "cell_type": "markdown",
   "metadata": {},
   "source": [
    "From the little experiment we've just run, we can see that our baseline model predicts right in this particular case.\n",
    "\n",
    "We could have done the same thing with `PyTorch`, which provides loss functions (among many other things), as shown below:"
   ]
  },
  {
   "cell_type": "code",
   "execution_count": 299,
   "metadata": {},
   "outputs": [
    {
     "data": {
      "text/plain": [
       "tensor(0.1586)"
      ]
     },
     "execution_count": 299,
     "metadata": {},
     "output_type": "execute_result"
    }
   ],
   "source": [
    "dist7_l1_torch = F.l1_loss(a_3.float(), ideal7)\n",
    "dist7_l1_torch"
   ]
  },
  {
   "cell_type": "code",
   "execution_count": 300,
   "metadata": {},
   "outputs": [
    {
     "data": {
      "text/plain": [
       "tensor(0.3021)"
      ]
     },
     "execution_count": 300,
     "metadata": {},
     "output_type": "execute_result"
    }
   ],
   "source": [
    "dist7_l2_torch = F.mse_loss(a_3, ideal7).sqrt()\n",
    "dist7_l2_torch"
   ]
  },
  {
   "cell_type": "markdown",
   "metadata": {},
   "source": [
    "## L1 vs L2 norms\n",
    "\n",
    "The main difference between L1 norm and MSE is that the latter will penalize bigger mistakes more heavily than the former, which may be more lenient with small mistakes."
   ]
  },
  {
   "cell_type": "markdown",
   "metadata": {},
   "source": [
    "## Defining a metric for our baseline model\n",
    "\n",
    "A metric is a number that is calculated based on the predictions of our model, and the correct labels in our dataset, in order to tell us how good our model is.\n",
    "\n",
    "In practice, _accuracy_ is a common metric for classification models.\n",
    "\n",
    "- The _error rate_ in deep learning refers to the difference between the predicted output and the actual output of a neural network. It is a measure of how well the network is performing on a given task. In this context, _accuracy_ can be defined as `1.0 - error rate`.\n",
    "\n",
    "A metric is always calculated over a _validation_ set.\n",
    "\n",
    "To get a validation set, we need to remove some of the data of the training set entirely, so it's not seen by the model at all during training."
   ]
  },
  {
   "cell_type": "code",
   "execution_count": 301,
   "metadata": {},
   "outputs": [
    {
     "data": {
      "text/plain": [
       "(torch.Size([1010, 28, 28]), torch.Size([1028, 28, 28]))"
      ]
     },
     "execution_count": 301,
     "metadata": {},
     "output_type": "execute_result"
    }
   ],
   "source": [
    "# let's create tensors for 3s and 7s using the MNIST validation set\n",
    "valid_3_tens = torch.stack([tensor(Image.open(o)) for o in (path/'valid'/'3').ls()])\n",
    "valid_3_tens = valid_3_tens.float()/255\n",
    "\n",
    "valid_7_tens = torch.stack([tensor(Image.open(o)) for o in (path/'valid'/'7').ls()])\n",
    "valid_7_tens = valid_7_tens.float()/255\n",
    "\n",
    "# here we divided both tensors by 255 to normalize the pixel values between 0 and 1\n",
    "\n",
    "# x images of size 28x28 pixels\n",
    "valid_3_tens.shape,valid_7_tens.shape"
   ]
  },
  {
   "cell_type": "code",
   "execution_count": 302,
   "metadata": {},
   "outputs": [
    {
     "data": {
      "text/plain": [
       "tensor(0.1114)"
      ]
     },
     "execution_count": 302,
     "metadata": {},
     "output_type": "execute_result"
    }
   ],
   "source": [
    "# now let's write the function that will decide if a number is a 3 or a 7\n",
    "def mnist_distance(a,b): return (a-b).abs().mean((-1,-2))\n",
    "mnist_distance(a_3, ideal3)\n"
   ]
  },
  {
   "cell_type": "markdown",
   "metadata": {},
   "source": [
    "## why `mean((-1,-2))`\n",
    "\n",
    "The `mean` function in `PyTorch` can take a tuple of axes to take the mean of. In this case, we want to take the mean over the last two dimensions (in this case, the horizontal and vertical dimensions of an image).\n",
    "\n",
    "The tuple `(-1,-2)` represents a range of axes.\n",
    "\n",
    "This effectively allows us to make batch calculations on rank-3 tensors, as you will see in the example below."
   ]
  },
  {
   "cell_type": "code",
   "execution_count": 303,
   "metadata": {},
   "outputs": [
    {
     "data": {
      "text/plain": [
       "(tensor([0.1147, 0.1423, 0.1413,  ..., 0.1093, 0.1156, 0.1193]),\n",
       " torch.Size([1010]))"
      ]
     },
     "execution_count": 303,
     "metadata": {},
     "output_type": "execute_result"
    }
   ],
   "source": [
    "# applying the same calculation for every image in our validation set\n",
    "valid_3_dist = mnist_distance(valid_3_tens, ideal3)\n",
    "valid_3_dist, valid_3_dist.shape\n",
    "\n",
    "# for every image, we averaged the intensity of all pixels in that image;\n",
    "# we are left with a rank-1 tensor of length 1010 after this operation"
   ]
  },
  {
   "cell_type": "markdown",
   "metadata": {},
   "source": [
    "`PyTorch` is so versatile it didn't even complain about shapes not matching and calculated the distance for each image instead !\n",
    "\n",
    "This is made possible because `PyTorch` uses _broadcasting_ under the hood: e.g. the ability expand a lower rank tensor to have the same size as a higher rank input tensor during a calculation. This is why this type of operation is possible:\n",
    "\n",
    "```python\n",
    "tensor([1,2,3]) + tensor(1) # tensor([2,3,4])\n",
    "```\n",
    "\n",
    "When applying the `abs()` function on a tensor, you get back a matrix of absolute values.\n",
    "\n",
    "Now let's continue with the function that determines if the number is a `3` or a `7`:"
   ]
  },
  {
   "cell_type": "code",
   "execution_count": 304,
   "metadata": {},
   "outputs": [
    {
     "data": {
      "text/plain": [
       "(tensor(True), tensor(1.))"
      ]
     },
     "execution_count": 304,
     "metadata": {},
     "output_type": "execute_result"
    }
   ],
   "source": [
    "def is_3(x): return mnist_distance(x,ideal3) < mnist_distance(x,ideal7)\n",
    "\n",
    "# let's test the function\n",
    "is_3(a_3), is_3(a_3).float()"
   ]
  },
  {
   "cell_type": "code",
   "execution_count": 305,
   "metadata": {},
   "outputs": [
    {
     "data": {
      "text/plain": [
       "tensor([True, True, True,  ..., True, True, True])"
      ]
     },
     "execution_count": 305,
     "metadata": {},
     "output_type": "execute_result"
    }
   ],
   "source": [
    "# let's do the same thing at scale\n",
    "is_3(valid_3_tens)"
   ]
  },
  {
   "cell_type": "code",
   "execution_count": 306,
   "metadata": {},
   "outputs": [
    {
     "data": {
      "text/plain": [
       "tensor([1., 1., 1.,  ..., 1., 1., 1.])"
      ]
     },
     "execution_count": 306,
     "metadata": {},
     "output_type": "execute_result"
    }
   ],
   "source": [
    "# again but as floats\n",
    "is_3(valid_3_tens).float()"
   ]
  },
  {
   "cell_type": "code",
   "execution_count": 307,
   "metadata": {},
   "outputs": [
    {
     "data": {
      "text/plain": [
       "tensor(0.9168)"
      ]
     },
     "execution_count": 307,
     "metadata": {},
     "output_type": "execute_result"
    }
   ],
   "source": [
    "# get the mean of correct predictions\n",
    "accuracy_3s = is_3(valid_3_tens).float().mean()\n",
    "accuracy_3s"
   ]
  },
  {
   "cell_type": "code",
   "execution_count": 308,
   "metadata": {},
   "outputs": [
    {
     "data": {
      "text/plain": [
       "tensor(0.9854)"
      ]
     },
     "execution_count": 308,
     "metadata": {},
     "output_type": "execute_result"
    }
   ],
   "source": [
    "# let's do the above steps for 7s\n",
    "accuracy_7s = (1 - is_3(valid_7_tens).float()).mean()\n",
    "accuracy_7s\n",
    "\n",
    "# we use the inverse here with `1 - is_3` because we want to know how many 7s we correctly identified (OR logic)"
   ]
  },
  {
   "cell_type": "markdown",
   "metadata": {},
   "source": [
    "We can conclude from the above that we have a pretty good baseline for 2 numbers !\n",
    "\n",
    "However, we are limited by the fact that we need to classify more than 2 numbers. This is where _Stochastic Gradient Descent_ (SGD) comes in."
   ]
  },
  {
   "cell_type": "markdown",
   "metadata": {},
   "source": [
    "## Introducing SGD\n",
    "\n",
    "In our pixels similarity approach, we don't have any kind of weight assignment, or any way of improving our classifier based on testing the effectiveness of a weight assignment.\n",
    "\n",
    "### A little aparté on weight assignment\n",
    "\n",
    "Weights are just variables, and a weight assignment is a particular choice of values for those variables. The program's inputs are values that it processes in order to produce its results, for instance, taking image pixels as inputs and returning the classification \"dog\" as a result. The program's weight assignments are other values that define how the program will operate.\n",
    "\n",
    "A traditional program takes input and outputs results, whereas a machine learning program takes inputs and weights to output its results. Another difference is that the _program_ is a set of conditionals, loops, etc. whereas the _model_ is a mathematical function that minimizes errors to improve its accuracy. This function:\n",
    "  - takes the inputs\n",
    "  - multiplies them by a set of weights (nowaydays called `parameters`)\n",
    "  - adds them up\n",
    "  - redoes this process\n",
    "  - once it's done, it takes all the negative numbers and replaces them with 0s\n",
    "  - it then takes these inputs to a next _layer_ and redoes the whole process\n",
    "\n",
    "This is how a deep learning model works, in contrast of a more classic program, which does not have weights:\n",
    "\n",
    "  ![deep learning training cycle](https://storage.googleapis.com/pips_resources_images/blog/deep_learning_training_cycle.png)\n",
    "\n",
    "Adjusting the weights here should have be done in the goal of maximizing the model's performance. This adjustment can be done automatically. \n",
    "\n",
    "As you can see, we aslo differentiate `results` from `performance`. For instance, the results can be the classification of an image, and the performance can be the accuracy of the classification.\n",
    "The _loss_ is what is used to provide a better set of weights to the model, e.g. the model should aim at making the loss smaller\n",
    "\n",
    "At some point, we can decide that a model is trained, that is we've chosen our favorite weight assignment; you will generally include the weights as part of the model at the end of this process. You can also note that a trained model can be treated like any other computer program when the training is over, this leverages powerful APIs. Another thing to note: once the model is trained, predicting (_inference_) is faster than training.  \n",
    "\n",
    "A neural network is a mathematical function that is extremely flexible and that depends on its weights.  Neural networks are powerful tools because they can solve a very wide array of problems just by finding the right weights.\n",
    "\n",
    "Weights in an AI model are numerical values that define how strongly given inputs to a node or neuron influence its output, in other words, they are the _parameters_ that are learned during the training process.\n",
    "\n",
    "Using neural networks gives the operator enough flexibility to focus his efforts on training the model, e.g. finding good weights assignments.\n",
    "\n",
    "Weight assignment in deep learning is like giving each input a score that affects how much it influences the output. For example, if you have a neural network that predicts the price of a house based on its size and location, you might give more weight to the size than the location, because size is more important for the price. The weights are usually random numbers at first, but they change as the network learns from the data. The way you choose the initial weights can affect how well the network learns and performs.\n",
    "\n",
    "One way to choose the initial weights is to use some rules based on the type of function that each node uses to calculate its output. For example, some functions are like switches that turn on or off depending on the input, while others are like curves that smoothly change from low to high. Different rules work better for different functions, so you have to match them accordingly.\n",
    "\n",
    "_Stochastic gradient descent_ is a technique used to update the weights of a neural network in order to make it improve at any given task. Its power resides in the fact that it provides a way of finding weight values automatically.\n",
    "\n",
    "### Using another approach to classify digits\n",
    "\n",
    "Now, back to our problem.\n",
    "\n",
    "Instead of trying to find the similarity between an image and an \"ideal image,\" we could instead look at each individual pixel and come up with a set of weights for each one.\n",
    "\n",
    "For instance, pixels toward the bottom right are not very likely to activate neurons for a 7, so they should have a low weight for a 7, but they are likely to be activated for an 8, so they should have a high weight for an 8. \n",
    "\n",
    "This can be represented as a function with a set of weight values for each possible category, for instance the probability of being the number 8 =>\n",
    "\n",
    "```python\n",
    "def pr_eight(image_vector, weights_vector): return (image_vector * weights_vector).sum()\n",
    "```\n",
    "\n",
    "Here, the image represented as a vector is basically \"all the rows stacked up end to end on a single long line\". With this kind of function, we just need some way to update the weights to make them better and better at distinguishing between digits: we want to find the specific values for the weights that cause the result of our function to be high for images that are actually 8s, and low for images that are not. Searching for the best weights is a way of searching for the best function that recognizes 8s.\n",
    "\n",
    "These are the steps that will turn our function into a machine learning classifier:\n",
    "\n",
    "1. _Initialize_ the weights with random values\n",
    "2. For each image, use these weights to predict whether it appears to be a 3 or a 7\n",
    "3. Based on these predictions, calculate how good the model is (its _loss_)\n",
    "4. Calculate the _gradient_, which measures for each weight, how changing that weight would change the loss\n",
    "  - The gradients will tell us how much we have to change each weight to make our model better\n",
    "5. _Step_ (that is, _change_) all the weights based on that calculation\n",
    "    - A simple way to figure out whether a weight should be increased a bit, or decreased a bit, would be just to try it: increase the weight by a small amount, and see if the loss goes up or down. Once you find the correct direction, you could then change that amount by a bit more, and a bit less, until you find an amount that works well. However, this is slow! As we will see, the magic of calculus allows us to directly figure out in which direction, and by roughly how much, to change each weight, without having to try all these small changes. The way to do this is by calculating gradients. This is just a performance optimization, we would get exactly the same results by using the slower manual process as well.\n",
    "6. Go back to the step 2, and repeat the process\n",
    "7. Iterate until you decide to stop the training process (for instance, because the model is good enough or you don't want to wait any longer)\n",
    "  - Generally, you would want to stop the training process when the model stops improving or gets worse\n",
    "\n",
    "These relatively simple steps are the basis for nearly all deep learning models.\n",
    "\n",
    "Calculating gradients relies heavily on derivatives. \n",
    "\n",
    "Derivatives are a way of finding **the instantaneous rate of change** or **the slope** of a function at any given point. A derivative in calculus is a measure of how a function changes as its input changes. It's like the speedometer of a car; it tells you how fast you're going at any point in time. Derivatives calculate the change of a function, not it's value.\n",
    "\n",
    "For example, if `f'(2) = 4`; this means several things:\n",
    "\n",
    "- at `x = 2` the slope of the function `f(x)` is `4`\n",
    "- we can interpret that any small change in `x` around `2` will increase `f(x)` 4 times as fast\n",
    "\n",
    "When we know how a function changes, we know what we need to make its value smaller.\n",
    "\n",
    "One important thing to be aware of is that our function has lots of weights that we need to adjust, so when we calculate the derivative we won't get back one number, but lots of them—a gradient for every weight. But there is nothing mathematically tricky here; you can calculate the derivative with respect to one weight, and treat all the other ones as constant, then repeat that for each other weight. This is how all of the gradients are calculated, for every weight.\n",
    "\n",
    "Thankfully, `PyTorch` can automatically compute the derivative of nearly any function!\n",
    "\n",
    "### Compute derivatives with `PyTorch`\n",
    "\n",
    "Consider the statement below:\n",
    "\n",
    "```python\n",
    "xt = tensor(3.).requires_grad_()\n",
    "```\n",
    "\n",
    "This statement does 2 main things:\n",
    "\n",
    "- creates a tensor `xt` with the value `3.`\n",
    "- it enables the gradient computation with `requires_grad_()`: this has the effect of modfying the tensor so that `PyTorch` keeps track of the operations performed directly on it using a computation graph, this feature being later used to calculate the gradients (_automatic differentiation_)\n",
    "\n",
    "Let's see this in action with a simple example."
   ]
  },
  {
   "cell_type": "code",
   "execution_count": 309,
   "metadata": {},
   "outputs": [
    {
     "data": {
      "text/plain": [
       "(tensor(3., requires_grad=True),\n",
       " tensor(6.),\n",
       " tensor(9., grad_fn=<PowBackward0>))"
      ]
     },
     "execution_count": 309,
     "metadata": {},
     "output_type": "execute_result"
    }
   ],
   "source": [
    "# creating our tensor and enabling gradients computation\n",
    "xt = torch.tensor(3.).requires_grad_()\n",
    "\n",
    "# perform operations on the tensor using the example of a simple quadratic function\n",
    "yt = xt**2\n",
    "\n",
    "## let's compute the derivative of `yt` with respect to `xt` (backward propagation)\n",
    "yt.backward()\n",
    "\n",
    "# let's see the valuese of `xt`, its derivative (`gradient` in deep learning jargon), and `yt`;\n",
    "# here, `xt.grad` is the derivative of `yt` with respect to `xt`\n",
    "xt, xt.grad, yt"
   ]
  },
  {
   "cell_type": "markdown",
   "metadata": {},
   "source": [
    "Using the `backward` method above refers to _backpropagation_, which is the process of calculating the derivative of each layer.\n",
    "\n",
    "Let's do the same thing with more values."
   ]
  },
  {
   "cell_type": "code",
   "execution_count": 310,
   "metadata": {},
   "outputs": [
    {
     "data": {
      "text/plain": [
       "tensor([ 3.,  4., 10.], requires_grad=True)"
      ]
     },
     "execution_count": 310,
     "metadata": {},
     "output_type": "execute_result"
    }
   ],
   "source": [
    "xt = tensor([3.,4.,10.]).requires_grad_()\n",
    "xt"
   ]
  },
  {
   "cell_type": "code",
   "execution_count": 311,
   "metadata": {},
   "outputs": [
    {
     "data": {
      "text/plain": [
       "tensor(125., grad_fn=<SumBackward0>)"
      ]
     },
     "execution_count": 311,
     "metadata": {},
     "output_type": "execute_result"
    }
   ],
   "source": [
    "# taking in a rank-1 tensor and returning a tensor with a scalar value (rank-0 tensor)\n",
    "def f(x): return (x**2).sum()\n",
    "\n",
    "yt = f(xt)\n",
    "yt"
   ]
  },
  {
   "cell_type": "code",
   "execution_count": 312,
   "metadata": {},
   "outputs": [
    {
     "data": {
      "text/plain": [
       "tensor([ 6.,  8., 20.])"
      ]
     },
     "execution_count": 312,
     "metadata": {},
     "output_type": "execute_result"
    }
   ],
   "source": [
    "# let's get the gradients\n",
    "yt.backward()\n",
    "xt.grad"
   ]
  },
  {
   "cell_type": "markdown",
   "metadata": {},
   "source": [
    "As we have just seen, the gradients only tell us the slope of the function, but they don't tell us how we should adjust our weights. However it gives us useful indications:\n",
    "\n",
    "- if the slope is very large, then that may suggest that we have more adjustments to do\n",
    "- if the slope is very small, then that may suggest that we are close to the optimal value"
   ]
  },
  {
   "cell_type": "markdown",
   "metadata": {},
   "source": [
    "### The notion of _learning rate_\n",
    "\n",
    "The _learning rate_ is the number by which you multiply the gradients in a gradients descent.\n",
    "\n",
    "Deciding how to change our weights based on the values of the gradients is an important part of the deep learning process. Nearly all approaches start with the basic idea of multiplying the gradient by some small number, called the learning rate (LR). The learning rate is often a number between 0.001 and 0.1, although it could be anything.\n",
    "\n",
    "Deciding which learning rate to use is a trial and error process. If you make it too big, your model will diverge, which means it will get worse and worse. But if you make it too small, the model will eventually improve, but it will take forever to converge.\n",
    "\n",
    "The _learning rate_ is a hyperparameter: it controls how much the program adjusts its parameters in response to the feedback it gets. To understand with an analogy:\n",
    "  - imagine a robot trying to learn how to walk\n",
    "  - the learning rate would be the size of the steps the robot takes\n",
    "  - if the steps are too wide, the robot will fall (overcorrecting)\n",
    "  - if the steps are too small, the robot will take a long time to learn and hardly make any progress (undercorrecting)\n",
    "\n",
    "Here is a visual representation of an undercorrecting model:\n",
    "\n",
    "![undercorrecting model](https://raw.githubusercontent.com/fastai/fastbook/823b69e00aa1e1c1a45fe88bd346f11e8f89c1ff//images/chapter2_small.svg)\n",
    "\n",
    "And here are some overcorrecting models examples:\n",
    "\n",
    "![overcorrecting model](https://raw.githubusercontent.com/fastai/fastbook/823b69e00aa1e1c1a45fe88bd346f11e8f89c1ff/images/chapter2_div.svg)\n",
    "\n",
    "![overcorrecting model](https://raw.githubusercontent.com/fastai/fastbook/823b69e00aa1e1c1a45fe88bd346f11e8f89c1ff//images/chapter2_bouncy.svg)\n",
    "\n",
    "... as you can see, the first one makes steps that are too big, resulting in a lousy performance, and the other bounces back and forth because of a step that may be a little too high, this would cause training to be very slow.\n",
    "\n",
    "Adjusting the weights of our model can be then expressed as simply as:\n",
    "\n",
    "```python\t\n",
    "weights -= gradient * lr\n",
    "```\n",
    "\n",
    "This what _stepping the weights_ actually means.\n",
    "\n",
    "We use a substraction here to allow:\n",
    "\n",
    "- in case the slope is positive, the weight to be decreased\n",
    "- in case the slope is negative, the weight to be increased\n",
    "\n",
    "Remember: our ultimate goal is to minimize the loss."
   ]
  },
  {
   "cell_type": "markdown",
   "metadata": {},
   "source": [
    "### SGD example with a synthetic model\n",
    "\n",
    "Gradient descent basically means that for a function `y = ax^2 + bx +c`, we will repeatedly try to find the most optimal values for `a`, `b`, and `c` so that the function is the closest possible to the actual data points. \n",
    "\n",
    "This is done by calculating the gradient of the function, which is the slope of the function at a given point. The gradient tells us how much we need to change the values of `a`, `b`, and `c` to make the function closer to the data points. \n",
    "\n",
    "The goal here is to update the values of `a`, `b`, and `c` by subtracting the gradient from them. This process is repeated until the function converges to the optimal values of `a`, `b`, and `c`. This is how _loss_ is minimized.\n",
    "\n",
    "Gradient descent is the foundation of deep learning: it iterates over and over again to set some parameters in order to make a function, the addition of lots of rectified linear units, match your data. SGD mainly relies on a lot of addition and multiplication.\n",
    "\n",
    "Imagine you were measuring the spped of a roller coaster as it goes over the top of a hump. You would expect it to be fastest at the bottom, and slowest at the top, and then it would slow up again as it goes up the other side: you want to build a model of how the speed changes over time."
   ]
  },
  {
   "cell_type": "code",
   "execution_count": 313,
   "metadata": {},
   "outputs": [
    {
     "data": {
      "text/plain": [
       "tensor([ 0.,  1.,  2.,  3.,  4.,  5.,  6.,  7.,  8.,  9., 10., 11., 12., 13., 14., 15., 16., 17., 18., 19.])"
      ]
     },
     "execution_count": 313,
     "metadata": {},
     "output_type": "execute_result"
    }
   ],
   "source": [
    "# let's use a scenario where we measure the speed of our roller coaster every 20 seconds\n",
    "measurements_times = torch.arange(0,20).float(); \n",
    "measurements_times\n",
    "\n",
    "# `torch.arange` is a function that returns a rank-1 tensor containing a range of values within the specified range"
   ]
  },
  {
   "cell_type": "code",
   "execution_count": 314,
   "metadata": {},
   "outputs": [
    {
     "data": {
      "text/plain": [
       "<matplotlib.collections.PathCollection at 0x7f065fcdec80>"
      ]
     },
     "execution_count": 314,
     "metadata": {},
     "output_type": "execute_result"
    },
    {
     "data": {
      "image/png": "[encoded data removed]",
      "text/plain": [
       "<Figure size 640x480 with 1 Axes>"
      ]
     },
     "metadata": {},
     "output_type": "display_data"
    }
   ],
   "source": [
    "# let's simulate the measurements of the roller coaster's speed, we'll add some noise to the measurements,\n",
    "# since these kinds of endeavors are never perfectly precise in real life\n",
    "measurements_speed = torch.randn(20)*3 + 0.75*(measurements_times - 9.5)**2 + 1\n",
    "\n",
    "plt.scatter(measurements_times, measurements_speed)"
   ]
  },
  {
   "cell_type": "markdown",
   "metadata": {},
   "source": [
    "Since we've added noise, it's not that easy to answer the question: what was the roller coaster's speed at a given point ? Let's guess that the function that will give us the speed is a quadratic function, e.g. a function of the form `a*(time**2) + b*time + c`.\n",
    "\n",
    "We want to cleary make the distinction between 2 things:\n",
    "\n",
    "- the function's input, which is the time at which we measured the speed\n",
    "- the function's parameters, which are the values `a`, `b` and `c`, e.g. the values that define _quadratic_ we're trying\n",
    "\n",
    "Let's represent this idea in code, by separating the input from the parameters in our quadratic function signature:"
   ]
  },
  {
   "cell_type": "code",
   "execution_count": 315,
   "metadata": {},
   "outputs": [],
   "source": [
    "def function_to_fit(function_input, function_params):\n",
    "    a,b,c = function_params\n",
    "    return a*(function_input**2) + (b*function_input) + c"
   ]
  },
  {
   "cell_type": "markdown",
   "metadata": {},
   "source": [
    "What we are doing here is that we are trying to find the best imaginable function that fits the data. This is a simplification since, now, all we have to do is find the best values for `a`, `b` and `c`.\n",
    "\n",
    "Solving this problem for 3 parameters of a quadratic function makes it possible to solve it for any number of parameters of any function.\n",
    "\n",
    "To define what are the _best_ parameters parameters (weights) for our function, we need to define a _loss function_.\n",
    "\n",
    "This function will return a value based on a prediction and a target. The lower the value, the better the prediction. For continuous data, it is common to use the mean squared error (MSE) loss function, which simply calculates the mean of the squared differences between the predictions and the targets."
   ]
  },
  {
   "cell_type": "code",
   "execution_count": 316,
   "metadata": {},
   "outputs": [],
   "source": [
    "def mse(preds, targets): return ((preds-targets)**2).mean()"
   ]
  },
  {
   "cell_type": "markdown",
   "metadata": {},
   "source": [
    "Let's go back to our roller coaster example and redo the 7 steps we've seen earlier:\n",
    "\n",
    "#### Step 1: initialize the weights"
   ]
  },
  {
   "cell_type": "code",
   "execution_count": 317,
   "metadata": {},
   "outputs": [
    {
     "data": {
      "text/plain": [
       "tensor([ 1.0703, -1.2315, -1.0470], requires_grad=True)"
      ]
     },
     "execution_count": 317,
     "metadata": {},
     "output_type": "execute_result"
    }
   ],
   "source": [
    "# random values at first + telling `PyTorch` to track gradients\n",
    "weights = torch.randn(3).requires_grad_()\n",
    "weights"
   ]
  },
  {
   "cell_type": "markdown",
   "metadata": {},
   "source": [
    "#### Step 2: calculate the predictions"
   ]
  },
  {
   "cell_type": "code",
   "execution_count": 318,
   "metadata": {},
   "outputs": [
    {
     "data": {
      "image/png": "[encoded data removed]",
      "text/plain": [
       "<Figure size 640x480 with 1 Axes>"
      ]
     },
     "metadata": {},
     "output_type": "display_data"
    }
   ],
   "source": [
    "preds = function_to_fit(measurements_times, weights)\n",
    "\n",
    "# function to see how close our predictions are to our targets\n",
    "def show_preds(preds, ax=None):\n",
    "    if ax is None: ax=plt.subplots()[1]\n",
    "    # plotting the actual values with blue dots\n",
    "    ax.scatter(measurements_times, measurements_speed)\n",
    "    # plotting the predictions with red dots\n",
    "    ax.scatter(measurements_times, to_np(preds), color='red')\n",
    "    ax.set_ylim(-300,100)\n",
    "\n",
    "show_preds(preds)"
   ]
  },
  {
   "cell_type": "markdown",
   "metadata": {},
   "source": [
    "As you can see, our model predicts a totally different roller coaster speed than the actual one...\n",
    "\n",
    "We can know calculate the loss to try and improve our model."
   ]
  },
  {
   "cell_type": "markdown",
   "metadata": {},
   "source": [
    "#### Step 3: calculate the loss"
   ]
  },
  {
   "cell_type": "code",
   "execution_count": 319,
   "metadata": {},
   "outputs": [
    {
     "data": {
      "text/plain": [
       "tensor(20815.3965, grad_fn=<MeanBackward0>)"
      ]
     },
     "execution_count": 319,
     "metadata": {},
     "output_type": "execute_result"
    }
   ],
   "source": [
    "loss = mse(preds, measurements_speed)\n",
    "loss"
   ]
  },
  {
   "cell_type": "markdown",
   "metadata": {},
   "source": [
    "#### Step 4: calculate the gradients"
   ]
  },
  {
   "cell_type": "code",
   "execution_count": 320,
   "metadata": {},
   "outputs": [
    {
     "data": {
      "text/plain": [
       "tensor([47684.3594,  3040.3884,   187.5511])"
      ]
     },
     "execution_count": 320,
     "metadata": {},
     "output_type": "execute_result"
    }
   ],
   "source": [
    "loss.backward()\n",
    "weights.grad"
   ]
  },
  {
   "cell_type": "code",
   "execution_count": 321,
   "metadata": {},
   "outputs": [
    {
     "data": {
      "text/plain": [
       "tensor([0.4768, 0.0304, 0.0019])"
      ]
     },
     "execution_count": 321,
     "metadata": {},
     "output_type": "execute_result"
    }
   ],
   "source": [
    "# let's give a shot at improving our parameters by picking a learning rate;\n",
    "# for now, let's use `1e-5`, or `0.00001`\n",
    "weights.grad * 1e-5"
   ]
  },
  {
   "cell_type": "markdown",
   "metadata": {},
   "source": [
    "#### Step 5: step the weights\n",
    "\n",
    "Let's update the parameters of our model using the gradients we've just calculated."
   ]
  },
  {
   "cell_type": "code",
   "execution_count": 322,
   "metadata": {},
   "outputs": [
    {
     "data": {
      "text/plain": [
       "tensor(4434.2446, grad_fn=<MeanBackward0>)"
      ]
     },
     "execution_count": 322,
     "metadata": {},
     "output_type": "execute_result"
    }
   ],
   "source": [
    "learning_rate = 1e-5\n",
    "weights.data -= learning_rate * weights.grad.data\n",
    "# we reset the gradients to zero after each step\n",
    "weights.grad = None\n",
    "\n",
    "# let's see how our predictions look now (if our loss has improved)\n",
    "preds = function_to_fit(measurements_times, weights)\n",
    "mse(preds, measurements_speed)"
   ]
  },
  {
   "cell_type": "code",
   "execution_count": 323,
   "metadata": {},
   "outputs": [
    {
     "data": {
      "image/png": "[encoded data removed]",
      "text/plain": [
       "<Figure size 640x480 with 1 Axes>"
      ]
     },
     "metadata": {},
     "output_type": "display_data"
    }
   ],
   "source": [
    "show_preds(preds)"
   ]
  },
  {
   "cell_type": "markdown",
   "metadata": {},
   "source": [
    "It's better, but we obviously need to repeat the process a few times.\n",
    "\n",
    "Let's create a function for this."
   ]
  },
  {
   "cell_type": "code",
   "execution_count": 324,
   "metadata": {},
   "outputs": [],
   "source": [
    "def apply_steps_2_to_5(weights, print_loss=True):\n",
    "    preds = function_to_fit(measurements_times, weights)\n",
    "    loss = mse(preds, measurements_speed)\n",
    "    if print_loss: print(loss)\n",
    "    loss.backward()\n",
    "    learning_rate = 1e-5\n",
    "    weights.data -= learning_rate * weights.grad.data\n",
    "    weights.grad = None\n",
    "    return preds"
   ]
  },
  {
   "cell_type": "markdown",
   "metadata": {},
   "source": [
    "#### Step 6: repeat the process"
   ]
  },
  {
   "cell_type": "code",
   "execution_count": 325,
   "metadata": {},
   "outputs": [
    {
     "name": "stdout",
     "output_type": "stream",
     "text": [
      "tensor(4434.2446, grad_fn=<MeanBackward0>)\n",
      "tensor(1334.4246, grad_fn=<MeanBackward0>)\n",
      "tensor(747.8369, grad_fn=<MeanBackward0>)\n",
      "tensor(636.8294, grad_fn=<MeanBackward0>)\n",
      "tensor(615.8163, grad_fn=<MeanBackward0>)\n",
      "tensor(611.8329, grad_fn=<MeanBackward0>)\n",
      "tensor(611.0721, grad_fn=<MeanBackward0>)\n",
      "tensor(610.9211, grad_fn=<MeanBackward0>)\n",
      "tensor(610.8856, grad_fn=<MeanBackward0>)\n",
      "tensor(610.8716, grad_fn=<MeanBackward0>)\n"
     ]
    }
   ],
   "source": [
    "for i in range(10): apply_steps_2_to_5(weights)\n",
    "\n",
    "# we can see that the loss is decreasing, which means our predictions are getting better :)"
   ]
  },
  {
   "cell_type": "code",
   "execution_count": 326,
   "metadata": {},
   "outputs": [
    {
     "data": {
      "image/png": "[encoded data removed]",
      "text/plain": [
       "<Figure size 1200x300 with 5 Axes>"
      ]
     },
     "metadata": {},
     "output_type": "display_data"
    }
   ],
   "source": [
    "# for a better visual representation, let's plot the loss values\n",
    "_,axs = plt.subplots(1,5,figsize=(12,3))\n",
    "test_weights = torch.randn(3).requires_grad_()\n",
    "for ax in axs: show_preds(apply_steps_2_to_5(test_weights, False), ax)\n",
    "plt.tight_layout()"
   ]
  },
  {
   "cell_type": "markdown",
   "metadata": {},
   "source": [
    "#### Step 7: stop the training process\n",
    "\n",
    "We've decided to stop the training after 10 epochs arbitrarily. In practice, you would want to stop the training process when the model stops improving or gets worse. This means watching both training and validation loss, and stopping when the validation loss starts to increase (or at least, the rate of decrease slows down)."
   ]
  },
  {
   "cell_type": "markdown",
   "metadata": {},
   "source": [
    "### SGD summary\n",
    "\n",
    "<!-- TODO -->"
   ]
  }
 ],
 "metadata": {
  "kernelspec": {
   "display_name": "Python 3",
   "language": "python",
   "name": "python3"
  },
  "language_info": {
   "codemirror_mode": {
    "name": "ipython",
    "version": 3
   },
   "file_extension": ".py",
   "mimetype": "text/x-python",
   "name": "python",
   "nbconvert_exporter": "python",
   "pygments_lexer": "ipython3",
   "version": "3.10.12"
  },
  "orig_nbformat": 4
 },
 "nbformat": 4,
 "nbformat_minor": 2
}
