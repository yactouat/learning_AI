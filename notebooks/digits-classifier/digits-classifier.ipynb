{
 "cells": [
  {
   "cell_type": "markdown",
   "metadata": {},
   "source": [
    "# Digits classifier\n",
    "\n",
    "Let's build a model that is able to recognize digits 3 and 7."
   ]
  },
  {
   "cell_type": "code",
   "execution_count": 948,
   "metadata": {},
   "outputs": [],
   "source": [
    "# loading and setting up dependencies\n",
    "import fastbook\n",
    "\n",
    "fastbook.setup_book()\n",
    "\n",
    "from fastai.vision.all import *\n",
    "from fastbook import *\n",
    "from matplotlib import pyplot as plt\n",
    "from torch.nn import functional as F"
   ]
  },
  {
   "cell_type": "markdown",
   "metadata": {},
   "source": [
    "## Importing the dataset"
   ]
  },
  {
   "cell_type": "code",
   "execution_count": 949,
   "metadata": {},
   "outputs": [
    {
     "data": {
      "text/plain": [
       "(#3) [Path('train'),Path('labels.csv'),Path('valid')]"
      ]
     },
     "execution_count": 949,
     "metadata": {},
     "output_type": "execute_result"
    }
   ],
   "source": [
    "# import MNIST sample that only contains 3s and 7s\n",
    "path = untar_data(URLs.MNIST_SAMPLE)\n",
    "Path.BASE_PATH = path\n",
    "\n",
    "path.ls()"
   ]
  },
  {
   "cell_type": "markdown",
   "metadata": {},
   "source": [
    "As you can see from the previous output, this dataset is organized into separate folders for training and validation sets."
   ]
  },
  {
   "cell_type": "code",
   "execution_count": 950,
   "metadata": {},
   "outputs": [
    {
     "data": {
      "text/plain": [
       "(#2) [Path('train/3'),Path('train/7')]"
      ]
     },
     "execution_count": 950,
     "metadata": {},
     "output_type": "execute_result"
    }
   ],
   "source": [
    "# let's see what's inside the training set\n",
    "(path/'train').ls()"
   ]
  },
  {
   "cell_type": "markdown",
   "metadata": {},
   "source": [
    "We are confirming here that the training sample contains 7's and 3's only. These are our _labels_. Let's zoom in a little more."
   ]
  },
  {
   "cell_type": "code",
   "execution_count": 951,
   "metadata": {},
   "outputs": [
    {
     "data": {
      "text/plain": [
       "(#6131) [Path('train/3/10.png'),Path('train/3/10000.png'),Path('train/3/10011.png'),Path('train/3/10031.png'),Path('train/3/10034.png'),Path('train/3/10042.png'),Path('train/3/10052.png'),Path('train/3/1007.png'),Path('train/3/10074.png'),Path('train/3/10091.png')...]"
      ]
     },
     "execution_count": 951,
     "metadata": {},
     "output_type": "execute_result"
    }
   ],
   "source": [
    "threes = (path/'train'/'3').ls().sorted()\n",
    "sevens = (path/'train'/'7').ls().sorted()\n",
    "threes"
   ]
  },
  {
   "cell_type": "markdown",
   "metadata": {},
   "source": [
    "## Images as array of numbers, e.g. tensors"
   ]
  },
  {
   "cell_type": "code",
   "execution_count": 952,
   "metadata": {},
   "outputs": [
    {
     "data": {
      "image/jpeg": "[encoded data removed]",
      "image/png": "[encoded data removed]",
      "text/plain": [
       "<PIL.PngImagePlugin.PngImageFile image mode=L size=28x28>"
      ]
     },
     "execution_count": 952,
     "metadata": {},
     "output_type": "execute_result"
    }
   ],
   "source": [
    "# let's look at one image\n",
    "im3_path = threes[1]\n",
    "im3 = Image.open(im3_path)\n",
    "im3"
   ]
  },
  {
   "cell_type": "code",
   "execution_count": 953,
   "metadata": {},
   "outputs": [
    {
     "data": {
      "text/plain": [
       "array([[  0,   0,   0,   0,   0,   0,   0,   0,   0,   0,   0,   0,   0,   0,   0,   0,   0,   0,   0,   0,   0,   0,   0,   0,   0,   0,   0,   0],\n",
       "       [  0,   0,   0,   0,   0,   0,   0,   0,   0,   0,   0,   0,   0,   0,   0,   0,   0,   0,   0,   0,   0,   0,   0,   0,   0,   0,   0,   0],\n",
       "       [  0,   0,   0,   0,   0,   0,   0,   0,   0,   0,   0,   0,   0,   0,   0,   0,   0,   0,   0,   0,   0,   0,   0,   0,   0,   0,   0,   0],\n",
       "       [  0,   0,   0,   0,   0,   0,   0,   0,   0,   0,   0,   0,   0,   0,   0,   0,   0,   0,   0,   0,   0,   0,   0,   0,   0,   0,   0,   0],\n",
       "       [  0,   0,   0,   0,   0,   0,   0,   0,   0,   0,   0,   0,   0,   0,   0,   0,   0,   0,   0,   0,   0,   0,   0,   0,   0,   0,   0,   0],\n",
       "       [  0,   0,   0,   0,   0,   0,   0,   0,   0,  29, 150, 195, 254, 255, 254, 176, 193, 150,  96,   0,   0,   0,   0,   0,   0,   0,   0,   0],\n",
       "       [  0,   0,   0,   0,   0,   0,   0,  48, 166, 224, 253, 253, 234, 196, 253, 253, 253, 253, 233,   0,   0,   0,   0,   0,   0,   0,   0,   0],\n",
       "       [  0,   0,   0,   0,   0,  93, 244, 249, 253, 187,  46,  10,   8,   4,  10, 194, 253, 253, 233,   0,   0,   0,   0,   0,   0,   0,   0,   0],\n",
       "       [  0,   0,   0,   0,   0, 107, 253, 253, 230,  48,   0,   0,   0,   0,   0, 192, 253, 253, 156,   0,   0,   0,   0,   0,   0,   0,   0,   0],\n",
       "       [  0,   0,   0,   0,   0,   3,  20,  20,  15,   0,   0,   0,   0,   0,  43, 224, 253, 245,  74,   0,   0,   0,   0,   0,   0,   0,   0,   0],\n",
       "       [  0,   0,   0,   0,   0,   0,   0,   0,   0,   0,   0,   0,   0,   0, 249, 253, 245, 126,   0,   0,   0,   0,   0,   0,   0,   0,   0,   0],\n",
       "       [  0,   0,   0,   0,   0,   0,   0,   0,   0,   0,   0,  14, 101, 223, 253, 248, 124,   0,   0,   0,   0,   0,   0,   0,   0,   0,   0,   0],\n",
       "       [  0,   0,   0,   0,   0,   0,   0,   0,   0,  11, 166, 239, 253, 253, 253, 187,  30,   0,   0,   0,   0,   0,   0,   0,   0,   0,   0,   0],\n",
       "       [  0,   0,   0,   0,   0,   0,   0,   0,   0,  16, 248, 250, 253, 253, 253, 253, 232, 213, 111,   2,   0,   0,   0,   0,   0,   0,   0,   0],\n",
       "       [  0,   0,   0,   0,   0,   0,   0,   0,   0,   0,   0,  43,  98,  98, 208, 253, 253, 253, 253, 187,  22,   0,   0,   0,   0,   0,   0,   0],\n",
       "       [  0,   0,   0,   0,   0,   0,   0,   0,   0,   0,   0,   0,   0,   0,   9,  51, 119, 253, 253, 253,  76,   0,   0,   0,   0,   0,   0,   0],\n",
       "       [  0,   0,   0,   0,   0,   0,   0,   0,   0,   0,   0,   0,   0,   0,   0,   0,   1, 183, 253, 253, 139,   0,   0,   0,   0,   0,   0,   0],\n",
       "       [  0,   0,   0,   0,   0,   0,   0,   0,   0,   0,   0,   0,   0,   0,   0,   0,   0, 182, 253, 253, 104,   0,   0,   0,   0,   0,   0,   0],\n",
       "       [  0,   0,   0,   0,   0,   0,   0,   0,   0,   0,   0,   0,   0,   0,   0,   0,  85, 249, 253, 253,  36,   0,   0,   0,   0,   0,   0,   0],\n",
       "       [  0,   0,   0,   0,   0,   0,   0,   0,   0,   0,   0,   0,   0,   0,   0,  60, 214, 253, 253, 173,  11,   0,   0,   0,   0,   0,   0,   0],\n",
       "       [  0,   0,   0,   0,   0,   0,   0,   0,   0,   0,   0,   0,   0,   0,  98, 247, 253, 253, 226,   9,   0,   0,   0,   0,   0,   0,   0,   0],\n",
       "       [  0,   0,   0,   0,   0,   0,   0,   0,   0,   0,   0,   0,  42, 150, 252, 253, 253, 233,  53,   0,   0,   0,   0,   0,   0,   0,   0,   0],\n",
       "       [  0,   0,   0,   0,   0,   0,  42, 115,  42,  60, 115, 159, 240, 253, 253, 250, 175,  25,   0,   0,   0,   0,   0,   0,   0,   0,   0,   0],\n",
       "       [  0,   0,   0,   0,   0,   0, 187, 253, 253, 253, 253, 253, 253, 253, 197,  86,   0,   0,   0,   0,   0,   0,   0,   0,   0,   0,   0,   0],\n",
       "       [  0,   0,   0,   0,   0,   0, 103, 253, 253, 253, 253, 253, 232,  67,   1,   0,   0,   0,   0,   0,   0,   0,   0,   0,   0,   0,   0,   0],\n",
       "       [  0,   0,   0,   0,   0,   0,   0,   0,   0,   0,   0,   0,   0,   0,   0,   0,   0,   0,   0,   0,   0,   0,   0,   0,   0,   0,   0,   0],\n",
       "       [  0,   0,   0,   0,   0,   0,   0,   0,   0,   0,   0,   0,   0,   0,   0,   0,   0,   0,   0,   0,   0,   0,   0,   0,   0,   0,   0,   0],\n",
       "       [  0,   0,   0,   0,   0,   0,   0,   0,   0,   0,   0,   0,   0,   0,   0,   0,   0,   0,   0,   0,   0,   0,   0,   0,   0,   0,   0,   0]], dtype=uint8)"
      ]
     },
     "execution_count": 953,
     "metadata": {},
     "output_type": "execute_result"
    }
   ],
   "source": [
    "# viewing the numbers that make up that image as a `NumPy` array\n",
    "array(im3)"
   ]
  },
  {
   "cell_type": "code",
   "execution_count": 954,
   "metadata": {},
   "outputs": [
    {
     "data": {
      "text/plain": [
       "array([[  0,   0,   0,   0,   0,   0],\n",
       "       [  0,   0,   0,   0,   0,  29],\n",
       "       [  0,   0,   0,  48, 166, 224],\n",
       "       [  0,  93, 244, 249, 253, 187],\n",
       "       [  0, 107, 253, 253, 230,  48],\n",
       "       [  0,   3,  20,  20,  15,   0]], dtype=uint8)"
      ]
     },
     "execution_count": 954,
     "metadata": {},
     "output_type": "execute_result"
    }
   ],
   "source": [
    "# selecting a subarray from rows 4 to 10 (not included) and columns 4 to 10 (not included)\n",
    "# `numpy` indexes from top to bottom and left to right\n",
    "array(im3)[4:10,4:10] "
   ]
  },
  {
   "cell_type": "code",
   "execution_count": 955,
   "metadata": {},
   "outputs": [],
   "source": [
    "# now let's do the same thing with a `pytorch` tensor\n",
    "im3_t = tensor(im3)"
   ]
  },
  {
   "cell_type": "code",
   "execution_count": 956,
   "metadata": {},
   "outputs": [
    {
     "data": {
      "text/plain": [
       "tensor([[  0,   0,   0,   0,   0,   0],\n",
       "        [  0,   0,   0,   0,   0,  29],\n",
       "        [  0,   0,   0,  48, 166, 224],\n",
       "        [  0,  93, 244, 249, 253, 187],\n",
       "        [  0, 107, 253, 253, 230,  48],\n",
       "        [  0,   3,  20,  20,  15,   0]], dtype=torch.uint8)"
      ]
     },
     "execution_count": 956,
     "metadata": {},
     "output_type": "execute_result"
    }
   ],
   "source": [
    "tensor(im3)[4:10,4:10]"
   ]
  },
  {
   "cell_type": "code",
   "execution_count": 957,
   "metadata": {},
   "outputs": [
    {
     "data": {
      "text/html": [
       "<div>\n",
       "<style scoped>\n",
       "    .dataframe tbody tr th:only-of-type {\n",
       "        vertical-align: middle;\n",
       "    }\n",
       "\n",
       "    .dataframe tbody tr th {\n",
       "        vertical-align: top;\n",
       "    }\n",
       "\n",
       "    .dataframe thead th {\n",
       "        text-align: right;\n",
       "    }\n",
       "</style>\n",
       "<table border=\"1\" class=\"dataframe\">\n",
       "  <thead>\n",
       "    <tr style=\"text-align: right;\">\n",
       "      <th></th>\n",
       "      <th>0</th>\n",
       "      <th>1</th>\n",
       "      <th>2</th>\n",
       "      <th>3</th>\n",
       "      <th>4</th>\n",
       "      <th>5</th>\n",
       "      <th>6</th>\n",
       "      <th>7</th>\n",
       "      <th>8</th>\n",
       "      <th>9</th>\n",
       "      <th>10</th>\n",
       "      <th>11</th>\n",
       "      <th>12</th>\n",
       "      <th>13</th>\n",
       "      <th>14</th>\n",
       "      <th>15</th>\n",
       "      <th>16</th>\n",
       "      <th>17</th>\n",
       "    </tr>\n",
       "  </thead>\n",
       "  <tbody>\n",
       "    <tr>\n",
       "      <th>0</th>\n",
       "      <td>0</td>\n",
       "      <td>0</td>\n",
       "      <td>0</td>\n",
       "      <td>0</td>\n",
       "      <td>0</td>\n",
       "      <td>0</td>\n",
       "      <td>0</td>\n",
       "      <td>0</td>\n",
       "      <td>0</td>\n",
       "      <td>0</td>\n",
       "      <td>0</td>\n",
       "      <td>0</td>\n",
       "      <td>0</td>\n",
       "      <td>0</td>\n",
       "      <td>0</td>\n",
       "      <td>0</td>\n",
       "      <td>0</td>\n",
       "      <td>0</td>\n",
       "    </tr>\n",
       "    <tr>\n",
       "      <th>1</th>\n",
       "      <td>0</td>\n",
       "      <td>0</td>\n",
       "      <td>0</td>\n",
       "      <td>0</td>\n",
       "      <td>0</td>\n",
       "      <td>29</td>\n",
       "      <td>150</td>\n",
       "      <td>195</td>\n",
       "      <td>254</td>\n",
       "      <td>255</td>\n",
       "      <td>254</td>\n",
       "      <td>176</td>\n",
       "      <td>193</td>\n",
       "      <td>150</td>\n",
       "      <td>96</td>\n",
       "      <td>0</td>\n",
       "      <td>0</td>\n",
       "      <td>0</td>\n",
       "    </tr>\n",
       "    <tr>\n",
       "      <th>2</th>\n",
       "      <td>0</td>\n",
       "      <td>0</td>\n",
       "      <td>0</td>\n",
       "      <td>48</td>\n",
       "      <td>166</td>\n",
       "      <td>224</td>\n",
       "      <td>253</td>\n",
       "      <td>253</td>\n",
       "      <td>234</td>\n",
       "      <td>196</td>\n",
       "      <td>253</td>\n",
       "      <td>253</td>\n",
       "      <td>253</td>\n",
       "      <td>253</td>\n",
       "      <td>233</td>\n",
       "      <td>0</td>\n",
       "      <td>0</td>\n",
       "      <td>0</td>\n",
       "    </tr>\n",
       "    <tr>\n",
       "      <th>3</th>\n",
       "      <td>0</td>\n",
       "      <td>93</td>\n",
       "      <td>244</td>\n",
       "      <td>249</td>\n",
       "      <td>253</td>\n",
       "      <td>187</td>\n",
       "      <td>46</td>\n",
       "      <td>10</td>\n",
       "      <td>8</td>\n",
       "      <td>4</td>\n",
       "      <td>10</td>\n",
       "      <td>194</td>\n",
       "      <td>253</td>\n",
       "      <td>253</td>\n",
       "      <td>233</td>\n",
       "      <td>0</td>\n",
       "      <td>0</td>\n",
       "      <td>0</td>\n",
       "    </tr>\n",
       "    <tr>\n",
       "      <th>4</th>\n",
       "      <td>0</td>\n",
       "      <td>107</td>\n",
       "      <td>253</td>\n",
       "      <td>253</td>\n",
       "      <td>230</td>\n",
       "      <td>48</td>\n",
       "      <td>0</td>\n",
       "      <td>0</td>\n",
       "      <td>0</td>\n",
       "      <td>0</td>\n",
       "      <td>0</td>\n",
       "      <td>192</td>\n",
       "      <td>253</td>\n",
       "      <td>253</td>\n",
       "      <td>156</td>\n",
       "      <td>0</td>\n",
       "      <td>0</td>\n",
       "      <td>0</td>\n",
       "    </tr>\n",
       "    <tr>\n",
       "      <th>5</th>\n",
       "      <td>0</td>\n",
       "      <td>3</td>\n",
       "      <td>20</td>\n",
       "      <td>20</td>\n",
       "      <td>15</td>\n",
       "      <td>0</td>\n",
       "      <td>0</td>\n",
       "      <td>0</td>\n",
       "      <td>0</td>\n",
       "      <td>0</td>\n",
       "      <td>43</td>\n",
       "      <td>224</td>\n",
       "      <td>253</td>\n",
       "      <td>245</td>\n",
       "      <td>74</td>\n",
       "      <td>0</td>\n",
       "      <td>0</td>\n",
       "      <td>0</td>\n",
       "    </tr>\n",
       "    <tr>\n",
       "      <th>6</th>\n",
       "      <td>0</td>\n",
       "      <td>0</td>\n",
       "      <td>0</td>\n",
       "      <td>0</td>\n",
       "      <td>0</td>\n",
       "      <td>0</td>\n",
       "      <td>0</td>\n",
       "      <td>0</td>\n",
       "      <td>0</td>\n",
       "      <td>0</td>\n",
       "      <td>249</td>\n",
       "      <td>253</td>\n",
       "      <td>245</td>\n",
       "      <td>126</td>\n",
       "      <td>0</td>\n",
       "      <td>0</td>\n",
       "      <td>0</td>\n",
       "      <td>0</td>\n",
       "    </tr>\n",
       "    <tr>\n",
       "      <th>7</th>\n",
       "      <td>0</td>\n",
       "      <td>0</td>\n",
       "      <td>0</td>\n",
       "      <td>0</td>\n",
       "      <td>0</td>\n",
       "      <td>0</td>\n",
       "      <td>0</td>\n",
       "      <td>14</td>\n",
       "      <td>101</td>\n",
       "      <td>223</td>\n",
       "      <td>253</td>\n",
       "      <td>248</td>\n",
       "      <td>124</td>\n",
       "      <td>0</td>\n",
       "      <td>0</td>\n",
       "      <td>0</td>\n",
       "      <td>0</td>\n",
       "      <td>0</td>\n",
       "    </tr>\n",
       "    <tr>\n",
       "      <th>8</th>\n",
       "      <td>0</td>\n",
       "      <td>0</td>\n",
       "      <td>0</td>\n",
       "      <td>0</td>\n",
       "      <td>0</td>\n",
       "      <td>11</td>\n",
       "      <td>166</td>\n",
       "      <td>239</td>\n",
       "      <td>253</td>\n",
       "      <td>253</td>\n",
       "      <td>253</td>\n",
       "      <td>187</td>\n",
       "      <td>30</td>\n",
       "      <td>0</td>\n",
       "      <td>0</td>\n",
       "      <td>0</td>\n",
       "      <td>0</td>\n",
       "      <td>0</td>\n",
       "    </tr>\n",
       "    <tr>\n",
       "      <th>9</th>\n",
       "      <td>0</td>\n",
       "      <td>0</td>\n",
       "      <td>0</td>\n",
       "      <td>0</td>\n",
       "      <td>0</td>\n",
       "      <td>16</td>\n",
       "      <td>248</td>\n",
       "      <td>250</td>\n",
       "      <td>253</td>\n",
       "      <td>253</td>\n",
       "      <td>253</td>\n",
       "      <td>253</td>\n",
       "      <td>232</td>\n",
       "      <td>213</td>\n",
       "      <td>111</td>\n",
       "      <td>2</td>\n",
       "      <td>0</td>\n",
       "      <td>0</td>\n",
       "    </tr>\n",
       "    <tr>\n",
       "      <th>10</th>\n",
       "      <td>0</td>\n",
       "      <td>0</td>\n",
       "      <td>0</td>\n",
       "      <td>0</td>\n",
       "      <td>0</td>\n",
       "      <td>0</td>\n",
       "      <td>0</td>\n",
       "      <td>43</td>\n",
       "      <td>98</td>\n",
       "      <td>98</td>\n",
       "      <td>208</td>\n",
       "      <td>253</td>\n",
       "      <td>253</td>\n",
       "      <td>253</td>\n",
       "      <td>253</td>\n",
       "      <td>187</td>\n",
       "      <td>22</td>\n",
       "      <td>0</td>\n",
       "    </tr>\n",
       "  </tbody>\n",
       "</table>\n",
       "</div>"
      ],
      "text/plain": [
       "    0    1    2    3    4    5    6    7    8    9    10   11   12   13   14  \\\n",
       "0    0    0    0    0    0    0    0    0    0    0    0    0    0    0    0   \n",
       "1    0    0    0    0    0   29  150  195  254  255  254  176  193  150   96   \n",
       "2    0    0    0   48  166  224  253  253  234  196  253  253  253  253  233   \n",
       "3    0   93  244  249  253  187   46   10    8    4   10  194  253  253  233   \n",
       "4    0  107  253  253  230   48    0    0    0    0    0  192  253  253  156   \n",
       "5    0    3   20   20   15    0    0    0    0    0   43  224  253  245   74   \n",
       "6    0    0    0    0    0    0    0    0    0    0  249  253  245  126    0   \n",
       "7    0    0    0    0    0    0    0   14  101  223  253  248  124    0    0   \n",
       "8    0    0    0    0    0   11  166  239  253  253  253  187   30    0    0   \n",
       "9    0    0    0    0    0   16  248  250  253  253  253  253  232  213  111   \n",
       "10   0    0    0    0    0    0    0   43   98   98  208  253  253  253  253   \n",
       "\n",
       "     15  16  17  \n",
       "0     0   0   0  \n",
       "1     0   0   0  \n",
       "2     0   0   0  \n",
       "3     0   0   0  \n",
       "4     0   0   0  \n",
       "5     0   0   0  \n",
       "6     0   0   0  \n",
       "7     0   0   0  \n",
       "8     0   0   0  \n",
       "9     2   0   0  \n",
       "10  187  22   0  "
      ]
     },
     "execution_count": 957,
     "metadata": {},
     "output_type": "execute_result"
    }
   ],
   "source": [
    "# let's make a data frame out of the three image specimen tensor,\n",
    "# we'll only select the top part of the image\n",
    "df = pd.DataFrame(im3_t[4:15,4:22])\n",
    "df"
   ]
  },
  {
   "cell_type": "code",
   "execution_count": 958,
   "metadata": {},
   "outputs": [
    {
     "data": {
      "text/html": [
       "<style type=\"text/css\">\n",
       "#T_90229_row0_col0, #T_90229_row0_col1, #T_90229_row0_col2, #T_90229_row0_col3, #T_90229_row0_col4, #T_90229_row0_col5, #T_90229_row0_col6, #T_90229_row0_col7, #T_90229_row0_col8, #T_90229_row0_col9, #T_90229_row0_col10, #T_90229_row0_col11, #T_90229_row0_col12, #T_90229_row0_col13, #T_90229_row0_col14, #T_90229_row0_col15, #T_90229_row0_col16, #T_90229_row0_col17, #T_90229_row1_col0, #T_90229_row1_col1, #T_90229_row1_col2, #T_90229_row1_col3, #T_90229_row1_col4, #T_90229_row1_col15, #T_90229_row1_col16, #T_90229_row1_col17, #T_90229_row2_col0, #T_90229_row2_col1, #T_90229_row2_col2, #T_90229_row2_col15, #T_90229_row2_col16, #T_90229_row2_col17, #T_90229_row3_col0, #T_90229_row3_col15, #T_90229_row3_col16, #T_90229_row3_col17, #T_90229_row4_col0, #T_90229_row4_col6, #T_90229_row4_col7, #T_90229_row4_col8, #T_90229_row4_col9, #T_90229_row4_col10, #T_90229_row4_col15, #T_90229_row4_col16, #T_90229_row4_col17, #T_90229_row5_col0, #T_90229_row5_col5, #T_90229_row5_col6, #T_90229_row5_col7, #T_90229_row5_col8, #T_90229_row5_col9, #T_90229_row5_col15, #T_90229_row5_col16, #T_90229_row5_col17, #T_90229_row6_col0, #T_90229_row6_col1, #T_90229_row6_col2, #T_90229_row6_col3, #T_90229_row6_col4, #T_90229_row6_col5, #T_90229_row6_col6, #T_90229_row6_col7, #T_90229_row6_col8, #T_90229_row6_col9, #T_90229_row6_col14, #T_90229_row6_col15, #T_90229_row6_col16, #T_90229_row6_col17, #T_90229_row7_col0, #T_90229_row7_col1, #T_90229_row7_col2, #T_90229_row7_col3, #T_90229_row7_col4, #T_90229_row7_col5, #T_90229_row7_col6, #T_90229_row7_col13, #T_90229_row7_col14, #T_90229_row7_col15, #T_90229_row7_col16, #T_90229_row7_col17, #T_90229_row8_col0, #T_90229_row8_col1, #T_90229_row8_col2, #T_90229_row8_col3, #T_90229_row8_col4, #T_90229_row8_col13, #T_90229_row8_col14, #T_90229_row8_col15, #T_90229_row8_col16, #T_90229_row8_col17, #T_90229_row9_col0, #T_90229_row9_col1, #T_90229_row9_col2, #T_90229_row9_col3, #T_90229_row9_col4, #T_90229_row9_col16, #T_90229_row9_col17, #T_90229_row10_col0, #T_90229_row10_col1, #T_90229_row10_col2, #T_90229_row10_col3, #T_90229_row10_col4, #T_90229_row10_col5, #T_90229_row10_col6, #T_90229_row10_col17 {\n",
       "  font-size: 6pt;\n",
       "  background-color: #ffffff;\n",
       "  color: #000000;\n",
       "}\n",
       "#T_90229_row1_col5 {\n",
       "  font-size: 6pt;\n",
       "  background-color: #efefef;\n",
       "  color: #000000;\n",
       "}\n",
       "#T_90229_row1_col6, #T_90229_row1_col13 {\n",
       "  font-size: 6pt;\n",
       "  background-color: #7c7c7c;\n",
       "  color: #f1f1f1;\n",
       "}\n",
       "#T_90229_row1_col7 {\n",
       "  font-size: 6pt;\n",
       "  background-color: #4a4a4a;\n",
       "  color: #f1f1f1;\n",
       "}\n",
       "#T_90229_row1_col8, #T_90229_row1_col9, #T_90229_row1_col10, #T_90229_row2_col5, #T_90229_row2_col6, #T_90229_row2_col7, #T_90229_row2_col11, #T_90229_row2_col12, #T_90229_row2_col13, #T_90229_row3_col4, #T_90229_row3_col12, #T_90229_row3_col13, #T_90229_row4_col1, #T_90229_row4_col2, #T_90229_row4_col3, #T_90229_row4_col12, #T_90229_row4_col13, #T_90229_row5_col12, #T_90229_row6_col11, #T_90229_row9_col11, #T_90229_row10_col11, #T_90229_row10_col12, #T_90229_row10_col13, #T_90229_row10_col14, #T_90229_row10_col15, #T_90229_row10_col16 {\n",
       "  font-size: 6pt;\n",
       "  background-color: #000000;\n",
       "  color: #f1f1f1;\n",
       "}\n",
       "#T_90229_row1_col11 {\n",
       "  font-size: 6pt;\n",
       "  background-color: #606060;\n",
       "  color: #f1f1f1;\n",
       "}\n",
       "#T_90229_row1_col12 {\n",
       "  font-size: 6pt;\n",
       "  background-color: #4d4d4d;\n",
       "  color: #f1f1f1;\n",
       "}\n",
       "#T_90229_row1_col14 {\n",
       "  font-size: 6pt;\n",
       "  background-color: #bbbbbb;\n",
       "  color: #000000;\n",
       "}\n",
       "#T_90229_row2_col3 {\n",
       "  font-size: 6pt;\n",
       "  background-color: #e4e4e4;\n",
       "  color: #000000;\n",
       "}\n",
       "#T_90229_row2_col4, #T_90229_row8_col6 {\n",
       "  font-size: 6pt;\n",
       "  background-color: #6b6b6b;\n",
       "  color: #f1f1f1;\n",
       "}\n",
       "#T_90229_row2_col8, #T_90229_row2_col14, #T_90229_row3_col14 {\n",
       "  font-size: 6pt;\n",
       "  background-color: #171717;\n",
       "  color: #f1f1f1;\n",
       "}\n",
       "#T_90229_row2_col9, #T_90229_row3_col11 {\n",
       "  font-size: 6pt;\n",
       "  background-color: #4b4b4b;\n",
       "  color: #f1f1f1;\n",
       "}\n",
       "#T_90229_row2_col10, #T_90229_row7_col10, #T_90229_row8_col8, #T_90229_row8_col10, #T_90229_row9_col8, #T_90229_row9_col10 {\n",
       "  font-size: 6pt;\n",
       "  background-color: #010101;\n",
       "  color: #f1f1f1;\n",
       "}\n",
       "#T_90229_row3_col1 {\n",
       "  font-size: 6pt;\n",
       "  background-color: #272727;\n",
       "  color: #f1f1f1;\n",
       "}\n",
       "#T_90229_row3_col2 {\n",
       "  font-size: 6pt;\n",
       "  background-color: #0a0a0a;\n",
       "  color: #f1f1f1;\n",
       "}\n",
       "#T_90229_row3_col3 {\n",
       "  font-size: 6pt;\n",
       "  background-color: #050505;\n",
       "  color: #f1f1f1;\n",
       "}\n",
       "#T_90229_row3_col5 {\n",
       "  font-size: 6pt;\n",
       "  background-color: #333333;\n",
       "  color: #f1f1f1;\n",
       "}\n",
       "#T_90229_row3_col6 {\n",
       "  font-size: 6pt;\n",
       "  background-color: #e6e6e6;\n",
       "  color: #000000;\n",
       "}\n",
       "#T_90229_row3_col7, #T_90229_row3_col10 {\n",
       "  font-size: 6pt;\n",
       "  background-color: #fafafa;\n",
       "  color: #000000;\n",
       "}\n",
       "#T_90229_row3_col8 {\n",
       "  font-size: 6pt;\n",
       "  background-color: #fbfbfb;\n",
       "  color: #000000;\n",
       "}\n",
       "#T_90229_row3_col9 {\n",
       "  font-size: 6pt;\n",
       "  background-color: #fdfdfd;\n",
       "  color: #000000;\n",
       "}\n",
       "#T_90229_row4_col4 {\n",
       "  font-size: 6pt;\n",
       "  background-color: #1b1b1b;\n",
       "  color: #f1f1f1;\n",
       "}\n",
       "#T_90229_row4_col5 {\n",
       "  font-size: 6pt;\n",
       "  background-color: #e0e0e0;\n",
       "  color: #000000;\n",
       "}\n",
       "#T_90229_row4_col11 {\n",
       "  font-size: 6pt;\n",
       "  background-color: #4e4e4e;\n",
       "  color: #f1f1f1;\n",
       "}\n",
       "#T_90229_row4_col14 {\n",
       "  font-size: 6pt;\n",
       "  background-color: #767676;\n",
       "  color: #f1f1f1;\n",
       "}\n",
       "#T_90229_row5_col1 {\n",
       "  font-size: 6pt;\n",
       "  background-color: #fcfcfc;\n",
       "  color: #000000;\n",
       "}\n",
       "#T_90229_row5_col2, #T_90229_row5_col3 {\n",
       "  font-size: 6pt;\n",
       "  background-color: #f6f6f6;\n",
       "  color: #000000;\n",
       "}\n",
       "#T_90229_row5_col4, #T_90229_row7_col7 {\n",
       "  font-size: 6pt;\n",
       "  background-color: #f8f8f8;\n",
       "  color: #000000;\n",
       "}\n",
       "#T_90229_row5_col10, #T_90229_row10_col7 {\n",
       "  font-size: 6pt;\n",
       "  background-color: #e8e8e8;\n",
       "  color: #000000;\n",
       "}\n",
       "#T_90229_row5_col11 {\n",
       "  font-size: 6pt;\n",
       "  background-color: #222222;\n",
       "  color: #f1f1f1;\n",
       "}\n",
       "#T_90229_row5_col13, #T_90229_row6_col12 {\n",
       "  font-size: 6pt;\n",
       "  background-color: #090909;\n",
       "  color: #f1f1f1;\n",
       "}\n",
       "#T_90229_row5_col14 {\n",
       "  font-size: 6pt;\n",
       "  background-color: #d0d0d0;\n",
       "  color: #000000;\n",
       "}\n",
       "#T_90229_row6_col10, #T_90229_row7_col11, #T_90229_row9_col6 {\n",
       "  font-size: 6pt;\n",
       "  background-color: #060606;\n",
       "  color: #f1f1f1;\n",
       "}\n",
       "#T_90229_row6_col13 {\n",
       "  font-size: 6pt;\n",
       "  background-color: #979797;\n",
       "  color: #f1f1f1;\n",
       "}\n",
       "#T_90229_row7_col8 {\n",
       "  font-size: 6pt;\n",
       "  background-color: #b6b6b6;\n",
       "  color: #000000;\n",
       "}\n",
       "#T_90229_row7_col9 {\n",
       "  font-size: 6pt;\n",
       "  background-color: #252525;\n",
       "  color: #f1f1f1;\n",
       "}\n",
       "#T_90229_row7_col12 {\n",
       "  font-size: 6pt;\n",
       "  background-color: #999999;\n",
       "  color: #f1f1f1;\n",
       "}\n",
       "#T_90229_row8_col5 {\n",
       "  font-size: 6pt;\n",
       "  background-color: #f9f9f9;\n",
       "  color: #000000;\n",
       "}\n",
       "#T_90229_row8_col7 {\n",
       "  font-size: 6pt;\n",
       "  background-color: #101010;\n",
       "  color: #f1f1f1;\n",
       "}\n",
       "#T_90229_row8_col9, #T_90229_row9_col9 {\n",
       "  font-size: 6pt;\n",
       "  background-color: #020202;\n",
       "  color: #f1f1f1;\n",
       "}\n",
       "#T_90229_row8_col11 {\n",
       "  font-size: 6pt;\n",
       "  background-color: #545454;\n",
       "  color: #f1f1f1;\n",
       "}\n",
       "#T_90229_row8_col12 {\n",
       "  font-size: 6pt;\n",
       "  background-color: #f1f1f1;\n",
       "  color: #000000;\n",
       "}\n",
       "#T_90229_row9_col5 {\n",
       "  font-size: 6pt;\n",
       "  background-color: #f7f7f7;\n",
       "  color: #000000;\n",
       "}\n",
       "#T_90229_row9_col7 {\n",
       "  font-size: 6pt;\n",
       "  background-color: #030303;\n",
       "  color: #f1f1f1;\n",
       "}\n",
       "#T_90229_row9_col12 {\n",
       "  font-size: 6pt;\n",
       "  background-color: #181818;\n",
       "  color: #f1f1f1;\n",
       "}\n",
       "#T_90229_row9_col13 {\n",
       "  font-size: 6pt;\n",
       "  background-color: #303030;\n",
       "  color: #f1f1f1;\n",
       "}\n",
       "#T_90229_row9_col14 {\n",
       "  font-size: 6pt;\n",
       "  background-color: #a9a9a9;\n",
       "  color: #f1f1f1;\n",
       "}\n",
       "#T_90229_row9_col15 {\n",
       "  font-size: 6pt;\n",
       "  background-color: #fefefe;\n",
       "  color: #000000;\n",
       "}\n",
       "#T_90229_row10_col8, #T_90229_row10_col9 {\n",
       "  font-size: 6pt;\n",
       "  background-color: #bababa;\n",
       "  color: #000000;\n",
       "}\n",
       "#T_90229_row10_col10 {\n",
       "  font-size: 6pt;\n",
       "  background-color: #393939;\n",
       "  color: #f1f1f1;\n",
       "}\n",
       "</style>\n",
       "<table id=\"T_90229\">\n",
       "  <thead>\n",
       "    <tr>\n",
       "      <th class=\"blank level0\" >&nbsp;</th>\n",
       "      <th id=\"T_90229_level0_col0\" class=\"col_heading level0 col0\" >0</th>\n",
       "      <th id=\"T_90229_level0_col1\" class=\"col_heading level0 col1\" >1</th>\n",
       "      <th id=\"T_90229_level0_col2\" class=\"col_heading level0 col2\" >2</th>\n",
       "      <th id=\"T_90229_level0_col3\" class=\"col_heading level0 col3\" >3</th>\n",
       "      <th id=\"T_90229_level0_col4\" class=\"col_heading level0 col4\" >4</th>\n",
       "      <th id=\"T_90229_level0_col5\" class=\"col_heading level0 col5\" >5</th>\n",
       "      <th id=\"T_90229_level0_col6\" class=\"col_heading level0 col6\" >6</th>\n",
       "      <th id=\"T_90229_level0_col7\" class=\"col_heading level0 col7\" >7</th>\n",
       "      <th id=\"T_90229_level0_col8\" class=\"col_heading level0 col8\" >8</th>\n",
       "      <th id=\"T_90229_level0_col9\" class=\"col_heading level0 col9\" >9</th>\n",
       "      <th id=\"T_90229_level0_col10\" class=\"col_heading level0 col10\" >10</th>\n",
       "      <th id=\"T_90229_level0_col11\" class=\"col_heading level0 col11\" >11</th>\n",
       "      <th id=\"T_90229_level0_col12\" class=\"col_heading level0 col12\" >12</th>\n",
       "      <th id=\"T_90229_level0_col13\" class=\"col_heading level0 col13\" >13</th>\n",
       "      <th id=\"T_90229_level0_col14\" class=\"col_heading level0 col14\" >14</th>\n",
       "      <th id=\"T_90229_level0_col15\" class=\"col_heading level0 col15\" >15</th>\n",
       "      <th id=\"T_90229_level0_col16\" class=\"col_heading level0 col16\" >16</th>\n",
       "      <th id=\"T_90229_level0_col17\" class=\"col_heading level0 col17\" >17</th>\n",
       "    </tr>\n",
       "  </thead>\n",
       "  <tbody>\n",
       "    <tr>\n",
       "      <th id=\"T_90229_level0_row0\" class=\"row_heading level0 row0\" >0</th>\n",
       "      <td id=\"T_90229_row0_col0\" class=\"data row0 col0\" >0</td>\n",
       "      <td id=\"T_90229_row0_col1\" class=\"data row0 col1\" >0</td>\n",
       "      <td id=\"T_90229_row0_col2\" class=\"data row0 col2\" >0</td>\n",
       "      <td id=\"T_90229_row0_col3\" class=\"data row0 col3\" >0</td>\n",
       "      <td id=\"T_90229_row0_col4\" class=\"data row0 col4\" >0</td>\n",
       "      <td id=\"T_90229_row0_col5\" class=\"data row0 col5\" >0</td>\n",
       "      <td id=\"T_90229_row0_col6\" class=\"data row0 col6\" >0</td>\n",
       "      <td id=\"T_90229_row0_col7\" class=\"data row0 col7\" >0</td>\n",
       "      <td id=\"T_90229_row0_col8\" class=\"data row0 col8\" >0</td>\n",
       "      <td id=\"T_90229_row0_col9\" class=\"data row0 col9\" >0</td>\n",
       "      <td id=\"T_90229_row0_col10\" class=\"data row0 col10\" >0</td>\n",
       "      <td id=\"T_90229_row0_col11\" class=\"data row0 col11\" >0</td>\n",
       "      <td id=\"T_90229_row0_col12\" class=\"data row0 col12\" >0</td>\n",
       "      <td id=\"T_90229_row0_col13\" class=\"data row0 col13\" >0</td>\n",
       "      <td id=\"T_90229_row0_col14\" class=\"data row0 col14\" >0</td>\n",
       "      <td id=\"T_90229_row0_col15\" class=\"data row0 col15\" >0</td>\n",
       "      <td id=\"T_90229_row0_col16\" class=\"data row0 col16\" >0</td>\n",
       "      <td id=\"T_90229_row0_col17\" class=\"data row0 col17\" >0</td>\n",
       "    </tr>\n",
       "    <tr>\n",
       "      <th id=\"T_90229_level0_row1\" class=\"row_heading level0 row1\" >1</th>\n",
       "      <td id=\"T_90229_row1_col0\" class=\"data row1 col0\" >0</td>\n",
       "      <td id=\"T_90229_row1_col1\" class=\"data row1 col1\" >0</td>\n",
       "      <td id=\"T_90229_row1_col2\" class=\"data row1 col2\" >0</td>\n",
       "      <td id=\"T_90229_row1_col3\" class=\"data row1 col3\" >0</td>\n",
       "      <td id=\"T_90229_row1_col4\" class=\"data row1 col4\" >0</td>\n",
       "      <td id=\"T_90229_row1_col5\" class=\"data row1 col5\" >29</td>\n",
       "      <td id=\"T_90229_row1_col6\" class=\"data row1 col6\" >150</td>\n",
       "      <td id=\"T_90229_row1_col7\" class=\"data row1 col7\" >195</td>\n",
       "      <td id=\"T_90229_row1_col8\" class=\"data row1 col8\" >254</td>\n",
       "      <td id=\"T_90229_row1_col9\" class=\"data row1 col9\" >255</td>\n",
       "      <td id=\"T_90229_row1_col10\" class=\"data row1 col10\" >254</td>\n",
       "      <td id=\"T_90229_row1_col11\" class=\"data row1 col11\" >176</td>\n",
       "      <td id=\"T_90229_row1_col12\" class=\"data row1 col12\" >193</td>\n",
       "      <td id=\"T_90229_row1_col13\" class=\"data row1 col13\" >150</td>\n",
       "      <td id=\"T_90229_row1_col14\" class=\"data row1 col14\" >96</td>\n",
       "      <td id=\"T_90229_row1_col15\" class=\"data row1 col15\" >0</td>\n",
       "      <td id=\"T_90229_row1_col16\" class=\"data row1 col16\" >0</td>\n",
       "      <td id=\"T_90229_row1_col17\" class=\"data row1 col17\" >0</td>\n",
       "    </tr>\n",
       "    <tr>\n",
       "      <th id=\"T_90229_level0_row2\" class=\"row_heading level0 row2\" >2</th>\n",
       "      <td id=\"T_90229_row2_col0\" class=\"data row2 col0\" >0</td>\n",
       "      <td id=\"T_90229_row2_col1\" class=\"data row2 col1\" >0</td>\n",
       "      <td id=\"T_90229_row2_col2\" class=\"data row2 col2\" >0</td>\n",
       "      <td id=\"T_90229_row2_col3\" class=\"data row2 col3\" >48</td>\n",
       "      <td id=\"T_90229_row2_col4\" class=\"data row2 col4\" >166</td>\n",
       "      <td id=\"T_90229_row2_col5\" class=\"data row2 col5\" >224</td>\n",
       "      <td id=\"T_90229_row2_col6\" class=\"data row2 col6\" >253</td>\n",
       "      <td id=\"T_90229_row2_col7\" class=\"data row2 col7\" >253</td>\n",
       "      <td id=\"T_90229_row2_col8\" class=\"data row2 col8\" >234</td>\n",
       "      <td id=\"T_90229_row2_col9\" class=\"data row2 col9\" >196</td>\n",
       "      <td id=\"T_90229_row2_col10\" class=\"data row2 col10\" >253</td>\n",
       "      <td id=\"T_90229_row2_col11\" class=\"data row2 col11\" >253</td>\n",
       "      <td id=\"T_90229_row2_col12\" class=\"data row2 col12\" >253</td>\n",
       "      <td id=\"T_90229_row2_col13\" class=\"data row2 col13\" >253</td>\n",
       "      <td id=\"T_90229_row2_col14\" class=\"data row2 col14\" >233</td>\n",
       "      <td id=\"T_90229_row2_col15\" class=\"data row2 col15\" >0</td>\n",
       "      <td id=\"T_90229_row2_col16\" class=\"data row2 col16\" >0</td>\n",
       "      <td id=\"T_90229_row2_col17\" class=\"data row2 col17\" >0</td>\n",
       "    </tr>\n",
       "    <tr>\n",
       "      <th id=\"T_90229_level0_row3\" class=\"row_heading level0 row3\" >3</th>\n",
       "      <td id=\"T_90229_row3_col0\" class=\"data row3 col0\" >0</td>\n",
       "      <td id=\"T_90229_row3_col1\" class=\"data row3 col1\" >93</td>\n",
       "      <td id=\"T_90229_row3_col2\" class=\"data row3 col2\" >244</td>\n",
       "      <td id=\"T_90229_row3_col3\" class=\"data row3 col3\" >249</td>\n",
       "      <td id=\"T_90229_row3_col4\" class=\"data row3 col4\" >253</td>\n",
       "      <td id=\"T_90229_row3_col5\" class=\"data row3 col5\" >187</td>\n",
       "      <td id=\"T_90229_row3_col6\" class=\"data row3 col6\" >46</td>\n",
       "      <td id=\"T_90229_row3_col7\" class=\"data row3 col7\" >10</td>\n",
       "      <td id=\"T_90229_row3_col8\" class=\"data row3 col8\" >8</td>\n",
       "      <td id=\"T_90229_row3_col9\" class=\"data row3 col9\" >4</td>\n",
       "      <td id=\"T_90229_row3_col10\" class=\"data row3 col10\" >10</td>\n",
       "      <td id=\"T_90229_row3_col11\" class=\"data row3 col11\" >194</td>\n",
       "      <td id=\"T_90229_row3_col12\" class=\"data row3 col12\" >253</td>\n",
       "      <td id=\"T_90229_row3_col13\" class=\"data row3 col13\" >253</td>\n",
       "      <td id=\"T_90229_row3_col14\" class=\"data row3 col14\" >233</td>\n",
       "      <td id=\"T_90229_row3_col15\" class=\"data row3 col15\" >0</td>\n",
       "      <td id=\"T_90229_row3_col16\" class=\"data row3 col16\" >0</td>\n",
       "      <td id=\"T_90229_row3_col17\" class=\"data row3 col17\" >0</td>\n",
       "    </tr>\n",
       "    <tr>\n",
       "      <th id=\"T_90229_level0_row4\" class=\"row_heading level0 row4\" >4</th>\n",
       "      <td id=\"T_90229_row4_col0\" class=\"data row4 col0\" >0</td>\n",
       "      <td id=\"T_90229_row4_col1\" class=\"data row4 col1\" >107</td>\n",
       "      <td id=\"T_90229_row4_col2\" class=\"data row4 col2\" >253</td>\n",
       "      <td id=\"T_90229_row4_col3\" class=\"data row4 col3\" >253</td>\n",
       "      <td id=\"T_90229_row4_col4\" class=\"data row4 col4\" >230</td>\n",
       "      <td id=\"T_90229_row4_col5\" class=\"data row4 col5\" >48</td>\n",
       "      <td id=\"T_90229_row4_col6\" class=\"data row4 col6\" >0</td>\n",
       "      <td id=\"T_90229_row4_col7\" class=\"data row4 col7\" >0</td>\n",
       "      <td id=\"T_90229_row4_col8\" class=\"data row4 col8\" >0</td>\n",
       "      <td id=\"T_90229_row4_col9\" class=\"data row4 col9\" >0</td>\n",
       "      <td id=\"T_90229_row4_col10\" class=\"data row4 col10\" >0</td>\n",
       "      <td id=\"T_90229_row4_col11\" class=\"data row4 col11\" >192</td>\n",
       "      <td id=\"T_90229_row4_col12\" class=\"data row4 col12\" >253</td>\n",
       "      <td id=\"T_90229_row4_col13\" class=\"data row4 col13\" >253</td>\n",
       "      <td id=\"T_90229_row4_col14\" class=\"data row4 col14\" >156</td>\n",
       "      <td id=\"T_90229_row4_col15\" class=\"data row4 col15\" >0</td>\n",
       "      <td id=\"T_90229_row4_col16\" class=\"data row4 col16\" >0</td>\n",
       "      <td id=\"T_90229_row4_col17\" class=\"data row4 col17\" >0</td>\n",
       "    </tr>\n",
       "    <tr>\n",
       "      <th id=\"T_90229_level0_row5\" class=\"row_heading level0 row5\" >5</th>\n",
       "      <td id=\"T_90229_row5_col0\" class=\"data row5 col0\" >0</td>\n",
       "      <td id=\"T_90229_row5_col1\" class=\"data row5 col1\" >3</td>\n",
       "      <td id=\"T_90229_row5_col2\" class=\"data row5 col2\" >20</td>\n",
       "      <td id=\"T_90229_row5_col3\" class=\"data row5 col3\" >20</td>\n",
       "      <td id=\"T_90229_row5_col4\" class=\"data row5 col4\" >15</td>\n",
       "      <td id=\"T_90229_row5_col5\" class=\"data row5 col5\" >0</td>\n",
       "      <td id=\"T_90229_row5_col6\" class=\"data row5 col6\" >0</td>\n",
       "      <td id=\"T_90229_row5_col7\" class=\"data row5 col7\" >0</td>\n",
       "      <td id=\"T_90229_row5_col8\" class=\"data row5 col8\" >0</td>\n",
       "      <td id=\"T_90229_row5_col9\" class=\"data row5 col9\" >0</td>\n",
       "      <td id=\"T_90229_row5_col10\" class=\"data row5 col10\" >43</td>\n",
       "      <td id=\"T_90229_row5_col11\" class=\"data row5 col11\" >224</td>\n",
       "      <td id=\"T_90229_row5_col12\" class=\"data row5 col12\" >253</td>\n",
       "      <td id=\"T_90229_row5_col13\" class=\"data row5 col13\" >245</td>\n",
       "      <td id=\"T_90229_row5_col14\" class=\"data row5 col14\" >74</td>\n",
       "      <td id=\"T_90229_row5_col15\" class=\"data row5 col15\" >0</td>\n",
       "      <td id=\"T_90229_row5_col16\" class=\"data row5 col16\" >0</td>\n",
       "      <td id=\"T_90229_row5_col17\" class=\"data row5 col17\" >0</td>\n",
       "    </tr>\n",
       "    <tr>\n",
       "      <th id=\"T_90229_level0_row6\" class=\"row_heading level0 row6\" >6</th>\n",
       "      <td id=\"T_90229_row6_col0\" class=\"data row6 col0\" >0</td>\n",
       "      <td id=\"T_90229_row6_col1\" class=\"data row6 col1\" >0</td>\n",
       "      <td id=\"T_90229_row6_col2\" class=\"data row6 col2\" >0</td>\n",
       "      <td id=\"T_90229_row6_col3\" class=\"data row6 col3\" >0</td>\n",
       "      <td id=\"T_90229_row6_col4\" class=\"data row6 col4\" >0</td>\n",
       "      <td id=\"T_90229_row6_col5\" class=\"data row6 col5\" >0</td>\n",
       "      <td id=\"T_90229_row6_col6\" class=\"data row6 col6\" >0</td>\n",
       "      <td id=\"T_90229_row6_col7\" class=\"data row6 col7\" >0</td>\n",
       "      <td id=\"T_90229_row6_col8\" class=\"data row6 col8\" >0</td>\n",
       "      <td id=\"T_90229_row6_col9\" class=\"data row6 col9\" >0</td>\n",
       "      <td id=\"T_90229_row6_col10\" class=\"data row6 col10\" >249</td>\n",
       "      <td id=\"T_90229_row6_col11\" class=\"data row6 col11\" >253</td>\n",
       "      <td id=\"T_90229_row6_col12\" class=\"data row6 col12\" >245</td>\n",
       "      <td id=\"T_90229_row6_col13\" class=\"data row6 col13\" >126</td>\n",
       "      <td id=\"T_90229_row6_col14\" class=\"data row6 col14\" >0</td>\n",
       "      <td id=\"T_90229_row6_col15\" class=\"data row6 col15\" >0</td>\n",
       "      <td id=\"T_90229_row6_col16\" class=\"data row6 col16\" >0</td>\n",
       "      <td id=\"T_90229_row6_col17\" class=\"data row6 col17\" >0</td>\n",
       "    </tr>\n",
       "    <tr>\n",
       "      <th id=\"T_90229_level0_row7\" class=\"row_heading level0 row7\" >7</th>\n",
       "      <td id=\"T_90229_row7_col0\" class=\"data row7 col0\" >0</td>\n",
       "      <td id=\"T_90229_row7_col1\" class=\"data row7 col1\" >0</td>\n",
       "      <td id=\"T_90229_row7_col2\" class=\"data row7 col2\" >0</td>\n",
       "      <td id=\"T_90229_row7_col3\" class=\"data row7 col3\" >0</td>\n",
       "      <td id=\"T_90229_row7_col4\" class=\"data row7 col4\" >0</td>\n",
       "      <td id=\"T_90229_row7_col5\" class=\"data row7 col5\" >0</td>\n",
       "      <td id=\"T_90229_row7_col6\" class=\"data row7 col6\" >0</td>\n",
       "      <td id=\"T_90229_row7_col7\" class=\"data row7 col7\" >14</td>\n",
       "      <td id=\"T_90229_row7_col8\" class=\"data row7 col8\" >101</td>\n",
       "      <td id=\"T_90229_row7_col9\" class=\"data row7 col9\" >223</td>\n",
       "      <td id=\"T_90229_row7_col10\" class=\"data row7 col10\" >253</td>\n",
       "      <td id=\"T_90229_row7_col11\" class=\"data row7 col11\" >248</td>\n",
       "      <td id=\"T_90229_row7_col12\" class=\"data row7 col12\" >124</td>\n",
       "      <td id=\"T_90229_row7_col13\" class=\"data row7 col13\" >0</td>\n",
       "      <td id=\"T_90229_row7_col14\" class=\"data row7 col14\" >0</td>\n",
       "      <td id=\"T_90229_row7_col15\" class=\"data row7 col15\" >0</td>\n",
       "      <td id=\"T_90229_row7_col16\" class=\"data row7 col16\" >0</td>\n",
       "      <td id=\"T_90229_row7_col17\" class=\"data row7 col17\" >0</td>\n",
       "    </tr>\n",
       "    <tr>\n",
       "      <th id=\"T_90229_level0_row8\" class=\"row_heading level0 row8\" >8</th>\n",
       "      <td id=\"T_90229_row8_col0\" class=\"data row8 col0\" >0</td>\n",
       "      <td id=\"T_90229_row8_col1\" class=\"data row8 col1\" >0</td>\n",
       "      <td id=\"T_90229_row8_col2\" class=\"data row8 col2\" >0</td>\n",
       "      <td id=\"T_90229_row8_col3\" class=\"data row8 col3\" >0</td>\n",
       "      <td id=\"T_90229_row8_col4\" class=\"data row8 col4\" >0</td>\n",
       "      <td id=\"T_90229_row8_col5\" class=\"data row8 col5\" >11</td>\n",
       "      <td id=\"T_90229_row8_col6\" class=\"data row8 col6\" >166</td>\n",
       "      <td id=\"T_90229_row8_col7\" class=\"data row8 col7\" >239</td>\n",
       "      <td id=\"T_90229_row8_col8\" class=\"data row8 col8\" >253</td>\n",
       "      <td id=\"T_90229_row8_col9\" class=\"data row8 col9\" >253</td>\n",
       "      <td id=\"T_90229_row8_col10\" class=\"data row8 col10\" >253</td>\n",
       "      <td id=\"T_90229_row8_col11\" class=\"data row8 col11\" >187</td>\n",
       "      <td id=\"T_90229_row8_col12\" class=\"data row8 col12\" >30</td>\n",
       "      <td id=\"T_90229_row8_col13\" class=\"data row8 col13\" >0</td>\n",
       "      <td id=\"T_90229_row8_col14\" class=\"data row8 col14\" >0</td>\n",
       "      <td id=\"T_90229_row8_col15\" class=\"data row8 col15\" >0</td>\n",
       "      <td id=\"T_90229_row8_col16\" class=\"data row8 col16\" >0</td>\n",
       "      <td id=\"T_90229_row8_col17\" class=\"data row8 col17\" >0</td>\n",
       "    </tr>\n",
       "    <tr>\n",
       "      <th id=\"T_90229_level0_row9\" class=\"row_heading level0 row9\" >9</th>\n",
       "      <td id=\"T_90229_row9_col0\" class=\"data row9 col0\" >0</td>\n",
       "      <td id=\"T_90229_row9_col1\" class=\"data row9 col1\" >0</td>\n",
       "      <td id=\"T_90229_row9_col2\" class=\"data row9 col2\" >0</td>\n",
       "      <td id=\"T_90229_row9_col3\" class=\"data row9 col3\" >0</td>\n",
       "      <td id=\"T_90229_row9_col4\" class=\"data row9 col4\" >0</td>\n",
       "      <td id=\"T_90229_row9_col5\" class=\"data row9 col5\" >16</td>\n",
       "      <td id=\"T_90229_row9_col6\" class=\"data row9 col6\" >248</td>\n",
       "      <td id=\"T_90229_row9_col7\" class=\"data row9 col7\" >250</td>\n",
       "      <td id=\"T_90229_row9_col8\" class=\"data row9 col8\" >253</td>\n",
       "      <td id=\"T_90229_row9_col9\" class=\"data row9 col9\" >253</td>\n",
       "      <td id=\"T_90229_row9_col10\" class=\"data row9 col10\" >253</td>\n",
       "      <td id=\"T_90229_row9_col11\" class=\"data row9 col11\" >253</td>\n",
       "      <td id=\"T_90229_row9_col12\" class=\"data row9 col12\" >232</td>\n",
       "      <td id=\"T_90229_row9_col13\" class=\"data row9 col13\" >213</td>\n",
       "      <td id=\"T_90229_row9_col14\" class=\"data row9 col14\" >111</td>\n",
       "      <td id=\"T_90229_row9_col15\" class=\"data row9 col15\" >2</td>\n",
       "      <td id=\"T_90229_row9_col16\" class=\"data row9 col16\" >0</td>\n",
       "      <td id=\"T_90229_row9_col17\" class=\"data row9 col17\" >0</td>\n",
       "    </tr>\n",
       "    <tr>\n",
       "      <th id=\"T_90229_level0_row10\" class=\"row_heading level0 row10\" >10</th>\n",
       "      <td id=\"T_90229_row10_col0\" class=\"data row10 col0\" >0</td>\n",
       "      <td id=\"T_90229_row10_col1\" class=\"data row10 col1\" >0</td>\n",
       "      <td id=\"T_90229_row10_col2\" class=\"data row10 col2\" >0</td>\n",
       "      <td id=\"T_90229_row10_col3\" class=\"data row10 col3\" >0</td>\n",
       "      <td id=\"T_90229_row10_col4\" class=\"data row10 col4\" >0</td>\n",
       "      <td id=\"T_90229_row10_col5\" class=\"data row10 col5\" >0</td>\n",
       "      <td id=\"T_90229_row10_col6\" class=\"data row10 col6\" >0</td>\n",
       "      <td id=\"T_90229_row10_col7\" class=\"data row10 col7\" >43</td>\n",
       "      <td id=\"T_90229_row10_col8\" class=\"data row10 col8\" >98</td>\n",
       "      <td id=\"T_90229_row10_col9\" class=\"data row10 col9\" >98</td>\n",
       "      <td id=\"T_90229_row10_col10\" class=\"data row10 col10\" >208</td>\n",
       "      <td id=\"T_90229_row10_col11\" class=\"data row10 col11\" >253</td>\n",
       "      <td id=\"T_90229_row10_col12\" class=\"data row10 col12\" >253</td>\n",
       "      <td id=\"T_90229_row10_col13\" class=\"data row10 col13\" >253</td>\n",
       "      <td id=\"T_90229_row10_col14\" class=\"data row10 col14\" >253</td>\n",
       "      <td id=\"T_90229_row10_col15\" class=\"data row10 col15\" >187</td>\n",
       "      <td id=\"T_90229_row10_col16\" class=\"data row10 col16\" >22</td>\n",
       "      <td id=\"T_90229_row10_col17\" class=\"data row10 col17\" >0</td>\n",
       "    </tr>\n",
       "  </tbody>\n",
       "</table>\n"
      ],
      "text/plain": [
       "<pandas.io.formats.style.Styler at 0x7fd67c55fdf0>"
      ]
     },
     "execution_count": 958,
     "metadata": {},
     "output_type": "execute_result"
    }
   ],
   "source": [
    "# now let's color code the values\n",
    "df.style.set_properties(**{'font-size':'6pt'}).background_gradient('Greys')"
   ]
  },
  {
   "cell_type": "markdown",
   "metadata": {},
   "source": [
    "## getting on with our baseline model\n",
    "\n",
    "The _baseline_ of our classifier will be very simple, as it should be:\n",
    "\n",
    "- find the average pixel value for every pixel of the 3s\n",
    "- find the average pixel value for every pixel of the 7s\n",
    "\n",
    "This gives us group averages that we may call \"ideal\" 3s and 7s. We would first classify a digit as a 3 if the average pixel value of the digit is closer to the ideal 3 than to the ideal 7, and vice versa."
   ]
  },
  {
   "cell_type": "code",
   "execution_count": 959,
   "metadata": {},
   "outputs": [
    {
     "data": {
      "text/plain": [
       "(6131, 6265)"
      ]
     },
     "execution_count": 959,
     "metadata": {},
     "output_type": "execute_result"
    }
   ],
   "source": [
    "# create lists of tensors containing all 3s and 7s stacked together\n",
    "seven_tensors = [tensor(Image.open(o)) for o in sevens]\n",
    "three_tensors = [tensor(Image.open(o)) for o in threes]\n",
    "len(three_tensors),len(seven_tensors)"
   ]
  },
  {
   "cell_type": "code",
   "execution_count": 960,
   "metadata": {},
   "outputs": [
    {
     "data": {
      "text/plain": [
       "<Axes: >"
      ]
     },
     "execution_count": 960,
     "metadata": {},
     "output_type": "execute_result"
    },
    {
     "data": {
      "image/png": "[encoded data removed]",
      "text/plain": [
       "<Figure size 100x100 with 1 Axes>"
      ]
     },
     "metadata": {},
     "output_type": "display_data"
    }
   ],
   "source": [
    "# Jupyter ships with a function called `show_image` that knows how to render a tensor as an image\n",
    "show_image(three_tensors[1])"
   ]
  },
  {
   "cell_type": "markdown",
   "metadata": {},
   "source": [
    "## rank-3 tensors\n",
    "\n",
    "For every pixel position, we want to compute the average over all the images of the intensity of that pixel. \n",
    "\n",
    "To do this we first combine all the images in this list into a single three-dimensional tensor. \n",
    "\n",
    "The most common way to describe such a tensor is to call it a _rank-3 tensor_.\n",
    "\n",
    "See an example of what that might look like below:\n",
    "\n",
    "![rank-3 tensor.png](./rank-3-tensor.png)\n",
    "\n",
    "A rank-3 tensor is essentially a cube of numbers.\n",
    "\n",
    "To index a number of that tensor, you would need:\n",
    "\n",
    "- the layer\n",
    "- the row\n",
    "- the column\n",
    "\n",
    "### how did we conclude that we needed a rank-3 tensor?\n",
    "\n",
    "- Each image is a 2d matrix of pixels (rows and columns, e.g. a _rank-2 tensor_)\n",
    "- Each element in the matrix corresponds to a pixel intensity (a scalar value, e.g. a _rank-1 tensor_)\n",
    "- To ease computing of the average of each pixel intensity over all images, you would stack each of these matrices on top of each other: there you have it, a _rank-3 tensor_"
   ]
  },
  {
   "cell_type": "code",
   "execution_count": 961,
   "metadata": {},
   "outputs": [
    {
     "data": {
      "text/plain": [
       "torch.Size([6131, 28, 28])"
      ]
     },
     "execution_count": 961,
     "metadata": {},
     "output_type": "execute_result"
    }
   ],
   "source": [
    "# let's our images and cast our stacked tensors as float tensors for further computation\n",
    "# we also normalise our pixel values to be between 0 and 1 by dividing by 255\n",
    "stacked_sevens = torch.stack(seven_tensors).float()/255\n",
    "stacked_threes = torch.stack(three_tensors).float()/255\n",
    "\n",
    "# a _shape_ tells us the length of each axis of a tensor\n",
    "stacked_threes.shape"
   ]
  },
  {
   "cell_type": "markdown",
   "metadata": {},
   "source": [
    "The previous output says to us: \"we have 6131 images, each of size 28x28 pixels\". \n",
    "\n",
    "We can define the _shape_ as **the size of each axis in a tensor**.\n",
    "\n",
    "As you may have noticed, we have also normalized the values of the pixels. We want all pixels to be between 0 and 1. By ensuring that all values are of similar scale, we improve the accuracy of our model."
   ]
  },
  {
   "cell_type": "code",
   "execution_count": 962,
   "metadata": {},
   "outputs": [
    {
     "data": {
      "text/plain": [
       "3"
      ]
     },
     "execution_count": 962,
     "metadata": {},
     "output_type": "execute_result"
    }
   ],
   "source": [
    "# the _length_ of a tensor's shape is its _rank_\n",
    "len(stacked_threes.shape)"
   ]
  },
  {
   "cell_type": "code",
   "execution_count": 963,
   "metadata": {},
   "outputs": [
    {
     "data": {
      "text/plain": [
       "3"
      ]
     },
     "execution_count": 963,
     "metadata": {},
     "output_type": "execute_result"
    }
   ],
   "source": [
    "# you could also get the rank of a tensor like so\n",
    "stacked_threes.ndim"
   ]
  },
  {
   "cell_type": "markdown",
   "metadata": {},
   "source": [
    "The _dimension_ 0 of our rank-3 tensor is the number of images.\n",
    "\n",
    "Here is how you would compute the average pixel intensity for each pixel position:"
   ]
  },
  {
   "cell_type": "code",
   "execution_count": 964,
   "metadata": {},
   "outputs": [
    {
     "data": {
      "text/plain": [
       "<Axes: >"
      ]
     },
     "execution_count": 964,
     "metadata": {},
     "output_type": "execute_result"
    },
    {
     "data": {
      "image/png": "[encoded data removed]",
      "text/plain": [
       "<Figure size 100x100 with 1 Axes>"
      ]
     },
     "metadata": {},
     "output_type": "display_data"
    }
   ],
   "source": [
    "ideal3 = stacked_threes.mean(0)\n",
    "show_image(ideal3)"
   ]
  },
  {
   "cell_type": "code",
   "execution_count": 965,
   "metadata": {},
   "outputs": [
    {
     "data": {
      "text/plain": [
       "<Axes: >"
      ]
     },
     "execution_count": 965,
     "metadata": {},
     "output_type": "execute_result"
    },
    {
     "data": {
      "image/png": "[encoded data removed]",
      "text/plain": [
       "<Figure size 100x100 with 1 Axes>"
      ]
     },
     "metadata": {},
     "output_type": "display_data"
    }
   ],
   "source": [
    "# let's do the same thing for the 7s\n",
    "ideal7 = stacked_sevens.mean(0)\n",
    "show_image(ideal7)"
   ]
  },
  {
   "cell_type": "markdown",
   "metadata": {},
   "source": [
    "## Test the baseline model\n",
    "\n",
    "Now that we have an idea of what our ideal 3 and 7 look like, we can try to classify our images. To test our baseline, we would pick an arbitrary number from the dataset and measure its distance from its _ideal_ representation."
   ]
  },
  {
   "cell_type": "code",
   "execution_count": 966,
   "metadata": {},
   "outputs": [
    {
     "data": {
      "text/plain": [
       "<Axes: >"
      ]
     },
     "execution_count": 966,
     "metadata": {},
     "output_type": "execute_result"
    },
    {
     "data": {
      "image/png": "[encoded data removed]",
      "text/plain": [
       "<Figure size 100x100 with 1 Axes>"
      ]
     },
     "metadata": {},
     "output_type": "display_data"
    }
   ],
   "source": [
    "# here is our sample number for our test\n",
    "a_3 = stacked_threes[1]\n",
    "show_image(a_3)"
   ]
  },
  {
   "cell_type": "markdown",
   "metadata": {},
   "source": [
    "To calculate the distance from the baseline `3`, we can't just add up the differences in intensity between each of the pixels of both images. It is so because some differences would cancel out (light vs dark pixels), and that would be misleading as very different pixels could have a value of zero, which would mean \"no difference from the ideal digit representation\".\n",
    "\n",
    "There are two main ways data scientists measure distance in this context:\n",
    "\n",
    "- take the mean absolute value of differences: this is called _mean absolute difference_ or _L1 norm_\n",
    "- take the mean of the square of differences (which makes everything positive) and then take the square root (which undoes the squaring): this is called _root mean squared error_ or _L2 norm_"
   ]
  },
  {
   "cell_type": "code",
   "execution_count": 967,
   "metadata": {},
   "outputs": [
    {
     "data": {
      "text/plain": [
       "tensor(0.1114)"
      ]
     },
     "execution_count": 967,
     "metadata": {},
     "output_type": "execute_result"
    }
   ],
   "source": [
    "# let's try the `L1` norm\n",
    "dist3_l1 = (a_3 - ideal3).abs().mean()\n",
    "\n",
    "dist3_l1"
   ]
  },
  {
   "cell_type": "code",
   "execution_count": 968,
   "metadata": {},
   "outputs": [
    {
     "data": {
      "text/plain": [
       "tensor(0.2021)"
      ]
     },
     "execution_count": 968,
     "metadata": {},
     "output_type": "execute_result"
    }
   ],
   "source": [
    "# let's try the `L2` norm now\n",
    "dist3_l2 = ((a_3 - ideal3)**2).mean().sqrt()\n",
    "\n",
    "dist3_l2"
   ]
  },
  {
   "cell_type": "code",
   "execution_count": 969,
   "metadata": {},
   "outputs": [
    {
     "data": {
      "text/plain": [
       "tensor(0.1586)"
      ]
     },
     "execution_count": 969,
     "metadata": {},
     "output_type": "execute_result"
    }
   ],
   "source": [
    "# let's check if our arbitrary number is a 3 or a 7 using both methods\n",
    "\n",
    "# `L1` norm\n",
    "dist7_l1 = (a_3 - ideal7).abs().mean()\n",
    "dist7_l1"
   ]
  },
  {
   "cell_type": "code",
   "execution_count": 970,
   "metadata": {},
   "outputs": [
    {
     "data": {
      "text/plain": [
       "tensor(0.3021)"
      ]
     },
     "execution_count": 970,
     "metadata": {},
     "output_type": "execute_result"
    }
   ],
   "source": [
    "# we'll use the `L2` norm\n",
    "dist7_l2 = ((a_3 - ideal7)**2).mean().sqrt()\n",
    "dist7_l2"
   ]
  },
  {
   "cell_type": "markdown",
   "metadata": {},
   "source": [
    "From the little experiment we've just run, we can see that our baseline model predicts right in this particular case, as both results are greater for a 7 than they would have been for a 3.\n",
    "\n",
    "We could have done the same thing with `PyTorch`, which provides loss functions (among many other things), as shown below:"
   ]
  },
  {
   "cell_type": "code",
   "execution_count": 971,
   "metadata": {},
   "outputs": [
    {
     "data": {
      "text/plain": [
       "tensor(0.1586)"
      ]
     },
     "execution_count": 971,
     "metadata": {},
     "output_type": "execute_result"
    }
   ],
   "source": [
    "dist7_l1_torch = F.l1_loss(a_3.float(), ideal7)\n",
    "dist7_l1_torch"
   ]
  },
  {
   "cell_type": "code",
   "execution_count": 972,
   "metadata": {},
   "outputs": [
    {
     "data": {
      "text/plain": [
       "tensor(0.3021)"
      ]
     },
     "execution_count": 972,
     "metadata": {},
     "output_type": "execute_result"
    }
   ],
   "source": [
    "dist7_l2_torch = F.mse_loss(a_3, ideal7).sqrt()\n",
    "dist7_l2_torch"
   ]
  },
  {
   "cell_type": "markdown",
   "metadata": {},
   "source": [
    "### L1 vs L2 norms\n",
    "\n",
    "The main difference between L1 norm and MSE is that the latter will penalize bigger mistakes more heavily than the former, which may be more lenient with small mistakes."
   ]
  },
  {
   "cell_type": "markdown",
   "metadata": {},
   "source": [
    "## Defining a metric for our baseline model\n",
    "\n",
    "A metric is a number that is calculated based on the predictions of our model, and the correct labels in our dataset, in order to tell us how good our model is.\n",
    "\n",
    "In practice, _accuracy_ is a common metric for classification models.\n",
    "\n",
    "- The _error rate_ in deep learning refers to the difference between the predicted output and the actual output of a neural network. It is a measure of how well the network is performing on a given task. In this context, _accuracy_ can be defined as `1.0 - error rate`.\n",
    "\n",
    "A metric is always calculated over a _validation_ set.\n",
    "\n",
    "To get a validation set, we need to remove some of the data of the training set entirely, so it's not seen by the model at all during training."
   ]
  },
  {
   "cell_type": "code",
   "execution_count": 973,
   "metadata": {},
   "outputs": [
    {
     "data": {
      "text/plain": [
       "(torch.Size([1010, 28, 28]), torch.Size([1028, 28, 28]))"
      ]
     },
     "execution_count": 973,
     "metadata": {},
     "output_type": "execute_result"
    }
   ],
   "source": [
    "# let's create tensors for 3s and 7s using the MNIST validation set\n",
    "valid_3_tens = torch.stack([tensor(Image.open(o)) for o in (path/'valid'/'3').ls()])\n",
    "valid_3_tens = valid_3_tens.float()/255\n",
    "valid_7_tens = torch.stack([tensor(Image.open(o)) for o in (path/'valid'/'7').ls()])\n",
    "valid_7_tens = valid_7_tens.float()/255\n",
    "\n",
    "# here we divided both tensors by 255 to normalize the pixel values between 0 and 1\n",
    "# x images of size 28x28 pixels\n",
    "valid_3_tens.shape,valid_7_tens.shape"
   ]
  },
  {
   "cell_type": "code",
   "execution_count": 974,
   "metadata": {},
   "outputs": [
    {
     "data": {
      "text/plain": [
       "tensor(0.1114)"
      ]
     },
     "execution_count": 974,
     "metadata": {},
     "output_type": "execute_result"
    }
   ],
   "source": [
    "# now let's write the function that will give use the MSE loss for a given image\n",
    "def mnist_mse_distance(a,b): return (a-b).abs().mean((-1,-2))\n",
    "mnist_mse_distance(a_3, ideal3)\n"
   ]
  },
  {
   "cell_type": "markdown",
   "metadata": {},
   "source": [
    "### why `mean((-1,-2))`\n",
    "\n",
    "The `mean` function in `PyTorch` can take a tuple of axes to take the mean of. \n",
    "In this case, we want to take the mean over the last two dimensions (in this case, the horizontal and vertical dimensions of an image).\n",
    "\n",
    "The tuple `(-1,-2)` represents a range of axes.\n",
    "\n",
    "This effectively allows us to make batch calculations on rank-3 tensors, as you will see in the example below."
   ]
  },
  {
   "cell_type": "code",
   "execution_count": 975,
   "metadata": {},
   "outputs": [
    {
     "data": {
      "text/plain": [
       "(tensor([0.1463, 0.1526, 0.1214,  ..., 0.1360, 0.1326, 0.1422]),\n",
       " torch.Size([1010]))"
      ]
     },
     "execution_count": 975,
     "metadata": {},
     "output_type": "execute_result"
    }
   ],
   "source": [
    "# applying the same calculation for every image in our validation set\n",
    "valid_3_dist = mnist_mse_distance(valid_3_tens, ideal3)\n",
    "valid_3_dist, valid_3_dist.shape\n",
    "\n",
    "# for every image, we averaged the intensity of all pixels in that image;\n",
    "# we are left with a rank-1 tensor of a thousand numbers"
   ]
  },
  {
   "cell_type": "markdown",
   "metadata": {},
   "source": [
    "`PyTorch` is so versatile it didn't even complain about shapes not matching and calculated the distance for each image instead !\n",
    "\n",
    "This is made possible because `PyTorch` uses _broadcasting_ under the hood: e.g. the ability expand a lower rank tensor to have the same size as a higher rank input tensor during a calculation. This is why this type of operation is possible:\n",
    "\n",
    "```python\n",
    "tensor([1,2,3]) + tensor(1) # tensor([2,3,4])\n",
    "```\n",
    "\n",
    "When applying the `abs()` function on a tensor, you get back a matrix of absolute values.\n",
    "\n",
    "Now let's continue with the function that determines if the number is a `3` or a `7`:"
   ]
  },
  {
   "cell_type": "code",
   "execution_count": 976,
   "metadata": {},
   "outputs": [
    {
     "data": {
      "text/plain": [
       "(tensor(True), tensor(1.))"
      ]
     },
     "execution_count": 976,
     "metadata": {},
     "output_type": "execute_result"
    }
   ],
   "source": [
    "def is_3(x): return mnist_mse_distance(x,ideal3) < mnist_mse_distance(x,ideal7)\n",
    "\n",
    "# let's test the function\n",
    "is_3(a_3), is_3(a_3).float()"
   ]
  },
  {
   "cell_type": "code",
   "execution_count": 977,
   "metadata": {},
   "outputs": [
    {
     "data": {
      "text/plain": [
       "tensor([True, True, True,  ..., True, True, True])"
      ]
     },
     "execution_count": 977,
     "metadata": {},
     "output_type": "execute_result"
    }
   ],
   "source": [
    "# let's do the same thing at scale\n",
    "is_3(valid_3_tens)"
   ]
  },
  {
   "cell_type": "code",
   "execution_count": 978,
   "metadata": {},
   "outputs": [
    {
     "data": {
      "text/plain": [
       "tensor([1., 1., 1.,  ..., 1., 1., 1.])"
      ]
     },
     "execution_count": 978,
     "metadata": {},
     "output_type": "execute_result"
    }
   ],
   "source": [
    "# again but as floats\n",
    "is_3(valid_3_tens).float()"
   ]
  },
  {
   "cell_type": "code",
   "execution_count": 979,
   "metadata": {},
   "outputs": [
    {
     "data": {
      "text/plain": [
       "tensor(0.9168)"
      ]
     },
     "execution_count": 979,
     "metadata": {},
     "output_type": "execute_result"
    }
   ],
   "source": [
    "# get the mean of correct predictions\n",
    "accuracy_3s = is_3(valid_3_tens).float().mean()\n",
    "accuracy_3s"
   ]
  },
  {
   "cell_type": "code",
   "execution_count": 980,
   "metadata": {},
   "outputs": [
    {
     "data": {
      "text/plain": [
       "tensor(0.9854)"
      ]
     },
     "execution_count": 980,
     "metadata": {},
     "output_type": "execute_result"
    }
   ],
   "source": [
    "# let's do the above steps for 7s\n",
    "accuracy_7s = (1 - is_3(valid_7_tens).float()).mean()\n",
    "accuracy_7s\n",
    "\n",
    "# we use the inverse here with `1 - is_3` because we want to know how many 7s we correctly identified (OR logic)"
   ]
  },
  {
   "cell_type": "markdown",
   "metadata": {},
   "source": [
    "We can conclude from the above that we have a pretty good baseline for 2 numbers !\n",
    "\n",
    "However, we are limited by the fact that we need to classify more than 2 numbers. This is where _Stochastic Gradient Descent_ (SGD) comes in."
   ]
  },
  {
   "cell_type": "markdown",
   "metadata": {},
   "source": [
    "## Introducing SGD\n",
    "\n",
    "In our pixels similarity approach, we don't have any kind of weight assignment, or any way of improving our classifier based on testing the effectiveness of a weight assignment.\n",
    "\n",
    "### A little aparté on weight assignment\n",
    "\n",
    "A neural network is a mathematical function that is extremely flexible and that depends on its weights. Neural networks are powerful tools because they can solve a very wide array of problems just by finding the right weights.\n",
    "\n",
    "Weights in an AI model are numerical values that define how strongly given inputs to a node or neuron influence its output, in other words, they are the _parameters_ that are learned during the training process.\n",
    "\n",
    "Using neural networks gives the operator enough flexibility to focus his efforts on training the model, e.g. finding good weights assignments.\n",
    "\n",
    "Weights are just variables, and a weight assignment is a particular choice of values for those variables. \n",
    "\n",
    "The program's inputs are values that it processes in order to produce its results, for instance, taking image pixels as inputs and returning the classification \"dog\" as a result. The program's weight assignments are other values that define how the program will operate.\n",
    "\n",
    "A traditional program takes input and outputs results, whereas a machine learning program takes inputs and weights to output its results. Another difference is that the _program_ is a set of conditionals, loops, etc. whereas the _model_ is a mathematical function that minimizes errors to improve its accuracy. This function:\n",
    "  - takes the inputs\n",
    "  - multiplies them by a set of weights (nowaydays called `parameters`)\n",
    "  - adds them up\n",
    "  - redoes this process\n",
    "  - once it's done, it takes all the negative numbers and replaces them with 0s\n",
    "  - it then takes these inputs to a next _layer_ and redoes the whole process\n",
    "\n",
    "This is how a deep learning model works, in contrast of a more classic program, which does not have weights.\n",
    "\n",
    "Adjusting the weights here should is done with the goal of maximizing the model's performance. This adjustment can be done automatically.\n",
    "\n",
    "As you can see, we also differentiate `results` from `performance`. For instance, the results can be the classification of an image, and the performance can be the accuracy of the classification.\n",
    "\n",
    "The _loss_ is what is used to provide a better set of weights to the model, e.g. the model should aim at making the loss smaller\n",
    "\n",
    "At some point, we can decide that a model is trained, that is we've chosen our favorite weight assignment; you will generally include the weights as part of the model at the end of this process. You can also note that a trained model can be treated like any other computer program when the training is over, this leverages powerful APIs. Another thing to note: once the model is trained, predicting (_inference_) is faster than training.  \n",
    "\n",
    "Weight assignment in deep learning is like giving each input a score that affects how much it influences the output. For example, if you have a neural network that predicts the price of a house based on its size and location, you might give more weight to the size than the location, because size is more important for the price. The weights are usually random numbers at first, but they change as the network learns from the data. The way you choose the initial weights can affect how well the network learns and performs.\n",
    "\n",
    "One way to choose the initial weights is to use some rules based on the type of function that each node uses to calculate its output. For example, some functions are like switches that turn on or off depending on the input, while others are like curves that smoothly change from low to high. Different rules work better for different functions, so you have to match them accordingly.\n",
    "\n",
    "_Stochastic gradient descent_ is a technique used to update the weights of a neural network in order to make it improve at any given task. Its power resides in the fact that it provides a way of finding weight values automatically."
   ]
  },
  {
   "cell_type": "markdown",
   "metadata": {},
   "source": [
    "## Using another approach to classify digits: a linear model\n",
    "\n",
    "Now, back to our problem.\n",
    "\n",
    "Instead of trying to find the similarity between an image and an \"ideal image,\" we could instead look at each individual pixel and come up with a set of weights for each one.\n",
    "\n",
    "For instance, pixels toward the bottom right are not very likely to activate neurons for a 7, so they should have a low weight for a 7, but they are likely to be activated for an 8, so they should have a high weight for an 8. \n",
    "\n",
    "This can be represented as a function with a set of weight values for each possible category, for instance the probability of being the number 8 =>\n",
    "\n",
    "```python\n",
    "def pr_eight(image_vector, weights_vector): return (image_vector * weights_vector).sum()\n",
    "```\n",
    "\n",
    "Here, the image represented as a vector is basically \"all the rows stacked up end to end on a single long line\". With this kind of function, we just need some way to update the weights to make them better and better at distinguishing between digits: we want to find the specific values for the weights that cause the result of our function to be high for images that are actually 8s, and low for images that are not. Searching for the best weights is a way of searching for the best function that recognizes 8s.\n",
    "\n",
    "These are the steps that will turn our function into a machine learning classifier:\n",
    "\n",
    "1. _Initialize_ the weights with random values\n",
    "2. For each image, use these weights to predict whether it appears to be a 3 or a 7\n",
    "3. Based on these predictions, calculate how good the model is (its _loss_)\n",
    "4. Calculate the _gradient_, which measures for each weight, how changing that weight would change the loss; the gradients will tell us how much we have to change each weight to make our model better\n",
    "5. _Step_ (that is, _change_) all the weights based on the previous calculation\n",
    "    - A simple way to figure out whether a weight should be increased a bit, or decreased a bit, would be just to try it: increase the weight by a small amount, and see if the loss goes up or down. Once you find the correct direction, you could then change that amount by a bit more, and a bit less, until you find an amount that works well. However, this is slow! As we will see, the magic of calculus allows us to directly figure out in which direction, and by roughly how much, to change each weight, without having to try all these small changes. The way to do this is by calculating gradients. This is just a performance optimization, we would get exactly the same results by using the slower manual process as well.\n",
    "6. Go back to the step 2, and repeat the process\n",
    "7. Iterate until you decide to stop the training process (for instance, because the model is good enough or you don't want to wait any longer). Generally, you would want to stop the training process when the model stops improving or gets worse\n",
    "\n",
    "These relatively simple steps are the basis for nearly all deep learning models.\n",
    "\n",
    "Derivatives are a way of finding **the instantaneous rate of change** or **the slope** of a function at any given point. A derivative in calculus is a measure of how a function changes as its input changes. It's like the speedometer of a car; it tells you how fast you're going at any point in time. Derivatives calculate the change of a function, not it's value.\n",
    "\n",
    "For example, if `f'(2) = 4`; this means several things:\n",
    "\n",
    "- at `x = 2` the slope of the function `f(x)` is `4`\n",
    "- we can interpret that any small change in `x` around `2` will increase `f(x)` 4 times as fast\n",
    "\n",
    "When we know how a function changes, we know what we need to make its value smaller.\n",
    "\n",
    "One important thing to be aware of is that our function has lots of weights that we need to adjust, so when we calculate the derivative of these weights we won't get back one number, but rather lots of them: a _gradient_ for every weight. But there is nothing mathematically tricky here; you can calculate the derivative with respect to one weight, and treat all the other ones as constant, then repeat that for each other weight. This is how all of the gradients are calculated, for every weight.\n",
    "\n",
    "Thankfully, `PyTorch` can automatically compute the derivative of nearly any function!"
   ]
  },
  {
   "cell_type": "markdown",
   "metadata": {},
   "source": [
    "### The notion of _learning rate_\n",
    "\n",
    "The _learning rate_ is the number by which you multiply the gradients in a gradients descent.\n",
    "\n",
    "Deciding how to change our weights based on the values of the gradients is an important part of the deep learning process. Nearly all approaches start with the basic idea of multiplying the gradient by some small number, called the learning rate (LR). The learning rate is often a number between 0.001 and 0.1, although it could be anything.\n",
    "\n",
    "Deciding which learning rate to use is a trial and error process. If you make it too big, your model will diverge, which means it will get worse and worse. But if you make it too small, the model will eventually improve, but it will take forever to converge.\n",
    "\n",
    "The _learning rate_ is a hyperparameter: it controls how much the program adjusts its parameters in response to the feedback it gets. To understand with an analogy:\n",
    "  - imagine a robot trying to learn how to walk\n",
    "  - the learning rate would be the size of the steps the robot takes\n",
    "  - if the steps are too wide, the robot will fall (overcorrecting)\n",
    "  - if the steps are too small, the robot will take a long time to learn and hardly make any progress (undercorrecting)\n",
    "\n",
    "Here is a visual representation of an undercorrecting model:\n",
    "\n",
    "![undercorrecting model](https://raw.githubusercontent.com/fastai/fastbook/823b69e00aa1e1c1a45fe88bd346f11e8f89c1ff//images/chapter2_small.svg)\n",
    "\n",
    "And here are some overcorrecting models examples:\n",
    "\n",
    "![overcorrecting model](https://raw.githubusercontent.com/fastai/fastbook/823b69e00aa1e1c1a45fe88bd346f11e8f89c1ff/images/chapter2_div.svg)\n",
    "\n",
    "![overcorrecting model](https://raw.githubusercontent.com/fastai/fastbook/823b69e00aa1e1c1a45fe88bd346f11e8f89c1ff//images/chapter2_bouncy.svg)\n",
    "\n",
    "... as you can see, the first one makes steps that are too big, resulting in a lousy performance, and the other bounces back and forth because of a step that may be a little too high, this would cause training to be very slow.\n",
    "\n",
    "Adjusting the weights of our model can be then expressed as simply as:\n",
    "\n",
    "```python\t\n",
    "weights -= gradient * lr\n",
    "```\n",
    "\n",
    "This is what _stepping the weights_ actually means.\n",
    "\n",
    "We use a substraction here to allow for:\n",
    "\n",
    "- in case the slope is positive, the weight to be decreased\n",
    "- in case the slope is negative, the weight to be increased\n",
    "\n",
    "Remember: our ultimate goal is to minimize the loss."
   ]
  },
  {
   "cell_type": "markdown",
   "metadata": {},
   "source": [
    "### SGD summary\n",
    "\n",
    "Let's summarize a few points here:\n",
    "\n",
    "- The weights of a model can be random (training a model from scratch) or they can come from a pre trained model (transfer learning).\n",
    "- If you train a model from scratch, the first outputs you'll get will probably be pretty bad, because your weights are random.\n",
    "- Also, in case of a pretrained model, the first outputs won't probably be what you want, because the model was trained for a different task. So, the model will need to _learn_ better weights.\n",
    "- To measure the performance of a model, you compare the outputs the model gives you with the targets (the true labels), using a loss function.\n",
    "- We want the output of the loss function to be as low as possible by improving the weights of the model.\n",
    "- For improving the model, you'd want to set aside a few data items that you don't train the model on, called the _validation set_. This is the set that will be used to measure performance.\n",
    "- Figuring out how to change the loss to make it better heavily relies on Calculus and gradients. This is made easy with tools like `PyTorch` 😎.\n",
    "- At each pass of the iterative process that makes the weights better, we use the magnitude of each gradient to tell us how big a step is to take into a better direction. We multiply the gradients by a number called the _learning rate_ to decide each step size.\n",
    "- When the loss does not get any better, we say that the model has _converged_ and we stop the training.\n",
    "\n",
    "Alright, we are ready to apply this to the MNIST dataset now !\n",
    "\n"
   ]
  },
  {
   "cell_type": "markdown",
   "metadata": {},
   "source": [
    "## Defining traingin and validation sets + parameters\n",
    "\n",
    "For our digits classifier issue to solve, we already have independent variables (x-axis): these are the images themselves. This means we can put together our training dataset.\n",
    "\n",
    "Let's concatenate all of them into a single tensor.\n",
    "\n",
    "To do this, we'll need to go from a rank-3 tensor of images stacked together to a list of vectors (rank-2 tensor). This can be done using the `view` method of `PyTorch` tensors, as it changes the shape of a tensor without changing its contents."
   ]
  },
  {
   "cell_type": "code",
   "execution_count": 981,
   "metadata": {},
   "outputs": [],
   "source": [
    "# `torch.cat` concatenates tensors along the first dimension;\n",
    "# then `view` reshapes the concatenated tensor into a rank-2 tensor,\n",
    "# this new tensor has 28*28 columns and a number of rows equal to the number of images in the 2 original tensors;\n",
    "# a 28*28 image is flattened into a 784-element vector\n",
    "train_x = torch.cat([stacked_threes, stacked_sevens]).view(-1, 28*28)"
   ]
  },
  {
   "cell_type": "code",
   "execution_count": 982,
   "metadata": {},
   "outputs": [],
   "source": [
    "# let's label each image\n",
    "train_y = tensor([1]*len(threes) + [0]*len(sevens)).unsqueeze(1)"
   ]
  },
  {
   "cell_type": "markdown",
   "metadata": {},
   "source": [
    "The line of code above:\n",
    "\n",
    "- concatenates 2 tensors of length `len(threes)` and `len(sevens)` respectively\n",
    "- the first elements of this new tensor (`len(threes)`) are set to 0\n",
    "- the last elements of this new tensor (`len(sevens)`) are set to 1\n",
    "- calling `unsqueeze` on a tensor adds an extra dimension to it\n",
    "- we add one extra dimension to match the shape of the images tensor that will be fed to the model\n",
    "- the resulting tensor has a shape of `(n, 1)`, where `n` is the number of images in the dataset"
   ]
  },
  {
   "cell_type": "code",
   "execution_count": 983,
   "metadata": {},
   "outputs": [
    {
     "data": {
      "text/plain": [
       "(torch.Size([12396, 784]), torch.Size([12396, 1]))"
      ]
     },
     "execution_count": 983,
     "metadata": {},
     "output_type": "execute_result"
    }
   ],
   "source": [
    "train_x.shape,train_y.shape"
   ]
  },
  {
   "cell_type": "markdown",
   "metadata": {},
   "source": [
    "A `Dataset` in `PyTorch` is an abstract class that represents a collection of data samples.\n",
    "\n",
    "When indexed, a `Dataset` is required to return a tuple of `(x,y)`, where `x` is the input data and `y` is the label.\n",
    "\n",
    "A `Dataset` in `PyTorch` is required to return a tuple of `(x,y)` when indexed. Python provides a `zip` function which, when combined with `list`, provides a simple way to get this functionality. \n",
    "\n",
    "The `zip` function in Python takes two or more iterables and returns a zip object. The zip object is an iterator that produces tuples of corresponding elements from the iterables.\n",
    "\n",
    "```python\n",
    "list(zip([1, 2, 3], [4, 5, 6]))\n",
    "# [(1, 4), (2, 5), (3, 6)]\n",
    "```\n",
    "\n",
    "As you can see, each tuple contains the corresponding elements from the 2 lists.\n",
    "\n",
    "This is how we are going to use it to create our `Dataset` of images and labels."
   ]
  },
  {
   "cell_type": "code",
   "execution_count": 984,
   "metadata": {},
   "outputs": [
    {
     "data": {
      "text/plain": [
       "(torch.Size([784]), tensor([1]))"
      ]
     },
     "execution_count": 984,
     "metadata": {},
     "output_type": "execute_result"
    }
   ],
   "source": [
    "dataset = list(zip(train_x,train_y))\n",
    "\n",
    "# taking a look at the first element of the dataset,\n",
    "# here, `y` represents the label of the image\n",
    "x,y = dataset[0] \n",
    "x.shape,y"
   ]
  },
  {
   "cell_type": "code",
   "execution_count": 985,
   "metadata": {},
   "outputs": [],
   "source": [
    "# now, let's put together our validation set\n",
    "valid_x = torch.cat([valid_3_tens, valid_7_tens]).view(-1, 28*28)\n",
    "valid_y = tensor([1]*len(valid_3_tens) + [0]*len(valid_7_tens)).unsqueeze(1)\n",
    "validation_set = list(zip(valid_x,valid_y))"
   ]
  },
  {
   "cell_type": "code",
   "execution_count": 986,
   "metadata": {},
   "outputs": [
    {
     "data": {
      "text/plain": [
       "tensor([[-0.0263],\n",
       "        [ 1.1391],\n",
       "        [ 1.5193],\n",
       "        [ 0.2975],\n",
       "        [-0.4530]], grad_fn=<SliceBackward0>)"
      ]
     },
     "execution_count": 986,
     "metadata": {},
     "output_type": "execute_result"
    }
   ],
   "source": [
    "# let's initialize our weights for every pixel with random values\n",
    "\n",
    "# this function returns a tensor of size `size` filled with random values from a normal distribution with a standard deviation of `std`\n",
    "def init_params(size, std=1.0): return (torch.randn(size)*std).requires_grad_()\n",
    "\n",
    "weights = init_params((28*28,1))\n",
    "# print a sample of our weights\n",
    "weights[:5]"
   ]
  },
  {
   "cell_type": "markdown",
   "metadata": {},
   "source": [
    "If the goal is to multiply each pixel of the images by a weight value, we should take into account the fact that some pixels will have a value of `0`.\n",
    "\n",
    "This means that the function `weights * pixels` won't be flexible enough for our purpose since it can sometimes result in a value of `0` even if the weight is not `0`. In that case the y-intercept for this weight would be 0 and that's not we want.\n",
    "\n",
    "Now, since the equation of a straight line is `y = wx + b`, we can add a constant `b` to our function to make it more flexible. This is called a _bias_.\n",
    "\n",
    "Together, the _weights_ and the _bias_ are called the _parameters_ of the model."
   ]
  },
  {
   "cell_type": "code",
   "execution_count": 987,
   "metadata": {},
   "outputs": [
    {
     "data": {
      "text/plain": [
       "tensor([0.1631], grad_fn=<AddBackward0>)"
      ]
     },
     "execution_count": 987,
     "metadata": {},
     "output_type": "execute_result"
    }
   ],
   "source": [
    "bias = init_params(1)\n",
    "\n",
    "# we are now able to calculate a prediction for an image,\n",
    "# this is a simple implementation of a linear regression model;\n",
    "# `weights.T` means \"taking the transpose of the weights tensor\",\n",
    "# this is done because we want to multiply the weights by the pixels of the image,\n",
    "# so we turn the `weights` matrix rows into columns and vice versa\n",
    "(train_x[0]*weights.T).sum() + bias"
   ]
  },
  {
   "cell_type": "markdown",
   "metadata": {},
   "source": [
    "While we could use a Python for loop to calculate the prediction for each image, that would be very slow. Because Python loops don't run on the GPU, and because Python is a slow language for loops in general, we need to represent as much of the computation in a model as possible using higher-level functions.\n",
    "\n",
    "In this case, there's an extremely convenient mathematical operation that calculates `w*x` for every row of a matrix: matrix multiplication.\n",
    "\n",
    "In Python, matrix multiplication is represented with the `@` operator. Let's try it:"
   ]
  },
  {
   "cell_type": "code",
   "execution_count": 988,
   "metadata": {},
   "outputs": [
    {
     "data": {
      "text/plain": [
       "torch.Size([784, 1])"
      ]
     },
     "execution_count": 988,
     "metadata": {},
     "output_type": "execute_result"
    }
   ],
   "source": [
    "weights.shape"
   ]
  },
  {
   "cell_type": "code",
   "execution_count": 989,
   "metadata": {},
   "outputs": [
    {
     "data": {
      "text/plain": [
       "torch.Size([12396, 784])"
      ]
     },
     "execution_count": 989,
     "metadata": {},
     "output_type": "execute_result"
    }
   ],
   "source": [
    "train_x.shape"
   ]
  },
  {
   "cell_type": "code",
   "execution_count": 990,
   "metadata": {},
   "outputs": [
    {
     "data": {
      "text/plain": [
       "tensor([[  0.1631],\n",
       "        [ 12.1977],\n",
       "        [ -0.9130],\n",
       "        ...,\n",
       "        [ -7.2611],\n",
       "        [-26.5065],\n",
       "        [-16.8774]], grad_fn=<AddBackward0>)"
      ]
     },
     "execution_count": 990,
     "metadata": {},
     "output_type": "execute_result"
    }
   ],
   "source": [
    "def multiply_data_by_params_model(independent_variables): return independent_variables@weights + bias\n",
    "preds = multiply_data_by_params_model(train_x)\n",
    "preds"
   ]
  },
  {
   "cell_type": "markdown",
   "metadata": {},
   "source": [
    "The equation `batch @ weights + bias` is a fundamental equation of any neural network."
   ]
  },
  {
   "cell_type": "markdown",
   "metadata": {},
   "source": [
    "## checking our model's accuracy\n",
    "\n",
    "Let's check our accuracy. To decide if an output represents a 3 or a 7, we can just check whether it's greater than 0.0, since a 3 is a one and a 7 is a 0, so our accuracy for each item can be calculated (using broadcasting, so no loops!) with:"
   ]
  },
  {
   "cell_type": "code",
   "execution_count": 991,
   "metadata": {},
   "outputs": [
    {
     "data": {
      "text/plain": [
       "tensor([[ True],\n",
       "        [ True],\n",
       "        [False],\n",
       "        ...,\n",
       "        [ True],\n",
       "        [ True],\n",
       "        [ True]])"
      ]
     },
     "execution_count": 991,
     "metadata": {},
     "output_type": "execute_result"
    }
   ],
   "source": [
    "\n",
    "corrects = (preds > 0.0).float() == train_y\n",
    "corrects"
   ]
  },
  {
   "cell_type": "code",
   "execution_count": 992,
   "metadata": {},
   "outputs": [
    {
     "data": {
      "text/plain": [
       "0.7566956877708435"
      ]
     },
     "execution_count": 992,
     "metadata": {},
     "output_type": "execute_result"
    }
   ],
   "source": [
    "# our accuracy would be ...\n",
    "corrects.float().mean().item()"
   ]
  },
  {
   "cell_type": "markdown",
   "metadata": {},
   "source": [
    "## Choosing a loss function\n",
    "\n",
    "As we've seen, we need gradients in order to improve our model using SGD, and in order to calculate gradients we need some loss function that represents how good our model is. That is because the gradients are a measure of how the loss function changes with small tweaks to the weights. So, we need to choose a loss function.\n",
    "\n",
    "A very small change of a weight won't influence the overall accuracy of the model, so we can exclude accuracy as our loss function.\n",
    "\n",
    "Instead, we need a loss function which, when our weights result in slightly better predictions, gives us a slightly better loss. So what does a \"slightly better prediction\" look like, exactly? Well, in this case, it means that if the correct answer is a 3 the score is a little higher, or if the correct answer is a 7 the score is a little lower.\n",
    "\n",
    "The loss function receives not the images themselves, but the predictions from the model. Let's make one argument, `prds`, of values between 0 and 1, where each value is the prediction that an image is a 3. It is a vector (i.e., a rank-1 tensor), indexed over the images.\n",
    "\n",
    "The purpose of the loss function is to measure the difference between predicted values and the true values — that is, the targets (aka labels). Let's make another argument, `trgts`, with values of 0 or 1 which tells whether an image actually is a 3 or not. It is also a vector (i.e., another rank-1 tensor), indexed over the images.\n",
    "\n",
    "Let's try this:"
   ]
  },
  {
   "cell_type": "code",
   "execution_count": 993,
   "metadata": {},
   "outputs": [],
   "source": [
    "# measure how distant each prediction is from 1 if it should be 1, \n",
    "# and how distant it is from 0 if it should be 0, \n",
    "# and then take the mean of all those distances\n",
    "def mnist_loss(predictions, targets):\n",
    "    return torch.where(targets==1, 1-predictions, predictions).mean()"
   ]
  },
  {
   "cell_type": "markdown",
   "metadata": {},
   "source": [
    "The function above will return a lower number when:\n",
    "\n",
    "- predictions are more accurate\n",
    "- accurate predictions are more confident\n",
    "- inaccurate predictions are less confident\n",
    "\n",
    "One problem with `mnist_loss` as currently defined is that it assumes that predictions are always between 0 and 1. We need to ensure, then, that this is actually the case! As it happens, there is a function that does exactly that: the _sigmoid_ function.\n",
    "\n",
    "This function always returns a value between 0 and 1. It is important in Deep Learning, as we deal with a lot of normalized data. It takes any input value, positive or negative, and smooshes it onto an output value between 0 and 1. It's also a smooth curve that only goes up, which makes it easier for SGD to find meaningful gradients."
   ]
  },
  {
   "cell_type": "code",
   "execution_count": 994,
   "metadata": {},
   "outputs": [
    {
     "data": {
      "image/png": "[encoded data removed]",
      "text/plain": [
       "<Figure size 600x400 with 1 Axes>"
      ]
     },
     "metadata": {},
     "output_type": "display_data"
    }
   ],
   "source": [
    "# plotting the sigmoid function\n",
    "plot_function(torch.sigmoid, title='Sigmoid', min=-4, max=4)"
   ]
  },
  {
   "cell_type": "code",
   "execution_count": 995,
   "metadata": {},
   "outputs": [],
   "source": [
    "# let's update the `mnist_loss` function to use the sigmoid function\n",
    "def mnist_loss(predictions, targets):\n",
    "    predictions = predictions.sigmoid()\n",
    "    return torch.where(targets==1, 1-predictions, predictions).mean()"
   ]
  },
  {
   "cell_type": "markdown",
   "metadata": {},
   "source": [
    "## Putting our linear modal together"
   ]
  },
  {
   "cell_type": "code",
   "execution_count": 996,
   "metadata": {},
   "outputs": [
    {
     "data": {
      "text/plain": [
       "(torch.Size([256, 784]), torch.Size([256, 1]))"
      ]
     },
     "execution_count": 996,
     "metadata": {},
     "output_type": "execute_result"
    }
   ],
   "source": [
    "# initialize our parameters\n",
    "weights = init_params((28*28,1))\n",
    "bias = init_params(1)\n",
    "\n",
    "# creating a data loader that will return batches of a given size shuffled for every epoch\n",
    "training_data_loader = DataLoader(dataset, batch_size=256)\n",
    "x,y = first(training_data_loader)\n",
    "x.shape,y.shape"
   ]
  },
  {
   "cell_type": "code",
   "execution_count": 997,
   "metadata": {},
   "outputs": [],
   "source": [
    "# creating a data loader for the validation set\n",
    "validation_data_loader = DataLoader(validation_set, batch_size=256)"
   ]
  },
  {
   "cell_type": "code",
   "execution_count": 998,
   "metadata": {},
   "outputs": [],
   "source": [
    "# let's define a few functions that will help us calculate the gradients and update the weights and biases\n",
    "\n",
    "# let's also write a function that calculates accuracy for each batch\n",
    "def batch_accuracy(independent_variables, dependent_variables):\n",
    "    preds = independent_variables.sigmoid()\n",
    "    correct = (preds > 0.5) == dependent_variables\n",
    "    return correct.float().mean()\n",
    "\n",
    "# let's put this logic into a function:\n",
    "#  - making predictions\n",
    "#  - calculating the loss\n",
    "#  - calculating the gradients\n",
    "def calc_grad(independent_variables, dependent_variables, model):\n",
    "    preds = model(independent_variables)\n",
    "    loss = mnist_loss(preds, dependent_variables)\n",
    "    # The `backward` function actually adds the gradients of `loss` to any gradients that are currently stored.\n",
    "    loss.backward()\n",
    "\n",
    "# we need to update the weights and biases based on the gradient and learning rate\n",
    "def train_epoch(model, lr, params):\n",
    "    for independent_variables, dependent_variables in training_data_loader:\n",
    "        calc_grad(independent_variables, dependent_variables, model)\n",
    "        for p in params:\n",
    "            p.data -= p.grad*lr\n",
    "            # we have to tell `PyTorch` to not store the gradients for this step,\n",
    "            # otherwise they would accumulate and things could get very confusing\n",
    "            p.grad.zero_()\n",
    "\n",
    "# let's write a validation function,\n",
    "# this function `validate_epoch` takes a PyTorch model as input and evaluates its accuracy on a validation dataset.\n",
    "# It does so by iterating over batches of data in the validation dataloader, \n",
    "# passing each batch through the model to get the predicted outputs, \n",
    "# and comparing those predictions to the true labels (`dependent_variables`) to calculate the accuracy of each batch. \n",
    "# The function then returns the average accuracy across all batches, rounded to 4 decimal places.\n",
    "def validate_epoch(model):\n",
    "    accs = [batch_accuracy(model(independent_variables), dependent_variables) for independent_variables, dependent_variables in validation_data_loader]\n",
    "    return round(torch.stack(accs).mean().item(), 4)"
   ]
  },
  {
   "cell_type": "code",
   "execution_count": 999,
   "metadata": {},
   "outputs": [
    {
     "data": {
      "text/plain": [
       "0.7245"
      ]
     },
     "execution_count": 999,
     "metadata": {},
     "output_type": "execute_result"
    }
   ],
   "source": [
    "# let's run a first iteration of our model\n",
    "lr = 1.\n",
    "params = weights, bias\n",
    "train_epoch(multiply_data_by_params_model, lr, params)\n",
    "validate_epoch(multiply_data_by_params_model)"
   ]
  },
  {
   "cell_type": "code",
   "execution_count": 1000,
   "metadata": {},
   "outputs": [
    {
     "name": "stdout",
     "output_type": "stream",
     "text": [
      "0.8368 0.9007 0.9261 0.9412 0.9491 0.954 0.9564 0.9599 0.9633 0.9647 "
     ]
    }
   ],
   "source": [
    "# then let's do a few more validations\n",
    "for i in range(10):\n",
    "    train_epoch(multiply_data_by_params_model, lr, params)\n",
    "    print(validate_epoch(multiply_data_by_params_model), end=' ')"
   ]
  },
  {
   "cell_type": "markdown",
   "metadata": {},
   "source": [
    "... this is pretty promising !\n",
    "\n",
    "Now let's create an object that will handle the SGD steps for us. In `PyTorch`, it's called an _optimizer_.\n",
    "\n",
    "There is a module in `PyTorch` called `nn.Linear`: it does the same things as `init_params` and `multiply_data_by_params_model` together.\n",
    "\n",
    "It will contain both the weights and the biases of our model in a single class."
   ]
  },
  {
   "cell_type": "code",
   "execution_count": 1001,
   "metadata": {},
   "outputs": [
    {
     "data": {
      "text/plain": [
       "(torch.Size([1, 784]), torch.Size([1]))"
      ]
     },
     "execution_count": 1001,
     "metadata": {},
     "output_type": "execute_result"
    }
   ],
   "source": [
    "linear_model = nn.Linear(28*28,1)\n",
    "\n",
    "weights, biases = linear_model.parameters()\n",
    "weights.shape, biases.shape"
   ]
  },
  {
   "cell_type": "code",
   "execution_count": 1002,
   "metadata": {},
   "outputs": [],
   "source": [
    "# let's use that to create our basic optimizer\n",
    "class BasicOptim:\n",
    "    def __init__(self,params,lr): self.params,self.lr = list(params),lr\n",
    "\n",
    "    def step(self, *args, **kwargs):\n",
    "        for p in self.params: p.data -= p.grad.data * self.lr\n",
    "\n",
    "    def zero_grad(self, *args, **kwargs):\n",
    "        for p in self.params: p.grad = None\n",
    "\n",
    "# let's make an instance of it using our model's parameters\n",
    "opt = BasicOptim(linear_model.parameters(), lr)   \n",
    "\n",
    "# this simplifies our training loop to:\n",
    "def train_epoch(model):\n",
    "    for independent_variables, dependent_variables in training_data_loader:\n",
    "        calc_grad(independent_variables, dependent_variables, model)\n",
    "        opt.step()\n",
    "        opt.zero_grad()\n",
    "\n",
    "# we can now write a function that trains our model:\n",
    "def train_model(model, epochs):\n",
    "    for i in range(epochs):\n",
    "        train_epoch(model)\n",
    "        print(validate_epoch(model), end=' ')"
   ]
  },
  {
   "cell_type": "code",
   "execution_count": 1003,
   "metadata": {},
   "outputs": [
    {
     "name": "stdout",
     "output_type": "stream",
     "text": [
      "0.4932 0.8271 0.8471 0.9145 0.9336 0.9482 0.957 0.9629 0.9663 0.9678 0.9697 0.9717 0.9736 0.9751 0.9761 0.9765 0.9775 0.978 0.9785 0.979 "
     ]
    }
   ],
   "source": [
    "# let's try it out\n",
    "train_model(linear_model, 20)"
   ]
  },
  {
   "cell_type": "markdown",
   "metadata": {},
   "source": [
    "What we have just did with `BasicOptim` is implemented in `fastai` with the `SGD` class."
   ]
  },
  {
   "cell_type": "code",
   "execution_count": 1004,
   "metadata": {},
   "outputs": [
    {
     "name": "stdout",
     "output_type": "stream",
     "text": [
      "0.4932 0.8623 0.8242 0.9111 0.9321 0.9463 0.9551 0.9614 0.9653 0.9668 0.9692 0.9707 0.9731 0.9751 0.9761 0.977 0.9775 0.978 0.9785 0.9785 "
     ]
    }
   ],
   "source": [
    "linear_model = nn.Linear(28*28,1)\n",
    "opt = SGD(linear_model.parameters(), lr)\n",
    "train_model(linear_model, 20)"
   ]
  },
  {
   "cell_type": "markdown",
   "metadata": {},
   "source": [
    "Also, the implementation of our `train_model` function in `fastai` is called `Learner.fit`"
   ]
  },
  {
   "cell_type": "code",
   "execution_count": 1005,
   "metadata": {},
   "outputs": [],
   "source": [
    "dls = DataLoaders(training_data_loader, validation_data_loader)"
   ]
  },
  {
   "cell_type": "markdown",
   "metadata": {},
   "source": [
    "We are about to create a `Learner` without using an application such as `vision_learner`. For this, we need to pass in all the elements that we've created: \n",
    "\n",
    "- any metrics we want to use (accuracy in this case)\n",
    "- the data loaders\n",
    "- the loss function\n",
    "- the model\n",
    "- the optimization function, which will be passed the parameters"
   ]
  },
  {
   "cell_type": "code",
   "execution_count": 1006,
   "metadata": {},
   "outputs": [
    {
     "data": {
      "text/html": [
       "\n",
       "<style>\n",
       "    /* Turns off some styling */\n",
       "    progress {\n",
       "        /* gets rid of default border in Firefox and Opera. */\n",
       "        border: none;\n",
       "        /* Needs to be in here for Safari polyfill so background images work as expected. */\n",
       "        background-size: auto;\n",
       "    }\n",
       "    progress:not([value]), progress:not([value])::-webkit-progress-bar {\n",
       "        background: repeating-linear-gradient(45deg, #7e7e7e, #7e7e7e 10px, #5c5c5c 10px, #5c5c5c 20px);\n",
       "    }\n",
       "    .progress-bar-interrupted, .progress-bar-interrupted::-webkit-progress-bar {\n",
       "        background: #F44336;\n",
       "    }\n",
       "</style>\n"
      ],
      "text/plain": [
       "<IPython.core.display.HTML object>"
      ]
     },
     "metadata": {},
     "output_type": "display_data"
    },
    {
     "data": {
      "text/html": [
       "<table border=\"1\" class=\"dataframe\">\n",
       "  <thead>\n",
       "    <tr style=\"text-align: left;\">\n",
       "      <th>epoch</th>\n",
       "      <th>train_loss</th>\n",
       "      <th>valid_loss</th>\n",
       "      <th>batch_accuracy</th>\n",
       "      <th>time</th>\n",
       "    </tr>\n",
       "  </thead>\n",
       "  <tbody>\n",
       "    <tr>\n",
       "      <td>0</td>\n",
       "      <td>0.637221</td>\n",
       "      <td>0.503673</td>\n",
       "      <td>0.495584</td>\n",
       "      <td>00:00</td>\n",
       "    </tr>\n",
       "    <tr>\n",
       "      <td>1</td>\n",
       "      <td>0.616708</td>\n",
       "      <td>0.166231</td>\n",
       "      <td>0.868989</td>\n",
       "      <td>00:00</td>\n",
       "    </tr>\n",
       "    <tr>\n",
       "      <td>2</td>\n",
       "      <td>0.223575</td>\n",
       "      <td>0.189561</td>\n",
       "      <td>0.827772</td>\n",
       "      <td>00:00</td>\n",
       "    </tr>\n",
       "    <tr>\n",
       "      <td>3</td>\n",
       "      <td>0.095802</td>\n",
       "      <td>0.108308</td>\n",
       "      <td>0.910697</td>\n",
       "      <td>00:00</td>\n",
       "    </tr>\n",
       "    <tr>\n",
       "      <td>4</td>\n",
       "      <td>0.048847</td>\n",
       "      <td>0.078477</td>\n",
       "      <td>0.933268</td>\n",
       "      <td>00:00</td>\n",
       "    </tr>\n",
       "    <tr>\n",
       "      <td>5</td>\n",
       "      <td>0.030643</td>\n",
       "      <td>0.062695</td>\n",
       "      <td>0.946025</td>\n",
       "      <td>00:00</td>\n",
       "    </tr>\n",
       "    <tr>\n",
       "      <td>6</td>\n",
       "      <td>0.023254</td>\n",
       "      <td>0.052946</td>\n",
       "      <td>0.956330</td>\n",
       "      <td>00:00</td>\n",
       "    </tr>\n",
       "    <tr>\n",
       "      <td>7</td>\n",
       "      <td>0.020040</td>\n",
       "      <td>0.046478</td>\n",
       "      <td>0.961727</td>\n",
       "      <td>00:00</td>\n",
       "    </tr>\n",
       "    <tr>\n",
       "      <td>8</td>\n",
       "      <td>0.018464</td>\n",
       "      <td>0.041939</td>\n",
       "      <td>0.965653</td>\n",
       "      <td>00:00</td>\n",
       "    </tr>\n",
       "    <tr>\n",
       "      <td>9</td>\n",
       "      <td>0.017551</td>\n",
       "      <td>0.038596</td>\n",
       "      <td>0.967615</td>\n",
       "      <td>00:00</td>\n",
       "    </tr>\n",
       "  </tbody>\n",
       "</table>"
      ],
      "text/plain": [
       "<IPython.core.display.HTML object>"
      ]
     },
     "metadata": {},
     "output_type": "display_data"
    }
   ],
   "source": [
    "learner = Learner(dls, nn.Linear(28*28,1), opt_func=SGD, loss_func=mnist_loss, metrics=batch_accuracy)\n",
    "\n",
    "# now we can call `fit` to train our model across multiple epochs\n",
    "learner.fit(10, lr=lr)"
   ]
  },
  {
   "cell_type": "markdown",
   "metadata": {},
   "source": [
    "## Adding non-linearity to our model\n",
    "\n",
    "Adding nonlinearity to a deep learning model is a fundamental concept that enables the model to learn from the data in a way that is more complex than a mere linear relationship.\n",
    "\n",
    "In a linear relationship, the output is directly proportional to the input. In our case, we iteratively adjust the parameters (weights and biases) to find the minimum of the loss function. At each step, we used a randomly selected batch of data points to compute the gradients of the loss function and update the parameters.\n",
    "\n",
    "Nonlinear relationships are more complex; the output does not change in a direct proportion to the input.\n",
    "\n",
    "In the context of deep learning, we often want our models to learn from the data in a way that captures these more complex, nonlinear relationships. This is where the concept of adding nonlinearity comes in.\n",
    "\n",
    "This is typically done by introducing nonlinear activation functions in the model. Activation functions are mathematical equations that determine the output of a neural network layer.\n",
    "\n",
    "Examples of famous activation functions, that can add non-linearity to a model, are:\n",
    "\n",
    "- _sigmoid_ function, that we have seen earlier\n",
    "- _ReLU_ function, which is defined as `max(0,x)`\n",
    "\n",
    "Nonlinear activation functions allow each layer in the network to transform the data in a nonlinear way, enabling the model to learn from the error and make adjustments to the layer’s weights during back-propagation, thus allowing the learning of complex patterns.\n",
    "\n",
    "Let's relate this to a simple scenario. Imagine you are trying to predict the price of houses. If you only consider the size of the house (square feet), you might have a linear relationship. However, house prices are affected by many factors in complex ways, such as location, age, condition, etc. By introducing nonlinearity to your model, you are enabling it to capture these complex relationships and make better predictions.\n",
    "\n",
    "Knowing this, we can now add non-linearity to our model. Let's try to write a very basic neural network:\n"
   ]
  },
  {
   "cell_type": "code",
   "execution_count": 1007,
   "metadata": {},
   "outputs": [],
   "source": [
    "# an illustration of the universal approximation theorem\n",
    "def simple_net(independent_variables): \n",
    "    res = independent_variables@w1 + b1\n",
    "    # here we have our relu activation function\n",
    "    res = res.max(tensor(0.0))\n",
    "    res = res@w2 + b2\n",
    "    return res\n",
    "\n",
    "# let's use this\n",
    "# here `w1` is the weights matrix connecting the input layer to a layer of 30 neurons (the hidden layer)\n",
    "w1 = init_params((28*28,30))\n",
    "b1 = init_params(30)\n",
    "# here `w2` is the weights matrix connecting the hidden layer to the output layer, which has a single neuron (since we're just trying to predict one number, 3 or 7)\n",
    "w2 = init_params((30,1))\n",
    "b2 = init_params(1)"
   ]
  },
  {
   "cell_type": "markdown",
   "metadata": {},
   "source": [
    "In the above example, the first hidden layer can construct 30 different features, each representing some different mix of pixels. Changing the value `30` will result in a more or less complex model."
   ]
  },
  {
   "cell_type": "code",
   "execution_count": 1008,
   "metadata": {},
   "outputs": [
    {
     "data": {
      "text/html": [
       "\n",
       "<style>\n",
       "    /* Turns off some styling */\n",
       "    progress {\n",
       "        /* gets rid of default border in Firefox and Opera. */\n",
       "        border: none;\n",
       "        /* Needs to be in here for Safari polyfill so background images work as expected. */\n",
       "        background-size: auto;\n",
       "    }\n",
       "    progress:not([value]), progress:not([value])::-webkit-progress-bar {\n",
       "        background: repeating-linear-gradient(45deg, #7e7e7e, #7e7e7e 10px, #5c5c5c 10px, #5c5c5c 20px);\n",
       "    }\n",
       "    .progress-bar-interrupted, .progress-bar-interrupted::-webkit-progress-bar {\n",
       "        background: #F44336;\n",
       "    }\n",
       "</style>\n"
      ],
      "text/plain": [
       "<IPython.core.display.HTML object>"
      ]
     },
     "metadata": {},
     "output_type": "display_data"
    },
    {
     "data": {
      "text/html": [
       "<table border=\"1\" class=\"dataframe\">\n",
       "  <thead>\n",
       "    <tr style=\"text-align: left;\">\n",
       "      <th>epoch</th>\n",
       "      <th>train_loss</th>\n",
       "      <th>valid_loss</th>\n",
       "      <th>batch_accuracy</th>\n",
       "      <th>time</th>\n",
       "    </tr>\n",
       "  </thead>\n",
       "  <tbody>\n",
       "    <tr>\n",
       "      <td>0</td>\n",
       "      <td>0.332959</td>\n",
       "      <td>0.407867</td>\n",
       "      <td>0.506869</td>\n",
       "      <td>00:00</td>\n",
       "    </tr>\n",
       "    <tr>\n",
       "      <td>1</td>\n",
       "      <td>0.153500</td>\n",
       "      <td>0.233010</td>\n",
       "      <td>0.800294</td>\n",
       "      <td>00:00</td>\n",
       "    </tr>\n",
       "    <tr>\n",
       "      <td>2</td>\n",
       "      <td>0.084168</td>\n",
       "      <td>0.117087</td>\n",
       "      <td>0.914132</td>\n",
       "      <td>00:00</td>\n",
       "    </tr>\n",
       "    <tr>\n",
       "      <td>3</td>\n",
       "      <td>0.054755</td>\n",
       "      <td>0.078707</td>\n",
       "      <td>0.940137</td>\n",
       "      <td>00:00</td>\n",
       "    </tr>\n",
       "    <tr>\n",
       "      <td>4</td>\n",
       "      <td>0.041174</td>\n",
       "      <td>0.061201</td>\n",
       "      <td>0.955839</td>\n",
       "      <td>00:00</td>\n",
       "    </tr>\n",
       "    <tr>\n",
       "      <td>5</td>\n",
       "      <td>0.034274</td>\n",
       "      <td>0.051393</td>\n",
       "      <td>0.963199</td>\n",
       "      <td>00:00</td>\n",
       "    </tr>\n",
       "    <tr>\n",
       "      <td>6</td>\n",
       "      <td>0.030345</td>\n",
       "      <td>0.045231</td>\n",
       "      <td>0.966143</td>\n",
       "      <td>00:00</td>\n",
       "    </tr>\n",
       "    <tr>\n",
       "      <td>7</td>\n",
       "      <td>0.027816</td>\n",
       "      <td>0.041034</td>\n",
       "      <td>0.968106</td>\n",
       "      <td>00:00</td>\n",
       "    </tr>\n",
       "    <tr>\n",
       "      <td>8</td>\n",
       "      <td>0.026008</td>\n",
       "      <td>0.037987</td>\n",
       "      <td>0.968597</td>\n",
       "      <td>00:00</td>\n",
       "    </tr>\n",
       "    <tr>\n",
       "      <td>9</td>\n",
       "      <td>0.024614</td>\n",
       "      <td>0.035667</td>\n",
       "      <td>0.970069</td>\n",
       "      <td>00:00</td>\n",
       "    </tr>\n",
       "    <tr>\n",
       "      <td>10</td>\n",
       "      <td>0.023487</td>\n",
       "      <td>0.033832</td>\n",
       "      <td>0.972031</td>\n",
       "      <td>00:00</td>\n",
       "    </tr>\n",
       "    <tr>\n",
       "      <td>11</td>\n",
       "      <td>0.022547</td>\n",
       "      <td>0.032334</td>\n",
       "      <td>0.973994</td>\n",
       "      <td>00:00</td>\n",
       "    </tr>\n",
       "    <tr>\n",
       "      <td>12</td>\n",
       "      <td>0.021749</td>\n",
       "      <td>0.031077</td>\n",
       "      <td>0.973994</td>\n",
       "      <td>00:00</td>\n",
       "    </tr>\n",
       "    <tr>\n",
       "      <td>13</td>\n",
       "      <td>0.021058</td>\n",
       "      <td>0.030002</td>\n",
       "      <td>0.974485</td>\n",
       "      <td>00:00</td>\n",
       "    </tr>\n",
       "    <tr>\n",
       "      <td>14</td>\n",
       "      <td>0.020453</td>\n",
       "      <td>0.029067</td>\n",
       "      <td>0.975466</td>\n",
       "      <td>00:00</td>\n",
       "    </tr>\n",
       "    <tr>\n",
       "      <td>15</td>\n",
       "      <td>0.019918</td>\n",
       "      <td>0.028246</td>\n",
       "      <td>0.975957</td>\n",
       "      <td>00:00</td>\n",
       "    </tr>\n",
       "    <tr>\n",
       "      <td>16</td>\n",
       "      <td>0.019440</td>\n",
       "      <td>0.027516</td>\n",
       "      <td>0.976448</td>\n",
       "      <td>00:00</td>\n",
       "    </tr>\n",
       "    <tr>\n",
       "      <td>17</td>\n",
       "      <td>0.019010</td>\n",
       "      <td>0.026863</td>\n",
       "      <td>0.977920</td>\n",
       "      <td>00:00</td>\n",
       "    </tr>\n",
       "    <tr>\n",
       "      <td>18</td>\n",
       "      <td>0.018619</td>\n",
       "      <td>0.026276</td>\n",
       "      <td>0.978410</td>\n",
       "      <td>00:00</td>\n",
       "    </tr>\n",
       "    <tr>\n",
       "      <td>19</td>\n",
       "      <td>0.018263</td>\n",
       "      <td>0.025743</td>\n",
       "      <td>0.978901</td>\n",
       "      <td>00:00</td>\n",
       "    </tr>\n",
       "    <tr>\n",
       "      <td>20</td>\n",
       "      <td>0.017935</td>\n",
       "      <td>0.025258</td>\n",
       "      <td>0.978901</td>\n",
       "      <td>00:00</td>\n",
       "    </tr>\n",
       "    <tr>\n",
       "      <td>21</td>\n",
       "      <td>0.017632</td>\n",
       "      <td>0.024815</td>\n",
       "      <td>0.979882</td>\n",
       "      <td>00:00</td>\n",
       "    </tr>\n",
       "    <tr>\n",
       "      <td>22</td>\n",
       "      <td>0.017351</td>\n",
       "      <td>0.024408</td>\n",
       "      <td>0.979882</td>\n",
       "      <td>00:00</td>\n",
       "    </tr>\n",
       "    <tr>\n",
       "      <td>23</td>\n",
       "      <td>0.017089</td>\n",
       "      <td>0.024033</td>\n",
       "      <td>0.980373</td>\n",
       "      <td>00:00</td>\n",
       "    </tr>\n",
       "    <tr>\n",
       "      <td>24</td>\n",
       "      <td>0.016844</td>\n",
       "      <td>0.023687</td>\n",
       "      <td>0.980373</td>\n",
       "      <td>00:00</td>\n",
       "    </tr>\n",
       "    <tr>\n",
       "      <td>25</td>\n",
       "      <td>0.016614</td>\n",
       "      <td>0.023366</td>\n",
       "      <td>0.980864</td>\n",
       "      <td>00:00</td>\n",
       "    </tr>\n",
       "    <tr>\n",
       "      <td>26</td>\n",
       "      <td>0.016397</td>\n",
       "      <td>0.023070</td>\n",
       "      <td>0.981354</td>\n",
       "      <td>00:00</td>\n",
       "    </tr>\n",
       "    <tr>\n",
       "      <td>27</td>\n",
       "      <td>0.016191</td>\n",
       "      <td>0.022794</td>\n",
       "      <td>0.981354</td>\n",
       "      <td>00:00</td>\n",
       "    </tr>\n",
       "    <tr>\n",
       "      <td>28</td>\n",
       "      <td>0.015997</td>\n",
       "      <td>0.022538</td>\n",
       "      <td>0.981354</td>\n",
       "      <td>00:00</td>\n",
       "    </tr>\n",
       "    <tr>\n",
       "      <td>29</td>\n",
       "      <td>0.015812</td>\n",
       "      <td>0.022298</td>\n",
       "      <td>0.981354</td>\n",
       "      <td>00:00</td>\n",
       "    </tr>\n",
       "    <tr>\n",
       "      <td>30</td>\n",
       "      <td>0.015636</td>\n",
       "      <td>0.022075</td>\n",
       "      <td>0.982336</td>\n",
       "      <td>00:00</td>\n",
       "    </tr>\n",
       "    <tr>\n",
       "      <td>31</td>\n",
       "      <td>0.015468</td>\n",
       "      <td>0.021866</td>\n",
       "      <td>0.982336</td>\n",
       "      <td>00:00</td>\n",
       "    </tr>\n",
       "    <tr>\n",
       "      <td>32</td>\n",
       "      <td>0.015308</td>\n",
       "      <td>0.021670</td>\n",
       "      <td>0.982336</td>\n",
       "      <td>00:00</td>\n",
       "    </tr>\n",
       "    <tr>\n",
       "      <td>33</td>\n",
       "      <td>0.015155</td>\n",
       "      <td>0.021486</td>\n",
       "      <td>0.981845</td>\n",
       "      <td>00:00</td>\n",
       "    </tr>\n",
       "    <tr>\n",
       "      <td>34</td>\n",
       "      <td>0.015008</td>\n",
       "      <td>0.021313</td>\n",
       "      <td>0.981845</td>\n",
       "      <td>00:00</td>\n",
       "    </tr>\n",
       "    <tr>\n",
       "      <td>35</td>\n",
       "      <td>0.014867</td>\n",
       "      <td>0.021150</td>\n",
       "      <td>0.981845</td>\n",
       "      <td>00:00</td>\n",
       "    </tr>\n",
       "    <tr>\n",
       "      <td>36</td>\n",
       "      <td>0.014731</td>\n",
       "      <td>0.020996</td>\n",
       "      <td>0.981845</td>\n",
       "      <td>00:00</td>\n",
       "    </tr>\n",
       "    <tr>\n",
       "      <td>37</td>\n",
       "      <td>0.014601</td>\n",
       "      <td>0.020850</td>\n",
       "      <td>0.982336</td>\n",
       "      <td>00:00</td>\n",
       "    </tr>\n",
       "    <tr>\n",
       "      <td>38</td>\n",
       "      <td>0.014475</td>\n",
       "      <td>0.020712</td>\n",
       "      <td>0.982336</td>\n",
       "      <td>00:00</td>\n",
       "    </tr>\n",
       "    <tr>\n",
       "      <td>39</td>\n",
       "      <td>0.014354</td>\n",
       "      <td>0.020580</td>\n",
       "      <td>0.982826</td>\n",
       "      <td>00:00</td>\n",
       "    </tr>\n",
       "  </tbody>\n",
       "</table>"
      ],
      "text/plain": [
       "<IPython.core.display.HTML object>"
      ]
     },
     "metadata": {},
     "output_type": "display_data"
    }
   ],
   "source": [
    "# `PyTorch` version of our simple neural network\n",
    "simple_net = nn.Sequential(\n",
    "    nn.Linear(28*28,30),\n",
    "    nn.ReLU(),\n",
    "    nn.Linear(30,1)\n",
    ")\n",
    "\n",
    "\n",
    "learn = Learner(dls, simple_net, opt_func=SGD,\n",
    "    loss_func=mnist_loss, metrics=batch_accuracy)\n",
    "\n",
    "learn.fit(40, 0.1)"
   ]
  },
  {
   "cell_type": "code",
   "execution_count": 1009,
   "metadata": {},
   "outputs": [
    {
     "data": {
      "image/png": "[encoded data removed]",
      "text/plain": [
       "<Figure size 640x480 with 1 Axes>"
      ]
     },
     "metadata": {},
     "output_type": "display_data"
    }
   ],
   "source": [
    "# plotting the accuracy training, the x-axis is the epoch number and the y-axis is the accuracy\n",
    "plt.plot(L(learn.recorder.values).itemgot(2))"
   ]
  },
  {
   "cell_type": "code",
   "execution_count": 1011,
   "metadata": {},
   "outputs": [
    {
     "name": "stderr",
     "output_type": "stream",
     "text": [
      "/usr/local/lib/python3.10/dist-packages/fastai/data/transforms.py:225: FutureWarning: is_categorical_dtype is deprecated and will be removed in a future version. Use isinstance(dtype, CategoricalDtype) instead\n",
      "  if is_categorical_dtype(col):\n",
      "/usr/local/lib/python3.10/dist-packages/torchvision/models/_utils.py:208: UserWarning: The parameter 'pretrained' is deprecated since 0.13 and may be removed in the future, please use 'weights' instead.\n",
      "  warnings.warn(\n",
      "/usr/local/lib/python3.10/dist-packages/torchvision/models/_utils.py:223: UserWarning: Arguments other than a weight enum or `None` for 'weights' are deprecated since 0.13 and may be removed in the future. The current behavior is equivalent to passing `weights=None`.\n",
      "  warnings.warn(msg)\n"
     ]
    },
    {
     "data": {
      "text/html": [
       "\n",
       "<style>\n",
       "    /* Turns off some styling */\n",
       "    progress {\n",
       "        /* gets rid of default border in Firefox and Opera. */\n",
       "        border: none;\n",
       "        /* Needs to be in here for Safari polyfill so background images work as expected. */\n",
       "        background-size: auto;\n",
       "    }\n",
       "    progress:not([value]), progress:not([value])::-webkit-progress-bar {\n",
       "        background: repeating-linear-gradient(45deg, #7e7e7e, #7e7e7e 10px, #5c5c5c 10px, #5c5c5c 20px);\n",
       "    }\n",
       "    .progress-bar-interrupted, .progress-bar-interrupted::-webkit-progress-bar {\n",
       "        background: #F44336;\n",
       "    }\n",
       "</style>\n"
      ],
      "text/plain": [
       "<IPython.core.display.HTML object>"
      ]
     },
     "metadata": {},
     "output_type": "display_data"
    },
    {
     "data": {
      "text/html": [
       "<table border=\"1\" class=\"dataframe\">\n",
       "  <thead>\n",
       "    <tr style=\"text-align: left;\">\n",
       "      <th>epoch</th>\n",
       "      <th>train_loss</th>\n",
       "      <th>valid_loss</th>\n",
       "      <th>accuracy</th>\n",
       "      <th>time</th>\n",
       "    </tr>\n",
       "  </thead>\n",
       "  <tbody>\n",
       "    <tr>\n",
       "      <td>0</td>\n",
       "      <td>0.080864</td>\n",
       "      <td>0.011374</td>\n",
       "      <td>0.996565</td>\n",
       "      <td>00:09</td>\n",
       "    </tr>\n",
       "  </tbody>\n",
       "</table>"
      ],
      "text/plain": [
       "<IPython.core.display.HTML object>"
      ]
     },
     "metadata": {},
     "output_type": "display_data"
    }
   ],
   "source": [
    "# let's try more layers with a pre trained model\n",
    "dls = ImageDataLoaders.from_folder(path)\n",
    "learn = vision_learner(dls, resnet18, pretrained=False,\n",
    "    loss_func=F.cross_entropy, metrics=accuracy)\n",
    "learn.fit_one_cycle(1, 0.1)"
   ]
  },
  {
   "cell_type": "markdown",
   "metadata": {},
   "source": [
    "See what we can do with fewer epochs and more layers ? That's impressive !"
   ]
  }
 ],
 "metadata": {
  "kernelspec": {
   "display_name": "Python 3",
   "language": "python",
   "name": "python3"
  },
  "language_info": {
   "codemirror_mode": {
    "name": "ipython",
    "version": 3
   },
   "file_extension": ".py",
   "mimetype": "text/x-python",
   "name": "python",
   "nbconvert_exporter": "python",
   "pygments_lexer": "ipython3",
   "version": "3.10.12"
  },
  "orig_nbformat": 4
 },
 "nbformat": 4,
 "nbformat_minor": 2
}
