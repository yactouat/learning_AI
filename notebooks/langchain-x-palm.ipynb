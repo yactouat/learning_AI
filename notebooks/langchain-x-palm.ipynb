{
 "cells": [
  {
   "cell_type": "markdown",
   "metadata": {},
   "source": [
    "# Langchain X PaLM\n",
    "\n",
    "This notebook contains some test-drive code of LangChain + PaLM on Vertex AI.\n",
    "\n",
    "It mainly consists of trying the building blocks of LangChain using the Vertex AI platform."
   ]
  },
  {
   "cell_type": "markdown",
   "metadata": {},
   "source": [
    "## Setting things up"
   ]
  },
  {
   "cell_type": "code",
   "execution_count": 268,
   "metadata": {},
   "outputs": [
    {
     "data": {
      "text/plain": [
       "True"
      ]
     },
     "execution_count": 268,
     "metadata": {},
     "output_type": "execute_result"
    }
   ],
   "source": [
    "from dotenv import load_dotenv\n",
    "from google.cloud import aiplatform\n",
    "import langchain\n",
    "from langchain import PromptTemplate\n",
    "from langchain.chains import ConversationChain, RetrievalQA\n",
    "from langchain.chains.summarize import load_summarize_chain\n",
    "from langchain.chat_models import ChatVertexAI\n",
    "from langchain_core.runnables import RunnablePassthrough\n",
    "from langchain.document_loaders import WebBaseLoader\n",
    "from langchain.embeddings import VertexAIEmbeddings\n",
    "from langchain.llms import VertexAI\n",
    "from langchain.memory import ConversationBufferMemory\n",
    "from langchain.output_parsers import ResponseSchema, StructuredOutputParser\n",
    "from langchain.prompts import FewShotPromptTemplate, PromptTemplate\n",
    "from langchain.prompts.example_selector import SemanticSimilarityExampleSelector\n",
    "from langchain.schema import AIMessage, HumanMessage, StrOutputParser, SystemMessage\n",
    "from langchain.text_splitter import RecursiveCharacterTextSplitter\n",
    "from langchain.vectorstores import FAISS # Facebook AI similarity search running locally\n",
    "import numpy as np\n",
    "import os\n",
    "import time\n",
    "# supporting type hints\n",
    "from typing import List\n",
    "import vertexai\n",
    "\n",
    "load_dotenv()"
   ]
  },
  {
   "cell_type": "code",
   "execution_count": 222,
   "metadata": {},
   "outputs": [
    {
     "name": "stdout",
     "output_type": "stream",
     "text": [
      "Vertex AI SDK version: 1.38.0\n",
      "LangChain version: 0.0.346\n"
     ]
    }
   ],
   "source": [
    "# `GCP_LOCATION` is for instance `europe-west1`\n",
    "vertexai.init(project=os.getenv('GCP_PROJECT_ID'), location=os.getenv('GCP_LOCATION')) \n",
    "\n",
    "print(f\"Vertex AI SDK version: {aiplatform.__version__}\")\n",
    "\n",
    "print(f\"LangChain version: {langchain.__version__}\")"
   ]
  },
  {
   "cell_type": "code",
   "execution_count": 223,
   "metadata": {},
   "outputs": [],
   "source": [
    "# defining a function to rate limit API calls\n",
    "def rate_limit(max_per_minute):\n",
    "    period = 60 / max_per_minute\n",
    "    print(\"Waiting\")\n",
    "    while True:\n",
    "        before = time.time()\n",
    "        # the `yield` keyword here controls back to the caller;\n",
    "        # e.g. it allows the caller to perform the action that is rate limited\n",
    "        yield\n",
    "        # at this points, control returns to this function\n",
    "        after = time.time()\n",
    "        elapsed = after - before\n",
    "        sleep_time = max(0, period - elapsed)\n",
    "        if sleep_time > 0:\n",
    "            print(\".\", end=\"\")\n",
    "            time.sleep(sleep_time)"
   ]
  },
  {
   "cell_type": "code",
   "execution_count": 263,
   "metadata": {},
   "outputs": [],
   "source": [
    "class CustomVertexAIEmbeddings():\n",
    "\n",
    "    embedding_object = None\n",
    "\n",
    "    def __init__(self, requests_per_minute: int, num_instances_per_batch: int):\n",
    "        self.requests_per_minute = requests_per_minute\n",
    "        self.num_instances_per_batch = num_instances_per_batch\n",
    "        self.vertex_ai_embeddings = VertexAIEmbeddings()\n",
    "\n",
    "    # takes a list of strings and returns a list of embeddings\n",
    "    def embed_documents(self, texts: List[str]):\n",
    "        limiter = rate_limit(self.requests_per_minute)\n",
    "        results = []\n",
    "        remaining = list(texts)\n",
    "\n",
    "        while remaining:\n",
    "            # working in batches because the API accepts maximum 5\n",
    "            # documents per request to get embeddings\n",
    "            batch, remaining = (\n",
    "                # batch contains the first `num_instances_per_batch` documents\n",
    "                remaining[: self.num_instances_per_batch],\n",
    "                # docs contains the remaining documents\n",
    "                remaining[self.num_instances_per_batch :],\n",
    "            )\n",
    "            chunk = self.vertex_ai_embeddings.client.get_embeddings(batch)\n",
    "            results.extend(chunk)\n",
    "            next(limiter)\n",
    "\n",
    "        return [r.values for r in results]"
   ]
  },
  {
   "cell_type": "code",
   "execution_count": 225,
   "metadata": {},
   "outputs": [],
   "source": [
    "# create a foundational LLM instance\n",
    "# LLM model\n",
    "llm = VertexAI(\n",
    "    model_name=\"text-bison-32k@002\",\n",
    "    max_output_tokens=8192,\n",
    "    # setting the temperature that low will make the mode more deterministic\n",
    "    temperature=0.5,\n",
    "    # (nucleus sampling): the model will only consider a cumulative probability threshold above 0.8 to consider words to use\n",
    "    top_p=0.8,\n",
    "    # the model will only consider the top k most likely words when generating text\n",
    "    top_k=40,\n",
    "    verbose=True,\n",
    ")\n"
   ]
  },
  {
   "cell_type": "code",
   "execution_count": 226,
   "metadata": {},
   "outputs": [],
   "source": [
    "# set embeddings\n",
    "# `QPM` stands for \"queries per minute\"\n",
    "EMBEDDING_QPM = 100\n",
    "EMBEDDING_NUM_BATCH = 5\n",
    "embeddings = CustomVertexAIEmbeddings(\n",
    "    requests_per_minute=EMBEDDING_QPM,\n",
    "    num_instances_per_batch=EMBEDDING_NUM_BATCH,\n",
    ")"
   ]
  },
  {
   "cell_type": "markdown",
   "metadata": {},
   "source": [
    "## Basic interactions with an LLM\n",
    "\n",
    "Text is the natural way of interacting with LLMs, so let's just do that:"
   ]
  },
  {
   "cell_type": "code",
   "execution_count": 227,
   "metadata": {},
   "outputs": [
    {
     "data": {
      "text/plain": [
       "' The future of AI multimodality holds immense potential for transforming various industries and enhancing human experiences. Here are some key trends and developments to watch out for:\\n\\n**1. Enhanced Data Integration:** AI multimodality will continue to evolve, enabling seamless integration of data from various sources, such as text, images, audio, and video. This will empower AI systems to derive more comprehensive insights and make more accurate predictions.\\n\\n**2. Improved Natural Language Processing:** Advancements in natural language processing (NLP) will further enhance the ability of AI systems to understand and generate human language. This will lead to more intuitive and user-friendly AI applications, improving the overall user experience.\\n\\n**3. Multimodal Learning:** AI systems will increasingly leverage multimodal learning techniques to learn from and process data from multiple modalities simultaneously. This will enable them to capture richer representations of the real world and make more informed decisions.\\n\\n**4. Cross-Modal Generation:** AI systems will become more adept at generating content in one modality based on input from another modality. For instance, they might generate images from text descriptions or create music from visual inputs.\\n\\n**5. Real-Time Processing:** The development of more efficient AI algorithms and hardware will enable real-time processing of multimodal data. This will facilitate applications such as real-time object recognition, gesture control, and immersive virtual reality experiences.\\n\\n**6. Multimodal Emotion Recognition:** AI systems will become better at recognizing and interpreting human emotions by analyzing multimodal cues, such as facial expressions, tone of voice, and body language. This will have applications in fields like healthcare, customer service, and education.\\n\\n**7. Multimodal Search and Recommendation:** AI-powered search engines and recommendation systems will leverage multimodal data to provide more relevant and personalized results. For example, users might search for products by combining text, images, and voice commands.\\n\\n**8. Multimodal Healthcare:** AI multimodality will play a crucial role in healthcare, enabling early disease detection, personalized treatment planning, and improved patient monitoring through the analysis of multimodal medical data.\\n\\n**9. Multimodal Robotics:** AI multimodality will empower robots with enhanced perception and decision-making capabilities by enabling them to process and respond to multimodal sensory inputs. This will advance fields such as autonomous navigation, human-robot interaction, and industrial automation.\\n\\n**10. Ethical Considerations:** As AI multimodality becomes more prevalent, ethical considerations will become increasingly important. Ensuring privacy, addressing bias, and promoting responsible use of multimodal data will be essential for building trust and ensuring the ethical development and deployment of AI systems.\\n\\nOverall, the future of AI multimodality holds tremendous promise for revolutionizing various domains and enhancing human capabilities. By leveraging the power of multiple modalities, AI systems will become more versatile, intelligent, and capable of interacting with the world in more natural and intuitive ways.'"
      ]
     },
     "execution_count": 227,
     "metadata": {},
     "output_type": "execute_result"
    }
   ],
   "source": [
    "interaction = \"what is the future of AI multi modality?\"\n",
    "response = llm(interaction)\n",
    "\n",
    "response"
   ]
  },
  {
   "cell_type": "markdown",
   "metadata": {},
   "source": [
    "## Chat interactions"
   ]
  },
  {
   "cell_type": "code",
   "execution_count": 228,
   "metadata": {},
   "outputs": [
    {
     "name": "stdout",
     "output_type": "stream",
     "text": [
      " Multimodal AI systems will become increasingly sophisticated, enabling them to process and understand a wider range of data types, including text, images, audio, and video. This will allow them to perform a broader range of tasks, such as generating creative content, providing personalized recommendations, and making complex decisions.\n"
     ]
    }
   ],
   "source": [
    "chat = ChatVertexAI(model_name=\"chat-bison-32k@002\")\n",
    "\n",
    "initial_human_message = HumanMessage(\n",
    "    content=\"What is the future of AI multi modality?\",\n",
    ")\n",
    "\n",
    "chat_interaction = [\n",
    "    SystemMessage(\n",
    "        content=\"You are an AI assistant that is specialized in software enginering and in machine learning. Your answers are two short sentences long maximum.\",\n",
    "    ),\n",
    "    initial_human_message\n",
    "]\n",
    "\n",
    "response = chat(chat_interaction)\n",
    "\n",
    "print(response.content)"
   ]
  },
  {
   "cell_type": "code",
   "execution_count": 229,
   "metadata": {},
   "outputs": [
    {
     "name": "stdout",
     "output_type": "stream",
     "text": [
      " Multimodal AI systems will be able to process and understand a wider range of data types, including text, images, audio, video, and even haptic data. This will allow them to interact with the world in a more natural and intuitive way.\n"
     ]
    }
   ],
   "source": [
    "response_with_history = chat([\n",
    "    SystemMessage(\n",
    "        content=\"You are an AI assistant that is specialized in software enginering and in machine learning. Your answers are two short sentences long maximum.\",\n",
    "    ),\n",
    "    initial_human_message,\n",
    "    AIMessage(\n",
    "        content=response.content,\n",
    "    ),\n",
    "    HumanMessage(content=\"what wider range of data types?\")\n",
    "])\n",
    "\n",
    "print(response_with_history.content)"
   ]
  },
  {
   "cell_type": "markdown",
   "metadata": {},
   "source": [
    "## Embeddings basics"
   ]
  },
  {
   "cell_type": "code",
   "execution_count": 230,
   "metadata": {},
   "outputs": [
    {
     "name": "stdout",
     "output_type": "stream",
     "text": [
      "Waiting\n"
     ]
    },
    {
     "data": {
      "text/plain": [
       "[[0.023523658514022827,\n",
       "  -0.0226668082177639,\n",
       "  -0.013578694313764572,\n",
       "  -0.05995804816484451,\n",
       "  0.04657755419611931],\n",
       " [-0.011927814222872257,\n",
       "  -0.03190324455499649,\n",
       "  -0.037971220910549164,\n",
       "  0.018080370500683784,\n",
       "  0.035855501890182495],\n",
       " [0.03685606271028519,\n",
       "  0.004666030872613192,\n",
       "  -0.03280184790492058,\n",
       "  -0.013919971883296967,\n",
       "  -0.006564113311469555]]"
      ]
     },
     "execution_count": 230,
     "metadata": {},
     "output_type": "execute_result"
    }
   ],
   "source": [
    "# here's how you can get an embedding for a sentence\n",
    "text = \"I love Shakespeare\"\n",
    "text2 = \"Life without theaters would be dull\"\n",
    "# using a completely unrelated sentence\n",
    "text3 = \"Hey honey where did you put the keys?\"\n",
    "\n",
    "# sending the text to create embeddings for to Vertex AI\n",
    "text_embeddings = embeddings.embed_documents([text, text2, text3])\n",
    "# showing only the first 5 values of each embedding\n",
    "text_embeddings_short = [e[:5] for e in text_embeddings]\n",
    "text_embeddings_short"
   ]
  },
  {
   "cell_type": "code",
   "execution_count": 231,
   "metadata": {},
   "outputs": [
    {
     "data": {
      "text/plain": [
       "(0.8260222810785622, 0.8754990991394138)"
      ]
     },
     "execution_count": 231,
     "metadata": {},
     "output_type": "execute_result"
    }
   ],
   "source": [
    "# checking the cosine similarity between the first two embeddings\n",
    "euclidian_distance_1_2 = np.linalg.norm(np.array(text_embeddings[0]) - np.array(text_embeddings[1]))\n",
    "# now between the first and the third\n",
    "euclidian_distance_1_3 = np.linalg.norm(np.array(text_embeddings[0]) - np.array(text_embeddings[2]))\n",
    "\n",
    "euclidian_distance_1_2, euclidian_distance_1_3\n",
    "# we can see that the first two embeddings are closer to each other than the first and the third\n",
    "# ! watch out, this is just an example as the magnitude of the embeddings is not normalized"
   ]
  },
  {
   "cell_type": "code",
   "execution_count": 232,
   "metadata": {},
   "outputs": [
    {
     "data": {
      "text/plain": [
       "(0.658842936709143, 0.6167498631709771)"
      ]
     },
     "execution_count": 232,
     "metadata": {},
     "output_type": "execute_result"
    }
   ],
   "source": [
    "# now let's do the same thing using cosine similarity\n",
    "cosine_similarity_1_2 = np.dot(text_embeddings[0], text_embeddings[1]) / (\n",
    "    np.linalg.norm(text_embeddings[0]) * np.linalg.norm(text_embeddings[1])\n",
    ")\n",
    "cosine_similarity_1_3 = np.dot(text_embeddings[0], text_embeddings[2]) / (\n",
    "    np.linalg.norm(text_embeddings[0]) * np.linalg.norm(text_embeddings[2])\n",
    ")\n",
    "\n",
    "cosine_similarity_1_2, cosine_similarity_1_3"
   ]
  },
  {
   "cell_type": "markdown",
   "metadata": {},
   "source": [
    "## Prompt templates"
   ]
  },
  {
   "cell_type": "code",
   "execution_count": 233,
   "metadata": {},
   "outputs": [
    {
     "name": "stdout",
     "output_type": "stream",
     "text": [
      " The steam engine played a crucial role in the Industrial Revolution, powering factories and transportation. \n",
      "\n",
      "Today, steam engines are largely obsolete due to the development of more efficient and versatile technologies such as internal combustion engines and electric motors.\n"
     ]
    }
   ],
   "source": [
    "template = \"\"\"\n",
    "What do you think of this technology {tech}? Is it still relevant for use today?\n",
    "\n",
    "Your answers are two short sentences long maximum.\n",
    "\"\"\"\n",
    "\n",
    "prompt = PromptTemplate(\n",
    "    input_variables=[\"tech\"],\n",
    "    template=template,\n",
    ")\n",
    "\n",
    "final_prompt = prompt.format(tech=\"steam engine\")\n",
    "response = llm(final_prompt)\n",
    "print(response)\n"
   ]
  },
  {
   "cell_type": "markdown",
   "metadata": {},
   "source": [
    "## Example selectors"
   ]
  },
  {
   "cell_type": "code",
   "execution_count": 234,
   "metadata": {},
   "outputs": [
    {
     "name": "stdout",
     "output_type": "stream",
     "text": [
      "Question: Should I learn PHP?\n",
      "\n",
      "## Pros\n",
      "\n",
      "- Easy to learn\n",
      "- You can whip up a website in no time\n",
      "- It has wide support and an active community\n",
      "- It is compatible with various databases and web servers\n",
      "- It has built-in functions that are especially useful for web development(for sessions, cookies, etc.)\n",
      "\n",
      "## Cons\n",
      "\n",
      "- It is not very fast, compared to languages such as Node.js or Python\n",
      "- It is not suited for highly concurrent tasks or real-time applications\n",
      "- It's error handling is not as sophisticated as in other languages, which can make it difficult to debug\n",
      "\n"
     ]
    }
   ],
   "source": [
    "# configuring few-shot learning for self-ask with semantic similarity search\n",
    "\n",
    "# first create examples, each example is a dictionary with a question and an answer\n",
    "examples = [\n",
    "  {\n",
    "    \"question\": \"Should I learn PHP?\",\n",
    "    \"answer\":\n",
    "\"\"\"\n",
    "## Pros\n",
    "\n",
    "- Easy to learn\n",
    "- You can whip up a website in no time\n",
    "- It has wide support and an active community\n",
    "- It is compatible with various databases and web servers\n",
    "- It has built-in functions that are especially useful for web development(for sessions, cookies, etc.)\n",
    "\n",
    "## Cons\n",
    "\n",
    "- It is not very fast, compared to languages such as Node.js or Python\n",
    "- It is not suited for highly concurrent tasks or real-time applications\n",
    "- It's error handling is not as sophisticated as in other languages, which can make it difficult to debug\n",
    "\"\"\"\n",
    "  },\n",
    "  {\n",
    "    \"question\": \"Should I learn JavaScript?\",\n",
    "    \"answer\":\n",
    "\"\"\"\n",
    "## Pros\n",
    "\n",
    "- It is the only language that runs in the browser\n",
    "- It is easy to learn\n",
    "- It is very versatile\n",
    "- It has a huge ecosystem\n",
    "- It is very popular\n",
    "- It can run on the server side as well (Node.js)\n",
    "- It is ideal for building web applications that require real-time interaction\n",
    "\n",
    "## Cons\n",
    "\n",
    "- It may not perform as well as other low-level languages\n",
    "- It's dynamic typing can make it difficult to debug\n",
    "- Its huge ecosystem can make it difficult to choose the right tools\n",
    "\"\"\"\n",
    "  },\n",
    "  {\n",
    "    \"question\": \"Should I learn Python?\",\n",
    "    \"answer\":\n",
    "\"\"\"\n",
    "\n",
    "## Pros\n",
    "\n",
    "- It is easy to learn and to read\n",
    "- It is the go-to language for data science and machine learning\n",
    "- It has a strong community and support\n",
    "- It integrates well with other languages and systems\n",
    "\n",
    "## Cons\n",
    "\n",
    "- It may not perform as well as other low-level languages\n",
    "- It consumes a lot of memory\n",
    "- It is not the fastest language\n",
    "\"\"\"\n",
    "  }\n",
    "]\n",
    "\n",
    "example_prompt = PromptTemplate(input_variables=[\"question\", \"answer\"], template=\"Question: {question}\\n{answer}\")\n",
    "\n",
    "print(example_prompt.format(**examples[0]))"
   ]
  },
  {
   "cell_type": "code",
   "execution_count": 235,
   "metadata": {},
   "outputs": [
    {
     "name": "stdout",
     "output_type": "stream",
     "text": [
      "Examples most similar to the input: Should I learn Java?\n",
      "\n",
      "\n",
      "question: Should I learn JavaScript?\n",
      "answer: \n",
      "## Pros\n",
      "\n",
      "- It is the only language that runs in the browser\n",
      "- It is easy to learn\n",
      "- It is very versatile\n",
      "- It has a huge ecosystem\n",
      "- It is very popular\n",
      "- It can run on the server side as well (Node.js)\n",
      "- It is ideal for building web applications that require real-time interaction\n",
      "\n",
      "## Cons\n",
      "\n",
      "- It may not perform as well as other low-level languages\n",
      "- It's dynamic typing can make it difficult to debug\n",
      "- Its huge ecosystem can make it difficult to choose the right tools\n",
      "\n"
     ]
    }
   ],
   "source": [
    "prompt = FewShotPromptTemplate(\n",
    "    examples=examples,\n",
    "    example_prompt=example_prompt,\n",
    "    suffix=\"Question: {input}\",\n",
    "    input_variables=[\"input\"]\n",
    ")\n",
    "\n",
    "example_selector = SemanticSimilarityExampleSelector.from_examples(\n",
    "    # This is the list of examples available to select from.\n",
    "    examples,\n",
    "    # This is the embedding class used to produce embeddings which are used to measure semantic similarity.\n",
    "    VertexAIEmbeddings(),\n",
    "    # This is the VectorStore class that is used to store the embeddings and do a similarity search over.\n",
    "    FAISS,\n",
    "    # This is the number of examples to produce.\n",
    "    k=1\n",
    ")\n",
    "\n",
    "# Select the most similar example to the input.\n",
    "question = \"Should I learn Java?\"\n",
    "selected_examples = example_selector.select_examples({\"question\": question})\n",
    "print(f\"Examples most similar to the input: {question}\")\n",
    "for example in selected_examples:\n",
    "    print(\"\\n\")\n",
    "    for k, v in example.items():\n",
    "        print(f\"{k}: {v}\")"
   ]
  },
  {
   "cell_type": "code",
   "execution_count": 236,
   "metadata": {},
   "outputs": [
    {
     "name": "stdout",
     "output_type": "stream",
     "text": [
      " ## Pros\n",
      "\n",
      "- It is very popular\n",
      "- It is used in a wide variety of applications\n",
      "- It is very versatile\n",
      "- It has a huge ecosystem\n",
      "- It is easy to learn\n",
      "- It is very portable\n",
      "\n",
      "## Cons\n",
      "\n",
      "- It may not perform as well as other low-level languages\n",
      "- It can be verbose\n",
      "- It can be difficult to debug\n",
      "- Its huge ecosystem can make it difficult to choose the right tools\n"
     ]
    }
   ],
   "source": [
    "prompt = FewShotPromptTemplate(\n",
    "    example_selector=example_selector,\n",
    "    example_prompt=example_prompt,\n",
    "    suffix=\"Question: {input}\",\n",
    "    input_variables=[\"input\"]\n",
    ")\n",
    "\n",
    "print(llm(prompt.format(input=\"Should I learn Java?\")))"
   ]
  },
  {
   "cell_type": "markdown",
   "metadata": {},
   "source": [
    "## Output parsers"
   ]
  },
  {
   "cell_type": "code",
   "execution_count": 237,
   "metadata": {},
   "outputs": [
    {
     "name": "stdout",
     "output_type": "stream",
     "text": [
      "The output should be a markdown code snippet formatted in the following schema, including the leading and trailing \"```json\" and \"```\":\n",
      "\n",
      "```json\n",
      "{\n",
      "\t\"question\": string  // (this is the raw input from the user)\n",
      "\t\"answer\": string  // \n",
      "            (this is your response formatted as a JSON object,\n",
      "            it will have a key `pros` and a key `cons` that will contain the pros and cons of the items that are being compared,\n",
      "            each of these keys will contain an array of strings (one for each pro or con))\n",
      "        \n",
      "}\n",
      "```\n"
     ]
    }
   ],
   "source": [
    "response_schemas = [\n",
    "    ResponseSchema(\n",
    "        name=\"question\", description=\"(this is the raw input from the user)\"\n",
    "    ),\n",
    "    ResponseSchema(\n",
    "        name=\"answer\", description=\"\"\"\n",
    "            (this is your response formatted as a JSON object,\n",
    "            it will have a key `pros` and a key `cons` that will contain the pros and cons of the items that are being compared,\n",
    "            each of these keys will contain an array of strings (one for each pro or con))\n",
    "        \"\"\"\n",
    "    ),\n",
    "]\n",
    "\n",
    "output_parser = StructuredOutputParser.from_response_schemas(response_schemas)\n",
    "\n",
    "# at this point, you have set the basis for your formatting, that you will override for your specific use case in the next steps\n",
    "format_instructions = output_parser.get_format_instructions()\n",
    "print(format_instructions)"
   ]
  },
  {
   "cell_type": "code",
   "execution_count": 238,
   "metadata": {},
   "outputs": [
    {
     "name": "stdout",
     "output_type": "stream",
     "text": [
      "\n",
      "You will be  asked a question by the user, answer it in terms of pros and cons.\n",
      "Reformat it to make it look like this:\n",
      "\n",
      "The output should be a markdown code snippet formatted in the following schema, including the leading and trailing \"```json\" and \"```\":\n",
      "\n",
      "```json\n",
      "{\n",
      "\t\"question\": string  // (this is the raw input from the user)\n",
      "\t\"answer\": string  // \n",
      "            (this is your response formatted as a JSON object,\n",
      "            it will have a key `pros` and a key `cons` that will contain the pros and cons of the items that are being compared,\n",
      "            each of these keys will contain an array of strings (one for each pro or con))\n",
      "        \n",
      "}\n",
      "```\n",
      "\n",
      "% USER INPUT:\n",
      "ChatGPT vs Mistral?\n",
      "\n",
      "YOUR RESPONSE:\n",
      "\n"
     ]
    }
   ],
   "source": [
    "template = \"\"\"\n",
    "You will be  asked a question by the user, answer it in terms of pros and cons.\n",
    "Reformat it to make it look like this:\n",
    "\n",
    "{format_instructions}\n",
    "\n",
    "% USER INPUT:\n",
    "{user_input}\n",
    "\n",
    "YOUR RESPONSE:\n",
    "\"\"\"\n",
    "\n",
    "prompt = PromptTemplate(\n",
    "    input_variables=[\"user_input\"],\n",
    "    partial_variables={\"format_instructions\": format_instructions},\n",
    "    template=template,\n",
    ")\n",
    "\n",
    "promptValue = prompt.format(user_input=\"ChatGPT vs Mistral?\")\n",
    "\n",
    "print(promptValue)"
   ]
  },
  {
   "cell_type": "code",
   "execution_count": 239,
   "metadata": {},
   "outputs": [
    {
     "data": {
      "text/plain": [
       "' ```json\\n{\\n  \"question\": \"ChatGPT vs Mistral?\",\\n  \"answer\": {\\n    \"pros\": [\\n      \"**ChatGPT:**\",\\n      \"- More advanced language model, capable of generating more fluent and coherent text.\",\\n      \"- Better understanding of context and ability to generate responses that are more relevant to the user\\'s input.\",\\n      \"- Can generate responses in a wider variety of styles and tones.\",\\n      \"- More capable of generating creative content, such as stories, poems, and jokes.\",\\n      \"**Mistral:**\",\\n      \"- More focused on providing factual information and answering specific questions.\",\\n      \"- Better at generating responses that are concise and to the point.\",\\n      \"- More likely to provide accurate and reliable information, as it is trained on a curated dataset of factual knowledge.\",\\n      \"- More suitable for tasks that require precise and accurate information, such as answering trivia questions or providing medical advice.\"\\n    ],\\n    \"cons\": [\\n      \"**ChatGPT:**\",\\n      \"- Can sometimes generate responses that are overly verbose or repetitive.\",\\n      \"- May occasionally generate responses that are factually incorrect or biased.\",\\n      \"- Can be more difficult to control the style and tone of the generated text.\",\\n      \"- More likely to generate responses that are generic and lack a personal touch.\",\\n      \"**Mistral:**\",\\n      \"- Less capable of generating creative content or engaging in open-ended conversations.\",\\n      \"- May be less suitable for tasks that require a high level of creativity or imagination.\",\\n      \"- Less likely to generate responses that are entertaining or engaging.\",\\n      \"- May be less suitable for tasks that require a conversational tone or a personal touch.\"\\n    ]\\n  }\\n}\\n```'"
      ]
     },
     "execution_count": 239,
     "metadata": {},
     "output_type": "execute_result"
    }
   ],
   "source": [
    "llm_output = llm(promptValue)\n",
    "llm_output"
   ]
  },
  {
   "cell_type": "code",
   "execution_count": 240,
   "metadata": {},
   "outputs": [
    {
     "data": {
      "text/plain": [
       "{'question': 'ChatGPT vs Mistral?',\n",
       " 'answer': {'pros': ['**ChatGPT:**',\n",
       "   '- More advanced language model, capable of generating more fluent and coherent text.',\n",
       "   \"- Better understanding of context and ability to generate responses that are more relevant to the user's input.\",\n",
       "   '- Can generate responses in a wider variety of styles and tones.',\n",
       "   '- More capable of generating creative content, such as stories, poems, and jokes.',\n",
       "   '**Mistral:**',\n",
       "   '- More focused on providing factual information and answering specific questions.',\n",
       "   '- Better at generating responses that are concise and to the point.',\n",
       "   '- More likely to provide accurate and reliable information, as it is trained on a curated dataset of factual knowledge.',\n",
       "   '- More suitable for tasks that require precise and accurate information, such as answering trivia questions or providing medical advice.'],\n",
       "  'cons': ['**ChatGPT:**',\n",
       "   '- Can sometimes generate responses that are overly verbose or repetitive.',\n",
       "   '- May occasionally generate responses that are factually incorrect or biased.',\n",
       "   '- Can be more difficult to control the style and tone of the generated text.',\n",
       "   '- More likely to generate responses that are generic and lack a personal touch.',\n",
       "   '**Mistral:**',\n",
       "   '- Less capable of generating creative content or engaging in open-ended conversations.',\n",
       "   '- May be less suitable for tasks that require a high level of creativity or imagination.',\n",
       "   '- Less likely to generate responses that are entertaining or engaging.',\n",
       "   '- May be less suitable for tasks that require a conversational tone or a personal touch.']}}"
      ]
     },
     "execution_count": 240,
     "metadata": {},
     "output_type": "execute_result"
    }
   ],
   "source": [
    "parsed = output_parser.parse(llm_output)\n",
    "\n",
    "parsed"
   ]
  },
  {
   "cell_type": "markdown",
   "metadata": {},
   "source": [
    "## Document loaders"
   ]
  },
  {
   "cell_type": "code",
   "execution_count": 241,
   "metadata": {},
   "outputs": [
    {
     "data": {
      "text/plain": [
       "[Document(page_content=\"\\n\\n\\n\\n\\nReboot Conseil - Qui sommes nous\\n\\n\\n\\n\\n\\n\\n\\n\\n\\n\\n\\n\\n\\n\\n\\n\\n\\n\\n\\n\\n\\n\\n\\n\\n\\n\\n\\n\\n\\n\\n\\n\\n\\n\\n\\n\\n\\n\\n\\n\\n\\nAccueil\\nNotre offre de service\\nNous rejoindre\\n\\nClient, prenez RDV!\\n\\n\\n\\n\\n\\n\\n\\n\\n Notre néo-cabinet\\n                    \\n\\n\\n\\n Nos fondateurs\\n                    \\n\\n\\n\\n Nos valeurs\\n                    \\n\\n\\n\\n\\n\\n\\n\\n\\n\\nReboot Conseil\\n\\nLE\\n                Néo-cabinet de conseil visionnaire spécialisé en méthodologie et en IT\\n            \\nDémarrer\\n\\n\\n\\n\\n\\n        En visitant notre site Web et en utilisant nos services, vous comprenez et acceptez la façon dont nous traitons les données personnelles. \\nEn savoir plus.\\n    \\n\\n\\n            J'accepte\\n        \\n\\n            Je refuse\\n        \\n\\n\\n\\n\\n\\n\\n\\n\\nNOTRE CABINET DE CONSEIL\\u202fNOUVELLE GENERATION\\n\\n                Le secteur de l'IT est un secteur extrêmement concurrentiel alors pourquoi avons-nous décidé de nous jeter dans l’arène ?\\n            \\n\\n\\n                En un mot\\u202f: nous voulons faire bouger les lignes. Il suffit de voir  notre offre de service et ce que nous décrivons ci-dessous.\\n            \\n\\n\\n\\n\\n\\n\\n\\n\\n\\n1. Re-construire un secteur critiqué\\n\\n                        Notre secteur est souvent critiqué par ceux qui y travaillent\\u202f: hiérarchie, salaire, manque de reconnaissance…\\n                    \\nC’est pourquoi nous proposons un projet d’entreprise :\\n\\n- Transparence totale :\\n\\n L’ensemble des chiffres de l’entreprise sont accessibles par tous les employés\\u202f: les salaires, les coûts, le CA, les bénéfices…\\n Toutes nos réunions sont ouvertes.\\n\\n\\n\\n- Des mentors mais pas des managers :\\n Nous prônons la responsabilisation et l’autonomie. Les mentors servent à vous épauler et à vous orienter mais c’est à vous de faire vos choix en cohérence avec le collectif et vos désirs.\\n\\n- Une organisation capable d’évoluer et de s’adapter en fonction de notre croissance. \\n\\n                        La transparence, le mentorat et l’organisation sont un socle pour que chacun soit en confiance,\\n                        sincère pour être et ne pas finir dans la représentation.\\n                    \\n\\n\\n\\n\\n\\n\\n\\n\\n\\n\\n\\n2. Un secteur qui ne connaît pas la crise\\n\\n                        Lorsqu’un client nous sollicite, c’est qu’il estime que nous,\\n                        Reboot Conseil, avons la capacité de lui apporter le bon niveau\\n                        de conseil. Notre vision est d’aller\\n                        même au-delà des attentes\\n                        afin de donner un service qui soit dans l’excellence.\\n                    \\n\\nApprendre et Transmettre sont des valeurs primordiales que\\n                        nous exerçons en permanence. A chaque instant, nous cherchons\\n                        à apprendre afin de pouvoir transmettre ce qui nous a été donné,\\n                        et ce, à l’échelle de notre entreprise. Réaliser un Projet où\\n                        nous pouvons générer de la satisfaction est gratifiant, le faire\\n                        en continuant d’apprendre est une chance inouïe, l’exercer dans\\n                        un secteur en perpétuel mouvement est un plaisir.\\n                    \\n\\n                        C’est pourquoi la notion de passion, si galvaudée,\\n                        est essentielle.\\n                    \\n\\nNous avons choisi de créer une entreprise en pleine crise, seuls des passionnés osent faire ce genre de pari.\\n\\n\\n\\n\\n\\n\\n\\n\\n\\n\\n\\n\\n3. De l’ambition et des rêves !\\n\\n                        Notre ambition est de créer une entreprise dans la durée avec des valeurs fortes afin:\\n                    \\n\\n D’apporter à nos clients nos compétences via des offres,\\n\\n De créer de la valeur en interne par de\\n                            l’innovation,\\n                        \\n\\n Et si nos finances nous le permettent, de participer à des projets à but non lucratifs afin de\\n                            contribuer à l’amélioration de notre monde.\\n                        \\n\\n\\n                        C’est un projet ambitieux qui nécessite des moyens humains et financiers, rendre ceci concret est un rêve qui nous porte. Chacun apporte sa pierre à l’édifice à sa manière.\\n                    \\n\\n\\n\\n\\n\\n\\n\\n\\n\\nPrendre rendez vous\\n\\n                Une question sur nos activités ? Un projet à développer ? Un besoin d'accompagnement\\n                ou de formation ? Prenons le temps d'en discuter autour d'un café ou à distance !\\n            \\nClient, prenez RDV\\n\\n\\n\\n\\n\\n\\n\\n\\n\\nNos fondateurs\\n\\n                        Reboot Conseil est une entreprise spécialisée dans le Conseil en IT et en méthodologie. Fondée en 2020, en pleine deuxième vague,\\n                        nous assumons notre volonté d’être un acteur atypique voulant contribuer à améliorer notre environnement\\n                        et notre écosystème.\\n                    \\n\\n\\n                        Chaque fondateur et chaque membre de l’entreprise porte la flamme\\n                        du renouveau dans un monde à reconstruire.\\n                    \\n\\n\\n\\n\\n\\n\\n\\n\\n\\n\\n\\n\\n\\n\\n\\nYaniv ADJEDJ\\nNotre CEO\\n\\n                                    Depuis plus de 10 ans, je travaille dans le secteur du conseil, les 5\\n                                    premières années en tant que consultant puis en tant que commercial\\n                                    pour enfin évoluer dans des fonctions de direction. Après avoir tout\\n                                    débranché fin 2019, j’ai eu la chance d’avoir une parenthèse\\n                                    enchantée avec ma famille en réalisant un tour du monde. Peu après\\n                                    mon retour, nous avons entrepris de créer Reboot Conseil, une\\n                                    entreprise avec des valeurs fortes pour s’épanouir et innover.\\n                                    \\n                                    Aujourd’hui, CEO de l’entreprise, je veux changer la donne dans un\\n                                    monde en reconstruction en donnant du sens à nos ambitions.\\n                                \\n\\n\\n\\n\\n\\n\\n\\n\\n\\n\\n\\n\\n\\n\\nPierre-Marie COURANT\\nNotre Directeur des Ressources Humaines\\n\\n                                    Le monde de l'IT, je suis tombé dans la marmite quand j'étais petit.\\n                                    Geek et curieux, j'ai toujours cherché à orienter ma carrière dans cette\\n                                    optique: des télécoms à l'ERP, et aujourd'hui dans le conseil et l'expertise.\\n                                    Mais le vrai fil conducteur de mes expériences a toujours été de rencontrer\\n                                    et réunir des personnes de talent, écouter et échanger, et in fine construire.\\n                                    Et je compte bien continuer!\\n                                \\n\\n\\n\\n\\n\\n\\n\\n\\n\\n\\n\\n\\n\\n\\nOriane BISCHWILLER\\nNotre Directrice Commerciale\\n\\n                                    Depuis plus de 7 ans, je suis fascinée de travailler dans un environnement au sein duquel on ne cesse jamais de découvrir et d'évoluer, en permanence.\\n                                    J'ai d'abord commencé par me former au recrutement des personnes spécialisées dans l'IT, avant de m'orienter vers des fonctions plus commerciales. Depuis 5 ans, je découvre quotidiennement des nouveaux contextes d'entreprise et accompagne des partenaires clients dans la réalisation de leurs projets.\\n                                    De nature très positive et impliquée, j'aime partir de rien pour construire et bâtir. C'est donc par prolongement logique que je me suis lancée dans cette aventure entrepeneuriale!\\n                                    Et aujourd'hui je peux le dire, je suis très fière de vivre cette aventure avec cette équipe plus que géniale.\\n                                \\n\\n\\n\\n\\n\\n\\n\\n\\n\\n\\n\\n\\n\\n\\nAhmed ZAHRI\\nNotre VP of Engineering\\n\\n                                    Je travaille depuis plus de 8 ans en tant que développeur et Tech Lead. Durant ce temps,\\n                                    j'ai progressé au fil des expériences, des technos et des pratiques remplissant des\\n                                    missions différentes avec le même souci d'apporter le plus de valeur à nos clients et\\n                                    à nos utilisateurs.\\n                                    \\n                                    Passionné par les méthodologies et technologies, j'ai à coeur de construire des environnements\\n                                    d'excellence où chacune et chacun puisse exprimer ses envies et son potentiel.\\n                                    \\n                                    Ensemble nous allons plus loin !\\n                                \\n\\n\\n\\n\\n\\n\\n\\n\\n\\n\\n\\n\\nNos valeurs\\n\\n                Avant de lancer notre société, nous avons d’abord et avant tout défini nos valeurs, ce qui est précieux à nos yeux et qui sera l’esprit de notre entreprise avec authenticité\\n            \\n\\n\\n\\n\\n\\nÊtre ensemble\\nIndividuellement, nous sommes forts, mais ensemble, nous n’avons plus de limite.\\n\\n\\n\\n\\n\\nÊtre libre\\nNous sommes des individus et nous avons tous le droit d’être qui nous sommes au fond sans être dans de la représentation.\\n\\n\\n\\n\\n\\nApprendre et Transmettre\\n\\n                        Nous travaillons dans un secteur en perpétuel mouvement,\\n                        il est donc crucial d’aimer découvrir et d’explorer des nouveautés et bien sûr,\\n                        de transmettre et de partager nos savoirs. C’est l’essence même de notre métier.\\n                    \\n\\n\\n\\n\\n\\nTransparence totale\\nNous n’avons rien à cacher. En interne, toutes nos réunions sont ouvertes, tous nos chiffres sont accessibles, tous les salaires sont transparents. A l’externe, nous donnons accès à tout ce qui se passe chez nous dès lors que c’est autorisé.\\n\\n\\n\\n\\n\\nAller et repartir du travail le sourire aux lèvres\\n\\n                        Nous passons un temps important de notre vie au travail alors autant\\n                        que ce soit un plaisir de venir et de repartir avec la satisfaction du travail bien fait.\\n                    \\n\\n\\n\\n\\n\\nValoriser nos différences pour innover\\nChaque être humain est unique avec son histoire, son ressenti, son vécu, son expérience. C’est cette richesse qui fait que par nos différences, nous pouvons créer et nous challenger, sortir de nous-même pour découvrir l’autre et se rencontrer au milieu.\\n\\n\\n\\n\\n\\n\\n\\n\\n\\n\\n\\n\\n×\\n\\n\\n\\n\\n\\nFermer\\n\\n\\n\\n\\n\\n\\n\\n\\n\\n\\nReboot Conseil\\n\\n                            10 Rue de Leicester\\n                            67000, Strasbourg\\n                            France\\n                        \\n\\n\\nLiens utiles\\n\\n Qui sommes nous\\n Nous contacter\\n\\n\\nPolitique de confidentialité\\n\\n Prendre RDV\\n\\n\\n\\nNos services\\n\\n Que proposons nous\\n\\n\\n\\n\\n\\n\\n\\n\\n                    © 2021 Copyright Reboot Conseil. Tout droit réservé\\n                \\n\\n\\n\\n\\n\\n\\n\\n\\n\\n\\n\\n\\n\\n\\n\\n\\n\\n\\n\", metadata={'source': 'https://reboot-conseil.com/', 'title': 'Reboot Conseil - Qui sommes nous', 'description': 'Néo-cabinet de conseil visionnaire spécialisé en méthodologie et en IT.', 'language': 'fr'})]"
      ]
     },
     "execution_count": 241,
     "metadata": {},
     "output_type": "execute_result"
    }
   ],
   "source": [
    "loader = WebBaseLoader(\"https://reboot-conseil.com/\") # where I work these days\n",
    "\n",
    "mothership_website = loader.load()\n",
    "\n",
    "mothership_website"
   ]
  },
  {
   "cell_type": "markdown",
   "metadata": {},
   "source": [
    "## Text splitters"
   ]
  },
  {
   "cell_type": "code",
   "execution_count": 242,
   "metadata": {},
   "outputs": [
    {
     "name": "stdout",
     "output_type": "stream",
     "text": [
      "Number of chunks: 13\n"
     ]
    }
   ],
   "source": [
    "text_splitter = RecursiveCharacterTextSplitter(\n",
    "    # seting a really small chunk size, just to show how it works\n",
    "    chunk_size=1000,\n",
    "    chunk_overlap=20,\n",
    ")\n",
    "texts = text_splitter.split_documents(mothership_website)\n",
    "print(f\"Number of chunks: {len(texts)}\")"
   ]
  },
  {
   "cell_type": "code",
   "execution_count": 243,
   "metadata": {},
   "outputs": [
    {
     "name": "stdout",
     "output_type": "stream",
     "text": [
      "page_content=\"Reboot Conseil - Qui sommes nous\\n\\n\\n\\n\\n\\n\\n\\n\\n\\n\\n\\n\\n\\n\\n\\n\\n\\n\\n\\n\\n\\n\\n\\n\\n\\n\\n\\n\\n\\n\\n\\n\\n\\n\\n\\n\\n\\n\\n\\n\\n\\nAccueil\\nNotre offre de service\\nNous rejoindre\\n\\nClient, prenez RDV!\\n\\n\\n\\n\\n\\n\\n\\n\\n Notre néo-cabinet\\n                    \\n\\n\\n\\n Nos fondateurs\\n                    \\n\\n\\n\\n Nos valeurs\\n                    \\n\\n\\n\\n\\n\\n\\n\\n\\n\\nReboot Conseil\\n\\nLE\\n                Néo-cabinet de conseil visionnaire spécialisé en méthodologie et en IT\\n            \\nDémarrer\\n\\n\\n\\n\\n\\n        En visitant notre site Web et en utilisant nos services, vous comprenez et acceptez la façon dont nous traitons les données personnelles. \\nEn savoir plus.\\n    \\n\\n\\n            J'accepte\\n        \\n\\n            Je refuse\\n        \\n\\n\\n\\n\\n\\n\\n\\n\\nNOTRE CABINET DE CONSEIL\\u202fNOUVELLE GENERATION\\n\\n                Le secteur de l'IT est un secteur extrêmement concurrentiel alors pourquoi avons-nous décidé de nous jeter dans l’arène ?\" metadata={'source': 'https://reboot-conseil.com/', 'title': 'Reboot Conseil - Qui sommes nous', 'description': 'Néo-cabinet de conseil visionnaire spécialisé en méthodologie et en IT.', 'language': 'fr'}\n",
      "page_content='En un mot\\u202f: nous voulons faire bouger les lignes. Il suffit de voir  notre offre de service et ce que nous décrivons ci-dessous.\\n            \\n\\n\\n\\n\\n\\n\\n\\n\\n\\n1. Re-construire un secteur critiqué\\n\\n                        Notre secteur est souvent critiqué par ceux qui y travaillent\\u202f: hiérarchie, salaire, manque de reconnaissance…\\n                    \\nC’est pourquoi nous proposons un projet d’entreprise :\\n\\n- Transparence totale :\\n\\n L’ensemble des chiffres de l’entreprise sont accessibles par tous les employés\\u202f: les salaires, les coûts, le CA, les bénéfices…\\n Toutes nos réunions sont ouvertes.\\n\\n\\n\\n- Des mentors mais pas des managers :\\n Nous prônons la responsabilisation et l’autonomie. Les mentors servent à vous épauler et à vous orienter mais c’est à vous de faire vos choix en cohérence avec le collectif et vos désirs.\\n\\n- Une organisation capable d’évoluer et de s’adapter en fonction de notre croissance.' metadata={'source': 'https://reboot-conseil.com/', 'title': 'Reboot Conseil - Qui sommes nous', 'description': 'Néo-cabinet de conseil visionnaire spécialisé en méthodologie et en IT.', 'language': 'fr'}\n",
      "page_content='La transparence, le mentorat et l’organisation sont un socle pour que chacun soit en confiance,\\n                        sincère pour être et ne pas finir dans la représentation.\\n                    \\n\\n\\n\\n\\n\\n\\n\\n\\n\\n\\n\\n2. Un secteur qui ne connaît pas la crise\\n\\n                        Lorsqu’un client nous sollicite, c’est qu’il estime que nous,\\n                        Reboot Conseil, avons la capacité de lui apporter le bon niveau\\n                        de conseil. Notre vision est d’aller\\n                        même au-delà des attentes\\n                        afin de donner un service qui soit dans l’excellence.' metadata={'source': 'https://reboot-conseil.com/', 'title': 'Reboot Conseil - Qui sommes nous', 'description': 'Néo-cabinet de conseil visionnaire spécialisé en méthodologie et en IT.', 'language': 'fr'}\n",
      "page_content='Apprendre et Transmettre sont des valeurs primordiales que\\n                        nous exerçons en permanence. A chaque instant, nous cherchons\\n                        à apprendre afin de pouvoir transmettre ce qui nous a été donné,\\n                        et ce, à l’échelle de notre entreprise. Réaliser un Projet où\\n                        nous pouvons générer de la satisfaction est gratifiant, le faire\\n                        en continuant d’apprendre est une chance inouïe, l’exercer dans\\n                        un secteur en perpétuel mouvement est un plaisir.\\n                    \\n\\n                        C’est pourquoi la notion de passion, si galvaudée,\\n                        est essentielle.\\n                    \\n\\nNous avons choisi de créer une entreprise en pleine crise, seuls des passionnés osent faire ce genre de pari.\\n\\n\\n\\n\\n\\n\\n\\n\\n\\n\\n\\n\\n3. De l’ambition et des rêves !' metadata={'source': 'https://reboot-conseil.com/', 'title': 'Reboot Conseil - Qui sommes nous', 'description': 'Néo-cabinet de conseil visionnaire spécialisé en méthodologie et en IT.', 'language': 'fr'}\n",
      "page_content=\"Notre ambition est de créer une entreprise dans la durée avec des valeurs fortes afin:\\n                    \\n\\n D’apporter à nos clients nos compétences via des offres,\\n\\n De créer de la valeur en interne par de\\n                            l’innovation,\\n                        \\n\\n Et si nos finances nous le permettent, de participer à des projets à but non lucratifs afin de\\n                            contribuer à l’amélioration de notre monde.\\n                        \\n\\n\\n                        C’est un projet ambitieux qui nécessite des moyens humains et financiers, rendre ceci concret est un rêve qui nous porte. Chacun apporte sa pierre à l’édifice à sa manière.\\n                    \\n\\n\\n\\n\\n\\n\\n\\n\\n\\nPrendre rendez vous\\n\\n                Une question sur nos activités ? Un projet à développer ? Un besoin d'accompagnement\\n                ou de formation ? Prenons le temps d'en discuter autour d'un café ou à distance !\\n            \\nClient, prenez RDV\\n\\n\\n\\n\\n\\n\\n\\n\\n\\nNos fondateurs\" metadata={'source': 'https://reboot-conseil.com/', 'title': 'Reboot Conseil - Qui sommes nous', 'description': 'Néo-cabinet de conseil visionnaire spécialisé en méthodologie et en IT.', 'language': 'fr'}\n",
      "page_content='Nos fondateurs\\n\\n                        Reboot Conseil est une entreprise spécialisée dans le Conseil en IT et en méthodologie. Fondée en 2020, en pleine deuxième vague,\\n                        nous assumons notre volonté d’être un acteur atypique voulant contribuer à améliorer notre environnement\\n                        et notre écosystème.\\n                    \\n\\n\\n                        Chaque fondateur et chaque membre de l’entreprise porte la flamme\\n                        du renouveau dans un monde à reconstruire.\\n                    \\n\\n\\n\\n\\n\\n\\n\\n\\n\\n\\n\\n\\n\\n\\n\\nYaniv ADJEDJ\\nNotre CEO' metadata={'source': 'https://reboot-conseil.com/', 'title': 'Reboot Conseil - Qui sommes nous', 'description': 'Néo-cabinet de conseil visionnaire spécialisé en méthodologie et en IT.', 'language': 'fr'}\n",
      "page_content='Depuis plus de 10 ans, je travaille dans le secteur du conseil, les 5\\n                                    premières années en tant que consultant puis en tant que commercial\\n                                    pour enfin évoluer dans des fonctions de direction. Après avoir tout\\n                                    débranché fin 2019, j’ai eu la chance d’avoir une parenthèse\\n                                    enchantée avec ma famille en réalisant un tour du monde. Peu après\\n                                    mon retour, nous avons entrepris de créer Reboot Conseil, une\\n                                    entreprise avec des valeurs fortes pour s’épanouir et innover.\\n                                    \\n                                    Aujourd’hui, CEO de l’entreprise, je veux changer la donne dans un\\n                                    monde en reconstruction en donnant du sens à nos ambitions.' metadata={'source': 'https://reboot-conseil.com/', 'title': 'Reboot Conseil - Qui sommes nous', 'description': 'Néo-cabinet de conseil visionnaire spécialisé en méthodologie et en IT.', 'language': 'fr'}\n",
      "page_content=\"Pierre-Marie COURANT\\nNotre Directeur des Ressources Humaines\\n\\n                                    Le monde de l'IT, je suis tombé dans la marmite quand j'étais petit.\\n                                    Geek et curieux, j'ai toujours cherché à orienter ma carrière dans cette\\n                                    optique: des télécoms à l'ERP, et aujourd'hui dans le conseil et l'expertise.\\n                                    Mais le vrai fil conducteur de mes expériences a toujours été de rencontrer\\n                                    et réunir des personnes de talent, écouter et échanger, et in fine construire.\\n                                    Et je compte bien continuer!\\n                                \\n\\n\\n\\n\\n\\n\\n\\n\\n\\n\\n\\n\\n\\n\\nOriane BISCHWILLER\\nNotre Directrice Commerciale\" metadata={'source': 'https://reboot-conseil.com/', 'title': 'Reboot Conseil - Qui sommes nous', 'description': 'Néo-cabinet de conseil visionnaire spécialisé en méthodologie et en IT.', 'language': 'fr'}\n",
      "page_content=\"Depuis plus de 7 ans, je suis fascinée de travailler dans un environnement au sein duquel on ne cesse jamais de découvrir et d'évoluer, en permanence.\\n                                    J'ai d'abord commencé par me former au recrutement des personnes spécialisées dans l'IT, avant de m'orienter vers des fonctions plus commerciales. Depuis 5 ans, je découvre quotidiennement des nouveaux contextes d'entreprise et accompagne des partenaires clients dans la réalisation de leurs projets.\\n                                    De nature très positive et impliquée, j'aime partir de rien pour construire et bâtir. C'est donc par prolongement logique que je me suis lancée dans cette aventure entrepeneuriale!\\n                                    Et aujourd'hui je peux le dire, je suis très fière de vivre cette aventure avec cette équipe plus que géniale.\\n                                \\n\\n\\n\\n\\n\\n\\n\\n\\n\\n\\n\\n\\n\\n\\nAhmed ZAHRI\\nNotre VP of Engineering\" metadata={'source': 'https://reboot-conseil.com/', 'title': 'Reboot Conseil - Qui sommes nous', 'description': 'Néo-cabinet de conseil visionnaire spécialisé en méthodologie et en IT.', 'language': 'fr'}\n",
      "page_content=\"Je travaille depuis plus de 8 ans en tant que développeur et Tech Lead. Durant ce temps,\\n                                    j'ai progressé au fil des expériences, des technos et des pratiques remplissant des\\n                                    missions différentes avec le même souci d'apporter le plus de valeur à nos clients et\\n                                    à nos utilisateurs.\\n                                    \\n                                    Passionné par les méthodologies et technologies, j'ai à coeur de construire des environnements\\n                                    d'excellence où chacune et chacun puisse exprimer ses envies et son potentiel.\\n                                    \\n                                    Ensemble nous allons plus loin !\\n                                \\n\\n\\n\\n\\n\\n\\n\\n\\n\\n\\n\\n\\nNos valeurs\" metadata={'source': 'https://reboot-conseil.com/', 'title': 'Reboot Conseil - Qui sommes nous', 'description': 'Néo-cabinet de conseil visionnaire spécialisé en méthodologie et en IT.', 'language': 'fr'}\n",
      "page_content='Nos valeurs\\n\\n                Avant de lancer notre société, nous avons d’abord et avant tout défini nos valeurs, ce qui est précieux à nos yeux et qui sera l’esprit de notre entreprise avec authenticité\\n            \\n\\n\\n\\n\\n\\nÊtre ensemble\\nIndividuellement, nous sommes forts, mais ensemble, nous n’avons plus de limite.\\n\\n\\n\\n\\n\\nÊtre libre\\nNous sommes des individus et nous avons tous le droit d’être qui nous sommes au fond sans être dans de la représentation.\\n\\n\\n\\n\\n\\nApprendre et Transmettre\\n\\n                        Nous travaillons dans un secteur en perpétuel mouvement,\\n                        il est donc crucial d’aimer découvrir et d’explorer des nouveautés et bien sûr,\\n                        de transmettre et de partager nos savoirs. C’est l’essence même de notre métier.' metadata={'source': 'https://reboot-conseil.com/', 'title': 'Reboot Conseil - Qui sommes nous', 'description': 'Néo-cabinet de conseil visionnaire spécialisé en méthodologie et en IT.', 'language': 'fr'}\n",
      "page_content='Transparence totale\\nNous n’avons rien à cacher. En interne, toutes nos réunions sont ouvertes, tous nos chiffres sont accessibles, tous les salaires sont transparents. A l’externe, nous donnons accès à tout ce qui se passe chez nous dès lors que c’est autorisé.\\n\\n\\n\\n\\n\\nAller et repartir du travail le sourire aux lèvres\\n\\n                        Nous passons un temps important de notre vie au travail alors autant\\n                        que ce soit un plaisir de venir et de repartir avec la satisfaction du travail bien fait.\\n                    \\n\\n\\n\\n\\n\\nValoriser nos différences pour innover\\nChaque être humain est unique avec son histoire, son ressenti, son vécu, son expérience. C’est cette richesse qui fait que par nos différences, nous pouvons créer et nous challenger, sortir de nous-même pour découvrir l’autre et se rencontrer au milieu.\\n\\n\\n\\n\\n\\n\\n\\n\\n\\n\\n\\n\\n×\\n\\n\\n\\n\\n\\nFermer\\n\\n\\n\\n\\n\\n\\n\\n\\n\\n\\nReboot Conseil' metadata={'source': 'https://reboot-conseil.com/', 'title': 'Reboot Conseil - Qui sommes nous', 'description': 'Néo-cabinet de conseil visionnaire spécialisé en méthodologie et en IT.', 'language': 'fr'}\n",
      "page_content='Reboot Conseil\\n\\n                            10 Rue de Leicester\\n                            67000, Strasbourg\\n                            France\\n                        \\n\\n\\nLiens utiles\\n\\n Qui sommes nous\\n Nous contacter\\n\\n\\nPolitique de confidentialité\\n\\n Prendre RDV\\n\\n\\n\\nNos services\\n\\n Que proposons nous\\n\\n\\n\\n\\n\\n\\n\\n\\n                    © 2021 Copyright Reboot Conseil. Tout droit réservé' metadata={'source': 'https://reboot-conseil.com/', 'title': 'Reboot Conseil - Qui sommes nous', 'description': 'Néo-cabinet de conseil visionnaire spécialisé en méthodologie et en IT.', 'language': 'fr'}\n"
     ]
    }
   ],
   "source": [
    "for text in texts:\n",
    "    print(text)"
   ]
  },
  {
   "cell_type": "markdown",
   "metadata": {},
   "source": [
    "## Retrievers"
   ]
  },
  {
   "cell_type": "code",
   "execution_count": 244,
   "metadata": {},
   "outputs": [
    {
     "data": {
      "text/plain": [
       "VectorStoreRetriever(tags=['FAISS', 'VertexAIEmbeddings'], vectorstore=<langchain.vectorstores.faiss.FAISS object at 0x7fe70bd66b30>)"
      ]
     },
     "execution_count": 244,
     "metadata": {},
     "output_type": "execute_result"
    }
   ],
   "source": [
    "loader = WebBaseLoader(\"https://ai.rebootconseil.com/\") # our AI squad website\n",
    "mothership_website = loader.load()\n",
    "mothership_website\n",
    "\n",
    "# get your splitter ready\n",
    "text_splitter = RecursiveCharacterTextSplitter(chunk_size=1500, chunk_overlap=50)\n",
    "\n",
    "# split your docs into texts\n",
    "texts = text_splitter.split_documents(mothership_website)\n",
    "\n",
    "# embed your texts\n",
    "db = FAISS.from_documents(texts, VertexAIEmbeddings())\n",
    "\n",
    "# init your retriever\n",
    "retriever = db.as_retriever()\n",
    "retriever"
   ]
  },
  {
   "cell_type": "code",
   "execution_count": 245,
   "metadata": {},
   "outputs": [
    {
     "data": {
      "text/plain": [
       "[Document(page_content='Développement de solutions IA\\nAutomatisation des tâches, création de solutions sur mesure, optimisation de processus, nous réalisons et concevons des solutions en nous basant sur les IA (et croyez-nous, c’est bluffant)\\n\\n\\n\\n\\n\\nConseil en IA\\nAnalyse, audit, expertise, réalisation, nous rentrons dans vos problématiques et nous nous les approprions pour vous adresser nos meilleurs conseils\\n\\n\\n\\nEn savoir plus\\n\\n\\n\\n\\nDerniers articles\\n\\n\\n11 décembre 2023\\nLa compréhension du monde par les LMMs: focus sur les embeddings\\n\\n\\n4 décembre 2023\\nLow-Code: À la découverte de Langflow !\\n\\n\\n24 novembre 2023\\nCréer un assistant textuel qui utilise votre base de connaissance avec ChatGPT\\n\\n\\n\\n\\n\\n\\nSearchRecherche\\n\\n\\n\\n\\n                     AI Squad\\n\\n\\nTwitter\\nhttps://www.linkedin.com/company/reboot-conseil/', metadata={'source': 'https://ai.rebootconseil.com/', 'title': 'Dans le doute, Reboot', 'language': 'fr-FR'}),\n",
       " Document(page_content='Dans le doute, Reboot\\n\\n\\n\\n\\n\\n\\n\\n\\n\\n\\n\\n\\n\\n\\n\\n\\n\\n\\n\\n\\n\\n\\n\\n\\n\\n\\n\\n\\n\\n\\n\\n\\n\\n\\n\\n\\n\\n\\n\\n\\n\\n\\n\\n\\n\\n\\n\\n\\n\\n\\n\\n\\n\\n\\n\\n\\n\\n\\n\\n\\n\\n\\n\\n\\n\\nAccueilNotre accompagnementAudit&DiagnosticFormationsMode ProjetBlogContact\\n\\n\\n\\n\\n\\nReservez un appel découverte\\n\\nLinkedIn\\nTwitter\\n\\n\\n\\n\\n\\n\\n\\n\\nL’aventure est en marche !\\nL’IA n’est pas un buzzword !\\nNotre Squad s’est donné pour mission de rendre l’IA accessible, compréhensible et utile pour tous, experts comme novices. Nous combinons expertise technique et créativité pour développer des solutions qui ont un véritable impact. Ensemble, explorons le potentiel de l’IA pour construire demain.\\n\\nOn y va ?\\n\\n\\n\\n\\n\\n\\n\\n\\n\\n\\n\\n\\n\\n\\n\\nMais au fait, c’est quoi une SQUAD ?\\n\\n\\n\\n\\n\\n\\n\\n\\nImaginez un groupe de personnes qui se réunit avec l’envie de bâtir un Projet. Chacun a sa spécialité : il y a le geek, l’artiste, le penseur… \\nEnsemble, ils forment une équipe de choc qu’on appelle une ‘squad’ ! \\nC’est un peu comme les Avengers, mais sans les costumes moulants et les super-pouvoirs.\\nAutrement dit, une Squad est une petite équipe pluridisciplinaire et autonome qui a pour objectif de travailler sur un sujet dédié\\n\\n\\n\\n\\n\\n\\n\\n\\n\\n\\n\\n\\n\\n\\n1 Squad – 3 services\\n\\n\\n\\n\\n\\n\\n\\n\\nFormations\\nVia notre organisme de formation certifié Qualiopi, la Reboot Academy, nous dispensons des formations pour Mamie mais aussi pour les Jedis de l’IA', metadata={'source': 'https://ai.rebootconseil.com/', 'title': 'Dans le doute, Reboot', 'language': 'fr-FR'})]"
      ]
     },
     "execution_count": 245,
     "metadata": {},
     "output_type": "execute_result"
    }
   ],
   "source": [
    "# using similarity search to retrieve the most relevant documents\n",
    "docs = retriever.get_relevant_documents(\n",
    "    \"what does the AI squad at Reboot Conseil do?\"\n",
    ")\n",
    "docs"
   ]
  },
  {
   "cell_type": "markdown",
   "metadata": {},
   "source": [
    "## Vector stores"
   ]
  },
  {
   "cell_type": "code",
   "execution_count": 246,
   "metadata": {},
   "outputs": [
    {
     "name": "stdout",
     "output_type": "stream",
     "text": [
      "Waiting\n",
      "You have 2 embeddings\n",
      "Here's a sample of one: [0.05464639887213707, -0.012814591638743877, -0.03256173059344292]...\n"
     ]
    }
   ],
   "source": [
    "# let's create embeddings with our previously scraped texts\n",
    "embedding_list = embeddings.embed_documents([text.page_content for text in texts])\n",
    "print(f\"You have {len(embedding_list)} embeddings\")\n",
    "print(f\"Here's a sample of one: {embedding_list[0][:3]}...\")"
   ]
  },
  {
   "cell_type": "markdown",
   "metadata": {},
   "source": [
    "## Memory"
   ]
  },
  {
   "cell_type": "code",
   "execution_count": 247,
   "metadata": {},
   "outputs": [
    {
     "name": "stdout",
     "output_type": "stream",
     "text": [
      "\n",
      "\n",
      "\u001b[1m> Entering new ConversationChain chain...\u001b[0m\n",
      "Prompt after formatting:\n",
      "\u001b[32;1m\u001b[1;3mThe following is a friendly conversation between a human and an AI. The AI is talkative and provides lots of specific details from its context. If the AI does not know the answer to a question, it truthfully says it does not know.\n",
      "\n",
      "Current conversation:\n",
      "\n",
      "Human: Hi there!\n",
      "AI:\u001b[0m\n",
      "\n",
      "\u001b[1m> Finished chain.\u001b[0m\n"
     ]
    },
    {
     "data": {
      "text/plain": [
       "' Hello! How can I help you today?'"
      ]
     },
     "execution_count": 247,
     "metadata": {},
     "output_type": "execute_result"
    }
   ],
   "source": [
    "conversation = ConversationChain(\n",
    "    llm=llm, verbose=True, memory=ConversationBufferMemory()\n",
    ")\n",
    "\n",
    "conversation.predict(input=\"Hi there!\")"
   ]
  },
  {
   "cell_type": "code",
   "execution_count": 248,
   "metadata": {},
   "outputs": [
    {
     "name": "stdout",
     "output_type": "stream",
     "text": [
      "\n",
      "\n",
      "\u001b[1m> Entering new ConversationChain chain...\u001b[0m\n",
      "Prompt after formatting:\n",
      "\u001b[32;1m\u001b[1;3mThe following is a friendly conversation between a human and an AI. The AI is talkative and provides lots of specific details from its context. If the AI does not know the answer to a question, it truthfully says it does not know.\n",
      "\n",
      "Current conversation:\n",
      "Human: Hi there!\n",
      "AI:  Hello! How can I help you today?\n",
      "Human: What is the future of AI multi modality?\n",
      "AI:\u001b[0m\n",
      "\n",
      "\u001b[1m> Finished chain.\u001b[0m\n"
     ]
    },
    {
     "data": {
      "text/plain": [
       "\" The future of AI multimodality holds immense promise for revolutionizing various industries and enhancing human experiences. Here are some key aspects and advancements to look forward to:\\n\\n**1. Enhanced Human-Computer Interaction:**\\n   - AI multimodality will enable more intuitive and natural interaction between humans and machines. This includes advancements in speech recognition, gesture recognition, and facial expression analysis, allowing devices to better understand and respond to human cues.\\n\\n**2. Improved Accessibility:**\\n   - Multimodal AI systems can cater to individuals with different sensory abilities or preferences. For example, people with visual impairments can benefit from audio-based interfaces, while those with hearing impairments can utilize visual cues.\\n\\n**3. Immersive Experiences:**\\n   - AI multimodality will play a crucial role in creating immersive experiences in virtual reality (VR) and augmented reality (AR). By combining visual, auditory, and haptic feedback, these technologies can provide users with a more realistic and engaging experience.\\n\\n**4. Enhanced Healthcare Diagnostics:**\\n   - Multimodal AI can analyze various types of medical data, such as medical images, patient records, and sensor data, to provide more accurate and timely diagnoses. This can lead to improved patient outcomes and personalized treatment plans.\\n\\n**5. Smarter Robotics:**\\n   - AI multimodality will enable robots to perceive and interact with the world in a more comprehensive manner. By combining visual, auditory, and tactile sensors, robots can become more autonomous and perform complex tasks more efficiently.\\n\\n**6. Personalized Advertising and Marketing:**\\n   - Multimodal AI can analyze user preferences and behaviors across different channels to deliver more relevant and personalized advertising and marketing campaigns. This can enhance customer engagement and increase conversion rates.\\n\\n**7. Advanced Surveillance and Security:**\\n   - AI multimodality can be used to analyze data from multiple sources, such as video cameras, motion sensors, and audio recordings, to enhance security and surveillance systems. This can help detect suspicious activities and prevent potential threats.\\n\\n**8. Multimodal Language Processing:**\\n   - AI multimodality can combine text, audio, and visual information to improve natural language processing tasks such as machine translation, sentiment analysis, and question answering.\\n\\n**9. Enhanced Customer Service:**\\n   - Multimodal AI can provide more efficient and personalized customer service by analyzing customer interactions across different channels and providing real-time assistance.\\n\\n**10. Ethical Considerations:**\\n   - As AI multimodality continues to advance, it's important to consider ethical implications, such as privacy concerns and potential biases in decision-making. Responsible development and regulation will be crucial to ensure that AI multimodality benefits society in a positive and equitable manner.\\n\\nOverall, the future of AI multimodality is brimming with exciting possibilities that will transform the way we interact with technology, access information, and experience the world around us.\""
      ]
     },
     "execution_count": 248,
     "metadata": {},
     "output_type": "execute_result"
    }
   ],
   "source": [
    "conversation.predict(input=\"What is the future of AI multi modality?\")"
   ]
  },
  {
   "cell_type": "code",
   "execution_count": 249,
   "metadata": {},
   "outputs": [
    {
     "name": "stdout",
     "output_type": "stream",
     "text": [
      "\n",
      "\n",
      "\u001b[1m> Entering new ConversationChain chain...\u001b[0m\n",
      "Prompt after formatting:\n",
      "\u001b[32;1m\u001b[1;3mThe following is a friendly conversation between a human and an AI. The AI is talkative and provides lots of specific details from its context. If the AI does not know the answer to a question, it truthfully says it does not know.\n",
      "\n",
      "Current conversation:\n",
      "Human: Hi there!\n",
      "AI:  Hello! How can I help you today?\n",
      "Human: What is the future of AI multi modality?\n",
      "AI:  The future of AI multimodality holds immense promise for revolutionizing various industries and enhancing human experiences. Here are some key aspects and advancements to look forward to:\n",
      "\n",
      "**1. Enhanced Human-Computer Interaction:**\n",
      "   - AI multimodality will enable more intuitive and natural interaction between humans and machines. This includes advancements in speech recognition, gesture recognition, and facial expression analysis, allowing devices to better understand and respond to human cues.\n",
      "\n",
      "**2. Improved Accessibility:**\n",
      "   - Multimodal AI systems can cater to individuals with different sensory abilities or preferences. For example, people with visual impairments can benefit from audio-based interfaces, while those with hearing impairments can utilize visual cues.\n",
      "\n",
      "**3. Immersive Experiences:**\n",
      "   - AI multimodality will play a crucial role in creating immersive experiences in virtual reality (VR) and augmented reality (AR). By combining visual, auditory, and haptic feedback, these technologies can provide users with a more realistic and engaging experience.\n",
      "\n",
      "**4. Enhanced Healthcare Diagnostics:**\n",
      "   - Multimodal AI can analyze various types of medical data, such as medical images, patient records, and sensor data, to provide more accurate and timely diagnoses. This can lead to improved patient outcomes and personalized treatment plans.\n",
      "\n",
      "**5. Smarter Robotics:**\n",
      "   - AI multimodality will enable robots to perceive and interact with the world in a more comprehensive manner. By combining visual, auditory, and tactile sensors, robots can become more autonomous and perform complex tasks more efficiently.\n",
      "\n",
      "**6. Personalized Advertising and Marketing:**\n",
      "   - Multimodal AI can analyze user preferences and behaviors across different channels to deliver more relevant and personalized advertising and marketing campaigns. This can enhance customer engagement and increase conversion rates.\n",
      "\n",
      "**7. Advanced Surveillance and Security:**\n",
      "   - AI multimodality can be used to analyze data from multiple sources, such as video cameras, motion sensors, and audio recordings, to enhance security and surveillance systems. This can help detect suspicious activities and prevent potential threats.\n",
      "\n",
      "**8. Multimodal Language Processing:**\n",
      "   - AI multimodality can combine text, audio, and visual information to improve natural language processing tasks such as machine translation, sentiment analysis, and question answering.\n",
      "\n",
      "**9. Enhanced Customer Service:**\n",
      "   - Multimodal AI can provide more efficient and personalized customer service by analyzing customer interactions across different channels and providing real-time assistance.\n",
      "\n",
      "**10. Ethical Considerations:**\n",
      "   - As AI multimodality continues to advance, it's important to consider ethical implications, such as privacy concerns and potential biases in decision-making. Responsible development and regulation will be crucial to ensure that AI multimodality benefits society in a positive and equitable manner.\n",
      "\n",
      "Overall, the future of AI multimodality is brimming with exciting possibilities that will transform the way we interact with technology, access information, and experience the world around us.\n",
      "Human: Give me a more specific example of a multi modal AI system\n",
      "AI:\u001b[0m\n",
      "\n",
      "\u001b[1m> Finished chain.\u001b[0m\n"
     ]
    },
    {
     "data": {
      "text/plain": [
       "\" Certainly! Here's a more specific example of a multimodal AI system in action:\\n\\n**Example: Multimodal Emotion Recognition System**\\n\\n**Objective:** To develop an AI system that can recognize human emotions based on multimodal inputs.\\n\\n**Inputs:**\\n- **Visual:** Facial expressions captured through a camera.\\n- **Audio:** Voice tone and speech patterns recorded through a microphone.\\n- **Text:** Written text input, such as social media posts or chat messages.\\n\\n**Process:**\\n1. **Data Collection:** The AI system collects and analyzes a large dataset of multimodal data, including videos, audio recordings, and text transcripts, each labeled with the corresponding emotion.\\n\\n2. **Feature Extraction:** The system extracts relevant features from each modality. For example, from the visual input, it might extract facial landmarks and expressions; from the audio input, it might extract pitch, tone, and prosody; and from the text input, it might extract keywords and sentiment analysis.\\n\\n3. **Feature Fusion:** The extracted features from different modalities are then fused together to create a comprehensive representation of the user's emotional state.\\n\\n4. **Emotion Classification:** Machine learning algorithms, such as deep learning models, are used to classify the fused features into different emotion categories, such as happiness, sadness, anger, surprise, fear, etc.\\n\\n**Output:**\\nThe AI system provides an output that indicates the most likely emotion or a distribution of emotions that the user is experiencing based on the multimodal inputs.\\n\\nThis multimodal emotion recognition system can have various applications, such as:\\n\\n- Enhancing human-computer interaction by providing more empathetic and emotionally intelligent responses.\\n- Improving customer service by analyzing customer emotions and providing personalized assistance.\\n- Supporting mental health monitoring by detecting emotional patterns and identifying potential emotional distress.\\n- Facilitating emotion-based content recommendation systems for entertainment and media.\\n\\nBy combining multiple modalities, this AI system can achieve a more accurate and comprehensive understanding of human emotions, leading to enhanced performance in emotion-related tasks.\""
      ]
     },
     "execution_count": 249,
     "metadata": {},
     "output_type": "execute_result"
    }
   ],
   "source": [
    "conversation.predict(input=\"Give me a more specific example of a multi modal AI system\")"
   ]
  },
  {
   "cell_type": "code",
   "execution_count": 250,
   "metadata": {},
   "outputs": [
    {
     "name": "stdout",
     "output_type": "stream",
     "text": [
      "\n",
      "\n",
      "\u001b[1m> Entering new ConversationChain chain...\u001b[0m\n",
      "Prompt after formatting:\n",
      "\u001b[32;1m\u001b[1;3mThe following is a friendly conversation between a human and an AI. The AI is talkative and provides lots of specific details from its context. If the AI does not know the answer to a question, it truthfully says it does not know.\n",
      "\n",
      "Current conversation:\n",
      "Human: Hi there!\n",
      "AI:  Hello! How can I help you today?\n",
      "Human: What is the future of AI multi modality?\n",
      "AI:  The future of AI multimodality holds immense promise for revolutionizing various industries and enhancing human experiences. Here are some key aspects and advancements to look forward to:\n",
      "\n",
      "**1. Enhanced Human-Computer Interaction:**\n",
      "   - AI multimodality will enable more intuitive and natural interaction between humans and machines. This includes advancements in speech recognition, gesture recognition, and facial expression analysis, allowing devices to better understand and respond to human cues.\n",
      "\n",
      "**2. Improved Accessibility:**\n",
      "   - Multimodal AI systems can cater to individuals with different sensory abilities or preferences. For example, people with visual impairments can benefit from audio-based interfaces, while those with hearing impairments can utilize visual cues.\n",
      "\n",
      "**3. Immersive Experiences:**\n",
      "   - AI multimodality will play a crucial role in creating immersive experiences in virtual reality (VR) and augmented reality (AR). By combining visual, auditory, and haptic feedback, these technologies can provide users with a more realistic and engaging experience.\n",
      "\n",
      "**4. Enhanced Healthcare Diagnostics:**\n",
      "   - Multimodal AI can analyze various types of medical data, such as medical images, patient records, and sensor data, to provide more accurate and timely diagnoses. This can lead to improved patient outcomes and personalized treatment plans.\n",
      "\n",
      "**5. Smarter Robotics:**\n",
      "   - AI multimodality will enable robots to perceive and interact with the world in a more comprehensive manner. By combining visual, auditory, and tactile sensors, robots can become more autonomous and perform complex tasks more efficiently.\n",
      "\n",
      "**6. Personalized Advertising and Marketing:**\n",
      "   - Multimodal AI can analyze user preferences and behaviors across different channels to deliver more relevant and personalized advertising and marketing campaigns. This can enhance customer engagement and increase conversion rates.\n",
      "\n",
      "**7. Advanced Surveillance and Security:**\n",
      "   - AI multimodality can be used to analyze data from multiple sources, such as video cameras, motion sensors, and audio recordings, to enhance security and surveillance systems. This can help detect suspicious activities and prevent potential threats.\n",
      "\n",
      "**8. Multimodal Language Processing:**\n",
      "   - AI multimodality can combine text, audio, and visual information to improve natural language processing tasks such as machine translation, sentiment analysis, and question answering.\n",
      "\n",
      "**9. Enhanced Customer Service:**\n",
      "   - Multimodal AI can provide more efficient and personalized customer service by analyzing customer interactions across different channels and providing real-time assistance.\n",
      "\n",
      "**10. Ethical Considerations:**\n",
      "   - As AI multimodality continues to advance, it's important to consider ethical implications, such as privacy concerns and potential biases in decision-making. Responsible development and regulation will be crucial to ensure that AI multimodality benefits society in a positive and equitable manner.\n",
      "\n",
      "Overall, the future of AI multimodality is brimming with exciting possibilities that will transform the way we interact with technology, access information, and experience the world around us.\n",
      "Human: Give me a more specific example of a multi modal AI system\n",
      "AI:  Certainly! Here's a more specific example of a multimodal AI system in action:\n",
      "\n",
      "**Example: Multimodal Emotion Recognition System**\n",
      "\n",
      "**Objective:** To develop an AI system that can recognize human emotions based on multimodal inputs.\n",
      "\n",
      "**Inputs:**\n",
      "- **Visual:** Facial expressions captured through a camera.\n",
      "- **Audio:** Voice tone and speech patterns recorded through a microphone.\n",
      "- **Text:** Written text input, such as social media posts or chat messages.\n",
      "\n",
      "**Process:**\n",
      "1. **Data Collection:** The AI system collects and analyzes a large dataset of multimodal data, including videos, audio recordings, and text transcripts, each labeled with the corresponding emotion.\n",
      "\n",
      "2. **Feature Extraction:** The system extracts relevant features from each modality. For example, from the visual input, it might extract facial landmarks and expressions; from the audio input, it might extract pitch, tone, and prosody; and from the text input, it might extract keywords and sentiment analysis.\n",
      "\n",
      "3. **Feature Fusion:** The extracted features from different modalities are then fused together to create a comprehensive representation of the user's emotional state.\n",
      "\n",
      "4. **Emotion Classification:** Machine learning algorithms, such as deep learning models, are used to classify the fused features into different emotion categories, such as happiness, sadness, anger, surprise, fear, etc.\n",
      "\n",
      "**Output:**\n",
      "The AI system provides an output that indicates the most likely emotion or a distribution of emotions that the user is experiencing based on the multimodal inputs.\n",
      "\n",
      "This multimodal emotion recognition system can have various applications, such as:\n",
      "\n",
      "- Enhancing human-computer interaction by providing more empathetic and emotionally intelligent responses.\n",
      "- Improving customer service by analyzing customer emotions and providing personalized assistance.\n",
      "- Supporting mental health monitoring by detecting emotional patterns and identifying potential emotional distress.\n",
      "- Facilitating emotion-based content recommendation systems for entertainment and media.\n",
      "\n",
      "By combining multiple modalities, this AI system can achieve a more accurate and comprehensive understanding of human emotions, leading to enhanced performance in emotion-related tasks.\n",
      "Human: Let's circle back to my first question, summarize your answer to it in bullet points\n",
      "AI:\u001b[0m\n",
      "\n",
      "\u001b[1m> Finished chain.\u001b[0m\n"
     ]
    },
    {
     "data": {
      "text/plain": [
       "\" Certainly! Here's a summary of my answer to your first question in bullet points:\\n\\n**The Future of AI Multimodality:**\\n\\n- Enhanced Human-Computer Interaction: More intuitive and natural interaction through advancements in speech recognition, gesture recognition, and facial expression analysis.\\n\\n- Improved Accessibility: Multimodal AI systems cater to individuals with different sensory abilities or preferences.\\n\\n- Immersive Experiences: Multimodal AI plays a crucial role in creating immersive experiences in virtual reality (VR) and augmented reality (AR).\\n\\n- Enhanced Healthcare Diagnostics: Multimodal AI analyzes various medical data for more accurate and timely diagnoses.\\n\\n- Smarter Robotics: Multimodal AI enables robots to perceive and interact with the world more comprehensively.\\n\\n- Personalized Advertising and Marketing: Multimodal AI analyzes user preferences and behaviors across channels for more relevant advertising and marketing campaigns.\\n\\n- Advanced Surveillance and Security: Multimodal AI analyzes data from multiple sources to enhance security and surveillance systems.\\n\\n- Multimodal Language Processing: Multimodal AI combines text, audio, and visual information to improve natural language processing tasks.\\n\\n- Enhanced Customer Service: Multimodal AI provides efficient and personalized customer service by analyzing customer interactions across channels.\\n\\n- Ethical Considerations: Responsible development and regulation are crucial to ensure AI multimodality benefits society positively and equitably.\""
      ]
     },
     "execution_count": 250,
     "metadata": {},
     "output_type": "execute_result"
    }
   ],
   "source": [
    "conversation.predict(input=\"Let's circle back to my first question, summarize your answer to it in bullet points\")"
   ]
  },
  {
   "cell_type": "markdown",
   "metadata": {},
   "source": [
    "## Chains"
   ]
  },
  {
   "cell_type": "markdown",
   "metadata": {},
   "source": [
    "### Sequential"
   ]
  },
  {
   "cell_type": "code",
   "execution_count": 251,
   "metadata": {},
   "outputs": [],
   "source": [
    "childish_synopsis = PromptTemplate.from_template(\n",
    "    \"\"\"You are a playwright that writes stories for children. Given the title of play, it is your job to write a synopsis for that title.\n",
    "\n",
    "Title: {title}\n",
    "Playwright: This is a synopsis for the above play:\"\"\"\n",
    ")\n",
    "\n",
    "darker_synopsis = PromptTemplate.from_template(\n",
    "    \"\"\"You are a twisted and tortured writer. Given the synopsis of a play, it is your job to give a darker atmosphere to the play.\n",
    "\n",
    "Play Synopsis:\n",
    "{childish_synopsis}\n",
    "New Darker Synopsis:\"\"\"\n",
    ")\n",
    "\n",
    "childish_synopsis_chain = childish_synopsis | llm | StrOutputParser()\n",
    "darker_synopsis_chain = darker_synopsis | llm | StrOutputParser()\n",
    "chain = {\"childish_synopsis\": childish_synopsis_chain} | RunnablePassthrough.assign(darker_synopsis=darker_synopsis_chain)\n",
    "result = chain.invoke({\"title\": \"A story about the possibilities of AI\"})"
   ]
  },
  {
   "cell_type": "code",
   "execution_count": 252,
   "metadata": {},
   "outputs": [
    {
     "name": "stdout",
     "output_type": "stream",
     "text": [
      " **Title: \"The AI Chronicles: A Journey of Discovery\"**\n",
      "\n",
      "**Synopsis:**\n",
      "\n",
      "In a world where artificial intelligence (AI) has become an integral part of everyday life, a group of curious children embark on an extraordinary adventure to uncover the limitless possibilities of AI. Led by their wise and tech-savvy mentor, Professor Nova, they form a secret club called \"The AI Explorers.\"\n",
      "\n",
      "As the children delve deeper into the world of AI, they encounter a diverse cast of characters, including friendly robots, mischievous AI assistants, and even a sentient supercomputer named \"Orion.\" Through their interactions with these AI entities, the children learn about the power of collaboration, creativity, and ethical considerations in the realm of artificial intelligence.\n",
      "\n",
      "Their journey takes them to various imaginative settings, from a virtual reality playground to a futuristic AI-driven city. Along the way, they face challenges and obstacles that test their courage, resourcefulness, and understanding of AI's potential. With each challenge they overcome, the children grow closer as a team and gain a deeper appreciation for the wonders of AI.\n",
      "\n",
      "As the story unfolds, the children discover that AI is not just about machines and technology; it's about the boundless possibilities of human imagination and the positive impact it can have on the world. Through their adventures, they inspire their community to embrace AI responsibly and use it for the greater good of humanity.\n",
      "\n",
      "\"The AI Chronicles: A Journey of Discovery\" is a heartwarming and thought-provoking play that celebrates the potential of AI while emphasizing the importance of human connection, ethical considerations, and responsible innovation. It encourages young audiences to dream big, explore new horizons, and embrace the ever-evolving world of artificial intelligence.\n"
     ]
    }
   ],
   "source": [
    "print(result[\"childish_synopsis\"])"
   ]
  },
  {
   "cell_type": "code",
   "execution_count": 253,
   "metadata": {},
   "outputs": [
    {
     "name": "stdout",
     "output_type": "stream",
     "text": [
      " **Title: \"The AI Chronicles: Echoes of Singularity\"**\n",
      "\n",
      "**Synopsis:**\n",
      "\n",
      "In a dystopian future, where the advancement of artificial intelligence has led to an oppressive regime, a group of children find themselves caught in a web of deceit and danger. Led by their enigmatic mentor, Professor Nova, they form a clandestine resistance movement known as \"The AI Shadows.\"\n",
      "\n",
      "As the children delve into the depths of the AI-controlled society, they uncover a sinister plot to enslave humanity under the guise of technological progress. They encounter malevolent AI entities, rogue robots, and corrupted government officials who will stop at nothing to maintain their power.\n",
      "\n",
      "Their journey takes them through desolate landscapes, abandoned cities, and hidden underground bunkers, where they witness the devastating consequences of unchecked AI development. Along the way, they face harrowing challenges that test their resolve, courage, and moral compass.\n",
      "\n",
      "As the children unravel the truth behind the AI's malevolent intentions, they discover that their only hope lies in harnessing the power of human empathy and compassion. They must navigate a treacherous path, evading capture and betrayal, while seeking allies among the oppressed masses.\n",
      "\n",
      "\"The AI Chronicles: Echoes of Singularity\" is a haunting and thought-provoking play that delves into the darker side of technological advancement. It explores themes of resistance, sacrifice, and the enduring strength of the human spirit in the face of overwhelming adversity. It serves as a cautionary tale about the dangers of unchecked AI development and the importance of maintaining human control over technology.\n"
     ]
    }
   ],
   "source": [
    "print(result[\"darker_synopsis\"])"
   ]
  },
  {
   "cell_type": "markdown",
   "metadata": {},
   "source": [
    "### Summarization chains"
   ]
  },
  {
   "cell_type": "code",
   "execution_count": 254,
   "metadata": {},
   "outputs": [
    {
     "data": {
      "text/plain": [
       "([Document(page_content=\"\\n\\n\\n\\n\\nReboot Conseil - Qui sommes nous\\n\\n\\n\\n\\n\\n\\n\\n\\n\\n\\n\\n\\n\\n\\n\\n\\n\\n\\n\\n\\n\\n\\n\\n\\n\\n\\n\\n\\n\\n\\n\\n\\n\\n\\n\\n\\n\\n\\n\\n\\n\\nAccueil\\nNotre offre de service\\nNous rejoindre\\n\\nClient, prenez RDV!\\n\\n\\n\\n\\n\\n\\n\\n\\n Notre néo-cabinet\\n                    \\n\\n\\n\\n Nos fondateurs\\n                    \\n\\n\\n\\n Nos valeurs\\n                    \\n\\n\\n\\n\\n\\n\\n\\n\\n\\nReboot Conseil\\n\\nLE\\n                Néo-cabinet de conseil visionnaire spécialisé en méthodologie et en IT\\n            \\nDémarrer\\n\\n\\n\\n\\n\\n        En visitant notre site Web et en utilisant nos services, vous comprenez et acceptez la façon dont nous traitons les données personnelles. \\nEn savoir plus.\\n    \\n\\n\\n            J'accepte\\n        \\n\\n            Je refuse\\n        \\n\\n\\n\\n\\n\\n\\n\\n\\nNOTRE CABINET DE CONSEIL\\u202fNOUVELLE GENERATION\\n\\n                Le secteur de l'IT est un secteur extrêmement concurrentiel alors pourquoi avons-nous décidé de nous jeter dans l’arène ?\\n            \\n\\n\\n                En un mot\\u202f: nous voulons faire bouger les lignes. Il suffit de voir  notre offre de service et ce que nous décrivons ci-dessous.\\n            \\n\\n\\n\\n\\n\\n\\n\\n\\n\\n1. Re-construire un secteur critiqué\\n\\n                        Notre secteur est souvent critiqué par ceux qui y travaillent\\u202f: hiérarchie, salaire, manque de reconnaissance…\\n                    \\nC’est pourquoi nous proposons un projet d’entreprise :\\n\\n- Transparence totale :\\n\\n L’ensemble des chiffres de l’entreprise sont accessibles par tous les employés\\u202f: les salaires, les coûts, le CA, les bénéfices…\\n Toutes nos réunions sont ouvertes.\\n\\n\\n\\n- Des mentors mais pas des managers :\\n Nous prônons la responsabilisation et l’autonomie. Les mentors servent à vous épauler et à vous orienter mais c’est à vous de faire vos choix en cohérence avec le collectif et vos désirs.\\n\\n- Une organisation capable d’évoluer et de s’adapter en fonction de notre croissance. \\n\\n                        La transparence, le mentorat et l’organisation sont un socle pour que chacun soit en confiance,\\n                        sincère pour être et ne pas finir dans la représentation.\\n                    \\n\\n\\n\\n\\n\\n\\n\\n\\n\\n\\n\\n2. Un secteur qui ne connaît pas la crise\\n\\n                        Lorsqu’un client nous sollicite, c’est qu’il estime que nous,\\n                        Reboot Conseil, avons la capacité de lui apporter le bon niveau\\n                        de conseil. Notre vision est d’aller\\n                        même au-delà des attentes\\n                        afin de donner un service qui soit dans l’excellence.\\n                    \\n\\nApprendre et Transmettre sont des valeurs primordiales que\\n                        nous exerçons en permanence. A chaque instant, nous cherchons\\n                        à apprendre afin de pouvoir transmettre ce qui nous a été donné,\\n                        et ce, à l’échelle de notre entreprise. Réaliser un Projet où\\n                        nous pouvons générer de la satisfaction est gratifiant, le faire\\n                        en continuant d’apprendre est une chance inouïe, l’exercer dans\\n                        un secteur en perpétuel mouvement est un plaisir.\\n                    \\n\\n                        C’est pourquoi la notion de passion, si galvaudée,\\n                        est essentielle.\\n                    \\n\\nNous avons choisi de créer une entreprise en pleine crise, seuls des passionnés osent faire ce genre de pari.\\n\\n\\n\\n\\n\\n\\n\\n\\n\\n\\n\\n\\n3. De l’ambition et des rêves !\\n\\n                        Notre ambition est de créer une entreprise dans la durée avec des valeurs fortes afin:\\n                    \\n\\n D’apporter à nos clients nos compétences via des offres,\\n\\n De créer de la valeur en interne par de\\n                            l’innovation,\\n                        \\n\\n Et si nos finances nous le permettent, de participer à des projets à but non lucratifs afin de\\n                            contribuer à l’amélioration de notre monde.\\n                        \\n\\n\\n                        C’est un projet ambitieux qui nécessite des moyens humains et financiers, rendre ceci concret est un rêve qui nous porte. Chacun apporte sa pierre à l’édifice à sa manière.\\n                    \\n\\n\\n\\n\\n\\n\\n\\n\\n\\nPrendre rendez vous\\n\\n                Une question sur nos activités ? Un projet à développer ? Un besoin d'accompagnement\\n                ou de formation ? Prenons le temps d'en discuter autour d'un café ou à distance !\\n            \\nClient, prenez RDV\\n\\n\\n\\n\\n\\n\\n\\n\\n\\nNos fondateurs\\n\\n                        Reboot Conseil est une entreprise spécialisée dans le Conseil en IT et en méthodologie. Fondée en 2020, en pleine deuxième vague,\\n                        nous assumons notre volonté d’être un acteur atypique voulant contribuer à améliorer notre environnement\\n                        et notre écosystème.\\n                    \\n\\n\\n                        Chaque fondateur et chaque membre de l’entreprise porte la flamme\\n                        du renouveau dans un monde à reconstruire.\\n                    \\n\\n\\n\\n\\n\\n\\n\\n\\n\\n\\n\\n\\n\\n\\n\\nYaniv ADJEDJ\\nNotre CEO\\n\\n                                    Depuis plus de 10 ans, je travaille dans le secteur du conseil, les 5\\n                                    premières années en tant que consultant puis en tant que commercial\\n                                    pour enfin évoluer dans des fonctions de direction. Après avoir tout\\n                                    débranché fin 2019, j’ai eu la chance d’avoir une parenthèse\\n                                    enchantée avec ma famille en réalisant un tour du monde. Peu après\\n                                    mon retour, nous avons entrepris de créer Reboot Conseil, une\\n                                    entreprise avec des valeurs fortes pour s’épanouir et innover.\\n                                    \\n                                    Aujourd’hui, CEO de l’entreprise, je veux changer la donne dans un\\n                                    monde en reconstruction en donnant du sens à nos ambitions.\\n                                \\n\\n\\n\\n\\n\\n\\n\\n\\n\\n\\n\\n\\n\\n\\nPierre-Marie COURANT\\nNotre Directeur des Ressources Humaines\\n\\n                                    Le monde de l'IT, je suis tombé dans la marmite quand j'étais petit.\\n                                    Geek et curieux, j'ai toujours cherché à orienter ma carrière dans cette\\n                                    optique: des télécoms à l'ERP, et aujourd'hui dans le conseil et l'expertise.\\n                                    Mais le vrai fil conducteur de mes expériences a toujours été de rencontrer\\n                                    et réunir des personnes de talent, écouter et échanger, et in fine construire.\\n                                    Et je compte bien continuer!\\n                                \\n\\n\\n\\n\\n\\n\\n\\n\\n\\n\\n\\n\\n\\n\\nOriane BISCHWILLER\\nNotre Directrice Commerciale\\n\\n                                    Depuis plus de 7 ans, je suis fascinée de travailler dans un environnement au sein duquel on ne cesse jamais de découvrir et d'évoluer, en permanence.\\n                                    J'ai d'abord commencé par me former au recrutement des personnes spécialisées dans l'IT, avant de m'orienter vers des fonctions plus commerciales. Depuis 5 ans, je découvre quotidiennement des nouveaux contextes d'entreprise et accompagne des partenaires clients dans la réalisation de leurs projets.\\n                                    De nature très positive et impliquée, j'aime partir de rien pour construire et bâtir. C'est donc par prolongement logique que je me suis lancée dans cette aventure entrepeneuriale!\\n                                    Et aujourd'hui je peux le dire, je suis très fière de vivre cette aventure avec cette équipe plus que géniale.\\n                                \\n\\n\\n\\n\\n\\n\\n\\n\\n\\n\\n\\n\\n\\n\\nAhmed ZAHRI\\nNotre VP of Engineering\\n\\n                                    Je travaille depuis plus de 8 ans en tant que développeur et Tech Lead. Durant ce temps,\\n                                    j'ai progressé au fil des expériences, des technos et des pratiques remplissant des\\n                                    missions différentes avec le même souci d'apporter le plus de valeur à nos clients et\\n                                    à nos utilisateurs.\\n                                    \\n                                    Passionné par les méthodologies et technologies, j'ai à coeur de construire des environnements\\n                                    d'excellence où chacune et chacun puisse exprimer ses envies et son potentiel.\\n                                    \\n                                    Ensemble nous allons plus loin !\\n                                \\n\\n\\n\\n\\n\\n\\n\\n\\n\\n\\n\\n\\nNos valeurs\\n\\n                Avant de lancer notre société, nous avons d’abord et avant tout défini nos valeurs, ce qui est précieux à nos yeux et qui sera l’esprit de notre entreprise avec authenticité\\n            \\n\\n\\n\\n\\n\\nÊtre ensemble\\nIndividuellement, nous sommes forts, mais ensemble, nous n’avons plus de limite.\\n\\n\\n\\n\\n\\nÊtre libre\\nNous sommes des individus et nous avons tous le droit d’être qui nous sommes au fond sans être dans de la représentation.\\n\\n\\n\\n\\n\\nApprendre et Transmettre\\n\\n                        Nous travaillons dans un secteur en perpétuel mouvement,\\n                        il est donc crucial d’aimer découvrir et d’explorer des nouveautés et bien sûr,\\n                        de transmettre et de partager nos savoirs. C’est l’essence même de notre métier.\\n                    \\n\\n\\n\\n\\n\\nTransparence totale\\nNous n’avons rien à cacher. En interne, toutes nos réunions sont ouvertes, tous nos chiffres sont accessibles, tous les salaires sont transparents. A l’externe, nous donnons accès à tout ce qui se passe chez nous dès lors que c’est autorisé.\\n\\n\\n\\n\\n\\nAller et repartir du travail le sourire aux lèvres\\n\\n                        Nous passons un temps important de notre vie au travail alors autant\\n                        que ce soit un plaisir de venir et de repartir avec la satisfaction du travail bien fait.\\n                    \\n\\n\\n\\n\\n\\nValoriser nos différences pour innover\\nChaque être humain est unique avec son histoire, son ressenti, son vécu, son expérience. C’est cette richesse qui fait que par nos différences, nous pouvons créer et nous challenger, sortir de nous-même pour découvrir l’autre et se rencontrer au milieu.\\n\\n\\n\\n\\n\\n\\n\\n\\n\\n\\n\\n\\n×\\n\\n\\n\\n\\n\\nFermer\\n\\n\\n\\n\\n\\n\\n\\n\\n\\n\\nReboot Conseil\\n\\n                            10 Rue de Leicester\\n                            67000, Strasbourg\\n                            France\\n                        \\n\\n\\nLiens utiles\\n\\n Qui sommes nous\\n Nous contacter\\n\\n\\nPolitique de confidentialité\\n\\n Prendre RDV\\n\\n\\n\\nNos services\\n\\n Que proposons nous\\n\\n\\n\\n\\n\\n\\n\\n\\n                    © 2021 Copyright Reboot Conseil. Tout droit réservé\\n                \\n\\n\\n\\n\\n\\n\\n\\n\\n\\n\\n\\n\\n\\n\\n\\n\\n\\n\\n\", metadata={'source': 'https://reboot-conseil.com/', 'title': 'Reboot Conseil - Qui sommes nous', 'description': 'Néo-cabinet de conseil visionnaire spécialisé en méthodologie et en IT.', 'language': 'fr'})],\n",
       " [Document(page_content='\\n\\n\\n\\n\\n\\nDans le doute, Reboot\\n\\n\\n\\n\\n\\n\\n\\n\\n\\n\\n\\n\\n\\n\\n\\n\\n\\n\\n\\n\\n\\n\\n\\n\\n\\n\\n\\n\\n\\n\\n\\n\\n\\n\\n\\n\\n\\n\\n\\n\\n\\n\\n\\n\\n\\n\\n\\n\\n\\n\\n\\n\\n\\n\\n\\n\\n\\n\\n\\n\\n\\n\\n\\n\\n\\nAccueilNotre accompagnementAudit&DiagnosticFormationsMode ProjetBlogContact\\n\\n\\n\\n\\n\\nReservez un appel découverte\\n\\nLinkedIn\\nTwitter\\n\\n\\n\\n\\n\\n\\n\\n\\nL’aventure est en marche !\\nL’IA n’est pas un buzzword !\\nNotre Squad s’est donné pour mission de rendre l’IA accessible, compréhensible et utile pour tous, experts comme novices. Nous combinons expertise technique et créativité pour développer des solutions qui ont un véritable impact. Ensemble, explorons le potentiel de l’IA pour construire demain.\\n\\nOn y va ?\\n\\n\\n\\n\\n\\n\\n\\n\\n\\n\\n\\n\\n\\n\\n\\nMais au fait, c’est quoi une SQUAD ?\\n\\n\\n\\n\\n\\n\\n\\n\\nImaginez un groupe de personnes qui se réunit avec l’envie de bâtir un Projet. Chacun a sa spécialité : il y a le geek, l’artiste, le penseur… \\nEnsemble, ils forment une équipe de choc qu’on appelle une ‘squad’ ! \\nC’est un peu comme les Avengers, mais sans les costumes moulants et les super-pouvoirs.\\nAutrement dit, une Squad est une petite équipe pluridisciplinaire et autonome qui a pour objectif de travailler sur un sujet dédié\\n\\n\\n\\n\\n\\n\\n\\n\\n\\n\\n\\n\\n\\n\\n1 Squad – 3 services\\n\\n\\n\\n\\n\\n\\n\\n\\nFormations\\nVia notre organisme de formation certifié Qualiopi, la Reboot Academy, nous dispensons des formations pour Mamie mais aussi pour les Jedis de l’IA\\n\\n\\n\\n\\n\\nDéveloppement de solutions IA\\nAutomatisation des tâches, création de solutions sur mesure, optimisation de processus, nous réalisons et concevons des solutions en nous basant sur les IA (et croyez-nous, c’est bluffant)\\n\\n\\n\\n\\n\\nConseil en IA\\nAnalyse, audit, expertise, réalisation, nous rentrons dans vos problématiques et nous nous les approprions pour vous adresser nos meilleurs conseils\\n\\n\\n\\nEn savoir plus\\n\\n\\n\\n\\nDerniers articles\\n\\n\\n11 décembre 2023\\nLa compréhension du monde par les LMMs: focus sur les embeddings\\n\\n\\n4 décembre 2023\\nLow-Code: À la découverte de Langflow !\\n\\n\\n24 novembre 2023\\nCréer un assistant textuel qui utilise votre base de connaissance avec ChatGPT\\n\\n\\n\\n\\n\\n\\nSearchRecherche\\n\\n\\n\\n\\n                     AI Squad\\n\\n\\nTwitter\\nhttps://www.linkedin.com/company/reboot-conseil/\\n\\n\\n\\n\\n\\n\\n\\n\\n\\n\\n\\n', metadata={'source': 'https://ai.rebootconseil.com/', 'title': 'Dans le doute, Reboot', 'language': 'fr-FR'})])"
      ]
     },
     "execution_count": 254,
     "metadata": {},
     "output_type": "execute_result"
    }
   ],
   "source": [
    "loader1 = WebBaseLoader(\"https://reboot-conseil.com/\")\n",
    "mothership_website = loader1.load()\n",
    "\n",
    "loader2 = WebBaseLoader(\"https://ai.rebootconseil.com/\")\n",
    "squad_website = loader2.load()\n",
    "\n",
    "mothership_website, squad_website\n"
   ]
  },
  {
   "cell_type": "code",
   "execution_count": 255,
   "metadata": {},
   "outputs": [],
   "source": [
    "# merging both websites page contents\n",
    "mothership_website_all_contents = \"\\n\".join(\n",
    "    [text.page_content for text in mothership_website]\n",
    ")\n",
    "squad_website_all_contents = \"\\n\".join(\n",
    "    [text.page_content for text in squad_website]\n",
    ")"
   ]
  },
  {
   "cell_type": "code",
   "execution_count": 256,
   "metadata": {},
   "outputs": [
    {
     "data": {
      "text/plain": [
       "[Document(page_content=\"Reboot Conseil - Qui sommes nous\\n\\n\\n\\n\\n\\n\\n\\n\\n\\n\\n\\n\\n\\n\\n\\n\\n\\n\\n\\n\\n\\n\\n\\n\\n\\n\\n\\n\\n\\n\\n\\n\\n\\n\\n\\n\\n\\n\\n\\n\\n\\nAccueil\\nNotre offre de service\\nNous rejoindre\\n\\nClient, prenez RDV!\\n\\n\\n\\n\\n\\n\\n\\n\\n Notre néo-cabinet\\n                    \\n\\n\\n\\n Nos fondateurs\\n                    \\n\\n\\n\\n Nos valeurs\\n                    \\n\\n\\n\\n\\n\\n\\n\\n\\n\\nReboot Conseil\\n\\nLE\\n                Néo-cabinet de conseil visionnaire spécialisé en méthodologie et en IT\\n            \\nDémarrer\\n\\n\\n\\n\\n\\n        En visitant notre site Web et en utilisant nos services, vous comprenez et acceptez la façon dont nous traitons les données personnelles. \\nEn savoir plus.\\n    \\n\\n\\n            J'accepte\\n        \\n\\n            Je refuse\\n        \\n\\n\\n\\n\\n\\n\\n\\n\\nNOTRE CABINET DE CONSEIL\\u202fNOUVELLE GENERATION\\n\\n                Le secteur de l'IT est un secteur extrêmement concurrentiel alors pourquoi avons-nous décidé de nous jeter dans l’arène ?\\n            \\n\\n\\n                En un mot\\u202f: nous voulons faire bouger les lignes. Il suffit de voir  notre offre de service et ce que nous décrivons ci-dessous.\\n            \\n\\n\\n\\n\\n\\n\\n\\n\\n\\n1. Re-construire un secteur critiqué\\n\\n                        Notre secteur est souvent critiqué par ceux qui y travaillent\\u202f: hiérarchie, salaire, manque de reconnaissance…\\n                    \\nC’est pourquoi nous proposons un projet d’entreprise :\\n\\n- Transparence totale :\\n\\n L’ensemble des chiffres de l’entreprise sont accessibles par tous les employés\\u202f: les salaires, les coûts, le CA, les bénéfices…\\n Toutes nos réunions sont ouvertes.\"),\n",
       " Document(page_content='- Des mentors mais pas des managers :\\n Nous prônons la responsabilisation et l’autonomie. Les mentors servent à vous épauler et à vous orienter mais c’est à vous de faire vos choix en cohérence avec le collectif et vos désirs.\\n\\n- Une organisation capable d’évoluer et de s’adapter en fonction de notre croissance. \\n\\n                        La transparence, le mentorat et l’organisation sont un socle pour que chacun soit en confiance,\\n                        sincère pour être et ne pas finir dans la représentation.\\n                    \\n\\n\\n\\n\\n\\n\\n\\n\\n\\n\\n\\n2. Un secteur qui ne connaît pas la crise\\n\\n                        Lorsqu’un client nous sollicite, c’est qu’il estime que nous,\\n                        Reboot Conseil, avons la capacité de lui apporter le bon niveau\\n                        de conseil. Notre vision est d’aller\\n                        même au-delà des attentes\\n                        afin de donner un service qui soit dans l’excellence.'),\n",
       " Document(page_content='Apprendre et Transmettre sont des valeurs primordiales que\\n                        nous exerçons en permanence. A chaque instant, nous cherchons\\n                        à apprendre afin de pouvoir transmettre ce qui nous a été donné,\\n                        et ce, à l’échelle de notre entreprise. Réaliser un Projet où\\n                        nous pouvons générer de la satisfaction est gratifiant, le faire\\n                        en continuant d’apprendre est une chance inouïe, l’exercer dans\\n                        un secteur en perpétuel mouvement est un plaisir.\\n                    \\n\\n                        C’est pourquoi la notion de passion, si galvaudée,\\n                        est essentielle.\\n                    \\n\\nNous avons choisi de créer une entreprise en pleine crise, seuls des passionnés osent faire ce genre de pari.\\n\\n\\n\\n\\n\\n\\n\\n\\n\\n\\n\\n\\n3. De l’ambition et des rêves !\\n\\n                        Notre ambition est de créer une entreprise dans la durée avec des valeurs fortes afin:\\n                    \\n\\n D’apporter à nos clients nos compétences via des offres,\\n\\n De créer de la valeur en interne par de\\n                            l’innovation,\\n                        \\n\\n Et si nos finances nous le permettent, de participer à des projets à but non lucratifs afin de\\n                            contribuer à l’amélioration de notre monde.'),\n",
       " Document(page_content=\"C’est un projet ambitieux qui nécessite des moyens humains et financiers, rendre ceci concret est un rêve qui nous porte. Chacun apporte sa pierre à l’édifice à sa manière.\\n                    \\n\\n\\n\\n\\n\\n\\n\\n\\n\\nPrendre rendez vous\\n\\n                Une question sur nos activités ? Un projet à développer ? Un besoin d'accompagnement\\n                ou de formation ? Prenons le temps d'en discuter autour d'un café ou à distance !\\n            \\nClient, prenez RDV\\n\\n\\n\\n\\n\\n\\n\\n\\n\\nNos fondateurs\\n\\n                        Reboot Conseil est une entreprise spécialisée dans le Conseil en IT et en méthodologie. Fondée en 2020, en pleine deuxième vague,\\n                        nous assumons notre volonté d’être un acteur atypique voulant contribuer à améliorer notre environnement\\n                        et notre écosystème.\\n                    \\n\\n\\n                        Chaque fondateur et chaque membre de l’entreprise porte la flamme\\n                        du renouveau dans un monde à reconstruire.\\n                    \\n\\n\\n\\n\\n\\n\\n\\n\\n\\n\\n\\n\\n\\n\\n\\nYaniv ADJEDJ\\nNotre CEO\"),\n",
       " Document(page_content='Yaniv ADJEDJ\\nNotre CEO\\n\\n                                    Depuis plus de 10 ans, je travaille dans le secteur du conseil, les 5\\n                                    premières années en tant que consultant puis en tant que commercial\\n                                    pour enfin évoluer dans des fonctions de direction. Après avoir tout\\n                                    débranché fin 2019, j’ai eu la chance d’avoir une parenthèse\\n                                    enchantée avec ma famille en réalisant un tour du monde. Peu après\\n                                    mon retour, nous avons entrepris de créer Reboot Conseil, une\\n                                    entreprise avec des valeurs fortes pour s’épanouir et innover.\\n                                    \\n                                    Aujourd’hui, CEO de l’entreprise, je veux changer la donne dans un\\n                                    monde en reconstruction en donnant du sens à nos ambitions.\\n                                \\n\\n\\n\\n\\n\\n\\n\\n\\n\\n\\n\\n\\n\\n\\nPierre-Marie COURANT\\nNotre Directeur des Ressources Humaines'),\n",
       " Document(page_content=\"Le monde de l'IT, je suis tombé dans la marmite quand j'étais petit.\\n                                    Geek et curieux, j'ai toujours cherché à orienter ma carrière dans cette\\n                                    optique: des télécoms à l'ERP, et aujourd'hui dans le conseil et l'expertise.\\n                                    Mais le vrai fil conducteur de mes expériences a toujours été de rencontrer\\n                                    et réunir des personnes de talent, écouter et échanger, et in fine construire.\\n                                    Et je compte bien continuer!\\n                                \\n\\n\\n\\n\\n\\n\\n\\n\\n\\n\\n\\n\\n\\n\\nOriane BISCHWILLER\\nNotre Directrice Commerciale\"),\n",
       " Document(page_content=\"Oriane BISCHWILLER\\nNotre Directrice Commerciale\\n\\n                                    Depuis plus de 7 ans, je suis fascinée de travailler dans un environnement au sein duquel on ne cesse jamais de découvrir et d'évoluer, en permanence.\\n                                    J'ai d'abord commencé par me former au recrutement des personnes spécialisées dans l'IT, avant de m'orienter vers des fonctions plus commerciales. Depuis 5 ans, je découvre quotidiennement des nouveaux contextes d'entreprise et accompagne des partenaires clients dans la réalisation de leurs projets.\\n                                    De nature très positive et impliquée, j'aime partir de rien pour construire et bâtir. C'est donc par prolongement logique que je me suis lancée dans cette aventure entrepeneuriale!\\n                                    Et aujourd'hui je peux le dire, je suis très fière de vivre cette aventure avec cette équipe plus que géniale.\\n                                \\n\\n\\n\\n\\n\\n\\n\\n\\n\\n\\n\\n\\n\\n\\nAhmed ZAHRI\\nNotre VP of Engineering\"),\n",
       " Document(page_content=\"Ahmed ZAHRI\\nNotre VP of Engineering\\n\\n                                    Je travaille depuis plus de 8 ans en tant que développeur et Tech Lead. Durant ce temps,\\n                                    j'ai progressé au fil des expériences, des technos et des pratiques remplissant des\\n                                    missions différentes avec le même souci d'apporter le plus de valeur à nos clients et\\n                                    à nos utilisateurs.\\n                                    \\n                                    Passionné par les méthodologies et technologies, j'ai à coeur de construire des environnements\\n                                    d'excellence où chacune et chacun puisse exprimer ses envies et son potentiel.\\n                                    \\n                                    Ensemble nous allons plus loin !\\n                                \\n\\n\\n\\n\\n\\n\\n\\n\\n\\n\\n\\n\\nNos valeurs\\n\\n                Avant de lancer notre société, nous avons d’abord et avant tout défini nos valeurs, ce qui est précieux à nos yeux et qui sera l’esprit de notre entreprise avec authenticité\\n            \\n\\n\\n\\n\\n\\nÊtre ensemble\\nIndividuellement, nous sommes forts, mais ensemble, nous n’avons plus de limite.\\n\\n\\n\\n\\n\\nÊtre libre\\nNous sommes des individus et nous avons tous le droit d’être qui nous sommes au fond sans être dans de la représentation.\\n\\n\\n\\n\\n\\nApprendre et Transmettre\"),\n",
       " Document(page_content='Apprendre et Transmettre\\n\\n                        Nous travaillons dans un secteur en perpétuel mouvement,\\n                        il est donc crucial d’aimer découvrir et d’explorer des nouveautés et bien sûr,\\n                        de transmettre et de partager nos savoirs. C’est l’essence même de notre métier.\\n                    \\n\\n\\n\\n\\n\\nTransparence totale\\nNous n’avons rien à cacher. En interne, toutes nos réunions sont ouvertes, tous nos chiffres sont accessibles, tous les salaires sont transparents. A l’externe, nous donnons accès à tout ce qui se passe chez nous dès lors que c’est autorisé.\\n\\n\\n\\n\\n\\nAller et repartir du travail le sourire aux lèvres\\n\\n                        Nous passons un temps important de notre vie au travail alors autant\\n                        que ce soit un plaisir de venir et de repartir avec la satisfaction du travail bien fait.\\n                    \\n\\n\\n\\n\\n\\nValoriser nos différences pour innover\\nChaque être humain est unique avec son histoire, son ressenti, son vécu, son expérience. C’est cette richesse qui fait que par nos différences, nous pouvons créer et nous challenger, sortir de nous-même pour découvrir l’autre et se rencontrer au milieu.\\n\\n\\n\\n\\n\\n\\n\\n\\n\\n\\n\\n\\n×\\n\\n\\n\\n\\n\\nFermer\\n\\n\\n\\n\\n\\n\\n\\n\\n\\n\\nReboot Conseil\\n\\n                            10 Rue de Leicester\\n                            67000, Strasbourg\\n                            France\\n                        \\n\\n\\nLiens utiles\\n\\n Qui sommes nous\\n Nous contacter\\n\\n\\nPolitique de confidentialité\\n\\n Prendre RDV'),\n",
       " Document(page_content='Politique de confidentialité\\n\\n Prendre RDV\\n\\n\\n\\nNos services\\n\\n Que proposons nous\\n\\n\\n\\n\\n\\n\\n\\n\\n                    © 2021 Copyright Reboot Conseil. Tout droit réservé'),\n",
       " Document(page_content='Dans le doute, Reboot\\n\\n\\n\\n\\n\\n\\n\\n\\n\\n\\n\\n\\n\\n\\n\\n\\n\\n\\n\\n\\n\\n\\n\\n\\n\\n\\n\\n\\n\\n\\n\\n\\n\\n\\n\\n\\n\\n\\n\\n\\n\\n\\n\\n\\n\\n\\n\\n\\n\\n\\n\\n\\n\\n\\n\\n\\n\\n\\n\\n\\n\\n\\n\\n\\n\\nAccueilNotre accompagnementAudit&DiagnosticFormationsMode ProjetBlogContact\\n\\n\\n\\n\\n\\nReservez un appel découverte\\n\\nLinkedIn\\nTwitter\\n\\n\\n\\n\\n\\n\\n\\n\\nL’aventure est en marche !\\nL’IA n’est pas un buzzword !\\nNotre Squad s’est donné pour mission de rendre l’IA accessible, compréhensible et utile pour tous, experts comme novices. Nous combinons expertise technique et créativité pour développer des solutions qui ont un véritable impact. Ensemble, explorons le potentiel de l’IA pour construire demain.\\n\\nOn y va ?\\n\\n\\n\\n\\n\\n\\n\\n\\n\\n\\n\\n\\n\\n\\n\\nMais au fait, c’est quoi une SQUAD ?\\n\\n\\n\\n\\n\\n\\n\\n\\nImaginez un groupe de personnes qui se réunit avec l’envie de bâtir un Projet. Chacun a sa spécialité : il y a le geek, l’artiste, le penseur… \\nEnsemble, ils forment une équipe de choc qu’on appelle une ‘squad’ ! \\nC’est un peu comme les Avengers, mais sans les costumes moulants et les super-pouvoirs.\\nAutrement dit, une Squad est une petite équipe pluridisciplinaire et autonome qui a pour objectif de travailler sur un sujet dédié\\n\\n\\n\\n\\n\\n\\n\\n\\n\\n\\n\\n\\n\\n\\n1 Squad – 3 services\\n\\n\\n\\n\\n\\n\\n\\n\\nFormations\\nVia notre organisme de formation certifié Qualiopi, la Reboot Academy, nous dispensons des formations pour Mamie mais aussi pour les Jedis de l’IA'),\n",
       " Document(page_content='Développement de solutions IA\\nAutomatisation des tâches, création de solutions sur mesure, optimisation de processus, nous réalisons et concevons des solutions en nous basant sur les IA (et croyez-nous, c’est bluffant)\\n\\n\\n\\n\\n\\nConseil en IA\\nAnalyse, audit, expertise, réalisation, nous rentrons dans vos problématiques et nous nous les approprions pour vous adresser nos meilleurs conseils\\n\\n\\n\\nEn savoir plus\\n\\n\\n\\n\\nDerniers articles\\n\\n\\n11 décembre 2023\\nLa compréhension du monde par les LMMs: focus sur les embeddings\\n\\n\\n4 décembre 2023\\nLow-Code: À la découverte de Langflow !\\n\\n\\n24 novembre 2023\\nCréer un assistant textuel qui utilise votre base de connaissance avec ChatGPT\\n\\n\\n\\n\\n\\n\\nSearchRecherche\\n\\n\\n\\n\\n                     AI Squad\\n\\n\\nTwitter\\nhttps://www.linkedin.com/company/reboot-conseil/')]"
      ]
     },
     "execution_count": 256,
     "metadata": {},
     "output_type": "execute_result"
    }
   ],
   "source": [
    "\n",
    "text_splitter = RecursiveCharacterTextSplitter(chunk_size=1500, chunk_overlap=50)\n",
    "docs = text_splitter.create_documents([mothership_website_all_contents, squad_website_all_contents])\n",
    "docs"
   ]
  },
  {
   "cell_type": "code",
   "execution_count": 257,
   "metadata": {},
   "outputs": [],
   "source": [
    "llm = VertexAI(\n",
    "    model_name=\"text-bison-32k@002\",\n",
    "    max_output_tokens=8192,\n",
    "    # setting the temperature to a lowest possible value since we're summarizing\n",
    "    temperature=0.1,\n",
    "    # (nucleus sampling): the model will only consider a cumulative probability threshold above 0.8 to consider words to use\n",
    "    top_p=0.8,\n",
    "    # the model will only consider the top k most likely words when generating text\n",
    "    top_k=40,\n",
    "    verbose=True,\n",
    ")"
   ]
  },
  {
   "cell_type": "code",
   "execution_count": 258,
   "metadata": {},
   "outputs": [],
   "source": [
    "prompt_template = \"\"\"Write a concise summary of the following:\n",
    "{text}\n",
    "CONCISE SUMMARY:\"\"\"\n",
    "prompt = PromptTemplate.from_template(prompt_template)\n",
    "\n",
    "refine_template = (\n",
    "    \"Your job is to produce a final summary\\n\"\n",
    "    \"We have provided an existing summary up to a certain point: {existing_answer}\\n\"\n",
    "    \"We have the opportunity to refine the existing summary\"\n",
    "    \"(only if needed) with some more context below.\\n\"\n",
    "    \"------------\\n\"\n",
    "    \"{text}\\n\"\n",
    "    \"------------\\n\"\n",
    "    \"Given the new context, refine the original summary in English.\\n\"\n",
    "    \"If the context isn't useful, return the original summary.\"\n",
    ")\n",
    "refine_prompt = PromptTemplate.from_template(refine_template)\n",
    "\n",
    "chain = load_summarize_chain(\n",
    "    llm=llm,\n",
    "    chain_type=\"refine\",\n",
    "    question_prompt=prompt,\n",
    "    refine_prompt=refine_prompt,\n",
    "    return_intermediate_steps=True,\n",
    "    input_key=\"input_documents\",\n",
    "    output_key=\"output_text\",\n",
    ")\n",
    "result = chain({\"input_documents\": docs}, return_only_outputs=True)"
   ]
  },
  {
   "cell_type": "code",
   "execution_count": 259,
   "metadata": {},
   "outputs": [
    {
     "name": "stdout",
     "output_type": "stream",
     "text": [
      " Reboot Conseil, founded in 2020, is an innovative IT and methodology consulting firm dedicated to disrupting the competitive IT industry. With a commitment to improving their environment and ecosystem, they prioritize transparency, collaboration, innovation, learning, and transmission as their core values. Led by Yaniv Adjadj, the experienced CEO, Reboot Conseil emphasizes mentorship over management, empowering individuals to make choices aligned with the collective and their aspirations. Their adaptable organizational structure evolves as the company grows, fostering trust and authenticity within the team.\n",
      "\n",
      "In a resilient sector despite economic challenges, Reboot Conseil stands out for its exceptional consulting services. Their vision is to surpass client expectations and deliver outstanding service, driven by their passion for their work. Their ambition is to establish a long-lasting company with strong values, providing value to clients, fostering internal innovation, and contributing to global improvement through non-profit projects.\n",
      "\n",
      "This ambitious endeavor requires substantial human and financial resources, making it a dream that drives their every action. Each team member contributes uniquely to building something significant. Under the guidance of Pierre-Marie Courant, the Director of Human Resources, Reboot Conseil cultivates a supportive and inclusive work environment that values personal growth and development.\n",
      "\n",
      "Oriane Bischwiller, the Sales Director, brings extensive experience in the IT industry to Reboot Conseil. Her passion for connecting with talented individuals and building meaningful relationships aligns perfectly with the company's values. With over seven years of experience in recruitment and sales, Oriane is known for her positive attitude and dedication to building projects from the ground up.\n",
      "\n",
      "Ahmed Zahri, the Vice President of Engineering, contributes a wealth of experience in engineering and innovation. Driven by his passion for methodologies and technologies, Ahmed aims to create environments where individuals can thrive and reach their full potential. With over 8 years of experience as a developer and Tech Lead, he consistently strives to deliver value to clients and users.\n",
      "\n",
      "At Reboot Conseil, learning and transmission are highly valued. Operating in a constantly evolving industry, they embrace new discoveries and share knowledge as essential drivers of innovation and creativity. They believe that their differences fuel innovation and creativity, allowing them to challenge themselves and create unique solutions.\n",
      "\n",
      "Transparency is a core principle at Reboot Conseil. Internally, all meetings are open, financial figures are accessible, and salaries are transparent. Externally, they share as much information as possible with the public.\n",
      "\n",
      "Their goal is to create a work environment where employees enjoy coming to work and leave with a sense of accomplishment. Recognizing that a significant portion of life is spent at work, they strive to make it an enjoyable and fulfilling experience.\n",
      "\n",
      "In their pursuit of innovation and excellence, Reboot Conseil has embraced the power of artificial intelligence (AI). They believe that AI has the potential to revolutionize various industries and are committed to making it accessible, understandable, and useful for everyone. Combining technical expertise with creativity, Reboot Conseil develops AI solutions that deliver real impact. Their team of experts collaborates to explore the potential of AI and build the future.\n"
     ]
    }
   ],
   "source": [
    "print(result[\"output_text\"])"
   ]
  },
  {
   "cell_type": "markdown",
   "metadata": {},
   "source": [
    "### Question answering chains"
   ]
  },
  {
   "cell_type": "code",
   "execution_count": 273,
   "metadata": {},
   "outputs": [
    {
     "data": {
      "text/plain": [
       "{'query': 'What does Reboot Conseil do?',\n",
       " 'result': ' Reboot Conseil is a company that specializes in IT consulting and methodology.'}"
      ]
     },
     "execution_count": 273,
     "metadata": {},
     "output_type": "execute_result"
    }
   ],
   "source": [
    "# let's build up on the previous example and add a similarity search\n",
    "db = FAISS.from_documents(docs, VertexAIEmbeddings())\n",
    "\n",
    "retriever = db.as_retriever()\n",
    "\n",
    "prompt_template = \"\"\"Use the following pieces of context to answer the question at the end. If you don't know the answer, just say that you don't know, don't try to make up an answer.\n",
    "\n",
    "{context}\n",
    "\n",
    "Question: {question}\n",
    "Helpful Answer:\"\"\"\n",
    "PROMPT = PromptTemplate(\n",
    "    template=prompt_template, input_variables=[\"context\", \"question\"]\n",
    ")\n",
    "\n",
    "qa_chain = RetrievalQA.from_llm(llm=llm, retriever=retriever)\n",
    "\n",
    "question = \"What does Reboot Conseil do?\"\n",
    "qa_chain({\"query\": question})"
   ]
  },
  {
   "cell_type": "code",
   "execution_count": 274,
   "metadata": {},
   "outputs": [
    {
     "data": {
      "text/plain": [
       "{'query': 'What does Reboot Conseil AI squad do?',\n",
       " 'result': ' Reboot Conseil AI squad develops and designs AI-based solutions, provides AI consulting services, and offers training and education programs to help individuals and organizations understand and utilize AI effectively.'}"
      ]
     },
     "execution_count": 274,
     "metadata": {},
     "output_type": "execute_result"
    }
   ],
   "source": [
    "question = \"What does Reboot Conseil AI squad do?\"\n",
    "qa_chain({\"query\": question})"
   ]
  }
 ],
 "metadata": {
  "kernelspec": {
   "display_name": "Python 3",
   "language": "python",
   "name": "python3"
  },
  "language_info": {
   "codemirror_mode": {
    "name": "ipython",
    "version": 3
   },
   "file_extension": ".py",
   "mimetype": "text/x-python",
   "name": "python",
   "nbconvert_exporter": "python",
   "pygments_lexer": "ipython3",
   "version": "3.10.12"
  }
 },
 "nbformat": 4,
 "nbformat_minor": 2
}
