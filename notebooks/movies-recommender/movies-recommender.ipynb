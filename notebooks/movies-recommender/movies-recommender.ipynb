{
 "cells": [
  {
   "cell_type": "code",
   "execution_count": null,
   "metadata": {},
   "outputs": [],
   "source": [
    "# running this on Ubuntu\n",
    "# !sudo apt install python3-pip\n",
    "# !pip install fastai"
   ]
  },
  {
   "cell_type": "code",
   "execution_count": null,
   "metadata": {},
   "outputs": [],
   "source": [
    "# importing the right fastai libraries\n",
    "from fastai.tabular.all import *\n",
    "from fastai.collab import *"
   ]
  },
  {
   "cell_type": "code",
   "execution_count": null,
   "metadata": {},
   "outputs": [],
   "source": [
    "# getting the MovieLens dataset\n",
    "path = untar_data(URLs.ML_SAMPLE)"
   ]
  },
  {
   "cell_type": "code",
   "execution_count": null,
   "metadata": {},
   "outputs": [],
   "source": [
    "# load the data, create and learner and train it\n",
    "dls = CollabDataLoaders.from_csv(path/'ratings.csv')\n",
    "# y_range param is used to specify the range of possible ratings in the collaborative filtering model\n",
    "learn = collab_learner(dls, y_range=(0.5,5.5))\n",
    "learn.fit_one_cycle(10)"
   ]
  },
  {
   "attachments": {},
   "cell_type": "markdown",
   "metadata": {},
   "source": [
    "The `y_range` parameter in the `collab_learner` function specifies the range of the ratings that the model should predict. In this case, the range is set to `(0.5, 5.5)` which is slightly wider than the actual range of ratings (1 to 5). This is done to allow the model to predict ratings that are slightly outside the actual range, which can be useful in cases where the model is uncertain about the rating.\n",
    "\n",
    "For example, if the model predicts a rating of 5.2 for a movie, it means that the model is quite confident that the user will like the movie, but not completely certain. Similarly, if the model predicts a rating of 0.7 for a movie, it means that it's not completely certain of its prediction.\n",
    "\n",
    "By setting the `y_range` parameter to a slightly wider range, we allow the model to make these kinds of predictions."
   ]
  },
  {
   "cell_type": "code",
   "execution_count": null,
   "metadata": {},
   "outputs": [],
   "source": [
    "# let's see what we got here\n",
    "learn.show_results()"
   ]
  }
 ],
 "metadata": {
  "kernelspec": {
   "display_name": "Python 3",
   "language": "python",
   "name": "python3"
  },
  "language_info": {
   "codemirror_mode": {
    "name": "ipython",
    "version": 3
   },
   "file_extension": ".py",
   "mimetype": "text/x-python",
   "name": "python",
   "nbconvert_exporter": "python",
   "pygments_lexer": "ipython3",
   "version": "3.10.6"
  },
  "orig_nbformat": 4
 },
 "nbformat": 4,
 "nbformat_minor": 2
}
