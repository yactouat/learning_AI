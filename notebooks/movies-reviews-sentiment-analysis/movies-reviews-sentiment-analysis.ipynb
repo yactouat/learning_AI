{
 "cells": [
  {
   "attachments": {},
   "cell_type": "markdown",
   "metadata": {},
   "source": [
    "# Movies reviews sentiment analysis"
   ]
  },
  {
   "attachments": {},
   "cell_type": "markdown",
   "metadata": {},
   "source": [
    "WHETHER YOU RUN ON A LOUSY LAPTOP OR ON SOME HIGH-END VM ON THE CLOUD, THIS MAY TAKE A WHILE, GO GET YOURSELF A COFFEE."
   ]
  },
  {
   "cell_type": "code",
   "execution_count": null,
   "metadata": {},
   "outputs": [],
   "source": [
    "# you may have to get to load lots of dependencies before arriving to this point...\n",
    "# this may take a while\n",
    "!python3 -m pip install -U fastai"
   ]
  },
  {
   "cell_type": "code",
   "execution_count": null,
   "metadata": {},
   "outputs": [],
   "source": [
    "# not importing all of fastai because we are trying to be not noobs\n",
    "from fastai.text.all import TextDataLoaders, AWD_LSTM, accuracy, untar_data, text_classifier_learner, URLs\n",
    "\n",
    "# second parameter here means that the validation dataset is located in the 'test' folder \n",
    "dls = TextDataLoaders.from_folder(untar_data(URLs.IMDB), valid='test')\n",
    "\n",
    "# this will show tokenized text\n",
    "dls.show_batch(max_n=3)\n",
    "\n",
    "# 2nd param => here we are using an LSTM model trained with the IMDB dataset\n",
    "# 3rd param => using dropout regularization with a value of 0.5 to prevent overfitting the model (each neuron in a layer has a 50% chance of being ignored during training)\n",
    "# 4th param => accuracy can be defined here as `1.0 - error rate`\n",
    "learn = text_classifier_learner(dls, AWD_LSTM, drop_mult=0.5, metrics=accuracy)\n",
    "\n",
    "# 2nd param => setting the learning rate tp 1e-2 (0.01 or 1times10^-2))\n",
    "# this has been deemed a sufficient learning rate to avoid overcorrection or undercorrection\n",
    "learn.fine_tune(4, 1e-2)"
   ]
  },
  {
   "cell_type": "code",
   "execution_count": null,
   "metadata": {},
   "outputs": [],
   "source": [
    "learn.predict(\"I really liked that movie!\")\n",
    "\n",
    "# outputs something like ('pos', tensor(1), tensor([2.5454e-04, 9.9975e-01]))\n",
    "# `pos` (positive) would be the predicted sentiment of your review\n",
    "# `tensor(1)` is the index of of the predicted sentiment in the output tensor, the output tensor has 2 elements, one for each sentiment"
   ]
  },
  {
   "cell_type": "code",
   "execution_count": null,
   "metadata": {},
   "outputs": [],
   "source": [
    "learn.predict(\"They destroyed Lord of The Rings entirely with their expensive TV show\")\n",
    "# ('neg', tensor(0), tensor([0.8499, 0.1501]))"
   ]
  }
 ],
 "metadata": {
  "kernelspec": {
   "display_name": "Python 3",
   "language": "python",
   "name": "python3"
  },
  "language_info": {
   "codemirror_mode": {
    "name": "ipython",
    "version": 3
   },
   "file_extension": ".py",
   "mimetype": "text/x-python",
   "name": "python",
   "nbconvert_exporter": "python",
   "pygments_lexer": "ipython3",
   "version": "3.10.6"
  },
  "orig_nbformat": 4
 },
 "nbformat": 4,
 "nbformat_minor": 2
}
