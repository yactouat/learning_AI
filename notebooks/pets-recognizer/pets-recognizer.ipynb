{
 "cells": [
  {
   "attachments": {},
   "cell_type": "markdown",
   "id": "53f33b5c",
   "metadata": {},
   "source": [
    "## Pets recognizer"
   ]
  },
  {
   "attachments": {},
   "cell_type": "markdown",
   "id": "74c59e8c",
   "metadata": {},
   "source": [
    "CANNOT RUN ON MY LOUSY LAPTOP (16GB RAM, NO Nvidia GPU) "
   ]
  },
  {
   "cell_type": "code",
   "execution_count": null,
   "id": "3dbf8f6e",
   "metadata": {},
   "outputs": [],
   "source": [
    "!pip install -U fastai"
   ]
  },
  {
   "cell_type": "code",
   "execution_count": null,
   "id": "e0f02c9b",
   "metadata": {},
   "outputs": [],
   "source": [
    "from fastai.vision.all import *\n",
    "# `URLs.PETS` is a path to a dataset of images of cats and dogs that will be fetched from the Internet\n",
    "# TODO untar on local machine\n",
    "path = untar_data(URLs.PETS)/'images'"
   ]
  },
  {
   "cell_type": "code",
   "execution_count": null,
   "id": "9ef610a2",
   "metadata": {},
   "outputs": [],
   "source": [
    "# the boolean `is_cat` function defines conventionally that a cat is a file whose name starts with a capital letter\n",
    "def is_cat(x): return x[0].isupper()\n",
    "# the `from_name_func` means that the labels will be inferred from the filenames using the `is_cat` function\n",
    "dls = ImageDataLoaders.from_name_func(\n",
    "    path, get_image_files(path), valid_pct=0.2, seed=42,\n",
    "    label_func=is_cat, item_tfms=Resize(224), batch_tfms=aug_transforms())\n",
    "\n",
    "# resizing an image to be a 224x224 square is a common practice in computer vision\n",
    "# you can increase the size to get better results since the model will be able to see more details\n",
    "# but it will take more time and memory consumption during training\n",
    "\n",
    "dls.show_batch(max_n=9)"
   ]
  },
  {
   "cell_type": "code",
   "execution_count": null,
   "id": "dbdc6e47",
   "metadata": {},
   "outputs": [],
   "source": [
    "# you should get yourself a cup or coffee or run that on a GPU for faster training\n",
    "learn = vision_learner(dls, resnet34, metrics=error_rate)\n",
    "learn.fine_tune(1)"
   ]
  },
  {
   "cell_type": "code",
   "execution_count": null,
   "id": "4142a021",
   "metadata": {},
   "outputs": [],
   "source": [
    "# Import the file uploader module\n",
    "import ipywidgets as widgets\n",
    "widgets.FileUpload()\n",
    "display(uploader)"
   ]
  },
  {
   "cell_type": "code",
   "execution_count": null,
   "id": "a929e918",
   "metadata": {},
   "outputs": [],
   "source": [
    "# confirm the contents of the uploaded file\n",
    "uploader.value"
   ]
  },
  {
   "cell_type": "code",
   "execution_count": null,
   "id": "246d7c7f",
   "metadata": {},
   "outputs": [],
   "source": [
    "# resize the uploaded images before prediction\n",
    "uploaded_file = uploader.value[0]\n",
    "is_cat_img = PILImage.create(uploaded_file.content.tobytes())\n",
    "is_cat_img.to_thumb(192)"
   ]
  },
  {
   "cell_type": "code",
   "execution_count": null,
   "id": "e61c9f68",
   "metadata": {},
   "outputs": [],
   "source": [
    "# see the result\n",
    "is_a_cat,_,probs = learn.predict(is_cat_img)\n",
    "print(f\"This is a: {is_a_cat}.\")\n",
    "print(f\"Probability it's a cat: {probs[0]:.4f}\")\n"
   ]
  }
 ],
 "metadata": {
  "environment": {
   "kernel": "python3",
   "name": "pytorch-gpu.1-13.m107",
   "type": "gcloud",
   "uri": "gcr.io/deeplearning-platform-release/pytorch-gpu.1-13:m107"
  },
  "kernelspec": {
   "display_name": "Python 3",
   "language": "python",
   "name": "python3"
  },
  "language_info": {
   "codemirror_mode": {
    "name": "ipython",
    "version": 3
   },
   "file_extension": ".py",
   "mimetype": "text/x-python",
   "name": "python",
   "nbconvert_exporter": "python",
   "pygments_lexer": "ipython3",
   "version": "3.7.12"
  }
 },
 "nbformat": 4,
 "nbformat_minor": 5
}
